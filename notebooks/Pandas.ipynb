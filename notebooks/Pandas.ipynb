{
 "cells": [
  {
   "cell_type": "code",
   "execution_count": 3,
   "metadata": {
    "ExecuteTime": {
     "end_time": "2019-08-01T10:05:09.619898Z",
     "start_time": "2019-08-01T10:05:09.131745Z"
    }
   },
   "outputs": [
    {
     "data": {
      "text/html": [
       "<style>.container { width:100%; }</style>"
      ],
      "text/plain": [
       "<IPython.core.display.HTML object>"
      ]
     },
     "metadata": {},
     "output_type": "display_data"
    },
    {
     "data": {
      "text/html": [
       "\n",
       "    <div class=\"bk-root\">\n",
       "        <a href=\"https://bokeh.pydata.org\" target=\"_blank\" class=\"bk-logo bk-logo-small bk-logo-notebook\"></a>\n",
       "        <span id=\"1001\">Loading BokehJS ...</span>\n",
       "    </div>"
      ]
     },
     "metadata": {},
     "output_type": "display_data"
    },
    {
     "data": {
      "application/javascript": [
       "\n",
       "(function(root) {\n",
       "  function now() {\n",
       "    return new Date();\n",
       "  }\n",
       "\n",
       "  var force = true;\n",
       "\n",
       "  if (typeof root._bokeh_onload_callbacks === \"undefined\" || force === true) {\n",
       "    root._bokeh_onload_callbacks = [];\n",
       "    root._bokeh_is_loading = undefined;\n",
       "  }\n",
       "\n",
       "  var JS_MIME_TYPE = 'application/javascript';\n",
       "  var HTML_MIME_TYPE = 'text/html';\n",
       "  var EXEC_MIME_TYPE = 'application/vnd.bokehjs_exec.v0+json';\n",
       "  var CLASS_NAME = 'output_bokeh rendered_html';\n",
       "\n",
       "  /**\n",
       "   * Render data to the DOM node\n",
       "   */\n",
       "  function render(props, node) {\n",
       "    var script = document.createElement(\"script\");\n",
       "    node.appendChild(script);\n",
       "  }\n",
       "\n",
       "  /**\n",
       "   * Handle when an output is cleared or removed\n",
       "   */\n",
       "  function handleClearOutput(event, handle) {\n",
       "    var cell = handle.cell;\n",
       "\n",
       "    var id = cell.output_area._bokeh_element_id;\n",
       "    var server_id = cell.output_area._bokeh_server_id;\n",
       "    // Clean up Bokeh references\n",
       "    if (id != null && id in Bokeh.index) {\n",
       "      Bokeh.index[id].model.document.clear();\n",
       "      delete Bokeh.index[id];\n",
       "    }\n",
       "\n",
       "    if (server_id !== undefined) {\n",
       "      // Clean up Bokeh references\n",
       "      var cmd = \"from bokeh.io.state import curstate; print(curstate().uuid_to_server['\" + server_id + \"'].get_sessions()[0].document.roots[0]._id)\";\n",
       "      cell.notebook.kernel.execute(cmd, {\n",
       "        iopub: {\n",
       "          output: function(msg) {\n",
       "            var id = msg.content.text.trim();\n",
       "            if (id in Bokeh.index) {\n",
       "              Bokeh.index[id].model.document.clear();\n",
       "              delete Bokeh.index[id];\n",
       "            }\n",
       "          }\n",
       "        }\n",
       "      });\n",
       "      // Destroy server and session\n",
       "      var cmd = \"import bokeh.io.notebook as ion; ion.destroy_server('\" + server_id + \"')\";\n",
       "      cell.notebook.kernel.execute(cmd);\n",
       "    }\n",
       "  }\n",
       "\n",
       "  /**\n",
       "   * Handle when a new output is added\n",
       "   */\n",
       "  function handleAddOutput(event, handle) {\n",
       "    var output_area = handle.output_area;\n",
       "    var output = handle.output;\n",
       "\n",
       "    // limit handleAddOutput to display_data with EXEC_MIME_TYPE content only\n",
       "    if ((output.output_type != \"display_data\") || (!output.data.hasOwnProperty(EXEC_MIME_TYPE))) {\n",
       "      return\n",
       "    }\n",
       "\n",
       "    var toinsert = output_area.element.find(\".\" + CLASS_NAME.split(' ')[0]);\n",
       "\n",
       "    if (output.metadata[EXEC_MIME_TYPE][\"id\"] !== undefined) {\n",
       "      toinsert[toinsert.length - 1].firstChild.textContent = output.data[JS_MIME_TYPE];\n",
       "      // store reference to embed id on output_area\n",
       "      output_area._bokeh_element_id = output.metadata[EXEC_MIME_TYPE][\"id\"];\n",
       "    }\n",
       "    if (output.metadata[EXEC_MIME_TYPE][\"server_id\"] !== undefined) {\n",
       "      var bk_div = document.createElement(\"div\");\n",
       "      bk_div.innerHTML = output.data[HTML_MIME_TYPE];\n",
       "      var script_attrs = bk_div.children[0].attributes;\n",
       "      for (var i = 0; i < script_attrs.length; i++) {\n",
       "        toinsert[toinsert.length - 1].firstChild.setAttribute(script_attrs[i].name, script_attrs[i].value);\n",
       "      }\n",
       "      // store reference to server id on output_area\n",
       "      output_area._bokeh_server_id = output.metadata[EXEC_MIME_TYPE][\"server_id\"];\n",
       "    }\n",
       "  }\n",
       "\n",
       "  function register_renderer(events, OutputArea) {\n",
       "\n",
       "    function append_mime(data, metadata, element) {\n",
       "      // create a DOM node to render to\n",
       "      var toinsert = this.create_output_subarea(\n",
       "        metadata,\n",
       "        CLASS_NAME,\n",
       "        EXEC_MIME_TYPE\n",
       "      );\n",
       "      this.keyboard_manager.register_events(toinsert);\n",
       "      // Render to node\n",
       "      var props = {data: data, metadata: metadata[EXEC_MIME_TYPE]};\n",
       "      render(props, toinsert[toinsert.length - 1]);\n",
       "      element.append(toinsert);\n",
       "      return toinsert\n",
       "    }\n",
       "\n",
       "    /* Handle when an output is cleared or removed */\n",
       "    events.on('clear_output.CodeCell', handleClearOutput);\n",
       "    events.on('delete.Cell', handleClearOutput);\n",
       "\n",
       "    /* Handle when a new output is added */\n",
       "    events.on('output_added.OutputArea', handleAddOutput);\n",
       "\n",
       "    /**\n",
       "     * Register the mime type and append_mime function with output_area\n",
       "     */\n",
       "    OutputArea.prototype.register_mime_type(EXEC_MIME_TYPE, append_mime, {\n",
       "      /* Is output safe? */\n",
       "      safe: true,\n",
       "      /* Index of renderer in `output_area.display_order` */\n",
       "      index: 0\n",
       "    });\n",
       "  }\n",
       "\n",
       "  // register the mime type if in Jupyter Notebook environment and previously unregistered\n",
       "  if (root.Jupyter !== undefined) {\n",
       "    var events = require('base/js/events');\n",
       "    var OutputArea = require('notebook/js/outputarea').OutputArea;\n",
       "\n",
       "    if (OutputArea.prototype.mime_types().indexOf(EXEC_MIME_TYPE) == -1) {\n",
       "      register_renderer(events, OutputArea);\n",
       "    }\n",
       "  }\n",
       "\n",
       "  \n",
       "  if (typeof (root._bokeh_timeout) === \"undefined\" || force === true) {\n",
       "    root._bokeh_timeout = Date.now() + 5000;\n",
       "    root._bokeh_failed_load = false;\n",
       "  }\n",
       "\n",
       "  var NB_LOAD_WARNING = {'data': {'text/html':\n",
       "     \"<div style='background-color: #fdd'>\\n\"+\n",
       "     \"<p>\\n\"+\n",
       "     \"BokehJS does not appear to have successfully loaded. If loading BokehJS from CDN, this \\n\"+\n",
       "     \"may be due to a slow or bad network connection. Possible fixes:\\n\"+\n",
       "     \"</p>\\n\"+\n",
       "     \"<ul>\\n\"+\n",
       "     \"<li>re-rerun `output_notebook()` to attempt to load from CDN again, or</li>\\n\"+\n",
       "     \"<li>use INLINE resources instead, as so:</li>\\n\"+\n",
       "     \"</ul>\\n\"+\n",
       "     \"<code>\\n\"+\n",
       "     \"from bokeh.resources import INLINE\\n\"+\n",
       "     \"output_notebook(resources=INLINE)\\n\"+\n",
       "     \"</code>\\n\"+\n",
       "     \"</div>\"}};\n",
       "\n",
       "  function display_loaded() {\n",
       "    var el = document.getElementById(\"1001\");\n",
       "    if (el != null) {\n",
       "      el.textContent = \"BokehJS is loading...\";\n",
       "    }\n",
       "    if (root.Bokeh !== undefined) {\n",
       "      if (el != null) {\n",
       "        el.textContent = \"BokehJS \" + root.Bokeh.version + \" successfully loaded.\";\n",
       "      }\n",
       "    } else if (Date.now() < root._bokeh_timeout) {\n",
       "      setTimeout(display_loaded, 100)\n",
       "    }\n",
       "  }\n",
       "\n",
       "\n",
       "  function run_callbacks() {\n",
       "    try {\n",
       "      root._bokeh_onload_callbacks.forEach(function(callback) {\n",
       "        if (callback != null)\n",
       "          callback();\n",
       "      });\n",
       "    } finally {\n",
       "      delete root._bokeh_onload_callbacks\n",
       "    }\n",
       "    console.debug(\"Bokeh: all callbacks have finished\");\n",
       "  }\n",
       "\n",
       "  function load_libs(css_urls, js_urls, callback) {\n",
       "    if (css_urls == null) css_urls = [];\n",
       "    if (js_urls == null) js_urls = [];\n",
       "\n",
       "    root._bokeh_onload_callbacks.push(callback);\n",
       "    if (root._bokeh_is_loading > 0) {\n",
       "      console.debug(\"Bokeh: BokehJS is being loaded, scheduling callback at\", now());\n",
       "      return null;\n",
       "    }\n",
       "    if (js_urls == null || js_urls.length === 0) {\n",
       "      run_callbacks();\n",
       "      return null;\n",
       "    }\n",
       "    console.debug(\"Bokeh: BokehJS not loaded, scheduling load and callback at\", now());\n",
       "    root._bokeh_is_loading = css_urls.length + js_urls.length;\n",
       "\n",
       "    function on_load() {\n",
       "      root._bokeh_is_loading--;\n",
       "      if (root._bokeh_is_loading === 0) {\n",
       "        console.debug(\"Bokeh: all BokehJS libraries/stylesheets loaded\");\n",
       "        run_callbacks()\n",
       "      }\n",
       "    }\n",
       "\n",
       "    function on_error() {\n",
       "      console.error(\"failed to load \" + url);\n",
       "    }\n",
       "\n",
       "    for (var i = 0; i < css_urls.length; i++) {\n",
       "      var url = css_urls[i];\n",
       "      const element = document.createElement(\"link\");\n",
       "      element.onload = on_load;\n",
       "      element.onerror = on_error;\n",
       "      element.rel = \"stylesheet\";\n",
       "      element.type = \"text/css\";\n",
       "      element.href = url;\n",
       "      console.debug(\"Bokeh: injecting link tag for BokehJS stylesheet: \", url);\n",
       "      document.body.appendChild(element);\n",
       "    }\n",
       "\n",
       "    for (var i = 0; i < js_urls.length; i++) {\n",
       "      var url = js_urls[i];\n",
       "      var element = document.createElement('script');\n",
       "      element.onload = on_load;\n",
       "      element.onerror = on_error;\n",
       "      element.async = false;\n",
       "      element.src = url;\n",
       "      console.debug(\"Bokeh: injecting script tag for BokehJS library: \", url);\n",
       "      document.head.appendChild(element);\n",
       "    }\n",
       "  };var element = document.getElementById(\"1001\");\n",
       "  if (element == null) {\n",
       "    console.error(\"Bokeh: ERROR: autoload.js configured with elementid '1001' but no matching script tag was found. \")\n",
       "    return false;\n",
       "  }\n",
       "\n",
       "  function inject_raw_css(css) {\n",
       "    const element = document.createElement(\"style\");\n",
       "    element.appendChild(document.createTextNode(css));\n",
       "    document.body.appendChild(element);\n",
       "  }\n",
       "\n",
       "  var js_urls = [\"https://cdn.pydata.org/bokeh/release/bokeh-1.2.0.min.js\", \"https://cdn.pydata.org/bokeh/release/bokeh-widgets-1.2.0.min.js\", \"https://cdn.pydata.org/bokeh/release/bokeh-tables-1.2.0.min.js\", \"https://cdn.pydata.org/bokeh/release/bokeh-gl-1.2.0.min.js\"];\n",
       "  var css_urls = [\"https://cdn.pydata.org/bokeh/release/bokeh-1.2.0.min.css\", \"https://cdn.pydata.org/bokeh/release/bokeh-widgets-1.2.0.min.css\", \"https://cdn.pydata.org/bokeh/release/bokeh-tables-1.2.0.min.css\"];\n",
       "\n",
       "  var inline_js = [\n",
       "    function(Bokeh) {\n",
       "      Bokeh.set_log_level(\"info\");\n",
       "    },\n",
       "    \n",
       "    function(Bokeh) {\n",
       "      \n",
       "    },\n",
       "    function(Bokeh) {} // ensure no trailing comma for IE\n",
       "  ];\n",
       "\n",
       "  function run_inline_js() {\n",
       "    \n",
       "    if ((root.Bokeh !== undefined) || (force === true)) {\n",
       "      for (var i = 0; i < inline_js.length; i++) {\n",
       "        inline_js[i].call(root, root.Bokeh);\n",
       "      }if (force === true) {\n",
       "        display_loaded();\n",
       "      }} else if (Date.now() < root._bokeh_timeout) {\n",
       "      setTimeout(run_inline_js, 100);\n",
       "    } else if (!root._bokeh_failed_load) {\n",
       "      console.log(\"Bokeh: BokehJS failed to load within specified timeout.\");\n",
       "      root._bokeh_failed_load = true;\n",
       "    } else if (force !== true) {\n",
       "      var cell = $(document.getElementById(\"1001\")).parents('.cell').data().cell;\n",
       "      cell.output_area.append_execute_result(NB_LOAD_WARNING)\n",
       "    }\n",
       "\n",
       "  }\n",
       "\n",
       "  if (root._bokeh_is_loading === 0) {\n",
       "    console.debug(\"Bokeh: BokehJS loaded, going straight to plotting\");\n",
       "    run_inline_js();\n",
       "  } else {\n",
       "    load_libs(css_urls, js_urls, function() {\n",
       "      console.debug(\"Bokeh: BokehJS plotting callback run at\", now());\n",
       "      run_inline_js();\n",
       "    });\n",
       "  }\n",
       "}(window));"
      ],
      "application/vnd.bokehjs_load.v0+json": "\n(function(root) {\n  function now() {\n    return new Date();\n  }\n\n  var force = true;\n\n  if (typeof root._bokeh_onload_callbacks === \"undefined\" || force === true) {\n    root._bokeh_onload_callbacks = [];\n    root._bokeh_is_loading = undefined;\n  }\n\n  \n\n  \n  if (typeof (root._bokeh_timeout) === \"undefined\" || force === true) {\n    root._bokeh_timeout = Date.now() + 5000;\n    root._bokeh_failed_load = false;\n  }\n\n  var NB_LOAD_WARNING = {'data': {'text/html':\n     \"<div style='background-color: #fdd'>\\n\"+\n     \"<p>\\n\"+\n     \"BokehJS does not appear to have successfully loaded. If loading BokehJS from CDN, this \\n\"+\n     \"may be due to a slow or bad network connection. Possible fixes:\\n\"+\n     \"</p>\\n\"+\n     \"<ul>\\n\"+\n     \"<li>re-rerun `output_notebook()` to attempt to load from CDN again, or</li>\\n\"+\n     \"<li>use INLINE resources instead, as so:</li>\\n\"+\n     \"</ul>\\n\"+\n     \"<code>\\n\"+\n     \"from bokeh.resources import INLINE\\n\"+\n     \"output_notebook(resources=INLINE)\\n\"+\n     \"</code>\\n\"+\n     \"</div>\"}};\n\n  function display_loaded() {\n    var el = document.getElementById(\"1001\");\n    if (el != null) {\n      el.textContent = \"BokehJS is loading...\";\n    }\n    if (root.Bokeh !== undefined) {\n      if (el != null) {\n        el.textContent = \"BokehJS \" + root.Bokeh.version + \" successfully loaded.\";\n      }\n    } else if (Date.now() < root._bokeh_timeout) {\n      setTimeout(display_loaded, 100)\n    }\n  }\n\n\n  function run_callbacks() {\n    try {\n      root._bokeh_onload_callbacks.forEach(function(callback) {\n        if (callback != null)\n          callback();\n      });\n    } finally {\n      delete root._bokeh_onload_callbacks\n    }\n    console.debug(\"Bokeh: all callbacks have finished\");\n  }\n\n  function load_libs(css_urls, js_urls, callback) {\n    if (css_urls == null) css_urls = [];\n    if (js_urls == null) js_urls = [];\n\n    root._bokeh_onload_callbacks.push(callback);\n    if (root._bokeh_is_loading > 0) {\n      console.debug(\"Bokeh: BokehJS is being loaded, scheduling callback at\", now());\n      return null;\n    }\n    if (js_urls == null || js_urls.length === 0) {\n      run_callbacks();\n      return null;\n    }\n    console.debug(\"Bokeh: BokehJS not loaded, scheduling load and callback at\", now());\n    root._bokeh_is_loading = css_urls.length + js_urls.length;\n\n    function on_load() {\n      root._bokeh_is_loading--;\n      if (root._bokeh_is_loading === 0) {\n        console.debug(\"Bokeh: all BokehJS libraries/stylesheets loaded\");\n        run_callbacks()\n      }\n    }\n\n    function on_error() {\n      console.error(\"failed to load \" + url);\n    }\n\n    for (var i = 0; i < css_urls.length; i++) {\n      var url = css_urls[i];\n      const element = document.createElement(\"link\");\n      element.onload = on_load;\n      element.onerror = on_error;\n      element.rel = \"stylesheet\";\n      element.type = \"text/css\";\n      element.href = url;\n      console.debug(\"Bokeh: injecting link tag for BokehJS stylesheet: \", url);\n      document.body.appendChild(element);\n    }\n\n    for (var i = 0; i < js_urls.length; i++) {\n      var url = js_urls[i];\n      var element = document.createElement('script');\n      element.onload = on_load;\n      element.onerror = on_error;\n      element.async = false;\n      element.src = url;\n      console.debug(\"Bokeh: injecting script tag for BokehJS library: \", url);\n      document.head.appendChild(element);\n    }\n  };var element = document.getElementById(\"1001\");\n  if (element == null) {\n    console.error(\"Bokeh: ERROR: autoload.js configured with elementid '1001' but no matching script tag was found. \")\n    return false;\n  }\n\n  function inject_raw_css(css) {\n    const element = document.createElement(\"style\");\n    element.appendChild(document.createTextNode(css));\n    document.body.appendChild(element);\n  }\n\n  var js_urls = [\"https://cdn.pydata.org/bokeh/release/bokeh-1.2.0.min.js\", \"https://cdn.pydata.org/bokeh/release/bokeh-widgets-1.2.0.min.js\", \"https://cdn.pydata.org/bokeh/release/bokeh-tables-1.2.0.min.js\", \"https://cdn.pydata.org/bokeh/release/bokeh-gl-1.2.0.min.js\"];\n  var css_urls = [\"https://cdn.pydata.org/bokeh/release/bokeh-1.2.0.min.css\", \"https://cdn.pydata.org/bokeh/release/bokeh-widgets-1.2.0.min.css\", \"https://cdn.pydata.org/bokeh/release/bokeh-tables-1.2.0.min.css\"];\n\n  var inline_js = [\n    function(Bokeh) {\n      Bokeh.set_log_level(\"info\");\n    },\n    \n    function(Bokeh) {\n      \n    },\n    function(Bokeh) {} // ensure no trailing comma for IE\n  ];\n\n  function run_inline_js() {\n    \n    if ((root.Bokeh !== undefined) || (force === true)) {\n      for (var i = 0; i < inline_js.length; i++) {\n        inline_js[i].call(root, root.Bokeh);\n      }if (force === true) {\n        display_loaded();\n      }} else if (Date.now() < root._bokeh_timeout) {\n      setTimeout(run_inline_js, 100);\n    } else if (!root._bokeh_failed_load) {\n      console.log(\"Bokeh: BokehJS failed to load within specified timeout.\");\n      root._bokeh_failed_load = true;\n    } else if (force !== true) {\n      var cell = $(document.getElementById(\"1001\")).parents('.cell').data().cell;\n      cell.output_area.append_execute_result(NB_LOAD_WARNING)\n    }\n\n  }\n\n  if (root._bokeh_is_loading === 0) {\n    console.debug(\"Bokeh: BokehJS loaded, going straight to plotting\");\n    run_inline_js();\n  } else {\n    load_libs(css_urls, js_urls, function() {\n      console.debug(\"Bokeh: BokehJS plotting callback run at\", now());\n      run_inline_js();\n    });\n  }\n}(window));"
     },
     "metadata": {},
     "output_type": "display_data"
    }
   ],
   "source": [
    "import base64\n",
    "import bokeh\n",
    "import collections\n",
    "import hashlib\n",
    "import json\n",
    "import IPython\n",
    "import pandas as pd\n",
    "import math\n",
    "import matplotlib\n",
    "import matplotlib.cm as cm\n",
    "import matplotlib.gridspec as gridspec\n",
    "import matplotlib.pyplot as plt\n",
    "import matplotlib.colors as pltcolors\n",
    "import networkx as nx\n",
    "import numpy as np\n",
    "import os\n",
    "import scipy\n",
    "import seaborn as sns\n",
    "import sys\n",
    "import unicodedata\n",
    "\n",
    "from bokeh.io import output_notebook, show\n",
    "from bokeh.models import LinearAxis, Range1d, HoverTool, PanTool, ResetTool, WheelZoomTool, CrosshairTool, BoxZoomTool\n",
    "from bokeh.plotting import figure as bokeh_figure\n",
    "from bokeh.plotting import ColumnDataSource\n",
    "\n",
    "from bs4 import BeautifulSoup\n",
    "from matplotlib.backends.backend_pdf import PdfPages\n",
    "from math import radians, cos, sin, asin, sqrt\n",
    "from multiprocessing import Pool\n",
    "from pprint import pprint\n",
    "from shapely.geometry import Point, LineString, mapping\n",
    "from time import time\n",
    "\n",
    "from scipy.fftpack import fft, ifft, ifft2\n",
    "\n",
    "from IPython.display import display, display_png, display_html\n",
    "from IPython.core.display import HTML, Javascript\n",
    "from IPython.display import Image\n",
    "\n",
    "\n",
    "IPython.display.display(IPython.display.HTML(\"<style>.container { width:100%; }</style>\"))\n",
    "\n",
    "%config InlineBackend.figure_format = 'retina'\n",
    "%matplotlib inline\n",
    "\n",
    "output_notebook()"
   ]
  },
  {
   "cell_type": "code",
   "execution_count": 4,
   "metadata": {
    "ExecuteTime": {
     "end_time": "2019-08-01T10:05:11.313560Z",
     "start_time": "2019-08-01T10:05:11.303571Z"
    }
   },
   "outputs": [
    {
     "data": {
      "text/html": [
       "<center><img src=\"https://d397xw3titc834.cloudfront.net/images/original/3/10/310c1e90cdf5e7c22e741ca0fa09d2a3.jpg\" width=\"480\" height=\"360\" /></center>\n"
      ],
      "text/plain": [
       "<IPython.core.display.HTML object>"
      ]
     },
     "metadata": {},
     "output_type": "display_data"
    }
   ],
   "source": [
    "%%html\n",
    "<center><img src=\"https://d397xw3titc834.cloudfront.net/images/original/3/10/310c1e90cdf5e7c22e741ca0fa09d2a3.jpg\" width=\"480\" height=\"360\" /></center>"
   ]
  },
  {
   "cell_type": "markdown",
   "metadata": {},
   "source": [
    "# Pandas - Data Analysis Tool http://pandas.pydata.org/"
   ]
  },
  {
   "cell_type": "markdown",
   "metadata": {},
   "source": [
    "L'objectif de Pandas est de fournir une toolbox permettant l'analyse et la représentation de différentes sources de données (fichier CSV, Excel, etc.) de manière efficace en offrant des méthodes performantes pour manipuler ces données."
   ]
  },
  {
   "cell_type": "markdown",
   "metadata": {},
   "source": [
    "## Concept"
   ]
  },
  {
   "cell_type": "markdown",
   "metadata": {
    "collapsed": true
   },
   "source": [
    "L'objet principal dans Pandas est le Dataframe, un \"tableau\" composé essentiellement de 3 parties,\n",
    "\n",
    "- des colonnes (modélisées par des objets pandas.Series)\n",
    "- des lignes (records)\n",
    "- un système d'indexation des lignes permettant d'effectuer des filtres / sélections de manière performante"
   ]
  },
  {
   "cell_type": "markdown",
   "metadata": {},
   "source": [
    "## Premiers pas..."
   ]
  },
  {
   "cell_type": "markdown",
   "metadata": {},
   "source": [
    "On peut facilement créer un Dataframe directement à partir d'un fichier `csv` en utilisant la fonction `read_csv()` (https://pandas.pydata.org/pandas-docs/stable/generated/pandas.read_csv.html#pandas-read-csv)."
   ]
  },
  {
   "cell_type": "markdown",
   "metadata": {},
   "source": [
    "Les premières lignes (par défaut 5) du Dataframe peuvent être affichées facilement en utilisant la fonction `head()`"
   ]
  },
  {
   "cell_type": "code",
   "execution_count": 6,
   "metadata": {
    "ExecuteTime": {
     "end_time": "2019-08-01T10:06:13.332716Z",
     "start_time": "2019-08-01T10:06:13.295853Z"
    }
   },
   "outputs": [],
   "source": [
    "df = pd.read_csv('./ressources/flights.csv')"
   ]
  },
  {
   "cell_type": "code",
   "execution_count": 7,
   "metadata": {
    "ExecuteTime": {
     "end_time": "2019-08-01T10:06:14.108731Z",
     "start_time": "2019-08-01T10:06:14.094807Z"
    }
   },
   "outputs": [
    {
     "data": {
      "text/html": [
       "<div>\n",
       "<style scoped>\n",
       "    .dataframe tbody tr th:only-of-type {\n",
       "        vertical-align: middle;\n",
       "    }\n",
       "\n",
       "    .dataframe tbody tr th {\n",
       "        vertical-align: top;\n",
       "    }\n",
       "\n",
       "    .dataframe thead th {\n",
       "        text-align: right;\n",
       "    }\n",
       "</style>\n",
       "<table border=\"1\" class=\"dataframe\">\n",
       "  <thead>\n",
       "    <tr style=\"text-align: right;\">\n",
       "      <th></th>\n",
       "      <th>DepLat;DepLon;ArrLat;ArrLon;NbFlights;CO2Intensity</th>\n",
       "    </tr>\n",
       "  </thead>\n",
       "  <tbody>\n",
       "    <tr>\n",
       "      <th>0</th>\n",
       "      <td>33.50472;126.4931;37.55833;126.7906;88;103.555...</td>\n",
       "    </tr>\n",
       "    <tr>\n",
       "      <th>1</th>\n",
       "      <td>37.55833;126.7906;33.50472;126.4931;84;99.4924...</td>\n",
       "    </tr>\n",
       "    <tr>\n",
       "      <th>2</th>\n",
       "      <td>-37.67333;144.8433;-33.94611;151.1772;83;79.57...</td>\n",
       "    </tr>\n",
       "    <tr>\n",
       "      <th>3</th>\n",
       "      <td>-33.94611;151.1772;-37.67333;144.8433;83;82.89...</td>\n",
       "    </tr>\n",
       "    <tr>\n",
       "      <th>4</th>\n",
       "      <td>4.191944;73.52917;3.47;72.83;77;23.10000092</td>\n",
       "    </tr>\n",
       "  </tbody>\n",
       "</table>\n",
       "</div>"
      ],
      "text/plain": [
       "  DepLat;DepLon;ArrLat;ArrLon;NbFlights;CO2Intensity\n",
       "0  33.50472;126.4931;37.55833;126.7906;88;103.555...\n",
       "1  37.55833;126.7906;33.50472;126.4931;84;99.4924...\n",
       "2  -37.67333;144.8433;-33.94611;151.1772;83;79.57...\n",
       "3  -33.94611;151.1772;-37.67333;144.8433;83;82.89...\n",
       "4        4.191944;73.52917;3.47;72.83;77;23.10000092"
      ]
     },
     "execution_count": 7,
     "metadata": {},
     "output_type": "execute_result"
    }
   ],
   "source": [
    "df.head()"
   ]
  },
  {
   "cell_type": "code",
   "execution_count": 8,
   "metadata": {
    "ExecuteTime": {
     "end_time": "2019-08-01T10:06:14.703528Z",
     "start_time": "2019-08-01T10:06:14.669974Z"
    }
   },
   "outputs": [],
   "source": [
    "df = pd.read_csv('./ressources/flights.csv', sep=';')"
   ]
  },
  {
   "cell_type": "code",
   "execution_count": 9,
   "metadata": {
    "ExecuteTime": {
     "end_time": "2019-08-01T10:06:15.079537Z",
     "start_time": "2019-08-01T10:06:15.066782Z"
    }
   },
   "outputs": [
    {
     "data": {
      "text/html": [
       "<div>\n",
       "<style scoped>\n",
       "    .dataframe tbody tr th:only-of-type {\n",
       "        vertical-align: middle;\n",
       "    }\n",
       "\n",
       "    .dataframe tbody tr th {\n",
       "        vertical-align: top;\n",
       "    }\n",
       "\n",
       "    .dataframe thead th {\n",
       "        text-align: right;\n",
       "    }\n",
       "</style>\n",
       "<table border=\"1\" class=\"dataframe\">\n",
       "  <thead>\n",
       "    <tr style=\"text-align: right;\">\n",
       "      <th></th>\n",
       "      <th>DepLat</th>\n",
       "      <th>DepLon</th>\n",
       "      <th>ArrLat</th>\n",
       "      <th>ArrLon</th>\n",
       "      <th>NbFlights</th>\n",
       "      <th>CO2Intensity</th>\n",
       "    </tr>\n",
       "  </thead>\n",
       "  <tbody>\n",
       "    <tr>\n",
       "      <th>0</th>\n",
       "      <td>33.504720</td>\n",
       "      <td>126.49310</td>\n",
       "      <td>37.55833</td>\n",
       "      <td>126.7906</td>\n",
       "      <td>88</td>\n",
       "      <td>103.555930</td>\n",
       "    </tr>\n",
       "    <tr>\n",
       "      <th>1</th>\n",
       "      <td>37.558330</td>\n",
       "      <td>126.79060</td>\n",
       "      <td>33.50472</td>\n",
       "      <td>126.4931</td>\n",
       "      <td>84</td>\n",
       "      <td>99.492429</td>\n",
       "    </tr>\n",
       "    <tr>\n",
       "      <th>2</th>\n",
       "      <td>-37.673330</td>\n",
       "      <td>144.84330</td>\n",
       "      <td>-33.94611</td>\n",
       "      <td>151.1772</td>\n",
       "      <td>83</td>\n",
       "      <td>79.571319</td>\n",
       "    </tr>\n",
       "    <tr>\n",
       "      <th>3</th>\n",
       "      <td>-33.946110</td>\n",
       "      <td>151.17720</td>\n",
       "      <td>-37.67333</td>\n",
       "      <td>144.8433</td>\n",
       "      <td>83</td>\n",
       "      <td>82.895090</td>\n",
       "    </tr>\n",
       "    <tr>\n",
       "      <th>4</th>\n",
       "      <td>4.191944</td>\n",
       "      <td>73.52917</td>\n",
       "      <td>3.47000</td>\n",
       "      <td>72.8300</td>\n",
       "      <td>77</td>\n",
       "      <td>23.100001</td>\n",
       "    </tr>\n",
       "  </tbody>\n",
       "</table>\n",
       "</div>"
      ],
      "text/plain": [
       "      DepLat     DepLon    ArrLat    ArrLon  NbFlights  CO2Intensity\n",
       "0  33.504720  126.49310  37.55833  126.7906         88    103.555930\n",
       "1  37.558330  126.79060  33.50472  126.4931         84     99.492429\n",
       "2 -37.673330  144.84330 -33.94611  151.1772         83     79.571319\n",
       "3 -33.946110  151.17720 -37.67333  144.8433         83     82.895090\n",
       "4   4.191944   73.52917   3.47000   72.8300         77     23.100001"
      ]
     },
     "execution_count": 9,
     "metadata": {},
     "output_type": "execute_result"
    }
   ],
   "source": [
    "df.head()"
   ]
  },
  {
   "cell_type": "code",
   "execution_count": 10,
   "metadata": {
    "ExecuteTime": {
     "end_time": "2019-08-01T10:06:15.464749Z",
     "start_time": "2019-08-01T10:06:15.450694Z"
    }
   },
   "outputs": [
    {
     "data": {
      "text/html": [
       "<div>\n",
       "<style scoped>\n",
       "    .dataframe tbody tr th:only-of-type {\n",
       "        vertical-align: middle;\n",
       "    }\n",
       "\n",
       "    .dataframe tbody tr th {\n",
       "        vertical-align: top;\n",
       "    }\n",
       "\n",
       "    .dataframe thead th {\n",
       "        text-align: right;\n",
       "    }\n",
       "</style>\n",
       "<table border=\"1\" class=\"dataframe\">\n",
       "  <thead>\n",
       "    <tr style=\"text-align: right;\">\n",
       "      <th></th>\n",
       "      <th>DepLat</th>\n",
       "      <th>DepLon</th>\n",
       "      <th>ArrLat</th>\n",
       "      <th>ArrLon</th>\n",
       "      <th>NbFlights</th>\n",
       "      <th>CO2Intensity</th>\n",
       "    </tr>\n",
       "  </thead>\n",
       "  <tbody>\n",
       "    <tr>\n",
       "      <th>0</th>\n",
       "      <td>33.504720</td>\n",
       "      <td>126.49310</td>\n",
       "      <td>37.55833</td>\n",
       "      <td>126.7906</td>\n",
       "      <td>88</td>\n",
       "      <td>103.555930</td>\n",
       "    </tr>\n",
       "    <tr>\n",
       "      <th>1</th>\n",
       "      <td>37.558330</td>\n",
       "      <td>126.79060</td>\n",
       "      <td>33.50472</td>\n",
       "      <td>126.4931</td>\n",
       "      <td>84</td>\n",
       "      <td>99.492429</td>\n",
       "    </tr>\n",
       "    <tr>\n",
       "      <th>2</th>\n",
       "      <td>-37.673330</td>\n",
       "      <td>144.84330</td>\n",
       "      <td>-33.94611</td>\n",
       "      <td>151.1772</td>\n",
       "      <td>83</td>\n",
       "      <td>79.571319</td>\n",
       "    </tr>\n",
       "    <tr>\n",
       "      <th>3</th>\n",
       "      <td>-33.946110</td>\n",
       "      <td>151.17720</td>\n",
       "      <td>-37.67333</td>\n",
       "      <td>144.8433</td>\n",
       "      <td>83</td>\n",
       "      <td>82.895090</td>\n",
       "    </tr>\n",
       "    <tr>\n",
       "      <th>4</th>\n",
       "      <td>4.191944</td>\n",
       "      <td>73.52917</td>\n",
       "      <td>3.47000</td>\n",
       "      <td>72.8300</td>\n",
       "      <td>77</td>\n",
       "      <td>23.100001</td>\n",
       "    </tr>\n",
       "    <tr>\n",
       "      <th>5</th>\n",
       "      <td>25.077780</td>\n",
       "      <td>121.22390</td>\n",
       "      <td>22.30889</td>\n",
       "      <td>113.9147</td>\n",
       "      <td>62</td>\n",
       "      <td>113.739500</td>\n",
       "    </tr>\n",
       "    <tr>\n",
       "      <th>6</th>\n",
       "      <td>33.942500</td>\n",
       "      <td>-118.40720</td>\n",
       "      <td>37.61889</td>\n",
       "      <td>-122.3750</td>\n",
       "      <td>57</td>\n",
       "      <td>51.871302</td>\n",
       "    </tr>\n",
       "    <tr>\n",
       "      <th>7</th>\n",
       "      <td>37.618890</td>\n",
       "      <td>-122.37500</td>\n",
       "      <td>33.94250</td>\n",
       "      <td>-118.4072</td>\n",
       "      <td>56</td>\n",
       "      <td>46.095797</td>\n",
       "    </tr>\n",
       "    <tr>\n",
       "      <th>8</th>\n",
       "      <td>-33.946110</td>\n",
       "      <td>151.17720</td>\n",
       "      <td>-27.38333</td>\n",
       "      <td>153.1167</td>\n",
       "      <td>56</td>\n",
       "      <td>51.994251</td>\n",
       "    </tr>\n",
       "    <tr>\n",
       "      <th>9</th>\n",
       "      <td>-27.383330</td>\n",
       "      <td>153.11670</td>\n",
       "      <td>-33.94611</td>\n",
       "      <td>151.1772</td>\n",
       "      <td>55</td>\n",
       "      <td>48.956909</td>\n",
       "    </tr>\n",
       "  </tbody>\n",
       "</table>\n",
       "</div>"
      ],
      "text/plain": [
       "      DepLat     DepLon    ArrLat    ArrLon  NbFlights  CO2Intensity\n",
       "0  33.504720  126.49310  37.55833  126.7906         88    103.555930\n",
       "1  37.558330  126.79060  33.50472  126.4931         84     99.492429\n",
       "2 -37.673330  144.84330 -33.94611  151.1772         83     79.571319\n",
       "3 -33.946110  151.17720 -37.67333  144.8433         83     82.895090\n",
       "4   4.191944   73.52917   3.47000   72.8300         77     23.100001\n",
       "5  25.077780  121.22390  22.30889  113.9147         62    113.739500\n",
       "6  33.942500 -118.40720  37.61889 -122.3750         57     51.871302\n",
       "7  37.618890 -122.37500  33.94250 -118.4072         56     46.095797\n",
       "8 -33.946110  151.17720 -27.38333  153.1167         56     51.994251\n",
       "9 -27.383330  153.11670 -33.94611  151.1772         55     48.956909"
      ]
     },
     "execution_count": 10,
     "metadata": {},
     "output_type": "execute_result"
    }
   ],
   "source": [
    "df.head(10)"
   ]
  },
  {
   "cell_type": "code",
   "execution_count": 11,
   "metadata": {
    "ExecuteTime": {
     "end_time": "2019-08-01T10:06:15.855873Z",
     "start_time": "2019-08-01T10:06:15.851597Z"
    }
   },
   "outputs": [
    {
     "data": {
      "text/plain": [
       "pandas.core.frame.DataFrame"
      ]
     },
     "execution_count": 11,
     "metadata": {},
     "output_type": "execute_result"
    }
   ],
   "source": [
    "type(df)"
   ]
  },
  {
   "cell_type": "code",
   "execution_count": 12,
   "metadata": {
    "ExecuteTime": {
     "end_time": "2019-08-01T10:06:16.210283Z",
     "start_time": "2019-08-01T10:06:16.205349Z"
    }
   },
   "outputs": [
    {
     "data": {
      "text/plain": [
       "(24551, 6)"
      ]
     },
     "execution_count": 12,
     "metadata": {},
     "output_type": "execute_result"
    }
   ],
   "source": [
    "df.shape"
   ]
  },
  {
   "cell_type": "code",
   "execution_count": 13,
   "metadata": {
    "ExecuteTime": {
     "end_time": "2019-08-01T10:06:16.751820Z",
     "start_time": "2019-08-01T10:06:16.745620Z"
    }
   },
   "outputs": [
    {
     "data": {
      "text/plain": [
       "0    88\n",
       "1    84\n",
       "2    83\n",
       "3    83\n",
       "4    77\n",
       "Name: NbFlights, dtype: int64"
      ]
     },
     "execution_count": 13,
     "metadata": {},
     "output_type": "execute_result"
    }
   ],
   "source": [
    "df['NbFlights'].head()"
   ]
  },
  {
   "cell_type": "code",
   "execution_count": 14,
   "metadata": {
    "ExecuteTime": {
     "end_time": "2019-08-01T10:06:17.169069Z",
     "start_time": "2019-08-01T10:06:17.163698Z"
    }
   },
   "outputs": [
    {
     "data": {
      "text/plain": [
       "0    88\n",
       "1    84\n",
       "2    83\n",
       "3    83\n",
       "4    77\n",
       "Name: NbFlights, dtype: int64"
      ]
     },
     "execution_count": 14,
     "metadata": {},
     "output_type": "execute_result"
    }
   ],
   "source": [
    "df.NbFlights.head()"
   ]
  },
  {
   "cell_type": "code",
   "execution_count": 15,
   "metadata": {
    "ExecuteTime": {
     "end_time": "2019-08-01T10:06:17.632578Z",
     "start_time": "2019-08-01T10:06:17.628184Z"
    }
   },
   "outputs": [
    {
     "data": {
      "text/plain": [
       "pandas.core.series.Series"
      ]
     },
     "execution_count": 15,
     "metadata": {},
     "output_type": "execute_result"
    }
   ],
   "source": [
    "type(df.NbFlights)"
   ]
  },
  {
   "cell_type": "code",
   "execution_count": 16,
   "metadata": {
    "ExecuteTime": {
     "end_time": "2019-08-01T10:06:18.181642Z",
     "start_time": "2019-08-01T10:06:18.175184Z"
    }
   },
   "outputs": [
    {
     "data": {
      "text/plain": [
       "(1, 3.0339701030507924, 88)"
      ]
     },
     "execution_count": 16,
     "metadata": {},
     "output_type": "execute_result"
    }
   ],
   "source": [
    "df.NbFlights.min(), df.NbFlights.mean(), df.NbFlights.max()"
   ]
  },
  {
   "cell_type": "code",
   "execution_count": 17,
   "metadata": {
    "ExecuteTime": {
     "end_time": "2019-08-01T10:06:19.997303Z",
     "start_time": "2019-08-01T10:06:18.925143Z"
    }
   },
   "outputs": [
    {
     "data": {
      "text/plain": [
       "<matplotlib.axes._subplots.AxesSubplot at 0x7f86f8997fd0>"
      ]
     },
     "execution_count": 17,
     "metadata": {},
     "output_type": "execute_result"
    },
    {
     "data": {
      "image/png": "[encoded data removed]",
      "text/plain": [
       "<Figure size 1152x576 with 1 Axes>"
      ]
     },
     "metadata": {
      "image/png": {
       "height": 469,
       "width": 927
      },
      "needs_background": "light"
     },
     "output_type": "display_data"
    }
   ],
   "source": [
    "df.NbFlights.plot(figsize=(16, 8), ylim=(0, 40))"
   ]
  },
  {
   "cell_type": "code",
   "execution_count": 18,
   "metadata": {
    "ExecuteTime": {
     "end_time": "2019-08-01T10:06:23.071587Z",
     "start_time": "2019-08-01T10:06:21.655802Z"
    }
   },
   "outputs": [
    {
     "data": {
      "text/plain": [
       "<matplotlib.axes._subplots.AxesSubplot at 0x7f86f81b33c8>"
      ]
     },
     "execution_count": 18,
     "metadata": {},
     "output_type": "execute_result"
    },
    {
     "data": {
      "image/png": "[encoded data removed]",
      "text/plain": [
       "<Figure size 1152x576 with 1 Axes>"
      ]
     },
     "metadata": {
      "image/png": {
       "height": 465,
       "width": 946
      },
      "needs_background": "light"
     },
     "output_type": "display_data"
    }
   ],
   "source": [
    "df.NbFlights.hist(figsize=(16, 8), bins=80, range=(0, 35))"
   ]
  },
  {
   "cell_type": "code",
   "execution_count": 19,
   "metadata": {
    "ExecuteTime": {
     "end_time": "2019-08-01T10:06:24.948428Z",
     "start_time": "2019-08-01T10:06:24.939416Z"
    }
   },
   "outputs": [],
   "source": [
    "df_NbFlights_CO2 = df[['NbFlights', 'CO2Intensity']]"
   ]
  },
  {
   "cell_type": "code",
   "execution_count": 20,
   "metadata": {
    "ExecuteTime": {
     "end_time": "2019-08-01T10:06:25.458649Z",
     "start_time": "2019-08-01T10:06:25.453428Z"
    }
   },
   "outputs": [
    {
     "data": {
      "text/plain": [
       "pandas.core.frame.DataFrame"
      ]
     },
     "execution_count": 20,
     "metadata": {},
     "output_type": "execute_result"
    }
   ],
   "source": [
    "type(df_NbFlights_CO2)"
   ]
  },
  {
   "cell_type": "code",
   "execution_count": 21,
   "metadata": {
    "ExecuteTime": {
     "end_time": "2019-08-01T10:06:26.005780Z",
     "start_time": "2019-08-01T10:06:25.995396Z"
    }
   },
   "outputs": [
    {
     "data": {
      "text/html": [
       "<div>\n",
       "<style scoped>\n",
       "    .dataframe tbody tr th:only-of-type {\n",
       "        vertical-align: middle;\n",
       "    }\n",
       "\n",
       "    .dataframe tbody tr th {\n",
       "        vertical-align: top;\n",
       "    }\n",
       "\n",
       "    .dataframe thead th {\n",
       "        text-align: right;\n",
       "    }\n",
       "</style>\n",
       "<table border=\"1\" class=\"dataframe\">\n",
       "  <thead>\n",
       "    <tr style=\"text-align: right;\">\n",
       "      <th></th>\n",
       "      <th>NbFlights</th>\n",
       "      <th>CO2Intensity</th>\n",
       "    </tr>\n",
       "  </thead>\n",
       "  <tbody>\n",
       "    <tr>\n",
       "      <th>0</th>\n",
       "      <td>88</td>\n",
       "      <td>103.555930</td>\n",
       "    </tr>\n",
       "    <tr>\n",
       "      <th>1</th>\n",
       "      <td>84</td>\n",
       "      <td>99.492429</td>\n",
       "    </tr>\n",
       "    <tr>\n",
       "      <th>2</th>\n",
       "      <td>83</td>\n",
       "      <td>79.571319</td>\n",
       "    </tr>\n",
       "    <tr>\n",
       "      <th>3</th>\n",
       "      <td>83</td>\n",
       "      <td>82.895090</td>\n",
       "    </tr>\n",
       "    <tr>\n",
       "      <th>4</th>\n",
       "      <td>77</td>\n",
       "      <td>23.100001</td>\n",
       "    </tr>\n",
       "  </tbody>\n",
       "</table>\n",
       "</div>"
      ],
      "text/plain": [
       "   NbFlights  CO2Intensity\n",
       "0         88    103.555930\n",
       "1         84     99.492429\n",
       "2         83     79.571319\n",
       "3         83     82.895090\n",
       "4         77     23.100001"
      ]
     },
     "execution_count": 21,
     "metadata": {},
     "output_type": "execute_result"
    }
   ],
   "source": [
    "df_NbFlights_CO2.head()"
   ]
  },
  {
   "cell_type": "code",
   "execution_count": 22,
   "metadata": {
    "ExecuteTime": {
     "end_time": "2019-08-01T10:06:26.784427Z",
     "start_time": "2019-08-01T10:06:26.774481Z"
    }
   },
   "outputs": [],
   "source": [
    "df_NbFlights_CO2 = df_NbFlights_CO2.sort_values(by='CO2Intensity', ascending=False)"
   ]
  },
  {
   "cell_type": "code",
   "execution_count": 23,
   "metadata": {
    "ExecuteTime": {
     "end_time": "2019-08-01T10:06:27.559326Z",
     "start_time": "2019-08-01T10:06:27.547155Z"
    }
   },
   "outputs": [
    {
     "data": {
      "text/html": [
       "<div>\n",
       "<style scoped>\n",
       "    .dataframe tbody tr th:only-of-type {\n",
       "        vertical-align: middle;\n",
       "    }\n",
       "\n",
       "    .dataframe tbody tr th {\n",
       "        vertical-align: top;\n",
       "    }\n",
       "\n",
       "    .dataframe thead th {\n",
       "        text-align: right;\n",
       "    }\n",
       "</style>\n",
       "<table border=\"1\" class=\"dataframe\">\n",
       "  <thead>\n",
       "    <tr style=\"text-align: right;\">\n",
       "      <th></th>\n",
       "      <th>NbFlights</th>\n",
       "      <th>CO2Intensity</th>\n",
       "    </tr>\n",
       "  </thead>\n",
       "  <tbody>\n",
       "    <tr>\n",
       "      <th>5</th>\n",
       "      <td>62</td>\n",
       "      <td>113.739500</td>\n",
       "    </tr>\n",
       "    <tr>\n",
       "      <th>0</th>\n",
       "      <td>88</td>\n",
       "      <td>103.555930</td>\n",
       "    </tr>\n",
       "    <tr>\n",
       "      <th>1</th>\n",
       "      <td>84</td>\n",
       "      <td>99.492429</td>\n",
       "    </tr>\n",
       "    <tr>\n",
       "      <th>10</th>\n",
       "      <td>54</td>\n",
       "      <td>94.445900</td>\n",
       "    </tr>\n",
       "    <tr>\n",
       "      <th>3</th>\n",
       "      <td>83</td>\n",
       "      <td>82.895090</td>\n",
       "    </tr>\n",
       "  </tbody>\n",
       "</table>\n",
       "</div>"
      ],
      "text/plain": [
       "    NbFlights  CO2Intensity\n",
       "5          62    113.739500\n",
       "0          88    103.555930\n",
       "1          84     99.492429\n",
       "10         54     94.445900\n",
       "3          83     82.895090"
      ]
     },
     "execution_count": 23,
     "metadata": {},
     "output_type": "execute_result"
    }
   ],
   "source": [
    "df_NbFlights_CO2.head()"
   ]
  },
  {
   "cell_type": "code",
   "execution_count": 24,
   "metadata": {
    "ExecuteTime": {
     "end_time": "2019-08-01T10:06:28.179347Z",
     "start_time": "2019-08-01T10:06:28.175453Z"
    }
   },
   "outputs": [],
   "source": [
    "df_NbFlights_CO2 = df_NbFlights_CO2.reset_index(drop=True)"
   ]
  },
  {
   "cell_type": "code",
   "execution_count": 25,
   "metadata": {
    "ExecuteTime": {
     "end_time": "2019-08-01T10:06:28.711218Z",
     "start_time": "2019-08-01T10:06:28.702344Z"
    }
   },
   "outputs": [
    {
     "data": {
      "text/html": [
       "<div>\n",
       "<style scoped>\n",
       "    .dataframe tbody tr th:only-of-type {\n",
       "        vertical-align: middle;\n",
       "    }\n",
       "\n",
       "    .dataframe tbody tr th {\n",
       "        vertical-align: top;\n",
       "    }\n",
       "\n",
       "    .dataframe thead th {\n",
       "        text-align: right;\n",
       "    }\n",
       "</style>\n",
       "<table border=\"1\" class=\"dataframe\">\n",
       "  <thead>\n",
       "    <tr style=\"text-align: right;\">\n",
       "      <th></th>\n",
       "      <th>NbFlights</th>\n",
       "      <th>CO2Intensity</th>\n",
       "    </tr>\n",
       "  </thead>\n",
       "  <tbody>\n",
       "    <tr>\n",
       "      <th>0</th>\n",
       "      <td>62</td>\n",
       "      <td>113.739500</td>\n",
       "    </tr>\n",
       "    <tr>\n",
       "      <th>1</th>\n",
       "      <td>88</td>\n",
       "      <td>103.555930</td>\n",
       "    </tr>\n",
       "    <tr>\n",
       "      <th>2</th>\n",
       "      <td>84</td>\n",
       "      <td>99.492429</td>\n",
       "    </tr>\n",
       "    <tr>\n",
       "      <th>3</th>\n",
       "      <td>54</td>\n",
       "      <td>94.445900</td>\n",
       "    </tr>\n",
       "    <tr>\n",
       "      <th>4</th>\n",
       "      <td>83</td>\n",
       "      <td>82.895090</td>\n",
       "    </tr>\n",
       "  </tbody>\n",
       "</table>\n",
       "</div>"
      ],
      "text/plain": [
       "   NbFlights  CO2Intensity\n",
       "0         62    113.739500\n",
       "1         88    103.555930\n",
       "2         84     99.492429\n",
       "3         54     94.445900\n",
       "4         83     82.895090"
      ]
     },
     "execution_count": 25,
     "metadata": {},
     "output_type": "execute_result"
    }
   ],
   "source": [
    "df_NbFlights_CO2.head()"
   ]
  },
  {
   "cell_type": "code",
   "execution_count": 26,
   "metadata": {
    "ExecuteTime": {
     "end_time": "2019-08-01T10:06:30.124740Z",
     "start_time": "2019-08-01T10:06:29.082569Z"
    }
   },
   "outputs": [
    {
     "data": {
      "text/plain": [
       "<matplotlib.axes._subplots.AxesSubplot at 0x7f86f8337518>"
      ]
     },
     "execution_count": 26,
     "metadata": {},
     "output_type": "execute_result"
    },
    {
     "data": {
      "image/png": "[encoded data removed]",
      "text/plain": [
       "<Figure size 1152x576 with 1 Axes>"
      ]
     },
     "metadata": {
      "image/png": {
       "height": 469,
       "width": 927
      },
      "needs_background": "light"
     },
     "output_type": "display_data"
    }
   ],
   "source": [
    "df_NbFlights_CO2.CO2Intensity.plot(figsize=(16, 8), ylim=(0, 40))"
   ]
  },
  {
   "cell_type": "code",
   "execution_count": 27,
   "metadata": {
    "ExecuteTime": {
     "end_time": "2019-08-01T10:06:30.134491Z",
     "start_time": "2019-08-01T10:06:30.127254Z"
    }
   },
   "outputs": [],
   "source": [
    "df_lim = df[(df.NbFlights >= 15) & (df.NbFlights <= 20)].sort_values(by='CO2Intensity').reset_index(drop='True')"
   ]
  },
  {
   "cell_type": "code",
   "execution_count": 28,
   "metadata": {
    "ExecuteTime": {
     "end_time": "2019-08-01T10:06:30.151863Z",
     "start_time": "2019-08-01T10:06:30.136697Z"
    }
   },
   "outputs": [
    {
     "data": {
      "text/html": [
       "<div>\n",
       "<style scoped>\n",
       "    .dataframe tbody tr th:only-of-type {\n",
       "        vertical-align: middle;\n",
       "    }\n",
       "\n",
       "    .dataframe tbody tr th {\n",
       "        vertical-align: top;\n",
       "    }\n",
       "\n",
       "    .dataframe thead th {\n",
       "        text-align: right;\n",
       "    }\n",
       "</style>\n",
       "<table border=\"1\" class=\"dataframe\">\n",
       "  <thead>\n",
       "    <tr style=\"text-align: right;\">\n",
       "      <th></th>\n",
       "      <th>DepLat</th>\n",
       "      <th>DepLon</th>\n",
       "      <th>ArrLat</th>\n",
       "      <th>ArrLon</th>\n",
       "      <th>NbFlights</th>\n",
       "      <th>CO2Intensity</th>\n",
       "    </tr>\n",
       "  </thead>\n",
       "  <tbody>\n",
       "    <tr>\n",
       "      <th>0</th>\n",
       "      <td>46.79111</td>\n",
       "      <td>-71.39333</td>\n",
       "      <td>45.470550</td>\n",
       "      <td>-73.74083</td>\n",
       "      <td>15</td>\n",
       "      <td>5.763482</td>\n",
       "    </tr>\n",
       "    <tr>\n",
       "      <th>1</th>\n",
       "      <td>5.15000</td>\n",
       "      <td>73.13000</td>\n",
       "      <td>4.191944</td>\n",
       "      <td>73.52917</td>\n",
       "      <td>20</td>\n",
       "      <td>6.000000</td>\n",
       "    </tr>\n",
       "    <tr>\n",
       "      <th>2</th>\n",
       "      <td>45.47055</td>\n",
       "      <td>-73.74083</td>\n",
       "      <td>46.791110</td>\n",
       "      <td>-71.39333</td>\n",
       "      <td>16</td>\n",
       "      <td>6.130586</td>\n",
       "    </tr>\n",
       "    <tr>\n",
       "      <th>3</th>\n",
       "      <td>42.95000</td>\n",
       "      <td>-87.90000</td>\n",
       "      <td>41.978610</td>\n",
       "      <td>-87.90472</td>\n",
       "      <td>16</td>\n",
       "      <td>7.315920</td>\n",
       "    </tr>\n",
       "    <tr>\n",
       "      <th>4</th>\n",
       "      <td>43.62750</td>\n",
       "      <td>-79.39611</td>\n",
       "      <td>45.322500</td>\n",
       "      <td>-75.66917</td>\n",
       "      <td>15</td>\n",
       "      <td>7.543500</td>\n",
       "    </tr>\n",
       "  </tbody>\n",
       "</table>\n",
       "</div>"
      ],
      "text/plain": [
       "     DepLat    DepLon     ArrLat    ArrLon  NbFlights  CO2Intensity\n",
       "0  46.79111 -71.39333  45.470550 -73.74083         15      5.763482\n",
       "1   5.15000  73.13000   4.191944  73.52917         20      6.000000\n",
       "2  45.47055 -73.74083  46.791110 -71.39333         16      6.130586\n",
       "3  42.95000 -87.90000  41.978610 -87.90472         16      7.315920\n",
       "4  43.62750 -79.39611  45.322500 -75.66917         15      7.543500"
      ]
     },
     "execution_count": 28,
     "metadata": {},
     "output_type": "execute_result"
    }
   ],
   "source": [
    "df_lim.head()"
   ]
  },
  {
   "cell_type": "code",
   "execution_count": 29,
   "metadata": {
    "ExecuteTime": {
     "end_time": "2019-08-01T10:06:30.321044Z",
     "start_time": "2019-08-01T10:06:30.316409Z"
    }
   },
   "outputs": [
    {
     "data": {
      "text/plain": [
       "(317, 6)"
      ]
     },
     "execution_count": 29,
     "metadata": {},
     "output_type": "execute_result"
    }
   ],
   "source": [
    "df_lim.shape"
   ]
  },
  {
   "cell_type": "code",
   "execution_count": 30,
   "metadata": {
    "ExecuteTime": {
     "end_time": "2019-08-01T10:06:32.402266Z",
     "start_time": "2019-08-01T10:06:31.211282Z"
    },
    "scrolled": false
   },
   "outputs": [
    {
     "data": {
      "text/plain": [
       "(<matplotlib.axes._subplots.AxesSubplot at 0x7f86f82a6f28>,\n",
       " <matplotlib.axes._subplots.AxesSubplot at 0x7f86f82a6f28>)"
      ]
     },
     "execution_count": 30,
     "metadata": {},
     "output_type": "execute_result"
    },
    {
     "data": {
      "image/png": "[encoded data removed]",
      "text/plain": [
       "<Figure size 1152x576 with 1 Axes>"
      ]
     },
     "metadata": {
      "image/png": {
       "height": 465,
       "width": 927
      },
      "needs_background": "light"
     },
     "output_type": "display_data"
    }
   ],
   "source": [
    "df_lim.CO2Intensity.plot(figsize=(16, 8)), df_lim.NbFlights.plot()"
   ]
  },
  {
   "cell_type": "code",
   "execution_count": 31,
   "metadata": {
    "ExecuteTime": {
     "end_time": "2019-08-01T10:06:42.033093Z",
     "start_time": "2019-08-01T10:06:41.580814Z"
    }
   },
   "outputs": [
    {
     "data": {
      "text/plain": [
       "<matplotlib.axes._subplots.AxesSubplot at 0x7f86f82925c0>"
      ]
     },
     "execution_count": 31,
     "metadata": {},
     "output_type": "execute_result"
    },
    {
     "data": {
      "image/png": "[encoded data removed]",
      "text/plain": [
       "<Figure size 432x288 with 1 Axes>"
      ]
     },
     "metadata": {
      "image/png": {
       "height": 248,
       "width": 369
      },
      "needs_background": "light"
     },
     "output_type": "display_data"
    }
   ],
   "source": [
    "df_lim.NbFlights.hist()"
   ]
  },
  {
   "cell_type": "code",
   "execution_count": 32,
   "metadata": {
    "ExecuteTime": {
     "end_time": "2019-08-01T10:06:43.893349Z",
     "start_time": "2019-08-01T10:06:43.886287Z"
    }
   },
   "outputs": [],
   "source": [
    "df_lim['category'] = ''"
   ]
  },
  {
   "cell_type": "code",
   "execution_count": 33,
   "metadata": {
    "ExecuteTime": {
     "end_time": "2019-08-01T10:06:44.508684Z",
     "start_time": "2019-08-01T10:06:44.495070Z"
    }
   },
   "outputs": [],
   "source": [
    "df_lim.loc[df_lim.NbFlights > 17, 'category'] = 'high'\n",
    "df_lim.loc[df_lim.NbFlights <= 17, 'category'] = 'low'"
   ]
  },
  {
   "cell_type": "code",
   "execution_count": 34,
   "metadata": {
    "ExecuteTime": {
     "end_time": "2019-08-01T10:06:45.151367Z",
     "start_time": "2019-08-01T10:06:45.132748Z"
    }
   },
   "outputs": [
    {
     "data": {
      "text/html": [
       "<div>\n",
       "<style scoped>\n",
       "    .dataframe tbody tr th:only-of-type {\n",
       "        vertical-align: middle;\n",
       "    }\n",
       "\n",
       "    .dataframe tbody tr th {\n",
       "        vertical-align: top;\n",
       "    }\n",
       "\n",
       "    .dataframe thead th {\n",
       "        text-align: right;\n",
       "    }\n",
       "</style>\n",
       "<table border=\"1\" class=\"dataframe\">\n",
       "  <thead>\n",
       "    <tr style=\"text-align: right;\">\n",
       "      <th></th>\n",
       "      <th>DepLat</th>\n",
       "      <th>DepLon</th>\n",
       "      <th>ArrLat</th>\n",
       "      <th>ArrLon</th>\n",
       "      <th>NbFlights</th>\n",
       "      <th>CO2Intensity</th>\n",
       "      <th>category</th>\n",
       "    </tr>\n",
       "  </thead>\n",
       "  <tbody>\n",
       "    <tr>\n",
       "      <th>0</th>\n",
       "      <td>46.79111</td>\n",
       "      <td>-71.39333</td>\n",
       "      <td>45.470550</td>\n",
       "      <td>-73.74083</td>\n",
       "      <td>15</td>\n",
       "      <td>5.763482</td>\n",
       "      <td>low</td>\n",
       "    </tr>\n",
       "    <tr>\n",
       "      <th>1</th>\n",
       "      <td>5.15000</td>\n",
       "      <td>73.13000</td>\n",
       "      <td>4.191944</td>\n",
       "      <td>73.52917</td>\n",
       "      <td>20</td>\n",
       "      <td>6.000000</td>\n",
       "      <td>high</td>\n",
       "    </tr>\n",
       "    <tr>\n",
       "      <th>2</th>\n",
       "      <td>45.47055</td>\n",
       "      <td>-73.74083</td>\n",
       "      <td>46.791110</td>\n",
       "      <td>-71.39333</td>\n",
       "      <td>16</td>\n",
       "      <td>6.130586</td>\n",
       "      <td>low</td>\n",
       "    </tr>\n",
       "    <tr>\n",
       "      <th>3</th>\n",
       "      <td>42.95000</td>\n",
       "      <td>-87.90000</td>\n",
       "      <td>41.978610</td>\n",
       "      <td>-87.90472</td>\n",
       "      <td>16</td>\n",
       "      <td>7.315920</td>\n",
       "      <td>low</td>\n",
       "    </tr>\n",
       "    <tr>\n",
       "      <th>4</th>\n",
       "      <td>43.62750</td>\n",
       "      <td>-79.39611</td>\n",
       "      <td>45.322500</td>\n",
       "      <td>-75.66917</td>\n",
       "      <td>15</td>\n",
       "      <td>7.543500</td>\n",
       "      <td>low</td>\n",
       "    </tr>\n",
       "  </tbody>\n",
       "</table>\n",
       "</div>"
      ],
      "text/plain": [
       "     DepLat    DepLon     ArrLat    ArrLon  NbFlights  CO2Intensity category\n",
       "0  46.79111 -71.39333  45.470550 -73.74083         15      5.763482      low\n",
       "1   5.15000  73.13000   4.191944  73.52917         20      6.000000     high\n",
       "2  45.47055 -73.74083  46.791110 -71.39333         16      6.130586      low\n",
       "3  42.95000 -87.90000  41.978610 -87.90472         16      7.315920      low\n",
       "4  43.62750 -79.39611  45.322500 -75.66917         15      7.543500      low"
      ]
     },
     "execution_count": 34,
     "metadata": {},
     "output_type": "execute_result"
    }
   ],
   "source": [
    "df_lim.head()"
   ]
  },
  {
   "cell_type": "code",
   "execution_count": 35,
   "metadata": {
    "ExecuteTime": {
     "end_time": "2019-08-01T10:06:45.823389Z",
     "start_time": "2019-08-01T10:06:45.804130Z"
    },
    "scrolled": false
   },
   "outputs": [
    {
     "data": {
      "text/html": [
       "<div>\n",
       "<style scoped>\n",
       "    .dataframe tbody tr th:only-of-type {\n",
       "        vertical-align: middle;\n",
       "    }\n",
       "\n",
       "    .dataframe tbody tr th {\n",
       "        vertical-align: top;\n",
       "    }\n",
       "\n",
       "    .dataframe thead th {\n",
       "        text-align: right;\n",
       "    }\n",
       "</style>\n",
       "<table border=\"1\" class=\"dataframe\">\n",
       "  <thead>\n",
       "    <tr style=\"text-align: right;\">\n",
       "      <th></th>\n",
       "      <th>DepLat</th>\n",
       "      <th>DepLon</th>\n",
       "      <th>ArrLat</th>\n",
       "      <th>ArrLon</th>\n",
       "      <th>NbFlights</th>\n",
       "      <th>CO2Intensity</th>\n",
       "      <th>category</th>\n",
       "    </tr>\n",
       "  </thead>\n",
       "  <tbody>\n",
       "    <tr>\n",
       "      <th>0</th>\n",
       "      <td>46.79111</td>\n",
       "      <td>-71.393330</td>\n",
       "      <td>45.47055</td>\n",
       "      <td>-73.740830</td>\n",
       "      <td>15</td>\n",
       "      <td>5.763482</td>\n",
       "      <td>low</td>\n",
       "    </tr>\n",
       "    <tr>\n",
       "      <th>2</th>\n",
       "      <td>45.47055</td>\n",
       "      <td>-73.740830</td>\n",
       "      <td>46.79111</td>\n",
       "      <td>-71.393330</td>\n",
       "      <td>16</td>\n",
       "      <td>6.130586</td>\n",
       "      <td>low</td>\n",
       "    </tr>\n",
       "    <tr>\n",
       "      <th>3</th>\n",
       "      <td>42.95000</td>\n",
       "      <td>-87.900000</td>\n",
       "      <td>41.97861</td>\n",
       "      <td>-87.904720</td>\n",
       "      <td>16</td>\n",
       "      <td>7.315920</td>\n",
       "      <td>low</td>\n",
       "    </tr>\n",
       "    <tr>\n",
       "      <th>4</th>\n",
       "      <td>43.62750</td>\n",
       "      <td>-79.396110</td>\n",
       "      <td>45.32250</td>\n",
       "      <td>-75.669170</td>\n",
       "      <td>15</td>\n",
       "      <td>7.543500</td>\n",
       "      <td>low</td>\n",
       "    </tr>\n",
       "    <tr>\n",
       "      <th>5</th>\n",
       "      <td>45.32250</td>\n",
       "      <td>-75.669170</td>\n",
       "      <td>43.62750</td>\n",
       "      <td>-79.396110</td>\n",
       "      <td>15</td>\n",
       "      <td>7.543500</td>\n",
       "      <td>low</td>\n",
       "    </tr>\n",
       "    <tr>\n",
       "      <th>6</th>\n",
       "      <td>33.94250</td>\n",
       "      <td>-118.407200</td>\n",
       "      <td>32.73333</td>\n",
       "      <td>-117.183300</td>\n",
       "      <td>15</td>\n",
       "      <td>7.767180</td>\n",
       "      <td>low</td>\n",
       "    </tr>\n",
       "    <tr>\n",
       "      <th>7</th>\n",
       "      <td>32.73333</td>\n",
       "      <td>-117.183300</td>\n",
       "      <td>33.94250</td>\n",
       "      <td>-118.407200</td>\n",
       "      <td>15</td>\n",
       "      <td>7.767180</td>\n",
       "      <td>low</td>\n",
       "    </tr>\n",
       "    <tr>\n",
       "      <th>8</th>\n",
       "      <td>24.42056</td>\n",
       "      <td>118.344400</td>\n",
       "      <td>25.06972</td>\n",
       "      <td>121.552500</td>\n",
       "      <td>16</td>\n",
       "      <td>8.648200</td>\n",
       "      <td>low</td>\n",
       "    </tr>\n",
       "    <tr>\n",
       "      <th>9</th>\n",
       "      <td>25.06972</td>\n",
       "      <td>121.552500</td>\n",
       "      <td>24.42056</td>\n",
       "      <td>118.344400</td>\n",
       "      <td>16</td>\n",
       "      <td>8.648200</td>\n",
       "      <td>low</td>\n",
       "    </tr>\n",
       "    <tr>\n",
       "      <th>11</th>\n",
       "      <td>-35.30695</td>\n",
       "      <td>149.195000</td>\n",
       "      <td>-33.94611</td>\n",
       "      <td>151.177200</td>\n",
       "      <td>16</td>\n",
       "      <td>9.523800</td>\n",
       "      <td>low</td>\n",
       "    </tr>\n",
       "    <tr>\n",
       "      <th>13</th>\n",
       "      <td>41.97861</td>\n",
       "      <td>-87.904720</td>\n",
       "      <td>38.74861</td>\n",
       "      <td>-90.370000</td>\n",
       "      <td>15</td>\n",
       "      <td>10.265050</td>\n",
       "      <td>low</td>\n",
       "    </tr>\n",
       "    <tr>\n",
       "      <th>14</th>\n",
       "      <td>55.95000</td>\n",
       "      <td>-3.350000</td>\n",
       "      <td>51.50528</td>\n",
       "      <td>0.055278</td>\n",
       "      <td>16</td>\n",
       "      <td>10.335649</td>\n",
       "      <td>low</td>\n",
       "    </tr>\n",
       "    <tr>\n",
       "      <th>16</th>\n",
       "      <td>51.50528</td>\n",
       "      <td>0.055278</td>\n",
       "      <td>55.95000</td>\n",
       "      <td>-3.350000</td>\n",
       "      <td>17</td>\n",
       "      <td>11.158966</td>\n",
       "      <td>low</td>\n",
       "    </tr>\n",
       "    <tr>\n",
       "      <th>18</th>\n",
       "      <td>51.50528</td>\n",
       "      <td>0.055278</td>\n",
       "      <td>52.30861</td>\n",
       "      <td>4.763889</td>\n",
       "      <td>15</td>\n",
       "      <td>11.621566</td>\n",
       "      <td>low</td>\n",
       "    </tr>\n",
       "    <tr>\n",
       "      <th>19</th>\n",
       "      <td>55.55000</td>\n",
       "      <td>13.366670</td>\n",
       "      <td>59.65194</td>\n",
       "      <td>17.918610</td>\n",
       "      <td>15</td>\n",
       "      <td>11.925400</td>\n",
       "      <td>low</td>\n",
       "    </tr>\n",
       "  </tbody>\n",
       "</table>\n",
       "</div>"
      ],
      "text/plain": [
       "      DepLat      DepLon    ArrLat      ArrLon  NbFlights  CO2Intensity  \\\n",
       "0   46.79111  -71.393330  45.47055  -73.740830         15      5.763482   \n",
       "2   45.47055  -73.740830  46.79111  -71.393330         16      6.130586   \n",
       "3   42.95000  -87.900000  41.97861  -87.904720         16      7.315920   \n",
       "4   43.62750  -79.396110  45.32250  -75.669170         15      7.543500   \n",
       "5   45.32250  -75.669170  43.62750  -79.396110         15      7.543500   \n",
       "6   33.94250 -118.407200  32.73333 -117.183300         15      7.767180   \n",
       "7   32.73333 -117.183300  33.94250 -118.407200         15      7.767180   \n",
       "8   24.42056  118.344400  25.06972  121.552500         16      8.648200   \n",
       "9   25.06972  121.552500  24.42056  118.344400         16      8.648200   \n",
       "11 -35.30695  149.195000 -33.94611  151.177200         16      9.523800   \n",
       "13  41.97861  -87.904720  38.74861  -90.370000         15     10.265050   \n",
       "14  55.95000   -3.350000  51.50528    0.055278         16     10.335649   \n",
       "16  51.50528    0.055278  55.95000   -3.350000         17     11.158966   \n",
       "18  51.50528    0.055278  52.30861    4.763889         15     11.621566   \n",
       "19  55.55000   13.366670  59.65194   17.918610         15     11.925400   \n",
       "\n",
       "   category  \n",
       "0       low  \n",
       "2       low  \n",
       "3       low  \n",
       "4       low  \n",
       "5       low  \n",
       "6       low  \n",
       "7       low  \n",
       "8       low  \n",
       "9       low  \n",
       "11      low  \n",
       "13      low  \n",
       "14      low  \n",
       "16      low  \n",
       "18      low  \n",
       "19      low  "
      ]
     },
     "execution_count": 35,
     "metadata": {},
     "output_type": "execute_result"
    }
   ],
   "source": [
    "df_lim[df_lim.category == 'low'].head(15)"
   ]
  },
  {
   "cell_type": "code",
   "execution_count": 36,
   "metadata": {
    "ExecuteTime": {
     "end_time": "2019-08-01T10:06:46.504467Z",
     "start_time": "2019-08-01T10:06:46.442079Z"
    }
   },
   "outputs": [],
   "source": [
    "df_lim['delta_lon'] = df_lim.apply(lambda df: radians(df.ArrLon - df.DepLon), axis=1)\n",
    "df_lim['delta_lat'] = df_lim.apply(lambda df: radians(df.ArrLat - df.DepLat), axis=1)\n",
    "\n",
    "df_lim['deplat_rad'] = df_lim.apply(lambda df: radians(df.DepLat), axis=1)\n",
    "df_lim['arrlat_rad'] = df_lim.apply(lambda df: radians(df.ArrLat), axis=1)"
   ]
  },
  {
   "cell_type": "code",
   "execution_count": 37,
   "metadata": {
    "ExecuteTime": {
     "end_time": "2019-08-01T10:06:47.042188Z",
     "start_time": "2019-08-01T10:06:47.020137Z"
    }
   },
   "outputs": [
    {
     "data": {
      "text/html": [
       "<div>\n",
       "<style scoped>\n",
       "    .dataframe tbody tr th:only-of-type {\n",
       "        vertical-align: middle;\n",
       "    }\n",
       "\n",
       "    .dataframe tbody tr th {\n",
       "        vertical-align: top;\n",
       "    }\n",
       "\n",
       "    .dataframe thead th {\n",
       "        text-align: right;\n",
       "    }\n",
       "</style>\n",
       "<table border=\"1\" class=\"dataframe\">\n",
       "  <thead>\n",
       "    <tr style=\"text-align: right;\">\n",
       "      <th></th>\n",
       "      <th>DepLat</th>\n",
       "      <th>DepLon</th>\n",
       "      <th>ArrLat</th>\n",
       "      <th>ArrLon</th>\n",
       "      <th>NbFlights</th>\n",
       "      <th>CO2Intensity</th>\n",
       "      <th>category</th>\n",
       "      <th>delta_lon</th>\n",
       "      <th>delta_lat</th>\n",
       "      <th>deplat_rad</th>\n",
       "      <th>arrlat_rad</th>\n",
       "    </tr>\n",
       "  </thead>\n",
       "  <tbody>\n",
       "    <tr>\n",
       "      <th>0</th>\n",
       "      <td>46.79111</td>\n",
       "      <td>-71.39333</td>\n",
       "      <td>45.470550</td>\n",
       "      <td>-73.74083</td>\n",
       "      <td>15</td>\n",
       "      <td>5.763482</td>\n",
       "      <td>low</td>\n",
       "      <td>-0.040972</td>\n",
       "      <td>-0.023048</td>\n",
       "      <td>0.816659</td>\n",
       "      <td>0.793611</td>\n",
       "    </tr>\n",
       "    <tr>\n",
       "      <th>1</th>\n",
       "      <td>5.15000</td>\n",
       "      <td>73.13000</td>\n",
       "      <td>4.191944</td>\n",
       "      <td>73.52917</td>\n",
       "      <td>20</td>\n",
       "      <td>6.000000</td>\n",
       "      <td>high</td>\n",
       "      <td>0.006967</td>\n",
       "      <td>-0.016721</td>\n",
       "      <td>0.089884</td>\n",
       "      <td>0.073163</td>\n",
       "    </tr>\n",
       "    <tr>\n",
       "      <th>2</th>\n",
       "      <td>45.47055</td>\n",
       "      <td>-73.74083</td>\n",
       "      <td>46.791110</td>\n",
       "      <td>-71.39333</td>\n",
       "      <td>16</td>\n",
       "      <td>6.130586</td>\n",
       "      <td>low</td>\n",
       "      <td>0.040972</td>\n",
       "      <td>0.023048</td>\n",
       "      <td>0.793611</td>\n",
       "      <td>0.816659</td>\n",
       "    </tr>\n",
       "    <tr>\n",
       "      <th>3</th>\n",
       "      <td>42.95000</td>\n",
       "      <td>-87.90000</td>\n",
       "      <td>41.978610</td>\n",
       "      <td>-87.90472</td>\n",
       "      <td>16</td>\n",
       "      <td>7.315920</td>\n",
       "      <td>low</td>\n",
       "      <td>-0.000082</td>\n",
       "      <td>-0.016954</td>\n",
       "      <td>0.749619</td>\n",
       "      <td>0.732665</td>\n",
       "    </tr>\n",
       "    <tr>\n",
       "      <th>4</th>\n",
       "      <td>43.62750</td>\n",
       "      <td>-79.39611</td>\n",
       "      <td>45.322500</td>\n",
       "      <td>-75.66917</td>\n",
       "      <td>15</td>\n",
       "      <td>7.543500</td>\n",
       "      <td>low</td>\n",
       "      <td>0.065047</td>\n",
       "      <td>0.029583</td>\n",
       "      <td>0.761444</td>\n",
       "      <td>0.791027</td>\n",
       "    </tr>\n",
       "  </tbody>\n",
       "</table>\n",
       "</div>"
      ],
      "text/plain": [
       "     DepLat    DepLon     ArrLat    ArrLon  NbFlights  CO2Intensity category  \\\n",
       "0  46.79111 -71.39333  45.470550 -73.74083         15      5.763482      low   \n",
       "1   5.15000  73.13000   4.191944  73.52917         20      6.000000     high   \n",
       "2  45.47055 -73.74083  46.791110 -71.39333         16      6.130586      low   \n",
       "3  42.95000 -87.90000  41.978610 -87.90472         16      7.315920      low   \n",
       "4  43.62750 -79.39611  45.322500 -75.66917         15      7.543500      low   \n",
       "\n",
       "   delta_lon  delta_lat  deplat_rad  arrlat_rad  \n",
       "0  -0.040972  -0.023048    0.816659    0.793611  \n",
       "1   0.006967  -0.016721    0.089884    0.073163  \n",
       "2   0.040972   0.023048    0.793611    0.816659  \n",
       "3  -0.000082  -0.016954    0.749619    0.732665  \n",
       "4   0.065047   0.029583    0.761444    0.791027  "
      ]
     },
     "execution_count": 37,
     "metadata": {},
     "output_type": "execute_result"
    }
   ],
   "source": [
    "df_lim.head()"
   ]
  },
  {
   "cell_type": "code",
   "execution_count": 38,
   "metadata": {
    "ExecuteTime": {
     "end_time": "2019-08-01T10:06:48.385790Z",
     "start_time": "2019-08-01T10:06:48.379222Z"
    }
   },
   "outputs": [],
   "source": [
    "def haversine(lat1, lat2, dlat, dlon):\n",
    "    R = 6371\n",
    "    h = sin(dlat / 2) ** 2 \\\n",
    "            + cos(lat1) \\\n",
    "            * cos(lat2) \\\n",
    "            * sin(dlon / 2) ** 2\n",
    "    return 2 * R * asin(sqrt(h))"
   ]
  },
  {
   "cell_type": "code",
   "execution_count": 39,
   "metadata": {
    "ExecuteTime": {
     "end_time": "2019-08-01T10:06:49.141846Z",
     "start_time": "2019-08-01T10:06:49.111268Z"
    }
   },
   "outputs": [],
   "source": [
    "df_lim['distance'] = df_lim.apply(lambda df: haversine(df.deplat_rad, df.arrlat_rad, df.delta_lat, df.delta_lon), axis=1)"
   ]
  },
  {
   "cell_type": "code",
   "execution_count": 40,
   "metadata": {
    "ExecuteTime": {
     "end_time": "2019-08-01T10:06:49.955811Z",
     "start_time": "2019-08-01T10:06:49.950458Z"
    }
   },
   "outputs": [
    {
     "data": {
      "text/plain": [
       "1023.583560848779"
      ]
     },
     "execution_count": 40,
     "metadata": {},
     "output_type": "execute_result"
    }
   ],
   "source": [
    "df_lim.distance.mean()"
   ]
  },
  {
   "cell_type": "code",
   "execution_count": 41,
   "metadata": {
    "ExecuteTime": {
     "end_time": "2019-08-01T10:06:51.570820Z",
     "start_time": "2019-08-01T10:06:51.549498Z"
    }
   },
   "outputs": [
    {
     "data": {
      "text/html": [
       "<div>\n",
       "<style scoped>\n",
       "    .dataframe tbody tr th:only-of-type {\n",
       "        vertical-align: middle;\n",
       "    }\n",
       "\n",
       "    .dataframe tbody tr th {\n",
       "        vertical-align: top;\n",
       "    }\n",
       "\n",
       "    .dataframe thead th {\n",
       "        text-align: right;\n",
       "    }\n",
       "</style>\n",
       "<table border=\"1\" class=\"dataframe\">\n",
       "  <thead>\n",
       "    <tr style=\"text-align: right;\">\n",
       "      <th></th>\n",
       "      <th>DepLat</th>\n",
       "      <th>DepLon</th>\n",
       "      <th>ArrLat</th>\n",
       "      <th>ArrLon</th>\n",
       "      <th>NbFlights</th>\n",
       "      <th>CO2Intensity</th>\n",
       "      <th>category</th>\n",
       "      <th>delta_lon</th>\n",
       "      <th>delta_lat</th>\n",
       "      <th>deplat_rad</th>\n",
       "      <th>arrlat_rad</th>\n",
       "      <th>distance</th>\n",
       "    </tr>\n",
       "  </thead>\n",
       "  <tbody>\n",
       "    <tr>\n",
       "      <th>0</th>\n",
       "      <td>46.79111</td>\n",
       "      <td>-71.39333</td>\n",
       "      <td>45.470550</td>\n",
       "      <td>-73.74083</td>\n",
       "      <td>15</td>\n",
       "      <td>5.763482</td>\n",
       "      <td>low</td>\n",
       "      <td>-0.040972</td>\n",
       "      <td>-0.023048</td>\n",
       "      <td>0.816659</td>\n",
       "      <td>0.793611</td>\n",
       "      <td>232.974758</td>\n",
       "    </tr>\n",
       "    <tr>\n",
       "      <th>1</th>\n",
       "      <td>5.15000</td>\n",
       "      <td>73.13000</td>\n",
       "      <td>4.191944</td>\n",
       "      <td>73.52917</td>\n",
       "      <td>20</td>\n",
       "      <td>6.000000</td>\n",
       "      <td>high</td>\n",
       "      <td>0.006967</td>\n",
       "      <td>-0.016721</td>\n",
       "      <td>0.089884</td>\n",
       "      <td>0.073163</td>\n",
       "      <td>115.350875</td>\n",
       "    </tr>\n",
       "    <tr>\n",
       "      <th>2</th>\n",
       "      <td>45.47055</td>\n",
       "      <td>-73.74083</td>\n",
       "      <td>46.791110</td>\n",
       "      <td>-71.39333</td>\n",
       "      <td>16</td>\n",
       "      <td>6.130586</td>\n",
       "      <td>low</td>\n",
       "      <td>0.040972</td>\n",
       "      <td>0.023048</td>\n",
       "      <td>0.793611</td>\n",
       "      <td>0.816659</td>\n",
       "      <td>232.974758</td>\n",
       "    </tr>\n",
       "    <tr>\n",
       "      <th>3</th>\n",
       "      <td>42.95000</td>\n",
       "      <td>-87.90000</td>\n",
       "      <td>41.978610</td>\n",
       "      <td>-87.90472</td>\n",
       "      <td>16</td>\n",
       "      <td>7.315920</td>\n",
       "      <td>low</td>\n",
       "      <td>-0.000082</td>\n",
       "      <td>-0.016954</td>\n",
       "      <td>0.749619</td>\n",
       "      <td>0.732665</td>\n",
       "      <td>108.014334</td>\n",
       "    </tr>\n",
       "    <tr>\n",
       "      <th>4</th>\n",
       "      <td>43.62750</td>\n",
       "      <td>-79.39611</td>\n",
       "      <td>45.322500</td>\n",
       "      <td>-75.66917</td>\n",
       "      <td>15</td>\n",
       "      <td>7.543500</td>\n",
       "      <td>low</td>\n",
       "      <td>0.065047</td>\n",
       "      <td>0.029583</td>\n",
       "      <td>0.761444</td>\n",
       "      <td>0.791027</td>\n",
       "      <td>350.609816</td>\n",
       "    </tr>\n",
       "  </tbody>\n",
       "</table>\n",
       "</div>"
      ],
      "text/plain": [
       "     DepLat    DepLon     ArrLat    ArrLon  NbFlights  CO2Intensity category  \\\n",
       "0  46.79111 -71.39333  45.470550 -73.74083         15      5.763482      low   \n",
       "1   5.15000  73.13000   4.191944  73.52917         20      6.000000     high   \n",
       "2  45.47055 -73.74083  46.791110 -71.39333         16      6.130586      low   \n",
       "3  42.95000 -87.90000  41.978610 -87.90472         16      7.315920      low   \n",
       "4  43.62750 -79.39611  45.322500 -75.66917         15      7.543500      low   \n",
       "\n",
       "   delta_lon  delta_lat  deplat_rad  arrlat_rad    distance  \n",
       "0  -0.040972  -0.023048    0.816659    0.793611  232.974758  \n",
       "1   0.006967  -0.016721    0.089884    0.073163  115.350875  \n",
       "2   0.040972   0.023048    0.793611    0.816659  232.974758  \n",
       "3  -0.000082  -0.016954    0.749619    0.732665  108.014334  \n",
       "4   0.065047   0.029583    0.761444    0.791027  350.609816  "
      ]
     },
     "execution_count": 41,
     "metadata": {},
     "output_type": "execute_result"
    }
   ],
   "source": [
    "df_lim.head()"
   ]
  },
  {
   "cell_type": "code",
   "execution_count": 50,
   "metadata": {
    "ExecuteTime": {
     "end_time": "2019-08-01T10:07:21.485197Z",
     "start_time": "2019-08-01T10:07:21.480361Z"
    }
   },
   "outputs": [],
   "source": [
    "def hashkey(*cols):\n",
    "    m = hashlib.md5()\n",
    "    for col in cols:\n",
    "        m.update(str(col).encode())\n",
    "    return m.hexdigest()"
   ]
  },
  {
   "cell_type": "code",
   "execution_count": 51,
   "metadata": {
    "ExecuteTime": {
     "end_time": "2019-08-01T10:07:22.052068Z",
     "start_time": "2019-08-01T10:07:21.739775Z"
    }
   },
   "outputs": [],
   "source": [
    "df_lim['key'] = df_lim.apply(hashkey, axis=1)"
   ]
  },
  {
   "cell_type": "code",
   "execution_count": 52,
   "metadata": {
    "ExecuteTime": {
     "end_time": "2019-08-01T10:07:22.726269Z",
     "start_time": "2019-08-01T10:07:22.699182Z"
    }
   },
   "outputs": [
    {
     "data": {
      "text/html": [
       "<div>\n",
       "<style scoped>\n",
       "    .dataframe tbody tr th:only-of-type {\n",
       "        vertical-align: middle;\n",
       "    }\n",
       "\n",
       "    .dataframe tbody tr th {\n",
       "        vertical-align: top;\n",
       "    }\n",
       "\n",
       "    .dataframe thead th {\n",
       "        text-align: right;\n",
       "    }\n",
       "</style>\n",
       "<table border=\"1\" class=\"dataframe\">\n",
       "  <thead>\n",
       "    <tr style=\"text-align: right;\">\n",
       "      <th></th>\n",
       "      <th>DepLat</th>\n",
       "      <th>DepLon</th>\n",
       "      <th>ArrLat</th>\n",
       "      <th>ArrLon</th>\n",
       "      <th>NbFlights</th>\n",
       "      <th>CO2Intensity</th>\n",
       "      <th>category</th>\n",
       "      <th>delta_lon</th>\n",
       "      <th>delta_lat</th>\n",
       "      <th>deplat_rad</th>\n",
       "      <th>arrlat_rad</th>\n",
       "      <th>distance</th>\n",
       "      <th>key</th>\n",
       "    </tr>\n",
       "  </thead>\n",
       "  <tbody>\n",
       "    <tr>\n",
       "      <th>0</th>\n",
       "      <td>46.79111</td>\n",
       "      <td>-71.39333</td>\n",
       "      <td>45.470550</td>\n",
       "      <td>-73.74083</td>\n",
       "      <td>15</td>\n",
       "      <td>5.763482</td>\n",
       "      <td>low</td>\n",
       "      <td>-0.040972</td>\n",
       "      <td>-0.023048</td>\n",
       "      <td>0.816659</td>\n",
       "      <td>0.793611</td>\n",
       "      <td>232.974758</td>\n",
       "      <td>a83693bccc850b9cfd380249ae94af5c</td>\n",
       "    </tr>\n",
       "    <tr>\n",
       "      <th>1</th>\n",
       "      <td>5.15000</td>\n",
       "      <td>73.13000</td>\n",
       "      <td>4.191944</td>\n",
       "      <td>73.52917</td>\n",
       "      <td>20</td>\n",
       "      <td>6.000000</td>\n",
       "      <td>high</td>\n",
       "      <td>0.006967</td>\n",
       "      <td>-0.016721</td>\n",
       "      <td>0.089884</td>\n",
       "      <td>0.073163</td>\n",
       "      <td>115.350875</td>\n",
       "      <td>afe107bbcbc4f1a833353dddd9824ea8</td>\n",
       "    </tr>\n",
       "    <tr>\n",
       "      <th>2</th>\n",
       "      <td>45.47055</td>\n",
       "      <td>-73.74083</td>\n",
       "      <td>46.791110</td>\n",
       "      <td>-71.39333</td>\n",
       "      <td>16</td>\n",
       "      <td>6.130586</td>\n",
       "      <td>low</td>\n",
       "      <td>0.040972</td>\n",
       "      <td>0.023048</td>\n",
       "      <td>0.793611</td>\n",
       "      <td>0.816659</td>\n",
       "      <td>232.974758</td>\n",
       "      <td>25990f664dee4d58f78a0fe1a60eeed9</td>\n",
       "    </tr>\n",
       "    <tr>\n",
       "      <th>3</th>\n",
       "      <td>42.95000</td>\n",
       "      <td>-87.90000</td>\n",
       "      <td>41.978610</td>\n",
       "      <td>-87.90472</td>\n",
       "      <td>16</td>\n",
       "      <td>7.315920</td>\n",
       "      <td>low</td>\n",
       "      <td>-0.000082</td>\n",
       "      <td>-0.016954</td>\n",
       "      <td>0.749619</td>\n",
       "      <td>0.732665</td>\n",
       "      <td>108.014334</td>\n",
       "      <td>c6c5cc84cfce184589027ed1690c046a</td>\n",
       "    </tr>\n",
       "    <tr>\n",
       "      <th>4</th>\n",
       "      <td>43.62750</td>\n",
       "      <td>-79.39611</td>\n",
       "      <td>45.322500</td>\n",
       "      <td>-75.66917</td>\n",
       "      <td>15</td>\n",
       "      <td>7.543500</td>\n",
       "      <td>low</td>\n",
       "      <td>0.065047</td>\n",
       "      <td>0.029583</td>\n",
       "      <td>0.761444</td>\n",
       "      <td>0.791027</td>\n",
       "      <td>350.609816</td>\n",
       "      <td>bdb0cef3cfafa6b50a9ba15a6cabec28</td>\n",
       "    </tr>\n",
       "  </tbody>\n",
       "</table>\n",
       "</div>"
      ],
      "text/plain": [
       "     DepLat    DepLon     ArrLat    ArrLon  NbFlights  CO2Intensity category  \\\n",
       "0  46.79111 -71.39333  45.470550 -73.74083         15      5.763482      low   \n",
       "1   5.15000  73.13000   4.191944  73.52917         20      6.000000     high   \n",
       "2  45.47055 -73.74083  46.791110 -71.39333         16      6.130586      low   \n",
       "3  42.95000 -87.90000  41.978610 -87.90472         16      7.315920      low   \n",
       "4  43.62750 -79.39611  45.322500 -75.66917         15      7.543500      low   \n",
       "\n",
       "   delta_lon  delta_lat  deplat_rad  arrlat_rad    distance  \\\n",
       "0  -0.040972  -0.023048    0.816659    0.793611  232.974758   \n",
       "1   0.006967  -0.016721    0.089884    0.073163  115.350875   \n",
       "2   0.040972   0.023048    0.793611    0.816659  232.974758   \n",
       "3  -0.000082  -0.016954    0.749619    0.732665  108.014334   \n",
       "4   0.065047   0.029583    0.761444    0.791027  350.609816   \n",
       "\n",
       "                                key  \n",
       "0  a83693bccc850b9cfd380249ae94af5c  \n",
       "1  afe107bbcbc4f1a833353dddd9824ea8  \n",
       "2  25990f664dee4d58f78a0fe1a60eeed9  \n",
       "3  c6c5cc84cfce184589027ed1690c046a  \n",
       "4  bdb0cef3cfafa6b50a9ba15a6cabec28  "
      ]
     },
     "execution_count": 52,
     "metadata": {},
     "output_type": "execute_result"
    }
   ],
   "source": [
    "df_lim.head()"
   ]
  },
  {
   "cell_type": "code",
   "execution_count": 53,
   "metadata": {
    "ExecuteTime": {
     "end_time": "2019-08-01T10:07:24.407453Z",
     "start_time": "2019-08-01T10:07:24.397415Z"
    }
   },
   "outputs": [
    {
     "data": {
      "text/plain": [
       "NbFlights         5367.000000\n",
       "CO2Intensity      5176.760434\n",
       "distance        324475.988789\n",
       "dtype: float64"
      ]
     },
     "execution_count": 53,
     "metadata": {},
     "output_type": "execute_result"
    }
   ],
   "source": [
    "agg_total = df_lim[['NbFlights', 'CO2Intensity', 'distance']].sum()\n",
    "agg_total"
   ]
  },
  {
   "cell_type": "code",
   "execution_count": 54,
   "metadata": {
    "ExecuteTime": {
     "end_time": "2019-08-01T10:07:24.912249Z",
     "start_time": "2019-08-01T10:07:24.895749Z"
    }
   },
   "outputs": [
    {
     "data": {
      "text/plain": [
       "NbFlights         3297.000000\n",
       "CO2Intensity      3090.180110\n",
       "distance        207848.399004\n",
       "dtype: float64"
      ]
     },
     "execution_count": 54,
     "metadata": {},
     "output_type": "execute_result"
    }
   ],
   "source": [
    "agg_low = df_lim[df_lim.category == 'low'][['NbFlights', 'CO2Intensity', 'distance']].sum()\n",
    "agg_low"
   ]
  },
  {
   "cell_type": "code",
   "execution_count": 55,
   "metadata": {
    "ExecuteTime": {
     "end_time": "2019-08-01T10:07:25.339366Z",
     "start_time": "2019-08-01T10:07:25.329535Z"
    }
   },
   "outputs": [
    {
     "data": {
      "text/plain": [
       "NbFlights         2070.000000\n",
       "CO2Intensity      2086.580324\n",
       "distance        116627.589785\n",
       "dtype: float64"
      ]
     },
     "execution_count": 55,
     "metadata": {},
     "output_type": "execute_result"
    }
   ],
   "source": [
    "agg_high = df_lim[df_lim.category == 'high'][['NbFlights', 'CO2Intensity', 'distance']].sum()\n",
    "agg_high"
   ]
  },
  {
   "cell_type": "code",
   "execution_count": 56,
   "metadata": {
    "ExecuteTime": {
     "end_time": "2019-08-01T10:07:25.701615Z",
     "start_time": "2019-08-01T10:07:25.690699Z"
    }
   },
   "outputs": [
    {
     "data": {
      "text/html": [
       "<div>\n",
       "<style scoped>\n",
       "    .dataframe tbody tr th:only-of-type {\n",
       "        vertical-align: middle;\n",
       "    }\n",
       "\n",
       "    .dataframe tbody tr th {\n",
       "        vertical-align: top;\n",
       "    }\n",
       "\n",
       "    .dataframe thead th {\n",
       "        text-align: right;\n",
       "    }\n",
       "</style>\n",
       "<table border=\"1\" class=\"dataframe\">\n",
       "  <thead>\n",
       "    <tr style=\"text-align: right;\">\n",
       "      <th></th>\n",
       "      <th>total</th>\n",
       "    </tr>\n",
       "  </thead>\n",
       "  <tbody>\n",
       "    <tr>\n",
       "      <th>NbFlights</th>\n",
       "      <td>5367.000000</td>\n",
       "    </tr>\n",
       "    <tr>\n",
       "      <th>CO2Intensity</th>\n",
       "      <td>5176.760434</td>\n",
       "    </tr>\n",
       "    <tr>\n",
       "      <th>distance</th>\n",
       "      <td>324475.988789</td>\n",
       "    </tr>\n",
       "  </tbody>\n",
       "</table>\n",
       "</div>"
      ],
      "text/plain": [
       "                      total\n",
       "NbFlights       5367.000000\n",
       "CO2Intensity    5176.760434\n",
       "distance      324475.988789"
      ]
     },
     "execution_count": 56,
     "metadata": {},
     "output_type": "execute_result"
    }
   ],
   "source": [
    "df_agg_total = pd.DataFrame(agg_total, columns=['total'])\n",
    "df_agg_total"
   ]
  },
  {
   "cell_type": "code",
   "execution_count": 57,
   "metadata": {
    "ExecuteTime": {
     "end_time": "2019-08-01T10:07:26.184500Z",
     "start_time": "2019-08-01T10:07:26.170248Z"
    }
   },
   "outputs": [
    {
     "data": {
      "text/html": [
       "<div>\n",
       "<style scoped>\n",
       "    .dataframe tbody tr th:only-of-type {\n",
       "        vertical-align: middle;\n",
       "    }\n",
       "\n",
       "    .dataframe tbody tr th {\n",
       "        vertical-align: top;\n",
       "    }\n",
       "\n",
       "    .dataframe thead th {\n",
       "        text-align: right;\n",
       "    }\n",
       "</style>\n",
       "<table border=\"1\" class=\"dataframe\">\n",
       "  <thead>\n",
       "    <tr style=\"text-align: right;\">\n",
       "      <th></th>\n",
       "      <th>low</th>\n",
       "      <th>high</th>\n",
       "      <th>total</th>\n",
       "    </tr>\n",
       "  </thead>\n",
       "  <tbody>\n",
       "    <tr>\n",
       "      <th>NbFlights</th>\n",
       "      <td>3297.000000</td>\n",
       "      <td>2070.000000</td>\n",
       "      <td>5367.000000</td>\n",
       "    </tr>\n",
       "    <tr>\n",
       "      <th>CO2Intensity</th>\n",
       "      <td>3090.180110</td>\n",
       "      <td>2086.580324</td>\n",
       "      <td>5176.760434</td>\n",
       "    </tr>\n",
       "    <tr>\n",
       "      <th>distance</th>\n",
       "      <td>207848.399004</td>\n",
       "      <td>116627.589785</td>\n",
       "      <td>324475.988789</td>\n",
       "    </tr>\n",
       "  </tbody>\n",
       "</table>\n",
       "</div>"
      ],
      "text/plain": [
       "                        low           high          total\n",
       "NbFlights       3297.000000    2070.000000    5367.000000\n",
       "CO2Intensity    3090.180110    2086.580324    5176.760434\n",
       "distance      207848.399004  116627.589785  324475.988789"
      ]
     },
     "execution_count": 57,
     "metadata": {},
     "output_type": "execute_result"
    }
   ],
   "source": [
    "df_agg = pd.concat([\n",
    "    pd.DataFrame(agg_low, columns=['low']),\n",
    "    pd.DataFrame(agg_high, columns=['high']),\n",
    "    pd.DataFrame(agg_total, columns=['total']),\n",
    "], axis=1)\n",
    "df_agg"
   ]
  },
  {
   "cell_type": "code",
   "execution_count": 58,
   "metadata": {
    "ExecuteTime": {
     "end_time": "2019-08-01T10:07:26.655929Z",
     "start_time": "2019-08-01T10:07:26.651243Z"
    }
   },
   "outputs": [],
   "source": [
    "high = df_lim[df_lim.category == 'high']"
   ]
  },
  {
   "cell_type": "code",
   "execution_count": 59,
   "metadata": {
    "ExecuteTime": {
     "end_time": "2019-08-01T10:07:27.123784Z",
     "start_time": "2019-08-01T10:07:27.118975Z"
    }
   },
   "outputs": [],
   "source": [
    "def concat_mean_agg(df, series, col, agg=None):\n",
    "    agg = agg or 'mean'\n",
    "    return df.join(\n",
    "        pd.concat([\n",
    "            pd.Series(\n",
    "                serie.aggregate(agg),\n",
    "                serie.index,\n",
    "            ).rename(col) for serie in series\n",
    "        ], axis=0)\n",
    "    )"
   ]
  },
  {
   "cell_type": "code",
   "execution_count": 60,
   "metadata": {
    "ExecuteTime": {
     "end_time": "2019-08-01T10:07:27.742392Z",
     "start_time": "2019-08-01T10:07:27.719938Z"
    }
   },
   "outputs": [],
   "source": [
    "df_new = concat_mean_agg(\n",
    "    df_lim,\n",
    "    [\n",
    "        df_lim[df_lim.category == 'high'].NbFlights,\n",
    "        df_lim[df_lim.category == 'low'].NbFlights,\n",
    "    ],\n",
    "    'sum',\n",
    "    agg='sum'\n",
    ")\n",
    "\n",
    "df_new = concat_mean_agg(\n",
    "    df_new,\n",
    "    [\n",
    "        df_new[df_new.category == 'high'].NbFlights,\n",
    "        df_new[df_new.category == 'low'].NbFlights,\n",
    "    ],\n",
    "    'mean',\n",
    "    agg='mean'\n",
    ")"
   ]
  },
  {
   "cell_type": "code",
   "execution_count": 82,
   "metadata": {
    "ExecuteTime": {
     "end_time": "2019-08-01T10:13:21.394963Z",
     "start_time": "2019-08-01T10:13:21.370059Z"
    }
   },
   "outputs": [
    {
     "data": {
      "text/html": [
       "<div>\n",
       "<style scoped>\n",
       "    .dataframe tbody tr th:only-of-type {\n",
       "        vertical-align: middle;\n",
       "    }\n",
       "\n",
       "    .dataframe tbody tr th {\n",
       "        vertical-align: top;\n",
       "    }\n",
       "\n",
       "    .dataframe thead th {\n",
       "        text-align: right;\n",
       "    }\n",
       "</style>\n",
       "<table border=\"1\" class=\"dataframe\">\n",
       "  <thead>\n",
       "    <tr style=\"text-align: right;\">\n",
       "      <th></th>\n",
       "      <th>DepLat</th>\n",
       "      <th>DepLon</th>\n",
       "      <th>ArrLat</th>\n",
       "      <th>ArrLon</th>\n",
       "      <th>NbFlights</th>\n",
       "      <th>CO2Intensity</th>\n",
       "      <th>category</th>\n",
       "      <th>delta_lon</th>\n",
       "      <th>delta_lat</th>\n",
       "      <th>deplat_rad</th>\n",
       "      <th>arrlat_rad</th>\n",
       "      <th>distance</th>\n",
       "      <th>key</th>\n",
       "      <th>sum</th>\n",
       "      <th>mean</th>\n",
       "    </tr>\n",
       "  </thead>\n",
       "  <tbody>\n",
       "    <tr>\n",
       "      <th>0</th>\n",
       "      <td>46.79111</td>\n",
       "      <td>-71.39333</td>\n",
       "      <td>45.470550</td>\n",
       "      <td>-73.74083</td>\n",
       "      <td>15</td>\n",
       "      <td>5.763482</td>\n",
       "      <td>low</td>\n",
       "      <td>-0.040972</td>\n",
       "      <td>-0.023048</td>\n",
       "      <td>0.816659</td>\n",
       "      <td>0.793611</td>\n",
       "      <td>232.974758</td>\n",
       "      <td>a83693bccc850b9cfd380249ae94af5c</td>\n",
       "      <td>3297</td>\n",
       "      <td>15.850962</td>\n",
       "    </tr>\n",
       "    <tr>\n",
       "      <th>1</th>\n",
       "      <td>5.15000</td>\n",
       "      <td>73.13000</td>\n",
       "      <td>4.191944</td>\n",
       "      <td>73.52917</td>\n",
       "      <td>20</td>\n",
       "      <td>6.000000</td>\n",
       "      <td>high</td>\n",
       "      <td>0.006967</td>\n",
       "      <td>-0.016721</td>\n",
       "      <td>0.089884</td>\n",
       "      <td>0.073163</td>\n",
       "      <td>115.350875</td>\n",
       "      <td>afe107bbcbc4f1a833353dddd9824ea8</td>\n",
       "      <td>2070</td>\n",
       "      <td>18.990826</td>\n",
       "    </tr>\n",
       "    <tr>\n",
       "      <th>2</th>\n",
       "      <td>45.47055</td>\n",
       "      <td>-73.74083</td>\n",
       "      <td>46.791110</td>\n",
       "      <td>-71.39333</td>\n",
       "      <td>16</td>\n",
       "      <td>6.130586</td>\n",
       "      <td>low</td>\n",
       "      <td>0.040972</td>\n",
       "      <td>0.023048</td>\n",
       "      <td>0.793611</td>\n",
       "      <td>0.816659</td>\n",
       "      <td>232.974758</td>\n",
       "      <td>25990f664dee4d58f78a0fe1a60eeed9</td>\n",
       "      <td>3297</td>\n",
       "      <td>15.850962</td>\n",
       "    </tr>\n",
       "    <tr>\n",
       "      <th>3</th>\n",
       "      <td>42.95000</td>\n",
       "      <td>-87.90000</td>\n",
       "      <td>41.978610</td>\n",
       "      <td>-87.90472</td>\n",
       "      <td>16</td>\n",
       "      <td>7.315920</td>\n",
       "      <td>low</td>\n",
       "      <td>-0.000082</td>\n",
       "      <td>-0.016954</td>\n",
       "      <td>0.749619</td>\n",
       "      <td>0.732665</td>\n",
       "      <td>108.014334</td>\n",
       "      <td>c6c5cc84cfce184589027ed1690c046a</td>\n",
       "      <td>3297</td>\n",
       "      <td>15.850962</td>\n",
       "    </tr>\n",
       "    <tr>\n",
       "      <th>4</th>\n",
       "      <td>43.62750</td>\n",
       "      <td>-79.39611</td>\n",
       "      <td>45.322500</td>\n",
       "      <td>-75.66917</td>\n",
       "      <td>15</td>\n",
       "      <td>7.543500</td>\n",
       "      <td>low</td>\n",
       "      <td>0.065047</td>\n",
       "      <td>0.029583</td>\n",
       "      <td>0.761444</td>\n",
       "      <td>0.791027</td>\n",
       "      <td>350.609816</td>\n",
       "      <td>bdb0cef3cfafa6b50a9ba15a6cabec28</td>\n",
       "      <td>3297</td>\n",
       "      <td>15.850962</td>\n",
       "    </tr>\n",
       "  </tbody>\n",
       "</table>\n",
       "</div>"
      ],
      "text/plain": [
       "     DepLat    DepLon     ArrLat    ArrLon  NbFlights  CO2Intensity category  \\\n",
       "0  46.79111 -71.39333  45.470550 -73.74083         15      5.763482      low   \n",
       "1   5.15000  73.13000   4.191944  73.52917         20      6.000000     high   \n",
       "2  45.47055 -73.74083  46.791110 -71.39333         16      6.130586      low   \n",
       "3  42.95000 -87.90000  41.978610 -87.90472         16      7.315920      low   \n",
       "4  43.62750 -79.39611  45.322500 -75.66917         15      7.543500      low   \n",
       "\n",
       "   delta_lon  delta_lat  deplat_rad  arrlat_rad    distance  \\\n",
       "0  -0.040972  -0.023048    0.816659    0.793611  232.974758   \n",
       "1   0.006967  -0.016721    0.089884    0.073163  115.350875   \n",
       "2   0.040972   0.023048    0.793611    0.816659  232.974758   \n",
       "3  -0.000082  -0.016954    0.749619    0.732665  108.014334   \n",
       "4   0.065047   0.029583    0.761444    0.791027  350.609816   \n",
       "\n",
       "                                key   sum       mean  \n",
       "0  a83693bccc850b9cfd380249ae94af5c  3297  15.850962  \n",
       "1  afe107bbcbc4f1a833353dddd9824ea8  2070  18.990826  \n",
       "2  25990f664dee4d58f78a0fe1a60eeed9  3297  15.850962  \n",
       "3  c6c5cc84cfce184589027ed1690c046a  3297  15.850962  \n",
       "4  bdb0cef3cfafa6b50a9ba15a6cabec28  3297  15.850962  "
      ]
     },
     "execution_count": 82,
     "metadata": {},
     "output_type": "execute_result"
    }
   ],
   "source": [
    "df_new.head()"
   ]
  },
  {
   "cell_type": "code",
   "execution_count": 61,
   "metadata": {
    "ExecuteTime": {
     "end_time": "2019-08-01T10:07:28.315236Z",
     "start_time": "2019-08-01T10:07:28.301704Z"
    }
   },
   "outputs": [
    {
     "data": {
      "text/plain": [
       "category\n",
       "high    2070\n",
       "low     3297\n",
       "Name: NbFlights, dtype: int64"
      ]
     },
     "execution_count": 61,
     "metadata": {},
     "output_type": "execute_result"
    }
   ],
   "source": [
    "df_lim.groupby(by='category').NbFlights.aggregate('sum')"
   ]
  },
  {
   "cell_type": "code",
   "execution_count": 62,
   "metadata": {
    "ExecuteTime": {
     "end_time": "2019-08-01T10:07:37.037698Z",
     "start_time": "2019-08-01T10:07:36.991154Z"
    }
   },
   "outputs": [
    {
     "data": {
      "text/html": [
       "<div>\n",
       "<style scoped>\n",
       "    .dataframe tbody tr th:only-of-type {\n",
       "        vertical-align: middle;\n",
       "    }\n",
       "\n",
       "    .dataframe tbody tr th {\n",
       "        vertical-align: top;\n",
       "    }\n",
       "\n",
       "    .dataframe thead th {\n",
       "        text-align: right;\n",
       "    }\n",
       "</style>\n",
       "<table border=\"1\" class=\"dataframe\">\n",
       "  <thead>\n",
       "    <tr style=\"text-align: right;\">\n",
       "      <th></th>\n",
       "      <th>DepLat</th>\n",
       "      <th>DepLon</th>\n",
       "      <th>ArrLat</th>\n",
       "      <th>ArrLon</th>\n",
       "      <th>NbFlights</th>\n",
       "      <th>CO2Intensity</th>\n",
       "      <th>category</th>\n",
       "      <th>delta_lon</th>\n",
       "      <th>delta_lat</th>\n",
       "      <th>deplat_rad</th>\n",
       "      <th>arrlat_rad</th>\n",
       "      <th>distance</th>\n",
       "      <th>key</th>\n",
       "      <th>NbFlights_sum</th>\n",
       "    </tr>\n",
       "  </thead>\n",
       "  <tbody>\n",
       "    <tr>\n",
       "      <th>0</th>\n",
       "      <td>46.79111</td>\n",
       "      <td>-71.39333</td>\n",
       "      <td>45.470550</td>\n",
       "      <td>-73.74083</td>\n",
       "      <td>15</td>\n",
       "      <td>5.763482</td>\n",
       "      <td>low</td>\n",
       "      <td>-0.040972</td>\n",
       "      <td>-0.023048</td>\n",
       "      <td>0.816659</td>\n",
       "      <td>0.793611</td>\n",
       "      <td>232.974758</td>\n",
       "      <td>a83693bccc850b9cfd380249ae94af5c</td>\n",
       "      <td>3297</td>\n",
       "    </tr>\n",
       "    <tr>\n",
       "      <th>1</th>\n",
       "      <td>5.15000</td>\n",
       "      <td>73.13000</td>\n",
       "      <td>4.191944</td>\n",
       "      <td>73.52917</td>\n",
       "      <td>20</td>\n",
       "      <td>6.000000</td>\n",
       "      <td>high</td>\n",
       "      <td>0.006967</td>\n",
       "      <td>-0.016721</td>\n",
       "      <td>0.089884</td>\n",
       "      <td>0.073163</td>\n",
       "      <td>115.350875</td>\n",
       "      <td>afe107bbcbc4f1a833353dddd9824ea8</td>\n",
       "      <td>2070</td>\n",
       "    </tr>\n",
       "    <tr>\n",
       "      <th>2</th>\n",
       "      <td>45.47055</td>\n",
       "      <td>-73.74083</td>\n",
       "      <td>46.791110</td>\n",
       "      <td>-71.39333</td>\n",
       "      <td>16</td>\n",
       "      <td>6.130586</td>\n",
       "      <td>low</td>\n",
       "      <td>0.040972</td>\n",
       "      <td>0.023048</td>\n",
       "      <td>0.793611</td>\n",
       "      <td>0.816659</td>\n",
       "      <td>232.974758</td>\n",
       "      <td>25990f664dee4d58f78a0fe1a60eeed9</td>\n",
       "      <td>3297</td>\n",
       "    </tr>\n",
       "    <tr>\n",
       "      <th>3</th>\n",
       "      <td>42.95000</td>\n",
       "      <td>-87.90000</td>\n",
       "      <td>41.978610</td>\n",
       "      <td>-87.90472</td>\n",
       "      <td>16</td>\n",
       "      <td>7.315920</td>\n",
       "      <td>low</td>\n",
       "      <td>-0.000082</td>\n",
       "      <td>-0.016954</td>\n",
       "      <td>0.749619</td>\n",
       "      <td>0.732665</td>\n",
       "      <td>108.014334</td>\n",
       "      <td>c6c5cc84cfce184589027ed1690c046a</td>\n",
       "      <td>3297</td>\n",
       "    </tr>\n",
       "    <tr>\n",
       "      <th>4</th>\n",
       "      <td>43.62750</td>\n",
       "      <td>-79.39611</td>\n",
       "      <td>45.322500</td>\n",
       "      <td>-75.66917</td>\n",
       "      <td>15</td>\n",
       "      <td>7.543500</td>\n",
       "      <td>low</td>\n",
       "      <td>0.065047</td>\n",
       "      <td>0.029583</td>\n",
       "      <td>0.761444</td>\n",
       "      <td>0.791027</td>\n",
       "      <td>350.609816</td>\n",
       "      <td>bdb0cef3cfafa6b50a9ba15a6cabec28</td>\n",
       "      <td>3297</td>\n",
       "    </tr>\n",
       "  </tbody>\n",
       "</table>\n",
       "</div>"
      ],
      "text/plain": [
       "     DepLat    DepLon     ArrLat    ArrLon  NbFlights  CO2Intensity category  \\\n",
       "0  46.79111 -71.39333  45.470550 -73.74083         15      5.763482      low   \n",
       "1   5.15000  73.13000   4.191944  73.52917         20      6.000000     high   \n",
       "2  45.47055 -73.74083  46.791110 -71.39333         16      6.130586      low   \n",
       "3  42.95000 -87.90000  41.978610 -87.90472         16      7.315920      low   \n",
       "4  43.62750 -79.39611  45.322500 -75.66917         15      7.543500      low   \n",
       "\n",
       "   delta_lon  delta_lat  deplat_rad  arrlat_rad    distance  \\\n",
       "0  -0.040972  -0.023048    0.816659    0.793611  232.974758   \n",
       "1   0.006967  -0.016721    0.089884    0.073163  115.350875   \n",
       "2   0.040972   0.023048    0.793611    0.816659  232.974758   \n",
       "3  -0.000082  -0.016954    0.749619    0.732665  108.014334   \n",
       "4   0.065047   0.029583    0.761444    0.791027  350.609816   \n",
       "\n",
       "                                key  NbFlights_sum  \n",
       "0  a83693bccc850b9cfd380249ae94af5c           3297  \n",
       "1  afe107bbcbc4f1a833353dddd9824ea8           2070  \n",
       "2  25990f664dee4d58f78a0fe1a60eeed9           3297  \n",
       "3  c6c5cc84cfce184589027ed1690c046a           3297  \n",
       "4  bdb0cef3cfafa6b50a9ba15a6cabec28           3297  "
      ]
     },
     "execution_count": 62,
     "metadata": {},
     "output_type": "execute_result"
    }
   ],
   "source": [
    "df_lim.join(df_lim.groupby('category').NbFlights.sum(), on='category', rsuffix='_sum').head()"
   ]
  },
  {
   "cell_type": "code",
   "execution_count": 63,
   "metadata": {
    "ExecuteTime": {
     "end_time": "2019-08-01T10:07:37.421058Z",
     "start_time": "2019-08-01T10:07:37.386594Z"
    }
   },
   "outputs": [
    {
     "data": {
      "text/html": [
       "<div>\n",
       "<style scoped>\n",
       "    .dataframe tbody tr th:only-of-type {\n",
       "        vertical-align: middle;\n",
       "    }\n",
       "\n",
       "    .dataframe tbody tr th {\n",
       "        vertical-align: top;\n",
       "    }\n",
       "\n",
       "    .dataframe thead th {\n",
       "        text-align: right;\n",
       "    }\n",
       "</style>\n",
       "<table border=\"1\" class=\"dataframe\">\n",
       "  <thead>\n",
       "    <tr style=\"text-align: right;\">\n",
       "      <th></th>\n",
       "      <th>DepLat</th>\n",
       "      <th>DepLon</th>\n",
       "      <th>ArrLat</th>\n",
       "      <th>ArrLon</th>\n",
       "      <th>NbFlights</th>\n",
       "      <th>CO2Intensity</th>\n",
       "      <th>category</th>\n",
       "      <th>delta_lon</th>\n",
       "      <th>delta_lat</th>\n",
       "      <th>deplat_rad</th>\n",
       "      <th>arrlat_rad</th>\n",
       "      <th>distance</th>\n",
       "      <th>key</th>\n",
       "      <th>NbFlights_mean</th>\n",
       "    </tr>\n",
       "  </thead>\n",
       "  <tbody>\n",
       "    <tr>\n",
       "      <th>0</th>\n",
       "      <td>46.79111</td>\n",
       "      <td>-71.39333</td>\n",
       "      <td>45.470550</td>\n",
       "      <td>-73.74083</td>\n",
       "      <td>15</td>\n",
       "      <td>5.763482</td>\n",
       "      <td>low</td>\n",
       "      <td>-0.040972</td>\n",
       "      <td>-0.023048</td>\n",
       "      <td>0.816659</td>\n",
       "      <td>0.793611</td>\n",
       "      <td>232.974758</td>\n",
       "      <td>a83693bccc850b9cfd380249ae94af5c</td>\n",
       "      <td>15.850962</td>\n",
       "    </tr>\n",
       "    <tr>\n",
       "      <th>1</th>\n",
       "      <td>5.15000</td>\n",
       "      <td>73.13000</td>\n",
       "      <td>4.191944</td>\n",
       "      <td>73.52917</td>\n",
       "      <td>20</td>\n",
       "      <td>6.000000</td>\n",
       "      <td>high</td>\n",
       "      <td>0.006967</td>\n",
       "      <td>-0.016721</td>\n",
       "      <td>0.089884</td>\n",
       "      <td>0.073163</td>\n",
       "      <td>115.350875</td>\n",
       "      <td>afe107bbcbc4f1a833353dddd9824ea8</td>\n",
       "      <td>18.990826</td>\n",
       "    </tr>\n",
       "    <tr>\n",
       "      <th>2</th>\n",
       "      <td>45.47055</td>\n",
       "      <td>-73.74083</td>\n",
       "      <td>46.791110</td>\n",
       "      <td>-71.39333</td>\n",
       "      <td>16</td>\n",
       "      <td>6.130586</td>\n",
       "      <td>low</td>\n",
       "      <td>0.040972</td>\n",
       "      <td>0.023048</td>\n",
       "      <td>0.793611</td>\n",
       "      <td>0.816659</td>\n",
       "      <td>232.974758</td>\n",
       "      <td>25990f664dee4d58f78a0fe1a60eeed9</td>\n",
       "      <td>15.850962</td>\n",
       "    </tr>\n",
       "    <tr>\n",
       "      <th>3</th>\n",
       "      <td>42.95000</td>\n",
       "      <td>-87.90000</td>\n",
       "      <td>41.978610</td>\n",
       "      <td>-87.90472</td>\n",
       "      <td>16</td>\n",
       "      <td>7.315920</td>\n",
       "      <td>low</td>\n",
       "      <td>-0.000082</td>\n",
       "      <td>-0.016954</td>\n",
       "      <td>0.749619</td>\n",
       "      <td>0.732665</td>\n",
       "      <td>108.014334</td>\n",
       "      <td>c6c5cc84cfce184589027ed1690c046a</td>\n",
       "      <td>15.850962</td>\n",
       "    </tr>\n",
       "    <tr>\n",
       "      <th>4</th>\n",
       "      <td>43.62750</td>\n",
       "      <td>-79.39611</td>\n",
       "      <td>45.322500</td>\n",
       "      <td>-75.66917</td>\n",
       "      <td>15</td>\n",
       "      <td>7.543500</td>\n",
       "      <td>low</td>\n",
       "      <td>0.065047</td>\n",
       "      <td>0.029583</td>\n",
       "      <td>0.761444</td>\n",
       "      <td>0.791027</td>\n",
       "      <td>350.609816</td>\n",
       "      <td>bdb0cef3cfafa6b50a9ba15a6cabec28</td>\n",
       "      <td>15.850962</td>\n",
       "    </tr>\n",
       "  </tbody>\n",
       "</table>\n",
       "</div>"
      ],
      "text/plain": [
       "     DepLat    DepLon     ArrLat    ArrLon  NbFlights  CO2Intensity category  \\\n",
       "0  46.79111 -71.39333  45.470550 -73.74083         15      5.763482      low   \n",
       "1   5.15000  73.13000   4.191944  73.52917         20      6.000000     high   \n",
       "2  45.47055 -73.74083  46.791110 -71.39333         16      6.130586      low   \n",
       "3  42.95000 -87.90000  41.978610 -87.90472         16      7.315920      low   \n",
       "4  43.62750 -79.39611  45.322500 -75.66917         15      7.543500      low   \n",
       "\n",
       "   delta_lon  delta_lat  deplat_rad  arrlat_rad    distance  \\\n",
       "0  -0.040972  -0.023048    0.816659    0.793611  232.974758   \n",
       "1   0.006967  -0.016721    0.089884    0.073163  115.350875   \n",
       "2   0.040972   0.023048    0.793611    0.816659  232.974758   \n",
       "3  -0.000082  -0.016954    0.749619    0.732665  108.014334   \n",
       "4   0.065047   0.029583    0.761444    0.791027  350.609816   \n",
       "\n",
       "                                key  NbFlights_mean  \n",
       "0  a83693bccc850b9cfd380249ae94af5c       15.850962  \n",
       "1  afe107bbcbc4f1a833353dddd9824ea8       18.990826  \n",
       "2  25990f664dee4d58f78a0fe1a60eeed9       15.850962  \n",
       "3  c6c5cc84cfce184589027ed1690c046a       15.850962  \n",
       "4  bdb0cef3cfafa6b50a9ba15a6cabec28       15.850962  "
      ]
     },
     "execution_count": 63,
     "metadata": {},
     "output_type": "execute_result"
    }
   ],
   "source": [
    "df_lim.join(\n",
    "    df_lim.groupby('category').NbFlights.mean(),\n",
    "    on='category',\n",
    "    rsuffix='_mean'\n",
    ").head()"
   ]
  },
  {
   "cell_type": "code",
   "execution_count": 64,
   "metadata": {
    "ExecuteTime": {
     "end_time": "2019-08-01T10:07:37.684480Z",
     "start_time": "2019-08-01T10:07:37.676236Z"
    }
   },
   "outputs": [],
   "source": [
    "def aggregate(df, rows, key):  \n",
    "    indexes = list(rows.index)\n",
    "    kws = [\n",
    "        (df.iloc[indexes[i]][key], row)\n",
    "        for i, row in enumerate(rows)\n",
    "    ]\n",
    "    return tuple(kws)"
   ]
  },
  {
   "cell_type": "code",
   "execution_count": 65,
   "metadata": {
    "ExecuteTime": {
     "end_time": "2019-08-01T10:07:37.901659Z",
     "start_time": "2019-08-01T10:07:37.882573Z"
    }
   },
   "outputs": [
    {
     "name": "stdout",
     "output_type": "stream",
     "text": [
      "CPU times: user 0 ns, sys: 0 ns, total: 0 ns\n",
      "Wall time: 6.91 µs\n"
     ]
    }
   ],
   "source": [
    "cols = ['NbFlights', 'category']\n",
    "serie = df_lim.category == 'high'\n",
    "\n",
    "%time\n",
    "\n",
    "r = df_lim[serie][cols].apply(lambda k: tuple(k), axis=1)"
   ]
  },
  {
   "cell_type": "code",
   "execution_count": 66,
   "metadata": {
    "ExecuteTime": {
     "end_time": "2019-08-01T10:07:38.205140Z",
     "start_time": "2019-08-01T10:07:38.073213Z"
    }
   },
   "outputs": [
    {
     "name": "stdout",
     "output_type": "stream",
     "text": [
      "CPU times: user 0 ns, sys: 0 ns, total: 0 ns\n",
      "Wall time: 5.96 µs\n"
     ]
    }
   ],
   "source": [
    "%time\n",
    "\n",
    "r = aggregate(df_lim, df_lim.category, 'NbFlights')"
   ]
  },
  {
   "cell_type": "code",
   "execution_count": 67,
   "metadata": {
    "ExecuteTime": {
     "end_time": "2019-08-01T10:07:38.688453Z",
     "start_time": "2019-08-01T10:07:38.623925Z"
    }
   },
   "outputs": [
    {
     "data": {
      "text/html": [
       "<div>\n",
       "<style scoped>\n",
       "    .dataframe tbody tr th:only-of-type {\n",
       "        vertical-align: middle;\n",
       "    }\n",
       "\n",
       "    .dataframe tbody tr th {\n",
       "        vertical-align: top;\n",
       "    }\n",
       "\n",
       "    .dataframe thead th {\n",
       "        text-align: right;\n",
       "    }\n",
       "</style>\n",
       "<table border=\"1\" class=\"dataframe\">\n",
       "  <thead>\n",
       "    <tr style=\"text-align: right;\">\n",
       "      <th></th>\n",
       "      <th>DepLat</th>\n",
       "      <th>DepLon</th>\n",
       "      <th>ArrLat</th>\n",
       "      <th>ArrLon</th>\n",
       "      <th>NbFlights</th>\n",
       "      <th>CO2Intensity</th>\n",
       "      <th>category</th>\n",
       "      <th>delta_lon</th>\n",
       "      <th>delta_lat</th>\n",
       "      <th>deplat_rad</th>\n",
       "      <th>arrlat_rad</th>\n",
       "      <th>distance</th>\n",
       "      <th>key</th>\n",
       "      <th>sum</th>\n",
       "      <th>mean</th>\n",
       "    </tr>\n",
       "  </thead>\n",
       "  <tbody>\n",
       "    <tr>\n",
       "      <th>0</th>\n",
       "      <td>46.791110</td>\n",
       "      <td>-71.393330</td>\n",
       "      <td>45.470550</td>\n",
       "      <td>-73.740830</td>\n",
       "      <td>15</td>\n",
       "      <td>5.763482</td>\n",
       "      <td>low</td>\n",
       "      <td>-0.040972</td>\n",
       "      <td>-0.023048</td>\n",
       "      <td>0.816659</td>\n",
       "      <td>0.793611</td>\n",
       "      <td>232.974758</td>\n",
       "      <td>a83693bccc850b9cfd380249ae94af5c</td>\n",
       "      <td>3297</td>\n",
       "      <td>15.850962</td>\n",
       "    </tr>\n",
       "    <tr>\n",
       "      <th>1</th>\n",
       "      <td>5.150000</td>\n",
       "      <td>73.130000</td>\n",
       "      <td>4.191944</td>\n",
       "      <td>73.529170</td>\n",
       "      <td>20</td>\n",
       "      <td>6.000000</td>\n",
       "      <td>high</td>\n",
       "      <td>0.006967</td>\n",
       "      <td>-0.016721</td>\n",
       "      <td>0.089884</td>\n",
       "      <td>0.073163</td>\n",
       "      <td>115.350875</td>\n",
       "      <td>afe107bbcbc4f1a833353dddd9824ea8</td>\n",
       "      <td>2070</td>\n",
       "      <td>18.990826</td>\n",
       "    </tr>\n",
       "    <tr>\n",
       "      <th>2</th>\n",
       "      <td>45.470550</td>\n",
       "      <td>-73.740830</td>\n",
       "      <td>46.791110</td>\n",
       "      <td>-71.393330</td>\n",
       "      <td>16</td>\n",
       "      <td>6.130586</td>\n",
       "      <td>low</td>\n",
       "      <td>0.040972</td>\n",
       "      <td>0.023048</td>\n",
       "      <td>0.793611</td>\n",
       "      <td>0.816659</td>\n",
       "      <td>232.974758</td>\n",
       "      <td>25990f664dee4d58f78a0fe1a60eeed9</td>\n",
       "      <td>3297</td>\n",
       "      <td>15.850962</td>\n",
       "    </tr>\n",
       "    <tr>\n",
       "      <th>3</th>\n",
       "      <td>42.950000</td>\n",
       "      <td>-87.900000</td>\n",
       "      <td>41.978610</td>\n",
       "      <td>-87.904720</td>\n",
       "      <td>16</td>\n",
       "      <td>7.315920</td>\n",
       "      <td>low</td>\n",
       "      <td>-0.000082</td>\n",
       "      <td>-0.016954</td>\n",
       "      <td>0.749619</td>\n",
       "      <td>0.732665</td>\n",
       "      <td>108.014334</td>\n",
       "      <td>c6c5cc84cfce184589027ed1690c046a</td>\n",
       "      <td>3297</td>\n",
       "      <td>15.850962</td>\n",
       "    </tr>\n",
       "    <tr>\n",
       "      <th>4</th>\n",
       "      <td>43.627500</td>\n",
       "      <td>-79.396110</td>\n",
       "      <td>45.322500</td>\n",
       "      <td>-75.669170</td>\n",
       "      <td>15</td>\n",
       "      <td>7.543500</td>\n",
       "      <td>low</td>\n",
       "      <td>0.065047</td>\n",
       "      <td>0.029583</td>\n",
       "      <td>0.761444</td>\n",
       "      <td>0.791027</td>\n",
       "      <td>350.609816</td>\n",
       "      <td>bdb0cef3cfafa6b50a9ba15a6cabec28</td>\n",
       "      <td>3297</td>\n",
       "      <td>15.850962</td>\n",
       "    </tr>\n",
       "    <tr>\n",
       "      <th>5</th>\n",
       "      <td>45.322500</td>\n",
       "      <td>-75.669170</td>\n",
       "      <td>43.627500</td>\n",
       "      <td>-79.396110</td>\n",
       "      <td>15</td>\n",
       "      <td>7.543500</td>\n",
       "      <td>low</td>\n",
       "      <td>-0.065047</td>\n",
       "      <td>-0.029583</td>\n",
       "      <td>0.791027</td>\n",
       "      <td>0.761444</td>\n",
       "      <td>350.609816</td>\n",
       "      <td>9a68a282435c916a9cd64c40225075bb</td>\n",
       "      <td>3297</td>\n",
       "      <td>15.850962</td>\n",
       "    </tr>\n",
       "    <tr>\n",
       "      <th>6</th>\n",
       "      <td>33.942500</td>\n",
       "      <td>-118.407200</td>\n",
       "      <td>32.733330</td>\n",
       "      <td>-117.183300</td>\n",
       "      <td>15</td>\n",
       "      <td>7.767180</td>\n",
       "      <td>low</td>\n",
       "      <td>0.021361</td>\n",
       "      <td>-0.021104</td>\n",
       "      <td>0.592408</td>\n",
       "      <td>0.571304</td>\n",
       "      <td>176.078023</td>\n",
       "      <td>db173eb27d6b75bba1a5c5f6c7946a1b</td>\n",
       "      <td>3297</td>\n",
       "      <td>15.850962</td>\n",
       "    </tr>\n",
       "    <tr>\n",
       "      <th>7</th>\n",
       "      <td>32.733330</td>\n",
       "      <td>-117.183300</td>\n",
       "      <td>33.942500</td>\n",
       "      <td>-118.407200</td>\n",
       "      <td>15</td>\n",
       "      <td>7.767180</td>\n",
       "      <td>low</td>\n",
       "      <td>-0.021361</td>\n",
       "      <td>0.021104</td>\n",
       "      <td>0.571304</td>\n",
       "      <td>0.592408</td>\n",
       "      <td>176.078023</td>\n",
       "      <td>062d559c7f92e75fdc61be5ded77545a</td>\n",
       "      <td>3297</td>\n",
       "      <td>15.850962</td>\n",
       "    </tr>\n",
       "    <tr>\n",
       "      <th>8</th>\n",
       "      <td>24.420560</td>\n",
       "      <td>118.344400</td>\n",
       "      <td>25.069720</td>\n",
       "      <td>121.552500</td>\n",
       "      <td>16</td>\n",
       "      <td>8.648200</td>\n",
       "      <td>low</td>\n",
       "      <td>0.055992</td>\n",
       "      <td>0.011330</td>\n",
       "      <td>0.426219</td>\n",
       "      <td>0.437549</td>\n",
       "      <td>331.903668</td>\n",
       "      <td>8a026558c933e3199a7a90cd751e76de</td>\n",
       "      <td>3297</td>\n",
       "      <td>15.850962</td>\n",
       "    </tr>\n",
       "    <tr>\n",
       "      <th>9</th>\n",
       "      <td>25.069720</td>\n",
       "      <td>121.552500</td>\n",
       "      <td>24.420560</td>\n",
       "      <td>118.344400</td>\n",
       "      <td>16</td>\n",
       "      <td>8.648200</td>\n",
       "      <td>low</td>\n",
       "      <td>-0.055992</td>\n",
       "      <td>-0.011330</td>\n",
       "      <td>0.437549</td>\n",
       "      <td>0.426219</td>\n",
       "      <td>331.903668</td>\n",
       "      <td>d2dca0cf306b6255e814f313a4fe5112</td>\n",
       "      <td>3297</td>\n",
       "      <td>15.850962</td>\n",
       "    </tr>\n",
       "    <tr>\n",
       "      <th>10</th>\n",
       "      <td>43.627500</td>\n",
       "      <td>-79.396110</td>\n",
       "      <td>45.470550</td>\n",
       "      <td>-73.740830</td>\n",
       "      <td>18</td>\n",
       "      <td>9.052200</td>\n",
       "      <td>high</td>\n",
       "      <td>0.098703</td>\n",
       "      <td>0.032167</td>\n",
       "      <td>0.761444</td>\n",
       "      <td>0.793611</td>\n",
       "      <td>492.628498</td>\n",
       "      <td>b154d6e2903dbb1c55ea6e4a19a1c596</td>\n",
       "      <td>2070</td>\n",
       "      <td>18.990826</td>\n",
       "    </tr>\n",
       "    <tr>\n",
       "      <th>11</th>\n",
       "      <td>-35.306950</td>\n",
       "      <td>149.195000</td>\n",
       "      <td>-33.946110</td>\n",
       "      <td>151.177200</td>\n",
       "      <td>16</td>\n",
       "      <td>9.523800</td>\n",
       "      <td>low</td>\n",
       "      <td>0.034596</td>\n",
       "      <td>0.023751</td>\n",
       "      <td>-0.616223</td>\n",
       "      <td>-0.592471</td>\n",
       "      <td>236.193875</td>\n",
       "      <td>ee57b1dfaa5092db5e206c00b397639d</td>\n",
       "      <td>3297</td>\n",
       "      <td>15.850962</td>\n",
       "    </tr>\n",
       "    <tr>\n",
       "      <th>12</th>\n",
       "      <td>45.470550</td>\n",
       "      <td>-73.740830</td>\n",
       "      <td>43.627500</td>\n",
       "      <td>-79.396110</td>\n",
       "      <td>20</td>\n",
       "      <td>10.058000</td>\n",
       "      <td>high</td>\n",
       "      <td>-0.098703</td>\n",
       "      <td>-0.032167</td>\n",
       "      <td>0.793611</td>\n",
       "      <td>0.761444</td>\n",
       "      <td>492.628498</td>\n",
       "      <td>1007753c32a370c367da3a5700064ca8</td>\n",
       "      <td>2070</td>\n",
       "      <td>18.990826</td>\n",
       "    </tr>\n",
       "    <tr>\n",
       "      <th>13</th>\n",
       "      <td>41.978610</td>\n",
       "      <td>-87.904720</td>\n",
       "      <td>38.748610</td>\n",
       "      <td>-90.370000</td>\n",
       "      <td>15</td>\n",
       "      <td>10.265050</td>\n",
       "      <td>low</td>\n",
       "      <td>-0.043027</td>\n",
       "      <td>-0.056374</td>\n",
       "      <td>0.732665</td>\n",
       "      <td>0.676291</td>\n",
       "      <td>415.431321</td>\n",
       "      <td>90001438bf4b967125a71445c23ddb63</td>\n",
       "      <td>3297</td>\n",
       "      <td>15.850962</td>\n",
       "    </tr>\n",
       "    <tr>\n",
       "      <th>14</th>\n",
       "      <td>55.950000</td>\n",
       "      <td>-3.350000</td>\n",
       "      <td>51.505280</td>\n",
       "      <td>0.055278</td>\n",
       "      <td>16</td>\n",
       "      <td>10.335649</td>\n",
       "      <td>low</td>\n",
       "      <td>0.059433</td>\n",
       "      <td>-0.077575</td>\n",
       "      <td>0.976512</td>\n",
       "      <td>0.898937</td>\n",
       "      <td>542.469160</td>\n",
       "      <td>780b3fc0a48a7af77bd4585da8b03dc5</td>\n",
       "      <td>3297</td>\n",
       "      <td>15.850962</td>\n",
       "    </tr>\n",
       "    <tr>\n",
       "      <th>15</th>\n",
       "      <td>-33.946110</td>\n",
       "      <td>151.177200</td>\n",
       "      <td>-35.306950</td>\n",
       "      <td>149.195000</td>\n",
       "      <td>18</td>\n",
       "      <td>10.768500</td>\n",
       "      <td>high</td>\n",
       "      <td>-0.034596</td>\n",
       "      <td>-0.023751</td>\n",
       "      <td>-0.592471</td>\n",
       "      <td>-0.616223</td>\n",
       "      <td>236.193875</td>\n",
       "      <td>bab7fc5bac7dd3b5d4e88a2a40fd4645</td>\n",
       "      <td>2070</td>\n",
       "      <td>18.990826</td>\n",
       "    </tr>\n",
       "    <tr>\n",
       "      <th>16</th>\n",
       "      <td>51.505280</td>\n",
       "      <td>0.055278</td>\n",
       "      <td>55.950000</td>\n",
       "      <td>-3.350000</td>\n",
       "      <td>17</td>\n",
       "      <td>11.158966</td>\n",
       "      <td>low</td>\n",
       "      <td>-0.059433</td>\n",
       "      <td>0.077575</td>\n",
       "      <td>0.898937</td>\n",
       "      <td>0.976512</td>\n",
       "      <td>542.469160</td>\n",
       "      <td>66f652eb2368f34947eb8af28849c196</td>\n",
       "      <td>3297</td>\n",
       "      <td>15.850962</td>\n",
       "    </tr>\n",
       "    <tr>\n",
       "      <th>17</th>\n",
       "      <td>47.448890</td>\n",
       "      <td>-122.309400</td>\n",
       "      <td>47.619720</td>\n",
       "      <td>-117.533900</td>\n",
       "      <td>19</td>\n",
       "      <td>11.285632</td>\n",
       "      <td>high</td>\n",
       "      <td>0.083348</td>\n",
       "      <td>0.002982</td>\n",
       "      <td>0.828139</td>\n",
       "      <td>0.831121</td>\n",
       "      <td>358.957474</td>\n",
       "      <td>27b2bc262434feb50838d81764689869</td>\n",
       "      <td>2070</td>\n",
       "      <td>18.990826</td>\n",
       "    </tr>\n",
       "    <tr>\n",
       "      <th>18</th>\n",
       "      <td>51.505280</td>\n",
       "      <td>0.055278</td>\n",
       "      <td>52.308610</td>\n",
       "      <td>4.763889</td>\n",
       "      <td>15</td>\n",
       "      <td>11.621566</td>\n",
       "      <td>low</td>\n",
       "      <td>0.082181</td>\n",
       "      <td>0.014021</td>\n",
       "      <td>0.898937</td>\n",
       "      <td>0.912957</td>\n",
       "      <td>335.068128</td>\n",
       "      <td>f2d2c7a252af922296cdffa486ceb59e</td>\n",
       "      <td>3297</td>\n",
       "      <td>15.850962</td>\n",
       "    </tr>\n",
       "    <tr>\n",
       "      <th>19</th>\n",
       "      <td>55.550000</td>\n",
       "      <td>13.366670</td>\n",
       "      <td>59.651940</td>\n",
       "      <td>17.918610</td>\n",
       "      <td>15</td>\n",
       "      <td>11.925400</td>\n",
       "      <td>low</td>\n",
       "      <td>0.079446</td>\n",
       "      <td>0.071592</td>\n",
       "      <td>0.969530</td>\n",
       "      <td>1.041123</td>\n",
       "      <td>530.376067</td>\n",
       "      <td>c979477626bd380ebc0fba697d2baf31</td>\n",
       "      <td>3297</td>\n",
       "      <td>15.850962</td>\n",
       "    </tr>\n",
       "    <tr>\n",
       "      <th>20</th>\n",
       "      <td>59.651940</td>\n",
       "      <td>17.918610</td>\n",
       "      <td>55.550000</td>\n",
       "      <td>13.366670</td>\n",
       "      <td>15</td>\n",
       "      <td>12.004200</td>\n",
       "      <td>low</td>\n",
       "      <td>-0.079446</td>\n",
       "      <td>-0.071592</td>\n",
       "      <td>1.041123</td>\n",
       "      <td>0.969530</td>\n",
       "      <td>530.376067</td>\n",
       "      <td>cb4a8691f5a5d3cceaaa52059bb7f1ea</td>\n",
       "      <td>3297</td>\n",
       "      <td>15.850962</td>\n",
       "    </tr>\n",
       "    <tr>\n",
       "      <th>21</th>\n",
       "      <td>38.748610</td>\n",
       "      <td>-90.370000</td>\n",
       "      <td>41.978610</td>\n",
       "      <td>-87.904720</td>\n",
       "      <td>17</td>\n",
       "      <td>12.232920</td>\n",
       "      <td>low</td>\n",
       "      <td>0.043027</td>\n",
       "      <td>0.056374</td>\n",
       "      <td>0.676291</td>\n",
       "      <td>0.732665</td>\n",
       "      <td>415.431321</td>\n",
       "      <td>baba302e1264c7f4f864c9003ff01a44</td>\n",
       "      <td>3297</td>\n",
       "      <td>15.850962</td>\n",
       "    </tr>\n",
       "    <tr>\n",
       "      <th>22</th>\n",
       "      <td>41.416670</td>\n",
       "      <td>-81.850000</td>\n",
       "      <td>41.978610</td>\n",
       "      <td>-87.904720</td>\n",
       "      <td>16</td>\n",
       "      <td>12.294488</td>\n",
       "      <td>low</td>\n",
       "      <td>-0.105675</td>\n",
       "      <td>0.009808</td>\n",
       "      <td>0.722857</td>\n",
       "      <td>0.732665</td>\n",
       "      <td>506.454708</td>\n",
       "      <td>138322a6cf1b632cf241af8c360d0c86</td>\n",
       "      <td>3297</td>\n",
       "      <td>15.850962</td>\n",
       "    </tr>\n",
       "    <tr>\n",
       "      <th>23</th>\n",
       "      <td>38.781390</td>\n",
       "      <td>-9.135833</td>\n",
       "      <td>40.466670</td>\n",
       "      <td>-3.566667</td>\n",
       "      <td>16</td>\n",
       "      <td>12.381720</td>\n",
       "      <td>low</td>\n",
       "      <td>0.097200</td>\n",
       "      <td>0.029414</td>\n",
       "      <td>0.676863</td>\n",
       "      <td>0.706277</td>\n",
       "      <td>512.355497</td>\n",
       "      <td>9a6d6cb0889b4a878b36c44b41c03049</td>\n",
       "      <td>3297</td>\n",
       "      <td>15.850962</td>\n",
       "    </tr>\n",
       "    <tr>\n",
       "      <th>24</th>\n",
       "      <td>-35.306950</td>\n",
       "      <td>149.195000</td>\n",
       "      <td>-37.673330</td>\n",
       "      <td>144.843300</td>\n",
       "      <td>15</td>\n",
       "      <td>12.505500</td>\n",
       "      <td>low</td>\n",
       "      <td>-0.075951</td>\n",
       "      <td>-0.041301</td>\n",
       "      <td>-0.616223</td>\n",
       "      <td>-0.657524</td>\n",
       "      <td>469.569254</td>\n",
       "      <td>ac898b31d1bad4deb24ea0fc4f58d59d</td>\n",
       "      <td>3297</td>\n",
       "      <td>15.850962</td>\n",
       "    </tr>\n",
       "    <tr>\n",
       "      <th>25</th>\n",
       "      <td>33.942500</td>\n",
       "      <td>-118.407200</td>\n",
       "      <td>40.788330</td>\n",
       "      <td>-111.966700</td>\n",
       "      <td>16</td>\n",
       "      <td>12.555235</td>\n",
       "      <td>low</td>\n",
       "      <td>0.112408</td>\n",
       "      <td>0.119482</td>\n",
       "      <td>0.592408</td>\n",
       "      <td>0.711891</td>\n",
       "      <td>949.863933</td>\n",
       "      <td>a82de3aa1c899a87aa27cf77b2bbca03</td>\n",
       "      <td>3297</td>\n",
       "      <td>15.850962</td>\n",
       "    </tr>\n",
       "    <tr>\n",
       "      <th>26</th>\n",
       "      <td>52.561110</td>\n",
       "      <td>13.289440</td>\n",
       "      <td>48.683330</td>\n",
       "      <td>9.200000</td>\n",
       "      <td>15</td>\n",
       "      <td>12.555600</td>\n",
       "      <td>low</td>\n",
       "      <td>-0.071374</td>\n",
       "      <td>-0.067680</td>\n",
       "      <td>0.917364</td>\n",
       "      <td>0.849684</td>\n",
       "      <td>518.610948</td>\n",
       "      <td>59177a50ccfe7dc96dc79147eb0130dc</td>\n",
       "      <td>3297</td>\n",
       "      <td>15.850962</td>\n",
       "    </tr>\n",
       "    <tr>\n",
       "      <th>27</th>\n",
       "      <td>48.683330</td>\n",
       "      <td>9.200000</td>\n",
       "      <td>52.561110</td>\n",
       "      <td>13.289440</td>\n",
       "      <td>15</td>\n",
       "      <td>12.555600</td>\n",
       "      <td>low</td>\n",
       "      <td>0.071374</td>\n",
       "      <td>0.067680</td>\n",
       "      <td>0.849684</td>\n",
       "      <td>0.917364</td>\n",
       "      <td>518.610948</td>\n",
       "      <td>a11f6cccc01d6f937549a68c06d0eaf4</td>\n",
       "      <td>3297</td>\n",
       "      <td>15.850962</td>\n",
       "    </tr>\n",
       "    <tr>\n",
       "      <th>28</th>\n",
       "      <td>47.619720</td>\n",
       "      <td>-117.533900</td>\n",
       "      <td>47.448890</td>\n",
       "      <td>-122.309400</td>\n",
       "      <td>20</td>\n",
       "      <td>12.582876</td>\n",
       "      <td>high</td>\n",
       "      <td>-0.083348</td>\n",
       "      <td>-0.002982</td>\n",
       "      <td>0.831121</td>\n",
       "      <td>0.828139</td>\n",
       "      <td>358.957474</td>\n",
       "      <td>524e59b96ba53594a6ad5897018ba76c</td>\n",
       "      <td>2070</td>\n",
       "      <td>18.990826</td>\n",
       "    </tr>\n",
       "    <tr>\n",
       "      <th>29</th>\n",
       "      <td>47.448890</td>\n",
       "      <td>-122.309400</td>\n",
       "      <td>33.433330</td>\n",
       "      <td>-112.033300</td>\n",
       "      <td>15</td>\n",
       "      <td>12.657027</td>\n",
       "      <td>low</td>\n",
       "      <td>0.179352</td>\n",
       "      <td>-0.244618</td>\n",
       "      <td>0.828139</td>\n",
       "      <td>0.583522</td>\n",
       "      <td>1781.061563</td>\n",
       "      <td>62bc12dabef5cad5569bdb0b6449f476</td>\n",
       "      <td>3297</td>\n",
       "      <td>15.850962</td>\n",
       "    </tr>\n",
       "    <tr>\n",
       "      <th>...</th>\n",
       "      <td>...</td>\n",
       "      <td>...</td>\n",
       "      <td>...</td>\n",
       "      <td>...</td>\n",
       "      <td>...</td>\n",
       "      <td>...</td>\n",
       "      <td>...</td>\n",
       "      <td>...</td>\n",
       "      <td>...</td>\n",
       "      <td>...</td>\n",
       "      <td>...</td>\n",
       "      <td>...</td>\n",
       "      <td>...</td>\n",
       "      <td>...</td>\n",
       "      <td>...</td>\n",
       "    </tr>\n",
       "    <tr>\n",
       "      <th>287</th>\n",
       "      <td>19.088610</td>\n",
       "      <td>72.868060</td>\n",
       "      <td>25.250000</td>\n",
       "      <td>55.333330</td>\n",
       "      <td>16</td>\n",
       "      <td>22.341900</td>\n",
       "      <td>low</td>\n",
       "      <td>-0.306039</td>\n",
       "      <td>0.107537</td>\n",
       "      <td>0.333159</td>\n",
       "      <td>0.440696</td>\n",
       "      <td>1929.072349</td>\n",
       "      <td>f0e114b4c8e4949747d7e80bac699af7</td>\n",
       "      <td>3297</td>\n",
       "      <td>15.850962</td>\n",
       "    </tr>\n",
       "    <tr>\n",
       "      <th>288</th>\n",
       "      <td>22.308890</td>\n",
       "      <td>113.914700</td>\n",
       "      <td>34.427220</td>\n",
       "      <td>135.243900</td>\n",
       "      <td>16</td>\n",
       "      <td>22.366600</td>\n",
       "      <td>low</td>\n",
       "      <td>0.372265</td>\n",
       "      <td>0.211505</td>\n",
       "      <td>0.389364</td>\n",
       "      <td>0.600868</td>\n",
       "      <td>2475.644335</td>\n",
       "      <td>22a0ac5dd5176403f972479e9b4e72db</td>\n",
       "      <td>3297</td>\n",
       "      <td>15.850962</td>\n",
       "    </tr>\n",
       "    <tr>\n",
       "      <th>289</th>\n",
       "      <td>33.636670</td>\n",
       "      <td>-84.428050</td>\n",
       "      <td>28.429440</td>\n",
       "      <td>-81.308890</td>\n",
       "      <td>19</td>\n",
       "      <td>22.369725</td>\n",
       "      <td>high</td>\n",
       "      <td>0.054440</td>\n",
       "      <td>-0.090883</td>\n",
       "      <td>0.587071</td>\n",
       "      <td>0.496187</td>\n",
       "      <td>650.731845</td>\n",
       "      <td>be915863a85ad3a6daf872ad7e789bbe</td>\n",
       "      <td>2070</td>\n",
       "      <td>18.990826</td>\n",
       "    </tr>\n",
       "    <tr>\n",
       "      <th>290</th>\n",
       "      <td>43.677220</td>\n",
       "      <td>-79.630550</td>\n",
       "      <td>49.193890</td>\n",
       "      <td>-123.183300</td>\n",
       "      <td>19</td>\n",
       "      <td>22.388300</td>\n",
       "      <td>high</td>\n",
       "      <td>-0.760139</td>\n",
       "      <td>0.096284</td>\n",
       "      <td>0.762311</td>\n",
       "      <td>0.858595</td>\n",
       "      <td>3345.464596</td>\n",
       "      <td>cab521053994a8b4ca9baa5fb5ee649a</td>\n",
       "      <td>2070</td>\n",
       "      <td>18.990826</td>\n",
       "    </tr>\n",
       "    <tr>\n",
       "      <th>291</th>\n",
       "      <td>35.552220</td>\n",
       "      <td>139.779700</td>\n",
       "      <td>42.800000</td>\n",
       "      <td>141.666700</td>\n",
       "      <td>20</td>\n",
       "      <td>22.427900</td>\n",
       "      <td>high</td>\n",
       "      <td>0.032934</td>\n",
       "      <td>0.126498</td>\n",
       "      <td>0.620503</td>\n",
       "      <td>0.747001</td>\n",
       "      <td>822.102275</td>\n",
       "      <td>17be8712541914ed13f0266213509d0c</td>\n",
       "      <td>2070</td>\n",
       "      <td>18.990826</td>\n",
       "    </tr>\n",
       "    <tr>\n",
       "      <th>292</th>\n",
       "      <td>34.427220</td>\n",
       "      <td>135.243900</td>\n",
       "      <td>22.308890</td>\n",
       "      <td>113.914700</td>\n",
       "      <td>16</td>\n",
       "      <td>22.752400</td>\n",
       "      <td>low</td>\n",
       "      <td>-0.372265</td>\n",
       "      <td>-0.211505</td>\n",
       "      <td>0.600868</td>\n",
       "      <td>0.389364</td>\n",
       "      <td>2475.644335</td>\n",
       "      <td>679be83ebf1396d3fa4f759c8037f64f</td>\n",
       "      <td>3297</td>\n",
       "      <td>15.850962</td>\n",
       "    </tr>\n",
       "    <tr>\n",
       "      <th>293</th>\n",
       "      <td>8.113333</td>\n",
       "      <td>98.316940</td>\n",
       "      <td>13.681110</td>\n",
       "      <td>100.747200</td>\n",
       "      <td>18</td>\n",
       "      <td>22.859300</td>\n",
       "      <td>high</td>\n",
       "      <td>0.042416</td>\n",
       "      <td>0.097176</td>\n",
       "      <td>0.141604</td>\n",
       "      <td>0.238780</td>\n",
       "      <td>673.534866</td>\n",
       "      <td>0abf41378dba1f50eac70f8d10df46d6</td>\n",
       "      <td>2070</td>\n",
       "      <td>18.990826</td>\n",
       "    </tr>\n",
       "    <tr>\n",
       "      <th>294</th>\n",
       "      <td>13.681110</td>\n",
       "      <td>100.747200</td>\n",
       "      <td>8.113333</td>\n",
       "      <td>98.316940</td>\n",
       "      <td>18</td>\n",
       "      <td>22.859300</td>\n",
       "      <td>high</td>\n",
       "      <td>-0.042416</td>\n",
       "      <td>-0.097176</td>\n",
       "      <td>0.238780</td>\n",
       "      <td>0.141604</td>\n",
       "      <td>673.534866</td>\n",
       "      <td>9cd34915c4af1e183a4d7c52609a91cd</td>\n",
       "      <td>2070</td>\n",
       "      <td>18.990826</td>\n",
       "    </tr>\n",
       "    <tr>\n",
       "      <th>295</th>\n",
       "      <td>26.000000</td>\n",
       "      <td>50.500000</td>\n",
       "      <td>25.250000</td>\n",
       "      <td>55.333330</td>\n",
       "      <td>17</td>\n",
       "      <td>23.067400</td>\n",
       "      <td>low</td>\n",
       "      <td>0.084358</td>\n",
       "      <td>-0.013090</td>\n",
       "      <td>0.453786</td>\n",
       "      <td>0.440696</td>\n",
       "      <td>491.672698</td>\n",
       "      <td>c220968913b06e456c7582dd34689f5d</td>\n",
       "      <td>3297</td>\n",
       "      <td>15.850962</td>\n",
       "    </tr>\n",
       "    <tr>\n",
       "      <th>296</th>\n",
       "      <td>24.992500</td>\n",
       "      <td>102.743600</td>\n",
       "      <td>40.063330</td>\n",
       "      <td>116.584400</td>\n",
       "      <td>20</td>\n",
       "      <td>24.160800</td>\n",
       "      <td>high</td>\n",
       "      <td>0.241568</td>\n",
       "      <td>0.263036</td>\n",
       "      <td>0.436201</td>\n",
       "      <td>0.699237</td>\n",
       "      <td>2113.774256</td>\n",
       "      <td>e1f6d0a2352d1281c4f128473e919393</td>\n",
       "      <td>2070</td>\n",
       "      <td>18.990826</td>\n",
       "    </tr>\n",
       "    <tr>\n",
       "      <th>297</th>\n",
       "      <td>40.063330</td>\n",
       "      <td>116.584400</td>\n",
       "      <td>24.992500</td>\n",
       "      <td>102.743600</td>\n",
       "      <td>20</td>\n",
       "      <td>24.192800</td>\n",
       "      <td>high</td>\n",
       "      <td>-0.241568</td>\n",
       "      <td>-0.263036</td>\n",
       "      <td>0.699237</td>\n",
       "      <td>0.436201</td>\n",
       "      <td>2113.774256</td>\n",
       "      <td>f9db07ed95f38a0b47da14f898a56c46</td>\n",
       "      <td>2070</td>\n",
       "      <td>18.990826</td>\n",
       "    </tr>\n",
       "    <tr>\n",
       "      <th>298</th>\n",
       "      <td>4.703056</td>\n",
       "      <td>-74.138340</td>\n",
       "      <td>25.783330</td>\n",
       "      <td>-80.266670</td>\n",
       "      <td>15</td>\n",
       "      <td>24.592900</td>\n",
       "      <td>low</td>\n",
       "      <td>-0.106960</td>\n",
       "      <td>0.367920</td>\n",
       "      <td>0.082084</td>\n",
       "      <td>0.450004</td>\n",
       "      <td>2433.243152</td>\n",
       "      <td>970d83e24332cbb0f0d097bfd05e3222</td>\n",
       "      <td>3297</td>\n",
       "      <td>15.850962</td>\n",
       "    </tr>\n",
       "    <tr>\n",
       "      <th>299</th>\n",
       "      <td>35.763890</td>\n",
       "      <td>140.391700</td>\n",
       "      <td>31.143330</td>\n",
       "      <td>121.805300</td>\n",
       "      <td>16</td>\n",
       "      <td>24.819700</td>\n",
       "      <td>low</td>\n",
       "      <td>-0.324394</td>\n",
       "      <td>-0.080644</td>\n",
       "      <td>0.624198</td>\n",
       "      <td>0.543554</td>\n",
       "      <td>1795.987645</td>\n",
       "      <td>e9ba869147aceb1a8706e370d974b7b5</td>\n",
       "      <td>3297</td>\n",
       "      <td>15.850962</td>\n",
       "    </tr>\n",
       "    <tr>\n",
       "      <th>300</th>\n",
       "      <td>34.427220</td>\n",
       "      <td>135.243900</td>\n",
       "      <td>25.077780</td>\n",
       "      <td>121.223900</td>\n",
       "      <td>16</td>\n",
       "      <td>26.119100</td>\n",
       "      <td>low</td>\n",
       "      <td>-0.244695</td>\n",
       "      <td>-0.163179</td>\n",
       "      <td>0.600868</td>\n",
       "      <td>0.437690</td>\n",
       "      <td>1703.608358</td>\n",
       "      <td>b9c89f1344a3fac2d86b8c4ce94a6380</td>\n",
       "      <td>3297</td>\n",
       "      <td>15.850962</td>\n",
       "    </tr>\n",
       "    <tr>\n",
       "      <th>301</th>\n",
       "      <td>22.308890</td>\n",
       "      <td>113.914700</td>\n",
       "      <td>14.516670</td>\n",
       "      <td>121.016700</td>\n",
       "      <td>17</td>\n",
       "      <td>26.277000</td>\n",
       "      <td>low</td>\n",
       "      <td>0.123953</td>\n",
       "      <td>-0.136000</td>\n",
       "      <td>0.389364</td>\n",
       "      <td>0.253364</td>\n",
       "      <td>1144.961197</td>\n",
       "      <td>c867593e4a787884d8fe2f1e86ab9c35</td>\n",
       "      <td>3297</td>\n",
       "      <td>15.850962</td>\n",
       "    </tr>\n",
       "    <tr>\n",
       "      <th>302</th>\n",
       "      <td>31.143330</td>\n",
       "      <td>121.805300</td>\n",
       "      <td>34.427220</td>\n",
       "      <td>135.243900</td>\n",
       "      <td>20</td>\n",
       "      <td>26.345000</td>\n",
       "      <td>high</td>\n",
       "      <td>0.234548</td>\n",
       "      <td>0.057315</td>\n",
       "      <td>0.543554</td>\n",
       "      <td>0.600868</td>\n",
       "      <td>1307.077435</td>\n",
       "      <td>9583755b59a56069d4cca29fd486f594</td>\n",
       "      <td>2070</td>\n",
       "      <td>18.990826</td>\n",
       "    </tr>\n",
       "    <tr>\n",
       "      <th>303</th>\n",
       "      <td>26.333330</td>\n",
       "      <td>127.833300</td>\n",
       "      <td>35.552220</td>\n",
       "      <td>139.779700</td>\n",
       "      <td>19</td>\n",
       "      <td>26.981200</td>\n",
       "      <td>high</td>\n",
       "      <td>0.208504</td>\n",
       "      <td>0.160900</td>\n",
       "      <td>0.459603</td>\n",
       "      <td>0.620503</td>\n",
       "      <td>1530.294843</td>\n",
       "      <td>397c9c0306c7e00769d31b8b375767df</td>\n",
       "      <td>2070</td>\n",
       "      <td>18.990826</td>\n",
       "    </tr>\n",
       "    <tr>\n",
       "      <th>304</th>\n",
       "      <td>21.333330</td>\n",
       "      <td>-157.933300</td>\n",
       "      <td>33.942500</td>\n",
       "      <td>-118.407200</td>\n",
       "      <td>19</td>\n",
       "      <td>27.280700</td>\n",
       "      <td>high</td>\n",
       "      <td>0.689861</td>\n",
       "      <td>0.220072</td>\n",
       "      <td>0.372337</td>\n",
       "      <td>0.592408</td>\n",
       "      <td>4108.446428</td>\n",
       "      <td>698825650791eff9d2a8c2fdb16d1c84</td>\n",
       "      <td>2070</td>\n",
       "      <td>18.990826</td>\n",
       "    </tr>\n",
       "    <tr>\n",
       "      <th>305</th>\n",
       "      <td>22.308890</td>\n",
       "      <td>113.914700</td>\n",
       "      <td>40.063330</td>\n",
       "      <td>116.584400</td>\n",
       "      <td>19</td>\n",
       "      <td>27.322600</td>\n",
       "      <td>high</td>\n",
       "      <td>0.046595</td>\n",
       "      <td>0.309873</td>\n",
       "      <td>0.389364</td>\n",
       "      <td>0.699237</td>\n",
       "      <td>1990.196715</td>\n",
       "      <td>29b338fb519f1699e5d476402703b489</td>\n",
       "      <td>2070</td>\n",
       "      <td>18.990826</td>\n",
       "    </tr>\n",
       "    <tr>\n",
       "      <th>306</th>\n",
       "      <td>33.942500</td>\n",
       "      <td>-118.407200</td>\n",
       "      <td>21.333330</td>\n",
       "      <td>-157.933300</td>\n",
       "      <td>18</td>\n",
       "      <td>27.503289</td>\n",
       "      <td>high</td>\n",
       "      <td>-0.689861</td>\n",
       "      <td>-0.220072</td>\n",
       "      <td>0.592408</td>\n",
       "      <td>0.372337</td>\n",
       "      <td>4108.446428</td>\n",
       "      <td>e45ea76492f8d2809b40aaa2061e42ec</td>\n",
       "      <td>2070</td>\n",
       "      <td>18.990826</td>\n",
       "    </tr>\n",
       "    <tr>\n",
       "      <th>307</th>\n",
       "      <td>31.143330</td>\n",
       "      <td>121.805300</td>\n",
       "      <td>35.763890</td>\n",
       "      <td>140.391700</td>\n",
       "      <td>17</td>\n",
       "      <td>27.534300</td>\n",
       "      <td>low</td>\n",
       "      <td>0.324394</td>\n",
       "      <td>0.080644</td>\n",
       "      <td>0.543554</td>\n",
       "      <td>0.624198</td>\n",
       "      <td>1795.987645</td>\n",
       "      <td>8c656ff04200eb11fb66f54475b46005</td>\n",
       "      <td>3297</td>\n",
       "      <td>15.850962</td>\n",
       "    </tr>\n",
       "    <tr>\n",
       "      <th>308</th>\n",
       "      <td>-37.673330</td>\n",
       "      <td>144.843300</td>\n",
       "      <td>-31.940280</td>\n",
       "      <td>115.966900</td>\n",
       "      <td>20</td>\n",
       "      <td>27.881300</td>\n",
       "      <td>high</td>\n",
       "      <td>-0.503988</td>\n",
       "      <td>0.100061</td>\n",
       "      <td>-0.657524</td>\n",
       "      <td>-0.557463</td>\n",
       "      <td>2700.778021</td>\n",
       "      <td>dbd96013fec3e76fc61bffd9dfc69078</td>\n",
       "      <td>2070</td>\n",
       "      <td>18.990826</td>\n",
       "    </tr>\n",
       "    <tr>\n",
       "      <th>309</th>\n",
       "      <td>35.552220</td>\n",
       "      <td>139.779700</td>\n",
       "      <td>26.333330</td>\n",
       "      <td>127.833300</td>\n",
       "      <td>19</td>\n",
       "      <td>28.023500</td>\n",
       "      <td>high</td>\n",
       "      <td>-0.208504</td>\n",
       "      <td>-0.160900</td>\n",
       "      <td>0.620503</td>\n",
       "      <td>0.459603</td>\n",
       "      <td>1530.294843</td>\n",
       "      <td>520991530ad9a928ed9a469c6b362bb3</td>\n",
       "      <td>2070</td>\n",
       "      <td>18.990826</td>\n",
       "    </tr>\n",
       "    <tr>\n",
       "      <th>310</th>\n",
       "      <td>40.063330</td>\n",
       "      <td>116.584400</td>\n",
       "      <td>22.308890</td>\n",
       "      <td>113.914700</td>\n",
       "      <td>19</td>\n",
       "      <td>28.728700</td>\n",
       "      <td>high</td>\n",
       "      <td>-0.046595</td>\n",
       "      <td>-0.309873</td>\n",
       "      <td>0.699237</td>\n",
       "      <td>0.389364</td>\n",
       "      <td>1990.196715</td>\n",
       "      <td>741c5107809e67a3ab9dbd815d88d8df</td>\n",
       "      <td>2070</td>\n",
       "      <td>18.990826</td>\n",
       "    </tr>\n",
       "    <tr>\n",
       "      <th>311</th>\n",
       "      <td>25.077780</td>\n",
       "      <td>121.223900</td>\n",
       "      <td>34.427220</td>\n",
       "      <td>135.243900</td>\n",
       "      <td>18</td>\n",
       "      <td>29.245500</td>\n",
       "      <td>high</td>\n",
       "      <td>0.244695</td>\n",
       "      <td>0.163179</td>\n",
       "      <td>0.437690</td>\n",
       "      <td>0.600868</td>\n",
       "      <td>1703.608358</td>\n",
       "      <td>c9d8ae82332e5cfc53df5e15446891e4</td>\n",
       "      <td>2070</td>\n",
       "      <td>18.990826</td>\n",
       "    </tr>\n",
       "    <tr>\n",
       "      <th>312</th>\n",
       "      <td>25.077780</td>\n",
       "      <td>121.223900</td>\n",
       "      <td>35.763890</td>\n",
       "      <td>140.391700</td>\n",
       "      <td>20</td>\n",
       "      <td>30.034000</td>\n",
       "      <td>high</td>\n",
       "      <td>0.334541</td>\n",
       "      <td>0.186508</td>\n",
       "      <td>0.437690</td>\n",
       "      <td>0.624198</td>\n",
       "      <td>2182.154752</td>\n",
       "      <td>a04e3ff371f11111099fc044c1b52400</td>\n",
       "      <td>2070</td>\n",
       "      <td>18.990826</td>\n",
       "    </tr>\n",
       "    <tr>\n",
       "      <th>313</th>\n",
       "      <td>14.516670</td>\n",
       "      <td>121.016700</td>\n",
       "      <td>22.308890</td>\n",
       "      <td>113.914700</td>\n",
       "      <td>19</td>\n",
       "      <td>30.957700</td>\n",
       "      <td>high</td>\n",
       "      <td>-0.123953</td>\n",
       "      <td>0.136000</td>\n",
       "      <td>0.253364</td>\n",
       "      <td>0.389364</td>\n",
       "      <td>1144.961197</td>\n",
       "      <td>f2f73177b473e24d5389cb675d2b3a5b</td>\n",
       "      <td>2070</td>\n",
       "      <td>18.990826</td>\n",
       "    </tr>\n",
       "    <tr>\n",
       "      <th>314</th>\n",
       "      <td>35.763890</td>\n",
       "      <td>140.391700</td>\n",
       "      <td>25.077780</td>\n",
       "      <td>121.223900</td>\n",
       "      <td>20</td>\n",
       "      <td>31.116000</td>\n",
       "      <td>high</td>\n",
       "      <td>-0.334541</td>\n",
       "      <td>-0.186508</td>\n",
       "      <td>0.624198</td>\n",
       "      <td>0.437690</td>\n",
       "      <td>2182.154752</td>\n",
       "      <td>efe4f2561053a30a7dc342c70a5ebe94</td>\n",
       "      <td>2070</td>\n",
       "      <td>18.990826</td>\n",
       "    </tr>\n",
       "    <tr>\n",
       "      <th>315</th>\n",
       "      <td>31.143330</td>\n",
       "      <td>121.805300</td>\n",
       "      <td>37.469170</td>\n",
       "      <td>126.450600</td>\n",
       "      <td>18</td>\n",
       "      <td>31.924400</td>\n",
       "      <td>high</td>\n",
       "      <td>0.081076</td>\n",
       "      <td>0.110407</td>\n",
       "      <td>0.543554</td>\n",
       "      <td>0.653960</td>\n",
       "      <td>822.405328</td>\n",
       "      <td>494e3619b3117f8ae3ec3f7a002961f3</td>\n",
       "      <td>2070</td>\n",
       "      <td>18.990826</td>\n",
       "    </tr>\n",
       "    <tr>\n",
       "      <th>316</th>\n",
       "      <td>37.469170</td>\n",
       "      <td>126.450600</td>\n",
       "      <td>31.143330</td>\n",
       "      <td>121.805300</td>\n",
       "      <td>18</td>\n",
       "      <td>33.948600</td>\n",
       "      <td>high</td>\n",
       "      <td>-0.081076</td>\n",
       "      <td>-0.110407</td>\n",
       "      <td>0.653960</td>\n",
       "      <td>0.543554</td>\n",
       "      <td>822.405328</td>\n",
       "      <td>8d10432f84cd419a5a408b90e2c0df13</td>\n",
       "      <td>2070</td>\n",
       "      <td>18.990826</td>\n",
       "    </tr>\n",
       "  </tbody>\n",
       "</table>\n",
       "<p>317 rows × 15 columns</p>\n",
       "</div>"
      ],
      "text/plain": [
       "        DepLat      DepLon     ArrLat      ArrLon  NbFlights  CO2Intensity  \\\n",
       "0    46.791110  -71.393330  45.470550  -73.740830         15      5.763482   \n",
       "1     5.150000   73.130000   4.191944   73.529170         20      6.000000   \n",
       "2    45.470550  -73.740830  46.791110  -71.393330         16      6.130586   \n",
       "3    42.950000  -87.900000  41.978610  -87.904720         16      7.315920   \n",
       "4    43.627500  -79.396110  45.322500  -75.669170         15      7.543500   \n",
       "5    45.322500  -75.669170  43.627500  -79.396110         15      7.543500   \n",
       "6    33.942500 -118.407200  32.733330 -117.183300         15      7.767180   \n",
       "7    32.733330 -117.183300  33.942500 -118.407200         15      7.767180   \n",
       "8    24.420560  118.344400  25.069720  121.552500         16      8.648200   \n",
       "9    25.069720  121.552500  24.420560  118.344400         16      8.648200   \n",
       "10   43.627500  -79.396110  45.470550  -73.740830         18      9.052200   \n",
       "11  -35.306950  149.195000 -33.946110  151.177200         16      9.523800   \n",
       "12   45.470550  -73.740830  43.627500  -79.396110         20     10.058000   \n",
       "13   41.978610  -87.904720  38.748610  -90.370000         15     10.265050   \n",
       "14   55.950000   -3.350000  51.505280    0.055278         16     10.335649   \n",
       "15  -33.946110  151.177200 -35.306950  149.195000         18     10.768500   \n",
       "16   51.505280    0.055278  55.950000   -3.350000         17     11.158966   \n",
       "17   47.448890 -122.309400  47.619720 -117.533900         19     11.285632   \n",
       "18   51.505280    0.055278  52.308610    4.763889         15     11.621566   \n",
       "19   55.550000   13.366670  59.651940   17.918610         15     11.925400   \n",
       "20   59.651940   17.918610  55.550000   13.366670         15     12.004200   \n",
       "21   38.748610  -90.370000  41.978610  -87.904720         17     12.232920   \n",
       "22   41.416670  -81.850000  41.978610  -87.904720         16     12.294488   \n",
       "23   38.781390   -9.135833  40.466670   -3.566667         16     12.381720   \n",
       "24  -35.306950  149.195000 -37.673330  144.843300         15     12.505500   \n",
       "25   33.942500 -118.407200  40.788330 -111.966700         16     12.555235   \n",
       "26   52.561110   13.289440  48.683330    9.200000         15     12.555600   \n",
       "27   48.683330    9.200000  52.561110   13.289440         15     12.555600   \n",
       "28   47.619720 -117.533900  47.448890 -122.309400         20     12.582876   \n",
       "29   47.448890 -122.309400  33.433330 -112.033300         15     12.657027   \n",
       "..         ...         ...        ...         ...        ...           ...   \n",
       "287  19.088610   72.868060  25.250000   55.333330         16     22.341900   \n",
       "288  22.308890  113.914700  34.427220  135.243900         16     22.366600   \n",
       "289  33.636670  -84.428050  28.429440  -81.308890         19     22.369725   \n",
       "290  43.677220  -79.630550  49.193890 -123.183300         19     22.388300   \n",
       "291  35.552220  139.779700  42.800000  141.666700         20     22.427900   \n",
       "292  34.427220  135.243900  22.308890  113.914700         16     22.752400   \n",
       "293   8.113333   98.316940  13.681110  100.747200         18     22.859300   \n",
       "294  13.681110  100.747200   8.113333   98.316940         18     22.859300   \n",
       "295  26.000000   50.500000  25.250000   55.333330         17     23.067400   \n",
       "296  24.992500  102.743600  40.063330  116.584400         20     24.160800   \n",
       "297  40.063330  116.584400  24.992500  102.743600         20     24.192800   \n",
       "298   4.703056  -74.138340  25.783330  -80.266670         15     24.592900   \n",
       "299  35.763890  140.391700  31.143330  121.805300         16     24.819700   \n",
       "300  34.427220  135.243900  25.077780  121.223900         16     26.119100   \n",
       "301  22.308890  113.914700  14.516670  121.016700         17     26.277000   \n",
       "302  31.143330  121.805300  34.427220  135.243900         20     26.345000   \n",
       "303  26.333330  127.833300  35.552220  139.779700         19     26.981200   \n",
       "304  21.333330 -157.933300  33.942500 -118.407200         19     27.280700   \n",
       "305  22.308890  113.914700  40.063330  116.584400         19     27.322600   \n",
       "306  33.942500 -118.407200  21.333330 -157.933300         18     27.503289   \n",
       "307  31.143330  121.805300  35.763890  140.391700         17     27.534300   \n",
       "308 -37.673330  144.843300 -31.940280  115.966900         20     27.881300   \n",
       "309  35.552220  139.779700  26.333330  127.833300         19     28.023500   \n",
       "310  40.063330  116.584400  22.308890  113.914700         19     28.728700   \n",
       "311  25.077780  121.223900  34.427220  135.243900         18     29.245500   \n",
       "312  25.077780  121.223900  35.763890  140.391700         20     30.034000   \n",
       "313  14.516670  121.016700  22.308890  113.914700         19     30.957700   \n",
       "314  35.763890  140.391700  25.077780  121.223900         20     31.116000   \n",
       "315  31.143330  121.805300  37.469170  126.450600         18     31.924400   \n",
       "316  37.469170  126.450600  31.143330  121.805300         18     33.948600   \n",
       "\n",
       "    category  delta_lon  delta_lat  deplat_rad  arrlat_rad     distance  \\\n",
       "0        low  -0.040972  -0.023048    0.816659    0.793611   232.974758   \n",
       "1       high   0.006967  -0.016721    0.089884    0.073163   115.350875   \n",
       "2        low   0.040972   0.023048    0.793611    0.816659   232.974758   \n",
       "3        low  -0.000082  -0.016954    0.749619    0.732665   108.014334   \n",
       "4        low   0.065047   0.029583    0.761444    0.791027   350.609816   \n",
       "5        low  -0.065047  -0.029583    0.791027    0.761444   350.609816   \n",
       "6        low   0.021361  -0.021104    0.592408    0.571304   176.078023   \n",
       "7        low  -0.021361   0.021104    0.571304    0.592408   176.078023   \n",
       "8        low   0.055992   0.011330    0.426219    0.437549   331.903668   \n",
       "9        low  -0.055992  -0.011330    0.437549    0.426219   331.903668   \n",
       "10      high   0.098703   0.032167    0.761444    0.793611   492.628498   \n",
       "11       low   0.034596   0.023751   -0.616223   -0.592471   236.193875   \n",
       "12      high  -0.098703  -0.032167    0.793611    0.761444   492.628498   \n",
       "13       low  -0.043027  -0.056374    0.732665    0.676291   415.431321   \n",
       "14       low   0.059433  -0.077575    0.976512    0.898937   542.469160   \n",
       "15      high  -0.034596  -0.023751   -0.592471   -0.616223   236.193875   \n",
       "16       low  -0.059433   0.077575    0.898937    0.976512   542.469160   \n",
       "17      high   0.083348   0.002982    0.828139    0.831121   358.957474   \n",
       "18       low   0.082181   0.014021    0.898937    0.912957   335.068128   \n",
       "19       low   0.079446   0.071592    0.969530    1.041123   530.376067   \n",
       "20       low  -0.079446  -0.071592    1.041123    0.969530   530.376067   \n",
       "21       low   0.043027   0.056374    0.676291    0.732665   415.431321   \n",
       "22       low  -0.105675   0.009808    0.722857    0.732665   506.454708   \n",
       "23       low   0.097200   0.029414    0.676863    0.706277   512.355497   \n",
       "24       low  -0.075951  -0.041301   -0.616223   -0.657524   469.569254   \n",
       "25       low   0.112408   0.119482    0.592408    0.711891   949.863933   \n",
       "26       low  -0.071374  -0.067680    0.917364    0.849684   518.610948   \n",
       "27       low   0.071374   0.067680    0.849684    0.917364   518.610948   \n",
       "28      high  -0.083348  -0.002982    0.831121    0.828139   358.957474   \n",
       "29       low   0.179352  -0.244618    0.828139    0.583522  1781.061563   \n",
       "..       ...        ...        ...         ...         ...          ...   \n",
       "287      low  -0.306039   0.107537    0.333159    0.440696  1929.072349   \n",
       "288      low   0.372265   0.211505    0.389364    0.600868  2475.644335   \n",
       "289     high   0.054440  -0.090883    0.587071    0.496187   650.731845   \n",
       "290     high  -0.760139   0.096284    0.762311    0.858595  3345.464596   \n",
       "291     high   0.032934   0.126498    0.620503    0.747001   822.102275   \n",
       "292      low  -0.372265  -0.211505    0.600868    0.389364  2475.644335   \n",
       "293     high   0.042416   0.097176    0.141604    0.238780   673.534866   \n",
       "294     high  -0.042416  -0.097176    0.238780    0.141604   673.534866   \n",
       "295      low   0.084358  -0.013090    0.453786    0.440696   491.672698   \n",
       "296     high   0.241568   0.263036    0.436201    0.699237  2113.774256   \n",
       "297     high  -0.241568  -0.263036    0.699237    0.436201  2113.774256   \n",
       "298      low  -0.106960   0.367920    0.082084    0.450004  2433.243152   \n",
       "299      low  -0.324394  -0.080644    0.624198    0.543554  1795.987645   \n",
       "300      low  -0.244695  -0.163179    0.600868    0.437690  1703.608358   \n",
       "301      low   0.123953  -0.136000    0.389364    0.253364  1144.961197   \n",
       "302     high   0.234548   0.057315    0.543554    0.600868  1307.077435   \n",
       "303     high   0.208504   0.160900    0.459603    0.620503  1530.294843   \n",
       "304     high   0.689861   0.220072    0.372337    0.592408  4108.446428   \n",
       "305     high   0.046595   0.309873    0.389364    0.699237  1990.196715   \n",
       "306     high  -0.689861  -0.220072    0.592408    0.372337  4108.446428   \n",
       "307      low   0.324394   0.080644    0.543554    0.624198  1795.987645   \n",
       "308     high  -0.503988   0.100061   -0.657524   -0.557463  2700.778021   \n",
       "309     high  -0.208504  -0.160900    0.620503    0.459603  1530.294843   \n",
       "310     high  -0.046595  -0.309873    0.699237    0.389364  1990.196715   \n",
       "311     high   0.244695   0.163179    0.437690    0.600868  1703.608358   \n",
       "312     high   0.334541   0.186508    0.437690    0.624198  2182.154752   \n",
       "313     high  -0.123953   0.136000    0.253364    0.389364  1144.961197   \n",
       "314     high  -0.334541  -0.186508    0.624198    0.437690  2182.154752   \n",
       "315     high   0.081076   0.110407    0.543554    0.653960   822.405328   \n",
       "316     high  -0.081076  -0.110407    0.653960    0.543554   822.405328   \n",
       "\n",
       "                                  key   sum       mean  \n",
       "0    a83693bccc850b9cfd380249ae94af5c  3297  15.850962  \n",
       "1    afe107bbcbc4f1a833353dddd9824ea8  2070  18.990826  \n",
       "2    25990f664dee4d58f78a0fe1a60eeed9  3297  15.850962  \n",
       "3    c6c5cc84cfce184589027ed1690c046a  3297  15.850962  \n",
       "4    bdb0cef3cfafa6b50a9ba15a6cabec28  3297  15.850962  \n",
       "5    9a68a282435c916a9cd64c40225075bb  3297  15.850962  \n",
       "6    db173eb27d6b75bba1a5c5f6c7946a1b  3297  15.850962  \n",
       "7    062d559c7f92e75fdc61be5ded77545a  3297  15.850962  \n",
       "8    8a026558c933e3199a7a90cd751e76de  3297  15.850962  \n",
       "9    d2dca0cf306b6255e814f313a4fe5112  3297  15.850962  \n",
       "10   b154d6e2903dbb1c55ea6e4a19a1c596  2070  18.990826  \n",
       "11   ee57b1dfaa5092db5e206c00b397639d  3297  15.850962  \n",
       "12   1007753c32a370c367da3a5700064ca8  2070  18.990826  \n",
       "13   90001438bf4b967125a71445c23ddb63  3297  15.850962  \n",
       "14   780b3fc0a48a7af77bd4585da8b03dc5  3297  15.850962  \n",
       "15   bab7fc5bac7dd3b5d4e88a2a40fd4645  2070  18.990826  \n",
       "16   66f652eb2368f34947eb8af28849c196  3297  15.850962  \n",
       "17   27b2bc262434feb50838d81764689869  2070  18.990826  \n",
       "18   f2d2c7a252af922296cdffa486ceb59e  3297  15.850962  \n",
       "19   c979477626bd380ebc0fba697d2baf31  3297  15.850962  \n",
       "20   cb4a8691f5a5d3cceaaa52059bb7f1ea  3297  15.850962  \n",
       "21   baba302e1264c7f4f864c9003ff01a44  3297  15.850962  \n",
       "22   138322a6cf1b632cf241af8c360d0c86  3297  15.850962  \n",
       "23   9a6d6cb0889b4a878b36c44b41c03049  3297  15.850962  \n",
       "24   ac898b31d1bad4deb24ea0fc4f58d59d  3297  15.850962  \n",
       "25   a82de3aa1c899a87aa27cf77b2bbca03  3297  15.850962  \n",
       "26   59177a50ccfe7dc96dc79147eb0130dc  3297  15.850962  \n",
       "27   a11f6cccc01d6f937549a68c06d0eaf4  3297  15.850962  \n",
       "28   524e59b96ba53594a6ad5897018ba76c  2070  18.990826  \n",
       "29   62bc12dabef5cad5569bdb0b6449f476  3297  15.850962  \n",
       "..                                ...   ...        ...  \n",
       "287  f0e114b4c8e4949747d7e80bac699af7  3297  15.850962  \n",
       "288  22a0ac5dd5176403f972479e9b4e72db  3297  15.850962  \n",
       "289  be915863a85ad3a6daf872ad7e789bbe  2070  18.990826  \n",
       "290  cab521053994a8b4ca9baa5fb5ee649a  2070  18.990826  \n",
       "291  17be8712541914ed13f0266213509d0c  2070  18.990826  \n",
       "292  679be83ebf1396d3fa4f759c8037f64f  3297  15.850962  \n",
       "293  0abf41378dba1f50eac70f8d10df46d6  2070  18.990826  \n",
       "294  9cd34915c4af1e183a4d7c52609a91cd  2070  18.990826  \n",
       "295  c220968913b06e456c7582dd34689f5d  3297  15.850962  \n",
       "296  e1f6d0a2352d1281c4f128473e919393  2070  18.990826  \n",
       "297  f9db07ed95f38a0b47da14f898a56c46  2070  18.990826  \n",
       "298  970d83e24332cbb0f0d097bfd05e3222  3297  15.850962  \n",
       "299  e9ba869147aceb1a8706e370d974b7b5  3297  15.850962  \n",
       "300  b9c89f1344a3fac2d86b8c4ce94a6380  3297  15.850962  \n",
       "301  c867593e4a787884d8fe2f1e86ab9c35  3297  15.850962  \n",
       "302  9583755b59a56069d4cca29fd486f594  2070  18.990826  \n",
       "303  397c9c0306c7e00769d31b8b375767df  2070  18.990826  \n",
       "304  698825650791eff9d2a8c2fdb16d1c84  2070  18.990826  \n",
       "305  29b338fb519f1699e5d476402703b489  2070  18.990826  \n",
       "306  e45ea76492f8d2809b40aaa2061e42ec  2070  18.990826  \n",
       "307  8c656ff04200eb11fb66f54475b46005  3297  15.850962  \n",
       "308  dbd96013fec3e76fc61bffd9dfc69078  2070  18.990826  \n",
       "309  520991530ad9a928ed9a469c6b362bb3  2070  18.990826  \n",
       "310  741c5107809e67a3ab9dbd815d88d8df  2070  18.990826  \n",
       "311  c9d8ae82332e5cfc53df5e15446891e4  2070  18.990826  \n",
       "312  a04e3ff371f11111099fc044c1b52400  2070  18.990826  \n",
       "313  f2f73177b473e24d5389cb675d2b3a5b  2070  18.990826  \n",
       "314  efe4f2561053a30a7dc342c70a5ebe94  2070  18.990826  \n",
       "315  494e3619b3117f8ae3ec3f7a002961f3  2070  18.990826  \n",
       "316  8d10432f84cd419a5a408b90e2c0df13  2070  18.990826  \n",
       "\n",
       "[317 rows x 15 columns]"
      ]
     },
     "execution_count": 67,
     "metadata": {},
     "output_type": "execute_result"
    }
   ],
   "source": [
    "df_new"
   ]
  },
  {
   "cell_type": "markdown",
   "metadata": {},
   "source": [
    "## Multi - indexing"
   ]
  },
  {
   "cell_type": "code",
   "execution_count": 68,
   "metadata": {
    "ExecuteTime": {
     "end_time": "2019-08-01T10:07:39.571813Z",
     "start_time": "2019-08-01T10:07:39.567697Z"
    }
   },
   "outputs": [],
   "source": [
    "arrays = [\n",
    "    np.array(['bar', 'bar', 'baz', 'baz', 'foo', 'foo', 'qux', 'qux']),\n",
    "    np.array(['one', 'two', 'one', 'two', 'one', 'two', 'one', 'two']),\n",
    "]"
   ]
  },
  {
   "cell_type": "code",
   "execution_count": 69,
   "metadata": {
    "ExecuteTime": {
     "end_time": "2019-08-01T10:07:40.033799Z",
     "start_time": "2019-08-01T10:07:40.026043Z"
    }
   },
   "outputs": [],
   "source": [
    "df = pd.DataFrame(\n",
    "    np.random.randn(8, 4),\n",
    "    index=arrays,\n",
    "    columns=['x1', 'x2', 'y1', 'y2']\n",
    ")"
   ]
  },
  {
   "cell_type": "code",
   "execution_count": 70,
   "metadata": {
    "ExecuteTime": {
     "end_time": "2019-08-01T10:07:40.490098Z",
     "start_time": "2019-08-01T10:07:40.474646Z"
    }
   },
   "outputs": [
    {
     "data": {
      "text/html": [
       "<div>\n",
       "<style scoped>\n",
       "    .dataframe tbody tr th:only-of-type {\n",
       "        vertical-align: middle;\n",
       "    }\n",
       "\n",
       "    .dataframe tbody tr th {\n",
       "        vertical-align: top;\n",
       "    }\n",
       "\n",
       "    .dataframe thead th {\n",
       "        text-align: right;\n",
       "    }\n",
       "</style>\n",
       "<table border=\"1\" class=\"dataframe\">\n",
       "  <thead>\n",
       "    <tr style=\"text-align: right;\">\n",
       "      <th></th>\n",
       "      <th></th>\n",
       "      <th>x1</th>\n",
       "      <th>x2</th>\n",
       "      <th>y1</th>\n",
       "      <th>y2</th>\n",
       "    </tr>\n",
       "  </thead>\n",
       "  <tbody>\n",
       "    <tr>\n",
       "      <th rowspan=\"2\" valign=\"top\">bar</th>\n",
       "      <th>one</th>\n",
       "      <td>0.280419</td>\n",
       "      <td>-1.224638</td>\n",
       "      <td>0.610930</td>\n",
       "      <td>0.070383</td>\n",
       "    </tr>\n",
       "    <tr>\n",
       "      <th>two</th>\n",
       "      <td>-1.465299</td>\n",
       "      <td>1.538338</td>\n",
       "      <td>1.683200</td>\n",
       "      <td>0.631955</td>\n",
       "    </tr>\n",
       "    <tr>\n",
       "      <th rowspan=\"2\" valign=\"top\">baz</th>\n",
       "      <th>one</th>\n",
       "      <td>0.466277</td>\n",
       "      <td>0.794184</td>\n",
       "      <td>-0.996080</td>\n",
       "      <td>0.938753</td>\n",
       "    </tr>\n",
       "    <tr>\n",
       "      <th>two</th>\n",
       "      <td>-0.139807</td>\n",
       "      <td>0.155500</td>\n",
       "      <td>2.080496</td>\n",
       "      <td>-2.827936</td>\n",
       "    </tr>\n",
       "    <tr>\n",
       "      <th rowspan=\"2\" valign=\"top\">foo</th>\n",
       "      <th>one</th>\n",
       "      <td>-0.734964</td>\n",
       "      <td>1.551830</td>\n",
       "      <td>-0.302266</td>\n",
       "      <td>1.396339</td>\n",
       "    </tr>\n",
       "    <tr>\n",
       "      <th>two</th>\n",
       "      <td>0.582141</td>\n",
       "      <td>0.813094</td>\n",
       "      <td>-0.949692</td>\n",
       "      <td>1.346359</td>\n",
       "    </tr>\n",
       "    <tr>\n",
       "      <th rowspan=\"2\" valign=\"top\">qux</th>\n",
       "      <th>one</th>\n",
       "      <td>1.894357</td>\n",
       "      <td>-1.324169</td>\n",
       "      <td>-1.825927</td>\n",
       "      <td>0.074648</td>\n",
       "    </tr>\n",
       "    <tr>\n",
       "      <th>two</th>\n",
       "      <td>-0.272855</td>\n",
       "      <td>-0.142504</td>\n",
       "      <td>-0.365927</td>\n",
       "      <td>1.682300</td>\n",
       "    </tr>\n",
       "  </tbody>\n",
       "</table>\n",
       "</div>"
      ],
      "text/plain": [
       "               x1        x2        y1        y2\n",
       "bar one  0.280419 -1.224638  0.610930  0.070383\n",
       "    two -1.465299  1.538338  1.683200  0.631955\n",
       "baz one  0.466277  0.794184 -0.996080  0.938753\n",
       "    two -0.139807  0.155500  2.080496 -2.827936\n",
       "foo one -0.734964  1.551830 -0.302266  1.396339\n",
       "    two  0.582141  0.813094 -0.949692  1.346359\n",
       "qux one  1.894357 -1.324169 -1.825927  0.074648\n",
       "    two -0.272855 -0.142504 -0.365927  1.682300"
      ]
     },
     "execution_count": 70,
     "metadata": {},
     "output_type": "execute_result"
    }
   ],
   "source": [
    "df"
   ]
  },
  {
   "cell_type": "code",
   "execution_count": 71,
   "metadata": {
    "ExecuteTime": {
     "end_time": "2019-08-01T10:07:40.851878Z",
     "start_time": "2019-08-01T10:07:40.842653Z"
    }
   },
   "outputs": [
    {
     "data": {
      "text/plain": [
       "0.2804194394118508"
      ]
     },
     "execution_count": 71,
     "metadata": {},
     "output_type": "execute_result"
    }
   ],
   "source": [
    "df.x1.bar.one"
   ]
  },
  {
   "cell_type": "code",
   "execution_count": 72,
   "metadata": {
    "ExecuteTime": {
     "end_time": "2019-08-01T10:07:41.097602Z",
     "start_time": "2019-08-01T10:07:41.086110Z"
    }
   },
   "outputs": [],
   "source": [
    "df = pd.DataFrame(\n",
    "    np.random.randn(8, 4),\n",
    "    index=arrays,\n",
    "    columns=[['x', 'x', 'y', 'y'], ['x1', 'x2', 'y1', 'y2']]\n",
    ")"
   ]
  },
  {
   "cell_type": "code",
   "execution_count": 73,
   "metadata": {
    "ExecuteTime": {
     "end_time": "2019-08-01T10:07:41.286046Z",
     "start_time": "2019-08-01T10:07:41.271457Z"
    }
   },
   "outputs": [
    {
     "data": {
      "text/html": [
       "<div>\n",
       "<style scoped>\n",
       "    .dataframe tbody tr th:only-of-type {\n",
       "        vertical-align: middle;\n",
       "    }\n",
       "\n",
       "    .dataframe tbody tr th {\n",
       "        vertical-align: top;\n",
       "    }\n",
       "\n",
       "    .dataframe thead tr th {\n",
       "        text-align: left;\n",
       "    }\n",
       "</style>\n",
       "<table border=\"1\" class=\"dataframe\">\n",
       "  <thead>\n",
       "    <tr>\n",
       "      <th></th>\n",
       "      <th></th>\n",
       "      <th colspan=\"2\" halign=\"left\">x</th>\n",
       "      <th colspan=\"2\" halign=\"left\">y</th>\n",
       "    </tr>\n",
       "    <tr>\n",
       "      <th></th>\n",
       "      <th></th>\n",
       "      <th>x1</th>\n",
       "      <th>x2</th>\n",
       "      <th>y1</th>\n",
       "      <th>y2</th>\n",
       "    </tr>\n",
       "  </thead>\n",
       "  <tbody>\n",
       "    <tr>\n",
       "      <th rowspan=\"2\" valign=\"top\">bar</th>\n",
       "      <th>one</th>\n",
       "      <td>0.874266</td>\n",
       "      <td>-0.505449</td>\n",
       "      <td>-0.366347</td>\n",
       "      <td>-1.196565</td>\n",
       "    </tr>\n",
       "    <tr>\n",
       "      <th>two</th>\n",
       "      <td>-0.444510</td>\n",
       "      <td>2.058969</td>\n",
       "      <td>2.455842</td>\n",
       "      <td>1.328739</td>\n",
       "    </tr>\n",
       "    <tr>\n",
       "      <th rowspan=\"2\" valign=\"top\">baz</th>\n",
       "      <th>one</th>\n",
       "      <td>0.114564</td>\n",
       "      <td>-0.607998</td>\n",
       "      <td>0.090931</td>\n",
       "      <td>0.230430</td>\n",
       "    </tr>\n",
       "    <tr>\n",
       "      <th>two</th>\n",
       "      <td>1.088351</td>\n",
       "      <td>-0.375727</td>\n",
       "      <td>-1.093220</td>\n",
       "      <td>-0.175978</td>\n",
       "    </tr>\n",
       "    <tr>\n",
       "      <th rowspan=\"2\" valign=\"top\">foo</th>\n",
       "      <th>one</th>\n",
       "      <td>-1.227899</td>\n",
       "      <td>0.901797</td>\n",
       "      <td>0.285116</td>\n",
       "      <td>0.046533</td>\n",
       "    </tr>\n",
       "    <tr>\n",
       "      <th>two</th>\n",
       "      <td>0.364736</td>\n",
       "      <td>-0.652954</td>\n",
       "      <td>-0.651506</td>\n",
       "      <td>0.802438</td>\n",
       "    </tr>\n",
       "    <tr>\n",
       "      <th rowspan=\"2\" valign=\"top\">qux</th>\n",
       "      <th>one</th>\n",
       "      <td>-0.055954</td>\n",
       "      <td>0.343885</td>\n",
       "      <td>-0.385521</td>\n",
       "      <td>0.566990</td>\n",
       "    </tr>\n",
       "    <tr>\n",
       "      <th>two</th>\n",
       "      <td>-2.572761</td>\n",
       "      <td>-2.216071</td>\n",
       "      <td>-0.951317</td>\n",
       "      <td>1.591406</td>\n",
       "    </tr>\n",
       "  </tbody>\n",
       "</table>\n",
       "</div>"
      ],
      "text/plain": [
       "                x                   y          \n",
       "               x1        x2        y1        y2\n",
       "bar one  0.874266 -0.505449 -0.366347 -1.196565\n",
       "    two -0.444510  2.058969  2.455842  1.328739\n",
       "baz one  0.114564 -0.607998  0.090931  0.230430\n",
       "    two  1.088351 -0.375727 -1.093220 -0.175978\n",
       "foo one -1.227899  0.901797  0.285116  0.046533\n",
       "    two  0.364736 -0.652954 -0.651506  0.802438\n",
       "qux one -0.055954  0.343885 -0.385521  0.566990\n",
       "    two -2.572761 -2.216071 -0.951317  1.591406"
      ]
     },
     "execution_count": 73,
     "metadata": {},
     "output_type": "execute_result"
    }
   ],
   "source": [
    "df"
   ]
  },
  {
   "cell_type": "code",
   "execution_count": 74,
   "metadata": {
    "ExecuteTime": {
     "end_time": "2019-08-01T10:07:41.480628Z",
     "start_time": "2019-08-01T10:07:41.469005Z"
    }
   },
   "outputs": [
    {
     "data": {
      "text/html": [
       "<div>\n",
       "<style scoped>\n",
       "    .dataframe tbody tr th:only-of-type {\n",
       "        vertical-align: middle;\n",
       "    }\n",
       "\n",
       "    .dataframe tbody tr th {\n",
       "        vertical-align: top;\n",
       "    }\n",
       "\n",
       "    .dataframe thead th {\n",
       "        text-align: right;\n",
       "    }\n",
       "</style>\n",
       "<table border=\"1\" class=\"dataframe\">\n",
       "  <thead>\n",
       "    <tr style=\"text-align: right;\">\n",
       "      <th></th>\n",
       "      <th></th>\n",
       "      <th>x1</th>\n",
       "      <th>x2</th>\n",
       "    </tr>\n",
       "  </thead>\n",
       "  <tbody>\n",
       "    <tr>\n",
       "      <th rowspan=\"2\" valign=\"top\">bar</th>\n",
       "      <th>one</th>\n",
       "      <td>0.874266</td>\n",
       "      <td>-0.505449</td>\n",
       "    </tr>\n",
       "    <tr>\n",
       "      <th>two</th>\n",
       "      <td>-0.444510</td>\n",
       "      <td>2.058969</td>\n",
       "    </tr>\n",
       "    <tr>\n",
       "      <th rowspan=\"2\" valign=\"top\">baz</th>\n",
       "      <th>one</th>\n",
       "      <td>0.114564</td>\n",
       "      <td>-0.607998</td>\n",
       "    </tr>\n",
       "    <tr>\n",
       "      <th>two</th>\n",
       "      <td>1.088351</td>\n",
       "      <td>-0.375727</td>\n",
       "    </tr>\n",
       "    <tr>\n",
       "      <th rowspan=\"2\" valign=\"top\">foo</th>\n",
       "      <th>one</th>\n",
       "      <td>-1.227899</td>\n",
       "      <td>0.901797</td>\n",
       "    </tr>\n",
       "    <tr>\n",
       "      <th>two</th>\n",
       "      <td>0.364736</td>\n",
       "      <td>-0.652954</td>\n",
       "    </tr>\n",
       "    <tr>\n",
       "      <th rowspan=\"2\" valign=\"top\">qux</th>\n",
       "      <th>one</th>\n",
       "      <td>-0.055954</td>\n",
       "      <td>0.343885</td>\n",
       "    </tr>\n",
       "    <tr>\n",
       "      <th>two</th>\n",
       "      <td>-2.572761</td>\n",
       "      <td>-2.216071</td>\n",
       "    </tr>\n",
       "  </tbody>\n",
       "</table>\n",
       "</div>"
      ],
      "text/plain": [
       "               x1        x2\n",
       "bar one  0.874266 -0.505449\n",
       "    two -0.444510  2.058969\n",
       "baz one  0.114564 -0.607998\n",
       "    two  1.088351 -0.375727\n",
       "foo one -1.227899  0.901797\n",
       "    two  0.364736 -0.652954\n",
       "qux one -0.055954  0.343885\n",
       "    two -2.572761 -2.216071"
      ]
     },
     "execution_count": 74,
     "metadata": {},
     "output_type": "execute_result"
    }
   ],
   "source": [
    "df.x"
   ]
  },
  {
   "cell_type": "code",
   "execution_count": 75,
   "metadata": {
    "ExecuteTime": {
     "end_time": "2019-08-01T10:07:41.630545Z",
     "start_time": "2019-08-01T10:07:41.624223Z"
    }
   },
   "outputs": [
    {
     "data": {
      "text/plain": [
       "0.8742656955210838"
      ]
     },
     "execution_count": 75,
     "metadata": {},
     "output_type": "execute_result"
    }
   ],
   "source": [
    "df.x.x1.bar.one"
   ]
  },
  {
   "cell_type": "code",
   "execution_count": null,
   "metadata": {},
   "outputs": [],
   "source": []
  },
  {
   "cell_type": "code",
   "execution_count": null,
   "metadata": {},
   "outputs": [],
   "source": []
  },
  {
   "cell_type": "code",
   "execution_count": null,
   "metadata": {},
   "outputs": [],
   "source": []
  },
  {
   "cell_type": "code",
   "execution_count": null,
   "metadata": {},
   "outputs": [],
   "source": []
  },
  {
   "cell_type": "code",
   "execution_count": null,
   "metadata": {
    "collapsed": true
   },
   "outputs": [],
   "source": []
  },
  {
   "cell_type": "code",
   "execution_count": null,
   "metadata": {
    "collapsed": true
   },
   "outputs": [],
   "source": []
  },
  {
   "cell_type": "code",
   "execution_count": 76,
   "metadata": {
    "ExecuteTime": {
     "end_time": "2019-08-01T10:07:54.208496Z",
     "start_time": "2019-08-01T10:07:53.768537Z"
    }
   },
   "outputs": [],
   "source": [
    "import folium"
   ]
  },
  {
   "cell_type": "code",
   "execution_count": 77,
   "metadata": {
    "ExecuteTime": {
     "end_time": "2019-08-01T10:07:54.344980Z",
     "start_time": "2019-08-01T10:07:54.220270Z"
    }
   },
   "outputs": [],
   "source": [
    "centre = [\n",
    "    df_lim.DepLat.sum() / df_lim.DepLat.size,\n",
    "    df_lim.DepLon.sum() / df_lim.DepLon.size\n",
    "]\n",
    "\n",
    "map_osm = folium.Map(location=centre, zoom_start=5)\n",
    "\n",
    "points = set(\n",
    "    df_lim.apply(\n",
    "        lambda df: tuple([df.DepLat, df.DepLon]), axis=1\n",
    "    ).append(\n",
    "        df_lim.apply(\n",
    "            lambda df: tuple([df.ArrLat, df.ArrLon]), axis=1\n",
    "        )\n",
    "    )\n",
    ")\n",
    "\n",
    "\n",
    "pairs = set(df_lim.apply(\n",
    "    lambda df: tuple([df.DepLat, df.DepLon, df.ArrLat, df.ArrLon]), axis=1\n",
    "))\n",
    "\n",
    "\n",
    "folium.Marker(centre,\n",
    "    popup='Centroid',\n",
    "    icon=folium.Icon(color='red',icon='info-sign')\n",
    ").add_to(map_osm)\n",
    "\n",
    "\n",
    "for point in points:\n",
    "    folium.Marker(point,\n",
    "        popup='Airport',\n",
    "        icon=folium.Icon(color='blue',icon='info-sign')\n",
    "    ).add_to(map_osm)\n",
    "\n",
    "\n",
    "lines = []\n",
    "for lat1, lon1, lat2, lon2 in pairs:\n",
    "    lines.append(LineString([Point(lon1, lat1), Point(lon2, lat2)]))"
   ]
  },
  {
   "cell_type": "code",
   "execution_count": 78,
   "metadata": {
    "ExecuteTime": {
     "end_time": "2019-08-01T10:07:54.795103Z",
     "start_time": "2019-08-01T10:07:54.792095Z"
    }
   },
   "outputs": [],
   "source": [
    "from shapely.geometry import MultiLineString"
   ]
  },
  {
   "cell_type": "code",
   "execution_count": 79,
   "metadata": {
    "ExecuteTime": {
     "end_time": "2019-08-01T10:07:55.192676Z",
     "start_time": "2019-08-01T10:07:55.181221Z"
    }
   },
   "outputs": [],
   "source": [
    "geo_lines = mapping(MultiLineString(lines))"
   ]
  },
  {
   "cell_type": "code",
   "execution_count": 80,
   "metadata": {
    "ExecuteTime": {
     "end_time": "2019-08-01T10:07:55.631705Z",
     "start_time": "2019-08-01T10:07:55.626315Z"
    }
   },
   "outputs": [
    {
     "data": {
      "text/plain": [
       "<folium.features.GeoJson at 0x7f86f7413b70>"
      ]
     },
     "execution_count": 80,
     "metadata": {},
     "output_type": "execute_result"
    }
   ],
   "source": [
    "folium.GeoJson(geo_lines).add_to(map_osm)"
   ]
  },
  {
   "cell_type": "code",
   "execution_count": 81,
   "metadata": {
    "ExecuteTime": {
     "end_time": "2019-08-01T10:07:57.114812Z",
     "start_time": "2019-08-01T10:07:56.607664Z"
    }
   },
   "outputs": [
    {
     "data": {
      "text/html": [
       "<div style=\"width:100%;\"><div style=\"position:relative;width:100%;height:0;padding-bottom:60%;\"><iframe src=\"data:text/html;charset=utf-8;base64,PCFET0NUWVBFIGh0bWw+CjxoZWFkPiAgICAKICAgIDxtZXRhIGh0dHAtZXF1aXY9ImNvbnRlbnQtdHlwZSIgY29udGVudD0idGV4dC9odG1sOyBjaGFyc2V0PVVURi04IiAvPgogICAgCiAgICAgICAgPHNjcmlwdD4KICAgICAgICAgICAgTF9OT19UT1VDSCA9IGZhbHNlOwogICAgICAgICAgICBMX0RJU0FCTEVfM0QgPSBmYWxzZTsKICAgICAgICA8L3NjcmlwdD4KICAgIAogICAgPHNjcmlwdCBzcmM9Imh0dHBzOi8vY2RuLmpzZGVsaXZyLm5ldC9ucG0vbGVhZmxldEAxLjQuMC9kaXN0L2xlYWZsZXQuanMiPjwvc2NyaXB0PgogICAgPHNjcmlwdCBzcmM9Imh0dHBzOi8vY29kZS5qcXVlcnkuY29tL2pxdWVyeS0xLjEyLjQubWluLmpzIj48L3NjcmlwdD4KICAgIDxzY3JpcHQgc3JjPSJodHRwczovL21heGNkbi5ib290c3RyYXBjZG4uY29tL2Jvb3RzdHJhcC8zLjIuMC9qcy9ib290c3RyYXAubWluLmpzIj48L3NjcmlwdD4KICAgIDxzY3JpcHQgc3JjPSJodHRwczovL2NkbmpzLmNsb3VkZmxhcmUuY29tL2FqYXgvbGlicy9MZWFmbGV0LmF3ZXNvbWUtbWFya2Vycy8yLjAuMi9sZWFmbGV0LmF3ZXNvbWUtbWFya2Vycy5qcyI+PC9zY3JpcHQ+CiAgICA8bGluayByZWw9InN0eWxlc2hlZXQiIGhyZWY9Imh0dHBzOi8vY2RuLmpzZGVsaXZyLm5ldC9ucG0vbGVhZmxldEAxLjQuMC9kaXN0L2xlYWZsZXQuY3NzIi8+CiAgICA8bGluayByZWw9InN0eWxlc2hlZXQiIGhyZWY9Imh0dHBzOi8vbWF4Y2RuLmJvb3RzdHJhcGNkbi5jb20vYm9vdHN0cmFwLzMuMi4wL2Nzcy9ib290c3RyYXAubWluLmNzcyIvPgogICAgPGxpbmsgcmVsPSJzdHlsZXNoZWV0IiBocmVmPSJodHRwczovL21heGNkbi5ib290c3RyYXBjZG4uY29tL2Jvb3RzdHJhcC8zLjIuMC9jc3MvYm9vdHN0cmFwLXRoZW1lLm1pbi5jc3MiLz4KICAgIDxsaW5rIHJlbD0ic3R5bGVzaGVldCIgaHJlZj0iaHR0cHM6Ly9tYXhjZG4uYm9vdHN0cmFwY2RuLmNvbS9mb250LWF3ZXNvbWUvNC42LjMvY3NzL2ZvbnQtYXdlc29tZS5taW4uY3NzIi8+CiAgICA8bGluayByZWw9InN0eWxlc2hlZXQiIGhyZWY9Imh0dHBzOi8vY2RuanMuY2xvdWRmbGFyZS5jb20vYWpheC9saWJzL0xlYWZsZXQuYXdlc29tZS1tYXJrZXJzLzIuMC4yL2xlYWZsZXQuYXdlc29tZS1tYXJrZXJzLmNzcyIvPgogICAgPGxpbmsgcmVsPSJzdHlsZXNoZWV0IiBocmVmPSJodHRwczovL3Jhd2Nkbi5naXRoYWNrLmNvbS9weXRob24tdmlzdWFsaXphdGlvbi9mb2xpdW0vbWFzdGVyL2ZvbGl1bS90ZW1wbGF0ZXMvbGVhZmxldC5hd2Vzb21lLnJvdGF0ZS5jc3MiLz4KICAgIDxzdHlsZT5odG1sLCBib2R5IHt3aWR0aDogMTAwJTtoZWlnaHQ6IDEwMCU7bWFyZ2luOiAwO3BhZGRpbmc6IDA7fTwvc3R5bGU+CiAgICA8c3R5bGU+I21hcCB7cG9zaXRpb246YWJzb2x1dGU7dG9wOjA7Ym90dG9tOjA7cmlnaHQ6MDtsZWZ0OjA7fTwvc3R5bGU+CiAgICAKICAgICAgICAgICAgPG1ldGEgbmFtZT0idmlld3BvcnQiIGNvbnRlbnQ9IndpZHRoPWRldmljZS13aWR0aCwKICAgICAgICAgICAgICAgIGluaXRpYWwtc2NhbGU9MS4wLCBtYXhpbXVtLXNjYWxlPTEuMCwgdXNlci1zY2FsYWJsZT1ubyIgLz4KICAgICAgICAgICAgPHN0eWxlPgogICAgICAgICAgICAgICAgI21hcF9mZGZjYWRkM2FhZmM0MDNkOWRhMGYwNzIzNTQxNzMyMyB7CiAgICAgICAgICAgICAgICAgICAgcG9zaXRpb246IHJlbGF0aXZlOwogICAgICAgICAgICAgICAgICAgIHdpZHRoOiAxMDAuMCU7CiAgICAgICAgICAgICAgICAgICAgaGVpZ2h0OiAxMDAuMCU7CiAgICAgICAgICAgICAgICAgICAgbGVmdDogMC4wJTsKICAgICAgICAgICAgICAgICAgICB0b3A6IDAuMCU7CiAgICAgICAgICAgICAgICB9CiAgICAgICAgICAgIDwvc3R5bGU+CiAgICAgICAgCjwvaGVhZD4KPGJvZHk+ICAgIAogICAgCiAgICAgICAgICAgIDxkaXYgY2xhc3M9ImZvbGl1bS1tYXAiIGlkPSJtYXBfZmRmY2FkZDNhYWZjNDAzZDlkYTBmMDcyMzU0MTczMjMiID48L2Rpdj4KICAgICAgICAKPC9ib2R5Pgo8c2NyaXB0PiAgICAKICAgIAogICAgICAgICAgICB2YXIgbWFwX2ZkZmNhZGQzYWFmYzQwM2Q5ZGEwZjA3MjM1NDE3MzIzID0gTC5tYXAoCiAgICAgICAgICAgICAgICAibWFwX2ZkZmNhZGQzYWFmYzQwM2Q5ZGEwZjA3MjM1NDE3MzIzIiwKICAgICAgICAgICAgICAgIHsKICAgICAgICAgICAgICAgICAgICBjZW50ZXI6IFsyOC4xNDY4NzM4MjMzNDM4NSwgNy40OTIzMTAxNTQ1NzQxMzVdLAogICAgICAgICAgICAgICAgICAgIGNyczogTC5DUlMuRVBTRzM4NTcsCiAgICAgICAgICAgICAgICAgICAgem9vbTogNSwKICAgICAgICAgICAgICAgICAgICB6b29tQ29udHJvbDogdHJ1ZSwKICAgICAgICAgICAgICAgICAgICBwcmVmZXJDYW52YXM6IGZhbHNlLAogICAgICAgICAgICAgICAgfQogICAgICAgICAgICApOwoKICAgICAgICAgICAgCgogICAgICAgIAogICAgCiAgICAgICAgICAgIHZhciB0aWxlX2xheWVyXzliOGJlMGQ0OGIzMjQ2N2RhNjUzMWVkMzA3M2M0N2M1ID0gTC50aWxlTGF5ZXIoCiAgICAgICAgICAgICAgICAiaHR0cHM6Ly97c30udGlsZS5vcGVuc3RyZWV0bWFwLm9yZy97en0ve3h9L3t5fS5wbmciLAogICAgICAgICAgICAgICAgeyJhdHRyaWJ1dGlvbiI6ICJEYXRhIGJ5IFx1MDAyNmNvcHk7IFx1MDAzY2EgaHJlZj1cImh0dHA6Ly9vcGVuc3RyZWV0bWFwLm9yZ1wiXHUwMDNlT3BlblN0cmVldE1hcFx1MDAzYy9hXHUwMDNlLCB1bmRlciBcdTAwM2NhIGhyZWY9XCJodHRwOi8vd3d3Lm9wZW5zdHJlZXRtYXAub3JnL2NvcHlyaWdodFwiXHUwMDNlT0RiTFx1MDAzYy9hXHUwMDNlLiIsICJkZXRlY3RSZXRpbmEiOiBmYWxzZSwgIm1heE5hdGl2ZVpvb20iOiAxOCwgIm1heFpvb20iOiAxOCwgIm1pblpvb20iOiAwLCAibm9XcmFwIjogZmFsc2UsICJvcGFjaXR5IjogMSwgInN1YmRvbWFpbnMiOiAiYWJjIiwgInRtcyI6IGZhbHNlfQogICAgICAgICAgICApLmFkZFRvKG1hcF9mZGZjYWRkM2FhZmM0MDNkOWRhMGYwNzIzNTQxNzMyMyk7CiAgICAgICAgCiAgICAKICAgICAgICAgICAgdmFyIG1hcmtlcl8yMzU0YTkwOWUyMjM0NDNjOGZlMWJmZGE0N2Y5YmNiZCA9IEwubWFya2VyKAogICAgICAgICAgICAgICAgWzI4LjE0Njg3MzgyMzM0Mzg1LCA3LjQ5MjMxMDE1NDU3NDEzNV0sCiAgICAgICAgICAgICAgICB7fQogICAgICAgICAgICApLmFkZFRvKG1hcF9mZGZjYWRkM2FhZmM0MDNkOWRhMGYwNzIzNTQxNzMyMyk7CiAgICAgICAgCiAgICAKICAgICAgICAgICAgdmFyIGljb25fNzQwZDUwNTE1NmNjNDA1OTk4NjZjM2Q3NDIyYmUyNmQgPSBMLkF3ZXNvbWVNYXJrZXJzLmljb24oCiAgICAgICAgICAgICAgICB7ImV4dHJhQ2xhc3NlcyI6ICJmYS1yb3RhdGUtMCIsICJpY29uIjogImluZm8tc2lnbiIsICJpY29uQ29sb3IiOiAid2hpdGUiLCAibWFya2VyQ29sb3IiOiAicmVkIiwgInByZWZpeCI6ICJnbHlwaGljb24ifQogICAgICAgICAgICApOwogICAgICAgICAgICBtYXJrZXJfMjM1NGE5MDllMjIzNDQzYzhmZTFiZmRhNDdmOWJjYmQuc2V0SWNvbihpY29uXzc0MGQ1MDUxNTZjYzQwNTk5ODY2YzNkNzQyMmJlMjZkKTsKICAgICAgICAKICAgIAogICAgICAgIHZhciBwb3B1cF8zM2ViMTM3ZWQ1MDY0NmJjODYwOGNmMDhjOTZiYzU5YyA9IEwucG9wdXAoeyJtYXhXaWR0aCI6ICIxMDAlIn0pOwoKICAgICAgICAKICAgICAgICAgICAgdmFyIGh0bWxfMTJhYmRmOGI0ZTA4NDMxNDhkNGEyMDY5YzAzNDE5MmMgPSAkKGA8ZGl2IGlkPSJodG1sXzEyYWJkZjhiNGUwODQzMTQ4ZDRhMjA2OWMwMzQxOTJjIiBzdHlsZT0id2lkdGg6IDEwMC4wJTsgaGVpZ2h0OiAxMDAuMCU7Ij5DZW50cm9pZDwvZGl2PmApWzBdOwogICAgICAgICAgICBwb3B1cF8zM2ViMTM3ZWQ1MDY0NmJjODYwOGNmMDhjOTZiYzU5Yy5zZXRDb250ZW50KGh0bWxfMTJhYmRmOGI0ZTA4NDMxNDhkNGEyMDY5YzAzNDE5MmMpOwogICAgICAgIAoKICAgICAgICBtYXJrZXJfMjM1NGE5MDllMjIzNDQzYzhmZTFiZmRhNDdmOWJjYmQuYmluZFBvcHVwKHBvcHVwXzMzZWIxMzdlZDUwNjQ2YmM4NjA4Y2YwOGM5NmJjNTljKQogICAgICAgIDsKCiAgICAgICAgCiAgICAKICAgIAogICAgICAgICAgICB2YXIgbWFya2VyX2NmNzlhZDY3NGY5NjRlMWRiNTI2NWM5ZDgwZGU2YzQyID0gTC5tYXJrZXIoCiAgICAgICAgICAgICAgICBbLTguNzQ4MDU2LCAxMTUuMTY3Ml0sCiAgICAgICAgICAgICAgICB7fQogICAgICAgICAgICApLmFkZFRvKG1hcF9mZGZjYWRkM2FhZmM0MDNkOWRhMGYwNzIzNTQxNzMyMyk7CiAgICAgICAgCiAgICAKICAgICAgICAgICAgdmFyIGljb25fN2JmYjkwZTlkMTEyNDkxY2JmNzA5OTU4YjlmYjhmYTMgPSBMLkF3ZXNvbWVNYXJrZXJzLmljb24oCiAgICAgICAgICAgICAgICB7ImV4dHJhQ2xhc3NlcyI6ICJmYS1yb3RhdGUtMCIsICJpY29uIjogImluZm8tc2lnbiIsICJpY29uQ29sb3IiOiAid2hpdGUiLCAibWFya2VyQ29sb3IiOiAiYmx1ZSIsICJwcmVmaXgiOiAiZ2x5cGhpY29uIn0KICAgICAgICAgICAgKTsKICAgICAgICAgICAgbWFya2VyX2NmNzlhZDY3NGY5NjRlMWRiNTI2NWM5ZDgwZGU2YzQyLnNldEljb24oaWNvbl83YmZiOTBlOWQxMTI0OTFjYmY3MDk5NThiOWZiOGZhMyk7CiAgICAgICAgCiAgICAKICAgICAgICB2YXIgcG9wdXBfM2M1ODIyOWZmNTMxNGNkYWEyYjE1MGJmZjNkOWYxY2EgPSBMLnBvcHVwKHsibWF4V2lkdGgiOiAiMTAwJSJ9KTsKCiAgICAgICAgCiAgICAgICAgICAgIHZhciBodG1sXzhmODViZDAxYjczNzRjZWViNDg5ZTI3NzIwMDg5ZDhhID0gJChgPGRpdiBpZD0iaHRtbF84Zjg1YmQwMWI3Mzc0Y2VlYjQ4OWUyNzcyMDA4OWQ4YSIgc3R5bGU9IndpZHRoOiAxMDAuMCU7IGhlaWdodDogMTAwLjAlOyI+QWlycG9ydDwvZGl2PmApWzBdOwogICAgICAgICAgICBwb3B1cF8zYzU4MjI5ZmY1MzE0Y2RhYTJiMTUwYmZmM2Q5ZjFjYS5zZXRDb250ZW50KGh0bWxfOGY4NWJkMDFiNzM3NGNlZWI0ODllMjc3MjAwODlkOGEpOwogICAgICAgIAoKICAgICAgICBtYXJrZXJfY2Y3OWFkNjc0Zjk2NGUxZGI1MjY1YzlkODBkZTZjNDIuYmluZFBvcHVwKHBvcHVwXzNjNTgyMjlmZjUzMTRjZGFhMmIxNTBiZmYzZDlmMWNhKQogICAgICAgIDsKCiAgICAgICAgCiAgICAKICAgIAogICAgICAgICAgICB2YXIgbWFya2VyXzlhNGVmNTVkMDJhZDQwMzA5NTdiOThjNjM0M2FiOTY0ID0gTC5tYXJrZXIoCiAgICAgICAgICAgICAgICBbMjMuMzkyNSwgMTEzLjI5ODldLAogICAgICAgICAgICAgICAge30KICAgICAgICAgICAgKS5hZGRUbyhtYXBfZmRmY2FkZDNhYWZjNDAzZDlkYTBmMDcyMzU0MTczMjMpOwogICAgICAgIAogICAgCiAgICAgICAgICAgIHZhciBpY29uXzZlM2QyOGVlOTE3MjQ3OTk4ZDMwYTNkODM0NTE4YzI4ID0gTC5Bd2Vzb21lTWFya2Vycy5pY29uKAogICAgICAgICAgICAgICAgeyJleHRyYUNsYXNzZXMiOiAiZmEtcm90YXRlLTAiLCAiaWNvbiI6ICJpbmZvLXNpZ24iLCAiaWNvbkNvbG9yIjogIndoaXRlIiwgIm1hcmtlckNvbG9yIjogImJsdWUiLCAicHJlZml4IjogImdseXBoaWNvbiJ9CiAgICAgICAgICAgICk7CiAgICAgICAgICAgIG1hcmtlcl85YTRlZjU1ZDAyYWQ0MDMwOTU3Yjk4YzYzNDNhYjk2NC5zZXRJY29uKGljb25fNmUzZDI4ZWU5MTcyNDc5OThkMzBhM2Q4MzQ1MThjMjgpOwogICAgICAgIAogICAgCiAgICAgICAgdmFyIHBvcHVwXzNhNTA5MjE3ZjJkODQ0MmJhZDViN2JhYWM3MzFiNWI5ID0gTC5wb3B1cCh7Im1heFdpZHRoIjogIjEwMCUifSk7CgogICAgICAgIAogICAgICAgICAgICB2YXIgaHRtbF9mMGU5OTg2M2E3OTY0MGFhOGJiNmQ0ZDU4MDU4ODk5YiA9ICQoYDxkaXYgaWQ9Imh0bWxfZjBlOTk4NjNhNzk2NDBhYThiYjZkNGQ1ODA1ODg5OWIiIHN0eWxlPSJ3aWR0aDogMTAwLjAlOyBoZWlnaHQ6IDEwMC4wJTsiPkFpcnBvcnQ8L2Rpdj5gKVswXTsKICAgICAgICAgICAgcG9wdXBfM2E1MDkyMTdmMmQ4NDQyYmFkNWI3YmFhYzczMWI1Yjkuc2V0Q29udGVudChodG1sX2YwZTk5ODYzYTc5NjQwYWE4YmI2ZDRkNTgwNTg4OTliKTsKICAgICAgICAKCiAgICAgICAgbWFya2VyXzlhNGVmNTVkMDJhZDQwMzA5NTdiOThjNjM0M2FiOTY0LmJpbmRQb3B1cChwb3B1cF8zYTUwOTIxN2YyZDg0NDJiYWQ1YjdiYWFjNzMxYjViOSkKICAgICAgICA7CgogICAgICAgIAogICAgCiAgICAKICAgICAgICAgICAgdmFyIG1hcmtlcl9lNDNmZGRhNmZiMGM0ZTgyYTc4NTRiMzg3YTI1MTk2ZSA9IEwubWFya2VyKAogICAgICAgICAgICAgICAgWzQxLjMsIDIuMDgzMzMzXSwKICAgICAgICAgICAgICAgIHt9CiAgICAgICAgICAgICkuYWRkVG8obWFwX2ZkZmNhZGQzYWFmYzQwM2Q5ZGEwZjA3MjM1NDE3MzIzKTsKICAgICAgICAKICAgIAogICAgICAgICAgICB2YXIgaWNvbl8yZmZmM2FjMTYyZDU0N2ZiODM4ZmY3MjE1YjFiMWYwZCA9IEwuQXdlc29tZU1hcmtlcnMuaWNvbigKICAgICAgICAgICAgICAgIHsiZXh0cmFDbGFzc2VzIjogImZhLXJvdGF0ZS0wIiwgImljb24iOiAiaW5mby1zaWduIiwgImljb25Db2xvciI6ICJ3aGl0ZSIsICJtYXJrZXJDb2xvciI6ICJibHVlIiwgInByZWZpeCI6ICJnbHlwaGljb24ifQogICAgICAgICAgICApOwogICAgICAgICAgICBtYXJrZXJfZTQzZmRkYTZmYjBjNGU4MmE3ODU0YjM4N2EyNTE5NmUuc2V0SWNvbihpY29uXzJmZmYzYWMxNjJkNTQ3ZmI4MzhmZjcyMTViMWIxZjBkKTsKICAgICAgICAKICAgIAogICAgICAgIHZhciBwb3B1cF8wY2Q4MWZlMDcwMGU0MDk0OGI2YTAwMWMwNGY2ZDc3OSA9IEwucG9wdXAoeyJtYXhXaWR0aCI6ICIxMDAlIn0pOwoKICAgICAgICAKICAgICAgICAgICAgdmFyIGh0bWxfOWQ0MDYzMTU1MGNjNDk3MjlkY2ZiZTNiNGI2Mzg1NTUgPSAkKGA8ZGl2IGlkPSJodG1sXzlkNDA2MzE1NTBjYzQ5NzI5ZGNmYmUzYjRiNjM4NTU1IiBzdHlsZT0id2lkdGg6IDEwMC4wJTsgaGVpZ2h0OiAxMDAuMCU7Ij5BaXJwb3J0PC9kaXY+YClbMF07CiAgICAgICAgICAgIHBvcHVwXzBjZDgxZmUwNzAwZTQwOTQ4YjZhMDAxYzA0ZjZkNzc5LnNldENvbnRlbnQoaHRtbF85ZDQwNjMxNTUwY2M0OTcyOWRjZmJlM2I0YjYzODU1NSk7CiAgICAgICAgCgogICAgICAgIG1hcmtlcl9lNDNmZGRhNmZiMGM0ZTgyYTc4NTRiMzg3YTI1MTk2ZS5iaW5kUG9wdXAocG9wdXBfMGNkODFmZTA3MDBlNDA5NDhiNmEwMDFjMDRmNmQ3NzkpCiAgICAgICAgOwoKICAgICAgICAKICAgIAogICAgCiAgICAgICAgICAgIHZhciBtYXJrZXJfMDZiMzY4NmM2ZDM2NGUyM2FmYTgwMjAzNDUxNzk5MmIgPSBMLm1hcmtlcigKICAgICAgICAgICAgICAgIFs0MC41MTk3MiwgMjIuOTcwODNdLAogICAgICAgICAgICAgICAge30KICAgICAgICAgICAgKS5hZGRUbyhtYXBfZmRmY2FkZDNhYWZjNDAzZDlkYTBmMDcyMzU0MTczMjMpOwogICAgICAgIAogICAgCiAgICAgICAgICAgIHZhciBpY29uX2VlOTMyZWZiMTA4NDQxZGM4MWIzN2ZjOTMyOTM0OTIyID0gTC5Bd2Vzb21lTWFya2Vycy5pY29uKAogICAgICAgICAgICAgICAgeyJleHRyYUNsYXNzZXMiOiAiZmEtcm90YXRlLTAiLCAiaWNvbiI6ICJpbmZvLXNpZ24iLCAiaWNvbkNvbG9yIjogIndoaXRlIiwgIm1hcmtlckNvbG9yIjogImJsdWUiLCAicHJlZml4IjogImdseXBoaWNvbiJ9CiAgICAgICAgICAgICk7CiAgICAgICAgICAgIG1hcmtlcl8wNmIzNjg2YzZkMzY0ZTIzYWZhODAyMDM0NTE3OTkyYi5zZXRJY29uKGljb25fZWU5MzJlZmIxMDg0NDFkYzgxYjM3ZmM5MzI5MzQ5MjIpOwogICAgICAgIAogICAgCiAgICAgICAgdmFyIHBvcHVwXzY0NTQ1ZGMwOGM0MTQwZTVhZTBmZjFjNTliM2VlOGFiID0gTC5wb3B1cCh7Im1heFdpZHRoIjogIjEwMCUifSk7CgogICAgICAgIAogICAgICAgICAgICB2YXIgaHRtbF82Mjc4MDdhNGI1NDI0ZWExOThjOTA2NzkwNzAwNDU2MyA9ICQoYDxkaXYgaWQ9Imh0bWxfNjI3ODA3YTRiNTQyNGVhMTk4YzkwNjc5MDcwMDQ1NjMiIHN0eWxlPSJ3aWR0aDogMTAwLjAlOyBoZWlnaHQ6IDEwMC4wJTsiPkFpcnBvcnQ8L2Rpdj5gKVswXTsKICAgICAgICAgICAgcG9wdXBfNjQ1NDVkYzA4YzQxNDBlNWFlMGZmMWM1OWIzZWU4YWIuc2V0Q29udGVudChodG1sXzYyNzgwN2E0YjU0MjRlYTE5OGM5MDY3OTA3MDA0NTYzKTsKICAgICAgICAKCiAgICAgICAgbWFya2VyXzA2YjM2ODZjNmQzNjRlMjNhZmE4MDIwMzQ1MTc5OTJiLmJpbmRQb3B1cChwb3B1cF82NDU0NWRjMDhjNDE0MGU1YWUwZmYxYzU5YjNlZThhYikKICAgICAgICA7CgogICAgICAgIAogICAgCiAgICAKICAgICAgICAgICAgdmFyIG1hcmtlcl83YWUzYjFkMGJiMGM0NTdjYmZlNWZmMDQyNTZiNTI2NCA9IEwubWFya2VyKAogICAgICAgICAgICAgICAgWzE0LjUxNjY3MDAwMDAwMDAwMSwgMTIxLjAxNjddLAogICAgICAgICAgICAgICAge30KICAgICAgICAgICAgKS5hZGRUbyhtYXBfZmRmY2FkZDNhYWZjNDAzZDlkYTBmMDcyMzU0MTczMjMpOwogICAgICAgIAogICAgCiAgICAgICAgICAgIHZhciBpY29uX2I5YjI0ZGZmMWU1MDQ0MjJhMjA1NjQ3NTg5YTA1NDE5ID0gTC5Bd2Vzb21lTWFya2Vycy5pY29uKAogICAgICAgICAgICAgICAgeyJleHRyYUNsYXNzZXMiOiAiZmEtcm90YXRlLTAiLCAiaWNvbiI6ICJpbmZvLXNpZ24iLCAiaWNvbkNvbG9yIjogIndoaXRlIiwgIm1hcmtlckNvbG9yIjogImJsdWUiLCAicHJlZml4IjogImdseXBoaWNvbiJ9CiAgICAgICAgICAgICk7CiAgICAgICAgICAgIG1hcmtlcl83YWUzYjFkMGJiMGM0NTdjYmZlNWZmMDQyNTZiNTI2NC5zZXRJY29uKGljb25fYjliMjRkZmYxZTUwNDQyMmEyMDU2NDc1ODlhMDU0MTkpOwogICAgICAgIAogICAgCiAgICAgICAgdmFyIHBvcHVwXzZjZThiYjgxOGZjYjQ1N2Y4NTBjNDA2ZTI4ODQ5ZTJlID0gTC5wb3B1cCh7Im1heFdpZHRoIjogIjEwMCUifSk7CgogICAgICAgIAogICAgICAgICAgICB2YXIgaHRtbF9iOTk3MmI0ODFjOWM0MGYyYWY2NGI3MWE1Mzc0MTQ2OSA9ICQoYDxkaXYgaWQ9Imh0bWxfYjk5NzJiNDgxYzljNDBmMmFmNjRiNzFhNTM3NDE0NjkiIHN0eWxlPSJ3aWR0aDogMTAwLjAlOyBoZWlnaHQ6IDEwMC4wJTsiPkFpcnBvcnQ8L2Rpdj5gKVswXTsKICAgICAgICAgICAgcG9wdXBfNmNlOGJiODE4ZmNiNDU3Zjg1MGM0MDZlMjg4NDllMmUuc2V0Q29udGVudChodG1sX2I5OTcyYjQ4MWM5YzQwZjJhZjY0YjcxYTUzNzQxNDY5KTsKICAgICAgICAKCiAgICAgICAgbWFya2VyXzdhZTNiMWQwYmIwYzQ1N2NiZmU1ZmYwNDI1NmI1MjY0LmJpbmRQb3B1cChwb3B1cF82Y2U4YmI4MThmY2I0NTdmODUwYzQwNmUyODg0OWUyZSkKICAgICAgICA7CgogICAgICAgIAogICAgCiAgICAKICAgICAgICAgICAgdmFyIG1hcmtlcl9kYWMyYmE5ZWYxMzA0YzlmODhjOTczNmIwOTcyNjU4MSA9IEwubWFya2VyKAogICAgICAgICAgICAgICAgWzI5LjcxOTE3MDAwMDAwMDAwMiwgMTA2LjY0MTddLAogICAgICAgICAgICAgICAge30KICAgICAgICAgICAgKS5hZGRUbyhtYXBfZmRmY2FkZDNhYWZjNDAzZDlkYTBmMDcyMzU0MTczMjMpOwogICAgICAgIAogICAgCiAgICAgICAgICAgIHZhciBpY29uX2EwYzk5NzI2ZTJhZjQwM2ZiNGIxZDE4MzllNjE2Zjc0ID0gTC5Bd2Vzb21lTWFya2Vycy5pY29uKAogICAgICAgICAgICAgICAgeyJleHRyYUNsYXNzZXMiOiAiZmEtcm90YXRlLTAiLCAiaWNvbiI6ICJpbmZvLXNpZ24iLCAiaWNvbkNvbG9yIjogIndoaXRlIiwgIm1hcmtlckNvbG9yIjogImJsdWUiLCAicHJlZml4IjogImdseXBoaWNvbiJ9CiAgICAgICAgICAgICk7CiAgICAgICAgICAgIG1hcmtlcl9kYWMyYmE5ZWYxMzA0YzlmODhjOTczNmIwOTcyNjU4MS5zZXRJY29uKGljb25fYTBjOTk3MjZlMmFmNDAzZmI0YjFkMTgzOWU2MTZmNzQpOwogICAgICAgIAogICAgCiAgICAgICAgdmFyIHBvcHVwXzZkMjFhNGI5ZjFlOTRlM2M5NzgxMjA3ZmUxN2ViOGFlID0gTC5wb3B1cCh7Im1heFdpZHRoIjogIjEwMCUifSk7CgogICAgICAgIAogICAgICAgICAgICB2YXIgaHRtbF82OTc1ZGIyNGI0YTc0NDRkYjA0YmNiMzdlZGNhMjY4NyA9ICQoYDxkaXYgaWQ9Imh0bWxfNjk3NWRiMjRiNGE3NDQ0ZGIwNGJjYjM3ZWRjYTI2ODciIHN0eWxlPSJ3aWR0aDogMTAwLjAlOyBoZWlnaHQ6IDEwMC4wJTsiPkFpcnBvcnQ8L2Rpdj5gKVswXTsKICAgICAgICAgICAgcG9wdXBfNmQyMWE0YjlmMWU5NGUzYzk3ODEyMDdmZTE3ZWI4YWUuc2V0Q29udGVudChodG1sXzY5NzVkYjI0YjRhNzQ0NGRiMDRiY2IzN2VkY2EyNjg3KTsKICAgICAgICAKCiAgICAgICAgbWFya2VyX2RhYzJiYTllZjEzMDRjOWY4OGM5NzM2YjA5NzI2NTgxLmJpbmRQb3B1cChwb3B1cF82ZDIxYTRiOWYxZTk0ZTNjOTc4MTIwN2ZlMTdlYjhhZSkKICAgICAgICA7CgogICAgICAgIAogICAgCiAgICAKICAgICAgICAgICAgdmFyIG1hcmtlcl8yNTQ2NDcwNjUzODY0YzQ2YWI3NjI0MjBhNjNhNGIwYSA9IEwubWFya2VyKAogICAgICAgICAgICAgICAgWy0yNy4zODMzMjk5OTk5OTk5OTcsIDE1My4xMTY3XSwKICAgICAgICAgICAgICAgIHt9CiAgICAgICAgICAgICkuYWRkVG8obWFwX2ZkZmNhZGQzYWFmYzQwM2Q5ZGEwZjA3MjM1NDE3MzIzKTsKICAgICAgICAKICAgIAogICAgICAgICAgICB2YXIgaWNvbl80OTA3MWFiZmQzYTY0OTU5YTBjOWE2YTc3ZTc1ZTM1NSA9IEwuQXdlc29tZU1hcmtlcnMuaWNvbigKICAgICAgICAgICAgICAgIHsiZXh0cmFDbGFzc2VzIjogImZhLXJvdGF0ZS0wIiwgImljb24iOiAiaW5mby1zaWduIiwgImljb25Db2xvciI6ICJ3aGl0ZSIsICJtYXJrZXJDb2xvciI6ICJibHVlIiwgInByZWZpeCI6ICJnbHlwaGljb24ifQogICAgICAgICAgICApOwogICAgICAgICAgICBtYXJrZXJfMjU0NjQ3MDY1Mzg2NGM0NmFiNzYyNDIwYTYzYTRiMGEuc2V0SWNvbihpY29uXzQ5MDcxYWJmZDNhNjQ5NTlhMGM5YTZhNzdlNzVlMzU1KTsKICAgICAgICAKICAgIAogICAgICAgIHZhciBwb3B1cF8xOWEwYjk1NmFiM2E0ZTEyYjE1YTg0OTgzYTViN2VkZCA9IEwucG9wdXAoeyJtYXhXaWR0aCI6ICIxMDAlIn0pOwoKICAgICAgICAKICAgICAgICAgICAgdmFyIGh0bWxfNDFlZWZlOGFjYWJkNDIzNDk1OGQ1NjljMjUzYjU1Y2MgPSAkKGA8ZGl2IGlkPSJodG1sXzQxZWVmZThhY2FiZDQyMzQ5NThkNTY5YzI1M2I1NWNjIiBzdHlsZT0id2lkdGg6IDEwMC4wJTsgaGVpZ2h0OiAxMDAuMCU7Ij5BaXJwb3J0PC9kaXY+YClbMF07CiAgICAgICAgICAgIHBvcHVwXzE5YTBiOTU2YWIzYTRlMTJiMTVhODQ5ODNhNWI3ZWRkLnNldENvbnRlbnQoaHRtbF80MWVlZmU4YWNhYmQ0MjM0OTU4ZDU2OWMyNTNiNTVjYyk7CiAgICAgICAgCgogICAgICAgIG1hcmtlcl8yNTQ2NDcwNjUzODY0YzQ2YWI3NjI0MjBhNjNhNGIwYS5iaW5kUG9wdXAocG9wdXBfMTlhMGI5NTZhYjNhNGUxMmIxNWE4NDk4M2E1YjdlZGQpCiAgICAgICAgOwoKICAgICAgICAKICAgIAogICAgCiAgICAgICAgICAgIHZhciBtYXJrZXJfNmY2MDllMDAxMWI3NDliODlkYmM0NTc2YWYxZThjMGUgPSBMLm1hcmtlcigKICAgICAgICAgICAgICAgIFszOC4yOTI1LCAyNy4xNTY5NDAwMDAwMDAwMDJdLAogICAgICAgICAgICAgICAge30KICAgICAgICAgICAgKS5hZGRUbyhtYXBfZmRmY2FkZDNhYWZjNDAzZDlkYTBmMDcyMzU0MTczMjMpOwogICAgICAgIAogICAgCiAgICAgICAgICAgIHZhciBpY29uXzQ4MmZmZDk1NmMyMDRiNTlhZTAyNWE2ODZlNDI3N2E1ID0gTC5Bd2Vzb21lTWFya2Vycy5pY29uKAogICAgICAgICAgICAgICAgeyJleHRyYUNsYXNzZXMiOiAiZmEtcm90YXRlLTAiLCAiaWNvbiI6ICJpbmZvLXNpZ24iLCAiaWNvbkNvbG9yIjogIndoaXRlIiwgIm1hcmtlckNvbG9yIjogImJsdWUiLCAicHJlZml4IjogImdseXBoaWNvbiJ9CiAgICAgICAgICAgICk7CiAgICAgICAgICAgIG1hcmtlcl82ZjYwOWUwMDExYjc0OWI4OWRiYzQ1NzZhZjFlOGMwZS5zZXRJY29uKGljb25fNDgyZmZkOTU2YzIwNGI1OWFlMDI1YTY4NmU0Mjc3YTUpOwogICAgICAgIAogICAgCiAgICAgICAgdmFyIHBvcHVwX2RjZTA1YjRhOTIxMTQxMDFhZWUzNTg1NjVhNzM5NDEyID0gTC5wb3B1cCh7Im1heFdpZHRoIjogIjEwMCUifSk7CgogICAgICAgIAogICAgICAgICAgICB2YXIgaHRtbF84NTZkMWQ5OWZjMDQ0NGM0YmJjOTA0ZTkxN2EzZmFjNSA9ICQoYDxkaXYgaWQ9Imh0bWxfODU2ZDFkOTlmYzA0NDRjNGJiYzkwNGU5MTdhM2ZhYzUiIHN0eWxlPSJ3aWR0aDogMTAwLjAlOyBoZWlnaHQ6IDEwMC4wJTsiPkFpcnBvcnQ8L2Rpdj5gKVswXTsKICAgICAgICAgICAgcG9wdXBfZGNlMDViNGE5MjExNDEwMWFlZTM1ODU2NWE3Mzk0MTIuc2V0Q29udGVudChodG1sXzg1NmQxZDk5ZmMwNDQ0YzRiYmM5MDRlOTE3YTNmYWM1KTsKICAgICAgICAKCiAgICAgICAgbWFya2VyXzZmNjA5ZTAwMTFiNzQ5Yjg5ZGJjNDU3NmFmMWU4YzBlLmJpbmRQb3B1cChwb3B1cF9kY2UwNWI0YTkyMTE0MTAxYWVlMzU4NTY1YTczOTQxMikKICAgICAgICA7CgogICAgICAgIAogICAgCiAgICAKICAgICAgICAgICAgdmFyIG1hcmtlcl9hMDc5OThlMjk0NmI0NDczYTk1ZGRhNmMyODU2ZDRlNiA9IEwubWFya2VyKAogICAgICAgICAgICAgICAgWzU3LjEsIDkuODVdLAogICAgICAgICAgICAgICAge30KICAgICAgICAgICAgKS5hZGRUbyhtYXBfZmRmY2FkZDNhYWZjNDAzZDlkYTBmMDcyMzU0MTczMjMpOwogICAgICAgIAogICAgCiAgICAgICAgICAgIHZhciBpY29uX2RkM2ZmMTIyYmRkNTQwN2Y4YWZhN2I4YzdiNWRjNmI4ID0gTC5Bd2Vzb21lTWFya2Vycy5pY29uKAogICAgICAgICAgICAgICAgeyJleHRyYUNsYXNzZXMiOiAiZmEtcm90YXRlLTAiLCAiaWNvbiI6ICJpbmZvLXNpZ24iLCAiaWNvbkNvbG9yIjogIndoaXRlIiwgIm1hcmtlckNvbG9yIjogImJsdWUiLCAicHJlZml4IjogImdseXBoaWNvbiJ9CiAgICAgICAgICAgICk7CiAgICAgICAgICAgIG1hcmtlcl9hMDc5OThlMjk0NmI0NDczYTk1ZGRhNmMyODU2ZDRlNi5zZXRJY29uKGljb25fZGQzZmYxMjJiZGQ1NDA3ZjhhZmE3YjhjN2I1ZGM2YjgpOwogICAgICAgIAogICAgCiAgICAgICAgdmFyIHBvcHVwX2I4MzEyODJkZDM1ODQyOTI5ZmVhZjc3YmY3MWFhNjMwID0gTC5wb3B1cCh7Im1heFdpZHRoIjogIjEwMCUifSk7CgogICAgICAgIAogICAgICAgICAgICB2YXIgaHRtbF82MTQ1M2RkMTRmNTI0YjI0YjBhNjhjM2IxZmNhNTk5YiA9ICQoYDxkaXYgaWQ9Imh0bWxfNjE0NTNkZDE0ZjUyNGIyNGIwYTY4YzNiMWZjYTU5OWIiIHN0eWxlPSJ3aWR0aDogMTAwLjAlOyBoZWlnaHQ6IDEwMC4wJTsiPkFpcnBvcnQ8L2Rpdj5gKVswXTsKICAgICAgICAgICAgcG9wdXBfYjgzMTI4MmRkMzU4NDI5MjlmZWFmNzdiZjcxYWE2MzAuc2V0Q29udGVudChodG1sXzYxNDUzZGQxNGY1MjRiMjRiMGE2OGMzYjFmY2E1OTliKTsKICAgICAgICAKCiAgICAgICAgbWFya2VyX2EwNzk5OGUyOTQ2YjQ0NzNhOTVkZGE2YzI4NTZkNGU2LmJpbmRQb3B1cChwb3B1cF9iODMxMjgyZGQzNTg0MjkyOWZlYWY3N2JmNzFhYTYzMCkKICAgICAgICA7CgogICAgICAgIAogICAgCiAgICAKICAgICAgICAgICAgdmFyIG1hcmtlcl83NmZjOTQ5YzFhZTY0MWU5YmIyM2ZiMTJkYWQ5NWM3NyA9IEwubWFya2VyKAogICAgICAgICAgICAgICAgWy0xNS44NzExMSwgLTQ3LjkxODYxXSwKICAgICAgICAgICAgICAgIHt9CiAgICAgICAgICAgICkuYWRkVG8obWFwX2ZkZmNhZGQzYWFmYzQwM2Q5ZGEwZjA3MjM1NDE3MzIzKTsKICAgICAgICAKICAgIAogICAgICAgICAgICB2YXIgaWNvbl9kODlkOTA1ZGUxMWI0NmQyOWM1MDllMjUyMjcwZGVlZCA9IEwuQXdlc29tZU1hcmtlcnMuaWNvbigKICAgICAgICAgICAgICAgIHsiZXh0cmFDbGFzc2VzIjogImZhLXJvdGF0ZS0wIiwgImljb24iOiAiaW5mby1zaWduIiwgImljb25Db2xvciI6ICJ3aGl0ZSIsICJtYXJrZXJDb2xvciI6ICJibHVlIiwgInByZWZpeCI6ICJnbHlwaGljb24ifQogICAgICAgICAgICApOwogICAgICAgICAgICBtYXJrZXJfNzZmYzk0OWMxYWU2NDFlOWJiMjNmYjEyZGFkOTVjNzcuc2V0SWNvbihpY29uX2Q4OWQ5MDVkZTExYjQ2ZDI5YzUwOWUyNTIyNzBkZWVkKTsKICAgICAgICAKICAgIAogICAgICAgIHZhciBwb3B1cF8yYmNmZDEyMTBkNzI0MzNhODYzMTQxYmVjZWFkNzY2OCA9IEwucG9wdXAoeyJtYXhXaWR0aCI6ICIxMDAlIn0pOwoKICAgICAgICAKICAgICAgICAgICAgdmFyIGh0bWxfZjAzMWYxZTcwYTNkNDdiZWJhNmY2OWNhYjQ3ZjViMTkgPSAkKGA8ZGl2IGlkPSJodG1sX2YwMzFmMWU3MGEzZDQ3YmViYTZmNjljYWI0N2Y1YjE5IiBzdHlsZT0id2lkdGg6IDEwMC4wJTsgaGVpZ2h0OiAxMDAuMCU7Ij5BaXJwb3J0PC9kaXY+YClbMF07CiAgICAgICAgICAgIHBvcHVwXzJiY2ZkMTIxMGQ3MjQzM2E4NjMxNDFiZWNlYWQ3NjY4LnNldENvbnRlbnQoaHRtbF9mMDMxZjFlNzBhM2Q0N2JlYmE2ZjY5Y2FiNDdmNWIxOSk7CiAgICAgICAgCgogICAgICAgIG1hcmtlcl83NmZjOTQ5YzFhZTY0MWU5YmIyM2ZiMTJkYWQ5NWM3Ny5iaW5kUG9wdXAocG9wdXBfMmJjZmQxMjEwZDcyNDMzYTg2MzE0MWJlY2VhZDc2NjgpCiAgICAgICAgOwoKICAgICAgICAKICAgIAogICAgCiAgICAgICAgICAgIHZhciBtYXJrZXJfNTk2Mjc4YzFiNjQyNGQwNTliM2U2MWMwNjdkZDQyNmEgPSBMLm1hcmtlcigKICAgICAgICAgICAgICAgIFszNC40MzYxMSwgMTMyLjkxOTRdLAogICAgICAgICAgICAgICAge30KICAgICAgICAgICAgKS5hZGRUbyhtYXBfZmRmY2FkZDNhYWZjNDAzZDlkYTBmMDcyMzU0MTczMjMpOwogICAgICAgIAogICAgCiAgICAgICAgICAgIHZhciBpY29uXzkyM2VhYjFhMjhhMzRmNzg4YzQzYzA2ZDJjNmUwNmE1ID0gTC5Bd2Vzb21lTWFya2Vycy5pY29uKAogICAgICAgICAgICAgICAgeyJleHRyYUNsYXNzZXMiOiAiZmEtcm90YXRlLTAiLCAiaWNvbiI6ICJpbmZvLXNpZ24iLCAiaWNvbkNvbG9yIjogIndoaXRlIiwgIm1hcmtlckNvbG9yIjogImJsdWUiLCAicHJlZml4IjogImdseXBoaWNvbiJ9CiAgICAgICAgICAgICk7CiAgICAgICAgICAgIG1hcmtlcl81OTYyNzhjMWI2NDI0ZDA1OWIzZTYxYzA2N2RkNDI2YS5zZXRJY29uKGljb25fOTIzZWFiMWEyOGEzNGY3ODhjNDNjMDZkMmM2ZTA2YTUpOwogICAgICAgIAogICAgCiAgICAgICAgdmFyIHBvcHVwX2Q4N2Q2MjQ2ZDdkOTRiYjc5MDliNmU0YmE2YzQyN2QwID0gTC5wb3B1cCh7Im1heFdpZHRoIjogIjEwMCUifSk7CgogICAgICAgIAogICAgICAgICAgICB2YXIgaHRtbF9mOGRlZjBkNDQyYzc0ODdlYjE5YTU1NDIwMDQ5NTFhNiA9ICQoYDxkaXYgaWQ9Imh0bWxfZjhkZWYwZDQ0MmM3NDg3ZWIxOWE1NTQyMDA0OTUxYTYiIHN0eWxlPSJ3aWR0aDogMTAwLjAlOyBoZWlnaHQ6IDEwMC4wJTsiPkFpcnBvcnQ8L2Rpdj5gKVswXTsKICAgICAgICAgICAgcG9wdXBfZDg3ZDYyNDZkN2Q5NGJiNzkwOWI2ZTRiYTZjNDI3ZDAuc2V0Q29udGVudChodG1sX2Y4ZGVmMGQ0NDJjNzQ4N2ViMTlhNTU0MjAwNDk1MWE2KTsKICAgICAgICAKCiAgICAgICAgbWFya2VyXzU5NjI3OGMxYjY0MjRkMDU5YjNlNjFjMDY3ZGQ0MjZhLmJpbmRQb3B1cChwb3B1cF9kODdkNjI0NmQ3ZDk0YmI3OTA5YjZlNGJhNmM0MjdkMCkKICAgICAgICA7CgogICAgICAgIAogICAgCiAgICAKICAgICAgICAgICAgdmFyIG1hcmtlcl8yYzhiMzI0NzYwZWM0NzJjYWMzODVlMDVjZWM0ZGU0NyA9IEwubWFya2VyKAogICAgICAgICAgICAgICAgWzM3LjQ2OTE3LCAxMjYuNDUwNl0sCiAgICAgICAgICAgICAgICB7fQogICAgICAgICAgICApLmFkZFRvKG1hcF9mZGZjYWRkM2FhZmM0MDNkOWRhMGYwNzIzNTQxNzMyMyk7CiAgICAgICAgCiAgICAKICAgICAgICAgICAgdmFyIGljb25fZGNkMDBjYjViZDIwNGQ3Y2E5ZTFmOWYwYTY2MzE2MDYgPSBMLkF3ZXNvbWVNYXJrZXJzLmljb24oCiAgICAgICAgICAgICAgICB7ImV4dHJhQ2xhc3NlcyI6ICJmYS1yb3RhdGUtMCIsICJpY29uIjogImluZm8tc2lnbiIsICJpY29uQ29sb3IiOiAid2hpdGUiLCAibWFya2VyQ29sb3IiOiAiYmx1ZSIsICJwcmVmaXgiOiAiZ2x5cGhpY29uIn0KICAgICAgICAgICAgKTsKICAgICAgICAgICAgbWFya2VyXzJjOGIzMjQ3NjBlYzQ3MmNhYzM4NWUwNWNlYzRkZTQ3LnNldEljb24oaWNvbl9kY2QwMGNiNWJkMjA0ZDdjYTllMWY5ZjBhNjYzMTYwNik7CiAgICAgICAgCiAgICAKICAgICAgICB2YXIgcG9wdXBfNDMwYmUzYTJkYTZlNDQ4ZTg2NjgwZTM0NTRlYWEwNjEgPSBMLnBvcHVwKHsibWF4V2lkdGgiOiAiMTAwJSJ9KTsKCiAgICAgICAgCiAgICAgICAgICAgIHZhciBodG1sXzVjYTQxNzhkMmVmNjRmNWVhNDc1ZTE1ZDQ1YmFmMTM5ID0gJChgPGRpdiBpZD0iaHRtbF81Y2E0MTc4ZDJlZjY0ZjVlYTQ3NWUxNWQ0NWJhZjEzOSIgc3R5bGU9IndpZHRoOiAxMDAuMCU7IGhlaWdodDogMTAwLjAlOyI+QWlycG9ydDwvZGl2PmApWzBdOwogICAgICAgICAgICBwb3B1cF80MzBiZTNhMmRhNmU0NDhlODY2ODBlMzQ1NGVhYTA2MS5zZXRDb250ZW50KGh0bWxfNWNhNDE3OGQyZWY2NGY1ZWE0NzVlMTVkNDViYWYxMzkpOwogICAgICAgIAoKICAgICAgICBtYXJrZXJfMmM4YjMyNDc2MGVjNDcyY2FjMzg1ZTA1Y2VjNGRlNDcuYmluZFBvcHVwKHBvcHVwXzQzMGJlM2EyZGE2ZTQ0OGU4NjY4MGUzNDU0ZWFhMDYxKQogICAgICAgIDsKCiAgICAgICAgCiAgICAKICAgIAogICAgICAgICAgICB2YXIgbWFya2VyX2FjYzc5YWE2NTZlOTRhNDM5NjRkZDc3OWU3Yzc0MjE5ID0gTC5tYXJrZXIoCiAgICAgICAgICAgICAgICBbNDEuODcxNjcsIDEyMy40MzMzXSwKICAgICAgICAgICAgICAgIHt9CiAgICAgICAgICAgICkuYWRkVG8obWFwX2ZkZmNhZGQzYWFmYzQwM2Q5ZGEwZjA3MjM1NDE3MzIzKTsKICAgICAgICAKICAgIAogICAgICAgICAgICB2YXIgaWNvbl85OTAwNzNlMWJhMjA0N2Q5OGE4NzdkZDhmMGI5OTIwMSA9IEwuQXdlc29tZU1hcmtlcnMuaWNvbigKICAgICAgICAgICAgICAgIHsiZXh0cmFDbGFzc2VzIjogImZhLXJvdGF0ZS0wIiwgImljb24iOiAiaW5mby1zaWduIiwgImljb25Db2xvciI6ICJ3aGl0ZSIsICJtYXJrZXJDb2xvciI6ICJibHVlIiwgInByZWZpeCI6ICJnbHlwaGljb24ifQogICAgICAgICAgICApOwogICAgICAgICAgICBtYXJrZXJfYWNjNzlhYTY1NmU5NGE0Mzk2NGRkNzc5ZTdjNzQyMTkuc2V0SWNvbihpY29uXzk5MDA3M2UxYmEyMDQ3ZDk4YTg3N2RkOGYwYjk5MjAxKTsKICAgICAgICAKICAgIAogICAgICAgIHZhciBwb3B1cF9mODJmZDc1NzJhMjg0MDhjYjkzZjQ2OWNkODFlOWIxMyA9IEwucG9wdXAoeyJtYXhXaWR0aCI6ICIxMDAlIn0pOwoKICAgICAgICAKICAgICAgICAgICAgdmFyIGh0bWxfODgyMzcwMWU0N2YxNDAyMjhlODRmZjQ0ZjBhZWJhNDcgPSAkKGA8ZGl2IGlkPSJodG1sXzg4MjM3MDFlNDdmMTQwMjI4ZTg0ZmY0NGYwYWViYTQ3IiBzdHlsZT0id2lkdGg6IDEwMC4wJTsgaGVpZ2h0OiAxMDAuMCU7Ij5BaXJwb3J0PC9kaXY+YClbMF07CiAgICAgICAgICAgIHBvcHVwX2Y4MmZkNzU3MmEyODQwOGNiOTNmNDY5Y2Q4MWU5YjEzLnNldENvbnRlbnQoaHRtbF84ODIzNzAxZTQ3ZjE0MDIyOGU4NGZmNDRmMGFlYmE0Nyk7CiAgICAgICAgCgogICAgICAgIG1hcmtlcl9hY2M3OWFhNjU2ZTk0YTQzOTY0ZGQ3NzllN2M3NDIxOS5iaW5kUG9wdXAocG9wdXBfZjgyZmQ3NTcyYTI4NDA4Y2I5M2Y0NjljZDgxZTliMTMpCiAgICAgICAgOwoKICAgICAgICAKICAgIAogICAgCiAgICAgICAgICAgIHZhciBtYXJrZXJfOWM5Y2UwNGViNWFlNGVkYmFjMDI3YzY2YzUzZjkwZjUgPSBMLm1hcmtlcigKICAgICAgICAgICAgICAgIFs2NS41NDM4OSwgMjIuMTIxOTRdLAogICAgICAgICAgICAgICAge30KICAgICAgICAgICAgKS5hZGRUbyhtYXBfZmRmY2FkZDNhYWZjNDAzZDlkYTBmMDcyMzU0MTczMjMpOwogICAgICAgIAogICAgCiAgICAgICAgICAgIHZhciBpY29uXzIyNTc5MmUwNzIzOTQ0M2JhZDQzYzg3NDY4MDc3NDc0ID0gTC5Bd2Vzb21lTWFya2Vycy5pY29uKAogICAgICAgICAgICAgICAgeyJleHRyYUNsYXNzZXMiOiAiZmEtcm90YXRlLTAiLCAiaWNvbiI6ICJpbmZvLXNpZ24iLCAiaWNvbkNvbG9yIjogIndoaXRlIiwgIm1hcmtlckNvbG9yIjogImJsdWUiLCAicHJlZml4IjogImdseXBoaWNvbiJ9CiAgICAgICAgICAgICk7CiAgICAgICAgICAgIG1hcmtlcl85YzljZTA0ZWI1YWU0ZWRiYWMwMjdjNjZjNTNmOTBmNS5zZXRJY29uKGljb25fMjI1NzkyZTA3MjM5NDQzYmFkNDNjODc0NjgwNzc0NzQpOwogICAgICAgIAogICAgCiAgICAgICAgdmFyIHBvcHVwXzAwZGM2NjFkYmU2ZjQ3ODc4YThhODExZDQ5YTI4YzA0ID0gTC5wb3B1cCh7Im1heFdpZHRoIjogIjEwMCUifSk7CgogICAgICAgIAogICAgICAgICAgICB2YXIgaHRtbF8xN2VjYmZiYWVhZWM0OTRhOGM0NmQzNWJkNDE4MjY5YiA9ICQoYDxkaXYgaWQ9Imh0bWxfMTdlY2JmYmFlYWVjNDk0YThjNDZkMzViZDQxODI2OWIiIHN0eWxlPSJ3aWR0aDogMTAwLjAlOyBoZWlnaHQ6IDEwMC4wJTsiPkFpcnBvcnQ8L2Rpdj5gKVswXTsKICAgICAgICAgICAgcG9wdXBfMDBkYzY2MWRiZTZmNDc4NzhhOGE4MTFkNDlhMjhjMDQuc2V0Q29udGVudChodG1sXzE3ZWNiZmJhZWFlYzQ5NGE4YzQ2ZDM1YmQ0MTgyNjliKTsKICAgICAgICAKCiAgICAgICAgbWFya2VyXzljOWNlMDRlYjVhZTRlZGJhYzAyN2M2NmM1M2Y5MGY1LmJpbmRQb3B1cChwb3B1cF8wMGRjNjYxZGJlNmY0Nzg3OGE4YTgxMWQ0OWEyOGMwNCkKICAgICAgICA7CgogICAgICAgIAogICAgCiAgICAKICAgICAgICAgICAgdmFyIG1hcmtlcl9hOWYzMDAxMDkxZmI0NDhlYmM4ODBmNzRiODM4NzcxYyA9IEwubWFya2VyKAogICAgICAgICAgICAgICAgWzM3LjYxODg5LCAtMTIyLjM3NV0sCiAgICAgICAgICAgICAgICB7fQogICAgICAgICAgICApLmFkZFRvKG1hcF9mZGZjYWRkM2FhZmM0MDNkOWRhMGYwNzIzNTQxNzMyMyk7CiAgICAgICAgCiAgICAKICAgICAgICAgICAgdmFyIGljb25fOWI2MmMyNDk4MmE1NGVmY2IwNmVmNzlkMWYwNTMzMTMgPSBMLkF3ZXNvbWVNYXJrZXJzLmljb24oCiAgICAgICAgICAgICAgICB7ImV4dHJhQ2xhc3NlcyI6ICJmYS1yb3RhdGUtMCIsICJpY29uIjogImluZm8tc2lnbiIsICJpY29uQ29sb3IiOiAid2hpdGUiLCAibWFya2VyQ29sb3IiOiAiYmx1ZSIsICJwcmVmaXgiOiAiZ2x5cGhpY29uIn0KICAgICAgICAgICAgKTsKICAgICAgICAgICAgbWFya2VyX2E5ZjMwMDEwOTFmYjQ0OGViYzg4MGY3NGI4Mzg3NzFjLnNldEljb24oaWNvbl85YjYyYzI0OTgyYTU0ZWZjYjA2ZWY3OWQxZjA1MzMxMyk7CiAgICAgICAgCiAgICAKICAgICAgICB2YXIgcG9wdXBfMDhkNzI5OTAyNTA5NGQ3YjhlNmYzOGNmNzNiNzIwZTkgPSBMLnBvcHVwKHsibWF4V2lkdGgiOiAiMTAwJSJ9KTsKCiAgICAgICAgCiAgICAgICAgICAgIHZhciBodG1sX2MyZWVlZjMyYTcxYTQ3NjM5MmZhYTE1NGQ2ZWI5ZjQxID0gJChgPGRpdiBpZD0iaHRtbF9jMmVlZWYzMmE3MWE0NzYzOTJmYWExNTRkNmViOWY0MSIgc3R5bGU9IndpZHRoOiAxMDAuMCU7IGhlaWdodDogMTAwLjAlOyI+QWlycG9ydDwvZGl2PmApWzBdOwogICAgICAgICAgICBwb3B1cF8wOGQ3Mjk5MDI1MDk0ZDdiOGU2ZjM4Y2Y3M2I3MjBlOS5zZXRDb250ZW50KGh0bWxfYzJlZWVmMzJhNzFhNDc2MzkyZmFhMTU0ZDZlYjlmNDEpOwogICAgICAgIAoKICAgICAgICBtYXJrZXJfYTlmMzAwMTA5MWZiNDQ4ZWJjODgwZjc0YjgzODc3MWMuYmluZFBvcHVwKHBvcHVwXzA4ZDcyOTkwMjUwOTRkN2I4ZTZmMzhjZjczYjcyMGU5KQogICAgICAgIDsKCiAgICAgICAgCiAgICAKICAgIAogICAgICAgICAgICB2YXIgbWFya2VyX2ZjZDIzYzEwMjlhMjQ3NTA5ZTRkZjQxODhmZmFkNjRkID0gTC5tYXJrZXIoCiAgICAgICAgICAgICAgICBbMzcuNzE2NjcsIC0xMjIuMjE2N10sCiAgICAgICAgICAgICAgICB7fQogICAgICAgICAgICApLmFkZFRvKG1hcF9mZGZjYWRkM2FhZmM0MDNkOWRhMGYwNzIzNTQxNzMyMyk7CiAgICAgICAgCiAgICAKICAgICAgICAgICAgdmFyIGljb25fZWM4NGRiNDQ1Y2U3NGUwOWE3YzY2ZDRkNDAwOGViZjggPSBMLkF3ZXNvbWVNYXJrZXJzLmljb24oCiAgICAgICAgICAgICAgICB7ImV4dHJhQ2xhc3NlcyI6ICJmYS1yb3RhdGUtMCIsICJpY29uIjogImluZm8tc2lnbiIsICJpY29uQ29sb3IiOiAid2hpdGUiLCAibWFya2VyQ29sb3IiOiAiYmx1ZSIsICJwcmVmaXgiOiAiZ2x5cGhpY29uIn0KICAgICAgICAgICAgKTsKICAgICAgICAgICAgbWFya2VyX2ZjZDIzYzEwMjlhMjQ3NTA5ZTRkZjQxODhmZmFkNjRkLnNldEljb24oaWNvbl9lYzg0ZGI0NDVjZTc0ZTA5YTdjNjZkNGQ0MDA4ZWJmOCk7CiAgICAgICAgCiAgICAKICAgICAgICB2YXIgcG9wdXBfOGU3ZDhhN2UxNDgzNDIzZmFhN2QyYTkxOWIyZmZkZmQgPSBMLnBvcHVwKHsibWF4V2lkdGgiOiAiMTAwJSJ9KTsKCiAgICAgICAgCiAgICAgICAgICAgIHZhciBodG1sX2YyMTNlNWFmY2I5ZTRlM2ViYzEzYTVlOTI4NjNiNWUzID0gJChgPGRpdiBpZD0iaHRtbF9mMjEzZTVhZmNiOWU0ZTNlYmMxM2E1ZTkyODYzYjVlMyIgc3R5bGU9IndpZHRoOiAxMDAuMCU7IGhlaWdodDogMTAwLjAlOyI+QWlycG9ydDwvZGl2PmApWzBdOwogICAgICAgICAgICBwb3B1cF84ZTdkOGE3ZTE0ODM0MjNmYWE3ZDJhOTE5YjJmZmRmZC5zZXRDb250ZW50KGh0bWxfZjIxM2U1YWZjYjllNGUzZWJjMTNhNWU5Mjg2M2I1ZTMpOwogICAgICAgIAoKICAgICAgICBtYXJrZXJfZmNkMjNjMTAyOWEyNDc1MDllNGRmNDE4OGZmYWQ2NGQuYmluZFBvcHVwKHBvcHVwXzhlN2Q4YTdlMTQ4MzQyM2ZhYTdkMmE5MTliMmZmZGZkKQogICAgICAgIDsKCiAgICAgICAgCiAgICAKICAgIAogICAgICAgICAgICB2YXIgbWFya2VyXzFkNmY0M2EzMGZhYzRmOTJiYmZmZWYwMTc2M2YyMWQxID0gTC5tYXJrZXIoCiAgICAgICAgICAgICAgICBbNDYuNzkxMTA5OTk5OTk5OTk2LCAtNzEuMzkzMzNdLAogICAgICAgICAgICAgICAge30KICAgICAgICAgICAgKS5hZGRUbyhtYXBfZmRmY2FkZDNhYWZjNDAzZDlkYTBmMDcyMzU0MTczMjMpOwogICAgICAgIAogICAgCiAgICAgICAgICAgIHZhciBpY29uXzdmY2M2NTUzNTMxMzQxODQ5ZDE0YmIzZTZhM2MyOTg4ID0gTC5Bd2Vzb21lTWFya2Vycy5pY29uKAogICAgICAgICAgICAgICAgeyJleHRyYUNsYXNzZXMiOiAiZmEtcm90YXRlLTAiLCAiaWNvbiI6ICJpbmZvLXNpZ24iLCAiaWNvbkNvbG9yIjogIndoaXRlIiwgIm1hcmtlckNvbG9yIjogImJsdWUiLCAicHJlZml4IjogImdseXBoaWNvbiJ9CiAgICAgICAgICAgICk7CiAgICAgICAgICAgIG1hcmtlcl8xZDZmNDNhMzBmYWM0ZjkyYmJmZmVmMDE3NjNmMjFkMS5zZXRJY29uKGljb25fN2ZjYzY1NTM1MzEzNDE4NDlkMTRiYjNlNmEzYzI5ODgpOwogICAgICAgIAogICAgCiAgICAgICAgdmFyIHBvcHVwX2M1MjEzZGI5ZTUzYjQwN2M5NWQwY2Y4ZTg4YzZjNjI0ID0gTC5wb3B1cCh7Im1heFdpZHRoIjogIjEwMCUifSk7CgogICAgICAgIAogICAgICAgICAgICB2YXIgaHRtbF81ODQ2ODZlNDM0NDE0NWMyODkwNGZlYmIyZTQ3MjgyNSA9ICQoYDxkaXYgaWQ9Imh0bWxfNTg0Njg2ZTQzNDQxNDVjMjg5MDRmZWJiMmU0NzI4MjUiIHN0eWxlPSJ3aWR0aDogMTAwLjAlOyBoZWlnaHQ6IDEwMC4wJTsiPkFpcnBvcnQ8L2Rpdj5gKVswXTsKICAgICAgICAgICAgcG9wdXBfYzUyMTNkYjllNTNiNDA3Yzk1ZDBjZjhlODhjNmM2MjQuc2V0Q29udGVudChodG1sXzU4NDY4NmU0MzQ0MTQ1YzI4OTA0ZmViYjJlNDcyODI1KTsKICAgICAgICAKCiAgICAgICAgbWFya2VyXzFkNmY0M2EzMGZhYzRmOTJiYmZmZWYwMTc2M2YyMWQxLmJpbmRQb3B1cChwb3B1cF9jNTIxM2RiOWU1M2I0MDdjOTVkMGNmOGU4OGM2YzYyNCkKICAgICAgICA7CgogICAgICAgIAogICAgCiAgICAKICAgICAgICAgICAgdmFyIG1hcmtlcl8wZjcyNTNmODBhMDI0ODEzYmFlZTU3MmMwYzQ4ODY0ZCA9IEwubWFya2VyKAogICAgICAgICAgICAgICAgWy0wLjEzMzMzMjk5OTk5OTk5OTk4LCAtNzguNDgzMzMwMDAwMDAwMDFdLAogICAgICAgICAgICAgICAge30KICAgICAgICAgICAgKS5hZGRUbyhtYXBfZmRmY2FkZDNhYWZjNDAzZDlkYTBmMDcyMzU0MTczMjMpOwogICAgICAgIAogICAgCiAgICAgICAgICAgIHZhciBpY29uX2MzNTE1Zjg0YTdhNjQwMmJiNjAwM2M4NGM1NzVhNDJjID0gTC5Bd2Vzb21lTWFya2Vycy5pY29uKAogICAgICAgICAgICAgICAgeyJleHRyYUNsYXNzZXMiOiAiZmEtcm90YXRlLTAiLCAiaWNvbiI6ICJpbmZvLXNpZ24iLCAiaWNvbkNvbG9yIjogIndoaXRlIiwgIm1hcmtlckNvbG9yIjogImJsdWUiLCAicHJlZml4IjogImdseXBoaWNvbiJ9CiAgICAgICAgICAgICk7CiAgICAgICAgICAgIG1hcmtlcl8wZjcyNTNmODBhMDI0ODEzYmFlZTU3MmMwYzQ4ODY0ZC5zZXRJY29uKGljb25fYzM1MTVmODRhN2E2NDAyYmI2MDAzYzg0YzU3NWE0MmMpOwogICAgICAgIAogICAgCiAgICAgICAgdmFyIHBvcHVwX2UyYzQ0MjFiNjQwYzRiZTQ5NjY4MjNjZjhlZDk5YWRiID0gTC5wb3B1cCh7Im1heFdpZHRoIjogIjEwMCUifSk7CgogICAgICAgIAogICAgICAgICAgICB2YXIgaHRtbF9kNzViZTkwMGQyM2Y0YWUwYWJhNzlhMjE5MzVjMzkwYSA9ICQoYDxkaXYgaWQ9Imh0bWxfZDc1YmU5MDBkMjNmNGFlMGFiYTc5YTIxOTM1YzM5MGEiIHN0eWxlPSJ3aWR0aDogMTAwLjAlOyBoZWlnaHQ6IDEwMC4wJTsiPkFpcnBvcnQ8L2Rpdj5gKVswXTsKICAgICAgICAgICAgcG9wdXBfZTJjNDQyMWI2NDBjNGJlNDk2NjgyM2NmOGVkOTlhZGIuc2V0Q29udGVudChodG1sX2Q3NWJlOTAwZDIzZjRhZTBhYmE3OWEyMTkzNWMzOTBhKTsKICAgICAgICAKCiAgICAgICAgbWFya2VyXzBmNzI1M2Y4MGEwMjQ4MTNiYWVlNTcyYzBjNDg4NjRkLmJpbmRQb3B1cChwb3B1cF9lMmM0NDIxYjY0MGM0YmU0OTY2ODIzY2Y4ZWQ5OWFkYikKICAgICAgICA7CgogICAgICAgIAogICAgCiAgICAKICAgICAgICAgICAgdmFyIG1hcmtlcl8zZDkxMmRjYTgyMjY0NDAwOGRiZTcwOTEyY2EyNzQ4MyA9IEwubWFya2VyKAogICAgICAgICAgICAgICAgWy0yMi44MDg4ODk5OTk5OTk5OTgsIC00My4yNDM2MV0sCiAgICAgICAgICAgICAgICB7fQogICAgICAgICAgICApLmFkZFRvKG1hcF9mZGZjYWRkM2FhZmM0MDNkOWRhMGYwNzIzNTQxNzMyMyk7CiAgICAgICAgCiAgICAKICAgICAgICAgICAgdmFyIGljb25fYTY3MmU4YzE3ZGJkNGM1MGFiMjI5NjU0YmRmMTU2ODYgPSBMLkF3ZXNvbWVNYXJrZXJzLmljb24oCiAgICAgICAgICAgICAgICB7ImV4dHJhQ2xhc3NlcyI6ICJmYS1yb3RhdGUtMCIsICJpY29uIjogImluZm8tc2lnbiIsICJpY29uQ29sb3IiOiAid2hpdGUiLCAibWFya2VyQ29sb3IiOiAiYmx1ZSIsICJwcmVmaXgiOiAiZ2x5cGhpY29uIn0KICAgICAgICAgICAgKTsKICAgICAgICAgICAgbWFya2VyXzNkOTEyZGNhODIyNjQ0MDA4ZGJlNzA5MTJjYTI3NDgzLnNldEljb24oaWNvbl9hNjcyZThjMTdkYmQ0YzUwYWIyMjk2NTRiZGYxNTY4Nik7CiAgICAgICAgCiAgICAKICAgICAgICB2YXIgcG9wdXBfNGU3M2NhMzFhMjUzNDg2ZTlmOTI2NGEyOGMyNTA0NzAgPSBMLnBvcHVwKHsibWF4V2lkdGgiOiAiMTAwJSJ9KTsKCiAgICAgICAgCiAgICAgICAgICAgIHZhciBodG1sXzAzZjdhZjk3ZTc4YjQ5OGFhMDQzMmIzYzVkMTJhYmEzID0gJChgPGRpdiBpZD0iaHRtbF8wM2Y3YWY5N2U3OGI0OThhYTA0MzJiM2M1ZDEyYWJhMyIgc3R5bGU9IndpZHRoOiAxMDAuMCU7IGhlaWdodDogMTAwLjAlOyI+QWlycG9ydDwvZGl2PmApWzBdOwogICAgICAgICAgICBwb3B1cF80ZTczY2EzMWEyNTM0ODZlOWY5MjY0YTI4YzI1MDQ3MC5zZXRDb250ZW50KGh0bWxfMDNmN2FmOTdlNzhiNDk4YWEwNDMyYjNjNWQxMmFiYTMpOwogICAgICAgIAoKICAgICAgICBtYXJrZXJfM2Q5MTJkY2E4MjI2NDQwMDhkYmU3MDkxMmNhMjc0ODMuYmluZFBvcHVwKHBvcHVwXzRlNzNjYTMxYTI1MzQ4NmU5ZjkyNjRhMjhjMjUwNDcwKQogICAgICAgIDsKCiAgICAgICAgCiAgICAKICAgIAogICAgICAgICAgICB2YXIgbWFya2VyXzIzN2E1ZWRmMTI5YTQzMTI5YTI0NDFkMGY5YmM4NzRhID0gTC5tYXJrZXIoCiAgICAgICAgICAgICAgICBbMzguOTY1NTU5OTk5OTk5OTk2LCAxMjEuNTM4Nl0sCiAgICAgICAgICAgICAgICB7fQogICAgICAgICAgICApLmFkZFRvKG1hcF9mZGZjYWRkM2FhZmM0MDNkOWRhMGYwNzIzNTQxNzMyMyk7CiAgICAgICAgCiAgICAKICAgICAgICAgICAgdmFyIGljb25fZjI0ZWM3MzRjNjFhNDg2MmE0ZmNjOGVjODY4MzZmNGEgPSBMLkF3ZXNvbWVNYXJrZXJzLmljb24oCiAgICAgICAgICAgICAgICB7ImV4dHJhQ2xhc3NlcyI6ICJmYS1yb3RhdGUtMCIsICJpY29uIjogImluZm8tc2lnbiIsICJpY29uQ29sb3IiOiAid2hpdGUiLCAibWFya2VyQ29sb3IiOiAiYmx1ZSIsICJwcmVmaXgiOiAiZ2x5cGhpY29uIn0KICAgICAgICAgICAgKTsKICAgICAgICAgICAgbWFya2VyXzIzN2E1ZWRmMTI5YTQzMTI5YTI0NDFkMGY5YmM4NzRhLnNldEljb24oaWNvbl9mMjRlYzczNGM2MWE0ODYyYTRmY2M4ZWM4NjgzNmY0YSk7CiAgICAgICAgCiAgICAKICAgICAgICB2YXIgcG9wdXBfZTQzMzVkYTZiYWU0NDc3YThhYzM0ZmFkNWIwOWM2OTggPSBMLnBvcHVwKHsibWF4V2lkdGgiOiAiMTAwJSJ9KTsKCiAgICAgICAgCiAgICAgICAgICAgIHZhciBodG1sXzA3MzJkYjJiZjY2MDQ4ZWFhYmU4YzBiZDQzZTE3YmZlID0gJChgPGRpdiBpZD0iaHRtbF8wNzMyZGIyYmY2NjA0OGVhYWJlOGMwYmQ0M2UxN2JmZSIgc3R5bGU9IndpZHRoOiAxMDAuMCU7IGhlaWdodDogMTAwLjAlOyI+QWlycG9ydDwvZGl2PmApWzBdOwogICAgICAgICAgICBwb3B1cF9lNDMzNWRhNmJhZTQ0NzdhOGFjMzRmYWQ1YjA5YzY5OC5zZXRDb250ZW50KGh0bWxfMDczMmRiMmJmNjYwNDhlYWFiZThjMGJkNDNlMTdiZmUpOwogICAgICAgIAoKICAgICAgICBtYXJrZXJfMjM3YTVlZGYxMjlhNDMxMjlhMjQ0MWQwZjliYzg3NGEuYmluZFBvcHVwKHBvcHVwX2U0MzM1ZGE2YmFlNDQ3N2E4YWMzNGZhZDViMDljNjk4KQogICAgICAgIDsKCiAgICAgICAgCiAgICAKICAgIAogICAgICAgICAgICB2YXIgbWFya2VyXzBiODUxMjI1YTY4YzQ2MTA4NWYzYzYxOTIyOTg0NDRmID0gTC5tYXJrZXIoCiAgICAgICAgICAgICAgICBbLTIyLjgzMzMzLCAtNDMuMjVdLAogICAgICAgICAgICAgICAge30KICAgICAgICAgICAgKS5hZGRUbyhtYXBfZmRmY2FkZDNhYWZjNDAzZDlkYTBmMDcyMzU0MTczMjMpOwogICAgICAgIAogICAgCiAgICAgICAgICAgIHZhciBpY29uXzFiYjhhYjQ5NTc4ZTQ5MzM5YzJlMzQyZGE3ZGI2NTNkID0gTC5Bd2Vzb21lTWFya2Vycy5pY29uKAogICAgICAgICAgICAgICAgeyJleHRyYUNsYXNzZXMiOiAiZmEtcm90YXRlLTAiLCAiaWNvbiI6ICJpbmZvLXNpZ24iLCAiaWNvbkNvbG9yIjogIndoaXRlIiwgIm1hcmtlckNvbG9yIjogImJsdWUiLCAicHJlZml4IjogImdseXBoaWNvbiJ9CiAgICAgICAgICAgICk7CiAgICAgICAgICAgIG1hcmtlcl8wYjg1MTIyNWE2OGM0NjEwODVmM2M2MTkyMjk4NDQ0Zi5zZXRJY29uKGljb25fMWJiOGFiNDk1NzhlNDkzMzljMmUzNDJkYTdkYjY1M2QpOwogICAgICAgIAogICAgCiAgICAgICAgdmFyIHBvcHVwX2Y2MTMxZWJiZmRmNjQzNjk5OGJkODNiZjVhNzhhMjlmID0gTC5wb3B1cCh7Im1heFdpZHRoIjogIjEwMCUifSk7CgogICAgICAgIAogICAgICAgICAgICB2YXIgaHRtbF9mZGVhNDcwOGEyNjI0OTYzYmMxYjFiNWIwOTQyMThkOCA9ICQoYDxkaXYgaWQ9Imh0bWxfZmRlYTQ3MDhhMjYyNDk2M2JjMWIxYjViMDk0MjE4ZDgiIHN0eWxlPSJ3aWR0aDogMTAwLjAlOyBoZWlnaHQ6IDEwMC4wJTsiPkFpcnBvcnQ8L2Rpdj5gKVswXTsKICAgICAgICAgICAgcG9wdXBfZjYxMzFlYmJmZGY2NDM2OTk4YmQ4M2JmNWE3OGEyOWYuc2V0Q29udGVudChodG1sX2ZkZWE0NzA4YTI2MjQ5NjNiYzFiMWI1YjA5NDIxOGQ4KTsKICAgICAgICAKCiAgICAgICAgbWFya2VyXzBiODUxMjI1YTY4YzQ2MTA4NWYzYzYxOTIyOTg0NDRmLmJpbmRQb3B1cChwb3B1cF9mNjEzMWViYmZkZjY0MzY5OThiZDgzYmY1YTc4YTI5ZikKICAgICAgICA7CgogICAgICAgIAogICAgCiAgICAKICAgICAgICAgICAgdmFyIG1hcmtlcl9hY2UzZjYyZjVmMDM0ZjU5YTljY2Q5ODIxNDFmYWIzMiA9IEwubWFya2VyKAogICAgICAgICAgICAgICAgWy02LjEyNTU1NiwgMTA2LjY1NThdLAogICAgICAgICAgICAgICAge30KICAgICAgICAgICAgKS5hZGRUbyhtYXBfZmRmY2FkZDNhYWZjNDAzZDlkYTBmMDcyMzU0MTczMjMpOwogICAgICAgIAogICAgCiAgICAgICAgICAgIHZhciBpY29uXzMwOGI2MDZlMDNjNTQ0YWRiYzkzMDUyMTMxNzY2NDJkID0gTC5Bd2Vzb21lTWFya2Vycy5pY29uKAogICAgICAgICAgICAgICAgeyJleHRyYUNsYXNzZXMiOiAiZmEtcm90YXRlLTAiLCAiaWNvbiI6ICJpbmZvLXNpZ24iLCAiaWNvbkNvbG9yIjogIndoaXRlIiwgIm1hcmtlckNvbG9yIjogImJsdWUiLCAicHJlZml4IjogImdseXBoaWNvbiJ9CiAgICAgICAgICAgICk7CiAgICAgICAgICAgIG1hcmtlcl9hY2UzZjYyZjVmMDM0ZjU5YTljY2Q5ODIxNDFmYWIzMi5zZXRJY29uKGljb25fMzA4YjYwNmUwM2M1NDRhZGJjOTMwNTIxMzE3NjY0MmQpOwogICAgICAgIAogICAgCiAgICAgICAgdmFyIHBvcHVwXzYxMTA4MDEzNmE0MjRkZGE5NjQyOWZhMTYwNWNmZDQ1ID0gTC5wb3B1cCh7Im1heFdpZHRoIjogIjEwMCUifSk7CgogICAgICAgIAogICAgICAgICAgICB2YXIgaHRtbF84M2U1NDBlYTU1OGM0YjRiYmEzMWRiNmVkMjcyYTlmNCA9ICQoYDxkaXYgaWQ9Imh0bWxfODNlNTQwZWE1NThjNGI0YmJhMzFkYjZlZDI3MmE5ZjQiIHN0eWxlPSJ3aWR0aDogMTAwLjAlOyBoZWlnaHQ6IDEwMC4wJTsiPkFpcnBvcnQ8L2Rpdj5gKVswXTsKICAgICAgICAgICAgcG9wdXBfNjExMDgwMTM2YTQyNGRkYTk2NDI5ZmExNjA1Y2ZkNDUuc2V0Q29udGVudChodG1sXzgzZTU0MGVhNTU4YzRiNGJiYTMxZGI2ZWQyNzJhOWY0KTsKICAgICAgICAKCiAgICAgICAgbWFya2VyX2FjZTNmNjJmNWYwMzRmNTlhOWNjZDk4MjE0MWZhYjMyLmJpbmRQb3B1cChwb3B1cF82MTEwODAxMzZhNDI0ZGRhOTY0MjlmYTE2MDVjZmQ0NSkKICAgICAgICA7CgogICAgICAgIAogICAgCiAgICAKICAgICAgICAgICAgdmFyIG1hcmtlcl9kYjJkYzQwZDVkYTc0YzQ0OGQxZjc0NjY5MzBjMTk3ZSA9IEwubWFya2VyKAogICAgICAgICAgICAgICAgWzUxLjUwNTI4LCAwLjA1NTI3Nzk5OTk5OTk5OTk5NF0sCiAgICAgICAgICAgICAgICB7fQogICAgICAgICAgICApLmFkZFRvKG1hcF9mZGZjYWRkM2FhZmM0MDNkOWRhMGYwNzIzNTQxNzMyMyk7CiAgICAgICAgCiAgICAKICAgICAgICAgICAgdmFyIGljb25fYTk4NWZiY2ZlZWY4NDE4YmJiNzM1MzY1NjFiOTc1OGIgPSBMLkF3ZXNvbWVNYXJrZXJzLmljb24oCiAgICAgICAgICAgICAgICB7ImV4dHJhQ2xhc3NlcyI6ICJmYS1yb3RhdGUtMCIsICJpY29uIjogImluZm8tc2lnbiIsICJpY29uQ29sb3IiOiAid2hpdGUiLCAibWFya2VyQ29sb3IiOiAiYmx1ZSIsICJwcmVmaXgiOiAiZ2x5cGhpY29uIn0KICAgICAgICAgICAgKTsKICAgICAgICAgICAgbWFya2VyX2RiMmRjNDBkNWRhNzRjNDQ4ZDFmNzQ2NjkzMGMxOTdlLnNldEljb24oaWNvbl9hOTg1ZmJjZmVlZjg0MThiYmI3MzUzNjU2MWI5NzU4Yik7CiAgICAgICAgCiAgICAKICAgICAgICB2YXIgcG9wdXBfNWVlOTNmYjM5YWQ2NDYwZjg2ODk1NDQ2NjEyM2QwYmYgPSBMLnBvcHVwKHsibWF4V2lkdGgiOiAiMTAwJSJ9KTsKCiAgICAgICAgCiAgICAgICAgICAgIHZhciBodG1sXzBkODI5NGQ3ZWQ0ZTRlNjY5YWVlNzNhN2NjNTE0MjEzID0gJChgPGRpdiBpZD0iaHRtbF8wZDgyOTRkN2VkNGU0ZTY2OWFlZTczYTdjYzUxNDIxMyIgc3R5bGU9IndpZHRoOiAxMDAuMCU7IGhlaWdodDogMTAwLjAlOyI+QWlycG9ydDwvZGl2PmApWzBdOwogICAgICAgICAgICBwb3B1cF81ZWU5M2ZiMzlhZDY0NjBmODY4OTU0NDY2MTIzZDBiZi5zZXRDb250ZW50KGh0bWxfMGQ4Mjk0ZDdlZDRlNGU2NjlhZWU3M2E3Y2M1MTQyMTMpOwogICAgICAgIAoKICAgICAgICBtYXJrZXJfZGIyZGM0MGQ1ZGE3NGM0NDhkMWY3NDY2OTMwYzE5N2UuYmluZFBvcHVwKHBvcHVwXzVlZTkzZmIzOWFkNjQ2MGY4Njg5NTQ0NjYxMjNkMGJmKQogICAgICAgIDsKCiAgICAgICAgCiAgICAKICAgIAogICAgICAgICAgICB2YXIgbWFya2VyXzEzNGZkMDE0MjI1YzRlYWRiYzI3YjM1ZmE2MjQxNTg4ID0gTC5tYXJrZXIoCiAgICAgICAgICAgICAgICBbLTIzLjYyNjY3LCAtNDYuNjU1MjhdLAogICAgICAgICAgICAgICAge30KICAgICAgICAgICAgKS5hZGRUbyhtYXBfZmRmY2FkZDNhYWZjNDAzZDlkYTBmMDcyMzU0MTczMjMpOwogICAgICAgIAogICAgCiAgICAgICAgICAgIHZhciBpY29uXzAyZjRmMmY5ODNhNTQ3MWJiYTllODM3N2QyNWIwNTY2ID0gTC5Bd2Vzb21lTWFya2Vycy5pY29uKAogICAgICAgICAgICAgICAgeyJleHRyYUNsYXNzZXMiOiAiZmEtcm90YXRlLTAiLCAiaWNvbiI6ICJpbmZvLXNpZ24iLCAiaWNvbkNvbG9yIjogIndoaXRlIiwgIm1hcmtlckNvbG9yIjogImJsdWUiLCAicHJlZml4IjogImdseXBoaWNvbiJ9CiAgICAgICAgICAgICk7CiAgICAgICAgICAgIG1hcmtlcl8xMzRmZDAxNDIyNWM0ZWFkYmMyN2IzNWZhNjI0MTU4OC5zZXRJY29uKGljb25fMDJmNGYyZjk4M2E1NDcxYmJhOWU4Mzc3ZDI1YjA1NjYpOwogICAgICAgIAogICAgCiAgICAgICAgdmFyIHBvcHVwXzZiNTcwMjdhNGY2MTQ0YTM4ZDU0OWM2ODhiNjA5N2U1ID0gTC5wb3B1cCh7Im1heFdpZHRoIjogIjEwMCUifSk7CgogICAgICAgIAogICAgICAgICAgICB2YXIgaHRtbF82YThjNDUzN2M4MDU0NTVkYWZmNGUyOTQwYzE5MTcwYiA9ICQoYDxkaXYgaWQ9Imh0bWxfNmE4YzQ1MzdjODA1NDU1ZGFmZjRlMjk0MGMxOTE3MGIiIHN0eWxlPSJ3aWR0aDogMTAwLjAlOyBoZWlnaHQ6IDEwMC4wJTsiPkFpcnBvcnQ8L2Rpdj5gKVswXTsKICAgICAgICAgICAgcG9wdXBfNmI1NzAyN2E0ZjYxNDRhMzhkNTQ5YzY4OGI2MDk3ZTUuc2V0Q29udGVudChodG1sXzZhOGM0NTM3YzgwNTQ1NWRhZmY0ZTI5NDBjMTkxNzBiKTsKICAgICAgICAKCiAgICAgICAgbWFya2VyXzEzNGZkMDE0MjI1YzRlYWRiYzI3YjM1ZmE2MjQxNTg4LmJpbmRQb3B1cChwb3B1cF82YjU3MDI3YTRmNjE0NGEzOGQ1NDljNjg4YjYwOTdlNSkKICAgICAgICA7CgogICAgICAgIAogICAgCiAgICAKICAgICAgICAgICAgdmFyIG1hcmtlcl8xZmMxZTUyZGRiOGE0YjlmOTM4MmVlMTJhZjc0Yzk0YSA9IEwubWFya2VyKAogICAgICAgICAgICAgICAgWy0yMy40MzE5NCwgLTQ2LjQ2OTQ0MDAwMDAwMDAwNl0sCiAgICAgICAgICAgICAgICB7fQogICAgICAgICAgICApLmFkZFRvKG1hcF9mZGZjYWRkM2FhZmM0MDNkOWRhMGYwNzIzNTQxNzMyMyk7CiAgICAgICAgCiAgICAKICAgICAgICAgICAgdmFyIGljb25fNzE1YjU2ZmViYzQyNDQ0ZWJiODA4OWQ4MzU3ZTVkMzYgPSBMLkF3ZXNvbWVNYXJrZXJzLmljb24oCiAgICAgICAgICAgICAgICB7ImV4dHJhQ2xhc3NlcyI6ICJmYS1yb3RhdGUtMCIsICJpY29uIjogImluZm8tc2lnbiIsICJpY29uQ29sb3IiOiAid2hpdGUiLCAibWFya2VyQ29sb3IiOiAiYmx1ZSIsICJwcmVmaXgiOiAiZ2x5cGhpY29uIn0KICAgICAgICAgICAgKTsKICAgICAgICAgICAgbWFya2VyXzFmYzFlNTJkZGI4YTRiOWY5MzgyZWUxMmFmNzRjOTRhLnNldEljb24oaWNvbl83MTViNTZmZWJjNDI0NDRlYmI4MDg5ZDgzNTdlNWQzNik7CiAgICAgICAgCiAgICAKICAgICAgICB2YXIgcG9wdXBfNmI1YjNlMDBjMzcwNDRmZTg3MWM1NmM3MmUzM2QwZGMgPSBMLnBvcHVwKHsibWF4V2lkdGgiOiAiMTAwJSJ9KTsKCiAgICAgICAgCiAgICAgICAgICAgIHZhciBodG1sX2E5YzA2MjhjODlkYTQ5MTU5NTgzNTAyZGVjNjk3ZDhhID0gJChgPGRpdiBpZD0iaHRtbF9hOWMwNjI4Yzg5ZGE0OTE1OTU4MzUwMmRlYzY5N2Q4YSIgc3R5bGU9IndpZHRoOiAxMDAuMCU7IGhlaWdodDogMTAwLjAlOyI+QWlycG9ydDwvZGl2PmApWzBdOwogICAgICAgICAgICBwb3B1cF82YjViM2UwMGMzNzA0NGZlODcxYzU2YzcyZTMzZDBkYy5zZXRDb250ZW50KGh0bWxfYTljMDYyOGM4OWRhNDkxNTk1ODM1MDJkZWM2OTdkOGEpOwogICAgICAgIAoKICAgICAgICBtYXJrZXJfMWZjMWU1MmRkYjhhNGI5ZjkzODJlZTEyYWY3NGM5NGEuYmluZFBvcHVwKHBvcHVwXzZiNWIzZTAwYzM3MDQ0ZmU4NzFjNTZjNzJlMzNkMGRjKQogICAgICAgIDsKCiAgICAgICAgCiAgICAKICAgIAogICAgICAgICAgICB2YXIgbWFya2VyXzIxYTdmOWY0ZmVhNzQ0MGE5NWMwNmViZDMyYmNmYzFjID0gTC5tYXJrZXIoCiAgICAgICAgICAgICAgICBbMTUuNSwgNzMuODQxNjddLAogICAgICAgICAgICAgICAge30KICAgICAgICAgICAgKS5hZGRUbyhtYXBfZmRmY2FkZDNhYWZjNDAzZDlkYTBmMDcyMzU0MTczMjMpOwogICAgICAgIAogICAgCiAgICAgICAgICAgIHZhciBpY29uXzc3YWRhYWRlNDMwMTQ4MGQ5Nzc4MzUxMWMzMWM5YTc5ID0gTC5Bd2Vzb21lTWFya2Vycy5pY29uKAogICAgICAgICAgICAgICAgeyJleHRyYUNsYXNzZXMiOiAiZmEtcm90YXRlLTAiLCAiaWNvbiI6ICJpbmZvLXNpZ24iLCAiaWNvbkNvbG9yIjogIndoaXRlIiwgIm1hcmtlckNvbG9yIjogImJsdWUiLCAicHJlZml4IjogImdseXBoaWNvbiJ9CiAgICAgICAgICAgICk7CiAgICAgICAgICAgIG1hcmtlcl8yMWE3ZjlmNGZlYTc0NDBhOTVjMDZlYmQzMmJjZmMxYy5zZXRJY29uKGljb25fNzdhZGFhZGU0MzAxNDgwZDk3NzgzNTExYzMxYzlhNzkpOwogICAgICAgIAogICAgCiAgICAgICAgdmFyIHBvcHVwX2ViNDJlN2Y2M2JiYjQyNjZhNmUyMGEyYjc4NzVkMmY0ID0gTC5wb3B1cCh7Im1heFdpZHRoIjogIjEwMCUifSk7CgogICAgICAgIAogICAgICAgICAgICB2YXIgaHRtbF85OTQyZjJjZjQyYmQ0MTAxYmUxMDc3NWM3NmZhZTA4MyA9ICQoYDxkaXYgaWQ9Imh0bWxfOTk0MmYyY2Y0MmJkNDEwMWJlMTA3NzVjNzZmYWUwODMiIHN0eWxlPSJ3aWR0aDogMTAwLjAlOyBoZWlnaHQ6IDEwMC4wJTsiPkFpcnBvcnQ8L2Rpdj5gKVswXTsKICAgICAgICAgICAgcG9wdXBfZWI0MmU3ZjYzYmJiNDI2NmE2ZTIwYTJiNzg3NWQyZjQuc2V0Q29udGVudChodG1sXzk5NDJmMmNmNDJiZDQxMDFiZTEwNzc1Yzc2ZmFlMDgzKTsKICAgICAgICAKCiAgICAgICAgbWFya2VyXzIxYTdmOWY0ZmVhNzQ0MGE5NWMwNmViZDMyYmNmYzFjLmJpbmRQb3B1cChwb3B1cF9lYjQyZTdmNjNiYmI0MjY2YTZlMjBhMmI3ODc1ZDJmNCkKICAgICAgICA7CgogICAgICAgIAogICAgCiAgICAKICAgICAgICAgICAgdmFyIG1hcmtlcl8yYmUwMTNjNzZmYzQ0YzVmYTZjNDEwMDkyYTlhOWFmMyA9IEwubWFya2VyKAogICAgICAgICAgICAgICAgWzM3LjkzNjM5LCAyMy45NDQ0NF0sCiAgICAgICAgICAgICAgICB7fQogICAgICAgICAgICApLmFkZFRvKG1hcF9mZGZjYWRkM2FhZmM0MDNkOWRhMGYwNzIzNTQxNzMyMyk7CiAgICAgICAgCiAgICAKICAgICAgICAgICAgdmFyIGljb25fYzBhYzFkYWJiYmI0NGYxODkyZjUzY2Q4Y2Y1NmViYzEgPSBMLkF3ZXNvbWVNYXJrZXJzLmljb24oCiAgICAgICAgICAgICAgICB7ImV4dHJhQ2xhc3NlcyI6ICJmYS1yb3RhdGUtMCIsICJpY29uIjogImluZm8tc2lnbiIsICJpY29uQ29sb3IiOiAid2hpdGUiLCAibWFya2VyQ29sb3IiOiAiYmx1ZSIsICJwcmVmaXgiOiAiZ2x5cGhpY29uIn0KICAgICAgICAgICAgKTsKICAgICAgICAgICAgbWFya2VyXzJiZTAxM2M3NmZjNDRjNWZhNmM0MTAwOTJhOWE5YWYzLnNldEljb24oaWNvbl9jMGFjMWRhYmJiYjQ0ZjE4OTJmNTNjZDhjZjU2ZWJjMSk7CiAgICAgICAgCiAgICAKICAgICAgICB2YXIgcG9wdXBfOWY2YmU2NWUyZDU1NDcwYzk2NTI2NjUwOTk2MGQ2NmEgPSBMLnBvcHVwKHsibWF4V2lkdGgiOiAiMTAwJSJ9KTsKCiAgICAgICAgCiAgICAgICAgICAgIHZhciBodG1sXzI3YWM1N2ExOTgxNTRjNDdhYmY1Zjg3ZjQwMzFhZjdlID0gJChgPGRpdiBpZD0iaHRtbF8yN2FjNTdhMTk4MTU0YzQ3YWJmNWY4N2Y0MDMxYWY3ZSIgc3R5bGU9IndpZHRoOiAxMDAuMCU7IGhlaWdodDogMTAwLjAlOyI+QWlycG9ydDwvZGl2PmApWzBdOwogICAgICAgICAgICBwb3B1cF85ZjZiZTY1ZTJkNTU0NzBjOTY1MjY2NTA5OTYwZDY2YS5zZXRDb250ZW50KGh0bWxfMjdhYzU3YTE5ODE1NGM0N2FiZjVmODdmNDAzMWFmN2UpOwogICAgICAgIAoKICAgICAgICBtYXJrZXJfMmJlMDEzYzc2ZmM0NGM1ZmE2YzQxMDA5MmE5YTlhZjMuYmluZFBvcHVwKHBvcHVwXzlmNmJlNjVlMmQ1NTQ3MGM5NjUyNjY1MDk5NjBkNjZhKQogICAgICAgIDsKCiAgICAgICAgCiAgICAKICAgIAogICAgICAgICAgICB2YXIgbWFya2VyXzhhN2E5ZTI4MmI3MjQ3ZmM5NDRlMGUxYmNiN2NmMGFjID0gTC5tYXJrZXIoCiAgICAgICAgICAgICAgICBbLTEyLjkxMDksIC0zOC4zMzA5OTk5OTk5OTk5OTZdLAogICAgICAgICAgICAgICAge30KICAgICAgICAgICAgKS5hZGRUbyhtYXBfZmRmY2FkZDNhYWZjNDAzZDlkYTBmMDcyMzU0MTczMjMpOwogICAgICAgIAogICAgCiAgICAgICAgICAgIHZhciBpY29uXzFmZjI4MDJjNTZhODRlYzU5YzkyOTMyMThjYTA2ZTNlID0gTC5Bd2Vzb21lTWFya2Vycy5pY29uKAogICAgICAgICAgICAgICAgeyJleHRyYUNsYXNzZXMiOiAiZmEtcm90YXRlLTAiLCAiaWNvbiI6ICJpbmZvLXNpZ24iLCAiaWNvbkNvbG9yIjogIndoaXRlIiwgIm1hcmtlckNvbG9yIjogImJsdWUiLCAicHJlZml4IjogImdseXBoaWNvbiJ9CiAgICAgICAgICAgICk7CiAgICAgICAgICAgIG1hcmtlcl84YTdhOWUyODJiNzI0N2ZjOTQ0ZTBlMWJjYjdjZjBhYy5zZXRJY29uKGljb25fMWZmMjgwMmM1NmE4NGVjNTljOTI5MzIxOGNhMDZlM2UpOwogICAgICAgIAogICAgCiAgICAgICAgdmFyIHBvcHVwX2JkYTI5NzFkNDJjMzRlMTk5ZDMyYWY2YmFlNzI0YWVmID0gTC5wb3B1cCh7Im1heFdpZHRoIjogIjEwMCUifSk7CgogICAgICAgIAogICAgICAgICAgICB2YXIgaHRtbF8xZmI0NDAzYWMwZTQ0ZjRiYjA5YWRjNmQ4ZTIwMjgwNiA9ICQoYDxkaXYgaWQ9Imh0bWxfMWZiNDQwM2FjMGU0NGY0YmIwOWFkYzZkOGUyMDI4MDYiIHN0eWxlPSJ3aWR0aDogMTAwLjAlOyBoZWlnaHQ6IDEwMC4wJTsiPkFpcnBvcnQ8L2Rpdj5gKVswXTsKICAgICAgICAgICAgcG9wdXBfYmRhMjk3MWQ0MmMzNGUxOTlkMzJhZjZiYWU3MjRhZWYuc2V0Q29udGVudChodG1sXzFmYjQ0MDNhYzBlNDRmNGJiMDlhZGM2ZDhlMjAyODA2KTsKICAgICAgICAKCiAgICAgICAgbWFya2VyXzhhN2E5ZTI4MmI3MjQ3ZmM5NDRlMGUxYmNiN2NmMGFjLmJpbmRQb3B1cChwb3B1cF9iZGEyOTcxZDQyYzM0ZTE5OWQzMmFmNmJhZTcyNGFlZikKICAgICAgICA7CgogICAgICAgIAogICAgCiAgICAKICAgICAgICAgICAgdmFyIG1hcmtlcl81ODgwNTFjNThhYmE0Nzc2YTI2MmUwYzZmZGU0NTRhZCA9IEwubWFya2VyKAogICAgICAgICAgICAgICAgWzI0LjUzMzMzLCAzOS43MTY2N10sCiAgICAgICAgICAgICAgICB7fQogICAgICAgICAgICApLmFkZFRvKG1hcF9mZGZjYWRkM2FhZmM0MDNkOWRhMGYwNzIzNTQxNzMyMyk7CiAgICAgICAgCiAgICAKICAgICAgICAgICAgdmFyIGljb25fNDhhMDg4MDY3MGU0NGNkNzkxNGI1NDFjZjI4MTI0NmQgPSBMLkF3ZXNvbWVNYXJrZXJzLmljb24oCiAgICAgICAgICAgICAgICB7ImV4dHJhQ2xhc3NlcyI6ICJmYS1yb3RhdGUtMCIsICJpY29uIjogImluZm8tc2lnbiIsICJpY29uQ29sb3IiOiAid2hpdGUiLCAibWFya2VyQ29sb3IiOiAiYmx1ZSIsICJwcmVmaXgiOiAiZ2x5cGhpY29uIn0KICAgICAgICAgICAgKTsKICAgICAgICAgICAgbWFya2VyXzU4ODA1MWM1OGFiYTQ3NzZhMjYyZTBjNmZkZTQ1NGFkLnNldEljb24oaWNvbl80OGEwODgwNjcwZTQ0Y2Q3OTE0YjU0MWNmMjgxMjQ2ZCk7CiAgICAgICAgCiAgICAKICAgICAgICB2YXIgcG9wdXBfYzJmNTlmNDA0MjEzNDczZDk1MzQ1YzA0MTZiOTFjMTQgPSBMLnBvcHVwKHsibWF4V2lkdGgiOiAiMTAwJSJ9KTsKCiAgICAgICAgCiAgICAgICAgICAgIHZhciBodG1sX2Q2MTdiMWRiZDdjYjQ5NzA4OWQzNzcyYmU4MmEzMTRjID0gJChgPGRpdiBpZD0iaHRtbF9kNjE3YjFkYmQ3Y2I0OTcwODlkMzc3MmJlODJhMzE0YyIgc3R5bGU9IndpZHRoOiAxMDAuMCU7IGhlaWdodDogMTAwLjAlOyI+QWlycG9ydDwvZGl2PmApWzBdOwogICAgICAgICAgICBwb3B1cF9jMmY1OWY0MDQyMTM0NzNkOTUzNDVjMDQxNmI5MWMxNC5zZXRDb250ZW50KGh0bWxfZDYxN2IxZGJkN2NiNDk3MDg5ZDM3NzJiZTgyYTMxNGMpOwogICAgICAgIAoKICAgICAgICBtYXJrZXJfNTg4MDUxYzU4YWJhNDc3NmEyNjJlMGM2ZmRlNDU0YWQuYmluZFBvcHVwKHBvcHVwX2MyZjU5ZjQwNDIxMzQ3M2Q5NTM0NWMwNDE2YjkxYzE0KQogICAgICAgIDsKCiAgICAgICAgCiAgICAKICAgIAogICAgICAgICAgICB2YXIgbWFya2VyX2Q4YmFhYjUzNzE1OTQyN2FhMzU3ODJlYjFhZjFlNWU3ID0gTC5tYXJrZXIoCiAgICAgICAgICAgICAgICBbLTM3LjAwODA2LCAxNzQuNzkxN10sCiAgICAgICAgICAgICAgICB7fQogICAgICAgICAgICApLmFkZFRvKG1hcF9mZGZjYWRkM2FhZmM0MDNkOWRhMGYwNzIzNTQxNzMyMyk7CiAgICAgICAgCiAgICAKICAgICAgICAgICAgdmFyIGljb25fYjY2ZjZhNTZjODRjNGI2NmI5Y2UxMjk1NDIxNzM5MzMgPSBMLkF3ZXNvbWVNYXJrZXJzLmljb24oCiAgICAgICAgICAgICAgICB7ImV4dHJhQ2xhc3NlcyI6ICJmYS1yb3RhdGUtMCIsICJpY29uIjogImluZm8tc2lnbiIsICJpY29uQ29sb3IiOiAid2hpdGUiLCAibWFya2VyQ29sb3IiOiAiYmx1ZSIsICJwcmVmaXgiOiAiZ2x5cGhpY29uIn0KICAgICAgICAgICAgKTsKICAgICAgICAgICAgbWFya2VyX2Q4YmFhYjUzNzE1OTQyN2FhMzU3ODJlYjFhZjFlNWU3LnNldEljb24oaWNvbl9iNjZmNmE1NmM4NGM0YjY2YjljZTEyOTU0MjE3MzkzMyk7CiAgICAgICAgCiAgICAKICAgICAgICB2YXIgcG9wdXBfOTViNzkyNmRkMTNkNDZiMjg3OTFjODI4YmJmMjE5NDYgPSBMLnBvcHVwKHsibWF4V2lkdGgiOiAiMTAwJSJ9KTsKCiAgICAgICAgCiAgICAgICAgICAgIHZhciBodG1sX2E3YmQwZTAxZmQzZDRlMGQ4ZTliYWE2ZDY1NTgyZGIyID0gJChgPGRpdiBpZD0iaHRtbF9hN2JkMGUwMWZkM2Q0ZTBkOGU5YmFhNmQ2NTU4MmRiMiIgc3R5bGU9IndpZHRoOiAxMDAuMCU7IGhlaWdodDogMTAwLjAlOyI+QWlycG9ydDwvZGl2PmApWzBdOwogICAgICAgICAgICBwb3B1cF85NWI3OTI2ZGQxM2Q0NmIyODc5MWM4MjhiYmYyMTk0Ni5zZXRDb250ZW50KGh0bWxfYTdiZDBlMDFmZDNkNGUwZDhlOWJhYTZkNjU1ODJkYjIpOwogICAgICAgIAoKICAgICAgICBtYXJrZXJfZDhiYWFiNTM3MTU5NDI3YWEzNTc4MmViMWFmMWU1ZTcuYmluZFBvcHVwKHBvcHVwXzk1Yjc5MjZkZDEzZDQ2YjI4NzkxYzgyOGJiZjIxOTQ2KQogICAgICAgIDsKCiAgICAgICAgCiAgICAKICAgIAogICAgICAgICAgICB2YXIgbWFya2VyX2EzOTQ4OGE5YTM2YzQzMzhhMGYzYzIwOWI2MTgxMzdhID0gTC5tYXJrZXIoCiAgICAgICAgICAgICAgICBbMzkuODYxNjcwMDAwMDAwMDA0LCAtMTA0LjY3MzFdLAogICAgICAgICAgICAgICAge30KICAgICAgICAgICAgKS5hZGRUbyhtYXBfZmRmY2FkZDNhYWZjNDAzZDlkYTBmMDcyMzU0MTczMjMpOwogICAgICAgIAogICAgCiAgICAgICAgICAgIHZhciBpY29uX2ViMjFkMDE2N2Y0ZDQzYWU5YTYxODliZGY5MGJiYzU4ID0gTC5Bd2Vzb21lTWFya2Vycy5pY29uKAogICAgICAgICAgICAgICAgeyJleHRyYUNsYXNzZXMiOiAiZmEtcm90YXRlLTAiLCAiaWNvbiI6ICJpbmZvLXNpZ24iLCAiaWNvbkNvbG9yIjogIndoaXRlIiwgIm1hcmtlckNvbG9yIjogImJsdWUiLCAicHJlZml4IjogImdseXBoaWNvbiJ9CiAgICAgICAgICAgICk7CiAgICAgICAgICAgIG1hcmtlcl9hMzk0ODhhOWEzNmM0MzM4YTBmM2MyMDliNjE4MTM3YS5zZXRJY29uKGljb25fZWIyMWQwMTY3ZjRkNDNhZTlhNjE4OWJkZjkwYmJjNTgpOwogICAgICAgIAogICAgCiAgICAgICAgdmFyIHBvcHVwXzBkNjcwMjViZTJkZjQ5MThiMjQ3ZGQ3M2QxM2M3MTBlID0gTC5wb3B1cCh7Im1heFdpZHRoIjogIjEwMCUifSk7CgogICAgICAgIAogICAgICAgICAgICB2YXIgaHRtbF9mMGU4Mjk5NTAxZjU0ODdiOTA1MjNmMmNjZGY5YWM3MiA9ICQoYDxkaXYgaWQ9Imh0bWxfZjBlODI5OTUwMWY1NDg3YjkwNTIzZjJjY2RmOWFjNzIiIHN0eWxlPSJ3aWR0aDogMTAwLjAlOyBoZWlnaHQ6IDEwMC4wJTsiPkFpcnBvcnQ8L2Rpdj5gKVswXTsKICAgICAgICAgICAgcG9wdXBfMGQ2NzAyNWJlMmRmNDkxOGIyNDdkZDczZDEzYzcxMGUuc2V0Q29udGVudChodG1sX2YwZTgyOTk1MDFmNTQ4N2I5MDUyM2YyY2NkZjlhYzcyKTsKICAgICAgICAKCiAgICAgICAgbWFya2VyX2EzOTQ4OGE5YTM2YzQzMzhhMGYzYzIwOWI2MTgxMzdhLmJpbmRQb3B1cChwb3B1cF8wZDY3MDI1YmUyZGY0OTE4YjI0N2RkNzNkMTNjNzEwZSkKICAgICAgICA7CgogICAgICAgIAogICAgCiAgICAKICAgICAgICAgICAgdmFyIG1hcmtlcl8yMzE0NjRjMGFjNDQ0ZTViODkyZDkxYTk3YzczNmI0MSA9IEwubWFya2VyKAogICAgICAgICAgICAgICAgWzIzLjA3NzIyLCA3Mi42MzQ3Ml0sCiAgICAgICAgICAgICAgICB7fQogICAgICAgICAgICApLmFkZFRvKG1hcF9mZGZjYWRkM2FhZmM0MDNkOWRhMGYwNzIzNTQxNzMyMyk7CiAgICAgICAgCiAgICAKICAgICAgICAgICAgdmFyIGljb25fY2NiOWNkZTk0NDQ5NDYxMjkzYjIxYmQyZWNlNzVkN2UgPSBMLkF3ZXNvbWVNYXJrZXJzLmljb24oCiAgICAgICAgICAgICAgICB7ImV4dHJhQ2xhc3NlcyI6ICJmYS1yb3RhdGUtMCIsICJpY29uIjogImluZm8tc2lnbiIsICJpY29uQ29sb3IiOiAid2hpdGUiLCAibWFya2VyQ29sb3IiOiAiYmx1ZSIsICJwcmVmaXgiOiAiZ2x5cGhpY29uIn0KICAgICAgICAgICAgKTsKICAgICAgICAgICAgbWFya2VyXzIzMTQ2NGMwYWM0NDRlNWI4OTJkOTFhOTdjNzM2YjQxLnNldEljb24oaWNvbl9jY2I5Y2RlOTQ0NDk0NjEyOTNiMjFiZDJlY2U3NWQ3ZSk7CiAgICAgICAgCiAgICAKICAgICAgICB2YXIgcG9wdXBfNWEzMzIwZjQyMjYwNDIyYmE1ZjBlYzA3YjQ5YzY5YWYgPSBMLnBvcHVwKHsibWF4V2lkdGgiOiAiMTAwJSJ9KTsKCiAgICAgICAgCiAgICAgICAgICAgIHZhciBodG1sX2JhNjQzODcyZTUzZDRiOTdiNjJkNmQzNmU0YWExNWM3ID0gJChgPGRpdiBpZD0iaHRtbF9iYTY0Mzg3MmU1M2Q0Yjk3YjYyZDZkMzZlNGFhMTVjNyIgc3R5bGU9IndpZHRoOiAxMDAuMCU7IGhlaWdodDogMTAwLjAlOyI+QWlycG9ydDwvZGl2PmApWzBdOwogICAgICAgICAgICBwb3B1cF81YTMzMjBmNDIyNjA0MjJiYTVmMGVjMDdiNDljNjlhZi5zZXRDb250ZW50KGh0bWxfYmE2NDM4NzJlNTNkNGI5N2I2MmQ2ZDM2ZTRhYTE1YzcpOwogICAgICAgIAoKICAgICAgICBtYXJrZXJfMjMxNDY0YzBhYzQ0NGU1Yjg5MmQ5MWE5N2M3MzZiNDEuYmluZFBvcHVwKHBvcHVwXzVhMzMyMGY0MjI2MDQyMmJhNWYwZWMwN2I0OWM2OWFmKQogICAgICAgIDsKCiAgICAgICAgCiAgICAKICAgIAogICAgICAgICAgICB2YXIgbWFya2VyXzIxY2MxZWE0YWI3ZDQ1MGJiN2NkNDBiZGU5NDgzOGM5ID0gTC5tYXJrZXIoCiAgICAgICAgICAgICAgICBbLTQyLjgzNjExLCAxNDcuNTEwM10sCiAgICAgICAgICAgICAgICB7fQogICAgICAgICAgICApLmFkZFRvKG1hcF9mZGZjYWRkM2FhZmM0MDNkOWRhMGYwNzIzNTQxNzMyMyk7CiAgICAgICAgCiAgICAKICAgICAgICAgICAgdmFyIGljb25fODM4NWM5Mzg2OTAyNDM1MGI4NWQ1NDMwNmNiMjFhODMgPSBMLkF3ZXNvbWVNYXJrZXJzLmljb24oCiAgICAgICAgICAgICAgICB7ImV4dHJhQ2xhc3NlcyI6ICJmYS1yb3RhdGUtMCIsICJpY29uIjogImluZm8tc2lnbiIsICJpY29uQ29sb3IiOiAid2hpdGUiLCAibWFya2VyQ29sb3IiOiAiYmx1ZSIsICJwcmVmaXgiOiAiZ2x5cGhpY29uIn0KICAgICAgICAgICAgKTsKICAgICAgICAgICAgbWFya2VyXzIxY2MxZWE0YWI3ZDQ1MGJiN2NkNDBiZGU5NDgzOGM5LnNldEljb24oaWNvbl84Mzg1YzkzODY5MDI0MzUwYjg1ZDU0MzA2Y2IyMWE4Myk7CiAgICAgICAgCiAgICAKICAgICAgICB2YXIgcG9wdXBfNjFhZDM1MGVhNTVjNDRmNmJhNzQ5NzEwZDJkZjEwNGMgPSBMLnBvcHVwKHsibWF4V2lkdGgiOiAiMTAwJSJ9KTsKCiAgICAgICAgCiAgICAgICAgICAgIHZhciBodG1sX2U2Y2E2ZWJlNzVhZjQ5OTRhYjg3ZTYyMmJiYzk3MzYxID0gJChgPGRpdiBpZD0iaHRtbF9lNmNhNmViZTc1YWY0OTk0YWI4N2U2MjJiYmM5NzM2MSIgc3R5bGU9IndpZHRoOiAxMDAuMCU7IGhlaWdodDogMTAwLjAlOyI+QWlycG9ydDwvZGl2PmApWzBdOwogICAgICAgICAgICBwb3B1cF82MWFkMzUwZWE1NWM0NGY2YmE3NDk3MTBkMmRmMTA0Yy5zZXRDb250ZW50KGh0bWxfZTZjYTZlYmU3NWFmNDk5NGFiODdlNjIyYmJjOTczNjEpOwogICAgICAgIAoKICAgICAgICBtYXJrZXJfMjFjYzFlYTRhYjdkNDUwYmI3Y2Q0MGJkZTk0ODM4YzkuYmluZFBvcHVwKHBvcHVwXzYxYWQzNTBlYTU1YzQ0ZjZiYTc0OTcxMGQyZGYxMDRjKQogICAgICAgIDsKCiAgICAgICAgCiAgICAKICAgIAogICAgICAgICAgICB2YXIgbWFya2VyX2Y3YTdiZmFmOWFlYzQzYzRiZDc3ZTBjNTk1YTkxMDc0ID0gTC5tYXJrZXIoCiAgICAgICAgICAgICAgICBbMjkuOTg0NDQwMDAwMDAwMDAzLCAtOTUuMzQxMzldLAogICAgICAgICAgICAgICAge30KICAgICAgICAgICAgKS5hZGRUbyhtYXBfZmRmY2FkZDNhYWZjNDAzZDlkYTBmMDcyMzU0MTczMjMpOwogICAgICAgIAogICAgCiAgICAgICAgICAgIHZhciBpY29uXzc3NmVjOTMyYmQ1OTQ1MDVhYzAyMGJjNWMwNzUzMTBhID0gTC5Bd2Vzb21lTWFya2Vycy5pY29uKAogICAgICAgICAgICAgICAgeyJleHRyYUNsYXNzZXMiOiAiZmEtcm90YXRlLTAiLCAiaWNvbiI6ICJpbmZvLXNpZ24iLCAiaWNvbkNvbG9yIjogIndoaXRlIiwgIm1hcmtlckNvbG9yIjogImJsdWUiLCAicHJlZml4IjogImdseXBoaWNvbiJ9CiAgICAgICAgICAgICk7CiAgICAgICAgICAgIG1hcmtlcl9mN2E3YmZhZjlhZWM0M2M0YmQ3N2UwYzU5NWE5MTA3NC5zZXRJY29uKGljb25fNzc2ZWM5MzJiZDU5NDUwNWFjMDIwYmM1YzA3NTMxMGEpOwogICAgICAgIAogICAgCiAgICAgICAgdmFyIHBvcHVwXzFiYzhiNTU5MWRmODQxMGI5ZDI2NWRiYmY0ZWVhYjVlID0gTC5wb3B1cCh7Im1heFdpZHRoIjogIjEwMCUifSk7CgogICAgICAgIAogICAgICAgICAgICB2YXIgaHRtbF9lNzIwNWRiN2I4ZDI0Zjc0YjVhZTlmMzNmYjAwZmI3NyA9ICQoYDxkaXYgaWQ9Imh0bWxfZTcyMDVkYjdiOGQyNGY3NGI1YWU5ZjMzZmIwMGZiNzciIHN0eWxlPSJ3aWR0aDogMTAwLjAlOyBoZWlnaHQ6IDEwMC4wJTsiPkFpcnBvcnQ8L2Rpdj5gKVswXTsKICAgICAgICAgICAgcG9wdXBfMWJjOGI1NTkxZGY4NDEwYjlkMjY1ZGJiZjRlZWFiNWUuc2V0Q29udGVudChodG1sX2U3MjA1ZGI3YjhkMjRmNzRiNWFlOWYzM2ZiMDBmYjc3KTsKICAgICAgICAKCiAgICAgICAgbWFya2VyX2Y3YTdiZmFmOWFlYzQzYzRiZDc3ZTBjNTk1YTkxMDc0LmJpbmRQb3B1cChwb3B1cF8xYmM4YjU1OTFkZjg0MTBiOWQyNjVkYmJmNGVlYWI1ZSkKICAgICAgICA7CgogICAgICAgIAogICAgCiAgICAKICAgICAgICAgICAgdmFyIG1hcmtlcl8zMTJlNjM2YzU5ZmY0OWMwYTAwYTQ2ZDIwMGEzZjM4NiA9IEwubWFya2VyKAogICAgICAgICAgICAgICAgWzI4LjQyOTQ0MDAwMDAwMDAwMywgLTgxLjMwODg5XSwKICAgICAgICAgICAgICAgIHt9CiAgICAgICAgICAgICkuYWRkVG8obWFwX2ZkZmNhZGQzYWFmYzQwM2Q5ZGEwZjA3MjM1NDE3MzIzKTsKICAgICAgICAKICAgIAogICAgICAgICAgICB2YXIgaWNvbl80ODQ3YjdkNjZjMjc0NjlhYjQwNDBkNDg0YzM3YmU5MiA9IEwuQXdlc29tZU1hcmtlcnMuaWNvbigKICAgICAgICAgICAgICAgIHsiZXh0cmFDbGFzc2VzIjogImZhLXJvdGF0ZS0wIiwgImljb24iOiAiaW5mby1zaWduIiwgImljb25Db2xvciI6ICJ3aGl0ZSIsICJtYXJrZXJDb2xvciI6ICJibHVlIiwgInByZWZpeCI6ICJnbHlwaGljb24ifQogICAgICAgICAgICApOwogICAgICAgICAgICBtYXJrZXJfMzEyZTYzNmM1OWZmNDljMGEwMGE0NmQyMDBhM2YzODYuc2V0SWNvbihpY29uXzQ4NDdiN2Q2NmMyNzQ2OWFiNDA0MGQ0ODRjMzdiZTkyKTsKICAgICAgICAKICAgIAogICAgICAgIHZhciBwb3B1cF9iN2E3NzBhNGFiZWI0MWM1YWU2OTY5MWJhYTZlMmE2MiA9IEwucG9wdXAoeyJtYXhXaWR0aCI6ICIxMDAlIn0pOwoKICAgICAgICAKICAgICAgICAgICAgdmFyIGh0bWxfYTNkY2JhMzdkNTAyNGExNmFhMjk0ZjEyNzI3Y2VhOGMgPSAkKGA8ZGl2IGlkPSJodG1sX2EzZGNiYTM3ZDUwMjRhMTZhYTI5NGYxMjcyN2NlYThjIiBzdHlsZT0id2lkdGg6IDEwMC4wJTsgaGVpZ2h0OiAxMDAuMCU7Ij5BaXJwb3J0PC9kaXY+YClbMF07CiAgICAgICAgICAgIHBvcHVwX2I3YTc3MGE0YWJlYjQxYzVhZTY5NjkxYmFhNmUyYTYyLnNldENvbnRlbnQoaHRtbF9hM2RjYmEzN2Q1MDI0YTE2YWEyOTRmMTI3MjdjZWE4Yyk7CiAgICAgICAgCgogICAgICAgIG1hcmtlcl8zMTJlNjM2YzU5ZmY0OWMwYTAwYTQ2ZDIwMGEzZjM4Ni5iaW5kUG9wdXAocG9wdXBfYjdhNzcwYTRhYmViNDFjNWFlNjk2OTFiYWE2ZTJhNjIpCiAgICAgICAgOwoKICAgICAgICAKICAgIAogICAgCiAgICAgICAgICAgIHZhciBtYXJrZXJfZDY4ZTE2OWZhZWU3NGQ5YTgxYTJmNWUyNmQ4ODI5MjcgPSBMLm1hcmtlcigKICAgICAgICAgICAgICAgIFs0MC44OTg2MSwgMjkuMzA5MTddLAogICAgICAgICAgICAgICAge30KICAgICAgICAgICAgKS5hZGRUbyhtYXBfZmRmY2FkZDNhYWZjNDAzZDlkYTBmMDcyMzU0MTczMjMpOwogICAgICAgIAogICAgCiAgICAgICAgICAgIHZhciBpY29uX2Q5NTFmNzc1MWJkOTQwZmZiZTA2OWI5MGI2YjNhZTBhID0gTC5Bd2Vzb21lTWFya2Vycy5pY29uKAogICAgICAgICAgICAgICAgeyJleHRyYUNsYXNzZXMiOiAiZmEtcm90YXRlLTAiLCAiaWNvbiI6ICJpbmZvLXNpZ24iLCAiaWNvbkNvbG9yIjogIndoaXRlIiwgIm1hcmtlckNvbG9yIjogImJsdWUiLCAicHJlZml4IjogImdseXBoaWNvbiJ9CiAgICAgICAgICAgICk7CiAgICAgICAgICAgIG1hcmtlcl9kNjhlMTY5ZmFlZTc0ZDlhODFhMmY1ZTI2ZDg4MjkyNy5zZXRJY29uKGljb25fZDk1MWY3NzUxYmQ5NDBmZmJlMDY5YjkwYjZiM2FlMGEpOwogICAgICAgIAogICAgCiAgICAgICAgdmFyIHBvcHVwXzI5ODY5MTY5MDg3YTRiMTFhNjdhZGQzYzYxMDA4NzgwID0gTC5wb3B1cCh7Im1heFdpZHRoIjogIjEwMCUifSk7CgogICAgICAgIAogICAgICAgICAgICB2YXIgaHRtbF80NGFhMTY0OTAzZGM0YWUwOWM3ZmFjZGNlMWM0NmZiNyA9ICQoYDxkaXYgaWQ9Imh0bWxfNDRhYTE2NDkwM2RjNGFlMDljN2ZhY2RjZTFjNDZmYjciIHN0eWxlPSJ3aWR0aDogMTAwLjAlOyBoZWlnaHQ6IDEwMC4wJTsiPkFpcnBvcnQ8L2Rpdj5gKVswXTsKICAgICAgICAgICAgcG9wdXBfMjk4NjkxNjkwODdhNGIxMWE2N2FkZDNjNjEwMDg3ODAuc2V0Q29udGVudChodG1sXzQ0YWExNjQ5MDNkYzRhZTA5YzdmYWNkY2UxYzQ2ZmI3KTsKICAgICAgICAKCiAgICAgICAgbWFya2VyX2Q2OGUxNjlmYWVlNzRkOWE4MWEyZjVlMjZkODgyOTI3LmJpbmRQb3B1cChwb3B1cF8yOTg2OTE2OTA4N2E0YjExYTY3YWRkM2M2MTAwODc4MCkKICAgICAgICA7CgogICAgICAgIAogICAgCiAgICAKICAgICAgICAgICAgdmFyIG1hcmtlcl9kNmNhMDRkMWRhZTE0MmI4ODc2OWNiZTZiOTM1NTQ4YyA9IEwubWFya2VyKAogICAgICAgICAgICAgICAgWy0wLjc4Njk0NCwgMTAwLjI4MDZdLAogICAgICAgICAgICAgICAge30KICAgICAgICAgICAgKS5hZGRUbyhtYXBfZmRmY2FkZDNhYWZjNDAzZDlkYTBmMDcyMzU0MTczMjMpOwogICAgICAgIAogICAgCiAgICAgICAgICAgIHZhciBpY29uXzc2N2EwM2VhNjkxNDQ4OGU5MmYyZDI5ODdjMGU2MDgwID0gTC5Bd2Vzb21lTWFya2Vycy5pY29uKAogICAgICAgICAgICAgICAgeyJleHRyYUNsYXNzZXMiOiAiZmEtcm90YXRlLTAiLCAiaWNvbiI6ICJpbmZvLXNpZ24iLCAiaWNvbkNvbG9yIjogIndoaXRlIiwgIm1hcmtlckNvbG9yIjogImJsdWUiLCAicHJlZml4IjogImdseXBoaWNvbiJ9CiAgICAgICAgICAgICk7CiAgICAgICAgICAgIG1hcmtlcl9kNmNhMDRkMWRhZTE0MmI4ODc2OWNiZTZiOTM1NTQ4Yy5zZXRJY29uKGljb25fNzY3YTAzZWE2OTE0NDg4ZTkyZjJkMjk4N2MwZTYwODApOwogICAgICAgIAogICAgCiAgICAgICAgdmFyIHBvcHVwXzVlZWE0NGMzOGZhYjQ1MmRiZWQ2YTUzYjFkMzc4NTg0ID0gTC5wb3B1cCh7Im1heFdpZHRoIjogIjEwMCUifSk7CgogICAgICAgIAogICAgICAgICAgICB2YXIgaHRtbF8yOTNlZTM2NTNhOTY0MmVjOTM0ZGE3NmM4MDUwMjg4ZSA9ICQoYDxkaXYgaWQ9Imh0bWxfMjkzZWUzNjUzYTk2NDJlYzkzNGRhNzZjODA1MDI4OGUiIHN0eWxlPSJ3aWR0aDogMTAwLjAlOyBoZWlnaHQ6IDEwMC4wJTsiPkFpcnBvcnQ8L2Rpdj5gKVswXTsKICAgICAgICAgICAgcG9wdXBfNWVlYTQ0YzM4ZmFiNDUyZGJlZDZhNTNiMWQzNzg1ODQuc2V0Q29udGVudChodG1sXzI5M2VlMzY1M2E5NjQyZWM5MzRkYTc2YzgwNTAyODhlKTsKICAgICAgICAKCiAgICAgICAgbWFya2VyX2Q2Y2EwNGQxZGFlMTQyYjg4NzY5Y2JlNmI5MzU1NDhjLmJpbmRQb3B1cChwb3B1cF81ZWVhNDRjMzhmYWI0NTJkYmVkNmE1M2IxZDM3ODU4NCkKICAgICAgICA7CgogICAgICAgIAogICAgCiAgICAKICAgICAgICAgICAgdmFyIG1hcmtlcl9mYWY5OGU5MzJmNmE0MTIxYmFiNDBkZmQ2MGEwZmZlNCA9IEwubWFya2VyKAogICAgICAgICAgICAgICAgWzEyLjk5NDcyLCA4MC4xNzUyOF0sCiAgICAgICAgICAgICAgICB7fQogICAgICAgICAgICApLmFkZFRvKG1hcF9mZGZjYWRkM2FhZmM0MDNkOWRhMGYwNzIzNTQxNzMyMyk7CiAgICAgICAgCiAgICAKICAgICAgICAgICAgdmFyIGljb25fNmYwODU1N2M5NTM3NDA5Yzg2MDgxMTIzZTdhZTIzMjYgPSBMLkF3ZXNvbWVNYXJrZXJzLmljb24oCiAgICAgICAgICAgICAgICB7ImV4dHJhQ2xhc3NlcyI6ICJmYS1yb3RhdGUtMCIsICJpY29uIjogImluZm8tc2lnbiIsICJpY29uQ29sb3IiOiAid2hpdGUiLCAibWFya2VyQ29sb3IiOiAiYmx1ZSIsICJwcmVmaXgiOiAiZ2x5cGhpY29uIn0KICAgICAgICAgICAgKTsKICAgICAgICAgICAgbWFya2VyX2ZhZjk4ZTkzMmY2YTQxMjFiYWI0MGRmZDYwYTBmZmU0LnNldEljb24oaWNvbl82ZjA4NTU3Yzk1Mzc0MDljODYwODExMjNlN2FlMjMyNik7CiAgICAgICAgCiAgICAKICAgICAgICB2YXIgcG9wdXBfNTllOWY2Y2NkYzVjNDYzZGIzOTcyM2JjNzAyOGVmZWIgPSBMLnBvcHVwKHsibWF4V2lkdGgiOiAiMTAwJSJ9KTsKCiAgICAgICAgCiAgICAgICAgICAgIHZhciBodG1sX2Y2MGM0ZGNlMTczMTRhZDBhM2Q2NmM4YTZmNTExNzFhID0gJChgPGRpdiBpZD0iaHRtbF9mNjBjNGRjZTE3MzE0YWQwYTNkNjZjOGE2ZjUxMTcxYSIgc3R5bGU9IndpZHRoOiAxMDAuMCU7IGhlaWdodDogMTAwLjAlOyI+QWlycG9ydDwvZGl2PmApWzBdOwogICAgICAgICAgICBwb3B1cF81OWU5ZjZjY2RjNWM0NjNkYjM5NzIzYmM3MDI4ZWZlYi5zZXRDb250ZW50KGh0bWxfZjYwYzRkY2UxNzMxNGFkMGEzZDY2YzhhNmY1MTE3MWEpOwogICAgICAgIAoKICAgICAgICBtYXJrZXJfZmFmOThlOTMyZjZhNDEyMWJhYjQwZGZkNjBhMGZmZTQuYmluZFBvcHVwKHBvcHVwXzU5ZTlmNmNjZGM1YzQ2M2RiMzk3MjNiYzcwMjhlZmViKQogICAgICAgIDsKCiAgICAgICAgCiAgICAKICAgIAogICAgICAgICAgICB2YXIgbWFya2VyX2NkMmI4N2ViNTMxMTQ3YTBiNGViYzA2MThhYjlhOWJmID0gTC5tYXJrZXIoCiAgICAgICAgICAgICAgICBbMzkuMTc1MjgsIC03Ni42NjgzMzAwMDAwMDAwMV0sCiAgICAgICAgICAgICAgICB7fQogICAgICAgICAgICApLmFkZFRvKG1hcF9mZGZjYWRkM2FhZmM0MDNkOWRhMGYwNzIzNTQxNzMyMyk7CiAgICAgICAgCiAgICAKICAgICAgICAgICAgdmFyIGljb25fZmZjNjYzZWMxNjU0NDM4NTgzMjQ4Yzg2ZDgyYWQyYjUgPSBMLkF3ZXNvbWVNYXJrZXJzLmljb24oCiAgICAgICAgICAgICAgICB7ImV4dHJhQ2xhc3NlcyI6ICJmYS1yb3RhdGUtMCIsICJpY29uIjogImluZm8tc2lnbiIsICJpY29uQ29sb3IiOiAid2hpdGUiLCAibWFya2VyQ29sb3IiOiAiYmx1ZSIsICJwcmVmaXgiOiAiZ2x5cGhpY29uIn0KICAgICAgICAgICAgKTsKICAgICAgICAgICAgbWFya2VyX2NkMmI4N2ViNTMxMTQ3YTBiNGViYzA2MThhYjlhOWJmLnNldEljb24oaWNvbl9mZmM2NjNlYzE2NTQ0Mzg1ODMyNDhjODZkODJhZDJiNSk7CiAgICAgICAgCiAgICAKICAgICAgICB2YXIgcG9wdXBfYTQzMjAzMjZjYmY5NDkwZjlmZjg3MzdiNDVmMzM1MDcgPSBMLnBvcHVwKHsibWF4V2lkdGgiOiAiMTAwJSJ9KTsKCiAgICAgICAgCiAgICAgICAgICAgIHZhciBodG1sXzc2NGY1OTdmOTM3ZDQyNDM5NzI2ODQ1OGM0ZGE4NGE5ID0gJChgPGRpdiBpZD0iaHRtbF83NjRmNTk3ZjkzN2Q0MjQzOTcyNjg0NThjNGRhODRhOSIgc3R5bGU9IndpZHRoOiAxMDAuMCU7IGhlaWdodDogMTAwLjAlOyI+QWlycG9ydDwvZGl2PmApWzBdOwogICAgICAgICAgICBwb3B1cF9hNDMyMDMyNmNiZjk0OTBmOWZmODczN2I0NWYzMzUwNy5zZXRDb250ZW50KGh0bWxfNzY0ZjU5N2Y5MzdkNDI0Mzk3MjY4NDU4YzRkYTg0YTkpOwogICAgICAgIAoKICAgICAgICBtYXJrZXJfY2QyYjg3ZWI1MzExNDdhMGI0ZWJjMDYxOGFiOWE5YmYuYmluZFBvcHVwKHBvcHVwX2E0MzIwMzI2Y2JmOTQ5MGY5ZmY4NzM3YjQ1ZjMzNTA3KQogICAgICAgIDsKCiAgICAgICAgCiAgICAKICAgIAogICAgICAgICAgICB2YXIgbWFya2VyXzBiN2RkOTU2ODRlMTRkYWU5NjFlNjU1ODMxNjc0MGZhID0gTC5tYXJrZXIoCiAgICAgICAgICAgICAgICBbNDguMzUsIDExLjc4MzMzXSwKICAgICAgICAgICAgICAgIHt9CiAgICAgICAgICAgICkuYWRkVG8obWFwX2ZkZmNhZGQzYWFmYzQwM2Q5ZGEwZjA3MjM1NDE3MzIzKTsKICAgICAgICAKICAgIAogICAgICAgICAgICB2YXIgaWNvbl81MDdiYzcxMzk5MzQ0Y2UxYTJlNWZhZWFiYzQ1Yzk0ZCA9IEwuQXdlc29tZU1hcmtlcnMuaWNvbigKICAgICAgICAgICAgICAgIHsiZXh0cmFDbGFzc2VzIjogImZhLXJvdGF0ZS0wIiwgImljb24iOiAiaW5mby1zaWduIiwgImljb25Db2xvciI6ICJ3aGl0ZSIsICJtYXJrZXJDb2xvciI6ICJibHVlIiwgInByZWZpeCI6ICJnbHlwaGljb24ifQogICAgICAgICAgICApOwogICAgICAgICAgICBtYXJrZXJfMGI3ZGQ5NTY4NGUxNGRhZTk2MWU2NTU4MzE2NzQwZmEuc2V0SWNvbihpY29uXzUwN2JjNzEzOTkzNDRjZTFhMmU1ZmFlYWJjNDVjOTRkKTsKICAgICAgICAKICAgIAogICAgICAgIHZhciBwb3B1cF9mZDQ3NDg1YjdhMmM0ZDYxOTFkYmM5YjUxMGI4Y2JmOCA9IEwucG9wdXAoeyJtYXhXaWR0aCI6ICIxMDAlIn0pOwoKICAgICAgICAKICAgICAgICAgICAgdmFyIGh0bWxfM2M2YTQ5NWIwNzYwNDA4YmI4NmI1NmMxZWI3ZjFkN2IgPSAkKGA8ZGl2IGlkPSJodG1sXzNjNmE0OTViMDc2MDQwOGJiODZiNTZjMWViN2YxZDdiIiBzdHlsZT0id2lkdGg6IDEwMC4wJTsgaGVpZ2h0OiAxMDAuMCU7Ij5BaXJwb3J0PC9kaXY+YClbMF07CiAgICAgICAgICAgIHBvcHVwX2ZkNDc0ODViN2EyYzRkNjE5MWRiYzliNTEwYjhjYmY4LnNldENvbnRlbnQoaHRtbF8zYzZhNDk1YjA3NjA0MDhiYjg2YjU2YzFlYjdmMWQ3Yik7CiAgICAgICAgCgogICAgICAgIG1hcmtlcl8wYjdkZDk1Njg0ZTE0ZGFlOTYxZTY1NTgzMTY3NDBmYS5iaW5kUG9wdXAocG9wdXBfZmQ0NzQ4NWI3YTJjNGQ2MTkxZGJjOWI1MTBiOGNiZjgpCiAgICAgICAgOwoKICAgICAgICAKICAgIAogICAgCiAgICAgICAgICAgIHZhciBtYXJrZXJfNDhkNzc0NTcxMzVkNDRhNjk3ZGQxNzEyOGM2ZGEyODMgPSBMLm1hcmtlcigKICAgICAgICAgICAgICAgIFs1NS40MTk0NSwgMzcuODg1ODNdLAogICAgICAgICAgICAgICAge30KICAgICAgICAgICAgKS5hZGRUbyhtYXBfZmRmY2FkZDNhYWZjNDAzZDlkYTBmMDcyMzU0MTczMjMpOwogICAgICAgIAogICAgCiAgICAgICAgICAgIHZhciBpY29uXzAxMzg2YWQ0YWI4NDQzNmY5ZmQ3MjY5MWMzNWQ1YmQzID0gTC5Bd2Vzb21lTWFya2Vycy5pY29uKAogICAgICAgICAgICAgICAgeyJleHRyYUNsYXNzZXMiOiAiZmEtcm90YXRlLTAiLCAiaWNvbiI6ICJpbmZvLXNpZ24iLCAiaWNvbkNvbG9yIjogIndoaXRlIiwgIm1hcmtlckNvbG9yIjogImJsdWUiLCAicHJlZml4IjogImdseXBoaWNvbiJ9CiAgICAgICAgICAgICk7CiAgICAgICAgICAgIG1hcmtlcl80OGQ3NzQ1NzEzNWQ0NGE2OTdkZDE3MTI4YzZkYTI4My5zZXRJY29uKGljb25fMDEzODZhZDRhYjg0NDM2ZjlmZDcyNjkxYzM1ZDViZDMpOwogICAgICAgIAogICAgCiAgICAgICAgdmFyIHBvcHVwXzc2ZTVjMjJkMDQyNDRiNmZhMzVmZThkYjI1YjVjM2YxID0gTC5wb3B1cCh7Im1heFdpZHRoIjogIjEwMCUifSk7CgogICAgICAgIAogICAgICAgICAgICB2YXIgaHRtbF9mOGIwYTZmMDk4YjI0YjIwOGVkZmYzYWY2OGE5YTlmMiA9ICQoYDxkaXYgaWQ9Imh0bWxfZjhiMGE2ZjA5OGIyNGIyMDhlZGZmM2FmNjhhOWE5ZjIiIHN0eWxlPSJ3aWR0aDogMTAwLjAlOyBoZWlnaHQ6IDEwMC4wJTsiPkFpcnBvcnQ8L2Rpdj5gKVswXTsKICAgICAgICAgICAgcG9wdXBfNzZlNWMyMmQwNDI0NGI2ZmEzNWZlOGRiMjViNWMzZjEuc2V0Q29udGVudChodG1sX2Y4YjBhNmYwOThiMjRiMjA4ZWRmZjNhZjY4YTlhOWYyKTsKICAgICAgICAKCiAgICAgICAgbWFya2VyXzQ4ZDc3NDU3MTM1ZDQ0YTY5N2RkMTcxMjhjNmRhMjgzLmJpbmRQb3B1cChwb3B1cF83NmU1YzIyZDA0MjQ0YjZmYTM1ZmU4ZGIyNWI1YzNmMSkKICAgICAgICA7CgogICAgICAgIAogICAgCiAgICAKICAgICAgICAgICAgdmFyIG1hcmtlcl8yYzUzNTIyMWJiNzM0NGE4ODlhY2YxNDNmNTZhYjZmMiA9IEwubWFya2VyKAogICAgICAgICAgICAgICAgWzI1Ljc4MzMzLCAtODAuMjY2NjY5OTk5OTk5OTldLAogICAgICAgICAgICAgICAge30KICAgICAgICAgICAgKS5hZGRUbyhtYXBfZmRmY2FkZDNhYWZjNDAzZDlkYTBmMDcyMzU0MTczMjMpOwogICAgICAgIAogICAgCiAgICAgICAgICAgIHZhciBpY29uXzE5ZWQyNmJkNThlMzQwYTk4Y2I5YmUxNDAxNTYxZGU1ID0gTC5Bd2Vzb21lTWFya2Vycy5pY29uKAogICAgICAgICAgICAgICAgeyJleHRyYUNsYXNzZXMiOiAiZmEtcm90YXRlLTAiLCAiaWNvbiI6ICJpbmZvLXNpZ24iLCAiaWNvbkNvbG9yIjogIndoaXRlIiwgIm1hcmtlckNvbG9yIjogImJsdWUiLCAicHJlZml4IjogImdseXBoaWNvbiJ9CiAgICAgICAgICAgICk7CiAgICAgICAgICAgIG1hcmtlcl8yYzUzNTIyMWJiNzM0NGE4ODlhY2YxNDNmNTZhYjZmMi5zZXRJY29uKGljb25fMTllZDI2YmQ1OGUzNDBhOThjYjliZTE0MDE1NjFkZTUpOwogICAgICAgIAogICAgCiAgICAgICAgdmFyIHBvcHVwX2U0YTYyOWViOTg2MjQ5MWU4MjNmMmVmMGU5NzIzMDBlID0gTC5wb3B1cCh7Im1heFdpZHRoIjogIjEwMCUifSk7CgogICAgICAgIAogICAgICAgICAgICB2YXIgaHRtbF8yMTM2OTlkNjQ0Yzk0MGU4Yjk4Zjk3MTVlNzYxY2RhYSA9ICQoYDxkaXYgaWQ9Imh0bWxfMjEzNjk5ZDY0NGM5NDBlOGI5OGY5NzE1ZTc2MWNkYWEiIHN0eWxlPSJ3aWR0aDogMTAwLjAlOyBoZWlnaHQ6IDEwMC4wJTsiPkFpcnBvcnQ8L2Rpdj5gKVswXTsKICAgICAgICAgICAgcG9wdXBfZTRhNjI5ZWI5ODYyNDkxZTgyM2YyZWYwZTk3MjMwMGUuc2V0Q29udGVudChodG1sXzIxMzY5OWQ2NDRjOTQwZThiOThmOTcxNWU3NjFjZGFhKTsKICAgICAgICAKCiAgICAgICAgbWFya2VyXzJjNTM1MjIxYmI3MzQ0YTg4OWFjZjE0M2Y1NmFiNmYyLmJpbmRQb3B1cChwb3B1cF9lNGE2MjllYjk4NjI0OTFlODIzZjJlZjBlOTcyMzAwZSkKICAgICAgICA7CgogICAgICAgIAogICAgCiAgICAKICAgICAgICAgICAgdmFyIG1hcmtlcl81NDMyZmRjNTBlNWY0ZDFmODU3ZDRmN2IwZWRiZjcxZCA9IEwubWFya2VyKAogICAgICAgICAgICAgICAgWzU1Ljk3Mjc4MDAwMDAwMDAxLCAzNy40MTQ3Ml0sCiAgICAgICAgICAgICAgICB7fQogICAgICAgICAgICApLmFkZFRvKG1hcF9mZGZjYWRkM2FhZmM0MDNkOWRhMGYwNzIzNTQxNzMyMyk7CiAgICAgICAgCiAgICAKICAgICAgICAgICAgdmFyIGljb25fZTI4NjlhZmQ3YzdjNGYzNWE4NjQyZGI1MTE5YzkzZmMgPSBMLkF3ZXNvbWVNYXJrZXJzLmljb24oCiAgICAgICAgICAgICAgICB7ImV4dHJhQ2xhc3NlcyI6ICJmYS1yb3RhdGUtMCIsICJpY29uIjogImluZm8tc2lnbiIsICJpY29uQ29sb3IiOiAid2hpdGUiLCAibWFya2VyQ29sb3IiOiAiYmx1ZSIsICJwcmVmaXgiOiAiZ2x5cGhpY29uIn0KICAgICAgICAgICAgKTsKICAgICAgICAgICAgbWFya2VyXzU0MzJmZGM1MGU1ZjRkMWY4NTdkNGY3YjBlZGJmNzFkLnNldEljb24oaWNvbl9lMjg2OWFmZDdjN2M0ZjM1YTg2NDJkYjUxMTljOTNmYyk7CiAgICAgICAgCiAgICAKICAgICAgICB2YXIgcG9wdXBfODliNTA0MGFkMjlmNDA1ZWEzYzQ5ZGQ2ZTEzMGQwMzQgPSBMLnBvcHVwKHsibWF4V2lkdGgiOiAiMTAwJSJ9KTsKCiAgICAgICAgCiAgICAgICAgICAgIHZhciBodG1sXzI3ZmJhNzY0ZDczZDQ4MTNiMjZlNjQzMDZjMzhhMzcyID0gJChgPGRpdiBpZD0iaHRtbF8yN2ZiYTc2NGQ3M2Q0ODEzYjI2ZTY0MzA2YzM4YTM3MiIgc3R5bGU9IndpZHRoOiAxMDAuMCU7IGhlaWdodDogMTAwLjAlOyI+QWlycG9ydDwvZGl2PmApWzBdOwogICAgICAgICAgICBwb3B1cF84OWI1MDQwYWQyOWY0MDVlYTNjNDlkZDZlMTMwZDAzNC5zZXRDb250ZW50KGh0bWxfMjdmYmE3NjRkNzNkNDgxM2IyNmU2NDMwNmMzOGEzNzIpOwogICAgICAgIAoKICAgICAgICBtYXJrZXJfNTQzMmZkYzUwZTVmNGQxZjg1N2Q0ZjdiMGVkYmY3MWQuYmluZFBvcHVwKHBvcHVwXzg5YjUwNDBhZDI5ZjQwNWVhM2M0OWRkNmUxMzBkMDM0KQogICAgICAgIDsKCiAgICAgICAgCiAgICAKICAgIAogICAgICAgICAgICB2YXIgbWFya2VyXzVkNWRkNjI0Yzc5ZjRhMjNiMWI5Mjg2OWZlY2MyNWVkID0gTC5tYXJrZXIoCiAgICAgICAgICAgICAgICBbNTEuMjg5NDQsIDYuNzY2NjY3XSwKICAgICAgICAgICAgICAgIHt9CiAgICAgICAgICAgICkuYWRkVG8obWFwX2ZkZmNhZGQzYWFmYzQwM2Q5ZGEwZjA3MjM1NDE3MzIzKTsKICAgICAgICAKICAgIAogICAgICAgICAgICB2YXIgaWNvbl9mOTUyNmE3MTMyY2U0ZDQ3OGU1OTk1NTU3ODRjMGFlOSA9IEwuQXdlc29tZU1hcmtlcnMuaWNvbigKICAgICAgICAgICAgICAgIHsiZXh0cmFDbGFzc2VzIjogImZhLXJvdGF0ZS0wIiwgImljb24iOiAiaW5mby1zaWduIiwgImljb25Db2xvciI6ICJ3aGl0ZSIsICJtYXJrZXJDb2xvciI6ICJibHVlIiwgInByZWZpeCI6ICJnbHlwaGljb24ifQogICAgICAgICAgICApOwogICAgICAgICAgICBtYXJrZXJfNWQ1ZGQ2MjRjNzlmNGEyM2IxYjkyODY5ZmVjYzI1ZWQuc2V0SWNvbihpY29uX2Y5NTI2YTcxMzJjZTRkNDc4ZTU5OTU1NTc4NGMwYWU5KTsKICAgICAgICAKICAgIAogICAgICAgIHZhciBwb3B1cF82ODFkMmRlYWU5YmY0OTcxOThjM2JhNzk1NGVjMTRkMCA9IEwucG9wdXAoeyJtYXhXaWR0aCI6ICIxMDAlIn0pOwoKICAgICAgICAKICAgICAgICAgICAgdmFyIGh0bWxfZmI5NGM2MWE1ODJiNDRkZWJlY2VhNDcwZWUzMzg0YzcgPSAkKGA8ZGl2IGlkPSJodG1sX2ZiOTRjNjFhNTgyYjQ0ZGViZWNlYTQ3MGVlMzM4NGM3IiBzdHlsZT0id2lkdGg6IDEwMC4wJTsgaGVpZ2h0OiAxMDAuMCU7Ij5BaXJwb3J0PC9kaXY+YClbMF07CiAgICAgICAgICAgIHBvcHVwXzY4MWQyZGVhZTliZjQ5NzE5OGMzYmE3OTU0ZWMxNGQwLnNldENvbnRlbnQoaHRtbF9mYjk0YzYxYTU4MmI0NGRlYmVjZWE0NzBlZTMzODRjNyk7CiAgICAgICAgCgogICAgICAgIG1hcmtlcl81ZDVkZDYyNGM3OWY0YTIzYjFiOTI4NjlmZWNjMjVlZC5iaW5kUG9wdXAocG9wdXBfNjgxZDJkZWFlOWJmNDk3MTk4YzNiYTc5NTRlYzE0ZDApCiAgICAgICAgOwoKICAgICAgICAKICAgIAogICAgCiAgICAgICAgICAgIHZhciBtYXJrZXJfMWFjNTY3MDFjNjMzNDAzMTliZThmNTRhZTVlNWRmNjUgPSBMLm1hcmtlcigKICAgICAgICAgICAgICAgIFs0LjE5MTk0NCwgNzMuNTI5MTddLAogICAgICAgICAgICAgICAge30KICAgICAgICAgICAgKS5hZGRUbyhtYXBfZmRmY2FkZDNhYWZjNDAzZDlkYTBmMDcyMzU0MTczMjMpOwogICAgICAgIAogICAgCiAgICAgICAgICAgIHZhciBpY29uX2U5ZmU0MDAxYTg4ODRiMTlhNjc3MDcyOTUxMGNiYzI4ID0gTC5Bd2Vzb21lTWFya2Vycy5pY29uKAogICAgICAgICAgICAgICAgeyJleHRyYUNsYXNzZXMiOiAiZmEtcm90YXRlLTAiLCAiaWNvbiI6ICJpbmZvLXNpZ24iLCAiaWNvbkNvbG9yIjogIndoaXRlIiwgIm1hcmtlckNvbG9yIjogImJsdWUiLCAicHJlZml4IjogImdseXBoaWNvbiJ9CiAgICAgICAgICAgICk7CiAgICAgICAgICAgIG1hcmtlcl8xYWM1NjcwMWM2MzM0MDMxOWJlOGY1NGFlNWU1ZGY2NS5zZXRJY29uKGljb25fZTlmZTQwMDFhODg4NGIxOWE2NzcwNzI5NTEwY2JjMjgpOwogICAgICAgIAogICAgCiAgICAgICAgdmFyIHBvcHVwXzNhZjgwOGMwNWIxOTQ5NGZiMTcwN2VhNTljOGRmNGQ3ID0gTC5wb3B1cCh7Im1heFdpZHRoIjogIjEwMCUifSk7CgogICAgICAgIAogICAgICAgICAgICB2YXIgaHRtbF85MmUxM2ViZTgwY2M0YjcyYjc4NjA3ZGJjYjU3ZjNjOCA9ICQoYDxkaXYgaWQ9Imh0bWxfOTJlMTNlYmU4MGNjNGI3MmI3ODYwN2RiY2I1N2YzYzgiIHN0eWxlPSJ3aWR0aDogMTAwLjAlOyBoZWlnaHQ6IDEwMC4wJTsiPkFpcnBvcnQ8L2Rpdj5gKVswXTsKICAgICAgICAgICAgcG9wdXBfM2FmODA4YzA1YjE5NDk0ZmIxNzA3ZWE1OWM4ZGY0ZDcuc2V0Q29udGVudChodG1sXzkyZTEzZWJlODBjYzRiNzJiNzg2MDdkYmNiNTdmM2M4KTsKICAgICAgICAKCiAgICAgICAgbWFya2VyXzFhYzU2NzAxYzYzMzQwMzE5YmU4ZjU0YWU1ZTVkZjY1LmJpbmRQb3B1cChwb3B1cF8zYWY4MDhjMDViMTk0OTRmYjE3MDdlYTU5YzhkZjRkNykKICAgICAgICA7CgogICAgICAgIAogICAgCiAgICAKICAgICAgICAgICAgdmFyIG1hcmtlcl85YzM2ZjVlN2U3MzE0MGI0YjMwODQ5Yjc1NzE3MmQ1YyA9IEwubWFya2VyKAogICAgICAgICAgICAgICAgWzAuNDYwODMzLCAxMDEuNDQ0NF0sCiAgICAgICAgICAgICAgICB7fQogICAgICAgICAgICApLmFkZFRvKG1hcF9mZGZjYWRkM2FhZmM0MDNkOWRhMGYwNzIzNTQxNzMyMyk7CiAgICAgICAgCiAgICAKICAgICAgICAgICAgdmFyIGljb25fZTdhMTgwNTVjNzgzNDE0MmJhMjQ4NmIwMWU4YTE3NTggPSBMLkF3ZXNvbWVNYXJrZXJzLmljb24oCiAgICAgICAgICAgICAgICB7ImV4dHJhQ2xhc3NlcyI6ICJmYS1yb3RhdGUtMCIsICJpY29uIjogImluZm8tc2lnbiIsICJpY29uQ29sb3IiOiAid2hpdGUiLCAibWFya2VyQ29sb3IiOiAiYmx1ZSIsICJwcmVmaXgiOiAiZ2x5cGhpY29uIn0KICAgICAgICAgICAgKTsKICAgICAgICAgICAgbWFya2VyXzljMzZmNWU3ZTczMTQwYjRiMzA4NDliNzU3MTcyZDVjLnNldEljb24oaWNvbl9lN2ExODA1NWM3ODM0MTQyYmEyNDg2YjAxZThhMTc1OCk7CiAgICAgICAgCiAgICAKICAgICAgICB2YXIgcG9wdXBfZjFhMDc2ZTc2MmM1NDUxMDhhN2M0ZjY3ZDZlNTg0NWUgPSBMLnBvcHVwKHsibWF4V2lkdGgiOiAiMTAwJSJ9KTsKCiAgICAgICAgCiAgICAgICAgICAgIHZhciBodG1sXzAxODlhNjE2NzNlYTQ4YTBhMDI0YzlhZDllM2Y1ZWNlID0gJChgPGRpdiBpZD0iaHRtbF8wMTg5YTYxNjczZWE0OGEwYTAyNGM5YWQ5ZTNmNWVjZSIgc3R5bGU9IndpZHRoOiAxMDAuMCU7IGhlaWdodDogMTAwLjAlOyI+QWlycG9ydDwvZGl2PmApWzBdOwogICAgICAgICAgICBwb3B1cF9mMWEwNzZlNzYyYzU0NTEwOGE3YzRmNjdkNmU1ODQ1ZS5zZXRDb250ZW50KGh0bWxfMDE4OWE2MTY3M2VhNDhhMGEwMjRjOWFkOWUzZjVlY2UpOwogICAgICAgIAoKICAgICAgICBtYXJrZXJfOWMzNmY1ZTdlNzMxNDBiNGIzMDg0OWI3NTcxNzJkNWMuYmluZFBvcHVwKHBvcHVwX2YxYTA3NmU3NjJjNTQ1MTA4YTdjNGY2N2Q2ZTU4NDVlKQogICAgICAgIDsKCiAgICAgICAgCiAgICAKICAgIAogICAgICAgICAgICB2YXIgbWFya2VyXzgxZDQ5OTgyNDMxOTQyOTQ4ZWZjN2ZjNjc4MTEzNDY1ID0gTC5tYXJrZXIoCiAgICAgICAgICAgICAgICBbMzUuMjE2NjcsIC04MC45MzMzM10sCiAgICAgICAgICAgICAgICB7fQogICAgICAgICAgICApLmFkZFRvKG1hcF9mZGZjYWRkM2FhZmM0MDNkOWRhMGYwNzIzNTQxNzMyMyk7CiAgICAgICAgCiAgICAKICAgICAgICAgICAgdmFyIGljb25fOWQ5ZDE4NGEzOWExNDI1NmFjMGI0ODRmYTY5ZmRjNDggPSBMLkF3ZXNvbWVNYXJrZXJzLmljb24oCiAgICAgICAgICAgICAgICB7ImV4dHJhQ2xhc3NlcyI6ICJmYS1yb3RhdGUtMCIsICJpY29uIjogImluZm8tc2lnbiIsICJpY29uQ29sb3IiOiAid2hpdGUiLCAibWFya2VyQ29sb3IiOiAiYmx1ZSIsICJwcmVmaXgiOiAiZ2x5cGhpY29uIn0KICAgICAgICAgICAgKTsKICAgICAgICAgICAgbWFya2VyXzgxZDQ5OTgyNDMxOTQyOTQ4ZWZjN2ZjNjc4MTEzNDY1LnNldEljb24oaWNvbl85ZDlkMTg0YTM5YTE0MjU2YWMwYjQ4NGZhNjlmZGM0OCk7CiAgICAgICAgCiAgICAKICAgICAgICB2YXIgcG9wdXBfMmJhMjk1MWFjZWUzNGQxYTliMjEyOWJhODJjYzhkNzUgPSBMLnBvcHVwKHsibWF4V2lkdGgiOiAiMTAwJSJ9KTsKCiAgICAgICAgCiAgICAgICAgICAgIHZhciBodG1sX2E1NzYzMzFkMjYxNzQyODhiMjFhZmY5MDFhNWExMzljID0gJChgPGRpdiBpZD0iaHRtbF9hNTc2MzMxZDI2MTc0Mjg4YjIxYWZmOTAxYTVhMTM5YyIgc3R5bGU9IndpZHRoOiAxMDAuMCU7IGhlaWdodDogMTAwLjAlOyI+QWlycG9ydDwvZGl2PmApWzBdOwogICAgICAgICAgICBwb3B1cF8yYmEyOTUxYWNlZTM0ZDFhOWIyMTI5YmE4MmNjOGQ3NS5zZXRDb250ZW50KGh0bWxfYTU3NjMzMWQyNjE3NDI4OGIyMWFmZjkwMWE1YTEzOWMpOwogICAgICAgIAoKICAgICAgICBtYXJrZXJfODFkNDk5ODI0MzE5NDI5NDhlZmM3ZmM2NzgxMTM0NjUuYmluZFBvcHVwKHBvcHVwXzJiYTI5NTFhY2VlMzRkMWE5YjIxMjliYTgyY2M4ZDc1KQogICAgICAgIDsKCiAgICAgICAgCiAgICAKICAgIAogICAgICAgICAgICB2YXIgbWFya2VyXzIxMzFiMDE1MWU0YzQ5NDQ5MDcxMGQyZWY4YjRhOTk4ID0gTC5tYXJrZXIoCiAgICAgICAgICAgICAgICBbMjguNTY5NDQwMDAwMDAwMDA0LCA3Ny4xMTgwNl0sCiAgICAgICAgICAgICAgICB7fQogICAgICAgICAgICApLmFkZFRvKG1hcF9mZGZjYWRkM2FhZmM0MDNkOWRhMGYwNzIzNTQxNzMyMyk7CiAgICAgICAgCiAgICAKICAgICAgICAgICAgdmFyIGljb25fZTdmNzFmYmM0NjJmNDg2NmE2YzQ5ODk1MDgxYTI4MWEgPSBMLkF3ZXNvbWVNYXJrZXJzLmljb24oCiAgICAgICAgICAgICAgICB7ImV4dHJhQ2xhc3NlcyI6ICJmYS1yb3RhdGUtMCIsICJpY29uIjogImluZm8tc2lnbiIsICJpY29uQ29sb3IiOiAid2hpdGUiLCAibWFya2VyQ29sb3IiOiAiYmx1ZSIsICJwcmVmaXgiOiAiZ2x5cGhpY29uIn0KICAgICAgICAgICAgKTsKICAgICAgICAgICAgbWFya2VyXzIxMzFiMDE1MWU0YzQ5NDQ5MDcxMGQyZWY4YjRhOTk4LnNldEljb24oaWNvbl9lN2Y3MWZiYzQ2MmY0ODY2YTZjNDk4OTUwODFhMjgxYSk7CiAgICAgICAgCiAgICAKICAgICAgICB2YXIgcG9wdXBfYjc2YTEzMTMxYjZmNDg0ZmJkMmNmODljZjczNDgzYjIgPSBMLnBvcHVwKHsibWF4V2lkdGgiOiAiMTAwJSJ9KTsKCiAgICAgICAgCiAgICAgICAgICAgIHZhciBodG1sX2Y3ZGMwOGUwY2EyZjQ4NDg5ODgyMmVmMzRiMzhmOWEyID0gJChgPGRpdiBpZD0iaHRtbF9mN2RjMDhlMGNhMmY0ODQ4OTg4MjJlZjM0YjM4ZjlhMiIgc3R5bGU9IndpZHRoOiAxMDAuMCU7IGhlaWdodDogMTAwLjAlOyI+QWlycG9ydDwvZGl2PmApWzBdOwogICAgICAgICAgICBwb3B1cF9iNzZhMTMxMzFiNmY0ODRmYmQyY2Y4OWNmNzM0ODNiMi5zZXRDb250ZW50KGh0bWxfZjdkYzA4ZTBjYTJmNDg0ODk4ODIyZWYzNGIzOGY5YTIpOwogICAgICAgIAoKICAgICAgICBtYXJrZXJfMjEzMWIwMTUxZTRjNDk0NDkwNzEwZDJlZjhiNGE5OTguYmluZFBvcHVwKHBvcHVwX2I3NmExMzEzMWI2ZjQ4NGZiZDJjZjg5Y2Y3MzQ4M2IyKQogICAgICAgIDsKCiAgICAgICAgCiAgICAKICAgIAogICAgICAgICAgICB2YXIgbWFya2VyX2IxYjI4MGM1NmIzZDRmODBiOTg5NGM5YzM3NGNjOGFkID0gTC5tYXJrZXIoCiAgICAgICAgICAgICAgICBbMjYuMDcyNSwgLTgwLjE1Mjc4XSwKICAgICAgICAgICAgICAgIHt9CiAgICAgICAgICAgICkuYWRkVG8obWFwX2ZkZmNhZGQzYWFmYzQwM2Q5ZGEwZjA3MjM1NDE3MzIzKTsKICAgICAgICAKICAgIAogICAgICAgICAgICB2YXIgaWNvbl84ODZkYTM3NjgyYTI0Y2Q2Yjk4ZGNkMDNiYWQyNjVmYyA9IEwuQXdlc29tZU1hcmtlcnMuaWNvbigKICAgICAgICAgICAgICAgIHsiZXh0cmFDbGFzc2VzIjogImZhLXJvdGF0ZS0wIiwgImljb24iOiAiaW5mby1zaWduIiwgImljb25Db2xvciI6ICJ3aGl0ZSIsICJtYXJrZXJDb2xvciI6ICJibHVlIiwgInByZWZpeCI6ICJnbHlwaGljb24ifQogICAgICAgICAgICApOwogICAgICAgICAgICBtYXJrZXJfYjFiMjgwYzU2YjNkNGY4MGI5ODk0YzljMzc0Y2M4YWQuc2V0SWNvbihpY29uXzg4NmRhMzc2ODJhMjRjZDZiOThkY2QwM2JhZDI2NWZjKTsKICAgICAgICAKICAgIAogICAgICAgIHZhciBwb3B1cF9kOTZiMDI3MTM0NDA0OTdmYmEwYjI2YmFlODM3NzFjNSA9IEwucG9wdXAoeyJtYXhXaWR0aCI6ICIxMDAlIn0pOwoKICAgICAgICAKICAgICAgICAgICAgdmFyIGh0bWxfNzFlZTA3ZmYyNWU4NDBlNWFiM2RmODE5NTA5NmIyZjUgPSAkKGA8ZGl2IGlkPSJodG1sXzcxZWUwN2ZmMjVlODQwZTVhYjNkZjgxOTUwOTZiMmY1IiBzdHlsZT0id2lkdGg6IDEwMC4wJTsgaGVpZ2h0OiAxMDAuMCU7Ij5BaXJwb3J0PC9kaXY+YClbMF07CiAgICAgICAgICAgIHBvcHVwX2Q5NmIwMjcxMzQ0MDQ5N2ZiYTBiMjZiYWU4Mzc3MWM1LnNldENvbnRlbnQoaHRtbF83MWVlMDdmZjI1ZTg0MGU1YWIzZGY4MTk1MDk2YjJmNSk7CiAgICAgICAgCgogICAgICAgIG1hcmtlcl9iMWIyODBjNTZiM2Q0ZjgwYjk4OTRjOWMzNzRjYzhhZC5iaW5kUG9wdXAocG9wdXBfZDk2YjAyNzEzNDQwNDk3ZmJhMGIyNmJhZTgzNzcxYzUpCiAgICAgICAgOwoKICAgICAgICAKICAgIAogICAgCiAgICAgICAgICAgIHZhciBtYXJrZXJfZDEwMWNkZWU4NTM3NDk1ZWI2ZWQwOTg5ZDE1ZmY0MmEgPSBMLm1hcmtlcigKICAgICAgICAgICAgICAgIFsxNy40NTMwNiwgNzguNDY3NV0sCiAgICAgICAgICAgICAgICB7fQogICAgICAgICAgICApLmFkZFRvKG1hcF9mZGZjYWRkM2FhZmM0MDNkOWRhMGYwNzIzNTQxNzMyMyk7CiAgICAgICAgCiAgICAKICAgICAgICAgICAgdmFyIGljb25fODBkZGQ2Nzk5NzVlNDZkNDhjM2JhYmIyMDJmODRkYjQgPSBMLkF3ZXNvbWVNYXJrZXJzLmljb24oCiAgICAgICAgICAgICAgICB7ImV4dHJhQ2xhc3NlcyI6ICJmYS1yb3RhdGUtMCIsICJpY29uIjogImluZm8tc2lnbiIsICJpY29uQ29sb3IiOiAid2hpdGUiLCAibWFya2VyQ29sb3IiOiAiYmx1ZSIsICJwcmVmaXgiOiAiZ2x5cGhpY29uIn0KICAgICAgICAgICAgKTsKICAgICAgICAgICAgbWFya2VyX2QxMDFjZGVlODUzNzQ5NWViNmVkMDk4OWQxNWZmNDJhLnNldEljb24oaWNvbl84MGRkZDY3OTk3NWU0NmQ0OGMzYmFiYjIwMmY4NGRiNCk7CiAgICAgICAgCiAgICAKICAgICAgICB2YXIgcG9wdXBfZjE1YmEyMmE0NTc5NDgwZmIzYTJiMDZkZGFmYzk3MWUgPSBMLnBvcHVwKHsibWF4V2lkdGgiOiAiMTAwJSJ9KTsKCiAgICAgICAgCiAgICAgICAgICAgIHZhciBodG1sX2ZiMzllZDBiYTJhZDQ5NGFhYTFmNWJlMjI2YzhkYjQ5ID0gJChgPGRpdiBpZD0iaHRtbF9mYjM5ZWQwYmEyYWQ0OTRhYWExZjViZTIyNmM4ZGI0OSIgc3R5bGU9IndpZHRoOiAxMDAuMCU7IGhlaWdodDogMTAwLjAlOyI+QWlycG9ydDwvZGl2PmApWzBdOwogICAgICAgICAgICBwb3B1cF9mMTViYTIyYTQ1Nzk0ODBmYjNhMmIwNmRkYWZjOTcxZS5zZXRDb250ZW50KGh0bWxfZmIzOWVkMGJhMmFkNDk0YWFhMWY1YmUyMjZjOGRiNDkpOwogICAgICAgIAoKICAgICAgICBtYXJrZXJfZDEwMWNkZWU4NTM3NDk1ZWI2ZWQwOTg5ZDE1ZmY0MmEuYmluZFBvcHVwKHBvcHVwX2YxNWJhMjJhNDU3OTQ4MGZiM2EyYjA2ZGRhZmM5NzFlKQogICAgICAgIDsKCiAgICAgICAgCiAgICAKICAgIAogICAgICAgICAgICB2YXIgbWFya2VyXzkwYzU5MWQ4NzE3NDQ1MDNiNzZmODVlMWE2YzNkZjdjID0gTC5tYXJrZXIoCiAgICAgICAgICAgICAgICBbMzMuNTA0NzIsIDEyNi40OTMxXSwKICAgICAgICAgICAgICAgIHt9CiAgICAgICAgICAgICkuYWRkVG8obWFwX2ZkZmNhZGQzYWFmYzQwM2Q5ZGEwZjA3MjM1NDE3MzIzKTsKICAgICAgICAKICAgIAogICAgICAgICAgICB2YXIgaWNvbl8wNDE1MTI4NjQ5Y2I0MjhjYTk2YzAxNWNkNGFhMjE2YSA9IEwuQXdlc29tZU1hcmtlcnMuaWNvbigKICAgICAgICAgICAgICAgIHsiZXh0cmFDbGFzc2VzIjogImZhLXJvdGF0ZS0wIiwgImljb24iOiAiaW5mby1zaWduIiwgImljb25Db2xvciI6ICJ3aGl0ZSIsICJtYXJrZXJDb2xvciI6ICJibHVlIiwgInByZWZpeCI6ICJnbHlwaGljb24ifQogICAgICAgICAgICApOwogICAgICAgICAgICBtYXJrZXJfOTBjNTkxZDg3MTc0NDUwM2I3NmY4NWUxYTZjM2RmN2Muc2V0SWNvbihpY29uXzA0MTUxMjg2NDljYjQyOGNhOTZjMDE1Y2Q0YWEyMTZhKTsKICAgICAgICAKICAgIAogICAgICAgIHZhciBwb3B1cF83OTg5Y2JjYzExODY0NGU5YWNmODM0NWRlZmUzNzNmYSA9IEwucG9wdXAoeyJtYXhXaWR0aCI6ICIxMDAlIn0pOwoKICAgICAgICAKICAgICAgICAgICAgdmFyIGh0bWxfYjZkOGE4NmIwMzFkNGE5ZGJjMTZkYmFhZWJjNzllMzIgPSAkKGA8ZGl2IGlkPSJodG1sX2I2ZDhhODZiMDMxZDRhOWRiYzE2ZGJhYWViYzc5ZTMyIiBzdHlsZT0id2lkdGg6IDEwMC4wJTsgaGVpZ2h0OiAxMDAuMCU7Ij5BaXJwb3J0PC9kaXY+YClbMF07CiAgICAgICAgICAgIHBvcHVwXzc5ODljYmNjMTE4NjQ0ZTlhY2Y4MzQ1ZGVmZTM3M2ZhLnNldENvbnRlbnQoaHRtbF9iNmQ4YTg2YjAzMWQ0YTlkYmMxNmRiYWFlYmM3OWUzMik7CiAgICAgICAgCgogICAgICAgIG1hcmtlcl85MGM1OTFkODcxNzQ0NTAzYjc2Zjg1ZTFhNmMzZGY3Yy5iaW5kUG9wdXAocG9wdXBfNzk4OWNiY2MxMTg2NDRlOWFjZjgzNDVkZWZlMzczZmEpCiAgICAgICAgOwoKICAgICAgICAKICAgIAogICAgCiAgICAgICAgICAgIHZhciBtYXJrZXJfMmYxODg3NGVjMjQ0NGIyYmE2OTRhNDNkYjA4N2JkMjQgPSBMLm1hcmtlcigKICAgICAgICAgICAgICAgIFstMTYuODgzMzI5OTk5OTk5OTk3LCAxNDUuNzVdLAogICAgICAgICAgICAgICAge30KICAgICAgICAgICAgKS5hZGRUbyhtYXBfZmRmY2FkZDNhYWZjNDAzZDlkYTBmMDcyMzU0MTczMjMpOwogICAgICAgIAogICAgCiAgICAgICAgICAgIHZhciBpY29uX2RiOTRiMjM3ZWY0MTRjMzBiYTJlNjZkZjE2MzllMjU5ID0gTC5Bd2Vzb21lTWFya2Vycy5pY29uKAogICAgICAgICAgICAgICAgeyJleHRyYUNsYXNzZXMiOiAiZmEtcm90YXRlLTAiLCAiaWNvbiI6ICJpbmZvLXNpZ24iLCAiaWNvbkNvbG9yIjogIndoaXRlIiwgIm1hcmtlckNvbG9yIjogImJsdWUiLCAicHJlZml4IjogImdseXBoaWNvbiJ9CiAgICAgICAgICAgICk7CiAgICAgICAgICAgIG1hcmtlcl8yZjE4ODc0ZWMyNDQ0YjJiYTY5NGE0M2RiMDg3YmQyNC5zZXRJY29uKGljb25fZGI5NGIyMzdlZjQxNGMzMGJhMmU2NmRmMTYzOWUyNTkpOwogICAgICAgIAogICAgCiAgICAgICAgdmFyIHBvcHVwX2M2ZDg2YWM3MTRkZDQxZjk4MjFmZWU3ZDFmZDQ0MDUyID0gTC5wb3B1cCh7Im1heFdpZHRoIjogIjEwMCUifSk7CgogICAgICAgIAogICAgICAgICAgICB2YXIgaHRtbF84NWE0ZDE4MTYzYTk0ZGVkODM3YTAwMGM4NGZiM2Y5NSA9ICQoYDxkaXYgaWQ9Imh0bWxfODVhNGQxODE2M2E5NGRlZDgzN2EwMDBjODRmYjNmOTUiIHN0eWxlPSJ3aWR0aDogMTAwLjAlOyBoZWlnaHQ6IDEwMC4wJTsiPkFpcnBvcnQ8L2Rpdj5gKVswXTsKICAgICAgICAgICAgcG9wdXBfYzZkODZhYzcxNGRkNDFmOTgyMWZlZTdkMWZkNDQwNTIuc2V0Q29udGVudChodG1sXzg1YTRkMTgxNjNhOTRkZWQ4MzdhMDAwYzg0ZmIzZjk1KTsKICAgICAgICAKCiAgICAgICAgbWFya2VyXzJmMTg4NzRlYzI0NDRiMmJhNjk0YTQzZGIwODdiZDI0LmJpbmRQb3B1cChwb3B1cF9jNmQ4NmFjNzE0ZGQ0MWY5ODIxZmVlN2QxZmQ0NDA1MikKICAgICAgICA7CgogICAgICAgIAogICAgCiAgICAKICAgICAgICAgICAgdmFyIG1hcmtlcl9lMTM0MzM2MzcyYTE0MTU2YTMwMTE0MDQ5ODUwYmNkMiA9IEwubWFya2VyKAogICAgICAgICAgICAgICAgWzIyLjYzMzMyOTk5OTk5OTk5NywgODguNDMzMzNdLAogICAgICAgICAgICAgICAge30KICAgICAgICAgICAgKS5hZGRUbyhtYXBfZmRmY2FkZDNhYWZjNDAzZDlkYTBmMDcyMzU0MTczMjMpOwogICAgICAgIAogICAgCiAgICAgICAgICAgIHZhciBpY29uXzYzMTQ1MTI3NzkyZDQ5NzBiM2U5ZWM5OTdlYjg0NzQzID0gTC5Bd2Vzb21lTWFya2Vycy5pY29uKAogICAgICAgICAgICAgICAgeyJleHRyYUNsYXNzZXMiOiAiZmEtcm90YXRlLTAiLCAiaWNvbiI6ICJpbmZvLXNpZ24iLCAiaWNvbkNvbG9yIjogIndoaXRlIiwgIm1hcmtlckNvbG9yIjogImJsdWUiLCAicHJlZml4IjogImdseXBoaWNvbiJ9CiAgICAgICAgICAgICk7CiAgICAgICAgICAgIG1hcmtlcl9lMTM0MzM2MzcyYTE0MTU2YTMwMTE0MDQ5ODUwYmNkMi5zZXRJY29uKGljb25fNjMxNDUxMjc3OTJkNDk3MGIzZTllYzk5N2ViODQ3NDMpOwogICAgICAgIAogICAgCiAgICAgICAgdmFyIHBvcHVwXzVjNTJmMmI5MjAyMjRhNWY4NWZmNzUyYTZjNzg2ODBlID0gTC5wb3B1cCh7Im1heFdpZHRoIjogIjEwMCUifSk7CgogICAgICAgIAogICAgICAgICAgICB2YXIgaHRtbF84Yjc2YzllYTM5Nzc0YzRjYjllZjRjZmUxMTkwOGY3ZCA9ICQoYDxkaXYgaWQ9Imh0bWxfOGI3NmM5ZWEzOTc3NGM0Y2I5ZWY0Y2ZlMTE5MDhmN2QiIHN0eWxlPSJ3aWR0aDogMTAwLjAlOyBoZWlnaHQ6IDEwMC4wJTsiPkFpcnBvcnQ8L2Rpdj5gKVswXTsKICAgICAgICAgICAgcG9wdXBfNWM1MmYyYjkyMDIyNGE1Zjg1ZmY3NTJhNmM3ODY4MGUuc2V0Q29udGVudChodG1sXzhiNzZjOWVhMzk3NzRjNGNiOWVmNGNmZTExOTA4ZjdkKTsKICAgICAgICAKCiAgICAgICAgbWFya2VyX2UxMzQzMzYzNzJhMTQxNTZhMzAxMTQwNDk4NTBiY2QyLmJpbmRQb3B1cChwb3B1cF81YzUyZjJiOTIwMjI0YTVmODVmZjc1MmE2Yzc4NjgwZSkKICAgICAgICA7CgogICAgICAgIAogICAgCiAgICAKICAgICAgICAgICAgdmFyIG1hcmtlcl9kMmMxNGM1NWRiYTk0MWE2OWI3OTEwYWEyN2U0NWE1MiA9IEwubWFya2VyKAogICAgICAgICAgICAgICAgWzI3Ljk3NTU1OTk5OTk5OTk5OCwgLTgyLjUzMzA1OTk5OTk5OTk5XSwKICAgICAgICAgICAgICAgIHt9CiAgICAgICAgICAgICkuYWRkVG8obWFwX2ZkZmNhZGQzYWFmYzQwM2Q5ZGEwZjA3MjM1NDE3MzIzKTsKICAgICAgICAKICAgIAogICAgICAgICAgICB2YXIgaWNvbl8zYjQxOGYxYjZmNDY0Njg3OGVlODk3N2Y5NTA3MmMxNiA9IEwuQXdlc29tZU1hcmtlcnMuaWNvbigKICAgICAgICAgICAgICAgIHsiZXh0cmFDbGFzc2VzIjogImZhLXJvdGF0ZS0wIiwgImljb24iOiAiaW5mby1zaWduIiwgImljb25Db2xvciI6ICJ3aGl0ZSIsICJtYXJrZXJDb2xvciI6ICJibHVlIiwgInByZWZpeCI6ICJnbHlwaGljb24ifQogICAgICAgICAgICApOwogICAgICAgICAgICBtYXJrZXJfZDJjMTRjNTVkYmE5NDFhNjliNzkxMGFhMjdlNDVhNTIuc2V0SWNvbihpY29uXzNiNDE4ZjFiNmY0NjQ2ODc4ZWU4OTc3Zjk1MDcyYzE2KTsKICAgICAgICAKICAgIAogICAgICAgIHZhciBwb3B1cF8wYWUzYzBhMmMwNjA0Yjc4YWU2NDA4NGQ5ZjM3ZDNkZiA9IEwucG9wdXAoeyJtYXhXaWR0aCI6ICIxMDAlIn0pOwoKICAgICAgICAKICAgICAgICAgICAgdmFyIGh0bWxfMmQxMWZmNjM4NzBmNGM0MGJjMWI4NjBiNTEzODM1NDEgPSAkKGA8ZGl2IGlkPSJodG1sXzJkMTFmZjYzODcwZjRjNDBiYzFiODYwYjUxMzgzNTQxIiBzdHlsZT0id2lkdGg6IDEwMC4wJTsgaGVpZ2h0OiAxMDAuMCU7Ij5BaXJwb3J0PC9kaXY+YClbMF07CiAgICAgICAgICAgIHBvcHVwXzBhZTNjMGEyYzA2MDRiNzhhZTY0MDg0ZDlmMzdkM2RmLnNldENvbnRlbnQoaHRtbF8yZDExZmY2Mzg3MGY0YzQwYmMxYjg2MGI1MTM4MzU0MSk7CiAgICAgICAgCgogICAgICAgIG1hcmtlcl9kMmMxNGM1NWRiYTk0MWE2OWI3OTEwYWEyN2U0NWE1Mi5iaW5kUG9wdXAocG9wdXBfMGFlM2MwYTJjMDYwNGI3OGFlNjQwODRkOWYzN2QzZGYpCiAgICAgICAgOwoKICAgICAgICAKICAgIAogICAgCiAgICAgICAgICAgIHZhciBtYXJrZXJfZjdhODQ5YmQ3NDhhNDA1M2JhNmRkYmM1ZmZhM2Q5M2QgPSBMLm1hcmtlcigKICAgICAgICAgICAgICAgIFs1MC44NjY2NywgNy4xNV0sCiAgICAgICAgICAgICAgICB7fQogICAgICAgICAgICApLmFkZFRvKG1hcF9mZGZjYWRkM2FhZmM0MDNkOWRhMGYwNzIzNTQxNzMyMyk7CiAgICAgICAgCiAgICAKICAgICAgICAgICAgdmFyIGljb25fMWE4ZGNmN2VkMmExNDQyNmE2YmI1YWQ1MGUwYjAxMWUgPSBMLkF3ZXNvbWVNYXJrZXJzLmljb24oCiAgICAgICAgICAgICAgICB7ImV4dHJhQ2xhc3NlcyI6ICJmYS1yb3RhdGUtMCIsICJpY29uIjogImluZm8tc2lnbiIsICJpY29uQ29sb3IiOiAid2hpdGUiLCAibWFya2VyQ29sb3IiOiAiYmx1ZSIsICJwcmVmaXgiOiAiZ2x5cGhpY29uIn0KICAgICAgICAgICAgKTsKICAgICAgICAgICAgbWFya2VyX2Y3YTg0OWJkNzQ4YTQwNTNiYTZkZGJjNWZmYTNkOTNkLnNldEljb24oaWNvbl8xYThkY2Y3ZWQyYTE0NDI2YTZiYjVhZDUwZTBiMDExZSk7CiAgICAgICAgCiAgICAKICAgICAgICB2YXIgcG9wdXBfMjMzZGZlMmE2MmNmNGIxYTk0YjA4YWY0ZGJkNWY3Y2EgPSBMLnBvcHVwKHsibWF4V2lkdGgiOiAiMTAwJSJ9KTsKCiAgICAgICAgCiAgICAgICAgICAgIHZhciBodG1sX2I3NDg1YzE0MGZmNDQ0NWY5ODNiNjBiZjNiMWYxNzQxID0gJChgPGRpdiBpZD0iaHRtbF9iNzQ4NWMxNDBmZjQ0NDVmOTgzYjYwYmYzYjFmMTc0MSIgc3R5bGU9IndpZHRoOiAxMDAuMCU7IGhlaWdodDogMTAwLjAlOyI+QWlycG9ydDwvZGl2PmApWzBdOwogICAgICAgICAgICBwb3B1cF8yMzNkZmUyYTYyY2Y0YjFhOTRiMDhhZjRkYmQ1ZjdjYS5zZXRDb250ZW50KGh0bWxfYjc0ODVjMTQwZmY0NDQ1Zjk4M2I2MGJmM2IxZjE3NDEpOwogICAgICAgIAoKICAgICAgICBtYXJrZXJfZjdhODQ5YmQ3NDhhNDA1M2JhNmRkYmM1ZmZhM2Q5M2QuYmluZFBvcHVwKHBvcHVwXzIzM2RmZTJhNjJjZjRiMWE5NGIwOGFmNGRiZDVmN2NhKQogICAgICAgIDsKCiAgICAgICAgCiAgICAKICAgIAogICAgICAgICAgICB2YXIgbWFya2VyXzYzM2VhMmNmNjQ2MzRiY2JhOWYyNDgxYjA5YTFmM2MxID0gTC5tYXJrZXIoCiAgICAgICAgICAgICAgICBbMzQuNDQ3MjIsIDEwOC43NTE3XSwKICAgICAgICAgICAgICAgIHt9CiAgICAgICAgICAgICkuYWRkVG8obWFwX2ZkZmNhZGQzYWFmYzQwM2Q5ZGEwZjA3MjM1NDE3MzIzKTsKICAgICAgICAKICAgIAogICAgICAgICAgICB2YXIgaWNvbl84Njg0ZGY0ZjVlMWY0NzUwYTViZjZhOTRiOGRlZmU0ZiA9IEwuQXdlc29tZU1hcmtlcnMuaWNvbigKICAgICAgICAgICAgICAgIHsiZXh0cmFDbGFzc2VzIjogImZhLXJvdGF0ZS0wIiwgImljb24iOiAiaW5mby1zaWduIiwgImljb25Db2xvciI6ICJ3aGl0ZSIsICJtYXJrZXJDb2xvciI6ICJibHVlIiwgInByZWZpeCI6ICJnbHlwaGljb24ifQogICAgICAgICAgICApOwogICAgICAgICAgICBtYXJrZXJfNjMzZWEyY2Y2NDYzNGJjYmE5ZjI0ODFiMDlhMWYzYzEuc2V0SWNvbihpY29uXzg2ODRkZjRmNWUxZjQ3NTBhNWJmNmE5NGI4ZGVmZTRmKTsKICAgICAgICAKICAgIAogICAgICAgIHZhciBwb3B1cF8xNWEwNWJhZmJjODk0NDg3YmJjZmFkMjFlY2E5YWI1ZCA9IEwucG9wdXAoeyJtYXhXaWR0aCI6ICIxMDAlIn0pOwoKICAgICAgICAKICAgICAgICAgICAgdmFyIGh0bWxfMDBlMDkxZGE4ZTcxNDIzNmJiZDgwMjIwYTk4YTFmNDYgPSAkKGA8ZGl2IGlkPSJodG1sXzAwZTA5MWRhOGU3MTQyMzZiYmQ4MDIyMGE5OGExZjQ2IiBzdHlsZT0id2lkdGg6IDEwMC4wJTsgaGVpZ2h0OiAxMDAuMCU7Ij5BaXJwb3J0PC9kaXY+YClbMF07CiAgICAgICAgICAgIHBvcHVwXzE1YTA1YmFmYmM4OTQ0ODdiYmNmYWQyMWVjYTlhYjVkLnNldENvbnRlbnQoaHRtbF8wMGUwOTFkYThlNzE0MjM2YmJkODAyMjBhOThhMWY0Nik7CiAgICAgICAgCgogICAgICAgIG1hcmtlcl82MzNlYTJjZjY0NjM0YmNiYTlmMjQ4MWIwOWExZjNjMS5iaW5kUG9wdXAocG9wdXBfMTVhMDViYWZiYzg5NDQ4N2JiY2ZhZDIxZWNhOWFiNWQpCiAgICAgICAgOwoKICAgICAgICAKICAgIAogICAgCiAgICAgICAgICAgIHZhciBtYXJrZXJfOTVkOTA0MGU4MDFiNDNkMWExZTY2ZjVmYWVmYTg3YTUgPSBMLm1hcmtlcigKICAgICAgICAgICAgICAgIFs1OS45NSwgMzAuMDVdLAogICAgICAgICAgICAgICAge30KICAgICAgICAgICAgKS5hZGRUbyhtYXBfZmRmY2FkZDNhYWZjNDAzZDlkYTBmMDcyMzU0MTczMjMpOwogICAgICAgIAogICAgCiAgICAgICAgICAgIHZhciBpY29uXzFlY2FkNGYxNmVkZjQ0MWE5MWNkM2E0M2QxZjFlM2RjID0gTC5Bd2Vzb21lTWFya2Vycy5pY29uKAogICAgICAgICAgICAgICAgeyJleHRyYUNsYXNzZXMiOiAiZmEtcm90YXRlLTAiLCAiaWNvbiI6ICJpbmZvLXNpZ24iLCAiaWNvbkNvbG9yIjogIndoaXRlIiwgIm1hcmtlckNvbG9yIjogImJsdWUiLCAicHJlZml4IjogImdseXBoaWNvbiJ9CiAgICAgICAgICAgICk7CiAgICAgICAgICAgIG1hcmtlcl85NWQ5MDQwZTgwMWI0M2QxYTFlNjZmNWZhZWZhODdhNS5zZXRJY29uKGljb25fMWVjYWQ0ZjE2ZWRmNDQxYTkxY2QzYTQzZDFmMWUzZGMpOwogICAgICAgIAogICAgCiAgICAgICAgdmFyIHBvcHVwXzdiYjY5NjRmN2ZhMTQzNDFiYWQ3ZWU1NmExM2EyNmI1ID0gTC5wb3B1cCh7Im1heFdpZHRoIjogIjEwMCUifSk7CgogICAgICAgIAogICAgICAgICAgICB2YXIgaHRtbF9hZjdjMWQxNjhmOGU0NjcwOWJkYzNiODE5NTlhZDUyNiA9ICQoYDxkaXYgaWQ9Imh0bWxfYWY3YzFkMTY4ZjhlNDY3MDliZGMzYjgxOTU5YWQ1MjYiIHN0eWxlPSJ3aWR0aDogMTAwLjAlOyBoZWlnaHQ6IDEwMC4wJTsiPkFpcnBvcnQ8L2Rpdj5gKVswXTsKICAgICAgICAgICAgcG9wdXBfN2JiNjk2NGY3ZmExNDM0MWJhZDdlZTU2YTEzYTI2YjUuc2V0Q29udGVudChodG1sX2FmN2MxZDE2OGY4ZTQ2NzA5YmRjM2I4MTk1OWFkNTI2KTsKICAgICAgICAKCiAgICAgICAgbWFya2VyXzk1ZDkwNDBlODAxYjQzZDFhMWU2NmY1ZmFlZmE4N2E1LmJpbmRQb3B1cChwb3B1cF83YmI2OTY0ZjdmYTE0MzQxYmFkN2VlNTZhMTNhMjZiNSkKICAgICAgICA7CgogICAgICAgIAogICAgCiAgICAKICAgICAgICAgICAgdmFyIG1hcmtlcl9mMzJlMjk2Y2U4YTU0M2E1OTA3MzJmNDdkMDNkMDZlYiA9IEwubWFya2VyKAogICAgICAgICAgICAgICAgWzI2LjQ3MTEwOTk5OTk5OTk5NiwgNDkuNzk3Nzc5OTk5OTk5OTk2XSwKICAgICAgICAgICAgICAgIHt9CiAgICAgICAgICAgICkuYWRkVG8obWFwX2ZkZmNhZGQzYWFmYzQwM2Q5ZGEwZjA3MjM1NDE3MzIzKTsKICAgICAgICAKICAgIAogICAgICAgICAgICB2YXIgaWNvbl8wNTUzZTIxYzA4YjE0MmYwOWRlNzQwNDk5ZmYxMWUyOCA9IEwuQXdlc29tZU1hcmtlcnMuaWNvbigKICAgICAgICAgICAgICAgIHsiZXh0cmFDbGFzc2VzIjogImZhLXJvdGF0ZS0wIiwgImljb24iOiAiaW5mby1zaWduIiwgImljb25Db2xvciI6ICJ3aGl0ZSIsICJtYXJrZXJDb2xvciI6ICJibHVlIiwgInByZWZpeCI6ICJnbHlwaGljb24ifQogICAgICAgICAgICApOwogICAgICAgICAgICBtYXJrZXJfZjMyZTI5NmNlOGE1NDNhNTkwNzMyZjQ3ZDAzZDA2ZWIuc2V0SWNvbihpY29uXzA1NTNlMjFjMDhiMTQyZjA5ZGU3NDA0OTlmZjExZTI4KTsKICAgICAgICAKICAgIAogICAgICAgIHZhciBwb3B1cF81OGMwNzQ4MzkzOTY0YThmYjc2MTQ4MzcwNjRiYTA3NSA9IEwucG9wdXAoeyJtYXhXaWR0aCI6ICIxMDAlIn0pOwoKICAgICAgICAKICAgICAgICAgICAgdmFyIGh0bWxfMGEwNTc4NGQ0ZDBkNDdiYjhmMDNiNDBiZGZiZWEzN2EgPSAkKGA8ZGl2IGlkPSJodG1sXzBhMDU3ODRkNGQwZDQ3YmI4ZjAzYjQwYmRmYmVhMzdhIiBzdHlsZT0id2lkdGg6IDEwMC4wJTsgaGVpZ2h0OiAxMDAuMCU7Ij5BaXJwb3J0PC9kaXY+YClbMF07CiAgICAgICAgICAgIHBvcHVwXzU4YzA3NDgzOTM5NjRhOGZiNzYxNDgzNzA2NGJhMDc1LnNldENvbnRlbnQoaHRtbF8wYTA1Nzg0ZDRkMGQ0N2JiOGYwM2I0MGJkZmJlYTM3YSk7CiAgICAgICAgCgogICAgICAgIG1hcmtlcl9mMzJlMjk2Y2U4YTU0M2E1OTA3MzJmNDdkMDNkMDZlYi5iaW5kUG9wdXAocG9wdXBfNThjMDc0ODM5Mzk2NGE4ZmI3NjE0ODM3MDY0YmEwNzUpCiAgICAgICAgOwoKICAgICAgICAKICAgIAogICAgCiAgICAgICAgICAgIHZhciBtYXJrZXJfMjM4YTQzMTc1MTVkNDE2Njk1NmQyZjk0NTI4ZjRhY2MgPSBMLm1hcmtlcigKICAgICAgICAgICAgICAgIFs0NS4zMjI1LCAtNzUuNjY5MTddLAogICAgICAgICAgICAgICAge30KICAgICAgICAgICAgKS5hZGRUbyhtYXBfZmRmY2FkZDNhYWZjNDAzZDlkYTBmMDcyMzU0MTczMjMpOwogICAgICAgIAogICAgCiAgICAgICAgICAgIHZhciBpY29uX2IzZjVkNzI4NTZkMzRmNGI4ZmE1NzkxM2EyNjBkYTU3ID0gTC5Bd2Vzb21lTWFya2Vycy5pY29uKAogICAgICAgICAgICAgICAgeyJleHRyYUNsYXNzZXMiOiAiZmEtcm90YXRlLTAiLCAiaWNvbiI6ICJpbmZvLXNpZ24iLCAiaWNvbkNvbG9yIjogIndoaXRlIiwgIm1hcmtlckNvbG9yIjogImJsdWUiLCAicHJlZml4IjogImdseXBoaWNvbiJ9CiAgICAgICAgICAgICk7CiAgICAgICAgICAgIG1hcmtlcl8yMzhhNDMxNzUxNWQ0MTY2OTU2ZDJmOTQ1MjhmNGFjYy5zZXRJY29uKGljb25fYjNmNWQ3Mjg1NmQzNGY0YjhmYTU3OTEzYTI2MGRhNTcpOwogICAgICAgIAogICAgCiAgICAgICAgdmFyIHBvcHVwXzM0MGMwYzQ0ODVhMDRhNGFiYjNmODY4NDZhMWIxNzM1ID0gTC5wb3B1cCh7Im1heFdpZHRoIjogIjEwMCUifSk7CgogICAgICAgIAogICAgICAgICAgICB2YXIgaHRtbF80YjE2MmY3ZDgyOWU0NmQ5YTU1OWY3YTBjZDliM2E2MSA9ICQoYDxkaXYgaWQ9Imh0bWxfNGIxNjJmN2Q4MjllNDZkOWE1NTlmN2EwY2Q5YjNhNjEiIHN0eWxlPSJ3aWR0aDogMTAwLjAlOyBoZWlnaHQ6IDEwMC4wJTsiPkFpcnBvcnQ8L2Rpdj5gKVswXTsKICAgICAgICAgICAgcG9wdXBfMzQwYzBjNDQ4NWEwNGE0YWJiM2Y4Njg0NmExYjE3MzUuc2V0Q29udGVudChodG1sXzRiMTYyZjdkODI5ZTQ2ZDlhNTU5ZjdhMGNkOWIzYTYxKTsKICAgICAgICAKCiAgICAgICAgbWFya2VyXzIzOGE0MzE3NTE1ZDQxNjY5NTZkMmY5NDUyOGY0YWNjLmJpbmRQb3B1cChwb3B1cF8zNDBjMGM0NDg1YTA0YTRhYmIzZjg2ODQ2YTFiMTczNSkKICAgICAgICA7CgogICAgICAgIAogICAgCiAgICAKICAgICAgICAgICAgdmFyIG1hcmtlcl81ZjhmNzZkMmMwNWM0ZGViYmNiZWUyODRkNDJmYzYzMiA9IEwubWFya2VyKAogICAgICAgICAgICAgICAgWzQxLjgwNDQ0LCAxMi4yNTA4M10sCiAgICAgICAgICAgICAgICB7fQogICAgICAgICAgICApLmFkZFRvKG1hcF9mZGZjYWRkM2FhZmM0MDNkOWRhMGYwNzIzNTQxNzMyMyk7CiAgICAgICAgCiAgICAKICAgICAgICAgICAgdmFyIGljb25fYTliZTZjYzExMjBkNDMzNGE5Y2YzZDg1MTViNzljNjggPSBMLkF3ZXNvbWVNYXJrZXJzLmljb24oCiAgICAgICAgICAgICAgICB7ImV4dHJhQ2xhc3NlcyI6ICJmYS1yb3RhdGUtMCIsICJpY29uIjogImluZm8tc2lnbiIsICJpY29uQ29sb3IiOiAid2hpdGUiLCAibWFya2VyQ29sb3IiOiAiYmx1ZSIsICJwcmVmaXgiOiAiZ2x5cGhpY29uIn0KICAgICAgICAgICAgKTsKICAgICAgICAgICAgbWFya2VyXzVmOGY3NmQyYzA1YzRkZWJiY2JlZTI4NGQ0MmZjNjMyLnNldEljb24oaWNvbl9hOWJlNmNjMTEyMGQ0MzM0YTljZjNkODUxNWI3OWM2OCk7CiAgICAgICAgCiAgICAKICAgICAgICB2YXIgcG9wdXBfZGE3MDBkZTU0N2U4NDYwMTk4ZDVlNDg4YjA1NGFjMGEgPSBMLnBvcHVwKHsibWF4V2lkdGgiOiAiMTAwJSJ9KTsKCiAgICAgICAgCiAgICAgICAgICAgIHZhciBodG1sXzIwMWFmNmZkNDgwMDQ0ZGQ4NjAwZTc1MTdkMjI5MTBmID0gJChgPGRpdiBpZD0iaHRtbF8yMDFhZjZmZDQ4MDA0NGRkODYwMGU3NTE3ZDIyOTEwZiIgc3R5bGU9IndpZHRoOiAxMDAuMCU7IGhlaWdodDogMTAwLjAlOyI+QWlycG9ydDwvZGl2PmApWzBdOwogICAgICAgICAgICBwb3B1cF9kYTcwMGRlNTQ3ZTg0NjAxOThkNWU0ODhiMDU0YWMwYS5zZXRDb250ZW50KGh0bWxfMjAxYWY2ZmQ0ODAwNDRkZDg2MDBlNzUxN2QyMjkxMGYpOwogICAgICAgIAoKICAgICAgICBtYXJrZXJfNWY4Zjc2ZDJjMDVjNGRlYmJjYmVlMjg0ZDQyZmM2MzIuYmluZFBvcHVwKHBvcHVwX2RhNzAwZGU1NDdlODQ2MDE5OGQ1ZTQ4OGIwNTRhYzBhKQogICAgICAgIDsKCiAgICAgICAgCiAgICAKICAgIAogICAgICAgICAgICB2YXIgbWFya2VyX2RhZDE3N2MyNDQ1ZjRlNzA4NGFkMzAzY2YxODlmNzM2ID0gTC5tYXJrZXIoCiAgICAgICAgICAgICAgICBbMzIuOCwgMTMwLjc2NjddLAogICAgICAgICAgICAgICAge30KICAgICAgICAgICAgKS5hZGRUbyhtYXBfZmRmY2FkZDNhYWZjNDAzZDlkYTBmMDcyMzU0MTczMjMpOwogICAgICAgIAogICAgCiAgICAgICAgICAgIHZhciBpY29uXzYwZDg0YWU2ZjRlMjRhOTJhNTk4NGQxZTU1Njg2MmNlID0gTC5Bd2Vzb21lTWFya2Vycy5pY29uKAogICAgICAgICAgICAgICAgeyJleHRyYUNsYXNzZXMiOiAiZmEtcm90YXRlLTAiLCAiaWNvbiI6ICJpbmZvLXNpZ24iLCAiaWNvbkNvbG9yIjogIndoaXRlIiwgIm1hcmtlckNvbG9yIjogImJsdWUiLCAicHJlZml4IjogImdseXBoaWNvbiJ9CiAgICAgICAgICAgICk7CiAgICAgICAgICAgIG1hcmtlcl9kYWQxNzdjMjQ0NWY0ZTcwODRhZDMwM2NmMTg5ZjczNi5zZXRJY29uKGljb25fNjBkODRhZTZmNGUyNGE5MmE1OTg0ZDFlNTU2ODYyY2UpOwogICAgICAgIAogICAgCiAgICAgICAgdmFyIHBvcHVwXzg4Zjg0NmQ1ODY1YzRmODI4NjRiMmE1MDQzZWQ1OWRiID0gTC5wb3B1cCh7Im1heFdpZHRoIjogIjEwMCUifSk7CgogICAgICAgIAogICAgICAgICAgICB2YXIgaHRtbF8yM2Y4ZGI5NzgzODk0YTAwYjhjMmY4Y2IxMDI1OGMzMSA9ICQoYDxkaXYgaWQ9Imh0bWxfMjNmOGRiOTc4Mzg5NGEwMGI4YzJmOGNiMTAyNThjMzEiIHN0eWxlPSJ3aWR0aDogMTAwLjAlOyBoZWlnaHQ6IDEwMC4wJTsiPkFpcnBvcnQ8L2Rpdj5gKVswXTsKICAgICAgICAgICAgcG9wdXBfODhmODQ2ZDU4NjVjNGY4Mjg2NGIyYTUwNDNlZDU5ZGIuc2V0Q29udGVudChodG1sXzIzZjhkYjk3ODM4OTRhMDBiOGMyZjhjYjEwMjU4YzMxKTsKICAgICAgICAKCiAgICAgICAgbWFya2VyX2RhZDE3N2MyNDQ1ZjRlNzA4NGFkMzAzY2YxODlmNzM2LmJpbmRQb3B1cChwb3B1cF84OGY4NDZkNTg2NWM0ZjgyODY0YjJhNTA0M2VkNTlkYikKICAgICAgICA7CgogICAgICAgIAogICAgCiAgICAKICAgICAgICAgICAgdmFyIG1hcmtlcl8yZGMzNDIxNzY5OWI0NWUwYjI5NWQ4MzgzZTFlOTIzOCA9IEwubWFya2VyKAogICAgICAgICAgICAgICAgWzMzLjg0NTU1LCAxMzEuMDM1XSwKICAgICAgICAgICAgICAgIHt9CiAgICAgICAgICAgICkuYWRkVG8obWFwX2ZkZmNhZGQzYWFmYzQwM2Q5ZGEwZjA3MjM1NDE3MzIzKTsKICAgICAgICAKICAgIAogICAgICAgICAgICB2YXIgaWNvbl80YWJjMzBjZmJlNzI0NWM2ODIxMmNiM2U4NzViODQwNyA9IEwuQXdlc29tZU1hcmtlcnMuaWNvbigKICAgICAgICAgICAgICAgIHsiZXh0cmFDbGFzc2VzIjogImZhLXJvdGF0ZS0wIiwgImljb24iOiAiaW5mby1zaWduIiwgImljb25Db2xvciI6ICJ3aGl0ZSIsICJtYXJrZXJDb2xvciI6ICJibHVlIiwgInByZWZpeCI6ICJnbHlwaGljb24ifQogICAgICAgICAgICApOwogICAgICAgICAgICBtYXJrZXJfMmRjMzQyMTc2OTliNDVlMGIyOTVkODM4M2UxZTkyMzguc2V0SWNvbihpY29uXzRhYmMzMGNmYmU3MjQ1YzY4MjEyY2IzZTg3NWI4NDA3KTsKICAgICAgICAKICAgIAogICAgICAgIHZhciBwb3B1cF9iNzNjNDVhYjhlZWU0M2Q1OGE5NTZjM2EwYjQyMzQ5MSA9IEwucG9wdXAoeyJtYXhXaWR0aCI6ICIxMDAlIn0pOwoKICAgICAgICAKICAgICAgICAgICAgdmFyIGh0bWxfYWVhOTkwYTg4YzQ5NDMzODhlYWQ2MGFmZTg1YzE1YjggPSAkKGA8ZGl2IGlkPSJodG1sX2FlYTk5MGE4OGM0OTQzMzg4ZWFkNjBhZmU4NWMxNWI4IiBzdHlsZT0id2lkdGg6IDEwMC4wJTsgaGVpZ2h0OiAxMDAuMCU7Ij5BaXJwb3J0PC9kaXY+YClbMF07CiAgICAgICAgICAgIHBvcHVwX2I3M2M0NWFiOGVlZTQzZDU4YTk1NmMzYTBiNDIzNDkxLnNldENvbnRlbnQoaHRtbF9hZWE5OTBhODhjNDk0MzM4OGVhZDYwYWZlODVjMTViOCk7CiAgICAgICAgCgogICAgICAgIG1hcmtlcl8yZGMzNDIxNzY5OWI0NWUwYjI5NWQ4MzgzZTFlOTIzOC5iaW5kUG9wdXAocG9wdXBfYjczYzQ1YWI4ZWVlNDNkNThhOTU2YzNhMGI0MjM0OTEpCiAgICAgICAgOwoKICAgICAgICAKICAgIAogICAgCiAgICAgICAgICAgIHZhciBtYXJrZXJfNmZmYTg5OGUzZmYwNGU1YWE5YTkwMWZiN2MzOGUxNTkgPSBMLm1hcmtlcigKICAgICAgICAgICAgICAgIFstMjAuNzE2NjcsIDExNi43NjY3XSwKICAgICAgICAgICAgICAgIHt9CiAgICAgICAgICAgICkuYWRkVG8obWFwX2ZkZmNhZGQzYWFmYzQwM2Q5ZGEwZjA3MjM1NDE3MzIzKTsKICAgICAgICAKICAgIAogICAgICAgICAgICB2YXIgaWNvbl80NTg5YTZmNzJlNWM0NzY3OGQ5YWZlMjlkNTIwNTg2YiA9IEwuQXdlc29tZU1hcmtlcnMuaWNvbigKICAgICAgICAgICAgICAgIHsiZXh0cmFDbGFzc2VzIjogImZhLXJvdGF0ZS0wIiwgImljb24iOiAiaW5mby1zaWduIiwgImljb25Db2xvciI6ICJ3aGl0ZSIsICJtYXJrZXJDb2xvciI6ICJibHVlIiwgInByZWZpeCI6ICJnbHlwaGljb24ifQogICAgICAgICAgICApOwogICAgICAgICAgICBtYXJrZXJfNmZmYTg5OGUzZmYwNGU1YWE5YTkwMWZiN2MzOGUxNTkuc2V0SWNvbihpY29uXzQ1ODlhNmY3MmU1YzQ3Njc4ZDlhZmUyOWQ1MjA1ODZiKTsKICAgICAgICAKICAgIAogICAgICAgIHZhciBwb3B1cF85MWEwZjcxMTJiYjA0YzAyODEzNzQzMWViMDQ5ZjM4MyA9IEwucG9wdXAoeyJtYXhXaWR0aCI6ICIxMDAlIn0pOwoKICAgICAgICAKICAgICAgICAgICAgdmFyIGh0bWxfYzRjYThmMTdiNDk1NDVmN2EyMGQyMTAwNDg1N2NkNTYgPSAkKGA8ZGl2IGlkPSJodG1sX2M0Y2E4ZjE3YjQ5NTQ1ZjdhMjBkMjEwMDQ4NTdjZDU2IiBzdHlsZT0id2lkdGg6IDEwMC4wJTsgaGVpZ2h0OiAxMDAuMCU7Ij5BaXJwb3J0PC9kaXY+YClbMF07CiAgICAgICAgICAgIHBvcHVwXzkxYTBmNzExMmJiMDRjMDI4MTM3NDMxZWIwNDlmMzgzLnNldENvbnRlbnQoaHRtbF9jNGNhOGYxN2I0OTU0NWY3YTIwZDIxMDA0ODU3Y2Q1Nik7CiAgICAgICAgCgogICAgICAgIG1hcmtlcl82ZmZhODk4ZTNmZjA0ZTVhYTlhOTAxZmI3YzM4ZTE1OS5iaW5kUG9wdXAocG9wdXBfOTFhMGY3MTEyYmIwNGMwMjgxMzc0MzFlYjA0OWYzODMpCiAgICAgICAgOwoKICAgICAgICAKICAgIAogICAgCiAgICAgICAgICAgIHZhciBtYXJrZXJfZTE2YzA2N2JhMmU0NGUzMTg1MjI4NTEwNjJkY2JkYjMgPSBMLm1hcmtlcigKICAgICAgICAgICAgICAgIFs4LjExMzMzMywgOTguMzE2OTRdLAogICAgICAgICAgICAgICAge30KICAgICAgICAgICAgKS5hZGRUbyhtYXBfZmRmY2FkZDNhYWZjNDAzZDlkYTBmMDcyMzU0MTczMjMpOwogICAgICAgIAogICAgCiAgICAgICAgICAgIHZhciBpY29uX2NjMmMyOWZjMGQ1NTRjNDA4MGMxZWM2OTkxZTE1NGI0ID0gTC5Bd2Vzb21lTWFya2Vycy5pY29uKAogICAgICAgICAgICAgICAgeyJleHRyYUNsYXNzZXMiOiAiZmEtcm90YXRlLTAiLCAiaWNvbiI6ICJpbmZvLXNpZ24iLCAiaWNvbkNvbG9yIjogIndoaXRlIiwgIm1hcmtlckNvbG9yIjogImJsdWUiLCAicHJlZml4IjogImdseXBoaWNvbiJ9CiAgICAgICAgICAgICk7CiAgICAgICAgICAgIG1hcmtlcl9lMTZjMDY3YmEyZTQ0ZTMxODUyMjg1MTA2MmRjYmRiMy5zZXRJY29uKGljb25fY2MyYzI5ZmMwZDU1NGM0MDgwYzFlYzY5OTFlMTU0YjQpOwogICAgICAgIAogICAgCiAgICAgICAgdmFyIHBvcHVwXzc4Yjk2MjIxZTYzMzQ1ZThiMTk5Y2U0NzdkMjljNzZjID0gTC5wb3B1cCh7Im1heFdpZHRoIjogIjEwMCUifSk7CgogICAgICAgIAogICAgICAgICAgICB2YXIgaHRtbF84M2FiYTg0NGRiNTA0YTVhYWY4NjUyZGY0NWZkYmVmNCA9ICQoYDxkaXYgaWQ9Imh0bWxfODNhYmE4NDRkYjUwNGE1YWFmODY1MmRmNDVmZGJlZjQiIHN0eWxlPSJ3aWR0aDogMTAwLjAlOyBoZWlnaHQ6IDEwMC4wJTsiPkFpcnBvcnQ8L2Rpdj5gKVswXTsKICAgICAgICAgICAgcG9wdXBfNzhiOTYyMjFlNjMzNDVlOGIxOTljZTQ3N2QyOWM3NmMuc2V0Q29udGVudChodG1sXzgzYWJhODQ0ZGI1MDRhNWFhZjg2NTJkZjQ1ZmRiZWY0KTsKICAgICAgICAKCiAgICAgICAgbWFya2VyX2UxNmMwNjdiYTJlNDRlMzE4NTIyODUxMDYyZGNiZGIzLmJpbmRQb3B1cChwb3B1cF83OGI5NjIyMWU2MzM0NWU4YjE5OWNlNDc3ZDI5Yzc2YykKICAgICAgICA7CgogICAgICAgIAogICAgCiAgICAKICAgICAgICAgICAgdmFyIG1hcmtlcl9jNDRlMTc3YzA3NDQ0MTJlYjY2OWUyNDQxNzFiMTJjYSA9IEwubWFya2VyKAogICAgICAgICAgICAgICAgWzMzLjYzNjY3LCAtODQuNDI4MDVdLAogICAgICAgICAgICAgICAge30KICAgICAgICAgICAgKS5hZGRUbyhtYXBfZmRmY2FkZDNhYWZjNDAzZDlkYTBmMDcyMzU0MTczMjMpOwogICAgICAgIAogICAgCiAgICAgICAgICAgIHZhciBpY29uXzExNTNkNDg1M2JmZjQ4MGU4NzA5OTFiNzAzNWExOGY0ID0gTC5Bd2Vzb21lTWFya2Vycy5pY29uKAogICAgICAgICAgICAgICAgeyJleHRyYUNsYXNzZXMiOiAiZmEtcm90YXRlLTAiLCAiaWNvbiI6ICJpbmZvLXNpZ24iLCAiaWNvbkNvbG9yIjogIndoaXRlIiwgIm1hcmtlckNvbG9yIjogImJsdWUiLCAicHJlZml4IjogImdseXBoaWNvbiJ9CiAgICAgICAgICAgICk7CiAgICAgICAgICAgIG1hcmtlcl9jNDRlMTc3YzA3NDQ0MTJlYjY2OWUyNDQxNzFiMTJjYS5zZXRJY29uKGljb25fMTE1M2Q0ODUzYmZmNDgwZTg3MDk5MWI3MDM1YTE4ZjQpOwogICAgICAgIAogICAgCiAgICAgICAgdmFyIHBvcHVwX2I0NDhiYmY4MzFjZTRjZGM4MTEwYzQxZjRiYzBmZGUzID0gTC5wb3B1cCh7Im1heFdpZHRoIjogIjEwMCUifSk7CgogICAgICAgIAogICAgICAgICAgICB2YXIgaHRtbF8xMmUzZjQ4MTVkNTQ0YTU4YjIzNzY2YTQwYjc4NmQ2NCA9ICQoYDxkaXYgaWQ9Imh0bWxfMTJlM2Y0ODE1ZDU0NGE1OGIyMzc2NmE0MGI3ODZkNjQiIHN0eWxlPSJ3aWR0aDogMTAwLjAlOyBoZWlnaHQ6IDEwMC4wJTsiPkFpcnBvcnQ8L2Rpdj5gKVswXTsKICAgICAgICAgICAgcG9wdXBfYjQ0OGJiZjgzMWNlNGNkYzgxMTBjNDFmNGJjMGZkZTMuc2V0Q29udGVudChodG1sXzEyZTNmNDgxNWQ1NDRhNThiMjM3NjZhNDBiNzg2ZDY0KTsKICAgICAgICAKCiAgICAgICAgbWFya2VyX2M0NGUxNzdjMDc0NDQxMmViNjY5ZTI0NDE3MWIxMmNhLmJpbmRQb3B1cChwb3B1cF9iNDQ4YmJmODMxY2U0Y2RjODExMGM0MWY0YmMwZmRlMykKICAgICAgICA7CgogICAgICAgIAogICAgCiAgICAKICAgICAgICAgICAgdmFyIG1hcmtlcl80NjdlZjFkOTJmNjg0MzUyYmZlY2IwNjg1NjgyZTQyOCA9IEwubWFya2VyKAogICAgICAgICAgICAgICAgWzQxLjQxNjY3LCAtODEuODVdLAogICAgICAgICAgICAgICAge30KICAgICAgICAgICAgKS5hZGRUbyhtYXBfZmRmY2FkZDNhYWZjNDAzZDlkYTBmMDcyMzU0MTczMjMpOwogICAgICAgIAogICAgCiAgICAgICAgICAgIHZhciBpY29uXzdhOWVlOWU3ZDEyZDQ2ZDM4OWM2MzkxNTc4ZmUzZWRhID0gTC5Bd2Vzb21lTWFya2Vycy5pY29uKAogICAgICAgICAgICAgICAgeyJleHRyYUNsYXNzZXMiOiAiZmEtcm90YXRlLTAiLCAiaWNvbiI6ICJpbmZvLXNpZ24iLCAiaWNvbkNvbG9yIjogIndoaXRlIiwgIm1hcmtlckNvbG9yIjogImJsdWUiLCAicHJlZml4IjogImdseXBoaWNvbiJ9CiAgICAgICAgICAgICk7CiAgICAgICAgICAgIG1hcmtlcl80NjdlZjFkOTJmNjg0MzUyYmZlY2IwNjg1NjgyZTQyOC5zZXRJY29uKGljb25fN2E5ZWU5ZTdkMTJkNDZkMzg5YzYzOTE1NzhmZTNlZGEpOwogICAgICAgIAogICAgCiAgICAgICAgdmFyIHBvcHVwXzMzZjEwNzJjYjRlYzQyMmNhZGM5Yzk3ODJlZGVkYTkyID0gTC5wb3B1cCh7Im1heFdpZHRoIjogIjEwMCUifSk7CgogICAgICAgIAogICAgICAgICAgICB2YXIgaHRtbF84NmI2MWYyOTA4MjE0NDE4YTFlM2M2ODNhYTE3ZWQ2YyA9ICQoYDxkaXYgaWQ9Imh0bWxfODZiNjFmMjkwODIxNDQxOGExZTNjNjgzYWExN2VkNmMiIHN0eWxlPSJ3aWR0aDogMTAwLjAlOyBoZWlnaHQ6IDEwMC4wJTsiPkFpcnBvcnQ8L2Rpdj5gKVswXTsKICAgICAgICAgICAgcG9wdXBfMzNmMTA3MmNiNGVjNDIyY2FkYzljOTc4MmVkZWRhOTIuc2V0Q29udGVudChodG1sXzg2YjYxZjI5MDgyMTQ0MThhMWUzYzY4M2FhMTdlZDZjKTsKICAgICAgICAKCiAgICAgICAgbWFya2VyXzQ2N2VmMWQ5MmY2ODQzNTJiZmVjYjA2ODU2ODJlNDI4LmJpbmRQb3B1cChwb3B1cF8zM2YxMDcyY2I0ZWM0MjJjYWRjOWM5NzgyZWRlZGE5MikKICAgICAgICA7CgogICAgICAgIAogICAgCiAgICAKICAgICAgICAgICAgdmFyIG1hcmtlcl8xNmM2ZGU1OTg3NzQ0MmFhYTk4MmE0ZDgzYjUyMDdjMiA9IEwubWFya2VyKAogICAgICAgICAgICAgICAgWzM2Ljk4MjIyLCAzNS4yODAyOF0sCiAgICAgICAgICAgICAgICB7fQogICAgICAgICAgICApLmFkZFRvKG1hcF9mZGZjYWRkM2FhZmM0MDNkOWRhMGYwNzIzNTQxNzMyMyk7CiAgICAgICAgCiAgICAKICAgICAgICAgICAgdmFyIGljb25fMTYxNWQxYzViNWYwNDFhNGI3Yjg5YTUyZTkwZGMwZTAgPSBMLkF3ZXNvbWVNYXJrZXJzLmljb24oCiAgICAgICAgICAgICAgICB7ImV4dHJhQ2xhc3NlcyI6ICJmYS1yb3RhdGUtMCIsICJpY29uIjogImluZm8tc2lnbiIsICJpY29uQ29sb3IiOiAid2hpdGUiLCAibWFya2VyQ29sb3IiOiAiYmx1ZSIsICJwcmVmaXgiOiAiZ2x5cGhpY29uIn0KICAgICAgICAgICAgKTsKICAgICAgICAgICAgbWFya2VyXzE2YzZkZTU5ODc3NDQyYWFhOTgyYTRkODNiNTIwN2MyLnNldEljb24oaWNvbl8xNjE1ZDFjNWI1ZjA0MWE0YjdiODlhNTJlOTBkYzBlMCk7CiAgICAgICAgCiAgICAKICAgICAgICB2YXIgcG9wdXBfN2UwOGI2MGZkNTJlNGY5ZWI4ZGRiNWEwYzQ5NTFlY2YgPSBMLnBvcHVwKHsibWF4V2lkdGgiOiAiMTAwJSJ9KTsKCiAgICAgICAgCiAgICAgICAgICAgIHZhciBodG1sXzQ5Y2UwNWJmOTVhODRiNTNiOTU1N2ZkM2I3ZDZjZjNhID0gJChgPGRpdiBpZD0iaHRtbF80OWNlMDViZjk1YTg0YjUzYjk1NTdmZDNiN2Q2Y2YzYSIgc3R5bGU9IndpZHRoOiAxMDAuMCU7IGhlaWdodDogMTAwLjAlOyI+QWlycG9ydDwvZGl2PmApWzBdOwogICAgICAgICAgICBwb3B1cF83ZTA4YjYwZmQ1MmU0ZjllYjhkZGI1YTBjNDk1MWVjZi5zZXRDb250ZW50KGh0bWxfNDljZTA1YmY5NWE4NGI1M2I5NTU3ZmQzYjdkNmNmM2EpOwogICAgICAgIAoKICAgICAgICBtYXJrZXJfMTZjNmRlNTk4Nzc0NDJhYWE5ODJhNGQ4M2I1MjA3YzIuYmluZFBvcHVwKHBvcHVwXzdlMDhiNjBmZDUyZTRmOWViOGRkYjVhMGM0OTUxZWNmKQogICAgICAgIDsKCiAgICAgICAgCiAgICAKICAgIAogICAgICAgICAgICB2YXIgbWFya2VyXzFhY2Q0ODM4MjE5NTQzMzg4Njg1M2ZlZWUwNjg3MDA1ID0gTC5tYXJrZXIoCiAgICAgICAgICAgICAgICBbNTEuNDY5NzIsIC0wLjQ1MTM4OTAwMDAwMDAwMDA0XSwKICAgICAgICAgICAgICAgIHt9CiAgICAgICAgICAgICkuYWRkVG8obWFwX2ZkZmNhZGQzYWFmYzQwM2Q5ZGEwZjA3MjM1NDE3MzIzKTsKICAgICAgICAKICAgIAogICAgICAgICAgICB2YXIgaWNvbl9lYWY3M2M5NWNiNmI0MmFkYTBmMzUxMTU5NjFjYzA4NSA9IEwuQXdlc29tZU1hcmtlcnMuaWNvbigKICAgICAgICAgICAgICAgIHsiZXh0cmFDbGFzc2VzIjogImZhLXJvdGF0ZS0wIiwgImljb24iOiAiaW5mby1zaWduIiwgImljb25Db2xvciI6ICJ3aGl0ZSIsICJtYXJrZXJDb2xvciI6ICJibHVlIiwgInByZWZpeCI6ICJnbHlwaGljb24ifQogICAgICAgICAgICApOwogICAgICAgICAgICBtYXJrZXJfMWFjZDQ4MzgyMTk1NDMzODg2ODUzZmVlZTA2ODcwMDUuc2V0SWNvbihpY29uX2VhZjczYzk1Y2I2YjQyYWRhMGYzNTExNTk2MWNjMDg1KTsKICAgICAgICAKICAgIAogICAgICAgIHZhciBwb3B1cF8wYzZlNTRiMzUwMmU0NDI1OTU1Mzg5NDc1ZjQ1ZjgyMCA9IEwucG9wdXAoeyJtYXhXaWR0aCI6ICIxMDAlIn0pOwoKICAgICAgICAKICAgICAgICAgICAgdmFyIGh0bWxfNzdhYWFjZjEyYWExNGFmYmIwZjAxZTNlY2ZkNDJmZjUgPSAkKGA8ZGl2IGlkPSJodG1sXzc3YWFhY2YxMmFhMTRhZmJiMGYwMWUzZWNmZDQyZmY1IiBzdHlsZT0id2lkdGg6IDEwMC4wJTsgaGVpZ2h0OiAxMDAuMCU7Ij5BaXJwb3J0PC9kaXY+YClbMF07CiAgICAgICAgICAgIHBvcHVwXzBjNmU1NGIzNTAyZTQ0MjU5NTUzODk0NzVmNDVmODIwLnNldENvbnRlbnQoaHRtbF83N2FhYWNmMTJhYTE0YWZiYjBmMDFlM2VjZmQ0MmZmNSk7CiAgICAgICAgCgogICAgICAgIG1hcmtlcl8xYWNkNDgzODIxOTU0MzM4ODY4NTNmZWVlMDY4NzAwNS5iaW5kUG9wdXAocG9wdXBfMGM2ZTU0YjM1MDJlNDQyNTk1NTM4OTQ3NWY0NWY4MjApCiAgICAgICAgOwoKICAgICAgICAKICAgIAogICAgCiAgICAgICAgICAgIHZhciBtYXJrZXJfMzRlOGZhOWRkNWNlNGUwMGI3ZWFkMDBiMjhkNzU3M2UgPSBMLm1hcmtlcigKICAgICAgICAgICAgICAgIFsyNC40MjA1NjAwMDAwMDAwMDIsIDExOC4zNDQ0XSwKICAgICAgICAgICAgICAgIHt9CiAgICAgICAgICAgICkuYWRkVG8obWFwX2ZkZmNhZGQzYWFmYzQwM2Q5ZGEwZjA3MjM1NDE3MzIzKTsKICAgICAgICAKICAgIAogICAgICAgICAgICB2YXIgaWNvbl83MTc0YTgxZDFkY2E0NDQ5YTZhZDdiZjJmMTE2ZGZkMyA9IEwuQXdlc29tZU1hcmtlcnMuaWNvbigKICAgICAgICAgICAgICAgIHsiZXh0cmFDbGFzc2VzIjogImZhLXJvdGF0ZS0wIiwgImljb24iOiAiaW5mby1zaWduIiwgImljb25Db2xvciI6ICJ3aGl0ZSIsICJtYXJrZXJDb2xvciI6ICJibHVlIiwgInByZWZpeCI6ICJnbHlwaGljb24ifQogICAgICAgICAgICApOwogICAgICAgICAgICBtYXJrZXJfMzRlOGZhOWRkNWNlNGUwMGI3ZWFkMDBiMjhkNzU3M2Uuc2V0SWNvbihpY29uXzcxNzRhODFkMWRjYTQ0NDlhNmFkN2JmMmYxMTZkZmQzKTsKICAgICAgICAKICAgIAogICAgICAgIHZhciBwb3B1cF8wMzQ5MTllZmY0NzE0MGYxOGMyYmEzOWQ1MWMzOThiNiA9IEwucG9wdXAoeyJtYXhXaWR0aCI6ICIxMDAlIn0pOwoKICAgICAgICAKICAgICAgICAgICAgdmFyIGh0bWxfMTEyMjIzNWY1Y2E5NDg5ZThmZGFlYzFkM2VhYzhiZDUgPSAkKGA8ZGl2IGlkPSJodG1sXzExMjIyMzVmNWNhOTQ4OWU4ZmRhZWMxZDNlYWM4YmQ1IiBzdHlsZT0id2lkdGg6IDEwMC4wJTsgaGVpZ2h0OiAxMDAuMCU7Ij5BaXJwb3J0PC9kaXY+YClbMF07CiAgICAgICAgICAgIHBvcHVwXzAzNDkxOWVmZjQ3MTQwZjE4YzJiYTM5ZDUxYzM5OGI2LnNldENvbnRlbnQoaHRtbF8xMTIyMjM1ZjVjYTk0ODllOGZkYWVjMWQzZWFjOGJkNSk7CiAgICAgICAgCgogICAgICAgIG1hcmtlcl8zNGU4ZmE5ZGQ1Y2U0ZTAwYjdlYWQwMGIyOGQ3NTczZS5iaW5kUG9wdXAocG9wdXBfMDM0OTE5ZWZmNDcxNDBmMThjMmJhMzlkNTFjMzk4YjYpCiAgICAgICAgOwoKICAgICAgICAKICAgIAogICAgCiAgICAgICAgICAgIHZhciBtYXJrZXJfOWU0MmNmMzRhNjY0NDRiZTk3ZWYxMzg0ZWVkNWJmODggPSBMLm1hcmtlcigKICAgICAgICAgICAgICAgIFs1MC4wMjYzOSwgOC41NDMwNTZdLAogICAgICAgICAgICAgICAge30KICAgICAgICAgICAgKS5hZGRUbyhtYXBfZmRmY2FkZDNhYWZjNDAzZDlkYTBmMDcyMzU0MTczMjMpOwogICAgICAgIAogICAgCiAgICAgICAgICAgIHZhciBpY29uXzQwYjAwNGVkYWU0NTQ0OTc5YTcxYTBkOWMyODJhNDQwID0gTC5Bd2Vzb21lTWFya2Vycy5pY29uKAogICAgICAgICAgICAgICAgeyJleHRyYUNsYXNzZXMiOiAiZmEtcm90YXRlLTAiLCAiaWNvbiI6ICJpbmZvLXNpZ24iLCAiaWNvbkNvbG9yIjogIndoaXRlIiwgIm1hcmtlckNvbG9yIjogImJsdWUiLCAicHJlZml4IjogImdseXBoaWNvbiJ9CiAgICAgICAgICAgICk7CiAgICAgICAgICAgIG1hcmtlcl85ZTQyY2YzNGE2NjQ0NGJlOTdlZjEzODRlZWQ1YmY4OC5zZXRJY29uKGljb25fNDBiMDA0ZWRhZTQ1NDQ5NzlhNzFhMGQ5YzI4MmE0NDApOwogICAgICAgIAogICAgCiAgICAgICAgdmFyIHBvcHVwX2YxM2Y3NmRmYWJmNzRmMTFiMzBjODg2NTMyNzE3ODI1ID0gTC5wb3B1cCh7Im1heFdpZHRoIjogIjEwMCUifSk7CgogICAgICAgIAogICAgICAgICAgICB2YXIgaHRtbF9lY2I4MTA4ZjdkN2I0OGQ5YmMzODc1YjgyOGJiZWM4YSA9ICQoYDxkaXYgaWQ9Imh0bWxfZWNiODEwOGY3ZDdiNDhkOWJjMzg3NWI4MjhiYmVjOGEiIHN0eWxlPSJ3aWR0aDogMTAwLjAlOyBoZWlnaHQ6IDEwMC4wJTsiPkFpcnBvcnQ8L2Rpdj5gKVswXTsKICAgICAgICAgICAgcG9wdXBfZjEzZjc2ZGZhYmY3NGYxMWIzMGM4ODY1MzI3MTc4MjUuc2V0Q29udGVudChodG1sX2VjYjgxMDhmN2Q3YjQ4ZDliYzM4NzViODI4YmJlYzhhKTsKICAgICAgICAKCiAgICAgICAgbWFya2VyXzllNDJjZjM0YTY2NDQ0YmU5N2VmMTM4NGVlZDViZjg4LmJpbmRQb3B1cChwb3B1cF9mMTNmNzZkZmFiZjc0ZjExYjMwYzg4NjUzMjcxNzgyNSkKICAgICAgICA7CgogICAgICAgIAogICAgCiAgICAKICAgICAgICAgICAgdmFyIG1hcmtlcl9mZDFjM2VkMDNkNjk0MjY3OThhYWM1ZTU0NjUyZGM1ZiA9IEwubWFya2VyKAogICAgICAgICAgICAgICAgWy0xOS42MzM2MSwgLTQzLjk2ODg5XSwKICAgICAgICAgICAgICAgIHt9CiAgICAgICAgICAgICkuYWRkVG8obWFwX2ZkZmNhZGQzYWFmYzQwM2Q5ZGEwZjA3MjM1NDE3MzIzKTsKICAgICAgICAKICAgIAogICAgICAgICAgICB2YXIgaWNvbl82OTI5YTQxMjIxMTY0ZWQyYTMxY2U4NjVhM2MwYmQ4YSA9IEwuQXdlc29tZU1hcmtlcnMuaWNvbigKICAgICAgICAgICAgICAgIHsiZXh0cmFDbGFzc2VzIjogImZhLXJvdGF0ZS0wIiwgImljb24iOiAiaW5mby1zaWduIiwgImljb25Db2xvciI6ICJ3aGl0ZSIsICJtYXJrZXJDb2xvciI6ICJibHVlIiwgInByZWZpeCI6ICJnbHlwaGljb24ifQogICAgICAgICAgICApOwogICAgICAgICAgICBtYXJrZXJfZmQxYzNlZDAzZDY5NDI2Nzk4YWFjNWU1NDY1MmRjNWYuc2V0SWNvbihpY29uXzY5MjlhNDEyMjExNjRlZDJhMzFjZTg2NWEzYzBiZDhhKTsKICAgICAgICAKICAgIAogICAgICAgIHZhciBwb3B1cF9mNTIwZmIxNzZjOWI0YWUwYTgyNjVhOTVkMzM2ZDE2NiA9IEwucG9wdXAoeyJtYXhXaWR0aCI6ICIxMDAlIn0pOwoKICAgICAgICAKICAgICAgICAgICAgdmFyIGh0bWxfZTg0MjY3YmQ1OTZhNGE1YTk2MDU1YzUzZDRjNmFiMGYgPSAkKGA8ZGl2IGlkPSJodG1sX2U4NDI2N2JkNTk2YTRhNWE5NjA1NWM1M2Q0YzZhYjBmIiBzdHlsZT0id2lkdGg6IDEwMC4wJTsgaGVpZ2h0OiAxMDAuMCU7Ij5BaXJwb3J0PC9kaXY+YClbMF07CiAgICAgICAgICAgIHBvcHVwX2Y1MjBmYjE3NmM5YjRhZTBhODI2NWE5NWQzMzZkMTY2LnNldENvbnRlbnQoaHRtbF9lODQyNjdiZDU5NmE0YTVhOTYwNTVjNTNkNGM2YWIwZik7CiAgICAgICAgCgogICAgICAgIG1hcmtlcl9mZDFjM2VkMDNkNjk0MjY3OThhYWM1ZTU0NjUyZGM1Zi5iaW5kUG9wdXAocG9wdXBfZjUyMGZiMTc2YzliNGFlMGE4MjY1YTk1ZDMzNmQxNjYpCiAgICAgICAgOwoKICAgICAgICAKICAgIAogICAgCiAgICAgICAgICAgIHZhciBtYXJrZXJfMTFiNDlmZGQyNTliNDQ2ZmFlZGRjYzkyZTQ0MmJlMDcgPSBMLm1hcmtlcigKICAgICAgICAgICAgICAgIFsyNi4wLCA1MC41XSwKICAgICAgICAgICAgICAgIHt9CiAgICAgICAgICAgICkuYWRkVG8obWFwX2ZkZmNhZGQzYWFmYzQwM2Q5ZGEwZjA3MjM1NDE3MzIzKTsKICAgICAgICAKICAgIAogICAgICAgICAgICB2YXIgaWNvbl80MjgwYzI3M2VhZmQ0N2JlYTAyNGJkMDU2MzE0YzlhYyA9IEwuQXdlc29tZU1hcmtlcnMuaWNvbigKICAgICAgICAgICAgICAgIHsiZXh0cmFDbGFzc2VzIjogImZhLXJvdGF0ZS0wIiwgImljb24iOiAiaW5mby1zaWduIiwgImljb25Db2xvciI6ICJ3aGl0ZSIsICJtYXJrZXJDb2xvciI6ICJibHVlIiwgInByZWZpeCI6ICJnbHlwaGljb24ifQogICAgICAgICAgICApOwogICAgICAgICAgICBtYXJrZXJfMTFiNDlmZGQyNTliNDQ2ZmFlZGRjYzkyZTQ0MmJlMDcuc2V0SWNvbihpY29uXzQyODBjMjczZWFmZDQ3YmVhMDI0YmQwNTYzMTRjOWFjKTsKICAgICAgICAKICAgIAogICAgICAgIHZhciBwb3B1cF84YjMxMDcyNjE4OGU0NDdmYTQ2MDFhMTE3MzZkMTRiNyA9IEwucG9wdXAoeyJtYXhXaWR0aCI6ICIxMDAlIn0pOwoKICAgICAgICAKICAgICAgICAgICAgdmFyIGh0bWxfOTE1ZGUwN2UzYTdiNGQyOTk1MzkyNDA3ZjkzNTU5ZDkgPSAkKGA8ZGl2IGlkPSJodG1sXzkxNWRlMDdlM2E3YjRkMjk5NTM5MjQwN2Y5MzU1OWQ5IiBzdHlsZT0id2lkdGg6IDEwMC4wJTsgaGVpZ2h0OiAxMDAuMCU7Ij5BaXJwb3J0PC9kaXY+YClbMF07CiAgICAgICAgICAgIHBvcHVwXzhiMzEwNzI2MTg4ZTQ0N2ZhNDYwMWExMTczNmQxNGI3LnNldENvbnRlbnQoaHRtbF85MTVkZTA3ZTNhN2I0ZDI5OTUzOTI0MDdmOTM1NTlkOSk7CiAgICAgICAgCgogICAgICAgIG1hcmtlcl8xMWI0OWZkZDI1OWI0NDZmYWVkZGNjOTJlNDQyYmUwNy5iaW5kUG9wdXAocG9wdXBfOGIzMTA3MjYxODhlNDQ3ZmE0NjAxYTExNzM2ZDE0YjcpCiAgICAgICAgOwoKICAgICAgICAKICAgIAogICAgCiAgICAgICAgICAgIHZhciBtYXJrZXJfY2ExNzhkYWRjOTFhNGI1MzkxYjc1YWIxMTY3NDRhZTcgPSBMLm1hcmtlcigKICAgICAgICAgICAgICAgIFs1LjE1LCA3My4xM10sCiAgICAgICAgICAgICAgICB7fQogICAgICAgICAgICApLmFkZFRvKG1hcF9mZGZjYWRkM2FhZmM0MDNkOWRhMGYwNzIzNTQxNzMyMyk7CiAgICAgICAgCiAgICAKICAgICAgICAgICAgdmFyIGljb25fYWIxMzliZjA5YmI1NDIzZGE2YzAxZjNhNGRiNjYzZmQgPSBMLkF3ZXNvbWVNYXJrZXJzLmljb24oCiAgICAgICAgICAgICAgICB7ImV4dHJhQ2xhc3NlcyI6ICJmYS1yb3RhdGUtMCIsICJpY29uIjogImluZm8tc2lnbiIsICJpY29uQ29sb3IiOiAid2hpdGUiLCAibWFya2VyQ29sb3IiOiAiYmx1ZSIsICJwcmVmaXgiOiAiZ2x5cGhpY29uIn0KICAgICAgICAgICAgKTsKICAgICAgICAgICAgbWFya2VyX2NhMTc4ZGFkYzkxYTRiNTM5MWI3NWFiMTE2NzQ0YWU3LnNldEljb24oaWNvbl9hYjEzOWJmMDliYjU0MjNkYTZjMDFmM2E0ZGI2NjNmZCk7CiAgICAgICAgCiAgICAKICAgICAgICB2YXIgcG9wdXBfNmY0YWRhNjFlMDJmNDA5ZmFjZDc0Mzk1M2JiMGMzZDUgPSBMLnBvcHVwKHsibWF4V2lkdGgiOiAiMTAwJSJ9KTsKCiAgICAgICAgCiAgICAgICAgICAgIHZhciBodG1sXzhhMTUyYjhjNjJjNjQ2MDA5NzU0ZjcyZmE0YTM5OWViID0gJChgPGRpdiBpZD0iaHRtbF84YTE1MmI4YzYyYzY0NjAwOTc1NGY3MmZhNGEzOTllYiIgc3R5bGU9IndpZHRoOiAxMDAuMCU7IGhlaWdodDogMTAwLjAlOyI+QWlycG9ydDwvZGl2PmApWzBdOwogICAgICAgICAgICBwb3B1cF82ZjRhZGE2MWUwMmY0MDlmYWNkNzQzOTUzYmIwYzNkNS5zZXRDb250ZW50KGh0bWxfOGExNTJiOGM2MmM2NDYwMDk3NTRmNzJmYTRhMzk5ZWIpOwogICAgICAgIAoKICAgICAgICBtYXJrZXJfY2ExNzhkYWRjOTFhNGI1MzkxYjc1YWIxMTY3NDRhZTcuYmluZFBvcHVwKHBvcHVwXzZmNGFkYTYxZTAyZjQwOWZhY2Q3NDM5NTNiYjBjM2Q1KQogICAgICAgIDsKCiAgICAgICAgCiAgICAKICAgIAogICAgICAgICAgICB2YXIgbWFya2VyXzk1MjFiNzM1ODYxZjQ0NmE4ZThjYTEzZjFmOTMxYWUzID0gTC5tYXJrZXIoCiAgICAgICAgICAgICAgICBbLTcuMzc5NzIyLCAxMTIuNzg2OV0sCiAgICAgICAgICAgICAgICB7fQogICAgICAgICAgICApLmFkZFRvKG1hcF9mZGZjYWRkM2FhZmM0MDNkOWRhMGYwNzIzNTQxNzMyMyk7CiAgICAgICAgCiAgICAKICAgICAgICAgICAgdmFyIGljb25fYjQzZTIxN2E0NDc3NDJkN2IxOTRmNjYyYzgzOTE3ODIgPSBMLkF3ZXNvbWVNYXJrZXJzLmljb24oCiAgICAgICAgICAgICAgICB7ImV4dHJhQ2xhc3NlcyI6ICJmYS1yb3RhdGUtMCIsICJpY29uIjogImluZm8tc2lnbiIsICJpY29uQ29sb3IiOiAid2hpdGUiLCAibWFya2VyQ29sb3IiOiAiYmx1ZSIsICJwcmVmaXgiOiAiZ2x5cGhpY29uIn0KICAgICAgICAgICAgKTsKICAgICAgICAgICAgbWFya2VyXzk1MjFiNzM1ODYxZjQ0NmE4ZThjYTEzZjFmOTMxYWUzLnNldEljb24oaWNvbl9iNDNlMjE3YTQ0Nzc0MmQ3YjE5NGY2NjJjODM5MTc4Mik7CiAgICAgICAgCiAgICAKICAgICAgICB2YXIgcG9wdXBfZTI1YjgyODhmYWRkNDQ0OTgxMDYzNDRmNWYwYWE5MjMgPSBMLnBvcHVwKHsibWF4V2lkdGgiOiAiMTAwJSJ9KTsKCiAgICAgICAgCiAgICAgICAgICAgIHZhciBodG1sXzlhNjEwZGMzMDFjMzQ4ZDE5OThiMDUzZDgzYTM0YWZiID0gJChgPGRpdiBpZD0iaHRtbF85YTYxMGRjMzAxYzM0OGQxOTk4YjA1M2Q4M2EzNGFmYiIgc3R5bGU9IndpZHRoOiAxMDAuMCU7IGhlaWdodDogMTAwLjAlOyI+QWlycG9ydDwvZGl2PmApWzBdOwogICAgICAgICAgICBwb3B1cF9lMjViODI4OGZhZGQ0NDQ5ODEwNjM0NGY1ZjBhYTkyMy5zZXRDb250ZW50KGh0bWxfOWE2MTBkYzMwMWMzNDhkMTk5OGIwNTNkODNhMzRhZmIpOwogICAgICAgIAoKICAgICAgICBtYXJrZXJfOTUyMWI3MzU4NjFmNDQ2YThlOGNhMTNmMWY5MzFhZTMuYmluZFBvcHVwKHBvcHVwX2UyNWI4Mjg4ZmFkZDQ0NDk4MTA2MzQ0ZjVmMGFhOTIzKQogICAgICAgIDsKCiAgICAgICAgCiAgICAKICAgIAogICAgICAgICAgICB2YXIgbWFya2VyX2ZmNzk3MjRmYTBmNjRjNWI4MzBmMjgzZWU2MzA4ZTY2ID0gTC5tYXJrZXIoCiAgICAgICAgICAgICAgICBbMzguNzQ4NjEsIC05MC4zN10sCiAgICAgICAgICAgICAgICB7fQogICAgICAgICAgICApLmFkZFRvKG1hcF9mZGZjYWRkM2FhZmM0MDNkOWRhMGYwNzIzNTQxNzMyMyk7CiAgICAgICAgCiAgICAKICAgICAgICAgICAgdmFyIGljb25fYTIwOTlhZjM1ZTJhNGVkMTgwZmIzMDlmZGQ1MjI5YjcgPSBMLkF3ZXNvbWVNYXJrZXJzLmljb24oCiAgICAgICAgICAgICAgICB7ImV4dHJhQ2xhc3NlcyI6ICJmYS1yb3RhdGUtMCIsICJpY29uIjogImluZm8tc2lnbiIsICJpY29uQ29sb3IiOiAid2hpdGUiLCAibWFya2VyQ29sb3IiOiAiYmx1ZSIsICJwcmVmaXgiOiAiZ2x5cGhpY29uIn0KICAgICAgICAgICAgKTsKICAgICAgICAgICAgbWFya2VyX2ZmNzk3MjRmYTBmNjRjNWI4MzBmMjgzZWU2MzA4ZTY2LnNldEljb24oaWNvbl9hMjA5OWFmMzVlMmE0ZWQxODBmYjMwOWZkZDUyMjliNyk7CiAgICAgICAgCiAgICAKICAgICAgICB2YXIgcG9wdXBfZWZmODlhZDdiZmNhNGJmMzg0YjlhYzU2MjU3Mzg5OWEgPSBMLnBvcHVwKHsibWF4V2lkdGgiOiAiMTAwJSJ9KTsKCiAgICAgICAgCiAgICAgICAgICAgIHZhciBodG1sXzlkNzNkYmZmMzdmZDQwYThhN2YxMTM0ZDY1NWY2NTE3ID0gJChgPGRpdiBpZD0iaHRtbF85ZDczZGJmZjM3ZmQ0MGE4YTdmMTEzNGQ2NTVmNjUxNyIgc3R5bGU9IndpZHRoOiAxMDAuMCU7IGhlaWdodDogMTAwLjAlOyI+QWlycG9ydDwvZGl2PmApWzBdOwogICAgICAgICAgICBwb3B1cF9lZmY4OWFkN2JmY2E0YmYzODRiOWFjNTYyNTczODk5YS5zZXRDb250ZW50KGh0bWxfOWQ3M2RiZmYzN2ZkNDBhOGE3ZjExMzRkNjU1ZjY1MTcpOwogICAgICAgIAoKICAgICAgICBtYXJrZXJfZmY3OTcyNGZhMGY2NGM1YjgzMGYyODNlZTYzMDhlNjYuYmluZFBvcHVwKHBvcHVwX2VmZjg5YWQ3YmZjYTRiZjM4NGI5YWM1NjI1NzM4OTlhKQogICAgICAgIDsKCiAgICAgICAgCiAgICAKICAgIAogICAgICAgICAgICB2YXIgbWFya2VyX2U3OWM4MTZiZmQxMTQ2ZTliYWIyMDZkZjkzZWY3ZDlkID0gTC5tYXJrZXIoCiAgICAgICAgICAgICAgICBbNi4zMjk3MjIsIDk5LjcyODYxXSwKICAgICAgICAgICAgICAgIHt9CiAgICAgICAgICAgICkuYWRkVG8obWFwX2ZkZmNhZGQzYWFmYzQwM2Q5ZGEwZjA3MjM1NDE3MzIzKTsKICAgICAgICAKICAgIAogICAgICAgICAgICB2YXIgaWNvbl84Y2VkMTgxNWY2M2M0ZDE1ODI3M2U2MjI2Yzc3NTkyOCA9IEwuQXdlc29tZU1hcmtlcnMuaWNvbigKICAgICAgICAgICAgICAgIHsiZXh0cmFDbGFzc2VzIjogImZhLXJvdGF0ZS0wIiwgImljb24iOiAiaW5mby1zaWduIiwgImljb25Db2xvciI6ICJ3aGl0ZSIsICJtYXJrZXJDb2xvciI6ICJibHVlIiwgInByZWZpeCI6ICJnbHlwaGljb24ifQogICAgICAgICAgICApOwogICAgICAgICAgICBtYXJrZXJfZTc5YzgxNmJmZDExNDZlOWJhYjIwNmRmOTNlZjdkOWQuc2V0SWNvbihpY29uXzhjZWQxODE1ZjYzYzRkMTU4MjczZTYyMjZjNzc1OTI4KTsKICAgICAgICAKICAgIAogICAgICAgIHZhciBwb3B1cF8xYjY0NDg4OGI1Mjk0ODYxODk0NDJhNzA3OTZhYTRhMCA9IEwucG9wdXAoeyJtYXhXaWR0aCI6ICIxMDAlIn0pOwoKICAgICAgICAKICAgICAgICAgICAgdmFyIGh0bWxfODU1YmZmNjU3ZTUxNGJkZjg0NWE0YzdkZThlNjFkNzcgPSAkKGA8ZGl2IGlkPSJodG1sXzg1NWJmZjY1N2U1MTRiZGY4NDVhNGM3ZGU4ZTYxZDc3IiBzdHlsZT0id2lkdGg6IDEwMC4wJTsgaGVpZ2h0OiAxMDAuMCU7Ij5BaXJwb3J0PC9kaXY+YClbMF07CiAgICAgICAgICAgIHBvcHVwXzFiNjQ0ODg4YjUyOTQ4NjE4OTQ0MmE3MDc5NmFhNGEwLnNldENvbnRlbnQoaHRtbF84NTViZmY2NTdlNTE0YmRmODQ1YTRjN2RlOGU2MWQ3Nyk7CiAgICAgICAgCgogICAgICAgIG1hcmtlcl9lNzljODE2YmZkMTE0NmU5YmFiMjA2ZGY5M2VmN2Q5ZC5iaW5kUG9wdXAocG9wdXBfMWI2NDQ4ODhiNTI5NDg2MTg5NDQyYTcwNzk2YWE0YTApCiAgICAgICAgOwoKICAgICAgICAKICAgIAogICAgCiAgICAgICAgICAgIHZhciBtYXJrZXJfYjU0YzQyOWFmZmE1NDFhMWJlYWJhZWI2ZjNiOWQ0M2QgPSBMLm1hcmtlcigKICAgICAgICAgICAgICAgIFszOC43ODEzOSwgLTkuMTM1ODMzXSwKICAgICAgICAgICAgICAgIHt9CiAgICAgICAgICAgICkuYWRkVG8obWFwX2ZkZmNhZGQzYWFmYzQwM2Q5ZGEwZjA3MjM1NDE3MzIzKTsKICAgICAgICAKICAgIAogICAgICAgICAgICB2YXIgaWNvbl81M2EyZDMxNTczMTk0Njk3YjY5NmNkM2YzMTZiYzY3YiA9IEwuQXdlc29tZU1hcmtlcnMuaWNvbigKICAgICAgICAgICAgICAgIHsiZXh0cmFDbGFzc2VzIjogImZhLXJvdGF0ZS0wIiwgImljb24iOiAiaW5mby1zaWduIiwgImljb25Db2xvciI6ICJ3aGl0ZSIsICJtYXJrZXJDb2xvciI6ICJibHVlIiwgInByZWZpeCI6ICJnbHlwaGljb24ifQogICAgICAgICAgICApOwogICAgICAgICAgICBtYXJrZXJfYjU0YzQyOWFmZmE1NDFhMWJlYWJhZWI2ZjNiOWQ0M2Quc2V0SWNvbihpY29uXzUzYTJkMzE1NzMxOTQ2OTdiNjk2Y2QzZjMxNmJjNjdiKTsKICAgICAgICAKICAgIAogICAgICAgIHZhciBwb3B1cF80ZmYwY2UyMDYyMDg0ZGI4ODRiM2QyMWY5MzU1ZDNmNSA9IEwucG9wdXAoeyJtYXhXaWR0aCI6ICIxMDAlIn0pOwoKICAgICAgICAKICAgICAgICAgICAgdmFyIGh0bWxfZjA2OWFlYzQ2ZDdhNGUwYmI1YjdlN2RiZjBmOGRjMzAgPSAkKGA8ZGl2IGlkPSJodG1sX2YwNjlhZWM0NmQ3YTRlMGJiNWI3ZTdkYmYwZjhkYzMwIiBzdHlsZT0id2lkdGg6IDEwMC4wJTsgaGVpZ2h0OiAxMDAuMCU7Ij5BaXJwb3J0PC9kaXY+YClbMF07CiAgICAgICAgICAgIHBvcHVwXzRmZjBjZTIwNjIwODRkYjg4NGIzZDIxZjkzNTVkM2Y1LnNldENvbnRlbnQoaHRtbF9mMDY5YWVjNDZkN2E0ZTBiYjViN2U3ZGJmMGY4ZGMzMCk7CiAgICAgICAgCgogICAgICAgIG1hcmtlcl9iNTRjNDI5YWZmYTU0MWExYmVhYmFlYjZmM2I5ZDQzZC5iaW5kUG9wdXAocG9wdXBfNGZmMGNlMjA2MjA4NGRiODg0YjNkMjFmOTM1NWQzZjUpCiAgICAgICAgOwoKICAgICAgICAKICAgIAogICAgCiAgICAgICAgICAgIHZhciBtYXJrZXJfNjYxODNmOGJmOTQzNDRlNGJkMTdiMDMxYjRiZmJlN2YgPSBMLm1hcmtlcigKICAgICAgICAgICAgICAgIFszMS4xNDMzMywgMTIxLjgwNTNdLAogICAgICAgICAgICAgICAge30KICAgICAgICAgICAgKS5hZGRUbyhtYXBfZmRmY2FkZDNhYWZjNDAzZDlkYTBmMDcyMzU0MTczMjMpOwogICAgICAgIAogICAgCiAgICAgICAgICAgIHZhciBpY29uXzEzYzc3ODk1ZGUzMzRmOGY4NDYwNDczYzVhYTRmZTJhID0gTC5Bd2Vzb21lTWFya2Vycy5pY29uKAogICAgICAgICAgICAgICAgeyJleHRyYUNsYXNzZXMiOiAiZmEtcm90YXRlLTAiLCAiaWNvbiI6ICJpbmZvLXNpZ24iLCAiaWNvbkNvbG9yIjogIndoaXRlIiwgIm1hcmtlckNvbG9yIjogImJsdWUiLCAicHJlZml4IjogImdseXBoaWNvbiJ9CiAgICAgICAgICAgICk7CiAgICAgICAgICAgIG1hcmtlcl82NjE4M2Y4YmY5NDM0NGU0YmQxN2IwMzFiNGJmYmU3Zi5zZXRJY29uKGljb25fMTNjNzc4OTVkZTMzNGY4Zjg0NjA0NzNjNWFhNGZlMmEpOwogICAgICAgIAogICAgCiAgICAgICAgdmFyIHBvcHVwXzY5NTEyYTZiNGJkMzQwMDU5YWY1ZmRhMDRiOWExOGE3ID0gTC5wb3B1cCh7Im1heFdpZHRoIjogIjEwMCUifSk7CgogICAgICAgIAogICAgICAgICAgICB2YXIgaHRtbF8yNmRlYzI5MGExZTQ0NjY0ODg2MTIzYTk1MjI0YjkzYSA9ICQoYDxkaXYgaWQ9Imh0bWxfMjZkZWMyOTBhMWU0NDY2NDg4NjEyM2E5NTIyNGI5M2EiIHN0eWxlPSJ3aWR0aDogMTAwLjAlOyBoZWlnaHQ6IDEwMC4wJTsiPkFpcnBvcnQ8L2Rpdj5gKVswXTsKICAgICAgICAgICAgcG9wdXBfNjk1MTJhNmI0YmQzNDAwNTlhZjVmZGEwNGI5YTE4YTcuc2V0Q29udGVudChodG1sXzI2ZGVjMjkwYTFlNDQ2NjQ4ODYxMjNhOTUyMjRiOTNhKTsKICAgICAgICAKCiAgICAgICAgbWFya2VyXzY2MTgzZjhiZjk0MzQ0ZTRiZDE3YjAzMWI0YmZiZTdmLmJpbmRQb3B1cChwb3B1cF82OTUxMmE2YjRiZDM0MDA1OWFmNWZkYTA0YjlhMThhNykKICAgICAgICA7CgogICAgICAgIAogICAgCiAgICAKICAgICAgICAgICAgdmFyIG1hcmtlcl84MzUyM2RiMzQ3NmI0OWE2YjY4OGY4Y2UwZjdiYzcxNCA9IEwubWFya2VyKAogICAgICAgICAgICAgICAgWzMxLjIsIDEyMS4zNDExXSwKICAgICAgICAgICAgICAgIHt9CiAgICAgICAgICAgICkuYWRkVG8obWFwX2ZkZmNhZGQzYWFmYzQwM2Q5ZGEwZjA3MjM1NDE3MzIzKTsKICAgICAgICAKICAgIAogICAgICAgICAgICB2YXIgaWNvbl81ZjI2NzJjYWJjYzU0N2UwYTg2YzdhYjU0MDUwNjA4YyA9IEwuQXdlc29tZU1hcmtlcnMuaWNvbigKICAgICAgICAgICAgICAgIHsiZXh0cmFDbGFzc2VzIjogImZhLXJvdGF0ZS0wIiwgImljb24iOiAiaW5mby1zaWduIiwgImljb25Db2xvciI6ICJ3aGl0ZSIsICJtYXJrZXJDb2xvciI6ICJibHVlIiwgInByZWZpeCI6ICJnbHlwaGljb24ifQogICAgICAgICAgICApOwogICAgICAgICAgICBtYXJrZXJfODM1MjNkYjM0NzZiNDlhNmI2ODhmOGNlMGY3YmM3MTQuc2V0SWNvbihpY29uXzVmMjY3MmNhYmNjNTQ3ZTBhODZjN2FiNTQwNTA2MDhjKTsKICAgICAgICAKICAgIAogICAgICAgIHZhciBwb3B1cF9lOTJiOGViZTVmZWE0ZDE0ODZhZWM0ZDQzNTVhYWQ3NyA9IEwucG9wdXAoeyJtYXhXaWR0aCI6ICIxMDAlIn0pOwoKICAgICAgICAKICAgICAgICAgICAgdmFyIGh0bWxfOGMwN2MwYjkzOWFhNDNiZGFhYTk0ZDQ2YjI5YTMzZWIgPSAkKGA8ZGl2IGlkPSJodG1sXzhjMDdjMGI5MzlhYTQzYmRhYWE5NGQ0NmIyOWEzM2ViIiBzdHlsZT0id2lkdGg6IDEwMC4wJTsgaGVpZ2h0OiAxMDAuMCU7Ij5BaXJwb3J0PC9kaXY+YClbMF07CiAgICAgICAgICAgIHBvcHVwX2U5MmI4ZWJlNWZlYTRkMTQ4NmFlYzRkNDM1NWFhZDc3LnNldENvbnRlbnQoaHRtbF84YzA3YzBiOTM5YWE0M2JkYWFhOTRkNDZiMjlhMzNlYik7CiAgICAgICAgCgogICAgICAgIG1hcmtlcl84MzUyM2RiMzQ3NmI0OWE2YjY4OGY4Y2UwZjdiYzcxNC5iaW5kUG9wdXAocG9wdXBfZTkyYjhlYmU1ZmVhNGQxNDg2YWVjNGQ0MzU1YWFkNzcpCiAgICAgICAgOwoKICAgICAgICAKICAgIAogICAgCiAgICAgICAgICAgIHZhciBtYXJrZXJfNDQ3ZTFkNDQyNWZkNGFjM2JmMDhjZjEwZGVkYmJiYTMgPSBMLm1hcmtlcigKICAgICAgICAgICAgICAgIFszMC4zLCAxMjAuMjgzM10sCiAgICAgICAgICAgICAgICB7fQogICAgICAgICAgICApLmFkZFRvKG1hcF9mZGZjYWRkM2FhZmM0MDNkOWRhMGYwNzIzNTQxNzMyMyk7CiAgICAgICAgCiAgICAKICAgICAgICAgICAgdmFyIGljb25fODYzN2I1YjM0ZTNmNGQ1NDkwZDNjOTYyNWNmN2JkMzQgPSBMLkF3ZXNvbWVNYXJrZXJzLmljb24oCiAgICAgICAgICAgICAgICB7ImV4dHJhQ2xhc3NlcyI6ICJmYS1yb3RhdGUtMCIsICJpY29uIjogImluZm8tc2lnbiIsICJpY29uQ29sb3IiOiAid2hpdGUiLCAibWFya2VyQ29sb3IiOiAiYmx1ZSIsICJwcmVmaXgiOiAiZ2x5cGhpY29uIn0KICAgICAgICAgICAgKTsKICAgICAgICAgICAgbWFya2VyXzQ0N2UxZDQ0MjVmZDRhYzNiZjA4Y2YxMGRlZGJiYmEzLnNldEljb24oaWNvbl84NjM3YjViMzRlM2Y0ZDU0OTBkM2M5NjI1Y2Y3YmQzNCk7CiAgICAgICAgCiAgICAKICAgICAgICB2YXIgcG9wdXBfYWFkNDI5YzIzOWNjNDNhNDg3OTFlMzQ2MDc2MmQ0MTIgPSBMLnBvcHVwKHsibWF4V2lkdGgiOiAiMTAwJSJ9KTsKCiAgICAgICAgCiAgICAgICAgICAgIHZhciBodG1sX2YwNjEwZTUxNDg2NTQyY2RiYTQ4YThmOWRhN2FkNzljID0gJChgPGRpdiBpZD0iaHRtbF9mMDYxMGU1MTQ4NjU0MmNkYmE0OGE4ZjlkYTdhZDc5YyIgc3R5bGU9IndpZHRoOiAxMDAuMCU7IGhlaWdodDogMTAwLjAlOyI+QWlycG9ydDwvZGl2PmApWzBdOwogICAgICAgICAgICBwb3B1cF9hYWQ0MjljMjM5Y2M0M2E0ODc5MWUzNDYwNzYyZDQxMi5zZXRDb250ZW50KGh0bWxfZjA2MTBlNTE0ODY1NDJjZGJhNDhhOGY5ZGE3YWQ3OWMpOwogICAgICAgIAoKICAgICAgICBtYXJrZXJfNDQ3ZTFkNDQyNWZkNGFjM2JmMDhjZjEwZGVkYmJiYTMuYmluZFBvcHVwKHBvcHVwX2FhZDQyOWMyMzljYzQzYTQ4NzkxZTM0NjA3NjJkNDEyKQogICAgICAgIDsKCiAgICAgICAgCiAgICAKICAgIAogICAgICAgICAgICB2YXIgbWFya2VyX2I5NTQ2Y2M4MDQ2YjQ2NTA4ODIyYWJiMDU5NzBjYWFiID0gTC5tYXJrZXIoCiAgICAgICAgICAgICAgICBbNTIuNTYxMTEsIDEzLjI4OTQzOTk5OTk5OTk5OV0sCiAgICAgICAgICAgICAgICB7fQogICAgICAgICAgICApLmFkZFRvKG1hcF9mZGZjYWRkM2FhZmM0MDNkOWRhMGYwNzIzNTQxNzMyMyk7CiAgICAgICAgCiAgICAKICAgICAgICAgICAgdmFyIGljb25fY2M3NmI1YzE1MmEyNDBmY2FmMDg4ZDRjOTRmNWMwZWMgPSBMLkF3ZXNvbWVNYXJrZXJzLmljb24oCiAgICAgICAgICAgICAgICB7ImV4dHJhQ2xhc3NlcyI6ICJmYS1yb3RhdGUtMCIsICJpY29uIjogImluZm8tc2lnbiIsICJpY29uQ29sb3IiOiAid2hpdGUiLCAibWFya2VyQ29sb3IiOiAiYmx1ZSIsICJwcmVmaXgiOiAiZ2x5cGhpY29uIn0KICAgICAgICAgICAgKTsKICAgICAgICAgICAgbWFya2VyX2I5NTQ2Y2M4MDQ2YjQ2NTA4ODIyYWJiMDU5NzBjYWFiLnNldEljb24oaWNvbl9jYzc2YjVjMTUyYTI0MGZjYWYwODhkNGM5NGY1YzBlYyk7CiAgICAgICAgCiAgICAKICAgICAgICB2YXIgcG9wdXBfMGJhNzJkNWZlNmNiNGVjYzhkZTZiYzhmODg1NmIyOTIgPSBMLnBvcHVwKHsibWF4V2lkdGgiOiAiMTAwJSJ9KTsKCiAgICAgICAgCiAgICAgICAgICAgIHZhciBodG1sX2QzN2ViMDBiZmY4MjRiMjFhOGJhMzQ3YTc5Y2VjYjQ3ID0gJChgPGRpdiBpZD0iaHRtbF9kMzdlYjAwYmZmODI0YjIxYThiYTM0N2E3OWNlY2I0NyIgc3R5bGU9IndpZHRoOiAxMDAuMCU7IGhlaWdodDogMTAwLjAlOyI+QWlycG9ydDwvZGl2PmApWzBdOwogICAgICAgICAgICBwb3B1cF8wYmE3MmQ1ZmU2Y2I0ZWNjOGRlNmJjOGY4ODU2YjI5Mi5zZXRDb250ZW50KGh0bWxfZDM3ZWIwMGJmZjgyNGIyMWE4YmEzNDdhNzljZWNiNDcpOwogICAgICAgIAoKICAgICAgICBtYXJrZXJfYjk1NDZjYzgwNDZiNDY1MDg4MjJhYmIwNTk3MGNhYWIuYmluZFBvcHVwKHBvcHVwXzBiYTcyZDVmZTZjYjRlY2M4ZGU2YmM4Zjg4NTZiMjkyKQogICAgICAgIDsKCiAgICAgICAgCiAgICAKICAgIAogICAgICAgICAgICB2YXIgbWFya2VyXzliNzExZTgyOTNmZDQ2N2FiMDQ3MWI1ZDYyMDA5NTdjID0gTC5tYXJrZXIoCiAgICAgICAgICAgICAgICBbNDAuNjkyNSwgLTc0LjE2ODYxXSwKICAgICAgICAgICAgICAgIHt9CiAgICAgICAgICAgICkuYWRkVG8obWFwX2ZkZmNhZGQzYWFmYzQwM2Q5ZGEwZjA3MjM1NDE3MzIzKTsKICAgICAgICAKICAgIAogICAgICAgICAgICB2YXIgaWNvbl82Yzc3MzM0MGI4YmE0Mzc5OGJiYjU1NTY2MWVhNjhmZiA9IEwuQXdlc29tZU1hcmtlcnMuaWNvbigKICAgICAgICAgICAgICAgIHsiZXh0cmFDbGFzc2VzIjogImZhLXJvdGF0ZS0wIiwgImljb24iOiAiaW5mby1zaWduIiwgImljb25Db2xvciI6ICJ3aGl0ZSIsICJtYXJrZXJDb2xvciI6ICJibHVlIiwgInByZWZpeCI6ICJnbHlwaGljb24ifQogICAgICAgICAgICApOwogICAgICAgICAgICBtYXJrZXJfOWI3MTFlODI5M2ZkNDY3YWIwNDcxYjVkNjIwMDk1N2Muc2V0SWNvbihpY29uXzZjNzczMzQwYjhiYTQzNzk4YmJiNTU1NjYxZWE2OGZmKTsKICAgICAgICAKICAgIAogICAgICAgIHZhciBwb3B1cF9hMTI5MTU3NTUxZjY0YTUzOGQ0OTM5NmVjYTViNjEzMSA9IEwucG9wdXAoeyJtYXhXaWR0aCI6ICIxMDAlIn0pOwoKICAgICAgICAKICAgICAgICAgICAgdmFyIGh0bWxfOTE1ZTVkYWU1YTVkNDNmYzg2Y2Q3NmJhYTc0YjA0ZGMgPSAkKGA8ZGl2IGlkPSJodG1sXzkxNWU1ZGFlNWE1ZDQzZmM4NmNkNzZiYWE3NGIwNGRjIiBzdHlsZT0id2lkdGg6IDEwMC4wJTsgaGVpZ2h0OiAxMDAuMCU7Ij5BaXJwb3J0PC9kaXY+YClbMF07CiAgICAgICAgICAgIHBvcHVwX2ExMjkxNTc1NTFmNjRhNTM4ZDQ5Mzk2ZWNhNWI2MTMxLnNldENvbnRlbnQoaHRtbF85MTVlNWRhZTVhNWQ0M2ZjODZjZDc2YmFhNzRiMDRkYyk7CiAgICAgICAgCgogICAgICAgIG1hcmtlcl85YjcxMWU4MjkzZmQ0NjdhYjA0NzFiNWQ2MjAwOTU3Yy5iaW5kUG9wdXAocG9wdXBfYTEyOTE1NzU1MWY2NGE1MzhkNDkzOTZlY2E1YjYxMzEpCiAgICAgICAgOwoKICAgICAgICAKICAgIAogICAgCiAgICAgICAgICAgIHZhciBtYXJrZXJfMGY1MWIxMzgzYTFlNDc0MjkwNDgzNDAwMzgyMzNlN2EgPSBMLm1hcmtlcigKICAgICAgICAgICAgICAgIFsxMy45MTI1LCAxMDAuNjA2N10sCiAgICAgICAgICAgICAgICB7fQogICAgICAgICAgICApLmFkZFRvKG1hcF9mZGZjYWRkM2FhZmM0MDNkOWRhMGYwNzIzNTQxNzMyMyk7CiAgICAgICAgCiAgICAKICAgICAgICAgICAgdmFyIGljb25fODI5YmMyNmVmMDFmNDcxMmI0ZWY0NTY2MzZjMDI3ZDAgPSBMLkF3ZXNvbWVNYXJrZXJzLmljb24oCiAgICAgICAgICAgICAgICB7ImV4dHJhQ2xhc3NlcyI6ICJmYS1yb3RhdGUtMCIsICJpY29uIjogImluZm8tc2lnbiIsICJpY29uQ29sb3IiOiAid2hpdGUiLCAibWFya2VyQ29sb3IiOiAiYmx1ZSIsICJwcmVmaXgiOiAiZ2x5cGhpY29uIn0KICAgICAgICAgICAgKTsKICAgICAgICAgICAgbWFya2VyXzBmNTFiMTM4M2ExZTQ3NDI5MDQ4MzQwMDM4MjMzZTdhLnNldEljb24oaWNvbl84MjliYzI2ZWYwMWY0NzEyYjRlZjQ1NjYzNmMwMjdkMCk7CiAgICAgICAgCiAgICAKICAgICAgICB2YXIgcG9wdXBfMmY1YTZiZWJlNDRhNDgzYjg2MmU0NTViNjIxYzFlMjAgPSBMLnBvcHVwKHsibWF4V2lkdGgiOiAiMTAwJSJ9KTsKCiAgICAgICAgCiAgICAgICAgICAgIHZhciBodG1sXzczNDVkNWRlNGE5YTQ5Yjc5YTg5N2E4YTQ5NzNiYWFkID0gJChgPGRpdiBpZD0iaHRtbF83MzQ1ZDVkZTRhOWE0OWI3OWE4OTdhOGE0OTczYmFhZCIgc3R5bGU9IndpZHRoOiAxMDAuMCU7IGhlaWdodDogMTAwLjAlOyI+QWlycG9ydDwvZGl2PmApWzBdOwogICAgICAgICAgICBwb3B1cF8yZjVhNmJlYmU0NGE0ODNiODYyZTQ1NWI2MjFjMWUyMC5zZXRDb250ZW50KGh0bWxfNzM0NWQ1ZGU0YTlhNDliNzlhODk3YThhNDk3M2JhYWQpOwogICAgICAgIAoKICAgICAgICBtYXJrZXJfMGY1MWIxMzgzYTFlNDc0MjkwNDgzNDAwMzgyMzNlN2EuYmluZFBvcHVwKHBvcHVwXzJmNWE2YmViZTQ0YTQ4M2I4NjJlNDU1YjYyMWMxZTIwKQogICAgICAgIDsKCiAgICAgICAgCiAgICAKICAgIAogICAgICAgICAgICB2YXIgbWFya2VyX2UyMGI1NGQ3MTBkZjQyZmRiNjZmNTc1ZTBkMjI4MzcyID0gTC5tYXJrZXIoCiAgICAgICAgICAgICAgICBbMTMuNjgxMTEsIDEwMC43NDcyXSwKICAgICAgICAgICAgICAgIHt9CiAgICAgICAgICAgICkuYWRkVG8obWFwX2ZkZmNhZGQzYWFmYzQwM2Q5ZGEwZjA3MjM1NDE3MzIzKTsKICAgICAgICAKICAgIAogICAgICAgICAgICB2YXIgaWNvbl81OTdjNTczZTQzMDk0ODM3OWY5NGU0NzNmNmFkNWI0ZiA9IEwuQXdlc29tZU1hcmtlcnMuaWNvbigKICAgICAgICAgICAgICAgIHsiZXh0cmFDbGFzc2VzIjogImZhLXJvdGF0ZS0wIiwgImljb24iOiAiaW5mby1zaWduIiwgImljb25Db2xvciI6ICJ3aGl0ZSIsICJtYXJrZXJDb2xvciI6ICJibHVlIiwgInByZWZpeCI6ICJnbHlwaGljb24ifQogICAgICAgICAgICApOwogICAgICAgICAgICBtYXJrZXJfZTIwYjU0ZDcxMGRmNDJmZGI2NmY1NzVlMGQyMjgzNzIuc2V0SWNvbihpY29uXzU5N2M1NzNlNDMwOTQ4Mzc5Zjk0ZTQ3M2Y2YWQ1YjRmKTsKICAgICAgICAKICAgIAogICAgICAgIHZhciBwb3B1cF84YWI5ZDdjNWJhMTA0ZDFkODFmMjQyMGI5ZDNjNTk0MCA9IEwucG9wdXAoeyJtYXhXaWR0aCI6ICIxMDAlIn0pOwoKICAgICAgICAKICAgICAgICAgICAgdmFyIGh0bWxfMmRlMTAwNzIyYjVjNDE4OThmYjY3NDlmMTJkNWZmM2IgPSAkKGA8ZGl2IGlkPSJodG1sXzJkZTEwMDcyMmI1YzQxODk4ZmI2NzQ5ZjEyZDVmZjNiIiBzdHlsZT0id2lkdGg6IDEwMC4wJTsgaGVpZ2h0OiAxMDAuMCU7Ij5BaXJwb3J0PC9kaXY+YClbMF07CiAgICAgICAgICAgIHBvcHVwXzhhYjlkN2M1YmExMDRkMWQ4MWYyNDIwYjlkM2M1OTQwLnNldENvbnRlbnQoaHRtbF8yZGUxMDA3MjJiNWM0MTg5OGZiNjc0OWYxMmQ1ZmYzYik7CiAgICAgICAgCgogICAgICAgIG1hcmtlcl9lMjBiNTRkNzEwZGY0MmZkYjY2ZjU3NWUwZDIyODM3Mi5iaW5kUG9wdXAocG9wdXBfOGFiOWQ3YzViYTEwNGQxZDgxZjI0MjBiOWQzYzU5NDApCiAgICAgICAgOwoKICAgICAgICAKICAgIAogICAgCiAgICAgICAgICAgIHZhciBtYXJrZXJfODdiMGZmYTI5YjBjNDlkNGExNmZiYzE5NzFmOTRkOTEgPSBMLm1hcmtlcigKICAgICAgICAgICAgICAgIFsyNC45OTI1LCAxMDIuNzQzNl0sCiAgICAgICAgICAgICAgICB7fQogICAgICAgICAgICApLmFkZFRvKG1hcF9mZGZjYWRkM2FhZmM0MDNkOWRhMGYwNzIzNTQxNzMyMyk7CiAgICAgICAgCiAgICAKICAgICAgICAgICAgdmFyIGljb25fOGE4ZTM0OWU2NmIwNDc1NWEzOWM1NDM3OWUzODVmNTkgPSBMLkF3ZXNvbWVNYXJrZXJzLmljb24oCiAgICAgICAgICAgICAgICB7ImV4dHJhQ2xhc3NlcyI6ICJmYS1yb3RhdGUtMCIsICJpY29uIjogImluZm8tc2lnbiIsICJpY29uQ29sb3IiOiAid2hpdGUiLCAibWFya2VyQ29sb3IiOiAiYmx1ZSIsICJwcmVmaXgiOiAiZ2x5cGhpY29uIn0KICAgICAgICAgICAgKTsKICAgICAgICAgICAgbWFya2VyXzg3YjBmZmEyOWIwYzQ5ZDRhMTZmYmMxOTcxZjk0ZDkxLnNldEljb24oaWNvbl84YThlMzQ5ZTY2YjA0NzU1YTM5YzU0Mzc5ZTM4NWY1OSk7CiAgICAgICAgCiAgICAKICAgICAgICB2YXIgcG9wdXBfZjVhNGU4NGYwMjRhNGFmNzgyNGNhM2MzNGU2ZmFlM2YgPSBMLnBvcHVwKHsibWF4V2lkdGgiOiAiMTAwJSJ9KTsKCiAgICAgICAgCiAgICAgICAgICAgIHZhciBodG1sXzdmMjJlMDdlMDFjZDQ3YjhiZmMxY2E3Y2Y1NWY3M2I5ID0gJChgPGRpdiBpZD0iaHRtbF83ZjIyZTA3ZTAxY2Q0N2I4YmZjMWNhN2NmNTVmNzNiOSIgc3R5bGU9IndpZHRoOiAxMDAuMCU7IGhlaWdodDogMTAwLjAlOyI+QWlycG9ydDwvZGl2PmApWzBdOwogICAgICAgICAgICBwb3B1cF9mNWE0ZTg0ZjAyNGE0YWY3ODI0Y2EzYzM0ZTZmYWUzZi5zZXRDb250ZW50KGh0bWxfN2YyMmUwN2UwMWNkNDdiOGJmYzFjYTdjZjU1ZjczYjkpOwogICAgICAgIAoKICAgICAgICBtYXJrZXJfODdiMGZmYTI5YjBjNDlkNGExNmZiYzE5NzFmOTRkOTEuYmluZFBvcHVwKHBvcHVwX2Y1YTRlODRmMDI0YTRhZjc4MjRjYTNjMzRlNmZhZTNmKQogICAgICAgIDsKCiAgICAgICAgCiAgICAKICAgIAogICAgICAgICAgICB2YXIgbWFya2VyXzg4ZmYxMzlmMzIyNDRiYzA5N2Q5YTk4MWFhZTMzY2UwID0gTC5tYXJrZXIoCiAgICAgICAgICAgICAgICBbLTM3LjY3MzMzLCAxNDQuODQzM10sCiAgICAgICAgICAgICAgICB7fQogICAgICAgICAgICApLmFkZFRvKG1hcF9mZGZjYWRkM2FhZmM0MDNkOWRhMGYwNzIzNTQxNzMyMyk7CiAgICAgICAgCiAgICAKICAgICAgICAgICAgdmFyIGljb25fNzUzYTZkOWRmMzk5NDFkZGIzNzFkYmJhYWI5MTY1YjkgPSBMLkF3ZXNvbWVNYXJrZXJzLmljb24oCiAgICAgICAgICAgICAgICB7ImV4dHJhQ2xhc3NlcyI6ICJmYS1yb3RhdGUtMCIsICJpY29uIjogImluZm8tc2lnbiIsICJpY29uQ29sb3IiOiAid2hpdGUiLCAibWFya2VyQ29sb3IiOiAiYmx1ZSIsICJwcmVmaXgiOiAiZ2x5cGhpY29uIn0KICAgICAgICAgICAgKTsKICAgICAgICAgICAgbWFya2VyXzg4ZmYxMzlmMzIyNDRiYzA5N2Q5YTk4MWFhZTMzY2UwLnNldEljb24oaWNvbl83NTNhNmQ5ZGYzOTk0MWRkYjM3MWRiYmFhYjkxNjViOSk7CiAgICAgICAgCiAgICAKICAgICAgICB2YXIgcG9wdXBfNmM0MDBhNTU5ZTIyNGVkMTgyNmMwNTViZjFkMzYwNTkgPSBMLnBvcHVwKHsibWF4V2lkdGgiOiAiMTAwJSJ9KTsKCiAgICAgICAgCiAgICAgICAgICAgIHZhciBodG1sX2VmZDVhZDRmYmQ4YTRkZjk4NjIwNjQyNzZhOTJjYTE4ID0gJChgPGRpdiBpZD0iaHRtbF9lZmQ1YWQ0ZmJkOGE0ZGY5ODYyMDY0Mjc2YTkyY2ExOCIgc3R5bGU9IndpZHRoOiAxMDAuMCU7IGhlaWdodDogMTAwLjAlOyI+QWlycG9ydDwvZGl2PmApWzBdOwogICAgICAgICAgICBwb3B1cF82YzQwMGE1NTllMjI0ZWQxODI2YzA1NWJmMWQzNjA1OS5zZXRDb250ZW50KGh0bWxfZWZkNWFkNGZiZDhhNGRmOTg2MjA2NDI3NmE5MmNhMTgpOwogICAgICAgIAoKICAgICAgICBtYXJrZXJfODhmZjEzOWYzMjI0NGJjMDk3ZDlhOTgxYWFlMzNjZTAuYmluZFBvcHVwKHBvcHVwXzZjNDAwYTU1OWUyMjRlZDE4MjZjMDU1YmYxZDM2MDU5KQogICAgICAgIDsKCiAgICAgICAgCiAgICAKICAgIAogICAgICAgICAgICB2YXIgbWFya2VyX2IzMGU3ZjA3YTg4ZjQ5YmNhMDdmZjQ4NjhmMjk4MmY3ID0gTC5tYXJrZXIoCiAgICAgICAgICAgICAgICBbMzcuNDY2NjcsIDE1LjA2NjY3MDAwMDAwMDAwMl0sCiAgICAgICAgICAgICAgICB7fQogICAgICAgICAgICApLmFkZFRvKG1hcF9mZGZjYWRkM2FhZmM0MDNkOWRhMGYwNzIzNTQxNzMyMyk7CiAgICAgICAgCiAgICAKICAgICAgICAgICAgdmFyIGljb25fYmRlYjBkNTNmZmQyNDI1N2E4OGMwNDY2MTJjNGY0MzUgPSBMLkF3ZXNvbWVNYXJrZXJzLmljb24oCiAgICAgICAgICAgICAgICB7ImV4dHJhQ2xhc3NlcyI6ICJmYS1yb3RhdGUtMCIsICJpY29uIjogImluZm8tc2lnbiIsICJpY29uQ29sb3IiOiAid2hpdGUiLCAibWFya2VyQ29sb3IiOiAiYmx1ZSIsICJwcmVmaXgiOiAiZ2x5cGhpY29uIn0KICAgICAgICAgICAgKTsKICAgICAgICAgICAgbWFya2VyX2IzMGU3ZjA3YTg4ZjQ5YmNhMDdmZjQ4NjhmMjk4MmY3LnNldEljb24oaWNvbl9iZGViMGQ1M2ZmZDI0MjU3YTg4YzA0NjYxMmM0ZjQzNSk7CiAgICAgICAgCiAgICAKICAgICAgICB2YXIgcG9wdXBfODkxMWRhOThkZDQwNGQ1ZmI4YjE5ODRmNGMwZjdmMWIgPSBMLnBvcHVwKHsibWF4V2lkdGgiOiAiMTAwJSJ9KTsKCiAgICAgICAgCiAgICAgICAgICAgIHZhciBodG1sXzY5MGZkZmI2Y2JkMTQwMzBiY2E3NzVkYWRiNWViMjk5ID0gJChgPGRpdiBpZD0iaHRtbF82OTBmZGZiNmNiZDE0MDMwYmNhNzc1ZGFkYjVlYjI5OSIgc3R5bGU9IndpZHRoOiAxMDAuMCU7IGhlaWdodDogMTAwLjAlOyI+QWlycG9ydDwvZGl2PmApWzBdOwogICAgICAgICAgICBwb3B1cF84OTExZGE5OGRkNDA0ZDVmYjhiMTk4NGY0YzBmN2YxYi5zZXRDb250ZW50KGh0bWxfNjkwZmRmYjZjYmQxNDAzMGJjYTc3NWRhZGI1ZWIyOTkpOwogICAgICAgIAoKICAgICAgICBtYXJrZXJfYjMwZTdmMDdhODhmNDliY2EwN2ZmNDg2OGYyOTgyZjcuYmluZFBvcHVwKHBvcHVwXzg5MTFkYTk4ZGQ0MDRkNWZiOGIxOTg0ZjRjMGY3ZjFiKQogICAgICAgIDsKCiAgICAgICAgCiAgICAKICAgIAogICAgICAgICAgICB2YXIgbWFya2VyX2M3ZDA1NzM2YTYyNzQyOTJhN2ZiZDQ4OTI1ZTIwOTQ1ID0gTC5tYXJrZXIoCiAgICAgICAgICAgICAgICBbNC43MDMwNTYsIC03NC4xMzgzNF0sCiAgICAgICAgICAgICAgICB7fQogICAgICAgICAgICApLmFkZFRvKG1hcF9mZGZjYWRkM2FhZmM0MDNkOWRhMGYwNzIzNTQxNzMyMyk7CiAgICAgICAgCiAgICAKICAgICAgICAgICAgdmFyIGljb25fYjE2MTAyODgzYTBlNDI2MTk4YTBiNjNiZjU2YjA3ZDkgPSBMLkF3ZXNvbWVNYXJrZXJzLmljb24oCiAgICAgICAgICAgICAgICB7ImV4dHJhQ2xhc3NlcyI6ICJmYS1yb3RhdGUtMCIsICJpY29uIjogImluZm8tc2lnbiIsICJpY29uQ29sb3IiOiAid2hpdGUiLCAibWFya2VyQ29sb3IiOiAiYmx1ZSIsICJwcmVmaXgiOiAiZ2x5cGhpY29uIn0KICAgICAgICAgICAgKTsKICAgICAgICAgICAgbWFya2VyX2M3ZDA1NzM2YTYyNzQyOTJhN2ZiZDQ4OTI1ZTIwOTQ1LnNldEljb24oaWNvbl9iMTYxMDI4ODNhMGU0MjYxOThhMGI2M2JmNTZiMDdkOSk7CiAgICAgICAgCiAgICAKICAgICAgICB2YXIgcG9wdXBfMTU1YTFlNjE1ZGMxNDU3YzgzM2M3NGM1MGZmYmM3MWEgPSBMLnBvcHVwKHsibWF4V2lkdGgiOiAiMTAwJSJ9KTsKCiAgICAgICAgCiAgICAgICAgICAgIHZhciBodG1sXzA1NDg2OWY0YmQ5OTRkYmM4MDEwM2YyMzhhNjU1Nzg1ID0gJChgPGRpdiBpZD0iaHRtbF8wNTQ4NjlmNGJkOTk0ZGJjODAxMDNmMjM4YTY1NTc4NSIgc3R5bGU9IndpZHRoOiAxMDAuMCU7IGhlaWdodDogMTAwLjAlOyI+QWlycG9ydDwvZGl2PmApWzBdOwogICAgICAgICAgICBwb3B1cF8xNTVhMWU2MTVkYzE0NTdjODMzYzc0YzUwZmZiYzcxYS5zZXRDb250ZW50KGh0bWxfMDU0ODY5ZjRiZDk5NGRiYzgwMTAzZjIzOGE2NTU3ODUpOwogICAgICAgIAoKICAgICAgICBtYXJrZXJfYzdkMDU3MzZhNjI3NDI5MmE3ZmJkNDg5MjVlMjA5NDUuYmluZFBvcHVwKHBvcHVwXzE1NWExZTYxNWRjMTQ1N2M4MzNjNzRjNTBmZmJjNzFhKQogICAgICAgIDsKCiAgICAgICAgCiAgICAKICAgIAogICAgICAgICAgICB2YXIgbWFya2VyXzkxN2EzNjU0YzBlNTRmY2M5Y2JlZjUzZTU5YTRmNjIzID0gTC5tYXJrZXIoCiAgICAgICAgICAgICAgICBbMTguNDM5NDQsIC02Ni4wMDE5NV0sCiAgICAgICAgICAgICAgICB7fQogICAgICAgICAgICApLmFkZFRvKG1hcF9mZGZjYWRkM2FhZmM0MDNkOWRhMGYwNzIzNTQxNzMyMyk7CiAgICAgICAgCiAgICAKICAgICAgICAgICAgdmFyIGljb25fNmU0MDRmMTMyYjY4NDcwMWEzZjdmNmViOGYwNzA2MTIgPSBMLkF3ZXNvbWVNYXJrZXJzLmljb24oCiAgICAgICAgICAgICAgICB7ImV4dHJhQ2xhc3NlcyI6ICJmYS1yb3RhdGUtMCIsICJpY29uIjogImluZm8tc2lnbiIsICJpY29uQ29sb3IiOiAid2hpdGUiLCAibWFya2VyQ29sb3IiOiAiYmx1ZSIsICJwcmVmaXgiOiAiZ2x5cGhpY29uIn0KICAgICAgICAgICAgKTsKICAgICAgICAgICAgbWFya2VyXzkxN2EzNjU0YzBlNTRmY2M5Y2JlZjUzZTU5YTRmNjIzLnNldEljb24oaWNvbl82ZTQwNGYxMzJiNjg0NzAxYTNmN2Y2ZWI4ZjA3MDYxMik7CiAgICAgICAgCiAgICAKICAgICAgICB2YXIgcG9wdXBfYTk1MTEzZWYyOTM2NDAxNGEzNTMxZjg2MjU0NWI0NzYgPSBMLnBvcHVwKHsibWF4V2lkdGgiOiAiMTAwJSJ9KTsKCiAgICAgICAgCiAgICAgICAgICAgIHZhciBodG1sX2QxY2FhZTliMzM2ZjRiNWZhNDg0N2YxZjBkMDg0YjA3ID0gJChgPGRpdiBpZD0iaHRtbF9kMWNhYWU5YjMzNmY0YjVmYTQ4NDdmMWYwZDA4NGIwNyIgc3R5bGU9IndpZHRoOiAxMDAuMCU7IGhlaWdodDogMTAwLjAlOyI+QWlycG9ydDwvZGl2PmApWzBdOwogICAgICAgICAgICBwb3B1cF9hOTUxMTNlZjI5MzY0MDE0YTM1MzFmODYyNTQ1YjQ3Ni5zZXRDb250ZW50KGh0bWxfZDFjYWFlOWIzMzZmNGI1ZmE0ODQ3ZjFmMGQwODRiMDcpOwogICAgICAgIAoKICAgICAgICBtYXJrZXJfOTE3YTM2NTRjMGU1NGZjYzljYmVmNTNlNTlhNGY2MjMuYmluZFBvcHVwKHBvcHVwX2E5NTExM2VmMjkzNjQwMTRhMzUzMWY4NjI1NDViNDc2KQogICAgICAgIDsKCiAgICAgICAgCiAgICAKICAgIAogICAgICAgICAgICB2YXIgbWFya2VyXzgwOWZmNzdlMTNiNzRjM2I4ZWE2NjkzZThiYmI5MWM1ID0gTC5tYXJrZXIoCiAgICAgICAgICAgICAgICBbNTMuMzA5NzIsIC0xMTMuNTc5N10sCiAgICAgICAgICAgICAgICB7fQogICAgICAgICAgICApLmFkZFRvKG1hcF9mZGZjYWRkM2FhZmM0MDNkOWRhMGYwNzIzNTQxNzMyMyk7CiAgICAgICAgCiAgICAKICAgICAgICAgICAgdmFyIGljb25fMmQ4M2Q5OWI1MTBmNDJmY2JiNDE0ZDk2OTZlZmQ2NjIgPSBMLkF3ZXNvbWVNYXJrZXJzLmljb24oCiAgICAgICAgICAgICAgICB7ImV4dHJhQ2xhc3NlcyI6ICJmYS1yb3RhdGUtMCIsICJpY29uIjogImluZm8tc2lnbiIsICJpY29uQ29sb3IiOiAid2hpdGUiLCAibWFya2VyQ29sb3IiOiAiYmx1ZSIsICJwcmVmaXgiOiAiZ2x5cGhpY29uIn0KICAgICAgICAgICAgKTsKICAgICAgICAgICAgbWFya2VyXzgwOWZmNzdlMTNiNzRjM2I4ZWE2NjkzZThiYmI5MWM1LnNldEljb24oaWNvbl8yZDgzZDk5YjUxMGY0MmZjYmI0MTRkOTY5NmVmZDY2Mik7CiAgICAgICAgCiAgICAKICAgICAgICB2YXIgcG9wdXBfYTFjYTViZDdmODZhNDA3MzliNjMzZWY5N2FiODY4ZjggPSBMLnBvcHVwKHsibWF4V2lkdGgiOiAiMTAwJSJ9KTsKCiAgICAgICAgCiAgICAgICAgICAgIHZhciBodG1sXzZmY2Y2YWZkZWYxZTRmZDJiYmQzZGVkNTg3MzAyZTViID0gJChgPGRpdiBpZD0iaHRtbF82ZmNmNmFmZGVmMWU0ZmQyYmJkM2RlZDU4NzMwMmU1YiIgc3R5bGU9IndpZHRoOiAxMDAuMCU7IGhlaWdodDogMTAwLjAlOyI+QWlycG9ydDwvZGl2PmApWzBdOwogICAgICAgICAgICBwb3B1cF9hMWNhNWJkN2Y4NmE0MDczOWI2MzNlZjk3YWI4NjhmOC5zZXRDb250ZW50KGh0bWxfNmZjZjZhZmRlZjFlNGZkMmJiZDNkZWQ1ODczMDJlNWIpOwogICAgICAgIAoKICAgICAgICBtYXJrZXJfODA5ZmY3N2UxM2I3NGMzYjhlYTY2OTNlOGJiYjkxYzUuYmluZFBvcHVwKHBvcHVwX2ExY2E1YmQ3Zjg2YTQwNzM5YjYzM2VmOTdhYjg2OGY4KQogICAgICAgIDsKCiAgICAgICAgCiAgICAKICAgIAogICAgICAgICAgICB2YXIgbWFya2VyXzM1YWU1ODYzMDBkNDQxYWI4MTJmM2JlZDUyY2M2NWY3ID0gTC5tYXJrZXIoCiAgICAgICAgICAgICAgICBbMzUuNzYzODksIDE0MC4zOTE3XSwKICAgICAgICAgICAgICAgIHt9CiAgICAgICAgICAgICkuYWRkVG8obWFwX2ZkZmNhZGQzYWFmYzQwM2Q5ZGEwZjA3MjM1NDE3MzIzKTsKICAgICAgICAKICAgIAogICAgICAgICAgICB2YXIgaWNvbl8yYTViYTk1NWMzMzc0YWJlYTAyMzFkYzAwY2VmNjUwZCA9IEwuQXdlc29tZU1hcmtlcnMuaWNvbigKICAgICAgICAgICAgICAgIHsiZXh0cmFDbGFzc2VzIjogImZhLXJvdGF0ZS0wIiwgImljb24iOiAiaW5mby1zaWduIiwgImljb25Db2xvciI6ICJ3aGl0ZSIsICJtYXJrZXJDb2xvciI6ICJibHVlIiwgInByZWZpeCI6ICJnbHlwaGljb24ifQogICAgICAgICAgICApOwogICAgICAgICAgICBtYXJrZXJfMzVhZTU4NjMwMGQ0NDFhYjgxMmYzYmVkNTJjYzY1Zjcuc2V0SWNvbihpY29uXzJhNWJhOTU1YzMzNzRhYmVhMDIzMWRjMDBjZWY2NTBkKTsKICAgICAgICAKICAgIAogICAgICAgIHZhciBwb3B1cF84YmFkZWYyZDFjYzg0ZGRjYjM2N2Q5MjUyNDBjYjMyMCA9IEwucG9wdXAoeyJtYXhXaWR0aCI6ICIxMDAlIn0pOwoKICAgICAgICAKICAgICAgICAgICAgdmFyIGh0bWxfYTNiOTlmZTc0YzNmNDhmNTlhNGE0ZTBkNjBlODIxYWUgPSAkKGA8ZGl2IGlkPSJodG1sX2EzYjk5ZmU3NGMzZjQ4ZjU5YTRhNGUwZDYwZTgyMWFlIiBzdHlsZT0id2lkdGg6IDEwMC4wJTsgaGVpZ2h0OiAxMDAuMCU7Ij5BaXJwb3J0PC9kaXY+YClbMF07CiAgICAgICAgICAgIHBvcHVwXzhiYWRlZjJkMWNjODRkZGNiMzY3ZDkyNTI0MGNiMzIwLnNldENvbnRlbnQoaHRtbF9hM2I5OWZlNzRjM2Y0OGY1OWE0YTRlMGQ2MGU4MjFhZSk7CiAgICAgICAgCgogICAgICAgIG1hcmtlcl8zNWFlNTg2MzAwZDQ0MWFiODEyZjNiZWQ1MmNjNjVmNy5iaW5kUG9wdXAocG9wdXBfOGJhZGVmMmQxY2M4NGRkY2IzNjdkOTI1MjQwY2IzMjApCiAgICAgICAgOwoKICAgICAgICAKICAgIAogICAgCiAgICAgICAgICAgIHZhciBtYXJrZXJfNmRlODgzNWRjZDYxNDFkNTg4M2EwNzUwMzJjMjg4YTcgPSBMLm1hcmtlcigKICAgICAgICAgICAgICAgIFsyMS45ODMzMywgLTE1OS4zNV0sCiAgICAgICAgICAgICAgICB7fQogICAgICAgICAgICApLmFkZFRvKG1hcF9mZGZjYWRkM2FhZmM0MDNkOWRhMGYwNzIzNTQxNzMyMyk7CiAgICAgICAgCiAgICAKICAgICAgICAgICAgdmFyIGljb25fMTc5YzY0ODY3MzQ2NGRiNGE1YTU5ZTM5Yzk3YmFkZTEgPSBMLkF3ZXNvbWVNYXJrZXJzLmljb24oCiAgICAgICAgICAgICAgICB7ImV4dHJhQ2xhc3NlcyI6ICJmYS1yb3RhdGUtMCIsICJpY29uIjogImluZm8tc2lnbiIsICJpY29uQ29sb3IiOiAid2hpdGUiLCAibWFya2VyQ29sb3IiOiAiYmx1ZSIsICJwcmVmaXgiOiAiZ2x5cGhpY29uIn0KICAgICAgICAgICAgKTsKICAgICAgICAgICAgbWFya2VyXzZkZTg4MzVkY2Q2MTQxZDU4ODNhMDc1MDMyYzI4OGE3LnNldEljb24oaWNvbl8xNzljNjQ4NjczNDY0ZGI0YTVhNTllMzljOTdiYWRlMSk7CiAgICAgICAgCiAgICAKICAgICAgICB2YXIgcG9wdXBfNDcwMWM1Y2Y3NzFmNGE1MTk3MDkyYjhiMjYyYWE4NGUgPSBMLnBvcHVwKHsibWF4V2lkdGgiOiAiMTAwJSJ9KTsKCiAgICAgICAgCiAgICAgICAgICAgIHZhciBodG1sXzllMGMwNGZkOTMwNDQxZTJiZjVmZTA0NWU3MjFjNzc2ID0gJChgPGRpdiBpZD0iaHRtbF85ZTBjMDRmZDkzMDQ0MWUyYmY1ZmUwNDVlNzIxYzc3NiIgc3R5bGU9IndpZHRoOiAxMDAuMCU7IGhlaWdodDogMTAwLjAlOyI+QWlycG9ydDwvZGl2PmApWzBdOwogICAgICAgICAgICBwb3B1cF80NzAxYzVjZjc3MWY0YTUxOTcwOTJiOGIyNjJhYTg0ZS5zZXRDb250ZW50KGh0bWxfOWUwYzA0ZmQ5MzA0NDFlMmJmNWZlMDQ1ZTcyMWM3NzYpOwogICAgICAgIAoKICAgICAgICBtYXJrZXJfNmRlODgzNWRjZDYxNDFkNTg4M2EwNzUwMzJjMjg4YTcuYmluZFBvcHVwKHBvcHVwXzQ3MDFjNWNmNzcxZjRhNTE5NzA5MmI4YjI2MmFhODRlKQogICAgICAgIDsKCiAgICAgICAgCiAgICAKICAgIAogICAgICAgICAgICB2YXIgbWFya2VyX2Y0MDJkMzc2MjBhYzQ5ZDA4MDVhZGY4NzBkMWExMjIyID0gTC5tYXJrZXIoCiAgICAgICAgICAgICAgICBbNTUuOTUsIC0zLjM1XSwKICAgICAgICAgICAgICAgIHt9CiAgICAgICAgICAgICkuYWRkVG8obWFwX2ZkZmNhZGQzYWFmYzQwM2Q5ZGEwZjA3MjM1NDE3MzIzKTsKICAgICAgICAKICAgIAogICAgICAgICAgICB2YXIgaWNvbl83OGE5YzhkYzMwOWQ0MzdkODA4OWFhMWU3ZWI2MDVkYSA9IEwuQXdlc29tZU1hcmtlcnMuaWNvbigKICAgICAgICAgICAgICAgIHsiZXh0cmFDbGFzc2VzIjogImZhLXJvdGF0ZS0wIiwgImljb24iOiAiaW5mby1zaWduIiwgImljb25Db2xvciI6ICJ3aGl0ZSIsICJtYXJrZXJDb2xvciI6ICJibHVlIiwgInByZWZpeCI6ICJnbHlwaGljb24ifQogICAgICAgICAgICApOwogICAgICAgICAgICBtYXJrZXJfZjQwMmQzNzYyMGFjNDlkMDgwNWFkZjg3MGQxYTEyMjIuc2V0SWNvbihpY29uXzc4YTljOGRjMzA5ZDQzN2Q4MDg5YWExZTdlYjYwNWRhKTsKICAgICAgICAKICAgIAogICAgICAgIHZhciBwb3B1cF9iMzNiMDBkODgzZDY0ZDM0ODc4YmJjYmFjY2QzN2Q1MiA9IEwucG9wdXAoeyJtYXhXaWR0aCI6ICIxMDAlIn0pOwoKICAgICAgICAKICAgICAgICAgICAgdmFyIGh0bWxfODQ5YTlhZThiNWYyNDdlODhjMGNkYWM1Mjc3MzZkNDIgPSAkKGA8ZGl2IGlkPSJodG1sXzg0OWE5YWU4YjVmMjQ3ZTg4YzBjZGFjNTI3NzM2ZDQyIiBzdHlsZT0id2lkdGg6IDEwMC4wJTsgaGVpZ2h0OiAxMDAuMCU7Ij5BaXJwb3J0PC9kaXY+YClbMF07CiAgICAgICAgICAgIHBvcHVwX2IzM2IwMGQ4ODNkNjRkMzQ4NzhiYmNiYWNjZDM3ZDUyLnNldENvbnRlbnQoaHRtbF84NDlhOWFlOGI1ZjI0N2U4OGMwY2RhYzUyNzczNmQ0Mik7CiAgICAgICAgCgogICAgICAgIG1hcmtlcl9mNDAyZDM3NjIwYWM0OWQwODA1YWRmODcwZDFhMTIyMi5iaW5kUG9wdXAocG9wdXBfYjMzYjAwZDg4M2Q2NGQzNDg3OGJiY2JhY2NkMzdkNTIpCiAgICAgICAgOwoKICAgICAgICAKICAgIAogICAgCiAgICAgICAgICAgIHZhciBtYXJrZXJfZWRiZDZjYzFhMWQyNDAyYTk4Mjc0OGJlYjc1OWM1NDkgPSBMLm1hcmtlcigKICAgICAgICAgICAgICAgIFstMzUuMzA2OTUsIDE0OS4xOTVdLAogICAgICAgICAgICAgICAge30KICAgICAgICAgICAgKS5hZGRUbyhtYXBfZmRmY2FkZDNhYWZjNDAzZDlkYTBmMDcyMzU0MTczMjMpOwogICAgICAgIAogICAgCiAgICAgICAgICAgIHZhciBpY29uX2E2MmI5MDdjNjZhODQwM2Y4MzIxMDE3YmFhYWM4MzYyID0gTC5Bd2Vzb21lTWFya2Vycy5pY29uKAogICAgICAgICAgICAgICAgeyJleHRyYUNsYXNzZXMiOiAiZmEtcm90YXRlLTAiLCAiaWNvbiI6ICJpbmZvLXNpZ24iLCAiaWNvbkNvbG9yIjogIndoaXRlIiwgIm1hcmtlckNvbG9yIjogImJsdWUiLCAicHJlZml4IjogImdseXBoaWNvbiJ9CiAgICAgICAgICAgICk7CiAgICAgICAgICAgIG1hcmtlcl9lZGJkNmNjMWExZDI0MDJhOTgyNzQ4YmViNzU5YzU0OS5zZXRJY29uKGljb25fYTYyYjkwN2M2NmE4NDAzZjgzMjEwMTdiYWFhYzgzNjIpOwogICAgICAgIAogICAgCiAgICAgICAgdmFyIHBvcHVwX2RjNTBiMzQ0ODAwMTQ5NWE4NWNlZmZlMDg3OTEwZDc0ID0gTC5wb3B1cCh7Im1heFdpZHRoIjogIjEwMCUifSk7CgogICAgICAgIAogICAgICAgICAgICB2YXIgaHRtbF83ZmM0ZDQxZDQ1MDM0OTdkYThhMDJlOGM5N2E0ZTM2MyA9ICQoYDxkaXYgaWQ9Imh0bWxfN2ZjNGQ0MWQ0NTAzNDk3ZGE4YTAyZThjOTdhNGUzNjMiIHN0eWxlPSJ3aWR0aDogMTAwLjAlOyBoZWlnaHQ6IDEwMC4wJTsiPkFpcnBvcnQ8L2Rpdj5gKVswXTsKICAgICAgICAgICAgcG9wdXBfZGM1MGIzNDQ4MDAxNDk1YTg1Y2VmZmUwODc5MTBkNzQuc2V0Q29udGVudChodG1sXzdmYzRkNDFkNDUwMzQ5N2RhOGEwMmU4Yzk3YTRlMzYzKTsKICAgICAgICAKCiAgICAgICAgbWFya2VyX2VkYmQ2Y2MxYTFkMjQwMmE5ODI3NDhiZWI3NTljNTQ5LmJpbmRQb3B1cChwb3B1cF9kYzUwYjM0NDgwMDE0OTVhODVjZWZmZTA4NzkxMGQ3NCkKICAgICAgICA7CgogICAgICAgIAogICAgCiAgICAKICAgICAgICAgICAgdmFyIG1hcmtlcl9iYTU0YTZmMTNjOWU0YmU4YTI1MTc0NGI4YzQ0ZGZlMyA9IEwubWFya2VyKAogICAgICAgICAgICAgICAgWzI2LjMzMzMzLCAxMjcuODMzM10sCiAgICAgICAgICAgICAgICB7fQogICAgICAgICAgICApLmFkZFRvKG1hcF9mZGZjYWRkM2FhZmM0MDNkOWRhMGYwNzIzNTQxNzMyMyk7CiAgICAgICAgCiAgICAKICAgICAgICAgICAgdmFyIGljb25fOTMyOTY3Yzk2MmQ2NGMwZWEzYjE2YzkzZDZhZGFmMzkgPSBMLkF3ZXNvbWVNYXJrZXJzLmljb24oCiAgICAgICAgICAgICAgICB7ImV4dHJhQ2xhc3NlcyI6ICJmYS1yb3RhdGUtMCIsICJpY29uIjogImluZm8tc2lnbiIsICJpY29uQ29sb3IiOiAid2hpdGUiLCAibWFya2VyQ29sb3IiOiAiYmx1ZSIsICJwcmVmaXgiOiAiZ2x5cGhpY29uIn0KICAgICAgICAgICAgKTsKICAgICAgICAgICAgbWFya2VyX2JhNTRhNmYxM2M5ZTRiZThhMjUxNzQ0YjhjNDRkZmUzLnNldEljb24oaWNvbl85MzI5NjdjOTYyZDY0YzBlYTNiMTZjOTNkNmFkYWYzOSk7CiAgICAgICAgCiAgICAKICAgICAgICB2YXIgcG9wdXBfNmNlNmZkMzc0OGY0NDgzMzg1NTY0OTdjZGEwNWE2MjUgPSBMLnBvcHVwKHsibWF4V2lkdGgiOiAiMTAwJSJ9KTsKCiAgICAgICAgCiAgICAgICAgICAgIHZhciBodG1sX2I5Mjg1ZWVkNGI3NTQ0ZGViYmI4YjE1ZjQzOWM2NGFiID0gJChgPGRpdiBpZD0iaHRtbF9iOTI4NWVlZDRiNzU0NGRlYmJiOGIxNWY0MzljNjRhYiIgc3R5bGU9IndpZHRoOiAxMDAuMCU7IGhlaWdodDogMTAwLjAlOyI+QWlycG9ydDwvZGl2PmApWzBdOwogICAgICAgICAgICBwb3B1cF82Y2U2ZmQzNzQ4ZjQ0ODMzODU1NjQ5N2NkYTA1YTYyNS5zZXRDb250ZW50KGh0bWxfYjkyODVlZWQ0Yjc1NDRkZWJiYjhiMTVmNDM5YzY0YWIpOwogICAgICAgIAoKICAgICAgICBtYXJrZXJfYmE1NGE2ZjEzYzllNGJlOGEyNTE3NDRiOGM0NGRmZTMuYmluZFBvcHVwKHBvcHVwXzZjZTZmZDM3NDhmNDQ4MzM4NTU2NDk3Y2RhMDVhNjI1KQogICAgICAgIDsKCiAgICAgICAgCiAgICAKICAgIAogICAgICAgICAgICB2YXIgbWFya2VyXzFiOTIwNDA0MDk2NTRhMGRhOTkwY2YxN2IwMzhiNDljID0gTC5tYXJrZXIoCiAgICAgICAgICAgICAgICBbNDcuNDQ4ODkwMDAwMDAwMDA2LCAtMTIyLjMwOTRdLAogICAgICAgICAgICAgICAge30KICAgICAgICAgICAgKS5hZGRUbyhtYXBfZmRmY2FkZDNhYWZjNDAzZDlkYTBmMDcyMzU0MTczMjMpOwogICAgICAgIAogICAgCiAgICAgICAgICAgIHZhciBpY29uXzUwYThkZDE4NWQ3OTRjNjJiY2MzMGNlOTFhZTk0ODYxID0gTC5Bd2Vzb21lTWFya2Vycy5pY29uKAogICAgICAgICAgICAgICAgeyJleHRyYUNsYXNzZXMiOiAiZmEtcm90YXRlLTAiLCAiaWNvbiI6ICJpbmZvLXNpZ24iLCAiaWNvbkNvbG9yIjogIndoaXRlIiwgIm1hcmtlckNvbG9yIjogImJsdWUiLCAicHJlZml4IjogImdseXBoaWNvbiJ9CiAgICAgICAgICAgICk7CiAgICAgICAgICAgIG1hcmtlcl8xYjkyMDQwNDA5NjU0YTBkYTk5MGNmMTdiMDM4YjQ5Yy5zZXRJY29uKGljb25fNTBhOGRkMTg1ZDc5NGM2MmJjYzMwY2U5MWFlOTQ4NjEpOwogICAgICAgIAogICAgCiAgICAgICAgdmFyIHBvcHVwX2ZjMmM3NjFlNDdjYzQyZjBhNWNiMzM1Y2QxN2YxZGUwID0gTC5wb3B1cCh7Im1heFdpZHRoIjogIjEwMCUifSk7CgogICAgICAgIAogICAgICAgICAgICB2YXIgaHRtbF85OWRkODgwZmVhZmE0MGI3ODFkYTkzYTE2NjMxYjE5MCA9ICQoYDxkaXYgaWQ9Imh0bWxfOTlkZDg4MGZlYWZhNDBiNzgxZGE5M2ExNjYzMWIxOTAiIHN0eWxlPSJ3aWR0aDogMTAwLjAlOyBoZWlnaHQ6IDEwMC4wJTsiPkFpcnBvcnQ8L2Rpdj5gKVswXTsKICAgICAgICAgICAgcG9wdXBfZmMyYzc2MWU0N2NjNDJmMGE1Y2IzMzVjZDE3ZjFkZTAuc2V0Q29udGVudChodG1sXzk5ZGQ4ODBmZWFmYTQwYjc4MWRhOTNhMTY2MzFiMTkwKTsKICAgICAgICAKCiAgICAgICAgbWFya2VyXzFiOTIwNDA0MDk2NTRhMGRhOTkwY2YxN2IwMzhiNDljLmJpbmRQb3B1cChwb3B1cF9mYzJjNzYxZTQ3Y2M0MmYwYTVjYjMzNWNkMTdmMWRlMCkKICAgICAgICA7CgogICAgICAgIAogICAgCiAgICAKICAgICAgICAgICAgdmFyIG1hcmtlcl8yZDA3NjRiOGJkNTc0NzI0OTJmM2ViYmM1ZjE5ZmIxZSA9IEwubWFya2VyKAogICAgICAgICAgICAgICAgWzU4Ljg3NjY3LCA1LjYzNzc3OF0sCiAgICAgICAgICAgICAgICB7fQogICAgICAgICAgICApLmFkZFRvKG1hcF9mZGZjYWRkM2FhZmM0MDNkOWRhMGYwNzIzNTQxNzMyMyk7CiAgICAgICAgCiAgICAKICAgICAgICAgICAgdmFyIGljb25fZjgwMGMzZTExYTUwNDljY2JlZjI5YTE4YTY3OGQwODkgPSBMLkF3ZXNvbWVNYXJrZXJzLmljb24oCiAgICAgICAgICAgICAgICB7ImV4dHJhQ2xhc3NlcyI6ICJmYS1yb3RhdGUtMCIsICJpY29uIjogImluZm8tc2lnbiIsICJpY29uQ29sb3IiOiAid2hpdGUiLCAibWFya2VyQ29sb3IiOiAiYmx1ZSIsICJwcmVmaXgiOiAiZ2x5cGhpY29uIn0KICAgICAgICAgICAgKTsKICAgICAgICAgICAgbWFya2VyXzJkMDc2NGI4YmQ1NzQ3MjQ5MmYzZWJiYzVmMTlmYjFlLnNldEljb24oaWNvbl9mODAwYzNlMTFhNTA0OWNjYmVmMjlhMThhNjc4ZDA4OSk7CiAgICAgICAgCiAgICAKICAgICAgICB2YXIgcG9wdXBfOWY4ZDdhNDY2YmRjNGRkYmE1ZGEzN2NkMzEzODE3ZWUgPSBMLnBvcHVwKHsibWF4V2lkdGgiOiAiMTAwJSJ9KTsKCiAgICAgICAgCiAgICAgICAgICAgIHZhciBodG1sXzc1ZGRmZjM5ODVjNjQ4M2FhODQyZWI3ZDA2OGQyZTM0ID0gJChgPGRpdiBpZD0iaHRtbF83NWRkZmYzOTg1YzY0ODNhYTg0MmViN2QwNjhkMmUzNCIgc3R5bGU9IndpZHRoOiAxMDAuMCU7IGhlaWdodDogMTAwLjAlOyI+QWlycG9ydDwvZGl2PmApWzBdOwogICAgICAgICAgICBwb3B1cF85ZjhkN2E0NjZiZGM0ZGRiYTVkYTM3Y2QzMTM4MTdlZS5zZXRDb250ZW50KGh0bWxfNzVkZGZmMzk4NWM2NDgzYWE4NDJlYjdkMDY4ZDJlMzQpOwogICAgICAgIAoKICAgICAgICBtYXJrZXJfMmQwNzY0YjhiZDU3NDcyNDkyZjNlYmJjNWYxOWZiMWUuYmluZFBvcHVwKHBvcHVwXzlmOGQ3YTQ2NmJkYzRkZGJhNWRhMzdjZDMxMzgxN2VlKQogICAgICAgIDsKCiAgICAgICAgCiAgICAKICAgIAogICAgICAgICAgICB2YXIgbWFya2VyXzVkOWMxMjhkNzYzMTRmZGNhNGJlYTZlOTQ5OTRkM2E5ID0gTC5tYXJrZXIoCiAgICAgICAgICAgICAgICBbLTEyLjAyMTkzOTk5OTk5OTk5OSwgLTc3LjExNDQ0XSwKICAgICAgICAgICAgICAgIHt9CiAgICAgICAgICAgICkuYWRkVG8obWFwX2ZkZmNhZGQzYWFmYzQwM2Q5ZGEwZjA3MjM1NDE3MzIzKTsKICAgICAgICAKICAgIAogICAgICAgICAgICB2YXIgaWNvbl9lZWRiZjZiOGMxZTg0MDYzOTExZTVlZWE2OTBiYzBkNiA9IEwuQXdlc29tZU1hcmtlcnMuaWNvbigKICAgICAgICAgICAgICAgIHsiZXh0cmFDbGFzc2VzIjogImZhLXJvdGF0ZS0wIiwgImljb24iOiAiaW5mby1zaWduIiwgImljb25Db2xvciI6ICJ3aGl0ZSIsICJtYXJrZXJDb2xvciI6ICJibHVlIiwgInByZWZpeCI6ICJnbHlwaGljb24ifQogICAgICAgICAgICApOwogICAgICAgICAgICBtYXJrZXJfNWQ5YzEyOGQ3NjMxNGZkY2E0YmVhNmU5NDk5NGQzYTkuc2V0SWNvbihpY29uX2VlZGJmNmI4YzFlODQwNjM5MTFlNWVlYTY5MGJjMGQ2KTsKICAgICAgICAKICAgIAogICAgICAgIHZhciBwb3B1cF9kNzdmNjFlYjI3M2M0NmQ3YTkwNmViODBhY2I1NDgzOSA9IEwucG9wdXAoeyJtYXhXaWR0aCI6ICIxMDAlIn0pOwoKICAgICAgICAKICAgICAgICAgICAgdmFyIGh0bWxfMzY3MmY5OWM1YjE2NGYyNDk4MGFjNTY3ZDE5MDBiZDcgPSAkKGA8ZGl2IGlkPSJodG1sXzM2NzJmOTljNWIxNjRmMjQ5ODBhYzU2N2QxOTAwYmQ3IiBzdHlsZT0id2lkdGg6IDEwMC4wJTsgaGVpZ2h0OiAxMDAuMCU7Ij5BaXJwb3J0PC9kaXY+YClbMF07CiAgICAgICAgICAgIHBvcHVwX2Q3N2Y2MWViMjczYzQ2ZDdhOTA2ZWI4MGFjYjU0ODM5LnNldENvbnRlbnQoaHRtbF8zNjcyZjk5YzViMTY0ZjI0OTgwYWM1NjdkMTkwMGJkNyk7CiAgICAgICAgCgogICAgICAgIG1hcmtlcl81ZDljMTI4ZDc2MzE0ZmRjYTRiZWE2ZTk0OTk0ZDNhOS5iaW5kUG9wdXAocG9wdXBfZDc3ZjYxZWIyNzNjNDZkN2E5MDZlYjgwYWNiNTQ4MzkpCiAgICAgICAgOwoKICAgICAgICAKICAgIAogICAgCiAgICAgICAgICAgIHZhciBtYXJrZXJfNzM1NTcwMjJhM2E2NDQwZDhkZDg4OGY2YTc5MDUyMDQgPSBMLm1hcmtlcigKICAgICAgICAgICAgICAgIFsxLjM1MDI3OCwgMTAzLjk5NDRdLAogICAgICAgICAgICAgICAge30KICAgICAgICAgICAgKS5hZGRUbyhtYXBfZmRmY2FkZDNhYWZjNDAzZDlkYTBmMDcyMzU0MTczMjMpOwogICAgICAgIAogICAgCiAgICAgICAgICAgIHZhciBpY29uX2E2NWQ3Y2I3MWFhYzQ2MzlhODExNDBhYzI3MzJlNjYxID0gTC5Bd2Vzb21lTWFya2Vycy5pY29uKAogICAgICAgICAgICAgICAgeyJleHRyYUNsYXNzZXMiOiAiZmEtcm90YXRlLTAiLCAiaWNvbiI6ICJpbmZvLXNpZ24iLCAiaWNvbkNvbG9yIjogIndoaXRlIiwgIm1hcmtlckNvbG9yIjogImJsdWUiLCAicHJlZml4IjogImdseXBoaWNvbiJ9CiAgICAgICAgICAgICk7CiAgICAgICAgICAgIG1hcmtlcl83MzU1NzAyMmEzYTY0NDBkOGRkODg4ZjZhNzkwNTIwNC5zZXRJY29uKGljb25fYTY1ZDdjYjcxYWFjNDYzOWE4MTE0MGFjMjczMmU2NjEpOwogICAgICAgIAogICAgCiAgICAgICAgdmFyIHBvcHVwX2IzYzlmZmI0ZjYxOTRhNTBiNmQ4MDIwY2MwYmY4NmEzID0gTC5wb3B1cCh7Im1heFdpZHRoIjogIjEwMCUifSk7CgogICAgICAgIAogICAgICAgICAgICB2YXIgaHRtbF82MWRjM2ExYzFhZWE0ZWNmOGFhOGRhYTBkZDJkYTlmMyA9ICQoYDxkaXYgaWQ9Imh0bWxfNjFkYzNhMWMxYWVhNGVjZjhhYThkYWEwZGQyZGE5ZjMiIHN0eWxlPSJ3aWR0aDogMTAwLjAlOyBoZWlnaHQ6IDEwMC4wJTsiPkFpcnBvcnQ8L2Rpdj5gKVswXTsKICAgICAgICAgICAgcG9wdXBfYjNjOWZmYjRmNjE5NGE1MGI2ZDgwMjBjYzBiZjg2YTMuc2V0Q29udGVudChodG1sXzYxZGMzYTFjMWFlYTRlY2Y4YWE4ZGFhMGRkMmRhOWYzKTsKICAgICAgICAKCiAgICAgICAgbWFya2VyXzczNTU3MDIyYTNhNjQ0MGQ4ZGQ4ODhmNmE3OTA1MjA0LmJpbmRQb3B1cChwb3B1cF9iM2M5ZmZiNGY2MTk0YTUwYjZkODAyMGNjMGJmODZhMykKICAgICAgICA7CgogICAgICAgIAogICAgCiAgICAKICAgICAgICAgICAgdmFyIG1hcmtlcl80NGIzYWVmNmIwZmY0ZTVkYjg1MGQ4NzllZTJmYWEzMCA9IEwubWFya2VyKAogICAgICAgICAgICAgICAgWzU1LjU1LCAxMy4zNjY2NzAwMDAwMDAwMDFdLAogICAgICAgICAgICAgICAge30KICAgICAgICAgICAgKS5hZGRUbyhtYXBfZmRmY2FkZDNhYWZjNDAzZDlkYTBmMDcyMzU0MTczMjMpOwogICAgICAgIAogICAgCiAgICAgICAgICAgIHZhciBpY29uXzU3MzQ5M2E1YjFjZjRiZDk4NzYwNjQ0MTk2MmU5MzM1ID0gTC5Bd2Vzb21lTWFya2Vycy5pY29uKAogICAgICAgICAgICAgICAgeyJleHRyYUNsYXNzZXMiOiAiZmEtcm90YXRlLTAiLCAiaWNvbiI6ICJpbmZvLXNpZ24iLCAiaWNvbkNvbG9yIjogIndoaXRlIiwgIm1hcmtlckNvbG9yIjogImJsdWUiLCAicHJlZml4IjogImdseXBoaWNvbiJ9CiAgICAgICAgICAgICk7CiAgICAgICAgICAgIG1hcmtlcl80NGIzYWVmNmIwZmY0ZTVkYjg1MGQ4NzllZTJmYWEzMC5zZXRJY29uKGljb25fNTczNDkzYTViMWNmNGJkOTg3NjA2NDQxOTYyZTkzMzUpOwogICAgICAgIAogICAgCiAgICAgICAgdmFyIHBvcHVwXzJiYjc3YjRiNThiZTQ0NzliYTc3NWI2ZDU5MmRlZTUzID0gTC5wb3B1cCh7Im1heFdpZHRoIjogIjEwMCUifSk7CgogICAgICAgIAogICAgICAgICAgICB2YXIgaHRtbF81NjJkNjFiMDQxZmU0Nzk0OGZlZGZmYmNmNmFiYzRiNSA9ICQoYDxkaXYgaWQ9Imh0bWxfNTYyZDYxYjA0MWZlNDc5NDhmZWRmZmJjZjZhYmM0YjUiIHN0eWxlPSJ3aWR0aDogMTAwLjAlOyBoZWlnaHQ6IDEwMC4wJTsiPkFpcnBvcnQ8L2Rpdj5gKVswXTsKICAgICAgICAgICAgcG9wdXBfMmJiNzdiNGI1OGJlNDQ3OWJhNzc1YjZkNTkyZGVlNTMuc2V0Q29udGVudChodG1sXzU2MmQ2MWIwNDFmZTQ3OTQ4ZmVkZmZiY2Y2YWJjNGI1KTsKICAgICAgICAKCiAgICAgICAgbWFya2VyXzQ0YjNhZWY2YjBmZjRlNWRiODUwZDg3OWVlMmZhYTMwLmJpbmRQb3B1cChwb3B1cF8yYmI3N2I0YjU4YmU0NDc5YmE3NzViNmQ1OTJkZWU1MykKICAgICAgICA7CgogICAgICAgIAogICAgCiAgICAKICAgICAgICAgICAgdmFyIG1hcmtlcl8zMzUxNDU2M2I0YjI0ZjlkYTZhNGNlZjhkMGJjY2JlOSA9IEwubWFya2VyKAogICAgICAgICAgICAgICAgWzIxLjY3OTQ0LCAzOS4xNTY2N10sCiAgICAgICAgICAgICAgICB7fQogICAgICAgICAgICApLmFkZFRvKG1hcF9mZGZjYWRkM2FhZmM0MDNkOWRhMGYwNzIzNTQxNzMyMyk7CiAgICAgICAgCiAgICAKICAgICAgICAgICAgdmFyIGljb25fNjVkMzk4ZjQ4ZmQxNDc2MmFlOTQ1NTJlODQ0MDhiZjYgPSBMLkF3ZXNvbWVNYXJrZXJzLmljb24oCiAgICAgICAgICAgICAgICB7ImV4dHJhQ2xhc3NlcyI6ICJmYS1yb3RhdGUtMCIsICJpY29uIjogImluZm8tc2lnbiIsICJpY29uQ29sb3IiOiAid2hpdGUiLCAibWFya2VyQ29sb3IiOiAiYmx1ZSIsICJwcmVmaXgiOiAiZ2x5cGhpY29uIn0KICAgICAgICAgICAgKTsKICAgICAgICAgICAgbWFya2VyXzMzNTE0NTYzYjRiMjRmOWRhNmE0Y2VmOGQwYmNjYmU5LnNldEljb24oaWNvbl82NWQzOThmNDhmZDE0NzYyYWU5NDU1MmU4NDQwOGJmNik7CiAgICAgICAgCiAgICAKICAgICAgICB2YXIgcG9wdXBfZjJhMzI0NjY3MDRmNGRhNjlkNzkyOGM0NzU5ZjJlZDkgPSBMLnBvcHVwKHsibWF4V2lkdGgiOiAiMTAwJSJ9KTsKCiAgICAgICAgCiAgICAgICAgICAgIHZhciBodG1sXzRkYzgwZDkyZWQwODRhOTI4OGU2ODBjMThmY2FkYWU5ID0gJChgPGRpdiBpZD0iaHRtbF80ZGM4MGQ5MmVkMDg0YTkyODhlNjgwYzE4ZmNhZGFlOSIgc3R5bGU9IndpZHRoOiAxMDAuMCU7IGhlaWdodDogMTAwLjAlOyI+QWlycG9ydDwvZGl2PmApWzBdOwogICAgICAgICAgICBwb3B1cF9mMmEzMjQ2NjcwNGY0ZGE2OWQ3OTI4YzQ3NTlmMmVkOS5zZXRDb250ZW50KGh0bWxfNGRjODBkOTJlZDA4NGE5Mjg4ZTY4MGMxOGZjYWRhZTkpOwogICAgICAgIAoKICAgICAgICBtYXJrZXJfMzM1MTQ1NjNiNGIyNGY5ZGE2YTRjZWY4ZDBiY2NiZTkuYmluZFBvcHVwKHBvcHVwX2YyYTMyNDY2NzA0ZjRkYTY5ZDc5MjhjNDc1OWYyZWQ5KQogICAgICAgIDsKCiAgICAgICAgCiAgICAKICAgIAogICAgICAgICAgICB2YXIgbWFya2VyXzU1NDczNjRhZDZiZjQyZTM4MjlhNzAzNTAzNzJkODJjID0gTC5tYXJrZXIoCiAgICAgICAgICAgICAgICBbMzYuOTE2NjcsIDMwLjhdLAogICAgICAgICAgICAgICAge30KICAgICAgICAgICAgKS5hZGRUbyhtYXBfZmRmY2FkZDNhYWZjNDAzZDlkYTBmMDcyMzU0MTczMjMpOwogICAgICAgIAogICAgCiAgICAgICAgICAgIHZhciBpY29uXzNiMmExYzE5ZjE2NDQ0NDY5YWEyMDUxNmE0YTIyMDU5ID0gTC5Bd2Vzb21lTWFya2Vycy5pY29uKAogICAgICAgICAgICAgICAgeyJleHRyYUNsYXNzZXMiOiAiZmEtcm90YXRlLTAiLCAiaWNvbiI6ICJpbmZvLXNpZ24iLCAiaWNvbkNvbG9yIjogIndoaXRlIiwgIm1hcmtlckNvbG9yIjogImJsdWUiLCAicHJlZml4IjogImdseXBoaWNvbiJ9CiAgICAgICAgICAgICk7CiAgICAgICAgICAgIG1hcmtlcl81NTQ3MzY0YWQ2YmY0MmUzODI5YTcwMzUwMzcyZDgyYy5zZXRJY29uKGljb25fM2IyYTFjMTlmMTY0NDQ0NjlhYTIwNTE2YTRhMjIwNTkpOwogICAgICAgIAogICAgCiAgICAgICAgdmFyIHBvcHVwXzAwNDRkMzAzOTljYzQyMDViNjU5MWQyZGQ1ZDIwZTMzID0gTC5wb3B1cCh7Im1heFdpZHRoIjogIjEwMCUifSk7CgogICAgICAgIAogICAgICAgICAgICB2YXIgaHRtbF8wYzJiMjg4OTNlYjE0ODE5OGY5ZDAwMGJkNDYwMGE5OCA9ICQoYDxkaXYgaWQ9Imh0bWxfMGMyYjI4ODkzZWIxNDgxOThmOWQwMDBiZDQ2MDBhOTgiIHN0eWxlPSJ3aWR0aDogMTAwLjAlOyBoZWlnaHQ6IDEwMC4wJTsiPkFpcnBvcnQ8L2Rpdj5gKVswXTsKICAgICAgICAgICAgcG9wdXBfMDA0NGQzMDM5OWNjNDIwNWI2NTkxZDJkZDVkMjBlMzMuc2V0Q29udGVudChodG1sXzBjMmIyODg5M2ViMTQ4MTk4ZjlkMDAwYmQ0NjAwYTk4KTsKICAgICAgICAKCiAgICAgICAgbWFya2VyXzU1NDczNjRhZDZiZjQyZTM4MjlhNzAzNTAzNzJkODJjLmJpbmRQb3B1cChwb3B1cF8wMDQ0ZDMwMzk5Y2M0MjA1YjY1OTFkMmRkNWQyMGUzMykKICAgICAgICA7CgogICAgICAgIAogICAgCiAgICAKICAgICAgICAgICAgdmFyIG1hcmtlcl83NTJkZWIxMjM2YTU0MGRjYjU2NDgzYjQ5ZDg0NTM4ZCA9IEwubWFya2VyKAogICAgICAgICAgICAgICAgWzM4Ljg1MTk0LCAtNzcuMDM3NzhdLAogICAgICAgICAgICAgICAge30KICAgICAgICAgICAgKS5hZGRUbyhtYXBfZmRmY2FkZDNhYWZjNDAzZDlkYTBmMDcyMzU0MTczMjMpOwogICAgICAgIAogICAgCiAgICAgICAgICAgIHZhciBpY29uX2NlNzYwOTQ5OWUxODQ1YWZiMzU1MGQ5NDJmZGE3Nzk2ID0gTC5Bd2Vzb21lTWFya2Vycy5pY29uKAogICAgICAgICAgICAgICAgeyJleHRyYUNsYXNzZXMiOiAiZmEtcm90YXRlLTAiLCAiaWNvbiI6ICJpbmZvLXNpZ24iLCAiaWNvbkNvbG9yIjogIndoaXRlIiwgIm1hcmtlckNvbG9yIjogImJsdWUiLCAicHJlZml4IjogImdseXBoaWNvbiJ9CiAgICAgICAgICAgICk7CiAgICAgICAgICAgIG1hcmtlcl83NTJkZWIxMjM2YTU0MGRjYjU2NDgzYjQ5ZDg0NTM4ZC5zZXRJY29uKGljb25fY2U3NjA5NDk5ZTE4NDVhZmIzNTUwZDk0MmZkYTc3OTYpOwogICAgICAgIAogICAgCiAgICAgICAgdmFyIHBvcHVwXzEwMWU2Zjk4MGQ2NTRiNDM4ZDE3NzgxYTk0MTg5YmE2ID0gTC5wb3B1cCh7Im1heFdpZHRoIjogIjEwMCUifSk7CgogICAgICAgIAogICAgICAgICAgICB2YXIgaHRtbF9kNTU5MWZhZTljZjk0NGE1OTA4ZWRkYmRiM2RkYWI3MiA9ICQoYDxkaXYgaWQ9Imh0bWxfZDU1OTFmYWU5Y2Y5NDRhNTkwOGVkZGJkYjNkZGFiNzIiIHN0eWxlPSJ3aWR0aDogMTAwLjAlOyBoZWlnaHQ6IDEwMC4wJTsiPkFpcnBvcnQ8L2Rpdj5gKVswXTsKICAgICAgICAgICAgcG9wdXBfMTAxZTZmOTgwZDY1NGI0MzhkMTc3ODFhOTQxODliYTYuc2V0Q29udGVudChodG1sX2Q1NTkxZmFlOWNmOTQ0YTU5MDhlZGRiZGIzZGRhYjcyKTsKICAgICAgICAKCiAgICAgICAgbWFya2VyXzc1MmRlYjEyMzZhNTQwZGNiNTY0ODNiNDlkODQ1MzhkLmJpbmRQb3B1cChwb3B1cF8xMDFlNmY5ODBkNjU0YjQzOGQxNzc4MWE5NDE4OWJhNikKICAgICAgICA7CgogICAgICAgIAogICAgCiAgICAKICAgICAgICAgICAgdmFyIG1hcmtlcl82NWQ5NjdlMWYzMTc0MThhYWJlMWFmZDQ3YTE2MmY3YyA9IEwubWFya2VyKAogICAgICAgICAgICAgICAgWzQ4LjY4MzMzLCA5LjJdLAogICAgICAgICAgICAgICAge30KICAgICAgICAgICAgKS5hZGRUbyhtYXBfZmRmY2FkZDNhYWZjNDAzZDlkYTBmMDcyMzU0MTczMjMpOwogICAgICAgIAogICAgCiAgICAgICAgICAgIHZhciBpY29uXzY0YmIzMzkzZjY2MTQ4ZGJhMzAwZDVjYWY0ZWFiZGFmID0gTC5Bd2Vzb21lTWFya2Vycy5pY29uKAogICAgICAgICAgICAgICAgeyJleHRyYUNsYXNzZXMiOiAiZmEtcm90YXRlLTAiLCAiaWNvbiI6ICJpbmZvLXNpZ24iLCAiaWNvbkNvbG9yIjogIndoaXRlIiwgIm1hcmtlckNvbG9yIjogImJsdWUiLCAicHJlZml4IjogImdseXBoaWNvbiJ9CiAgICAgICAgICAgICk7CiAgICAgICAgICAgIG1hcmtlcl82NWQ5NjdlMWYzMTc0MThhYWJlMWFmZDQ3YTE2MmY3Yy5zZXRJY29uKGljb25fNjRiYjMzOTNmNjYxNDhkYmEzMDBkNWNhZjRlYWJkYWYpOwogICAgICAgIAogICAgCiAgICAgICAgdmFyIHBvcHVwX2NmYTAwZjk3ODMzZDQwYTU4ZDkxMzk5NDMzNWUzOWQyID0gTC5wb3B1cCh7Im1heFdpZHRoIjogIjEwMCUifSk7CgogICAgICAgIAogICAgICAgICAgICB2YXIgaHRtbF9kOTIyMGI1ZTM0MTQ0OTQxOTI3MzhlZTMwMmY4ZjczNCA9ICQoYDxkaXYgaWQ9Imh0bWxfZDkyMjBiNWUzNDE0NDk0MTkyNzM4ZWUzMDJmOGY3MzQiIHN0eWxlPSJ3aWR0aDogMTAwLjAlOyBoZWlnaHQ6IDEwMC4wJTsiPkFpcnBvcnQ8L2Rpdj5gKVswXTsKICAgICAgICAgICAgcG9wdXBfY2ZhMDBmOTc4MzNkNDBhNThkOTEzOTk0MzM1ZTM5ZDIuc2V0Q29udGVudChodG1sX2Q5MjIwYjVlMzQxNDQ5NDE5MjczOGVlMzAyZjhmNzM0KTsKICAgICAgICAKCiAgICAgICAgbWFya2VyXzY1ZDk2N2UxZjMxNzQxOGFhYmUxYWZkNDdhMTYyZjdjLmJpbmRQb3B1cChwb3B1cF9jZmEwMGY5NzgzM2Q0MGE1OGQ5MTM5OTQzMzVlMzlkMikKICAgICAgICA7CgogICAgICAgIAogICAgCiAgICAKICAgICAgICAgICAgdmFyIG1hcmtlcl81YzViMDAwMjFjMWU0MWY1YWYzZjY2M2Y2OWFkNmI2OCA9IEwubWFya2VyKAogICAgICAgICAgICAgICAgWzQwLjEzMzMzLCAzMy4wXSwKICAgICAgICAgICAgICAgIHt9CiAgICAgICAgICAgICkuYWRkVG8obWFwX2ZkZmNhZGQzYWFmYzQwM2Q5ZGEwZjA3MjM1NDE3MzIzKTsKICAgICAgICAKICAgIAogICAgICAgICAgICB2YXIgaWNvbl9kZmFlMTcyNzlhOTM0NGMyYmU1ZjFlNmNkNjQ3NzkzYiA9IEwuQXdlc29tZU1hcmtlcnMuaWNvbigKICAgICAgICAgICAgICAgIHsiZXh0cmFDbGFzc2VzIjogImZhLXJvdGF0ZS0wIiwgImljb24iOiAiaW5mby1zaWduIiwgImljb25Db2xvciI6ICJ3aGl0ZSIsICJtYXJrZXJDb2xvciI6ICJibHVlIiwgInByZWZpeCI6ICJnbHlwaGljb24ifQogICAgICAgICAgICApOwogICAgICAgICAgICBtYXJrZXJfNWM1YjAwMDIxYzFlNDFmNWFmM2Y2NjNmNjlhZDZiNjguc2V0SWNvbihpY29uX2RmYWUxNzI3OWE5MzQ0YzJiZTVmMWU2Y2Q2NDc3OTNiKTsKICAgICAgICAKICAgIAogICAgICAgIHZhciBwb3B1cF8xYTQ5OGE3Zjk3Y2U0M2EyYWE4OWQ2OGU5ZjgwNDRiYyA9IEwucG9wdXAoeyJtYXhXaWR0aCI6ICIxMDAlIn0pOwoKICAgICAgICAKICAgICAgICAgICAgdmFyIGh0bWxfMDc3MWRiMmY0OWM5NGJlYWJkZTEzMzcxZWMxNzAxN2UgPSAkKGA8ZGl2IGlkPSJodG1sXzA3NzFkYjJmNDljOTRiZWFiZGUxMzM3MWVjMTcwMTdlIiBzdHlsZT0id2lkdGg6IDEwMC4wJTsgaGVpZ2h0OiAxMDAuMCU7Ij5BaXJwb3J0PC9kaXY+YClbMF07CiAgICAgICAgICAgIHBvcHVwXzFhNDk4YTdmOTdjZTQzYTJhYTg5ZDY4ZTlmODA0NGJjLnNldENvbnRlbnQoaHRtbF8wNzcxZGIyZjQ5Yzk0YmVhYmRlMTMzNzFlYzE3MDE3ZSk7CiAgICAgICAgCgogICAgICAgIG1hcmtlcl81YzViMDAwMjFjMWU0MWY1YWYzZjY2M2Y2OWFkNmI2OC5iaW5kUG9wdXAocG9wdXBfMWE0OThhN2Y5N2NlNDNhMmFhODlkNjhlOWY4MDQ0YmMpCiAgICAgICAgOwoKICAgICAgICAKICAgIAogICAgCiAgICAgICAgICAgIHZhciBtYXJrZXJfMWVlMTU2ZmNmODE5NDcxODhmY2VmY2FhNzI4MWMzNzkgPSBMLm1hcmtlcigKICAgICAgICAgICAgICAgIFszNS41NTIyMiwgMTM5Ljc3OTddLAogICAgICAgICAgICAgICAge30KICAgICAgICAgICAgKS5hZGRUbyhtYXBfZmRmY2FkZDNhYWZjNDAzZDlkYTBmMDcyMzU0MTczMjMpOwogICAgICAgIAogICAgCiAgICAgICAgICAgIHZhciBpY29uXzcxOGQwODdhZDg5MjRkOWRiMTEzMjY5MzgxMmNiODczID0gTC5Bd2Vzb21lTWFya2Vycy5pY29uKAogICAgICAgICAgICAgICAgeyJleHRyYUNsYXNzZXMiOiAiZmEtcm90YXRlLTAiLCAiaWNvbiI6ICJpbmZvLXNpZ24iLCAiaWNvbkNvbG9yIjogIndoaXRlIiwgIm1hcmtlckNvbG9yIjogImJsdWUiLCAicHJlZml4IjogImdseXBoaWNvbiJ9CiAgICAgICAgICAgICk7CiAgICAgICAgICAgIG1hcmtlcl8xZWUxNTZmY2Y4MTk0NzE4OGZjZWZjYWE3MjgxYzM3OS5zZXRJY29uKGljb25fNzE4ZDA4N2FkODkyNGQ5ZGIxMTMyNjkzODEyY2I4NzMpOwogICAgICAgIAogICAgCiAgICAgICAgdmFyIHBvcHVwX2NlMTU2OTZkODg1NjRjYjhhYzdhYmIyOGJhODIyNGMxID0gTC5wb3B1cCh7Im1heFdpZHRoIjogIjEwMCUifSk7CgogICAgICAgIAogICAgICAgICAgICB2YXIgaHRtbF84MWE4ZGM1YzA4M2Y0MGE0ODc5YWU0Y2Q4NjBjMzUwNyA9ICQoYDxkaXYgaWQ9Imh0bWxfODFhOGRjNWMwODNmNDBhNDg3OWFlNGNkODYwYzM1MDciIHN0eWxlPSJ3aWR0aDogMTAwLjAlOyBoZWlnaHQ6IDEwMC4wJTsiPkFpcnBvcnQ8L2Rpdj5gKVswXTsKICAgICAgICAgICAgcG9wdXBfY2UxNTY5NmQ4ODU2NGNiOGFjN2FiYjI4YmE4MjI0YzEuc2V0Q29udGVudChodG1sXzgxYThkYzVjMDgzZjQwYTQ4NzlhZTRjZDg2MGMzNTA3KTsKICAgICAgICAKCiAgICAgICAgbWFya2VyXzFlZTE1NmZjZjgxOTQ3MTg4ZmNlZmNhYTcyODFjMzc5LmJpbmRQb3B1cChwb3B1cF9jZTE1Njk2ZDg4NTY0Y2I4YWM3YWJiMjhiYTgyMjRjMSkKICAgICAgICA7CgogICAgICAgIAogICAgCiAgICAKICAgICAgICAgICAgdmFyIG1hcmtlcl8yMDcwYzJmMmI4OWY0YjZhYTI0OTIwYjZhYjE2ZWFhZiA9IEwubWFya2VyKAogICAgICAgICAgICAgICAgWy0zMy41NTk3MiwgLTcwLjddLAogICAgICAgICAgICAgICAge30KICAgICAgICAgICAgKS5hZGRUbyhtYXBfZmRmY2FkZDNhYWZjNDAzZDlkYTBmMDcyMzU0MTczMjMpOwogICAgICAgIAogICAgCiAgICAgICAgICAgIHZhciBpY29uXzg4MjdmODgxMWQ0NDRmMzhhM2I0YTcxZWYyYzZkMGRiID0gTC5Bd2Vzb21lTWFya2Vycy5pY29uKAogICAgICAgICAgICAgICAgeyJleHRyYUNsYXNzZXMiOiAiZmEtcm90YXRlLTAiLCAiaWNvbiI6ICJpbmZvLXNpZ24iLCAiaWNvbkNvbG9yIjogIndoaXRlIiwgIm1hcmtlckNvbG9yIjogImJsdWUiLCAicHJlZml4IjogImdseXBoaWNvbiJ9CiAgICAgICAgICAgICk7CiAgICAgICAgICAgIG1hcmtlcl8yMDcwYzJmMmI4OWY0YjZhYTI0OTIwYjZhYjE2ZWFhZi5zZXRJY29uKGljb25fODgyN2Y4ODExZDQ0NGYzOGEzYjRhNzFlZjJjNmQwZGIpOwogICAgICAgIAogICAgCiAgICAgICAgdmFyIHBvcHVwX2EzYmI2MDEyNWUyZTQwY2ViYTQ0NzcyYzA0ZjBmYmE4ID0gTC5wb3B1cCh7Im1heFdpZHRoIjogIjEwMCUifSk7CgogICAgICAgIAogICAgICAgICAgICB2YXIgaHRtbF81NjdhNWNlMTJhNDU0NjgzYjg3OWFiNGI4MDcwOWUyOSA9ICQoYDxkaXYgaWQ9Imh0bWxfNTY3YTVjZTEyYTQ1NDY4M2I4NzlhYjRiODA3MDllMjkiIHN0eWxlPSJ3aWR0aDogMTAwLjAlOyBoZWlnaHQ6IDEwMC4wJTsiPkFpcnBvcnQ8L2Rpdj5gKVswXTsKICAgICAgICAgICAgcG9wdXBfYTNiYjYwMTI1ZTJlNDBjZWJhNDQ3NzJjMDRmMGZiYTguc2V0Q29udGVudChodG1sXzU2N2E1Y2UxMmE0NTQ2ODNiODc5YWI0YjgwNzA5ZTI5KTsKICAgICAgICAKCiAgICAgICAgbWFya2VyXzIwNzBjMmYyYjg5ZjRiNmFhMjQ5MjBiNmFiMTZlYWFmLmJpbmRQb3B1cChwb3B1cF9hM2JiNjAxMjVlMmU0MGNlYmE0NDc3MmMwNGYwZmJhOCkKICAgICAgICA7CgogICAgICAgIAogICAgCiAgICAKICAgICAgICAgICAgdmFyIG1hcmtlcl9iMDgxZDNlOGJkYWQ0ZDk3YjYyY2NlMDg0MjUxZTMxMyA9IEwubWFya2VyKAogICAgICAgICAgICAgICAgWzUzLjYzMzMzMDAwMDAwMDAxLCA5Ljk4MzMzM10sCiAgICAgICAgICAgICAgICB7fQogICAgICAgICAgICApLmFkZFRvKG1hcF9mZGZjYWRkM2FhZmM0MDNkOWRhMGYwNzIzNTQxNzMyMyk7CiAgICAgICAgCiAgICAKICAgICAgICAgICAgdmFyIGljb25fNzNmNjYwMGUzMzEyNDBjYWE4YmZlMjBjYzE2ZDYzMzUgPSBMLkF3ZXNvbWVNYXJrZXJzLmljb24oCiAgICAgICAgICAgICAgICB7ImV4dHJhQ2xhc3NlcyI6ICJmYS1yb3RhdGUtMCIsICJpY29uIjogImluZm8tc2lnbiIsICJpY29uQ29sb3IiOiAid2hpdGUiLCAibWFya2VyQ29sb3IiOiAiYmx1ZSIsICJwcmVmaXgiOiAiZ2x5cGhpY29uIn0KICAgICAgICAgICAgKTsKICAgICAgICAgICAgbWFya2VyX2IwODFkM2U4YmRhZDRkOTdiNjJjY2UwODQyNTFlMzEzLnNldEljb24oaWNvbl83M2Y2NjAwZTMzMTI0MGNhYThiZmUyMGNjMTZkNjMzNSk7CiAgICAgICAgCiAgICAKICAgICAgICB2YXIgcG9wdXBfMjAwNjU5MmJhMWRlNDFhYjk2ZmM2MjAwNTgyNjE5ODMgPSBMLnBvcHVwKHsibWF4V2lkdGgiOiAiMTAwJSJ9KTsKCiAgICAgICAgCiAgICAgICAgICAgIHZhciBodG1sXzE4MjlkNjdjZGYwOTQ1MGY5NWUyOWE1MDFhNzhjMzBkID0gJChgPGRpdiBpZD0iaHRtbF8xODI5ZDY3Y2RmMDk0NTBmOTVlMjlhNTAxYTc4YzMwZCIgc3R5bGU9IndpZHRoOiAxMDAuMCU7IGhlaWdodDogMTAwLjAlOyI+QWlycG9ydDwvZGl2PmApWzBdOwogICAgICAgICAgICBwb3B1cF8yMDA2NTkyYmExZGU0MWFiOTZmYzYyMDA1ODI2MTk4My5zZXRDb250ZW50KGh0bWxfMTgyOWQ2N2NkZjA5NDUwZjk1ZTI5YTUwMWE3OGMzMGQpOwogICAgICAgIAoKICAgICAgICBtYXJrZXJfYjA4MWQzZThiZGFkNGQ5N2I2MmNjZTA4NDI1MWUzMTMuYmluZFBvcHVwKHBvcHVwXzIwMDY1OTJiYTFkZTQxYWI5NmZjNjIwMDU4MjYxOTgzKQogICAgICAgIDsKCiAgICAgICAgCiAgICAKICAgIAogICAgICAgICAgICB2YXIgbWFya2VyXzc2Y2MyNjJhOTFkNTQ5YmM4NWU1MTJkNDY2YzdmMzVkID0gTC5tYXJrZXIoCiAgICAgICAgICAgICAgICBbNTkuNjUxOTQsIDE3LjkxODYxXSwKICAgICAgICAgICAgICAgIHt9CiAgICAgICAgICAgICkuYWRkVG8obWFwX2ZkZmNhZGQzYWFmYzQwM2Q5ZGEwZjA3MjM1NDE3MzIzKTsKICAgICAgICAKICAgIAogICAgICAgICAgICB2YXIgaWNvbl84YjI4M2E0OGM3ZTk0ZGNlYjQwNGQ3ZmFhODRhNTFmMCA9IEwuQXdlc29tZU1hcmtlcnMuaWNvbigKICAgICAgICAgICAgICAgIHsiZXh0cmFDbGFzc2VzIjogImZhLXJvdGF0ZS0wIiwgImljb24iOiAiaW5mby1zaWduIiwgImljb25Db2xvciI6ICJ3aGl0ZSIsICJtYXJrZXJDb2xvciI6ICJibHVlIiwgInByZWZpeCI6ICJnbHlwaGljb24ifQogICAgICAgICAgICApOwogICAgICAgICAgICBtYXJrZXJfNzZjYzI2MmE5MWQ1NDliYzg1ZTUxMmQ0NjZjN2YzNWQuc2V0SWNvbihpY29uXzhiMjgzYTQ4YzdlOTRkY2ViNDA0ZDdmYWE4NGE1MWYwKTsKICAgICAgICAKICAgIAogICAgICAgIHZhciBwb3B1cF8xZjJiYWRkMjdmNTY0MTAzYmRhYTBmMGRmODhmOWZiNSA9IEwucG9wdXAoeyJtYXhXaWR0aCI6ICIxMDAlIn0pOwoKICAgICAgICAKICAgICAgICAgICAgdmFyIGh0bWxfZmZmMjQ4MjdiZTI1NDMzZTlmODlkMjQ5NGU5ZTEwMjIgPSAkKGA8ZGl2IGlkPSJodG1sX2ZmZjI0ODI3YmUyNTQzM2U5Zjg5ZDI0OTRlOWUxMDIyIiBzdHlsZT0id2lkdGg6IDEwMC4wJTsgaGVpZ2h0OiAxMDAuMCU7Ij5BaXJwb3J0PC9kaXY+YClbMF07CiAgICAgICAgICAgIHBvcHVwXzFmMmJhZGQyN2Y1NjQxMDNiZGFhMGYwZGY4OGY5ZmI1LnNldENvbnRlbnQoaHRtbF9mZmYyNDgyN2JlMjU0MzNlOWY4OWQyNDk0ZTllMTAyMik7CiAgICAgICAgCgogICAgICAgIG1hcmtlcl83NmNjMjYyYTkxZDU0OWJjODVlNTEyZDQ2NmM3ZjM1ZC5iaW5kUG9wdXAocG9wdXBfMWYyYmFkZDI3ZjU2NDEwM2JkYWEwZjBkZjg4ZjlmYjUpCiAgICAgICAgOwoKICAgICAgICAKICAgIAogICAgCiAgICAgICAgICAgIHZhciBtYXJrZXJfODJhYmRkNjdlNjVlNDY0ZWIwYzA5ZGM0MWQ5ODAxZWUgPSBMLm1hcmtlcigKICAgICAgICAgICAgICAgIFstMjguMTgxMTA5OTk5OTk5OTk3LCAxNTMuNV0sCiAgICAgICAgICAgICAgICB7fQogICAgICAgICAgICApLmFkZFRvKG1hcF9mZGZjYWRkM2FhZmM0MDNkOWRhMGYwNzIzNTQxNzMyMyk7CiAgICAgICAgCiAgICAKICAgICAgICAgICAgdmFyIGljb25fMDg3NWQyNzQyMTU5NDZjYThkNjlhYThjNWVjMGFkNzEgPSBMLkF3ZXNvbWVNYXJrZXJzLmljb24oCiAgICAgICAgICAgICAgICB7ImV4dHJhQ2xhc3NlcyI6ICJmYS1yb3RhdGUtMCIsICJpY29uIjogImluZm8tc2lnbiIsICJpY29uQ29sb3IiOiAid2hpdGUiLCAibWFya2VyQ29sb3IiOiAiYmx1ZSIsICJwcmVmaXgiOiAiZ2x5cGhpY29uIn0KICAgICAgICAgICAgKTsKICAgICAgICAgICAgbWFya2VyXzgyYWJkZDY3ZTY1ZTQ2NGViMGMwOWRjNDFkOTgwMWVlLnNldEljb24oaWNvbl8wODc1ZDI3NDIxNTk0NmNhOGQ2OWFhOGM1ZWMwYWQ3MSk7CiAgICAgICAgCiAgICAKICAgICAgICB2YXIgcG9wdXBfMDhlOTBkN2Y3YTBlNDEzNWJiMGU3MGNkZWMyMjY0ODcgPSBMLnBvcHVwKHsibWF4V2lkdGgiOiAiMTAwJSJ9KTsKCiAgICAgICAgCiAgICAgICAgICAgIHZhciBodG1sXzQzYmE1OGRjMTQ1MDQ3MjZhYzhmOGFjMDA0YzE3MjVhID0gJChgPGRpdiBpZD0iaHRtbF80M2JhNThkYzE0NTA0NzI2YWM4ZjhhYzAwNGMxNzI1YSIgc3R5bGU9IndpZHRoOiAxMDAuMCU7IGhlaWdodDogMTAwLjAlOyI+QWlycG9ydDwvZGl2PmApWzBdOwogICAgICAgICAgICBwb3B1cF8wOGU5MGQ3ZjdhMGU0MTM1YmIwZTcwY2RlYzIyNjQ4Ny5zZXRDb250ZW50KGh0bWxfNDNiYTU4ZGMxNDUwNDcyNmFjOGY4YWMwMDRjMTcyNWEpOwogICAgICAgIAoKICAgICAgICBtYXJrZXJfODJhYmRkNjdlNjVlNDY0ZWIwYzA5ZGM0MWQ5ODAxZWUuYmluZFBvcHVwKHBvcHVwXzA4ZTkwZDdmN2EwZTQxMzViYjBlNzBjZGVjMjI2NDg3KQogICAgICAgIDsKCiAgICAgICAgCiAgICAKICAgIAogICAgICAgICAgICB2YXIgbWFya2VyX2YxMTliOGI1ZTNhZTQ1ZjBiYzhjNDAyOTczOTM1ZTI2ID0gTC5tYXJrZXIoCiAgICAgICAgICAgICAgICBbMzYuMSwgMTIwLjMxNjddLAogICAgICAgICAgICAgICAge30KICAgICAgICAgICAgKS5hZGRUbyhtYXBfZmRmY2FkZDNhYWZjNDAzZDlkYTBmMDcyMzU0MTczMjMpOwogICAgICAgIAogICAgCiAgICAgICAgICAgIHZhciBpY29uXzQ5YjhmZGFiYmY3YjRjMDdiMjZjZDYzNGFjMzlmMGZhID0gTC5Bd2Vzb21lTWFya2Vycy5pY29uKAogICAgICAgICAgICAgICAgeyJleHRyYUNsYXNzZXMiOiAiZmEtcm90YXRlLTAiLCAiaWNvbiI6ICJpbmZvLXNpZ24iLCAiaWNvbkNvbG9yIjogIndoaXRlIiwgIm1hcmtlckNvbG9yIjogImJsdWUiLCAicHJlZml4IjogImdseXBoaWNvbiJ9CiAgICAgICAgICAgICk7CiAgICAgICAgICAgIG1hcmtlcl9mMTE5YjhiNWUzYWU0NWYwYmM4YzQwMjk3MzkzNWUyNi5zZXRJY29uKGljb25fNDliOGZkYWJiZjdiNGMwN2IyNmNkNjM0YWMzOWYwZmEpOwogICAgICAgIAogICAgCiAgICAgICAgdmFyIHBvcHVwXzllM2U1YzVhOTQ2MzQyOTQ5MjhmYTkwNGZhZGViMDZhID0gTC5wb3B1cCh7Im1heFdpZHRoIjogIjEwMCUifSk7CgogICAgICAgIAogICAgICAgICAgICB2YXIgaHRtbF9mMDMxYWM0NTQxODU0MDA4OTI0NzMzMWZkYWU3NTJiMSA9ICQoYDxkaXYgaWQ9Imh0bWxfZjAzMWFjNDU0MTg1NDAwODkyNDczMzFmZGFlNzUyYjEiIHN0eWxlPSJ3aWR0aDogMTAwLjAlOyBoZWlnaHQ6IDEwMC4wJTsiPkFpcnBvcnQ8L2Rpdj5gKVswXTsKICAgICAgICAgICAgcG9wdXBfOWUzZTVjNWE5NDYzNDI5NDkyOGZhOTA0ZmFkZWIwNmEuc2V0Q29udGVudChodG1sX2YwMzFhYzQ1NDE4NTQwMDg5MjQ3MzMxZmRhZTc1MmIxKTsKICAgICAgICAKCiAgICAgICAgbWFya2VyX2YxMTliOGI1ZTNhZTQ1ZjBiYzhjNDAyOTczOTM1ZTI2LmJpbmRQb3B1cChwb3B1cF85ZTNlNWM1YTk0NjM0Mjk0OTI4ZmE5MDRmYWRlYjA2YSkKICAgICAgICA7CgogICAgICAgIAogICAgCiAgICAKICAgICAgICAgICAgdmFyIG1hcmtlcl83MTk4NGYwZDI0Nzk0ZTJkOGM5NzkzMWVjZTY2NWJjYSA9IEwubWFya2VyKAogICAgICAgICAgICAgICAgWy0xLjI2NjY2NywgMTE2LjldLAogICAgICAgICAgICAgICAge30KICAgICAgICAgICAgKS5hZGRUbyhtYXBfZmRmY2FkZDNhYWZjNDAzZDlkYTBmMDcyMzU0MTczMjMpOwogICAgICAgIAogICAgCiAgICAgICAgICAgIHZhciBpY29uX2E1MmVhNzJiZmIyOTRiOGM4Y2MzMDMwMGU5MjQ2NGM3ID0gTC5Bd2Vzb21lTWFya2Vycy5pY29uKAogICAgICAgICAgICAgICAgeyJleHRyYUNsYXNzZXMiOiAiZmEtcm90YXRlLTAiLCAiaWNvbiI6ICJpbmZvLXNpZ24iLCAiaWNvbkNvbG9yIjogIndoaXRlIiwgIm1hcmtlckNvbG9yIjogImJsdWUiLCAicHJlZml4IjogImdseXBoaWNvbiJ9CiAgICAgICAgICAgICk7CiAgICAgICAgICAgIG1hcmtlcl83MTk4NGYwZDI0Nzk0ZTJkOGM5NzkzMWVjZTY2NWJjYS5zZXRJY29uKGljb25fYTUyZWE3MmJmYjI5NGI4YzhjYzMwMzAwZTkyNDY0YzcpOwogICAgICAgIAogICAgCiAgICAgICAgdmFyIHBvcHVwX2EzMDc5OWQ4MGZiMTQ1MDQ5YzkzMTZhOWEzMDUxZjE0ID0gTC5wb3B1cCh7Im1heFdpZHRoIjogIjEwMCUifSk7CgogICAgICAgIAogICAgICAgICAgICB2YXIgaHRtbF80ZmEzNzA5MTZjZTY0NWU0OTFhNGJiMGJkMDc0YmEyMSA9ICQoYDxkaXYgaWQ9Imh0bWxfNGZhMzcwOTE2Y2U2NDVlNDkxYTRiYjBiZDA3NGJhMjEiIHN0eWxlPSJ3aWR0aDogMTAwLjAlOyBoZWlnaHQ6IDEwMC4wJTsiPkFpcnBvcnQ8L2Rpdj5gKVswXTsKICAgICAgICAgICAgcG9wdXBfYTMwNzk5ZDgwZmIxNDUwNDljOTMxNmE5YTMwNTFmMTQuc2V0Q29udGVudChodG1sXzRmYTM3MDkxNmNlNjQ1ZTQ5MWE0YmIwYmQwNzRiYTIxKTsKICAgICAgICAKCiAgICAgICAgbWFya2VyXzcxOTg0ZjBkMjQ3OTRlMmQ4Yzk3OTMxZWNlNjY1YmNhLmJpbmRQb3B1cChwb3B1cF9hMzA3OTlkODBmYjE0NTA0OWM5MzE2YTlhMzA1MWYxNCkKICAgICAgICA7CgogICAgICAgIAogICAgCiAgICAKICAgICAgICAgICAgdmFyIG1hcmtlcl9iZTVkM2EzMmYyNjM0MTk1OWQ4M2UyZmJlMjQ0OWIwYyA9IEwubWFya2VyKAogICAgICAgICAgICAgICAgWzIuNzQ1NTU2LCAxMDEuNzFdLAogICAgICAgICAgICAgICAge30KICAgICAgICAgICAgKS5hZGRUbyhtYXBfZmRmY2FkZDNhYWZjNDAzZDlkYTBmMDcyMzU0MTczMjMpOwogICAgICAgIAogICAgCiAgICAgICAgICAgIHZhciBpY29uXzRkNDM1MDcxOWQ0ZjQ3MWI4Mjc5MjBhODJiMjAwNDZlID0gTC5Bd2Vzb21lTWFya2Vycy5pY29uKAogICAgICAgICAgICAgICAgeyJleHRyYUNsYXNzZXMiOiAiZmEtcm90YXRlLTAiLCAiaWNvbiI6ICJpbmZvLXNpZ24iLCAiaWNvbkNvbG9yIjogIndoaXRlIiwgIm1hcmtlckNvbG9yIjogImJsdWUiLCAicHJlZml4IjogImdseXBoaWNvbiJ9CiAgICAgICAgICAgICk7CiAgICAgICAgICAgIG1hcmtlcl9iZTVkM2EzMmYyNjM0MTk1OWQ4M2UyZmJlMjQ0OWIwYy5zZXRJY29uKGljb25fNGQ0MzUwNzE5ZDRmNDcxYjgyNzkyMGE4MmIyMDA0NmUpOwogICAgICAgIAogICAgCiAgICAgICAgdmFyIHBvcHVwXzhmMzI1NDI5MWJhOTQ1ZWE5YWQ2OTU4ZWFmZDVmNzU3ID0gTC5wb3B1cCh7Im1heFdpZHRoIjogIjEwMCUifSk7CgogICAgICAgIAogICAgICAgICAgICB2YXIgaHRtbF8zZThlZDA4ZTc5ZTI0ZWQ2ODEzZDg5M2YxYzQzMGY3ZiA9ICQoYDxkaXYgaWQ9Imh0bWxfM2U4ZWQwOGU3OWUyNGVkNjgxM2Q4OTNmMWM0MzBmN2YiIHN0eWxlPSJ3aWR0aDogMTAwLjAlOyBoZWlnaHQ6IDEwMC4wJTsiPkFpcnBvcnQ8L2Rpdj5gKVswXTsKICAgICAgICAgICAgcG9wdXBfOGYzMjU0MjkxYmE5NDVlYTlhZDY5NThlYWZkNWY3NTcuc2V0Q29udGVudChodG1sXzNlOGVkMDhlNzllMjRlZDY4MTNkODkzZjFjNDMwZjdmKTsKICAgICAgICAKCiAgICAgICAgbWFya2VyX2JlNWQzYTMyZjI2MzQxOTU5ZDgzZTJmYmUyNDQ5YjBjLmJpbmRQb3B1cChwb3B1cF84ZjMyNTQyOTFiYTk0NWVhOWFkNjk1OGVhZmQ1Zjc1NykKICAgICAgICA7CgogICAgICAgIAogICAgCiAgICAKICAgICAgICAgICAgdmFyIG1hcmtlcl8wYmI1NTlkY2I3NzM0N2E5YWI1M2YyMWNlMGUwMGIzMCA9IEwubWFya2VyKAogICAgICAgICAgICAgICAgWzQ0Ljg4MzMzLCAtOTMuMjE2OTQwMDAwMDAwMDFdLAogICAgICAgICAgICAgICAge30KICAgICAgICAgICAgKS5hZGRUbyhtYXBfZmRmY2FkZDNhYWZjNDAzZDlkYTBmMDcyMzU0MTczMjMpOwogICAgICAgIAogICAgCiAgICAgICAgICAgIHZhciBpY29uX2EzOGUyNGMyMTI2YjQ4OTFiYWQ4NjYyMGFmODZiM2M2ID0gTC5Bd2Vzb21lTWFya2Vycy5pY29uKAogICAgICAgICAgICAgICAgeyJleHRyYUNsYXNzZXMiOiAiZmEtcm90YXRlLTAiLCAiaWNvbiI6ICJpbmZvLXNpZ24iLCAiaWNvbkNvbG9yIjogIndoaXRlIiwgIm1hcmtlckNvbG9yIjogImJsdWUiLCAicHJlZml4IjogImdseXBoaWNvbiJ9CiAgICAgICAgICAgICk7CiAgICAgICAgICAgIG1hcmtlcl8wYmI1NTlkY2I3NzM0N2E5YWI1M2YyMWNlMGUwMGIzMC5zZXRJY29uKGljb25fYTM4ZTI0YzIxMjZiNDg5MWJhZDg2NjIwYWY4NmIzYzYpOwogICAgICAgIAogICAgCiAgICAgICAgdmFyIHBvcHVwXzgwZmM4ZTYzNzEyZjQ3NDU4Y2IyNzI2YWJkN2U0ODFiID0gTC5wb3B1cCh7Im1heFdpZHRoIjogIjEwMCUifSk7CgogICAgICAgIAogICAgICAgICAgICB2YXIgaHRtbF9iMGMyOGFkNDE4NGE0MWFmYjAxOWU2MmRhNDNlYzBlNSA9ICQoYDxkaXYgaWQ9Imh0bWxfYjBjMjhhZDQxODRhNDFhZmIwMTllNjJkYTQzZWMwZTUiIHN0eWxlPSJ3aWR0aDogMTAwLjAlOyBoZWlnaHQ6IDEwMC4wJTsiPkFpcnBvcnQ8L2Rpdj5gKVswXTsKICAgICAgICAgICAgcG9wdXBfODBmYzhlNjM3MTJmNDc0NThjYjI3MjZhYmQ3ZTQ4MWIuc2V0Q29udGVudChodG1sX2IwYzI4YWQ0MTg0YTQxYWZiMDE5ZTYyZGE0M2VjMGU1KTsKICAgICAgICAKCiAgICAgICAgbWFya2VyXzBiYjU1OWRjYjc3MzQ3YTlhYjUzZjIxY2UwZTAwYjMwLmJpbmRQb3B1cChwb3B1cF84MGZjOGU2MzcxMmY0NzQ1OGNiMjcyNmFiZDdlNDgxYikKICAgICAgICA7CgogICAgICAgIAogICAgCiAgICAKICAgICAgICAgICAgdmFyIG1hcmtlcl9lYTQ3OTNiOWNiMzk0N2RiYWU0OGY1NzFkZmQxOTgyYiA9IEwubWFya2VyKAogICAgICAgICAgICAgICAgWzYwLjMsIDUuMjE2NjY3XSwKICAgICAgICAgICAgICAgIHt9CiAgICAgICAgICAgICkuYWRkVG8obWFwX2ZkZmNhZGQzYWFmYzQwM2Q5ZGEwZjA3MjM1NDE3MzIzKTsKICAgICAgICAKICAgIAogICAgICAgICAgICB2YXIgaWNvbl9lYzg4NjQ5ZmU5MmY0NGY3OTNiMzcyNWE2ZTY2ZGYwNyA9IEwuQXdlc29tZU1hcmtlcnMuaWNvbigKICAgICAgICAgICAgICAgIHsiZXh0cmFDbGFzc2VzIjogImZhLXJvdGF0ZS0wIiwgImljb24iOiAiaW5mby1zaWduIiwgImljb25Db2xvciI6ICJ3aGl0ZSIsICJtYXJrZXJDb2xvciI6ICJibHVlIiwgInByZWZpeCI6ICJnbHlwaGljb24ifQogICAgICAgICAgICApOwogICAgICAgICAgICBtYXJrZXJfZWE0NzkzYjljYjM5NDdkYmFlNDhmNTcxZGZkMTk4MmIuc2V0SWNvbihpY29uX2VjODg2NDlmZTkyZjQ0Zjc5M2IzNzI1YTZlNjZkZjA3KTsKICAgICAgICAKICAgIAogICAgICAgIHZhciBwb3B1cF83MTA3NDU4MWZkZmI0NzJiOGRhYzA3NGRmMmY0NDA0MCA9IEwucG9wdXAoeyJtYXhXaWR0aCI6ICIxMDAlIn0pOwoKICAgICAgICAKICAgICAgICAgICAgdmFyIGh0bWxfMDlkNTgwNjE3NmJkNGJlMmJkMTlkZTczOTAwZTFlY2YgPSAkKGA8ZGl2IGlkPSJodG1sXzA5ZDU4MDYxNzZiZDRiZTJiZDE5ZGU3MzkwMGUxZWNmIiBzdHlsZT0id2lkdGg6IDEwMC4wJTsgaGVpZ2h0OiAxMDAuMCU7Ij5BaXJwb3J0PC9kaXY+YClbMF07CiAgICAgICAgICAgIHBvcHVwXzcxMDc0NTgxZmRmYjQ3MmI4ZGFjMDc0ZGYyZjQ0MDQwLnNldENvbnRlbnQoaHRtbF8wOWQ1ODA2MTc2YmQ0YmUyYmQxOWRlNzM5MDBlMWVjZik7CiAgICAgICAgCgogICAgICAgIG1hcmtlcl9lYTQ3OTNiOWNiMzk0N2RiYWU0OGY1NzFkZmQxOTgyYi5iaW5kUG9wdXAocG9wdXBfNzEwNzQ1ODFmZGZiNDcyYjhkYWMwNzRkZjJmNDQwNDApCiAgICAgICAgOwoKICAgICAgICAKICAgIAogICAgCiAgICAgICAgICAgIHZhciBtYXJrZXJfNWY1ZjE1YzczYjlmNDllM2E3MTc0ZDhhMTM1MTZiODEgPSBMLm1hcmtlcigKICAgICAgICAgICAgICAgIFsyOS45OTMzMywgLTkwLjI1ODA2XSwKICAgICAgICAgICAgICAgIHt9CiAgICAgICAgICAgICkuYWRkVG8obWFwX2ZkZmNhZGQzYWFmYzQwM2Q5ZGEwZjA3MjM1NDE3MzIzKTsKICAgICAgICAKICAgIAogICAgICAgICAgICB2YXIgaWNvbl82YzNkYmVlYjdiNTQ0YjhlOGU2MTBkNmVkZmU5MDU0NiA9IEwuQXdlc29tZU1hcmtlcnMuaWNvbigKICAgICAgICAgICAgICAgIHsiZXh0cmFDbGFzc2VzIjogImZhLXJvdGF0ZS0wIiwgImljb24iOiAiaW5mby1zaWduIiwgImljb25Db2xvciI6ICJ3aGl0ZSIsICJtYXJrZXJDb2xvciI6ICJibHVlIiwgInByZWZpeCI6ICJnbHlwaGljb24ifQogICAgICAgICAgICApOwogICAgICAgICAgICBtYXJrZXJfNWY1ZjE1YzczYjlmNDllM2E3MTc0ZDhhMTM1MTZiODEuc2V0SWNvbihpY29uXzZjM2RiZWViN2I1NDRiOGU4ZTYxMGQ2ZWRmZTkwNTQ2KTsKICAgICAgICAKICAgIAogICAgICAgIHZhciBwb3B1cF9jZjRlMjFhNTczYzE0ZmVhYmU2MTZmODM2N2RmNzdhYSA9IEwucG9wdXAoeyJtYXhXaWR0aCI6ICIxMDAlIn0pOwoKICAgICAgICAKICAgICAgICAgICAgdmFyIGh0bWxfYWI0ZGFjNzBiNzU5NDk4NzkzOGE0ZjFkMDY0ZDA4MzkgPSAkKGA8ZGl2IGlkPSJodG1sX2FiNGRhYzcwYjc1OTQ5ODc5MzhhNGYxZDA2NGQwODM5IiBzdHlsZT0id2lkdGg6IDEwMC4wJTsgaGVpZ2h0OiAxMDAuMCU7Ij5BaXJwb3J0PC9kaXY+YClbMF07CiAgICAgICAgICAgIHBvcHVwX2NmNGUyMWE1NzNjMTRmZWFiZTYxNmY4MzY3ZGY3N2FhLnNldENvbnRlbnQoaHRtbF9hYjRkYWM3MGI3NTk0OTg3OTM4YTRmMWQwNjRkMDgzOSk7CiAgICAgICAgCgogICAgICAgIG1hcmtlcl81ZjVmMTVjNzNiOWY0OWUzYTcxNzRkOGExMzUxNmI4MS5iaW5kUG9wdXAocG9wdXBfY2Y0ZTIxYTU3M2MxNGZlYWJlNjE2ZjgzNjdkZjc3YWEpCiAgICAgICAgOwoKICAgICAgICAKICAgIAogICAgCiAgICAgICAgICAgIHZhciBtYXJrZXJfMGE1YzRmOTgxZmU0NDIxMGFhMmU5NWQ1M2E2ODEyZTIgPSBMLm1hcmtlcigKICAgICAgICAgICAgICAgIFsxMC44MTg4OSwgMTA2LjY1MTldLAogICAgICAgICAgICAgICAge30KICAgICAgICAgICAgKS5hZGRUbyhtYXBfZmRmY2FkZDNhYWZjNDAzZDlkYTBmMDcyMzU0MTczMjMpOwogICAgICAgIAogICAgCiAgICAgICAgICAgIHZhciBpY29uXzQzMzIzNzU0YjZhZDQyOTc4ZDIyYTBkOGVkZWJlYzdjID0gTC5Bd2Vzb21lTWFya2Vycy5pY29uKAogICAgICAgICAgICAgICAgeyJleHRyYUNsYXNzZXMiOiAiZmEtcm90YXRlLTAiLCAiaWNvbiI6ICJpbmZvLXNpZ24iLCAiaWNvbkNvbG9yIjogIndoaXRlIiwgIm1hcmtlckNvbG9yIjogImJsdWUiLCAicHJlZml4IjogImdseXBoaWNvbiJ9CiAgICAgICAgICAgICk7CiAgICAgICAgICAgIG1hcmtlcl8wYTVjNGY5ODFmZTQ0MjEwYWEyZTk1ZDUzYTY4MTJlMi5zZXRJY29uKGljb25fNDMzMjM3NTRiNmFkNDI5NzhkMjJhMGQ4ZWRlYmVjN2MpOwogICAgICAgIAogICAgCiAgICAgICAgdmFyIHBvcHVwX2VjZTNiYTEzODc0NDQ1YThhODdhYmZmNmI5MDBiMTEzID0gTC5wb3B1cCh7Im1heFdpZHRoIjogIjEwMCUifSk7CgogICAgICAgIAogICAgICAgICAgICB2YXIgaHRtbF85ODliOWQzNTAwMzE0MGQ5OWE4NTU3YTg3YjhkZmVjOSA9ICQoYDxkaXYgaWQ9Imh0bWxfOTg5YjlkMzUwMDMxNDBkOTlhODU1N2E4N2I4ZGZlYzkiIHN0eWxlPSJ3aWR0aDogMTAwLjAlOyBoZWlnaHQ6IDEwMC4wJTsiPkFpcnBvcnQ8L2Rpdj5gKVswXTsKICAgICAgICAgICAgcG9wdXBfZWNlM2JhMTM4NzQ0NDVhOGE4N2FiZmY2YjkwMGIxMTMuc2V0Q29udGVudChodG1sXzk4OWI5ZDM1MDAzMTQwZDk5YTg1NTdhODdiOGRmZWM5KTsKICAgICAgICAKCiAgICAgICAgbWFya2VyXzBhNWM0Zjk4MWZlNDQyMTBhYTJlOTVkNTNhNjgxMmUyLmJpbmRQb3B1cChwb3B1cF9lY2UzYmExMzg3NDQ0NWE4YTg3YWJmZjZiOTAwYjExMykKICAgICAgICA7CgogICAgICAgIAogICAgCiAgICAKICAgICAgICAgICAgdmFyIG1hcmtlcl84NjM4MTUyNWEwOTY0NzgyYTU2ZDYwZTBjMzkxNDU1YSA9IEwubWFya2VyKAogICAgICAgICAgICAgICAgWzMzLjQzMzMzLCAtMTEyLjAzMzNdLAogICAgICAgICAgICAgICAge30KICAgICAgICAgICAgKS5hZGRUbyhtYXBfZmRmY2FkZDNhYWZjNDAzZDlkYTBmMDcyMzU0MTczMjMpOwogICAgICAgIAogICAgCiAgICAgICAgICAgIHZhciBpY29uXzdlZjVmZGIzYmFkMzQ1NDJhYmQyNGYwZjQ0OTMwZTQ0ID0gTC5Bd2Vzb21lTWFya2Vycy5pY29uKAogICAgICAgICAgICAgICAgeyJleHRyYUNsYXNzZXMiOiAiZmEtcm90YXRlLTAiLCAiaWNvbiI6ICJpbmZvLXNpZ24iLCAiaWNvbkNvbG9yIjogIndoaXRlIiwgIm1hcmtlckNvbG9yIjogImJsdWUiLCAicHJlZml4IjogImdseXBoaWNvbiJ9CiAgICAgICAgICAgICk7CiAgICAgICAgICAgIG1hcmtlcl84NjM4MTUyNWEwOTY0NzgyYTU2ZDYwZTBjMzkxNDU1YS5zZXRJY29uKGljb25fN2VmNWZkYjNiYWQzNDU0MmFiZDI0ZjBmNDQ5MzBlNDQpOwogICAgICAgIAogICAgCiAgICAgICAgdmFyIHBvcHVwXzIzNjZjMGNiMzBiMDQ2NjJiNjUyM2RiMzM0OTQ3YThjID0gTC5wb3B1cCh7Im1heFdpZHRoIjogIjEwMCUifSk7CgogICAgICAgIAogICAgICAgICAgICB2YXIgaHRtbF81ZDdjNjJmMGY2ODE0NGUxYjdiYzc5ZjU4MTU5MTdkNCA9ICQoYDxkaXYgaWQ9Imh0bWxfNWQ3YzYyZjBmNjgxNDRlMWI3YmM3OWY1ODE1OTE3ZDQiIHN0eWxlPSJ3aWR0aDogMTAwLjAlOyBoZWlnaHQ6IDEwMC4wJTsiPkFpcnBvcnQ8L2Rpdj5gKVswXTsKICAgICAgICAgICAgcG9wdXBfMjM2NmMwY2IzMGIwNDY2MmI2NTIzZGIzMzQ5NDdhOGMuc2V0Q29udGVudChodG1sXzVkN2M2MmYwZjY4MTQ0ZTFiN2JjNzlmNTgxNTkxN2Q0KTsKICAgICAgICAKCiAgICAgICAgbWFya2VyXzg2MzgxNTI1YTA5NjQ3ODJhNTZkNjBlMGMzOTE0NTVhLmJpbmRQb3B1cChwb3B1cF8yMzY2YzBjYjMwYjA0NjYyYjY1MjNkYjMzNDk0N2E4YykKICAgICAgICA7CgogICAgICAgIAogICAgCiAgICAKICAgICAgICAgICAgdmFyIG1hcmtlcl9iOWIyOTNjYzZmM2Q0ZDM4YmI4ODJhMGJkZWJhYmQ5NyA9IEwubWFya2VyKAogICAgICAgICAgICAgICAgWzQyLjIxMjUsIC04My4zNTMzM10sCiAgICAgICAgICAgICAgICB7fQogICAgICAgICAgICApLmFkZFRvKG1hcF9mZGZjYWRkM2FhZmM0MDNkOWRhMGYwNzIzNTQxNzMyMyk7CiAgICAgICAgCiAgICAKICAgICAgICAgICAgdmFyIGljb25fODJiYmI1NDgxNmYwNDJjNDkzNDI0ZDk2OTNkMzRhMWIgPSBMLkF3ZXNvbWVNYXJrZXJzLmljb24oCiAgICAgICAgICAgICAgICB7ImV4dHJhQ2xhc3NlcyI6ICJmYS1yb3RhdGUtMCIsICJpY29uIjogImluZm8tc2lnbiIsICJpY29uQ29sb3IiOiAid2hpdGUiLCAibWFya2VyQ29sb3IiOiAiYmx1ZSIsICJwcmVmaXgiOiAiZ2x5cGhpY29uIn0KICAgICAgICAgICAgKTsKICAgICAgICAgICAgbWFya2VyX2I5YjI5M2NjNmYzZDRkMzhiYjg4MmEwYmRlYmFiZDk3LnNldEljb24oaWNvbl84MmJiYjU0ODE2ZjA0MmM0OTM0MjRkOTY5M2QzNGExYik7CiAgICAgICAgCiAgICAKICAgICAgICB2YXIgcG9wdXBfNjQxOTk0ZjY3Nzk5NDEwMGI2OWViMjJiZTk1YjI1ZjcgPSBMLnBvcHVwKHsibWF4V2lkdGgiOiAiMTAwJSJ9KTsKCiAgICAgICAgCiAgICAgICAgICAgIHZhciBodG1sXzZhM2I0MTViYjIxZjQ3YmE5NDJiYmE0MmZlMWUyOTY3ID0gJChgPGRpdiBpZD0iaHRtbF82YTNiNDE1YmIyMWY0N2JhOTQyYmJhNDJmZTFlMjk2NyIgc3R5bGU9IndpZHRoOiAxMDAuMCU7IGhlaWdodDogMTAwLjAlOyI+QWlycG9ydDwvZGl2PmApWzBdOwogICAgICAgICAgICBwb3B1cF82NDE5OTRmNjc3OTk0MTAwYjY5ZWIyMmJlOTViMjVmNy5zZXRDb250ZW50KGh0bWxfNmEzYjQxNWJiMjFmNDdiYTk0MmJiYTQyZmUxZTI5NjcpOwogICAgICAgIAoKICAgICAgICBtYXJrZXJfYjliMjkzY2M2ZjNkNGQzOGJiODgyYTBiZGViYWJkOTcuYmluZFBvcHVwKHBvcHVwXzY0MTk5NGY2Nzc5OTQxMDBiNjllYjIyYmU5NWIyNWY3KQogICAgICAgIDsKCiAgICAgICAgCiAgICAKICAgIAogICAgICAgICAgICB2YXIgbWFya2VyX2Y1ZTRhYzNhMjc3ZjRhOTJiNDYzOTZlODgxYWU1M2ZhID0gTC5tYXJrZXIoCiAgICAgICAgICAgICAgICBbMTkuNzE2NjcsIC0xNTUuMDVdLAogICAgICAgICAgICAgICAge30KICAgICAgICAgICAgKS5hZGRUbyhtYXBfZmRmY2FkZDNhYWZjNDAzZDlkYTBmMDcyMzU0MTczMjMpOwogICAgICAgIAogICAgCiAgICAgICAgICAgIHZhciBpY29uXzcyMjEzOWYyMDIyODQ1OTk5YmRiNjBlM2JhY2FjNGM2ID0gTC5Bd2Vzb21lTWFya2Vycy5pY29uKAogICAgICAgICAgICAgICAgeyJleHRyYUNsYXNzZXMiOiAiZmEtcm90YXRlLTAiLCAiaWNvbiI6ICJpbmZvLXNpZ24iLCAiaWNvbkNvbG9yIjogIndoaXRlIiwgIm1hcmtlckNvbG9yIjogImJsdWUiLCAicHJlZml4IjogImdseXBoaWNvbiJ9CiAgICAgICAgICAgICk7CiAgICAgICAgICAgIG1hcmtlcl9mNWU0YWMzYTI3N2Y0YTkyYjQ2Mzk2ZTg4MWFlNTNmYS5zZXRJY29uKGljb25fNzIyMTM5ZjIwMjI4NDU5OTliZGI2MGUzYmFjYWM0YzYpOwogICAgICAgIAogICAgCiAgICAgICAgdmFyIHBvcHVwX2JkYTZkYTE5N2U5OTRlMDk5NDM2ZjZkODliNDc4YjkyID0gTC5wb3B1cCh7Im1heFdpZHRoIjogIjEwMCUifSk7CgogICAgICAgIAogICAgICAgICAgICB2YXIgaHRtbF9hMGE0M2JlYTNlN2Q0ZDhkOGMzYTdkZjQ5NTYwYWI2MiA9ICQoYDxkaXYgaWQ9Imh0bWxfYTBhNDNiZWEzZTdkNGQ4ZDhjM2E3ZGY0OTU2MGFiNjIiIHN0eWxlPSJ3aWR0aDogMTAwLjAlOyBoZWlnaHQ6IDEwMC4wJTsiPkFpcnBvcnQ8L2Rpdj5gKVswXTsKICAgICAgICAgICAgcG9wdXBfYmRhNmRhMTk3ZTk5NGUwOTk0MzZmNmQ4OWI0NzhiOTIuc2V0Q29udGVudChodG1sX2EwYTQzYmVhM2U3ZDRkOGQ4YzNhN2RmNDk1NjBhYjYyKTsKICAgICAgICAKCiAgICAgICAgbWFya2VyX2Y1ZTRhYzNhMjc3ZjRhOTJiNDYzOTZlODgxYWU1M2ZhLmJpbmRQb3B1cChwb3B1cF9iZGE2ZGExOTdlOTk0ZTA5OTQzNmY2ZDg5YjQ3OGI5MikKICAgICAgICA7CgogICAgICAgIAogICAgCiAgICAKICAgICAgICAgICAgdmFyIG1hcmtlcl8zNDk1MzYyM2I3YjU0ZWE5YWIwNjYxOWYyNTU5N2I1NiA9IEwubWFya2VyKAogICAgICAgICAgICAgICAgWzYxLjE3NDQ0MDAwMDAwMDAwNCwgLTE0OS45OTY0XSwKICAgICAgICAgICAgICAgIHt9CiAgICAgICAgICAgICkuYWRkVG8obWFwX2ZkZmNhZGQzYWFmYzQwM2Q5ZGEwZjA3MjM1NDE3MzIzKTsKICAgICAgICAKICAgIAogICAgICAgICAgICB2YXIgaWNvbl9jYWMyNmNkMWY0ZTU0OGYwYTc3ZWY4NjJkMDJlNTc2YSA9IEwuQXdlc29tZU1hcmtlcnMuaWNvbigKICAgICAgICAgICAgICAgIHsiZXh0cmFDbGFzc2VzIjogImZhLXJvdGF0ZS0wIiwgImljb24iOiAiaW5mby1zaWduIiwgImljb25Db2xvciI6ICJ3aGl0ZSIsICJtYXJrZXJDb2xvciI6ICJibHVlIiwgInByZWZpeCI6ICJnbHlwaGljb24ifQogICAgICAgICAgICApOwogICAgICAgICAgICBtYXJrZXJfMzQ5NTM2MjNiN2I1NGVhOWFiMDY2MTlmMjU1OTdiNTYuc2V0SWNvbihpY29uX2NhYzI2Y2QxZjRlNTQ4ZjBhNzdlZjg2MmQwMmU1NzZhKTsKICAgICAgICAKICAgIAogICAgICAgIHZhciBwb3B1cF9mZTFhODEzODM5N2Y0MTg3OWMzNjIzYzE1MGU0NWUzNSA9IEwucG9wdXAoeyJtYXhXaWR0aCI6ICIxMDAlIn0pOwoKICAgICAgICAKICAgICAgICAgICAgdmFyIGh0bWxfOTlhNzNlNDQwOTE4NDU2MTlmZDRjYjVjOTFkZWY0MTEgPSAkKGA8ZGl2IGlkPSJodG1sXzk5YTczZTQ0MDkxODQ1NjE5ZmQ0Y2I1YzkxZGVmNDExIiBzdHlsZT0id2lkdGg6IDEwMC4wJTsgaGVpZ2h0OiAxMDAuMCU7Ij5BaXJwb3J0PC9kaXY+YClbMF07CiAgICAgICAgICAgIHBvcHVwX2ZlMWE4MTM4Mzk3ZjQxODc5YzM2MjNjMTUwZTQ1ZTM1LnNldENvbnRlbnQoaHRtbF85OWE3M2U0NDA5MTg0NTYxOWZkNGNiNWM5MWRlZjQxMSk7CiAgICAgICAgCgogICAgICAgIG1hcmtlcl8zNDk1MzYyM2I3YjU0ZWE5YWIwNjYxOWYyNTU5N2I1Ni5iaW5kUG9wdXAocG9wdXBfZmUxYTgxMzgzOTdmNDE4NzljMzYyM2MxNTBlNDVlMzUpCiAgICAgICAgOwoKICAgICAgICAKICAgIAogICAgCiAgICAgICAgICAgIHZhciBtYXJrZXJfNTZhZGYwYjY1MWY0NGIwN2E0MTc5MjQ5NGYwMTM2YTggPSBMLm1hcmtlcigKICAgICAgICAgICAgICAgIFszMi43MzMzMywgLTExNy4xODMzXSwKICAgICAgICAgICAgICAgIHt9CiAgICAgICAgICAgICkuYWRkVG8obWFwX2ZkZmNhZGQzYWFmYzQwM2Q5ZGEwZjA3MjM1NDE3MzIzKTsKICAgICAgICAKICAgIAogICAgICAgICAgICB2YXIgaWNvbl8xMGZiZGMzZTM5NTQ0NDg2OGI5ZjE1MDc5ZTZlNjU1YSA9IEwuQXdlc29tZU1hcmtlcnMuaWNvbigKICAgICAgICAgICAgICAgIHsiZXh0cmFDbGFzc2VzIjogImZhLXJvdGF0ZS0wIiwgImljb24iOiAiaW5mby1zaWduIiwgImljb25Db2xvciI6ICJ3aGl0ZSIsICJtYXJrZXJDb2xvciI6ICJibHVlIiwgInByZWZpeCI6ICJnbHlwaGljb24ifQogICAgICAgICAgICApOwogICAgICAgICAgICBtYXJrZXJfNTZhZGYwYjY1MWY0NGIwN2E0MTc5MjQ5NGYwMTM2YTguc2V0SWNvbihpY29uXzEwZmJkYzNlMzk1NDQ0ODY4YjlmMTUwNzllNmU2NTVhKTsKICAgICAgICAKICAgIAogICAgICAgIHZhciBwb3B1cF83YzA2MTAzOGFhNTk0YjEwYjIwNDRmODgyMzQ0MzI4YSA9IEwucG9wdXAoeyJtYXhXaWR0aCI6ICIxMDAlIn0pOwoKICAgICAgICAKICAgICAgICAgICAgdmFyIGh0bWxfOTY4ZDE3YTZiODY4NDc5OTkwODRhZWRhYmFkNTAzZWEgPSAkKGA8ZGl2IGlkPSJodG1sXzk2OGQxN2E2Yjg2ODQ3OTk5MDg0YWVkYWJhZDUwM2VhIiBzdHlsZT0id2lkdGg6IDEwMC4wJTsgaGVpZ2h0OiAxMDAuMCU7Ij5BaXJwb3J0PC9kaXY+YClbMF07CiAgICAgICAgICAgIHBvcHVwXzdjMDYxMDM4YWE1OTRiMTBiMjA0NGY4ODIzNDQzMjhhLnNldENvbnRlbnQoaHRtbF85NjhkMTdhNmI4Njg0Nzk5OTA4NGFlZGFiYWQ1MDNlYSk7CiAgICAgICAgCgogICAgICAgIG1hcmtlcl81NmFkZjBiNjUxZjQ0YjA3YTQxNzkyNDk0ZjAxMzZhOC5iaW5kUG9wdXAocG9wdXBfN2MwNjEwMzhhYTU5NGIxMGIyMDQ0Zjg4MjM0NDMyOGEpCiAgICAgICAgOwoKICAgICAgICAKICAgIAogICAgCiAgICAgICAgICAgIHZhciBtYXJrZXJfYzFiMDFhMjBkZDk5NGI2MmI3OTBjMmQ3M2I1MDZjMWQgPSBMLm1hcmtlcigKICAgICAgICAgICAgICAgIFszMS43NDE5NDAwMDAwMDAwMDMsIDExOC44NjE5XSwKICAgICAgICAgICAgICAgIHt9CiAgICAgICAgICAgICkuYWRkVG8obWFwX2ZkZmNhZGQzYWFmYzQwM2Q5ZGEwZjA3MjM1NDE3MzIzKTsKICAgICAgICAKICAgIAogICAgICAgICAgICB2YXIgaWNvbl9mOTk4NzdlZTNmYjY0NjY2YmIzZTA1OWNlYjIzYjNkMyA9IEwuQXdlc29tZU1hcmtlcnMuaWNvbigKICAgICAgICAgICAgICAgIHsiZXh0cmFDbGFzc2VzIjogImZhLXJvdGF0ZS0wIiwgImljb24iOiAiaW5mby1zaWduIiwgImljb25Db2xvciI6ICJ3aGl0ZSIsICJtYXJrZXJDb2xvciI6ICJibHVlIiwgInByZWZpeCI6ICJnbHlwaGljb24ifQogICAgICAgICAgICApOwogICAgICAgICAgICBtYXJrZXJfYzFiMDFhMjBkZDk5NGI2MmI3OTBjMmQ3M2I1MDZjMWQuc2V0SWNvbihpY29uX2Y5OTg3N2VlM2ZiNjQ2NjZiYjNlMDU5Y2ViMjNiM2QzKTsKICAgICAgICAKICAgIAogICAgICAgIHZhciBwb3B1cF80OTMxMDUzNjE0NmQ0MjY4ODVhMTY4Y2I3ODFhYTMwMCA9IEwucG9wdXAoeyJtYXhXaWR0aCI6ICIxMDAlIn0pOwoKICAgICAgICAKICAgICAgICAgICAgdmFyIGh0bWxfMzk3Nzk3YWJlZTdjNGJhYWE1NWM2NmJiNDZiOTU5NjQgPSAkKGA8ZGl2IGlkPSJodG1sXzM5Nzc5N2FiZWU3YzRiYWFhNTVjNjZiYjQ2Yjk1OTY0IiBzdHlsZT0id2lkdGg6IDEwMC4wJTsgaGVpZ2h0OiAxMDAuMCU7Ij5BaXJwb3J0PC9kaXY+YClbMF07CiAgICAgICAgICAgIHBvcHVwXzQ5MzEwNTM2MTQ2ZDQyNjg4NWExNjhjYjc4MWFhMzAwLnNldENvbnRlbnQoaHRtbF8zOTc3OTdhYmVlN2M0YmFhYTU1YzY2YmI0NmI5NTk2NCk7CiAgICAgICAgCgogICAgICAgIG1hcmtlcl9jMWIwMWEyMGRkOTk0YjYyYjc5MGMyZDczYjUwNmMxZC5iaW5kUG9wdXAocG9wdXBfNDkzMTA1MzYxNDZkNDI2ODg1YTE2OGNiNzgxYWEzMDApCiAgICAgICAgOwoKICAgICAgICAKICAgIAogICAgCiAgICAgICAgICAgIHZhciBtYXJrZXJfYzk5Y2YxN2E5ZDc0NDNkNGI4YjQyNGYzNWVlYzE0MzEgPSBMLm1hcmtlcigKICAgICAgICAgICAgICAgIFszMy45NDI1LCAtMTE4LjQwNzJdLAogICAgICAgICAgICAgICAge30KICAgICAgICAgICAgKS5hZGRUbyhtYXBfZmRmY2FkZDNhYWZjNDAzZDlkYTBmMDcyMzU0MTczMjMpOwogICAgICAgIAogICAgCiAgICAgICAgICAgIHZhciBpY29uXzEyNjM4ZTMxMTJmMDQ1ZWM5ZmMwNWFmMjcyYzUzY2E5ID0gTC5Bd2Vzb21lTWFya2Vycy5pY29uKAogICAgICAgICAgICAgICAgeyJleHRyYUNsYXNzZXMiOiAiZmEtcm90YXRlLTAiLCAiaWNvbiI6ICJpbmZvLXNpZ24iLCAiaWNvbkNvbG9yIjogIndoaXRlIiwgIm1hcmtlckNvbG9yIjogImJsdWUiLCAicHJlZml4IjogImdseXBoaWNvbiJ9CiAgICAgICAgICAgICk7CiAgICAgICAgICAgIG1hcmtlcl9jOTljZjE3YTlkNzQ0M2Q0YjhiNDI0ZjM1ZWVjMTQzMS5zZXRJY29uKGljb25fMTI2MzhlMzExMmYwNDVlYzlmYzA1YWYyNzJjNTNjYTkpOwogICAgICAgIAogICAgCiAgICAgICAgdmFyIHBvcHVwX2U1NjcyYzY1MWUzNzRlMzJiZWEwMGM2OTU5ZmYzMDYwID0gTC5wb3B1cCh7Im1heFdpZHRoIjogIjEwMCUifSk7CgogICAgICAgIAogICAgICAgICAgICB2YXIgaHRtbF9mZTgzZmUzMjAwYjA0NDY2YWQ2YmVmZDBmZDZhNzI5MyA9ICQoYDxkaXYgaWQ9Imh0bWxfZmU4M2ZlMzIwMGIwNDQ2NmFkNmJlZmQwZmQ2YTcyOTMiIHN0eWxlPSJ3aWR0aDogMTAwLjAlOyBoZWlnaHQ6IDEwMC4wJTsiPkFpcnBvcnQ8L2Rpdj5gKVswXTsKICAgICAgICAgICAgcG9wdXBfZTU2NzJjNjUxZTM3NGUzMmJlYTAwYzY5NTlmZjMwNjAuc2V0Q29udGVudChodG1sX2ZlODNmZTMyMDBiMDQ0NjZhZDZiZWZkMGZkNmE3MjkzKTsKICAgICAgICAKCiAgICAgICAgbWFya2VyX2M5OWNmMTdhOWQ3NDQzZDRiOGI0MjRmMzVlZWMxNDMxLmJpbmRQb3B1cChwb3B1cF9lNTY3MmM2NTFlMzc0ZTMyYmVhMDBjNjk1OWZmMzA2MCkKICAgICAgICA7CgogICAgICAgIAogICAgCiAgICAKICAgICAgICAgICAgdmFyIG1hcmtlcl9hNTgxZjlmZDUxNjc0NTFkOTBlY2I3ZWU1OTgzNTIzZiA9IEwubWFya2VyKAogICAgICAgICAgICAgICAgWzMxLjg2NjY3MDAwMDAwMDAwMywgMTMxLjQ1XSwKICAgICAgICAgICAgICAgIHt9CiAgICAgICAgICAgICkuYWRkVG8obWFwX2ZkZmNhZGQzYWFmYzQwM2Q5ZGEwZjA3MjM1NDE3MzIzKTsKICAgICAgICAKICAgIAogICAgICAgICAgICB2YXIgaWNvbl9hYjYxNmFlOTUxNzA0OGZmYWU1ZjhmYjY4OWI3NDA2MCA9IEwuQXdlc29tZU1hcmtlcnMuaWNvbigKICAgICAgICAgICAgICAgIHsiZXh0cmFDbGFzc2VzIjogImZhLXJvdGF0ZS0wIiwgImljb24iOiAiaW5mby1zaWduIiwgImljb25Db2xvciI6ICJ3aGl0ZSIsICJtYXJrZXJDb2xvciI6ICJibHVlIiwgInByZWZpeCI6ICJnbHlwaGljb24ifQogICAgICAgICAgICApOwogICAgICAgICAgICBtYXJrZXJfYTU4MWY5ZmQ1MTY3NDUxZDkwZWNiN2VlNTk4MzUyM2Yuc2V0SWNvbihpY29uX2FiNjE2YWU5NTE3MDQ4ZmZhZTVmOGZiNjg5Yjc0MDYwKTsKICAgICAgICAKICAgIAogICAgICAgIHZhciBwb3B1cF8wZjZmOWU0YTE3OTU0NjgwYjlhM2IyYjk2Njc3OGUwZiA9IEwucG9wdXAoeyJtYXhXaWR0aCI6ICIxMDAlIn0pOwoKICAgICAgICAKICAgICAgICAgICAgdmFyIGh0bWxfZWI3YmNhNzY4NDY5NDkyN2I5Nzc1NGI1Y2ZjMjA2YjMgPSAkKGA8ZGl2IGlkPSJodG1sX2ViN2JjYTc2ODQ2OTQ5MjdiOTc3NTRiNWNmYzIwNmIzIiBzdHlsZT0id2lkdGg6IDEwMC4wJTsgaGVpZ2h0OiAxMDAuMCU7Ij5BaXJwb3J0PC9kaXY+YClbMF07CiAgICAgICAgICAgIHBvcHVwXzBmNmY5ZTRhMTc5NTQ2ODBiOWEzYjJiOTY2Nzc4ZTBmLnNldENvbnRlbnQoaHRtbF9lYjdiY2E3Njg0Njk0OTI3Yjk3NzU0YjVjZmMyMDZiMyk7CiAgICAgICAgCgogICAgICAgIG1hcmtlcl9hNTgxZjlmZDUxNjc0NTFkOTBlY2I3ZWU1OTgzNTIzZi5iaW5kUG9wdXAocG9wdXBfMGY2ZjllNGExNzk1NDY4MGI5YTNiMmI5NjY3NzhlMGYpCiAgICAgICAgOwoKICAgICAgICAKICAgIAogICAgCiAgICAgICAgICAgIHZhciBtYXJrZXJfNzc5NmFhNTM0NTI3NGVkOTg0MmRkYjFjM2FiODYxNTggPSBMLm1hcmtlcigKICAgICAgICAgICAgICAgIFszNS4wNjY2NywgLTg5Ljk2NjY3XSwKICAgICAgICAgICAgICAgIHt9CiAgICAgICAgICAgICkuYWRkVG8obWFwX2ZkZmNhZGQzYWFmYzQwM2Q5ZGEwZjA3MjM1NDE3MzIzKTsKICAgICAgICAKICAgIAogICAgICAgICAgICB2YXIgaWNvbl80MWE2MTg1YTYxNmM0ZjcyOWZmNGVjMDI1ODg3YzcxZCA9IEwuQXdlc29tZU1hcmtlcnMuaWNvbigKICAgICAgICAgICAgICAgIHsiZXh0cmFDbGFzc2VzIjogImZhLXJvdGF0ZS0wIiwgImljb24iOiAiaW5mby1zaWduIiwgImljb25Db2xvciI6ICJ3aGl0ZSIsICJtYXJrZXJDb2xvciI6ICJibHVlIiwgInByZWZpeCI6ICJnbHlwaGljb24ifQogICAgICAgICAgICApOwogICAgICAgICAgICBtYXJrZXJfNzc5NmFhNTM0NTI3NGVkOTg0MmRkYjFjM2FiODYxNTguc2V0SWNvbihpY29uXzQxYTYxODVhNjE2YzRmNzI5ZmY0ZWMwMjU4ODdjNzFkKTsKICAgICAgICAKICAgIAogICAgICAgIHZhciBwb3B1cF9lYTRjYTcwYzU0ZWI0M2U2OWMxNzUwYzA0NTdkMzRiOSA9IEwucG9wdXAoeyJtYXhXaWR0aCI6ICIxMDAlIn0pOwoKICAgICAgICAKICAgICAgICAgICAgdmFyIGh0bWxfZGE1NjMwNzc2MTgzNGUyYmIyYTVmMjJmNDhmMDQ4NjcgPSAkKGA8ZGl2IGlkPSJodG1sX2RhNTYzMDc3NjE4MzRlMmJiMmE1ZjIyZjQ4ZjA0ODY3IiBzdHlsZT0id2lkdGg6IDEwMC4wJTsgaGVpZ2h0OiAxMDAuMCU7Ij5BaXJwb3J0PC9kaXY+YClbMF07CiAgICAgICAgICAgIHBvcHVwX2VhNGNhNzBjNTRlYjQzZTY5YzE3NTBjMDQ1N2QzNGI5LnNldENvbnRlbnQoaHRtbF9kYTU2MzA3NzYxODM0ZTJiYjJhNWYyMmY0OGYwNDg2Nyk7CiAgICAgICAgCgogICAgICAgIG1hcmtlcl83Nzk2YWE1MzQ1Mjc0ZWQ5ODQyZGRiMWMzYWI4NjE1OC5iaW5kUG9wdXAocG9wdXBfZWE0Y2E3MGM1NGViNDNlNjljMTc1MGMwNDU3ZDM0YjkpCiAgICAgICAgOwoKICAgICAgICAKICAgIAogICAgCiAgICAgICAgICAgIHZhciBtYXJrZXJfNzc1NTUyMTFjNzkwNDIyNzliYjExYjdhM2M3ODY5NGQgPSBMLm1hcmtlcigKICAgICAgICAgICAgICAgIFs1Mi4zMDg2MDk5OTk5OTk5OTQsIDQuNzYzODg5XSwKICAgICAgICAgICAgICAgIHt9CiAgICAgICAgICAgICkuYWRkVG8obWFwX2ZkZmNhZGQzYWFmYzQwM2Q5ZGEwZjA3MjM1NDE3MzIzKTsKICAgICAgICAKICAgIAogICAgICAgICAgICB2YXIgaWNvbl9kMmMzMmViYTQ4NDE0YzAzOTNjOTQ2YTFhNDhhM2JhYSA9IEwuQXdlc29tZU1hcmtlcnMuaWNvbigKICAgICAgICAgICAgICAgIHsiZXh0cmFDbGFzc2VzIjogImZhLXJvdGF0ZS0wIiwgImljb24iOiAiaW5mby1zaWduIiwgImljb25Db2xvciI6ICJ3aGl0ZSIsICJtYXJrZXJDb2xvciI6ICJibHVlIiwgInByZWZpeCI6ICJnbHlwaGljb24ifQogICAgICAgICAgICApOwogICAgICAgICAgICBtYXJrZXJfNzc1NTUyMTFjNzkwNDIyNzliYjExYjdhM2M3ODY5NGQuc2V0SWNvbihpY29uX2QyYzMyZWJhNDg0MTRjMDM5M2M5NDZhMWE0OGEzYmFhKTsKICAgICAgICAKICAgIAogICAgICAgIHZhciBwb3B1cF80YmM0ZjU2NGQ3MzQ0NDEzYTYyMTY3YjlkZTU5NThlMiA9IEwucG9wdXAoeyJtYXhXaWR0aCI6ICIxMDAlIn0pOwoKICAgICAgICAKICAgICAgICAgICAgdmFyIGh0bWxfYTRhZTA5NDk0OTM4NDVkMDlkMTdmOWUyYTNhMzIzOWEgPSAkKGA8ZGl2IGlkPSJodG1sX2E0YWUwOTQ5NDkzODQ1ZDA5ZDE3ZjllMmEzYTMyMzlhIiBzdHlsZT0id2lkdGg6IDEwMC4wJTsgaGVpZ2h0OiAxMDAuMCU7Ij5BaXJwb3J0PC9kaXY+YClbMF07CiAgICAgICAgICAgIHBvcHVwXzRiYzRmNTY0ZDczNDQ0MTNhNjIxNjdiOWRlNTk1OGUyLnNldENvbnRlbnQoaHRtbF9hNGFlMDk0OTQ5Mzg0NWQwOWQxN2Y5ZTJhM2EzMjM5YSk7CiAgICAgICAgCgogICAgICAgIG1hcmtlcl83NzU1NTIxMWM3OTA0MjI3OWJiMTFiN2EzYzc4Njk0ZC5iaW5kUG9wdXAocG9wdXBfNGJjNGY1NjRkNzM0NDQxM2E2MjE2N2I5ZGU1OTU4ZTIpCiAgICAgICAgOwoKICAgICAgICAKICAgIAogICAgCiAgICAgICAgICAgIHZhciBtYXJrZXJfNjQ2MzIwMjI4ZmU4NDlhMTljNTUwZjZhMmNjMTYxMjcgPSBMLm1hcmtlcigKICAgICAgICAgICAgICAgIFs0NS40NzA1NSwgLTczLjc0MDgzXSwKICAgICAgICAgICAgICAgIHt9CiAgICAgICAgICAgICkuYWRkVG8obWFwX2ZkZmNhZGQzYWFmYzQwM2Q5ZGEwZjA3MjM1NDE3MzIzKTsKICAgICAgICAKICAgIAogICAgICAgICAgICB2YXIgaWNvbl80YjlmZjQ2NTIwMDQ0YzdmYjQxZTUzZWRjYWUyMDQ3ZiA9IEwuQXdlc29tZU1hcmtlcnMuaWNvbigKICAgICAgICAgICAgICAgIHsiZXh0cmFDbGFzc2VzIjogImZhLXJvdGF0ZS0wIiwgImljb24iOiAiaW5mby1zaWduIiwgImljb25Db2xvciI6ICJ3aGl0ZSIsICJtYXJrZXJDb2xvciI6ICJibHVlIiwgInByZWZpeCI6ICJnbHlwaGljb24ifQogICAgICAgICAgICApOwogICAgICAgICAgICBtYXJrZXJfNjQ2MzIwMjI4ZmU4NDlhMTljNTUwZjZhMmNjMTYxMjcuc2V0SWNvbihpY29uXzRiOWZmNDY1MjAwNDRjN2ZiNDFlNTNlZGNhZTIwNDdmKTsKICAgICAgICAKICAgIAogICAgICAgIHZhciBwb3B1cF80MjE5NjhjMjBhZjY0ZGI2YjllZTBhNTJhMGU5YmU3NSA9IEwucG9wdXAoeyJtYXhXaWR0aCI6ICIxMDAlIn0pOwoKICAgICAgICAKICAgICAgICAgICAgdmFyIGh0bWxfZWNkZjFjMjAyZmVkNGQ4NWI2YjQxZTkzMmUzYmRmNDMgPSAkKGA8ZGl2IGlkPSJodG1sX2VjZGYxYzIwMmZlZDRkODViNmI0MWU5MzJlM2JkZjQzIiBzdHlsZT0id2lkdGg6IDEwMC4wJTsgaGVpZ2h0OiAxMDAuMCU7Ij5BaXJwb3J0PC9kaXY+YClbMF07CiAgICAgICAgICAgIHBvcHVwXzQyMTk2OGMyMGFmNjRkYjZiOWVlMGE1MmEwZTliZTc1LnNldENvbnRlbnQoaHRtbF9lY2RmMWMyMDJmZWQ0ZDg1YjZiNDFlOTMyZTNiZGY0Myk7CiAgICAgICAgCgogICAgICAgIG1hcmtlcl82NDYzMjAyMjhmZTg0OWExOWM1NTBmNmEyY2MxNjEyNy5iaW5kUG9wdXAocG9wdXBfNDIxOTY4YzIwYWY2NGRiNmI5ZWUwYTUyYTBlOWJlNzUpCiAgICAgICAgOwoKICAgICAgICAKICAgIAogICAgCiAgICAgICAgICAgIHZhciBtYXJrZXJfNGZhZGRlYjJkZDkxNGFlODhhMDFmZWYzYmI1YWQwMjggPSBMLm1hcmtlcigKICAgICAgICAgICAgICAgIFstMjkuOTg0NDQwMDAwMDAwMDAzLCAtNTEuMTcxMzldLAogICAgICAgICAgICAgICAge30KICAgICAgICAgICAgKS5hZGRUbyhtYXBfZmRmY2FkZDNhYWZjNDAzZDlkYTBmMDcyMzU0MTczMjMpOwogICAgICAgIAogICAgCiAgICAgICAgICAgIHZhciBpY29uXzE3YzgzZWI0YjRiNDQ5MTdhOWQwNGEzZTE1MDE5YmY1ID0gTC5Bd2Vzb21lTWFya2Vycy5pY29uKAogICAgICAgICAgICAgICAgeyJleHRyYUNsYXNzZXMiOiAiZmEtcm90YXRlLTAiLCAiaWNvbiI6ICJpbmZvLXNpZ24iLCAiaWNvbkNvbG9yIjogIndoaXRlIiwgIm1hcmtlckNvbG9yIjogImJsdWUiLCAicHJlZml4IjogImdseXBoaWNvbiJ9CiAgICAgICAgICAgICk7CiAgICAgICAgICAgIG1hcmtlcl80ZmFkZGViMmRkOTE0YWU4OGEwMWZlZjNiYjVhZDAyOC5zZXRJY29uKGljb25fMTdjODNlYjRiNGI0NDkxN2E5ZDA0YTNlMTUwMTliZjUpOwogICAgICAgIAogICAgCiAgICAgICAgdmFyIHBvcHVwXzFiNWMxNTBjYTc4ZDQ2OTFhMTA1MzJkYzc0MGM0Yzg0ID0gTC5wb3B1cCh7Im1heFdpZHRoIjogIjEwMCUifSk7CgogICAgICAgIAogICAgICAgICAgICB2YXIgaHRtbF8xODkwNjdjOGUyMDM0ZTQ2OGU1MjdhNTU3MWYwMDI5ZSA9ICQoYDxkaXYgaWQ9Imh0bWxfMTg5MDY3YzhlMjAzNGU0NjhlNTI3YTU1NzFmMDAyOWUiIHN0eWxlPSJ3aWR0aDogMTAwLjAlOyBoZWlnaHQ6IDEwMC4wJTsiPkFpcnBvcnQ8L2Rpdj5gKVswXTsKICAgICAgICAgICAgcG9wdXBfMWI1YzE1MGNhNzhkNDY5MWExMDUzMmRjNzQwYzRjODQuc2V0Q29udGVudChodG1sXzE4OTA2N2M4ZTIwMzRlNDY4ZTUyN2E1NTcxZjAwMjllKTsKICAgICAgICAKCiAgICAgICAgbWFya2VyXzRmYWRkZWIyZGQ5MTRhZTg4YTAxZmVmM2JiNWFkMDI4LmJpbmRQb3B1cChwb3B1cF8xYjVjMTUwY2E3OGQ0NjkxYTEwNTMyZGM3NDBjNGM4NCkKICAgICAgICA7CgogICAgICAgIAogICAgCiAgICAKICAgICAgICAgICAgdmFyIG1hcmtlcl9kN2U4NGE1Y2Y4YTI0NzI0YTMwYzA3Mjk2ZGE1MzNkZiA9IEwubWFya2VyKAogICAgICAgICAgICAgICAgWzI4LjA3MTEwOTk5OTk5OTk5NywgMTEyLjk1ODNdLAogICAgICAgICAgICAgICAge30KICAgICAgICAgICAgKS5hZGRUbyhtYXBfZmRmY2FkZDNhYWZjNDAzZDlkYTBmMDcyMzU0MTczMjMpOwogICAgICAgIAogICAgCiAgICAgICAgICAgIHZhciBpY29uXzZmN2Y0ZTliMWJhNzQzNWZiODQ5MjllMDlmZWZiNjliID0gTC5Bd2Vzb21lTWFya2Vycy5pY29uKAogICAgICAgICAgICAgICAgeyJleHRyYUNsYXNzZXMiOiAiZmEtcm90YXRlLTAiLCAiaWNvbiI6ICJpbmZvLXNpZ24iLCAiaWNvbkNvbG9yIjogIndoaXRlIiwgIm1hcmtlckNvbG9yIjogImJsdWUiLCAicHJlZml4IjogImdseXBoaWNvbiJ9CiAgICAgICAgICAgICk7CiAgICAgICAgICAgIG1hcmtlcl9kN2U4NGE1Y2Y4YTI0NzI0YTMwYzA3Mjk2ZGE1MzNkZi5zZXRJY29uKGljb25fNmY3ZjRlOWIxYmE3NDM1ZmI4NDkyOWUwOWZlZmI2OWIpOwogICAgICAgIAogICAgCiAgICAgICAgdmFyIHBvcHVwX2VkYjM3MzE3NDQwMzRkNmZiMTkxMTViNmM1MTFhMTc1ID0gTC5wb3B1cCh7Im1heFdpZHRoIjogIjEwMCUifSk7CgogICAgICAgIAogICAgICAgICAgICB2YXIgaHRtbF81NjE1NTA3NjI5ODg0ZjgzOWE4OWRjYjBjOTc4YTdmMSA9ICQoYDxkaXYgaWQ9Imh0bWxfNTYxNTUwNzYyOTg4NGY4MzlhODlkY2IwYzk3OGE3ZjEiIHN0eWxlPSJ3aWR0aDogMTAwLjAlOyBoZWlnaHQ6IDEwMC4wJTsiPkFpcnBvcnQ8L2Rpdj5gKVswXTsKICAgICAgICAgICAgcG9wdXBfZWRiMzczMTc0NDAzNGQ2ZmIxOTExNWI2YzUxMWExNzUuc2V0Q29udGVudChodG1sXzU2MTU1MDc2Mjk4ODRmODM5YTg5ZGNiMGM5NzhhN2YxKTsKICAgICAgICAKCiAgICAgICAgbWFya2VyX2Q3ZTg0YTVjZjhhMjQ3MjRhMzBjMDcyOTZkYTUzM2RmLmJpbmRQb3B1cChwb3B1cF9lZGIzNzMxNzQ0MDM0ZDZmYjE5MTE1YjZjNTExYTE3NSkKICAgICAgICA7CgogICAgICAgIAogICAgCiAgICAKICAgICAgICAgICAgdmFyIG1hcmtlcl9kZDcwYjBiZTA1N2E0ZjZmODgxOWU0MmU0MDY3NGMxMCA9IEwubWFya2VyKAogICAgICAgICAgICAgICAgWzQxLjk3ODYwOTk5OTk5OTk5NiwgLTg3LjkwNDcyXSwKICAgICAgICAgICAgICAgIHt9CiAgICAgICAgICAgICkuYWRkVG8obWFwX2ZkZmNhZGQzYWFmYzQwM2Q5ZGEwZjA3MjM1NDE3MzIzKTsKICAgICAgICAKICAgIAogICAgICAgICAgICB2YXIgaWNvbl8zM2M3NDE3MGYwNjA0MDRlOTRhY2FlMzBjYzBmZDBkNyA9IEwuQXdlc29tZU1hcmtlcnMuaWNvbigKICAgICAgICAgICAgICAgIHsiZXh0cmFDbGFzc2VzIjogImZhLXJvdGF0ZS0wIiwgImljb24iOiAiaW5mby1zaWduIiwgImljb25Db2xvciI6ICJ3aGl0ZSIsICJtYXJrZXJDb2xvciI6ICJibHVlIiwgInByZWZpeCI6ICJnbHlwaGljb24ifQogICAgICAgICAgICApOwogICAgICAgICAgICBtYXJrZXJfZGQ3MGIwYmUwNTdhNGY2Zjg4MTllNDJlNDA2NzRjMTAuc2V0SWNvbihpY29uXzMzYzc0MTcwZjA2MDQwNGU5NGFjYWUzMGNjMGZkMGQ3KTsKICAgICAgICAKICAgIAogICAgICAgIHZhciBwb3B1cF9jMzJiNGU5YTEzZGQ0ZTVhYWQ3NTg1MzA0MTFhZGI4ZSA9IEwucG9wdXAoeyJtYXhXaWR0aCI6ICIxMDAlIn0pOwoKICAgICAgICAKICAgICAgICAgICAgdmFyIGh0bWxfZTBlMWYzOGIxYjYxNDBkNmJlODk2MTFhODJkYzNiNmIgPSAkKGA8ZGl2IGlkPSJodG1sX2UwZTFmMzhiMWI2MTQwZDZiZTg5NjExYTgyZGMzYjZiIiBzdHlsZT0id2lkdGg6IDEwMC4wJTsgaGVpZ2h0OiAxMDAuMCU7Ij5BaXJwb3J0PC9kaXY+YClbMF07CiAgICAgICAgICAgIHBvcHVwX2MzMmI0ZTlhMTNkZDRlNWFhZDc1ODUzMDQxMWFkYjhlLnNldENvbnRlbnQoaHRtbF9lMGUxZjM4YjFiNjE0MGQ2YmU4OTYxMWE4MmRjM2I2Yik7CiAgICAgICAgCgogICAgICAgIG1hcmtlcl9kZDcwYjBiZTA1N2E0ZjZmODgxOWU0MmU0MDY3NGMxMC5iaW5kUG9wdXAocG9wdXBfYzMyYjRlOWExM2RkNGU1YWFkNzU4NTMwNDExYWRiOGUpCiAgICAgICAgOwoKICAgICAgICAKICAgIAogICAgCiAgICAgICAgICAgIHZhciBtYXJrZXJfNTVhNzk1ZmMxYjI5NGMxMzg4ZTBmMGZlYTA0ZmU2NDQgPSBMLm1hcmtlcigKICAgICAgICAgICAgICAgIFstMTMuNTMzMzMsIC03MS45NjY2N10sCiAgICAgICAgICAgICAgICB7fQogICAgICAgICAgICApLmFkZFRvKG1hcF9mZGZjYWRkM2FhZmM0MDNkOWRhMGYwNzIzNTQxNzMyMyk7CiAgICAgICAgCiAgICAKICAgICAgICAgICAgdmFyIGljb25fYWYwZGJlOTgzNjdkNDZjYWE3NDVkMGY3YTAxYzc3YzUgPSBMLkF3ZXNvbWVNYXJrZXJzLmljb24oCiAgICAgICAgICAgICAgICB7ImV4dHJhQ2xhc3NlcyI6ICJmYS1yb3RhdGUtMCIsICJpY29uIjogImluZm8tc2lnbiIsICJpY29uQ29sb3IiOiAid2hpdGUiLCAibWFya2VyQ29sb3IiOiAiYmx1ZSIsICJwcmVmaXgiOiAiZ2x5cGhpY29uIn0KICAgICAgICAgICAgKTsKICAgICAgICAgICAgbWFya2VyXzU1YTc5NWZjMWIyOTRjMTM4OGUwZjBmZWEwNGZlNjQ0LnNldEljb24oaWNvbl9hZjBkYmU5ODM2N2Q0NmNhYTc0NWQwZjdhMDFjNzdjNSk7CiAgICAgICAgCiAgICAKICAgICAgICB2YXIgcG9wdXBfMTZlMDM5NDgyYzc1NGVjZGFiY2QyN2EyMmEzZGIyNWQgPSBMLnBvcHVwKHsibWF4V2lkdGgiOiAiMTAwJSJ9KTsKCiAgICAgICAgCiAgICAgICAgICAgIHZhciBodG1sX2MwMDNiMzliOWZjOTRmOWU4MmY0MDUxZWRkZTIxODg2ID0gJChgPGRpdiBpZD0iaHRtbF9jMDAzYjM5YjlmYzk0ZjllODJmNDA1MWVkZGUyMTg4NiIgc3R5bGU9IndpZHRoOiAxMDAuMCU7IGhlaWdodDogMTAwLjAlOyI+QWlycG9ydDwvZGl2PmApWzBdOwogICAgICAgICAgICBwb3B1cF8xNmUwMzk0ODJjNzU0ZWNkYWJjZDI3YTIyYTNkYjI1ZC5zZXRDb250ZW50KGh0bWxfYzAwM2IzOWI5ZmM5NGY5ZTgyZjQwNTFlZGRlMjE4ODYpOwogICAgICAgIAoKICAgICAgICBtYXJrZXJfNTVhNzk1ZmMxYjI5NGMxMzg4ZTBmMGZlYTA0ZmU2NDQuYmluZFBvcHVwKHBvcHVwXzE2ZTAzOTQ4MmM3NTRlY2RhYmNkMjdhMjJhM2RiMjVkKQogICAgICAgIDsKCiAgICAgICAgCiAgICAKICAgIAogICAgICAgICAgICB2YXIgbWFya2VyX2E5YjdiY2ViYmQzOTQzMTE5NmMwYTNjNjBhMDBhNzYwID0gTC5tYXJrZXIoCiAgICAgICAgICAgICAgICBbMTAuNzEzMDYsIDEyMi41NDUzXSwKICAgICAgICAgICAgICAgIHt9CiAgICAgICAgICAgICkuYWRkVG8obWFwX2ZkZmNhZGQzYWFmYzQwM2Q5ZGEwZjA3MjM1NDE3MzIzKTsKICAgICAgICAKICAgIAogICAgICAgICAgICB2YXIgaWNvbl82YzMxMWJkZTE0ZTc0NzQ1YTYxYTdkNzI4OWVmYTJiNyA9IEwuQXdlc29tZU1hcmtlcnMuaWNvbigKICAgICAgICAgICAgICAgIHsiZXh0cmFDbGFzc2VzIjogImZhLXJvdGF0ZS0wIiwgImljb24iOiAiaW5mby1zaWduIiwgImljb25Db2xvciI6ICJ3aGl0ZSIsICJtYXJrZXJDb2xvciI6ICJibHVlIiwgInByZWZpeCI6ICJnbHlwaGljb24ifQogICAgICAgICAgICApOwogICAgICAgICAgICBtYXJrZXJfYTliN2JjZWJiZDM5NDMxMTk2YzBhM2M2MGEwMGE3NjAuc2V0SWNvbihpY29uXzZjMzExYmRlMTRlNzQ3NDVhNjFhN2Q3Mjg5ZWZhMmI3KTsKICAgICAgICAKICAgIAogICAgICAgIHZhciBwb3B1cF84ZmJjYThlZmM2NjM0N2IzOWJkMjdjYjM1MTJkNmNjNCA9IEwucG9wdXAoeyJtYXhXaWR0aCI6ICIxMDAlIn0pOwoKICAgICAgICAKICAgICAgICAgICAgdmFyIGh0bWxfNmU5MTJkZDE5MmI2NDIzODkwOWFlZDE1ZWU3ZWY3YTQgPSAkKGA8ZGl2IGlkPSJodG1sXzZlOTEyZGQxOTJiNjQyMzg5MDlhZWQxNWVlN2VmN2E0IiBzdHlsZT0id2lkdGg6IDEwMC4wJTsgaGVpZ2h0OiAxMDAuMCU7Ij5BaXJwb3J0PC9kaXY+YClbMF07CiAgICAgICAgICAgIHBvcHVwXzhmYmNhOGVmYzY2MzQ3YjM5YmQyN2NiMzUxMmQ2Y2M0LnNldENvbnRlbnQoaHRtbF82ZTkxMmRkMTkyYjY0MjM4OTA5YWVkMTVlZTdlZjdhNCk7CiAgICAgICAgCgogICAgICAgIG1hcmtlcl9hOWI3YmNlYmJkMzk0MzExOTZjMGEzYzYwYTAwYTc2MC5iaW5kUG9wdXAocG9wdXBfOGZiY2E4ZWZjNjYzNDdiMzliZDI3Y2IzNTEyZDZjYzQpCiAgICAgICAgOwoKICAgICAgICAKICAgIAogICAgCiAgICAgICAgICAgIHZhciBtYXJrZXJfOGQxYzJlMzliODY1NDI1YmEyMTAzZTJiODZjNWQyNjcgPSBMLm1hcmtlcigKICAgICAgICAgICAgICAgIFs0MC43ODgzMywgLTExMS45NjY3XSwKICAgICAgICAgICAgICAgIHt9CiAgICAgICAgICAgICkuYWRkVG8obWFwX2ZkZmNhZGQzYWFmYzQwM2Q5ZGEwZjA3MjM1NDE3MzIzKTsKICAgICAgICAKICAgIAogICAgICAgICAgICB2YXIgaWNvbl8wMGNhZTc1YWUyZmI0MjBkODI1NDUyNTQwZGFjNTc1OCA9IEwuQXdlc29tZU1hcmtlcnMuaWNvbigKICAgICAgICAgICAgICAgIHsiZXh0cmFDbGFzc2VzIjogImZhLXJvdGF0ZS0wIiwgImljb24iOiAiaW5mby1zaWduIiwgImljb25Db2xvciI6ICJ3aGl0ZSIsICJtYXJrZXJDb2xvciI6ICJibHVlIiwgInByZWZpeCI6ICJnbHlwaGljb24ifQogICAgICAgICAgICApOwogICAgICAgICAgICBtYXJrZXJfOGQxYzJlMzliODY1NDI1YmEyMTAzZTJiODZjNWQyNjcuc2V0SWNvbihpY29uXzAwY2FlNzVhZTJmYjQyMGQ4MjU0NTI1NDBkYWM1NzU4KTsKICAgICAgICAKICAgIAogICAgICAgIHZhciBwb3B1cF82NGZmMzZlMjVkYjU0MWZmOWQyNjhmNTc5N2IxZTFhNSA9IEwucG9wdXAoeyJtYXhXaWR0aCI6ICIxMDAlIn0pOwoKICAgICAgICAKICAgICAgICAgICAgdmFyIGh0bWxfYTk3MDQyNTMwYzA0NDJkMjgyZTcwZDc1Yjk2YmRjOTMgPSAkKGA8ZGl2IGlkPSJodG1sX2E5NzA0MjUzMGMwNDQyZDI4MmU3MGQ3NWI5NmJkYzkzIiBzdHlsZT0id2lkdGg6IDEwMC4wJTsgaGVpZ2h0OiAxMDAuMCU7Ij5BaXJwb3J0PC9kaXY+YClbMF07CiAgICAgICAgICAgIHBvcHVwXzY0ZmYzNmUyNWRiNTQxZmY5ZDI2OGY1Nzk3YjFlMWE1LnNldENvbnRlbnQoaHRtbF9hOTcwNDI1MzBjMDQ0MmQyODJlNzBkNzViOTZiZGM5Myk7CiAgICAgICAgCgogICAgICAgIG1hcmtlcl84ZDFjMmUzOWI4NjU0MjViYTIxMDNlMmI4NmM1ZDI2Ny5iaW5kUG9wdXAocG9wdXBfNjRmZjM2ZTI1ZGI1NDFmZjlkMjY4ZjU3OTdiMWUxYTUpCiAgICAgICAgOwoKICAgICAgICAKICAgIAogICAgCiAgICAgICAgICAgIHZhciBtYXJrZXJfM2UxM2M3NWY0YzZhNDE5MzkxYTg3OTU4ODQxNjMwODAgPSBMLm1hcmtlcigKICAgICAgICAgICAgICAgIFsyNS4yNSwgNTUuMzMzMzMwMDAwMDAwMDA0XSwKICAgICAgICAgICAgICAgIHt9CiAgICAgICAgICAgICkuYWRkVG8obWFwX2ZkZmNhZGQzYWFmYzQwM2Q5ZGEwZjA3MjM1NDE3MzIzKTsKICAgICAgICAKICAgIAogICAgICAgICAgICB2YXIgaWNvbl84NDJkYTg0MmQyNWY0MmU4OTFlYzcyYmFlNDcyNWViNiA9IEwuQXdlc29tZU1hcmtlcnMuaWNvbigKICAgICAgICAgICAgICAgIHsiZXh0cmFDbGFzc2VzIjogImZhLXJvdGF0ZS0wIiwgImljb24iOiAiaW5mby1zaWduIiwgImljb25Db2xvciI6ICJ3aGl0ZSIsICJtYXJrZXJDb2xvciI6ICJibHVlIiwgInByZWZpeCI6ICJnbHlwaGljb24ifQogICAgICAgICAgICApOwogICAgICAgICAgICBtYXJrZXJfM2UxM2M3NWY0YzZhNDE5MzkxYTg3OTU4ODQxNjMwODAuc2V0SWNvbihpY29uXzg0MmRhODQyZDI1ZjQyZTg5MWVjNzJiYWU0NzI1ZWI2KTsKICAgICAgICAKICAgIAogICAgICAgIHZhciBwb3B1cF82ZWNiYmVlMWE2YzI0NTAxYmQyNDU3ZThiZTNkYTc2NyA9IEwucG9wdXAoeyJtYXhXaWR0aCI6ICIxMDAlIn0pOwoKICAgICAgICAKICAgICAgICAgICAgdmFyIGh0bWxfMzU0OGM2MWU3NGRkNGJiOGEwNTNjZTdhMjAxNGRhZDcgPSAkKGA8ZGl2IGlkPSJodG1sXzM1NDhjNjFlNzRkZDRiYjhhMDUzY2U3YTIwMTRkYWQ3IiBzdHlsZT0id2lkdGg6IDEwMC4wJTsgaGVpZ2h0OiAxMDAuMCU7Ij5BaXJwb3J0PC9kaXY+YClbMF07CiAgICAgICAgICAgIHBvcHVwXzZlY2JiZWUxYTZjMjQ1MDFiZDI0NTdlOGJlM2RhNzY3LnNldENvbnRlbnQoaHRtbF8zNTQ4YzYxZTc0ZGQ0YmI4YTA1M2NlN2EyMDE0ZGFkNyk7CiAgICAgICAgCgogICAgICAgIG1hcmtlcl8zZTEzYzc1ZjRjNmE0MTkzOTFhODc5NTg4NDE2MzA4MC5iaW5kUG9wdXAocG9wdXBfNmVjYmJlZTFhNmMyNDUwMWJkMjQ1N2U4YmUzZGE3NjcpCiAgICAgICAgOwoKICAgICAgICAKICAgIAogICAgCiAgICAgICAgICAgIHZhciBtYXJrZXJfZWJlNmUyZmIyZDM0NGJkYzg0ZjAyZGMyMGU4MGQ5ZGMgPSBMLm1hcmtlcigKICAgICAgICAgICAgICAgIFszNC40MjcyMiwgMTM1LjI0MzldLAogICAgICAgICAgICAgICAge30KICAgICAgICAgICAgKS5hZGRUbyhtYXBfZmRmY2FkZDNhYWZjNDAzZDlkYTBmMDcyMzU0MTczMjMpOwogICAgICAgIAogICAgCiAgICAgICAgICAgIHZhciBpY29uXzYwOTdlZmI3MjY1ZDRiNWI5YTBmZTNlODJlZDNhNWQxID0gTC5Bd2Vzb21lTWFya2Vycy5pY29uKAogICAgICAgICAgICAgICAgeyJleHRyYUNsYXNzZXMiOiAiZmEtcm90YXRlLTAiLCAiaWNvbiI6ICJpbmZvLXNpZ24iLCAiaWNvbkNvbG9yIjogIndoaXRlIiwgIm1hcmtlckNvbG9yIjogImJsdWUiLCAicHJlZml4IjogImdseXBoaWNvbiJ9CiAgICAgICAgICAgICk7CiAgICAgICAgICAgIG1hcmtlcl9lYmU2ZTJmYjJkMzQ0YmRjODRmMDJkYzIwZTgwZDlkYy5zZXRJY29uKGljb25fNjA5N2VmYjcyNjVkNGI1YjlhMGZlM2U4MmVkM2E1ZDEpOwogICAgICAgIAogICAgCiAgICAgICAgdmFyIHBvcHVwXzE4ZThhZTQwYTYxZDQxZmZiYTNiYzY4OGExZWI4NmFhID0gTC5wb3B1cCh7Im1heFdpZHRoIjogIjEwMCUifSk7CgogICAgICAgIAogICAgICAgICAgICB2YXIgaHRtbF9lODU5NGE1NjkyMjY0OTA2OTNmMTcyN2I5OTlkZmI4NiA9ICQoYDxkaXYgaWQ9Imh0bWxfZTg1OTRhNTY5MjI2NDkwNjkzZjE3MjdiOTk5ZGZiODYiIHN0eWxlPSJ3aWR0aDogMTAwLjAlOyBoZWlnaHQ6IDEwMC4wJTsiPkFpcnBvcnQ8L2Rpdj5gKVswXTsKICAgICAgICAgICAgcG9wdXBfMThlOGFlNDBhNjFkNDFmZmJhM2JjNjg4YTFlYjg2YWEuc2V0Q29udGVudChodG1sX2U4NTk0YTU2OTIyNjQ5MDY5M2YxNzI3Yjk5OWRmYjg2KTsKICAgICAgICAKCiAgICAgICAgbWFya2VyX2ViZTZlMmZiMmQzNDRiZGM4NGYwMmRjMjBlODBkOWRjLmJpbmRQb3B1cChwb3B1cF8xOGU4YWU0MGE2MWQ0MWZmYmEzYmM2ODhhMWViODZhYSkKICAgICAgICA7CgogICAgICAgIAogICAgCiAgICAKICAgICAgICAgICAgdmFyIG1hcmtlcl81NGEyOTE5OWUwOTM0NTg1ODJhZjA3ODdkYWEwM2Q5MSA9IEwubWFya2VyKAogICAgICAgICAgICAgICAgWzQwLjYzMzMzLCAtNzMuNzgzMzNdLAogICAgICAgICAgICAgICAge30KICAgICAgICAgICAgKS5hZGRUbyhtYXBfZmRmY2FkZDNhYWZjNDAzZDlkYTBmMDcyMzU0MTczMjMpOwogICAgICAgIAogICAgCiAgICAgICAgICAgIHZhciBpY29uX2MxZTJlNWE0ZTg5ZDQ3YjNiNTgyNjMxMTRlMGViODNmID0gTC5Bd2Vzb21lTWFya2Vycy5pY29uKAogICAgICAgICAgICAgICAgeyJleHRyYUNsYXNzZXMiOiAiZmEtcm90YXRlLTAiLCAiaWNvbiI6ICJpbmZvLXNpZ24iLCAiaWNvbkNvbG9yIjogIndoaXRlIiwgIm1hcmtlckNvbG9yIjogImJsdWUiLCAicHJlZml4IjogImdseXBoaWNvbiJ9CiAgICAgICAgICAgICk7CiAgICAgICAgICAgIG1hcmtlcl81NGEyOTE5OWUwOTM0NTg1ODJhZjA3ODdkYWEwM2Q5MS5zZXRJY29uKGljb25fYzFlMmU1YTRlODlkNDdiM2I1ODI2MzExNGUwZWI4M2YpOwogICAgICAgIAogICAgCiAgICAgICAgdmFyIHBvcHVwXzAxZDgxM2Y4MWI4MTRmYWM4NWExYjk0YTI5NDNkNGUxID0gTC5wb3B1cCh7Im1heFdpZHRoIjogIjEwMCUifSk7CgogICAgICAgIAogICAgICAgICAgICB2YXIgaHRtbF82MTBiNjY3ODViYjQ0N2QwOTQ4NWI5YWViMDU0MjhlNSA9ICQoYDxkaXYgaWQ9Imh0bWxfNjEwYjY2Nzg1YmI0NDdkMDk0ODViOWFlYjA1NDI4ZTUiIHN0eWxlPSJ3aWR0aDogMTAwLjAlOyBoZWlnaHQ6IDEwMC4wJTsiPkFpcnBvcnQ8L2Rpdj5gKVswXTsKICAgICAgICAgICAgcG9wdXBfMDFkODEzZjgxYjgxNGZhYzg1YTFiOTRhMjk0M2Q0ZTEuc2V0Q29udGVudChodG1sXzYxMGI2Njc4NWJiNDQ3ZDA5NDg1YjlhZWIwNTQyOGU1KTsKICAgICAgICAKCiAgICAgICAgbWFya2VyXzU0YTI5MTk5ZTA5MzQ1ODU4MmFmMDc4N2RhYTAzZDkxLmJpbmRQb3B1cChwb3B1cF8wMWQ4MTNmODFiODE0ZmFjODVhMWI5NGEyOTQzZDRlMSkKICAgICAgICA7CgogICAgICAgIAogICAgCiAgICAKICAgICAgICAgICAgdmFyIG1hcmtlcl9mYzcwYjcyNzc3MDQ0NGM1YjlkMGRiYjcxNjA3YzNlNyA9IEwubWFya2VyKAogICAgICAgICAgICAgICAgWzQ2LjAxNjY3LCAxMjYuNTgzM10sCiAgICAgICAgICAgICAgICB7fQogICAgICAgICAgICApLmFkZFRvKG1hcF9mZGZjYWRkM2FhZmM0MDNkOWRhMGYwNzIzNTQxNzMyMyk7CiAgICAgICAgCiAgICAKICAgICAgICAgICAgdmFyIGljb25fYjgzNGM2ZGZhOTQzNDU2MDg1MDdhMWY4YWZkZWYwYzUgPSBMLkF3ZXNvbWVNYXJrZXJzLmljb24oCiAgICAgICAgICAgICAgICB7ImV4dHJhQ2xhc3NlcyI6ICJmYS1yb3RhdGUtMCIsICJpY29uIjogImluZm8tc2lnbiIsICJpY29uQ29sb3IiOiAid2hpdGUiLCAibWFya2VyQ29sb3IiOiAiYmx1ZSIsICJwcmVmaXgiOiAiZ2x5cGhpY29uIn0KICAgICAgICAgICAgKTsKICAgICAgICAgICAgbWFya2VyX2ZjNzBiNzI3NzcwNDQ0YzViOWQwZGJiNzE2MDdjM2U3LnNldEljb24oaWNvbl9iODM0YzZkZmE5NDM0NTYwODUwN2ExZjhhZmRlZjBjNSk7CiAgICAgICAgCiAgICAKICAgICAgICB2YXIgcG9wdXBfMGU1YzY0NDdmNTI3NGQ4M2FhY2U0Mjc4NjMzODYwZTcgPSBMLnBvcHVwKHsibWF4V2lkdGgiOiAiMTAwJSJ9KTsKCiAgICAgICAgCiAgICAgICAgICAgIHZhciBodG1sXzllODQ5NDE5YmQzOTRjYzA4M2VkYjQ2NWQ3MjNiZGU0ID0gJChgPGRpdiBpZD0iaHRtbF85ZTg0OTQxOWJkMzk0Y2MwODNlZGI0NjVkNzIzYmRlNCIgc3R5bGU9IndpZHRoOiAxMDAuMCU7IGhlaWdodDogMTAwLjAlOyI+QWlycG9ydDwvZGl2PmApWzBdOwogICAgICAgICAgICBwb3B1cF8wZTVjNjQ0N2Y1Mjc0ZDgzYWFjZTQyNzg2MzM4NjBlNy5zZXRDb250ZW50KGh0bWxfOWU4NDk0MTliZDM5NGNjMDgzZWRiNDY1ZDcyM2JkZTQpOwogICAgICAgIAoKICAgICAgICBtYXJrZXJfZmM3MGI3Mjc3NzA0NDRjNWI5ZDBkYmI3MTYwN2MzZTcuYmluZFBvcHVwKHBvcHVwXzBlNWM2NDQ3ZjUyNzRkODNhYWNlNDI3ODYzMzg2MGU3KQogICAgICAgIDsKCiAgICAgICAgCiAgICAKICAgIAogICAgICAgICAgICB2YXIgbWFya2VyXzZmNTRiNmRiNTRmMjRiMDE4NDE2NzQ5ZTAxNzU1OWFjID0gTC5tYXJrZXIoCiAgICAgICAgICAgICAgICBbNDAuNzY2NjcsIC03My44NjY2N10sCiAgICAgICAgICAgICAgICB7fQogICAgICAgICAgICApLmFkZFRvKG1hcF9mZGZjYWRkM2FhZmM0MDNkOWRhMGYwNzIzNTQxNzMyMyk7CiAgICAgICAgCiAgICAKICAgICAgICAgICAgdmFyIGljb25fYTBlYmE0ZGE0Y2I3NDIwNjk0MTdjNGNiYjk4ZTliNmEgPSBMLkF3ZXNvbWVNYXJrZXJzLmljb24oCiAgICAgICAgICAgICAgICB7ImV4dHJhQ2xhc3NlcyI6ICJmYS1yb3RhdGUtMCIsICJpY29uIjogImluZm8tc2lnbiIsICJpY29uQ29sb3IiOiAid2hpdGUiLCAibWFya2VyQ29sb3IiOiAiYmx1ZSIsICJwcmVmaXgiOiAiZ2x5cGhpY29uIn0KICAgICAgICAgICAgKTsKICAgICAgICAgICAgbWFya2VyXzZmNTRiNmRiNTRmMjRiMDE4NDE2NzQ5ZTAxNzU1OWFjLnNldEljb24oaWNvbl9hMGViYTRkYTRjYjc0MjA2OTQxN2M0Y2JiOThlOWI2YSk7CiAgICAgICAgCiAgICAKICAgICAgICB2YXIgcG9wdXBfZDVhZGNhOGM4MGY4NDU2NTkyYmNjOGFjMDBkNzUwMWEgPSBMLnBvcHVwKHsibWF4V2lkdGgiOiAiMTAwJSJ9KTsKCiAgICAgICAgCiAgICAgICAgICAgIHZhciBodG1sX2EzMjRmYWIzY2MzMTQ2ODc4NWIxMTAzMTY3MzFhMDAyID0gJChgPGRpdiBpZD0iaHRtbF9hMzI0ZmFiM2NjMzE0Njg3ODViMTEwMzE2NzMxYTAwMiIgc3R5bGU9IndpZHRoOiAxMDAuMCU7IGhlaWdodDogMTAwLjAlOyI+QWlycG9ydDwvZGl2PmApWzBdOwogICAgICAgICAgICBwb3B1cF9kNWFkY2E4YzgwZjg0NTY1OTJiY2M4YWMwMGQ3NTAxYS5zZXRDb250ZW50KGh0bWxfYTMyNGZhYjNjYzMxNDY4Nzg1YjExMDMxNjczMWEwMDIpOwogICAgICAgIAoKICAgICAgICBtYXJrZXJfNmY1NGI2ZGI1NGYyNGIwMTg0MTY3NDllMDE3NTU5YWMuYmluZFBvcHVwKHBvcHVwX2Q1YWRjYThjODBmODQ1NjU5MmJjYzhhYzAwZDc1MDFhKQogICAgICAgIDsKCiAgICAgICAgCiAgICAKICAgIAogICAgICAgICAgICB2YXIgbWFya2VyXzlmMTBiMDgwNDIyZTQ4MjlhNjhlZDY2ZGU0MjM1YzBiID0gTC5tYXJrZXIoCiAgICAgICAgICAgICAgICBbLTMxLjk0MDI3OTk5OTk5OTk5OCwgMTE1Ljk2NjldLAogICAgICAgICAgICAgICAge30KICAgICAgICAgICAgKS5hZGRUbyhtYXBfZmRmY2FkZDNhYWZjNDAzZDlkYTBmMDcyMzU0MTczMjMpOwogICAgICAgIAogICAgCiAgICAgICAgICAgIHZhciBpY29uXzIxMDdhZjE2ZDEzZjQ4MDc4YTZmNTBlNjdiODU0NWRhID0gTC5Bd2Vzb21lTWFya2Vycy5pY29uKAogICAgICAgICAgICAgICAgeyJleHRyYUNsYXNzZXMiOiAiZmEtcm90YXRlLTAiLCAiaWNvbiI6ICJpbmZvLXNpZ24iLCAiaWNvbkNvbG9yIjogIndoaXRlIiwgIm1hcmtlckNvbG9yIjogImJsdWUiLCAicHJlZml4IjogImdseXBoaWNvbiJ9CiAgICAgICAgICAgICk7CiAgICAgICAgICAgIG1hcmtlcl85ZjEwYjA4MDQyMmU0ODI5YTY4ZWQ2NmRlNDIzNWMwYi5zZXRJY29uKGljb25fMjEwN2FmMTZkMTNmNDgwNzhhNmY1MGU2N2I4NTQ1ZGEpOwogICAgICAgIAogICAgCiAgICAgICAgdmFyIHBvcHVwXzg1ZGVjZTc1MmNmMTQ4Y2U4MmQ1ZGFhYmM1Y2JlODgzID0gTC5wb3B1cCh7Im1heFdpZHRoIjogIjEwMCUifSk7CgogICAgICAgIAogICAgICAgICAgICB2YXIgaHRtbF8wNjE1ZGRjMzgzNTY0ZDc0YjI4ZDViOTg5ZmZhNTMyZCA9ICQoYDxkaXYgaWQ9Imh0bWxfMDYxNWRkYzM4MzU2NGQ3NGIyOGQ1Yjk4OWZmYTUzMmQiIHN0eWxlPSJ3aWR0aDogMTAwLjAlOyBoZWlnaHQ6IDEwMC4wJTsiPkFpcnBvcnQ8L2Rpdj5gKVswXTsKICAgICAgICAgICAgcG9wdXBfODVkZWNlNzUyY2YxNDhjZTgyZDVkYWFiYzVjYmU4ODMuc2V0Q29udGVudChodG1sXzA2MTVkZGMzODM1NjRkNzRiMjhkNWI5ODlmZmE1MzJkKTsKICAgICAgICAKCiAgICAgICAgbWFya2VyXzlmMTBiMDgwNDIyZTQ4MjlhNjhlZDY2ZGU0MjM1YzBiLmJpbmRQb3B1cChwb3B1cF84NWRlY2U3NTJjZjE0OGNlODJkNWRhYWJjNWNiZTg4MykKICAgICAgICA7CgogICAgICAgIAogICAgCiAgICAKICAgICAgICAgICAgdmFyIG1hcmtlcl8yYTc1NzM1MWZhNDA0ZWM4YTQzZjg1MjUwOTMyNzZjMyA9IEwubWFya2VyKAogICAgICAgICAgICAgICAgWzMwLjE5NDQ0MDAwMDAwMDAwNCwgLTk3LjY3XSwKICAgICAgICAgICAgICAgIHt9CiAgICAgICAgICAgICkuYWRkVG8obWFwX2ZkZmNhZGQzYWFmYzQwM2Q5ZGEwZjA3MjM1NDE3MzIzKTsKICAgICAgICAKICAgIAogICAgICAgICAgICB2YXIgaWNvbl9jNmYwNGQ3ZTMxNTA0MzJlOWQ1YjM3N2MzZTY0MjY5MiA9IEwuQXdlc29tZU1hcmtlcnMuaWNvbigKICAgICAgICAgICAgICAgIHsiZXh0cmFDbGFzc2VzIjogImZhLXJvdGF0ZS0wIiwgImljb24iOiAiaW5mby1zaWduIiwgImljb25Db2xvciI6ICJ3aGl0ZSIsICJtYXJrZXJDb2xvciI6ICJibHVlIiwgInByZWZpeCI6ICJnbHlwaGljb24ifQogICAgICAgICAgICApOwogICAgICAgICAgICBtYXJrZXJfMmE3NTczNTFmYTQwNGVjOGE0M2Y4NTI1MDkzMjc2YzMuc2V0SWNvbihpY29uX2M2ZjA0ZDdlMzE1MDQzMmU5ZDViMzc3YzNlNjQyNjkyKTsKICAgICAgICAKICAgIAogICAgICAgIHZhciBwb3B1cF81ZTNiNjA2YzBmNjM0MTM3Yjk1YWM0ZjUzMWVhMWZiZCA9IEwucG9wdXAoeyJtYXhXaWR0aCI6ICIxMDAlIn0pOwoKICAgICAgICAKICAgICAgICAgICAgdmFyIGh0bWxfMzUxZWQzNzAwNDMxNGJlYjljMzk1MWM2MmE2MDg4OTYgPSAkKGA8ZGl2IGlkPSJodG1sXzM1MWVkMzcwMDQzMTRiZWI5YzM5NTFjNjJhNjA4ODk2IiBzdHlsZT0id2lkdGg6IDEwMC4wJTsgaGVpZ2h0OiAxMDAuMCU7Ij5BaXJwb3J0PC9kaXY+YClbMF07CiAgICAgICAgICAgIHBvcHVwXzVlM2I2MDZjMGY2MzQxMzdiOTVhYzRmNTMxZWExZmJkLnNldENvbnRlbnQoaHRtbF8zNTFlZDM3MDA0MzE0YmViOWMzOTUxYzYyYTYwODg5Nik7CiAgICAgICAgCgogICAgICAgIG1hcmtlcl8yYTc1NzM1MWZhNDA0ZWM4YTQzZjg1MjUwOTMyNzZjMy5iaW5kUG9wdXAocG9wdXBfNWUzYjYwNmMwZjYzNDEzN2I5NWFjNGY1MzFlYTFmYmQpCiAgICAgICAgOwoKICAgICAgICAKICAgIAogICAgCiAgICAgICAgICAgIHZhciBtYXJrZXJfMDYwOTk5NDJiNTFiNDZiYmI4NzY3OTg0MTE3MzUxYTAgPSBMLm1hcmtlcigKICAgICAgICAgICAgICAgIFszOC4xNzU4MywgMTMuMDkxMTFdLAogICAgICAgICAgICAgICAge30KICAgICAgICAgICAgKS5hZGRUbyhtYXBfZmRmY2FkZDNhYWZjNDAzZDlkYTBmMDcyMzU0MTczMjMpOwogICAgICAgIAogICAgCiAgICAgICAgICAgIHZhciBpY29uXzNkNzY4Yzk0NTNkNTQ2MWRiMTc1M2QyOTdjMTViNWEwID0gTC5Bd2Vzb21lTWFya2Vycy5pY29uKAogICAgICAgICAgICAgICAgeyJleHRyYUNsYXNzZXMiOiAiZmEtcm90YXRlLTAiLCAiaWNvbiI6ICJpbmZvLXNpZ24iLCAiaWNvbkNvbG9yIjogIndoaXRlIiwgIm1hcmtlckNvbG9yIjogImJsdWUiLCAicHJlZml4IjogImdseXBoaWNvbiJ9CiAgICAgICAgICAgICk7CiAgICAgICAgICAgIG1hcmtlcl8wNjA5OTk0MmI1MWI0NmJiYjg3Njc5ODQxMTczNTFhMC5zZXRJY29uKGljb25fM2Q3NjhjOTQ1M2Q1NDYxZGIxNzUzZDI5N2MxNWI1YTApOwogICAgICAgIAogICAgCiAgICAgICAgdmFyIHBvcHVwX2E5YTQ2NTE2MDJiNDQ1ZmI4YjZjYzBmMzA4NzQ0Nzk2ID0gTC5wb3B1cCh7Im1heFdpZHRoIjogIjEwMCUifSk7CgogICAgICAgIAogICAgICAgICAgICB2YXIgaHRtbF8xNGIyZjY0NjU0MWU0OGU3OWYxNTFhMzdhMjM2NjRiMiA9ICQoYDxkaXYgaWQ9Imh0bWxfMTRiMmY2NDY1NDFlNDhlNzlmMTUxYTM3YTIzNjY0YjIiIHN0eWxlPSJ3aWR0aDogMTAwLjAlOyBoZWlnaHQ6IDEwMC4wJTsiPkFpcnBvcnQ8L2Rpdj5gKVswXTsKICAgICAgICAgICAgcG9wdXBfYTlhNDY1MTYwMmI0NDVmYjhiNmNjMGYzMDg3NDQ3OTYuc2V0Q29udGVudChodG1sXzE0YjJmNjQ2NTQxZTQ4ZTc5ZjE1MWEzN2EyMzY2NGIyKTsKICAgICAgICAKCiAgICAgICAgbWFya2VyXzA2MDk5OTQyYjUxYjQ2YmJiODc2Nzk4NDExNzM1MWEwLmJpbmRQb3B1cChwb3B1cF9hOWE0NjUxNjAyYjQ0NWZiOGI2Y2MwZjMwODc0NDc5NikKICAgICAgICA7CgogICAgICAgIAogICAgCiAgICAKICAgICAgICAgICAgdmFyIG1hcmtlcl9mOGI5M2FmMGYyYTI0Nzk3OThiNzJlMTI3YWU4ZGMyMSA9IEwubWFya2VyKAogICAgICAgICAgICAgICAgWzMyLjg5Njk0LCAtOTcuMDM4MDZdLAogICAgICAgICAgICAgICAge30KICAgICAgICAgICAgKS5hZGRUbyhtYXBfZmRmY2FkZDNhYWZjNDAzZDlkYTBmMDcyMzU0MTczMjMpOwogICAgICAgIAogICAgCiAgICAgICAgICAgIHZhciBpY29uXzg1ODE5ZGFjMTY4YTQ5ODQ5MGUwYjhjM2Q2YzM0ZDgyID0gTC5Bd2Vzb21lTWFya2Vycy5pY29uKAogICAgICAgICAgICAgICAgeyJleHRyYUNsYXNzZXMiOiAiZmEtcm90YXRlLTAiLCAiaWNvbiI6ICJpbmZvLXNpZ24iLCAiaWNvbkNvbG9yIjogIndoaXRlIiwgIm1hcmtlckNvbG9yIjogImJsdWUiLCAicHJlZml4IjogImdseXBoaWNvbiJ9CiAgICAgICAgICAgICk7CiAgICAgICAgICAgIG1hcmtlcl9mOGI5M2FmMGYyYTI0Nzk3OThiNzJlMTI3YWU4ZGMyMS5zZXRJY29uKGljb25fODU4MTlkYWMxNjhhNDk4NDkwZTBiOGMzZDZjMzRkODIpOwogICAgICAgIAogICAgCiAgICAgICAgdmFyIHBvcHVwXzJkMTlkNGM1OGMxNTRlMjFhYzkzM2QxZjBkMDNlNzUyID0gTC5wb3B1cCh7Im1heFdpZHRoIjogIjEwMCUifSk7CgogICAgICAgIAogICAgICAgICAgICB2YXIgaHRtbF80ODQ3MzYxOTU1MTA0MzU3OWQwNWQ0M2U4OWYzODI2YyA9ICQoYDxkaXYgaWQ9Imh0bWxfNDg0NzM2MTk1NTEwNDM1NzlkMDVkNDNlODlmMzgyNmMiIHN0eWxlPSJ3aWR0aDogMTAwLjAlOyBoZWlnaHQ6IDEwMC4wJTsiPkFpcnBvcnQ8L2Rpdj5gKVswXTsKICAgICAgICAgICAgcG9wdXBfMmQxOWQ0YzU4YzE1NGUyMWFjOTMzZDFmMGQwM2U3NTIuc2V0Q29udGVudChodG1sXzQ4NDczNjE5NTUxMDQzNTc5ZDA1ZDQzZTg5ZjM4MjZjKTsKICAgICAgICAKCiAgICAgICAgbWFya2VyX2Y4YjkzYWYwZjJhMjQ3OTc5OGI3MmUxMjdhZThkYzIxLmJpbmRQb3B1cChwb3B1cF8yZDE5ZDRjNThjMTU0ZTIxYWM5MzNkMWYwZDAzZTc1MikKICAgICAgICA7CgogICAgICAgIAogICAgCiAgICAKICAgICAgICAgICAgdmFyIG1hcmtlcl9iNzAwOWNjMjczNDE0MzQwOWRhMTkzYmJjNTUyNTMwMSA9IEwubWFya2VyKAogICAgICAgICAgICAgICAgWzMwLjU3ODYwOTk5OTk5OTk5OCwgMTAzLjk0NzJdLAogICAgICAgICAgICAgICAge30KICAgICAgICAgICAgKS5hZGRUbyhtYXBfZmRmY2FkZDNhYWZjNDAzZDlkYTBmMDcyMzU0MTczMjMpOwogICAgICAgIAogICAgCiAgICAgICAgICAgIHZhciBpY29uXzc5MzU5ZDU3NTRjNTRlYzZiN2VkYjMyYmYwM2MwZTQ1ID0gTC5Bd2Vzb21lTWFya2Vycy5pY29uKAogICAgICAgICAgICAgICAgeyJleHRyYUNsYXNzZXMiOiAiZmEtcm90YXRlLTAiLCAiaWNvbiI6ICJpbmZvLXNpZ24iLCAiaWNvbkNvbG9yIjogIndoaXRlIiwgIm1hcmtlckNvbG9yIjogImJsdWUiLCAicHJlZml4IjogImdseXBoaWNvbiJ9CiAgICAgICAgICAgICk7CiAgICAgICAgICAgIG1hcmtlcl9iNzAwOWNjMjczNDE0MzQwOWRhMTkzYmJjNTUyNTMwMS5zZXRJY29uKGljb25fNzkzNTlkNTc1NGM1NGVjNmI3ZWRiMzJiZjAzYzBlNDUpOwogICAgICAgIAogICAgCiAgICAgICAgdmFyIHBvcHVwXzBjMTU5YjA4OGFhMzQxYzNhNjA5YjZmZTdjMzFkZjI4ID0gTC5wb3B1cCh7Im1heFdpZHRoIjogIjEwMCUifSk7CgogICAgICAgIAogICAgICAgICAgICB2YXIgaHRtbF80MjkyYzM3MWZhNDM0ZjllYjUyOTA1OWUwMmE0YjM0ZCA9ICQoYDxkaXYgaWQ9Imh0bWxfNDI5MmMzNzFmYTQzNGY5ZWI1MjkwNTllMDJhNGIzNGQiIHN0eWxlPSJ3aWR0aDogMTAwLjAlOyBoZWlnaHQ6IDEwMC4wJTsiPkFpcnBvcnQ8L2Rpdj5gKVswXTsKICAgICAgICAgICAgcG9wdXBfMGMxNTliMDg4YWEzNDFjM2E2MDliNmZlN2MzMWRmMjguc2V0Q29udGVudChodG1sXzQyOTJjMzcxZmE0MzRmOWViNTI5MDU5ZTAyYTRiMzRkKTsKICAgICAgICAKCiAgICAgICAgbWFya2VyX2I3MDA5Y2MyNzM0MTQzNDA5ZGExOTNiYmM1NTI1MzAxLmJpbmRQb3B1cChwb3B1cF8wYzE1OWIwODhhYTM0MWMzYTYwOWI2ZmU3YzMxZGYyOCkKICAgICAgICA7CgogICAgICAgIAogICAgCiAgICAKICAgICAgICAgICAgdmFyIG1hcmtlcl9iZDcyY2JiZGRlMjU0ZjI5YjM4MGViNmU0MmQ3MDlkNSA9IEwubWFya2VyKAogICAgICAgICAgICAgICAgWzcuMSwgLTczLjE1XSwKICAgICAgICAgICAgICAgIHt9CiAgICAgICAgICAgICkuYWRkVG8obWFwX2ZkZmNhZGQzYWFmYzQwM2Q5ZGEwZjA3MjM1NDE3MzIzKTsKICAgICAgICAKICAgIAogICAgICAgICAgICB2YXIgaWNvbl9mN2YzOWYwNGEyOTA0ZDUzOTliMDliYWViNjg0MmNmMCA9IEwuQXdlc29tZU1hcmtlcnMuaWNvbigKICAgICAgICAgICAgICAgIHsiZXh0cmFDbGFzc2VzIjogImZhLXJvdGF0ZS0wIiwgImljb24iOiAiaW5mby1zaWduIiwgImljb25Db2xvciI6ICJ3aGl0ZSIsICJtYXJrZXJDb2xvciI6ICJibHVlIiwgInByZWZpeCI6ICJnbHlwaGljb24ifQogICAgICAgICAgICApOwogICAgICAgICAgICBtYXJrZXJfYmQ3MmNiYmRkZTI1NGYyOWIzODBlYjZlNDJkNzA5ZDUuc2V0SWNvbihpY29uX2Y3ZjM5ZjA0YTI5MDRkNTM5OWIwOWJhZWI2ODQyY2YwKTsKICAgICAgICAKICAgIAogICAgICAgIHZhciBwb3B1cF8yMzUzZjk5ZTEyNGY0M2FlYTBlNmIzYjk0OWIxNmIzMiA9IEwucG9wdXAoeyJtYXhXaWR0aCI6ICIxMDAlIn0pOwoKICAgICAgICAKICAgICAgICAgICAgdmFyIGh0bWxfYzkzNDU0MjE0YmFiNDhlMzhkMGM2OGMwZDhiODMyNDEgPSAkKGA8ZGl2IGlkPSJodG1sX2M5MzQ1NDIxNGJhYjQ4ZTM4ZDBjNjhjMGQ4YjgzMjQxIiBzdHlsZT0id2lkdGg6IDEwMC4wJTsgaGVpZ2h0OiAxMDAuMCU7Ij5BaXJwb3J0PC9kaXY+YClbMF07CiAgICAgICAgICAgIHBvcHVwXzIzNTNmOTllMTI0ZjQzYWVhMGU2YjNiOTQ5YjE2YjMyLnNldENvbnRlbnQoaHRtbF9jOTM0NTQyMTRiYWI0OGUzOGQwYzY4YzBkOGI4MzI0MSk7CiAgICAgICAgCgogICAgICAgIG1hcmtlcl9iZDcyY2JiZGRlMjU0ZjI5YjM4MGViNmU0MmQ3MDlkNS5iaW5kUG9wdXAocG9wdXBfMjM1M2Y5OWUxMjRmNDNhZWEwZTZiM2I5NDliMTZiMzIpCiAgICAgICAgOwoKICAgICAgICAKICAgIAogICAgCiAgICAgICAgICAgIHZhciBtYXJrZXJfMDRmZTNlNzg5NjhmNDQyYzlkZmEwZmUwNjFhMmM2YjEgPSBMLm1hcmtlcigKICAgICAgICAgICAgICAgIFstMjIuNDgzMzMsIC02OC45MTY2Nl0sCiAgICAgICAgICAgICAgICB7fQogICAgICAgICAgICApLmFkZFRvKG1hcF9mZGZjYWRkM2FhZmM0MDNkOWRhMGYwNzIzNTQxNzMyMyk7CiAgICAgICAgCiAgICAKICAgICAgICAgICAgdmFyIGljb25fMDRlNzdkOTg4MDdhNDY2ZTg2ZGI1MGQ3ZmY2OGE5ODMgPSBMLkF3ZXNvbWVNYXJrZXJzLmljb24oCiAgICAgICAgICAgICAgICB7ImV4dHJhQ2xhc3NlcyI6ICJmYS1yb3RhdGUtMCIsICJpY29uIjogImluZm8tc2lnbiIsICJpY29uQ29sb3IiOiAid2hpdGUiLCAibWFya2VyQ29sb3IiOiAiYmx1ZSIsICJwcmVmaXgiOiAiZ2x5cGhpY29uIn0KICAgICAgICAgICAgKTsKICAgICAgICAgICAgbWFya2VyXzA0ZmUzZTc4OTY4ZjQ0MmM5ZGZhMGZlMDYxYTJjNmIxLnNldEljb24oaWNvbl8wNGU3N2Q5ODgwN2E0NjZlODZkYjUwZDdmZjY4YTk4Myk7CiAgICAgICAgCiAgICAKICAgICAgICB2YXIgcG9wdXBfZTQwZWViOTc2NWI5NDYxOTg0MGFkZmVhZGVkM2Q2NGUgPSBMLnBvcHVwKHsibWF4V2lkdGgiOiAiMTAwJSJ9KTsKCiAgICAgICAgCiAgICAgICAgICAgIHZhciBodG1sXzZlY2Q1NWVlNzRmMjRmYmE5MzQ4NWZmNjVkNDM5MjVjID0gJChgPGRpdiBpZD0iaHRtbF82ZWNkNTVlZTc0ZjI0ZmJhOTM0ODVmZjY1ZDQzOTI1YyIgc3R5bGU9IndpZHRoOiAxMDAuMCU7IGhlaWdodDogMTAwLjAlOyI+QWlycG9ydDwvZGl2PmApWzBdOwogICAgICAgICAgICBwb3B1cF9lNDBlZWI5NzY1Yjk0NjE5ODQwYWRmZWFkZWQzZDY0ZS5zZXRDb250ZW50KGh0bWxfNmVjZDU1ZWU3NGYyNGZiYTkzNDg1ZmY2NWQ0MzkyNWMpOwogICAgICAgIAoKICAgICAgICBtYXJrZXJfMDRmZTNlNzg5NjhmNDQyYzlkZmEwZmUwNjFhMmM2YjEuYmluZFBvcHVwKHBvcHVwX2U0MGVlYjk3NjViOTQ2MTk4NDBhZGZlYWRlZDNkNjRlKQogICAgICAgIDsKCiAgICAgICAgCiAgICAKICAgIAogICAgICAgICAgICB2YXIgbWFya2VyX2U3ZTg0NDM0YWRhNzQ3NDI4YWVhOWNiN2E5YjY4YTQyID0gTC5tYXJrZXIoCiAgICAgICAgICAgICAgICBbLTguMTI1ODMzLCAtMzQuOTIzODldLAogICAgICAgICAgICAgICAge30KICAgICAgICAgICAgKS5hZGRUbyhtYXBfZmRmY2FkZDNhYWZjNDAzZDlkYTBmMDcyMzU0MTczMjMpOwogICAgICAgIAogICAgCiAgICAgICAgICAgIHZhciBpY29uXzQ3ZmVhZjM5OGZjZjQ5MDBiY2Y5NDA1OWNjNTVjMjc2ID0gTC5Bd2Vzb21lTWFya2Vycy5pY29uKAogICAgICAgICAgICAgICAgeyJleHRyYUNsYXNzZXMiOiAiZmEtcm90YXRlLTAiLCAiaWNvbiI6ICJpbmZvLXNpZ24iLCAiaWNvbkNvbG9yIjogIndoaXRlIiwgIm1hcmtlckNvbG9yIjogImJsdWUiLCAicHJlZml4IjogImdseXBoaWNvbiJ9CiAgICAgICAgICAgICk7CiAgICAgICAgICAgIG1hcmtlcl9lN2U4NDQzNGFkYTc0NzQyOGFlYTljYjdhOWI2OGE0Mi5zZXRJY29uKGljb25fNDdmZWFmMzk4ZmNmNDkwMGJjZjk0MDU5Y2M1NWMyNzYpOwogICAgICAgIAogICAgCiAgICAgICAgdmFyIHBvcHVwXzk3OTZmYzJkMWUzODQ1Y2Y4MTIyNmI3YmJhNGUzMmRmID0gTC5wb3B1cCh7Im1heFdpZHRoIjogIjEwMCUifSk7CgogICAgICAgIAogICAgICAgICAgICB2YXIgaHRtbF81MWJhMWZlOTVhYjA0MDYxODUwZDMxYmE1NWU3ZTIwMyA9ICQoYDxkaXYgaWQ9Imh0bWxfNTFiYTFmZTk1YWIwNDA2MTg1MGQzMWJhNTVlN2UyMDMiIHN0eWxlPSJ3aWR0aDogMTAwLjAlOyBoZWlnaHQ6IDEwMC4wJTsiPkFpcnBvcnQ8L2Rpdj5gKVswXTsKICAgICAgICAgICAgcG9wdXBfOTc5NmZjMmQxZTM4NDVjZjgxMjI2YjdiYmE0ZTMyZGYuc2V0Q29udGVudChodG1sXzUxYmExZmU5NWFiMDQwNjE4NTBkMzFiYTU1ZTdlMjAzKTsKICAgICAgICAKCiAgICAgICAgbWFya2VyX2U3ZTg0NDM0YWRhNzQ3NDI4YWVhOWNiN2E5YjY4YTQyLmJpbmRQb3B1cChwb3B1cF85Nzk2ZmMyZDFlMzg0NWNmODEyMjZiN2JiYTRlMzJkZikKICAgICAgICA7CgogICAgICAgIAogICAgCiAgICAKICAgICAgICAgICAgdmFyIG1hcmtlcl84NjhiOTYxODE4OTA0MTk0ODQ3NjJkZTI5MmI1MWM4NyA9IEwubWFya2VyKAogICAgICAgICAgICAgICAgWzE5LjQzNjM5LCAtOTkuMDcyMjJdLAogICAgICAgICAgICAgICAge30KICAgICAgICAgICAgKS5hZGRUbyhtYXBfZmRmY2FkZDNhYWZjNDAzZDlkYTBmMDcyMzU0MTczMjMpOwogICAgICAgIAogICAgCiAgICAgICAgICAgIHZhciBpY29uX2FjOWYyZTRiMjc0NjRhZjQ5NWViYmMxYWZhOTg4NDZkID0gTC5Bd2Vzb21lTWFya2Vycy5pY29uKAogICAgICAgICAgICAgICAgeyJleHRyYUNsYXNzZXMiOiAiZmEtcm90YXRlLTAiLCAiaWNvbiI6ICJpbmZvLXNpZ24iLCAiaWNvbkNvbG9yIjogIndoaXRlIiwgIm1hcmtlckNvbG9yIjogImJsdWUiLCAicHJlZml4IjogImdseXBoaWNvbiJ9CiAgICAgICAgICAgICk7CiAgICAgICAgICAgIG1hcmtlcl84NjhiOTYxODE4OTA0MTk0ODQ3NjJkZTI5MmI1MWM4Ny5zZXRJY29uKGljb25fYWM5ZjJlNGIyNzQ2NGFmNDk1ZWJiYzFhZmE5ODg0NmQpOwogICAgICAgIAogICAgCiAgICAgICAgdmFyIHBvcHVwXzU5Mjk5Zjg0ZmU0MDRkZjZiY2JkN2U4NGJlNzEzZmI4ID0gTC5wb3B1cCh7Im1heFdpZHRoIjogIjEwMCUifSk7CgogICAgICAgIAogICAgICAgICAgICB2YXIgaHRtbF8yNGI3Mjk2OTQyNjE0NWI3OTY3NTVhYWQ0YWMyYmZjZiA9ICQoYDxkaXYgaWQ9Imh0bWxfMjRiNzI5Njk0MjYxNDViNzk2NzU1YWFkNGFjMmJmY2YiIHN0eWxlPSJ3aWR0aDogMTAwLjAlOyBoZWlnaHQ6IDEwMC4wJTsiPkFpcnBvcnQ8L2Rpdj5gKVswXTsKICAgICAgICAgICAgcG9wdXBfNTkyOTlmODRmZTQwNGRmNmJjYmQ3ZTg0YmU3MTNmYjguc2V0Q29udGVudChodG1sXzI0YjcyOTY5NDI2MTQ1Yjc5Njc1NWFhZDRhYzJiZmNmKTsKICAgICAgICAKCiAgICAgICAgbWFya2VyXzg2OGI5NjE4MTg5MDQxOTQ4NDc2MmRlMjkyYjUxYzg3LmJpbmRQb3B1cChwb3B1cF81OTI5OWY4NGZlNDA0ZGY2YmNiZDdlODRiZTcxM2ZiOCkKICAgICAgICA7CgogICAgICAgIAogICAgCiAgICAKICAgICAgICAgICAgdmFyIG1hcmtlcl85ZjRkZmM5MjRhMGY0YjNjYjdiNjMzNjM0Mzk3ZmUyZSA9IEwubWFya2VyKAogICAgICAgICAgICAgICAgWzM1LjE3OTQ0LCAxMjguOTM4M10sCiAgICAgICAgICAgICAgICB7fQogICAgICAgICAgICApLmFkZFRvKG1hcF9mZGZjYWRkM2FhZmM0MDNkOWRhMGYwNzIzNTQxNzMyMyk7CiAgICAgICAgCiAgICAKICAgICAgICAgICAgdmFyIGljb25fZTA5Y2QzODZmNzgwNDdiZDlhY2E0NzRhYWJlZmZkY2MgPSBMLkF3ZXNvbWVNYXJrZXJzLmljb24oCiAgICAgICAgICAgICAgICB7ImV4dHJhQ2xhc3NlcyI6ICJmYS1yb3RhdGUtMCIsICJpY29uIjogImluZm8tc2lnbiIsICJpY29uQ29sb3IiOiAid2hpdGUiLCAibWFya2VyQ29sb3IiOiAiYmx1ZSIsICJwcmVmaXgiOiAiZ2x5cGhpY29uIn0KICAgICAgICAgICAgKTsKICAgICAgICAgICAgbWFya2VyXzlmNGRmYzkyNGEwZjRiM2NiN2I2MzM2MzQzOTdmZTJlLnNldEljb24oaWNvbl9lMDljZDM4NmY3ODA0N2JkOWFjYTQ3NGFhYmVmZmRjYyk7CiAgICAgICAgCiAgICAKICAgICAgICB2YXIgcG9wdXBfY2RhNTVjNTY2ZjFkNDYyOWJkZTE3YzllMDJkYzg5MjAgPSBMLnBvcHVwKHsibWF4V2lkdGgiOiAiMTAwJSJ9KTsKCiAgICAgICAgCiAgICAgICAgICAgIHZhciBodG1sX2EyYzlhYjMxOTllMTRlMzliYTU2OWM1MDA5MDAxMzNjID0gJChgPGRpdiBpZD0iaHRtbF9hMmM5YWIzMTk5ZTE0ZTM5YmE1NjljNTAwOTAwMTMzYyIgc3R5bGU9IndpZHRoOiAxMDAuMCU7IGhlaWdodDogMTAwLjAlOyI+QWlycG9ydDwvZGl2PmApWzBdOwogICAgICAgICAgICBwb3B1cF9jZGE1NWM1NjZmMWQ0NjI5YmRlMTdjOWUwMmRjODkyMC5zZXRDb250ZW50KGh0bWxfYTJjOWFiMzE5OWUxNGUzOWJhNTY5YzUwMDkwMDEzM2MpOwogICAgICAgIAoKICAgICAgICBtYXJrZXJfOWY0ZGZjOTI0YTBmNGIzY2I3YjYzMzYzNDM5N2ZlMmUuYmluZFBvcHVwKHBvcHVwX2NkYTU1YzU2NmYxZDQ2MjliZGUxN2M5ZTAyZGM4OTIwKQogICAgICAgIDsKCiAgICAgICAgCiAgICAKICAgIAogICAgICAgICAgICB2YXIgbWFya2VyXzJhZGU4NzJkOTM3MDRmZjU4OGEyZmZhNWEyNGUwZTE2ID0gTC5tYXJrZXIoCiAgICAgICAgICAgICAgICBbMjIuNTUsIDExMy45MTY3XSwKICAgICAgICAgICAgICAgIHt9CiAgICAgICAgICAgICkuYWRkVG8obWFwX2ZkZmNhZGQzYWFmYzQwM2Q5ZGEwZjA3MjM1NDE3MzIzKTsKICAgICAgICAKICAgIAogICAgICAgICAgICB2YXIgaWNvbl9iN2NhMDExNzZkM2I0ZTgzOWQwOTkxOTNkMzA4NmVmOSA9IEwuQXdlc29tZU1hcmtlcnMuaWNvbigKICAgICAgICAgICAgICAgIHsiZXh0cmFDbGFzc2VzIjogImZhLXJvdGF0ZS0wIiwgImljb24iOiAiaW5mby1zaWduIiwgImljb25Db2xvciI6ICJ3aGl0ZSIsICJtYXJrZXJDb2xvciI6ICJibHVlIiwgInByZWZpeCI6ICJnbHlwaGljb24ifQogICAgICAgICAgICApOwogICAgICAgICAgICBtYXJrZXJfMmFkZTg3MmQ5MzcwNGZmNTg4YTJmZmE1YTI0ZTBlMTYuc2V0SWNvbihpY29uX2I3Y2EwMTE3NmQzYjRlODM5ZDA5OTE5M2QzMDg2ZWY5KTsKICAgICAgICAKICAgIAogICAgICAgIHZhciBwb3B1cF9jMjFhZDcyMmQ5MmU0MGUzOWNmNDNjMzEyYjM5Yzc4MCA9IEwucG9wdXAoeyJtYXhXaWR0aCI6ICIxMDAlIn0pOwoKICAgICAgICAKICAgICAgICAgICAgdmFyIGh0bWxfZDVmZjk3ZDBlMWU5NDA0ZDgwM2Q4OThmNjM4MmE5NDggPSAkKGA8ZGl2IGlkPSJodG1sX2Q1ZmY5N2QwZTFlOTQwNGQ4MDNkODk4ZjYzODJhOTQ4IiBzdHlsZT0id2lkdGg6IDEwMC4wJTsgaGVpZ2h0OiAxMDAuMCU7Ij5BaXJwb3J0PC9kaXY+YClbMF07CiAgICAgICAgICAgIHBvcHVwX2MyMWFkNzIyZDkyZTQwZTM5Y2Y0M2MzMTJiMzljNzgwLnNldENvbnRlbnQoaHRtbF9kNWZmOTdkMGUxZTk0MDRkODAzZDg5OGY2MzgyYTk0OCk7CiAgICAgICAgCgogICAgICAgIG1hcmtlcl8yYWRlODcyZDkzNzA0ZmY1ODhhMmZmYTVhMjRlMGUxNi5iaW5kUG9wdXAocG9wdXBfYzIxYWQ3MjJkOTJlNDBlMzljZjQzYzMxMmIzOWM3ODApCiAgICAgICAgOwoKICAgICAgICAKICAgIAogICAgCiAgICAgICAgICAgIHZhciBtYXJrZXJfMzdlNjdiMTExZTJlNGUyNzhjYTNmMDJmZWU5ZjM1NDYgPSBMLm1hcmtlcigKICAgICAgICAgICAgICAgIFsyMi4zMDg4ODk5OTk5OTk5OTgsIDExMy45MTQ3XSwKICAgICAgICAgICAgICAgIHt9CiAgICAgICAgICAgICkuYWRkVG8obWFwX2ZkZmNhZGQzYWFmYzQwM2Q5ZGEwZjA3MjM1NDE3MzIzKTsKICAgICAgICAKICAgIAogICAgICAgICAgICB2YXIgaWNvbl9kYjA1NjI5MzQ3NWM0NjM5YTRiNTg5ZTFkMGM3NDFkOCA9IEwuQXdlc29tZU1hcmtlcnMuaWNvbigKICAgICAgICAgICAgICAgIHsiZXh0cmFDbGFzc2VzIjogImZhLXJvdGF0ZS0wIiwgImljb24iOiAiaW5mby1zaWduIiwgImljb25Db2xvciI6ICJ3aGl0ZSIsICJtYXJrZXJDb2xvciI6ICJibHVlIiwgInByZWZpeCI6ICJnbHlwaGljb24ifQogICAgICAgICAgICApOwogICAgICAgICAgICBtYXJrZXJfMzdlNjdiMTExZTJlNGUyNzhjYTNmMDJmZWU5ZjM1NDYuc2V0SWNvbihpY29uX2RiMDU2MjkzNDc1YzQ2MzlhNGI1ODllMWQwYzc0MWQ4KTsKICAgICAgICAKICAgIAogICAgICAgIHZhciBwb3B1cF85MTJlZTljZDk0YWU0OGI4YmNlYWMzYzQ3NzFiMzEyNSA9IEwucG9wdXAoeyJtYXhXaWR0aCI6ICIxMDAlIn0pOwoKICAgICAgICAKICAgICAgICAgICAgdmFyIGh0bWxfYzc2MjQ5NjM1YzNkNDU4ZThiZTJjYmRjMWVjMjUwNmYgPSAkKGA8ZGl2IGlkPSJodG1sX2M3NjI0OTYzNWMzZDQ1OGU4YmUyY2JkYzFlYzI1MDZmIiBzdHlsZT0id2lkdGg6IDEwMC4wJTsgaGVpZ2h0OiAxMDAuMCU7Ij5BaXJwb3J0PC9kaXY+YClbMF07CiAgICAgICAgICAgIHBvcHVwXzkxMmVlOWNkOTRhZTQ4YjhiY2VhYzNjNDc3MWIzMTI1LnNldENvbnRlbnQoaHRtbF9jNzYyNDk2MzVjM2Q0NThlOGJlMmNiZGMxZWMyNTA2Zik7CiAgICAgICAgCgogICAgICAgIG1hcmtlcl8zN2U2N2IxMTFlMmU0ZTI3OGNhM2YwMmZlZTlmMzU0Ni5iaW5kUG9wdXAocG9wdXBfOTEyZWU5Y2Q5NGFlNDhiOGJjZWFjM2M0NzcxYjMxMjUpCiAgICAgICAgOwoKICAgICAgICAKICAgIAogICAgCiAgICAgICAgICAgIHZhciBtYXJrZXJfOGJjMmFiYmE0NDkyNDhhNTlkMzNkYzUwOTI3YmEyZjAgPSBMLm1hcmtlcigKICAgICAgICAgICAgICAgIFstMC4wNSwgMTA5LjM4MzNdLAogICAgICAgICAgICAgICAge30KICAgICAgICAgICAgKS5hZGRUbyhtYXBfZmRmY2FkZDNhYWZjNDAzZDlkYTBmMDcyMzU0MTczMjMpOwogICAgICAgIAogICAgCiAgICAgICAgICAgIHZhciBpY29uX2NhZmM2MDNlNjRjMjRiMTU4MDJjNWFiNjhmMTQ4ZjYyID0gTC5Bd2Vzb21lTWFya2Vycy5pY29uKAogICAgICAgICAgICAgICAgeyJleHRyYUNsYXNzZXMiOiAiZmEtcm90YXRlLTAiLCAiaWNvbiI6ICJpbmZvLXNpZ24iLCAiaWNvbkNvbG9yIjogIndoaXRlIiwgIm1hcmtlckNvbG9yIjogImJsdWUiLCAicHJlZml4IjogImdseXBoaWNvbiJ9CiAgICAgICAgICAgICk7CiAgICAgICAgICAgIG1hcmtlcl84YmMyYWJiYTQ0OTI0OGE1OWQzM2RjNTA5MjdiYTJmMC5zZXRJY29uKGljb25fY2FmYzYwM2U2NGMyNGIxNTgwMmM1YWI2OGYxNDhmNjIpOwogICAgICAgIAogICAgCiAgICAgICAgdmFyIHBvcHVwXzg3MjFmZDg4Mjg1ODQ3ZmFhMTlhN2ZkYjY4Y2IzODNhID0gTC5wb3B1cCh7Im1heFdpZHRoIjogIjEwMCUifSk7CgogICAgICAgIAogICAgICAgICAgICB2YXIgaHRtbF8xMDJiNWMxZjE4MGE0YWRhODdiMGIxMDZhMjVmYmM2MCA9ICQoYDxkaXYgaWQ9Imh0bWxfMTAyYjVjMWYxODBhNGFkYTg3YjBiMTA2YTI1ZmJjNjAiIHN0eWxlPSJ3aWR0aDogMTAwLjAlOyBoZWlnaHQ6IDEwMC4wJTsiPkFpcnBvcnQ8L2Rpdj5gKVswXTsKICAgICAgICAgICAgcG9wdXBfODcyMWZkODgyODU4NDdmYWExOWE3ZmRiNjhjYjM4M2Euc2V0Q29udGVudChodG1sXzEwMmI1YzFmMTgwYTRhZGE4N2IwYjEwNmEyNWZiYzYwKTsKICAgICAgICAKCiAgICAgICAgbWFya2VyXzhiYzJhYmJhNDQ5MjQ4YTU5ZDMzZGM1MDkyN2JhMmYwLmJpbmRQb3B1cChwb3B1cF84NzIxZmQ4ODI4NTg0N2ZhYTE5YTdmZGI2OGNiMzgzYSkKICAgICAgICA7CgogICAgICAgIAogICAgCiAgICAKICAgICAgICAgICAgdmFyIG1hcmtlcl83YTZhMDc2MmU0M2Y0ZTdhYWI1MDE2YzNkOTVjYzdiMSA9IEwubWFya2VyKAogICAgICAgICAgICAgICAgWy0yOS45NywgMzAuOTUwNTZdLAogICAgICAgICAgICAgICAge30KICAgICAgICAgICAgKS5hZGRUbyhtYXBfZmRmY2FkZDNhYWZjNDAzZDlkYTBmMDcyMzU0MTczMjMpOwogICAgICAgIAogICAgCiAgICAgICAgICAgIHZhciBpY29uX2MyYzA2NzI1ODQ4YTRjZGRhY2M5NTE1MWRlZjMyZTU4ID0gTC5Bd2Vzb21lTWFya2Vycy5pY29uKAogICAgICAgICAgICAgICAgeyJleHRyYUNsYXNzZXMiOiAiZmEtcm90YXRlLTAiLCAiaWNvbiI6ICJpbmZvLXNpZ24iLCAiaWNvbkNvbG9yIjogIndoaXRlIiwgIm1hcmtlckNvbG9yIjogImJsdWUiLCAicHJlZml4IjogImdseXBoaWNvbiJ9CiAgICAgICAgICAgICk7CiAgICAgICAgICAgIG1hcmtlcl83YTZhMDc2MmU0M2Y0ZTdhYWI1MDE2YzNkOTVjYzdiMS5zZXRJY29uKGljb25fYzJjMDY3MjU4NDhhNGNkZGFjYzk1MTUxZGVmMzJlNTgpOwogICAgICAgIAogICAgCiAgICAgICAgdmFyIHBvcHVwXzMxMzgwYjIyNmEzYzQ4ZTA4ZGRhMjNlMjdiNzdkM2I0ID0gTC5wb3B1cCh7Im1heFdpZHRoIjogIjEwMCUifSk7CgogICAgICAgIAogICAgICAgICAgICB2YXIgaHRtbF8xOTE4NDI1NWMzZjc0OTgyOGQ5YzczYzEwNDI3MjllZCA9ICQoYDxkaXYgaWQ9Imh0bWxfMTkxODQyNTVjM2Y3NDk4MjhkOWM3M2MxMDQyNzI5ZWQiIHN0eWxlPSJ3aWR0aDogMTAwLjAlOyBoZWlnaHQ6IDEwMC4wJTsiPkFpcnBvcnQ8L2Rpdj5gKVswXTsKICAgICAgICAgICAgcG9wdXBfMzEzODBiMjI2YTNjNDhlMDhkZGEyM2UyN2I3N2QzYjQuc2V0Q29udGVudChodG1sXzE5MTg0MjU1YzNmNzQ5ODI4ZDljNzNjMTA0MjcyOWVkKTsKICAgICAgICAKCiAgICAgICAgbWFya2VyXzdhNmEwNzYyZTQzZjRlN2FhYjUwMTZjM2Q5NWNjN2IxLmJpbmRQb3B1cChwb3B1cF8zMTM4MGIyMjZhM2M0OGUwOGRkYTIzZTI3Yjc3ZDNiNCkKICAgICAgICA7CgogICAgICAgIAogICAgCiAgICAKICAgICAgICAgICAgdmFyIG1hcmtlcl9iOTZiMzlmOWMxODE0YWRhOTM3ZDc3ZjFjM2Q3ZDk4ZiA9IEwubWFya2VyKAogICAgICAgICAgICAgICAgWzI3LjkzMTk0LCAtMTUuMzg2NjddLAogICAgICAgICAgICAgICAge30KICAgICAgICAgICAgKS5hZGRUbyhtYXBfZmRmY2FkZDNhYWZjNDAzZDlkYTBmMDcyMzU0MTczMjMpOwogICAgICAgIAogICAgCiAgICAgICAgICAgIHZhciBpY29uXzM3MDg2MWYyMzE4MTRjZWI5NTA1ZjI4YjkzYmQ0OGFkID0gTC5Bd2Vzb21lTWFya2Vycy5pY29uKAogICAgICAgICAgICAgICAgeyJleHRyYUNsYXNzZXMiOiAiZmEtcm90YXRlLTAiLCAiaWNvbiI6ICJpbmZvLXNpZ24iLCAiaWNvbkNvbG9yIjogIndoaXRlIiwgIm1hcmtlckNvbG9yIjogImJsdWUiLCAicHJlZml4IjogImdseXBoaWNvbiJ9CiAgICAgICAgICAgICk7CiAgICAgICAgICAgIG1hcmtlcl9iOTZiMzlmOWMxODE0YWRhOTM3ZDc3ZjFjM2Q3ZDk4Zi5zZXRJY29uKGljb25fMzcwODYxZjIzMTgxNGNlYjk1MDVmMjhiOTNiZDQ4YWQpOwogICAgICAgIAogICAgCiAgICAgICAgdmFyIHBvcHVwXzM5Mjc0YmFhOWU1MDRiNDQ5YzhhZjIxYzUxNTg5NWMyID0gTC5wb3B1cCh7Im1heFdpZHRoIjogIjEwMCUifSk7CgogICAgICAgIAogICAgICAgICAgICB2YXIgaHRtbF9kYzk0ZTc4NDhlNmI0ZjU3YmYxYzI0NzNiZTZkMzM4MyA9ICQoYDxkaXYgaWQ9Imh0bWxfZGM5NGU3ODQ4ZTZiNGY1N2JmMWMyNDczYmU2ZDMzODMiIHN0eWxlPSJ3aWR0aDogMTAwLjAlOyBoZWlnaHQ6IDEwMC4wJTsiPkFpcnBvcnQ8L2Rpdj5gKVswXTsKICAgICAgICAgICAgcG9wdXBfMzkyNzRiYWE5ZTUwNGI0NDljOGFmMjFjNTE1ODk1YzIuc2V0Q29udGVudChodG1sX2RjOTRlNzg0OGU2YjRmNTdiZjFjMjQ3M2JlNmQzMzgzKTsKICAgICAgICAKCiAgICAgICAgbWFya2VyX2I5NmIzOWY5YzE4MTRhZGE5MzdkNzdmMWMzZDdkOThmLmJpbmRQb3B1cChwb3B1cF8zOTI3NGJhYTllNTA0YjQ0OWM4YWYyMWM1MTU4OTVjMikKICAgICAgICA7CgogICAgICAgIAogICAgCiAgICAKICAgICAgICAgICAgdmFyIG1hcmtlcl82YTU5NTQwMDllNDY0NmQ5OWRkMWQ5ZTNjYjhhNjZkNCA9IEwubWFya2VyKAogICAgICAgICAgICAgICAgWzQwLjk3Njk0LCAyOC44MjExMDk5OTk5OTk5OTddLAogICAgICAgICAgICAgICAge30KICAgICAgICAgICAgKS5hZGRUbyhtYXBfZmRmY2FkZDNhYWZjNDAzZDlkYTBmMDcyMzU0MTczMjMpOwogICAgICAgIAogICAgCiAgICAgICAgICAgIHZhciBpY29uXzZkNjkwMjQ3YzVjOTQ0NzliYWQwMmEzMzhjYzU2NWU0ID0gTC5Bd2Vzb21lTWFya2Vycy5pY29uKAogICAgICAgICAgICAgICAgeyJleHRyYUNsYXNzZXMiOiAiZmEtcm90YXRlLTAiLCAiaWNvbiI6ICJpbmZvLXNpZ24iLCAiaWNvbkNvbG9yIjogIndoaXRlIiwgIm1hcmtlckNvbG9yIjogImJsdWUiLCAicHJlZml4IjogImdseXBoaWNvbiJ9CiAgICAgICAgICAgICk7CiAgICAgICAgICAgIG1hcmtlcl82YTU5NTQwMDllNDY0NmQ5OWRkMWQ5ZTNjYjhhNjZkNC5zZXRJY29uKGljb25fNmQ2OTAyNDdjNWM5NDQ3OWJhZDAyYTMzOGNjNTY1ZTQpOwogICAgICAgIAogICAgCiAgICAgICAgdmFyIHBvcHVwX2FlZTcyYTBkNDYyYTRhNWZiZjk5ZjA5Y2Y4NWNiYWJiID0gTC5wb3B1cCh7Im1heFdpZHRoIjogIjEwMCUifSk7CgogICAgICAgIAogICAgICAgICAgICB2YXIgaHRtbF83YTdkNTNiNGZlOGI0OGRjODQ5NDIwNjA2MThmNzgwNCA9ICQoYDxkaXYgaWQ9Imh0bWxfN2E3ZDUzYjRmZThiNDhkYzg0OTQyMDYwNjE4Zjc4MDQiIHN0eWxlPSJ3aWR0aDogMTAwLjAlOyBoZWlnaHQ6IDEwMC4wJTsiPkFpcnBvcnQ8L2Rpdj5gKVswXTsKICAgICAgICAgICAgcG9wdXBfYWVlNzJhMGQ0NjJhNGE1ZmJmOTlmMDljZjg1Y2JhYmIuc2V0Q29udGVudChodG1sXzdhN2Q1M2I0ZmU4YjQ4ZGM4NDk0MjA2MDYxOGY3ODA0KTsKICAgICAgICAKCiAgICAgICAgbWFya2VyXzZhNTk1NDAwOWU0NjQ2ZDk5ZGQxZDllM2NiOGE2NmQ0LmJpbmRQb3B1cChwb3B1cF9hZWU3MmEwZDQ2MmE0YTVmYmY5OWYwOWNmODVjYmFiYikKICAgICAgICA7CgogICAgICAgIAogICAgCiAgICAKICAgICAgICAgICAgdmFyIG1hcmtlcl83NzM2MTFlY2UxY2I0MjYzODdlNDk3MTYwNTI3ZWE2YiA9IEwubWFya2VyKAogICAgICAgICAgICAgICAgWzU1LjYxODA2LCAxMi42NTU4M10sCiAgICAgICAgICAgICAgICB7fQogICAgICAgICAgICApLmFkZFRvKG1hcF9mZGZjYWRkM2FhZmM0MDNkOWRhMGYwNzIzNTQxNzMyMyk7CiAgICAgICAgCiAgICAKICAgICAgICAgICAgdmFyIGljb25fNTAwYjQ0MTcxZDg4NDExZjhlZGY0MmJiNGZhYzliNzAgPSBMLkF3ZXNvbWVNYXJrZXJzLmljb24oCiAgICAgICAgICAgICAgICB7ImV4dHJhQ2xhc3NlcyI6ICJmYS1yb3RhdGUtMCIsICJpY29uIjogImluZm8tc2lnbiIsICJpY29uQ29sb3IiOiAid2hpdGUiLCAibWFya2VyQ29sb3IiOiAiYmx1ZSIsICJwcmVmaXgiOiAiZ2x5cGhpY29uIn0KICAgICAgICAgICAgKTsKICAgICAgICAgICAgbWFya2VyXzc3MzYxMWVjZTFjYjQyNjM4N2U0OTcxNjA1MjdlYTZiLnNldEljb24oaWNvbl81MDBiNDQxNzFkODg0MTFmOGVkZjQyYmI0ZmFjOWI3MCk7CiAgICAgICAgCiAgICAKICAgICAgICB2YXIgcG9wdXBfMzZhZmJlY2ZlODcxNGM5NGEzNWM0ZmFhZmYwMTI4NTcgPSBMLnBvcHVwKHsibWF4V2lkdGgiOiAiMTAwJSJ9KTsKCiAgICAgICAgCiAgICAgICAgICAgIHZhciBodG1sX2ZjNDE0ZTcyMDZkNjRkZDlhZGFmYmQwYjkxMTc4YTMwID0gJChgPGRpdiBpZD0iaHRtbF9mYzQxNGU3MjA2ZDY0ZGQ5YWRhZmJkMGI5MTE3OGEzMCIgc3R5bGU9IndpZHRoOiAxMDAuMCU7IGhlaWdodDogMTAwLjAlOyI+QWlycG9ydDwvZGl2PmApWzBdOwogICAgICAgICAgICBwb3B1cF8zNmFmYmVjZmU4NzE0Yzk0YTM1YzRmYWFmZjAxMjg1Ny5zZXRDb250ZW50KGh0bWxfZmM0MTRlNzIwNmQ2NGRkOWFkYWZiZDBiOTExNzhhMzApOwogICAgICAgIAoKICAgICAgICBtYXJrZXJfNzczNjExZWNlMWNiNDI2Mzg3ZTQ5NzE2MDUyN2VhNmIuYmluZFBvcHVwKHBvcHVwXzM2YWZiZWNmZTg3MTRjOTRhMzVjNGZhYWZmMDEyODU3KQogICAgICAgIDsKCiAgICAgICAgCiAgICAKICAgIAogICAgICAgICAgICB2YXIgbWFya2VyX2ZkOWE0OTFlZWQxZDQ3MWM5YWE3MzM4NmIxMjkzMTJlID0gTC5tYXJrZXIoCiAgICAgICAgICAgICAgICBbNDIuOTUsIC04Ny45XSwKICAgICAgICAgICAgICAgIHt9CiAgICAgICAgICAgICkuYWRkVG8obWFwX2ZkZmNhZGQzYWFmYzQwM2Q5ZGEwZjA3MjM1NDE3MzIzKTsKICAgICAgICAKICAgIAogICAgICAgICAgICB2YXIgaWNvbl8wYmNkNWU2YjZjNDQ0MTUzYmZlYTI0Y2M2NDRlYzlhYiA9IEwuQXdlc29tZU1hcmtlcnMuaWNvbigKICAgICAgICAgICAgICAgIHsiZXh0cmFDbGFzc2VzIjogImZhLXJvdGF0ZS0wIiwgImljb24iOiAiaW5mby1zaWduIiwgImljb25Db2xvciI6ICJ3aGl0ZSIsICJtYXJrZXJDb2xvciI6ICJibHVlIiwgInByZWZpeCI6ICJnbHlwaGljb24ifQogICAgICAgICAgICApOwogICAgICAgICAgICBtYXJrZXJfZmQ5YTQ5MWVlZDFkNDcxYzlhYTczMzg2YjEyOTMxMmUuc2V0SWNvbihpY29uXzBiY2Q1ZTZiNmM0NDQxNTNiZmVhMjRjYzY0NGVjOWFiKTsKICAgICAgICAKICAgIAogICAgICAgIHZhciBwb3B1cF83ZGMyODIzYTMxMDQ0MDJlYTJiZWIxNDVmYWE4YmRjOCA9IEwucG9wdXAoeyJtYXhXaWR0aCI6ICIxMDAlIn0pOwoKICAgICAgICAKICAgICAgICAgICAgdmFyIGh0bWxfMjMzOWE3YzhlYWY5NGJjNmIzZTcxN2MzOTA3N2U1NTMgPSAkKGA8ZGl2IGlkPSJodG1sXzIzMzlhN2M4ZWFmOTRiYzZiM2U3MTdjMzkwNzdlNTUzIiBzdHlsZT0id2lkdGg6IDEwMC4wJTsgaGVpZ2h0OiAxMDAuMCU7Ij5BaXJwb3J0PC9kaXY+YClbMF07CiAgICAgICAgICAgIHBvcHVwXzdkYzI4MjNhMzEwNDQwMmVhMmJlYjE0NWZhYThiZGM4LnNldENvbnRlbnQoaHRtbF8yMzM5YTdjOGVhZjk0YmM2YjNlNzE3YzM5MDc3ZTU1Myk7CiAgICAgICAgCgogICAgICAgIG1hcmtlcl9mZDlhNDkxZWVkMWQ0NzFjOWFhNzMzODZiMTI5MzEyZS5iaW5kUG9wdXAocG9wdXBfN2RjMjgyM2EzMTA0NDAyZWEyYmViMTQ1ZmFhOGJkYzgpCiAgICAgICAgOwoKICAgICAgICAKICAgIAogICAgCiAgICAgICAgICAgIHZhciBtYXJrZXJfNGU5OGM2NWQ3NmRlNGEzMjlkOGJmM2IwZTZiNTljYjggPSBMLm1hcmtlcigKICAgICAgICAgICAgICAgIFszOS41NSwgMi43MzMzMzNdLAogICAgICAgICAgICAgICAge30KICAgICAgICAgICAgKS5hZGRUbyhtYXBfZmRmY2FkZDNhYWZjNDAzZDlkYTBmMDcyMzU0MTczMjMpOwogICAgICAgIAogICAgCiAgICAgICAgICAgIHZhciBpY29uXzhkZDZjYjM3OTM5NjRjNWU5MTMxNTgxYjdmZTMzYzUyID0gTC5Bd2Vzb21lTWFya2Vycy5pY29uKAogICAgICAgICAgICAgICAgeyJleHRyYUNsYXNzZXMiOiAiZmEtcm90YXRlLTAiLCAiaWNvbiI6ICJpbmZvLXNpZ24iLCAiaWNvbkNvbG9yIjogIndoaXRlIiwgIm1hcmtlckNvbG9yIjogImJsdWUiLCAicHJlZml4IjogImdseXBoaWNvbiJ9CiAgICAgICAgICAgICk7CiAgICAgICAgICAgIG1hcmtlcl80ZTk4YzY1ZDc2ZGU0YTMyOWQ4YmYzYjBlNmI1OWNiOC5zZXRJY29uKGljb25fOGRkNmNiMzc5Mzk2NGM1ZTkxMzE1ODFiN2ZlMzNjNTIpOwogICAgICAgIAogICAgCiAgICAgICAgdmFyIHBvcHVwX2UzMTQwMjZhZDhmMDRhYmE4Mzk0YTlhNzE3NTVmMzg4ID0gTC5wb3B1cCh7Im1heFdpZHRoIjogIjEwMCUifSk7CgogICAgICAgIAogICAgICAgICAgICB2YXIgaHRtbF8xMjBhZmQ0YjhhYjk0MGQ3YmU2MGVlYmYzNWY3NjBmZCA9ICQoYDxkaXYgaWQ9Imh0bWxfMTIwYWZkNGI4YWI5NDBkN2JlNjBlZWJmMzVmNzYwZmQiIHN0eWxlPSJ3aWR0aDogMTAwLjAlOyBoZWlnaHQ6IDEwMC4wJTsiPkFpcnBvcnQ8L2Rpdj5gKVswXTsKICAgICAgICAgICAgcG9wdXBfZTMxNDAyNmFkOGYwNGFiYTgzOTRhOWE3MTc1NWYzODguc2V0Q29udGVudChodG1sXzEyMGFmZDRiOGFiOTQwZDdiZTYwZWViZjM1Zjc2MGZkKTsKICAgICAgICAKCiAgICAgICAgbWFya2VyXzRlOThjNjVkNzZkZTRhMzI5ZDhiZjNiMGU2YjU5Y2I4LmJpbmRQb3B1cChwb3B1cF9lMzE0MDI2YWQ4ZjA0YWJhODM5NGE5YTcxNzU1ZjM4OCkKICAgICAgICA7CgogICAgICAgIAogICAgCiAgICAKICAgICAgICAgICAgdmFyIG1hcmtlcl9mMDU4OWYzZWYyMzI0ZTM0ODFiMzU5Y2M3ODlkZmZlNSA9IEwubWFya2VyKAogICAgICAgICAgICAgICAgWzE5LjA4ODYxLCA3Mi44NjgwNl0sCiAgICAgICAgICAgICAgICB7fQogICAgICAgICAgICApLmFkZFRvKG1hcF9mZGZjYWRkM2FhZmM0MDNkOWRhMGYwNzIzNTQxNzMyMyk7CiAgICAgICAgCiAgICAKICAgICAgICAgICAgdmFyIGljb25fNmIyMWIxM2E5OGYyNGNmZjhiZDBiZDAxNmYzNTQwNTUgPSBMLkF3ZXNvbWVNYXJrZXJzLmljb24oCiAgICAgICAgICAgICAgICB7ImV4dHJhQ2xhc3NlcyI6ICJmYS1yb3RhdGUtMCIsICJpY29uIjogImluZm8tc2lnbiIsICJpY29uQ29sb3IiOiAid2hpdGUiLCAibWFya2VyQ29sb3IiOiAiYmx1ZSIsICJwcmVmaXgiOiAiZ2x5cGhpY29uIn0KICAgICAgICAgICAgKTsKICAgICAgICAgICAgbWFya2VyX2YwNTg5ZjNlZjIzMjRlMzQ4MWIzNTljYzc4OWRmZmU1LnNldEljb24oaWNvbl82YjIxYjEzYTk4ZjI0Y2ZmOGJkMGJkMDE2ZjM1NDA1NSk7CiAgICAgICAgCiAgICAKICAgICAgICB2YXIgcG9wdXBfMDI5YmM4ZTk2MGU0NDIxMGJiYTg2YTBhMWU4NmRlODMgPSBMLnBvcHVwKHsibWF4V2lkdGgiOiAiMTAwJSJ9KTsKCiAgICAgICAgCiAgICAgICAgICAgIHZhciBodG1sX2JkNzZiNWZjOGNkYjQyNWY5NmU3MmYyODQwMTEyOGIzID0gJChgPGRpdiBpZD0iaHRtbF9iZDc2YjVmYzhjZGI0MjVmOTZlNzJmMjg0MDExMjhiMyIgc3R5bGU9IndpZHRoOiAxMDAuMCU7IGhlaWdodDogMTAwLjAlOyI+QWlycG9ydDwvZGl2PmApWzBdOwogICAgICAgICAgICBwb3B1cF8wMjliYzhlOTYwZTQ0MjEwYmJhODZhMGExZTg2ZGU4My5zZXRDb250ZW50KGh0bWxfYmQ3NmI1ZmM4Y2RiNDI1Zjk2ZTcyZjI4NDAxMTI4YjMpOwogICAgICAgIAoKICAgICAgICBtYXJrZXJfZjA1ODlmM2VmMjMyNGUzNDgxYjM1OWNjNzg5ZGZmZTUuYmluZFBvcHVwKHBvcHVwXzAyOWJjOGU5NjBlNDQyMTBiYmE4NmEwYTFlODZkZTgzKQogICAgICAgIDsKCiAgICAgICAgCiAgICAKICAgIAogICAgICAgICAgICB2YXIgbWFya2VyX2U4N2NkYzMxNzAyNzQxYjhiMmZmZjkxZmZlYWEyNmYzID0gTC5tYXJrZXIoCiAgICAgICAgICAgICAgICBbLTYuOTgzMzMzLCAxMTAuMzgzM10sCiAgICAgICAgICAgICAgICB7fQogICAgICAgICAgICApLmFkZFRvKG1hcF9mZGZjYWRkM2FhZmM0MDNkOWRhMGYwNzIzNTQxNzMyMyk7CiAgICAgICAgCiAgICAKICAgICAgICAgICAgdmFyIGljb25fMDU1MTY5YTA2NWZiNDEwY2I2NjAxZDZhNWQzNzRlOTQgPSBMLkF3ZXNvbWVNYXJrZXJzLmljb24oCiAgICAgICAgICAgICAgICB7ImV4dHJhQ2xhc3NlcyI6ICJmYS1yb3RhdGUtMCIsICJpY29uIjogImluZm8tc2lnbiIsICJpY29uQ29sb3IiOiAid2hpdGUiLCAibWFya2VyQ29sb3IiOiAiYmx1ZSIsICJwcmVmaXgiOiAiZ2x5cGhpY29uIn0KICAgICAgICAgICAgKTsKICAgICAgICAgICAgbWFya2VyX2U4N2NkYzMxNzAyNzQxYjhiMmZmZjkxZmZlYWEyNmYzLnNldEljb24oaWNvbl8wNTUxNjlhMDY1ZmI0MTBjYjY2MDFkNmE1ZDM3NGU5NCk7CiAgICAgICAgCiAgICAKICAgICAgICB2YXIgcG9wdXBfNDA1NmJmMTI1Y2RkNGUyMDliODgxZWFhMjc2YWVmMjkgPSBMLnBvcHVwKHsibWF4V2lkdGgiOiAiMTAwJSJ9KTsKCiAgICAgICAgCiAgICAgICAgICAgIHZhciBodG1sXzMzYWE1OTY5ZTM2NjQ1YjA5YzhkMWE4ZDA3ODlmYTY3ID0gJChgPGRpdiBpZD0iaHRtbF8zM2FhNTk2OWUzNjY0NWIwOWM4ZDFhOGQwNzg5ZmE2NyIgc3R5bGU9IndpZHRoOiAxMDAuMCU7IGhlaWdodDogMTAwLjAlOyI+QWlycG9ydDwvZGl2PmApWzBdOwogICAgICAgICAgICBwb3B1cF80MDU2YmYxMjVjZGQ0ZTIwOWI4ODFlYWEyNzZhZWYyOS5zZXRDb250ZW50KGh0bWxfMzNhYTU5NjllMzY2NDViMDljOGQxYThkMDc4OWZhNjcpOwogICAgICAgIAoKICAgICAgICBtYXJrZXJfZTg3Y2RjMzE3MDI3NDFiOGIyZmZmOTFmZmVhYTI2ZjMuYmluZFBvcHVwKHBvcHVwXzQwNTZiZjEyNWNkZDRlMjA5Yjg4MWVhYTI3NmFlZjI5KQogICAgICAgIDsKCiAgICAgICAgCiAgICAKICAgIAogICAgICAgICAgICB2YXIgbWFya2VyX2Y5ZDU5ZDhiMjlhYzRkOTJhMDhiM2MyNzhhZDg2OWE0ID0gTC5tYXJrZXIoCiAgICAgICAgICAgICAgICBbMTcuMzg2MzksIDEwMi43ODgzXSwKICAgICAgICAgICAgICAgIHt9CiAgICAgICAgICAgICkuYWRkVG8obWFwX2ZkZmNhZGQzYWFmYzQwM2Q5ZGEwZjA3MjM1NDE3MzIzKTsKICAgICAgICAKICAgIAogICAgICAgICAgICB2YXIgaWNvbl8xOWFlZTViYzc2N2I0N2U5YjFlZGNmN2ZmNzJjOWRmNSA9IEwuQXdlc29tZU1hcmtlcnMuaWNvbigKICAgICAgICAgICAgICAgIHsiZXh0cmFDbGFzc2VzIjogImZhLXJvdGF0ZS0wIiwgImljb24iOiAiaW5mby1zaWduIiwgImljb25Db2xvciI6ICJ3aGl0ZSIsICJtYXJrZXJDb2xvciI6ICJibHVlIiwgInByZWZpeCI6ICJnbHlwaGljb24ifQogICAgICAgICAgICApOwogICAgICAgICAgICBtYXJrZXJfZjlkNTlkOGIyOWFjNGQ5MmEwOGIzYzI3OGFkODY5YTQuc2V0SWNvbihpY29uXzE5YWVlNWJjNzY3YjQ3ZTliMWVkY2Y3ZmY3MmM5ZGY1KTsKICAgICAgICAKICAgIAogICAgICAgIHZhciBwb3B1cF82NDc3ZTI5ZGRhZGI0ZjUzYmFlM2VjZjI4YTc4Yjk2NiA9IEwucG9wdXAoeyJtYXhXaWR0aCI6ICIxMDAlIn0pOwoKICAgICAgICAKICAgICAgICAgICAgdmFyIGh0bWxfYjFlYTc4ZDJhNGY2NDk3MjkyMGU2MmE1NjhjODMxZGMgPSAkKGA8ZGl2IGlkPSJodG1sX2IxZWE3OGQyYTRmNjQ5NzI5MjBlNjJhNTY4YzgzMWRjIiBzdHlsZT0id2lkdGg6IDEwMC4wJTsgaGVpZ2h0OiAxMDAuMCU7Ij5BaXJwb3J0PC9kaXY+YClbMF07CiAgICAgICAgICAgIHBvcHVwXzY0NzdlMjlkZGFkYjRmNTNiYWUzZWNmMjhhNzhiOTY2LnNldENvbnRlbnQoaHRtbF9iMWVhNzhkMmE0ZjY0OTcyOTIwZTYyYTU2OGM4MzFkYyk7CiAgICAgICAgCgogICAgICAgIG1hcmtlcl9mOWQ1OWQ4YjI5YWM0ZDkyYTA4YjNjMjc4YWQ4NjlhNC5iaW5kUG9wdXAocG9wdXBfNjQ3N2UyOWRkYWRiNGY1M2JhZTNlY2YyOGE3OGI5NjYpCiAgICAgICAgOwoKICAgICAgICAKICAgIAogICAgCiAgICAgICAgICAgIHZhciBtYXJrZXJfNmY1OTRkYmUxMzY3NGQ4Nzk2NjAxMTc1ZjY1NGRiZTYgPSBMLm1hcmtlcigKICAgICAgICAgICAgICAgIFszOS44NzE5NCwgLTc1LjI0MTEwOTk5OTk5OTk5XSwKICAgICAgICAgICAgICAgIHt9CiAgICAgICAgICAgICkuYWRkVG8obWFwX2ZkZmNhZGQzYWFmYzQwM2Q5ZGEwZjA3MjM1NDE3MzIzKTsKICAgICAgICAKICAgIAogICAgICAgICAgICB2YXIgaWNvbl83MTU5NWZjMzcwOWI0YWIxOTBiY2E3ZWE3MTY3MTBjYiA9IEwuQXdlc29tZU1hcmtlcnMuaWNvbigKICAgICAgICAgICAgICAgIHsiZXh0cmFDbGFzc2VzIjogImZhLXJvdGF0ZS0wIiwgImljb24iOiAiaW5mby1zaWduIiwgImljb25Db2xvciI6ICJ3aGl0ZSIsICJtYXJrZXJDb2xvciI6ICJibHVlIiwgInByZWZpeCI6ICJnbHlwaGljb24ifQogICAgICAgICAgICApOwogICAgICAgICAgICBtYXJrZXJfNmY1OTRkYmUxMzY3NGQ4Nzk2NjAxMTc1ZjY1NGRiZTYuc2V0SWNvbihpY29uXzcxNTk1ZmMzNzA5YjRhYjE5MGJjYTdlYTcxNjcxMGNiKTsKICAgICAgICAKICAgIAogICAgICAgIHZhciBwb3B1cF9jNzI5MjhjZWQ4ZGU0MmZiODFiMDdmYjc3OTVmZmJhMiA9IEwucG9wdXAoeyJtYXhXaWR0aCI6ICIxMDAlIn0pOwoKICAgICAgICAKICAgICAgICAgICAgdmFyIGh0bWxfNTJhYjM5YzQxMmI0NGJiNWEyYmMwYWYxZmE4NzMyNGIgPSAkKGA8ZGl2IGlkPSJodG1sXzUyYWIzOWM0MTJiNDRiYjVhMmJjMGFmMWZhODczMjRiIiBzdHlsZT0id2lkdGg6IDEwMC4wJTsgaGVpZ2h0OiAxMDAuMCU7Ij5BaXJwb3J0PC9kaXY+YClbMF07CiAgICAgICAgICAgIHBvcHVwX2M3MjkyOGNlZDhkZTQyZmI4MWIwN2ZiNzc5NWZmYmEyLnNldENvbnRlbnQoaHRtbF81MmFiMzljNDEyYjQ0YmI1YTJiYzBhZjFmYTg3MzI0Yik7CiAgICAgICAgCgogICAgICAgIG1hcmtlcl82ZjU5NGRiZTEzNjc0ZDg3OTY2MDExNzVmNjU0ZGJlNi5iaW5kUG9wdXAocG9wdXBfYzcyOTI4Y2VkOGRlNDJmYjgxYjA3ZmI3Nzk1ZmZiYTIpCiAgICAgICAgOwoKICAgICAgICAKICAgIAogICAgCiAgICAgICAgICAgIHZhciBtYXJrZXJfYmE2ZGJiN2M3N2IyNDQyMGJmZmNmMDcyMDNmYzdlYWEgPSBMLm1hcmtlcigKICAgICAgICAgICAgICAgIFszMC40MTY2NywgLTgxLjYzMzMzXSwKICAgICAgICAgICAgICAgIHt9CiAgICAgICAgICAgICkuYWRkVG8obWFwX2ZkZmNhZGQzYWFmYzQwM2Q5ZGEwZjA3MjM1NDE3MzIzKTsKICAgICAgICAKICAgIAogICAgICAgICAgICB2YXIgaWNvbl9lNzI2ZWVkNmViOTU0MGEyYTQ4MTZjMGI4M2RjNDQ0ZiA9IEwuQXdlc29tZU1hcmtlcnMuaWNvbigKICAgICAgICAgICAgICAgIHsiZXh0cmFDbGFzc2VzIjogImZhLXJvdGF0ZS0wIiwgImljb24iOiAiaW5mby1zaWduIiwgImljb25Db2xvciI6ICJ3aGl0ZSIsICJtYXJrZXJDb2xvciI6ICJibHVlIiwgInByZWZpeCI6ICJnbHlwaGljb24ifQogICAgICAgICAgICApOwogICAgICAgICAgICBtYXJrZXJfYmE2ZGJiN2M3N2IyNDQyMGJmZmNmMDcyMDNmYzdlYWEuc2V0SWNvbihpY29uX2U3MjZlZWQ2ZWI5NTQwYTJhNDgxNmMwYjgzZGM0NDRmKTsKICAgICAgICAKICAgIAogICAgICAgIHZhciBwb3B1cF82NzI2ODFjYTkyNTY0NTFhODBkYjY0NTA4YjY5ZDUyYyA9IEwucG9wdXAoeyJtYXhXaWR0aCI6ICIxMDAlIn0pOwoKICAgICAgICAKICAgICAgICAgICAgdmFyIGh0bWxfOGEyNWM1MTMzMDY2NDVlZjhkNjhlY2Y4MzZlNzYyZGUgPSAkKGA8ZGl2IGlkPSJodG1sXzhhMjVjNTEzMzA2NjQ1ZWY4ZDY4ZWNmODM2ZTc2MmRlIiBzdHlsZT0id2lkdGg6IDEwMC4wJTsgaGVpZ2h0OiAxMDAuMCU7Ij5BaXJwb3J0PC9kaXY+YClbMF07CiAgICAgICAgICAgIHBvcHVwXzY3MjY4MWNhOTI1NjQ1MWE4MGRiNjQ1MDhiNjlkNTJjLnNldENvbnRlbnQoaHRtbF84YTI1YzUxMzMwNjY0NWVmOGQ2OGVjZjgzNmU3NjJkZSk7CiAgICAgICAgCgogICAgICAgIG1hcmtlcl9iYTZkYmI3Yzc3YjI0NDIwYmZmY2YwNzIwM2ZjN2VhYS5iaW5kUG9wdXAocG9wdXBfNjcyNjgxY2E5MjU2NDUxYTgwZGI2NDUwOGI2OWQ1MmMpCiAgICAgICAgOwoKICAgICAgICAKICAgIAogICAgCiAgICAgICAgICAgIHZhciBtYXJrZXJfNTI1MzE3OGQ2M2I3NDAwODljM2YzNDgyNDlhYmNmNGMgPSBMLm1hcmtlcigKICAgICAgICAgICAgICAgIFsyOS41MzMzMywgLTk4LjQ2NjY3XSwKICAgICAgICAgICAgICAgIHt9CiAgICAgICAgICAgICkuYWRkVG8obWFwX2ZkZmNhZGQzYWFmYzQwM2Q5ZGEwZjA3MjM1NDE3MzIzKTsKICAgICAgICAKICAgIAogICAgICAgICAgICB2YXIgaWNvbl9mN2I0MWU3ZDFlNmY0MzNkYTFmZjlmNjBhYmU3MTIwYiA9IEwuQXdlc29tZU1hcmtlcnMuaWNvbigKICAgICAgICAgICAgICAgIHsiZXh0cmFDbGFzc2VzIjogImZhLXJvdGF0ZS0wIiwgImljb24iOiAiaW5mby1zaWduIiwgImljb25Db2xvciI6ICJ3aGl0ZSIsICJtYXJrZXJDb2xvciI6ICJibHVlIiwgInByZWZpeCI6ICJnbHlwaGljb24ifQogICAgICAgICAgICApOwogICAgICAgICAgICBtYXJrZXJfNTI1MzE3OGQ2M2I3NDAwODljM2YzNDgyNDlhYmNmNGMuc2V0SWNvbihpY29uX2Y3YjQxZTdkMWU2ZjQzM2RhMWZmOWY2MGFiZTcxMjBiKTsKICAgICAgICAKICAgIAogICAgICAgIHZhciBwb3B1cF8wMWQ1N2M2NjNhOTQ0N2Q5ODQ1ODI4OGUzNDE2ZGFiYyA9IEwucG9wdXAoeyJtYXhXaWR0aCI6ICIxMDAlIn0pOwoKICAgICAgICAKICAgICAgICAgICAgdmFyIGh0bWxfMDBhZmY4MDRiMzhkNDE0OTg3ODAxNGI3ZjZkYzQ0ZjYgPSAkKGA8ZGl2IGlkPSJodG1sXzAwYWZmODA0YjM4ZDQxNDk4NzgwMTRiN2Y2ZGM0NGY2IiBzdHlsZT0id2lkdGg6IDEwMC4wJTsgaGVpZ2h0OiAxMDAuMCU7Ij5BaXJwb3J0PC9kaXY+YClbMF07CiAgICAgICAgICAgIHBvcHVwXzAxZDU3YzY2M2E5NDQ3ZDk4NDU4Mjg4ZTM0MTZkYWJjLnNldENvbnRlbnQoaHRtbF8wMGFmZjgwNGIzOGQ0MTQ5ODc4MDE0YjdmNmRjNDRmNik7CiAgICAgICAgCgogICAgICAgIG1hcmtlcl81MjUzMTc4ZDYzYjc0MDA4OWMzZjM0ODI0OWFiY2Y0Yy5iaW5kUG9wdXAocG9wdXBfMDFkNTdjNjYzYTk0NDdkOTg0NTgyODhlMzQxNmRhYmMpCiAgICAgICAgOwoKICAgICAgICAKICAgIAogICAgCiAgICAgICAgICAgIHZhciBtYXJrZXJfMTY1ZGVhZTExMzhjNGYyZTkxMzg1NmE0YjcxOTc3OGMgPSBMLm1hcmtlcigKICAgICAgICAgICAgICAgIFstMi45LCAxMDQuN10sCiAgICAgICAgICAgICAgICB7fQogICAgICAgICAgICApLmFkZFRvKG1hcF9mZGZjYWRkM2FhZmM0MDNkOWRhMGYwNzIzNTQxNzMyMyk7CiAgICAgICAgCiAgICAKICAgICAgICAgICAgdmFyIGljb25fNzRkMjFjMTNjMjI4NDZlNTkwNWQ1ZTZmMjY0ZTU3NzkgPSBMLkF3ZXNvbWVNYXJrZXJzLmljb24oCiAgICAgICAgICAgICAgICB7ImV4dHJhQ2xhc3NlcyI6ICJmYS1yb3RhdGUtMCIsICJpY29uIjogImluZm8tc2lnbiIsICJpY29uQ29sb3IiOiAid2hpdGUiLCAibWFya2VyQ29sb3IiOiAiYmx1ZSIsICJwcmVmaXgiOiAiZ2x5cGhpY29uIn0KICAgICAgICAgICAgKTsKICAgICAgICAgICAgbWFya2VyXzE2NWRlYWUxMTM4YzRmMmU5MTM4NTZhNGI3MTk3NzhjLnNldEljb24oaWNvbl83NGQyMWMxM2MyMjg0NmU1OTA1ZDVlNmYyNjRlNTc3OSk7CiAgICAgICAgCiAgICAKICAgICAgICB2YXIgcG9wdXBfMzI0NjgzYTYxNjhmNGZhNzkwOWUxMjBmNjQ1NDM5NmMgPSBMLnBvcHVwKHsibWF4V2lkdGgiOiAiMTAwJSJ9KTsKCiAgICAgICAgCiAgICAgICAgICAgIHZhciBodG1sX2ZhZWM1NDIzY2Q4NTRiOWI4ZjY4OTU4NjkyOGY1NDI3ID0gJChgPGRpdiBpZD0iaHRtbF9mYWVjNTQyM2NkODU0YjliOGY2ODk1ODY5MjhmNTQyNyIgc3R5bGU9IndpZHRoOiAxMDAuMCU7IGhlaWdodDogMTAwLjAlOyI+QWlycG9ydDwvZGl2PmApWzBdOwogICAgICAgICAgICBwb3B1cF8zMjQ2ODNhNjE2OGY0ZmE3OTA5ZTEyMGY2NDU0Mzk2Yy5zZXRDb250ZW50KGh0bWxfZmFlYzU0MjNjZDg1NGI5YjhmNjg5NTg2OTI4ZjU0MjcpOwogICAgICAgIAoKICAgICAgICBtYXJrZXJfMTY1ZGVhZTExMzhjNGYyZTkxMzg1NmE0YjcxOTc3OGMuYmluZFBvcHVwKHBvcHVwXzMyNDY4M2E2MTY4ZjRmYTc5MDllMTIwZjY0NTQzOTZjKQogICAgICAgIDsKCiAgICAgICAgCiAgICAKICAgIAogICAgICAgICAgICB2YXIgbWFya2VyXzljOWQxZmYwMDQ4MDQxMDY5OWQwYThhMTRlZTczMjQxID0gTC5tYXJrZXIoCiAgICAgICAgICAgICAgICBbNTEuMTEzODkwMDAwMDAwMDA1LCAtMTE0LjAyMDNdLAogICAgICAgICAgICAgICAge30KICAgICAgICAgICAgKS5hZGRUbyhtYXBfZmRmY2FkZDNhYWZjNDAzZDlkYTBmMDcyMzU0MTczMjMpOwogICAgICAgIAogICAgCiAgICAgICAgICAgIHZhciBpY29uXzhmZDg0YzFkZDNhMTQwOTM5YTFmZGJhYTk1MTU4YTE4ID0gTC5Bd2Vzb21lTWFya2Vycy5pY29uKAogICAgICAgICAgICAgICAgeyJleHRyYUNsYXNzZXMiOiAiZmEtcm90YXRlLTAiLCAiaWNvbiI6ICJpbmZvLXNpZ24iLCAiaWNvbkNvbG9yIjogIndoaXRlIiwgIm1hcmtlckNvbG9yIjogImJsdWUiLCAicHJlZml4IjogImdseXBoaWNvbiJ9CiAgICAgICAgICAgICk7CiAgICAgICAgICAgIG1hcmtlcl85YzlkMWZmMDA0ODA0MTA2OTlkMGE4YTE0ZWU3MzI0MS5zZXRJY29uKGljb25fOGZkODRjMWRkM2ExNDA5MzlhMWZkYmFhOTUxNThhMTgpOwogICAgICAgIAogICAgCiAgICAgICAgdmFyIHBvcHVwXzdiNjgxMjI2NWE2MTRiOGRiNjQ2YjNjZTUyYThlZjEwID0gTC5wb3B1cCh7Im1heFdpZHRoIjogIjEwMCUifSk7CgogICAgICAgIAogICAgICAgICAgICB2YXIgaHRtbF8wN2ExMmVmYWVmMWU0OTJmYjMzYWQ2YzAxMDMzZGZiOSA9ICQoYDxkaXYgaWQ9Imh0bWxfMDdhMTJlZmFlZjFlNDkyZmIzM2FkNmMwMTAzM2RmYjkiIHN0eWxlPSJ3aWR0aDogMTAwLjAlOyBoZWlnaHQ6IDEwMC4wJTsiPkFpcnBvcnQ8L2Rpdj5gKVswXTsKICAgICAgICAgICAgcG9wdXBfN2I2ODEyMjY1YTYxNGI4ZGI2NDZiM2NlNTJhOGVmMTAuc2V0Q29udGVudChodG1sXzA3YTEyZWZhZWYxZTQ5MmZiMzNhZDZjMDEwMzNkZmI5KTsKICAgICAgICAKCiAgICAgICAgbWFya2VyXzljOWQxZmYwMDQ4MDQxMDY5OWQwYThhMTRlZTczMjQxLmJpbmRQb3B1cChwb3B1cF83YjY4MTIyNjVhNjE0YjhkYjY0NmIzY2U1MmE4ZWYxMCkKICAgICAgICA7CgogICAgICAgIAogICAgCiAgICAKICAgICAgICAgICAgdmFyIG1hcmtlcl9lZDljODk0MjZjZTY0NDA3OTkwNDljYTMwNDUxMGFkOCA9IEwubWFya2VyKAogICAgICAgICAgICAgICAgWzIxLjMzMzMzLCAtMTU3LjkzMzNdLAogICAgICAgICAgICAgICAge30KICAgICAgICAgICAgKS5hZGRUbyhtYXBfZmRmY2FkZDNhYWZjNDAzZDlkYTBmMDcyMzU0MTczMjMpOwogICAgICAgIAogICAgCiAgICAgICAgICAgIHZhciBpY29uXzdiYTQzOWFkOTIyNDQ0Y2VhNmIzYzI3NTYwMDAwODA1ID0gTC5Bd2Vzb21lTWFya2Vycy5pY29uKAogICAgICAgICAgICAgICAgeyJleHRyYUNsYXNzZXMiOiAiZmEtcm90YXRlLTAiLCAiaWNvbiI6ICJpbmZvLXNpZ24iLCAiaWNvbkNvbG9yIjogIndoaXRlIiwgIm1hcmtlckNvbG9yIjogImJsdWUiLCAicHJlZml4IjogImdseXBoaWNvbiJ9CiAgICAgICAgICAgICk7CiAgICAgICAgICAgIG1hcmtlcl9lZDljODk0MjZjZTY0NDA3OTkwNDljYTMwNDUxMGFkOC5zZXRJY29uKGljb25fN2JhNDM5YWQ5MjI0NDRjZWE2YjNjMjc1NjAwMDA4MDUpOwogICAgICAgIAogICAgCiAgICAgICAgdmFyIHBvcHVwXzAyMGNhYThkMTViZjQ1NDBiMjc3MTVkYmYwMmRhODAzID0gTC5wb3B1cCh7Im1heFdpZHRoIjogIjEwMCUifSk7CgogICAgICAgIAogICAgICAgICAgICB2YXIgaHRtbF9mZDViZmMzNTIxNjA0YmU1OGNjYmM5MzVkMzNmZWFmMyA9ICQoYDxkaXYgaWQ9Imh0bWxfZmQ1YmZjMzUyMTYwNGJlNThjY2JjOTM1ZDMzZmVhZjMiIHN0eWxlPSJ3aWR0aDogMTAwLjAlOyBoZWlnaHQ6IDEwMC4wJTsiPkFpcnBvcnQ8L2Rpdj5gKVswXTsKICAgICAgICAgICAgcG9wdXBfMDIwY2FhOGQxNWJmNDU0MGIyNzcxNWRiZjAyZGE4MDMuc2V0Q29udGVudChodG1sX2ZkNWJmYzM1MjE2MDRiZTU4Y2NiYzkzNWQzM2ZlYWYzKTsKICAgICAgICAKCiAgICAgICAgbWFya2VyX2VkOWM4OTQyNmNlNjQ0MDc5OTA0OWNhMzA0NTEwYWQ4LmJpbmRQb3B1cChwb3B1cF8wMjBjYWE4ZDE1YmY0NTQwYjI3NzE1ZGJmMDJkYTgwMykKICAgICAgICA7CgogICAgICAgIAogICAgCiAgICAKICAgICAgICAgICAgdmFyIG1hcmtlcl8xZGRkMGI5OGM3MzQ0MmU3YTVkZTZiZDU1ZjM1YzhlMCA9IEwubWFya2VyKAogICAgICAgICAgICAgICAgWzM2LjA4MzMzLCAtMTE1LjE2NjddLAogICAgICAgICAgICAgICAge30KICAgICAgICAgICAgKS5hZGRUbyhtYXBfZmRmY2FkZDNhYWZjNDAzZDlkYTBmMDcyMzU0MTczMjMpOwogICAgICAgIAogICAgCiAgICAgICAgICAgIHZhciBpY29uX2UwNTU2ZTBjNDgxNTRkYmU5N2UwNmI2YmU0NmY4MDJmID0gTC5Bd2Vzb21lTWFya2Vycy5pY29uKAogICAgICAgICAgICAgICAgeyJleHRyYUNsYXNzZXMiOiAiZmEtcm90YXRlLTAiLCAiaWNvbiI6ICJpbmZvLXNpZ24iLCAiaWNvbkNvbG9yIjogIndoaXRlIiwgIm1hcmtlckNvbG9yIjogImJsdWUiLCAicHJlZml4IjogImdseXBoaWNvbiJ9CiAgICAgICAgICAgICk7CiAgICAgICAgICAgIG1hcmtlcl8xZGRkMGI5OGM3MzQ0MmU3YTVkZTZiZDU1ZjM1YzhlMC5zZXRJY29uKGljb25fZTA1NTZlMGM0ODE1NGRiZTk3ZTA2YjZiZTQ2ZjgwMmYpOwogICAgICAgIAogICAgCiAgICAgICAgdmFyIHBvcHVwXzdlZWY2MjgwMmI5YzRjZTI4MDM1OGJlOWZmODIzNzA0ID0gTC5wb3B1cCh7Im1heFdpZHRoIjogIjEwMCUifSk7CgogICAgICAgIAogICAgICAgICAgICB2YXIgaHRtbF9jZjhmZDcyYjhmZTE0YWEzOTZiNzM3OWQ1MTIxYTE1OSA9ICQoYDxkaXYgaWQ9Imh0bWxfY2Y4ZmQ3MmI4ZmUxNGFhMzk2YjczNzlkNTEyMWExNTkiIHN0eWxlPSJ3aWR0aDogMTAwLjAlOyBoZWlnaHQ6IDEwMC4wJTsiPkFpcnBvcnQ8L2Rpdj5gKVswXTsKICAgICAgICAgICAgcG9wdXBfN2VlZjYyODAyYjljNGNlMjgwMzU4YmU5ZmY4MjM3MDQuc2V0Q29udGVudChodG1sX2NmOGZkNzJiOGZlMTRhYTM5NmI3Mzc5ZDUxMjFhMTU5KTsKICAgICAgICAKCiAgICAgICAgbWFya2VyXzFkZGQwYjk4YzczNDQyZTdhNWRlNmJkNTVmMzVjOGUwLmJpbmRQb3B1cChwb3B1cF83ZWVmNjI4MDJiOWM0Y2UyODAzNThiZTlmZjgyMzcwNCkKICAgICAgICA7CgogICAgICAgIAogICAgCiAgICAKICAgICAgICAgICAgdmFyIG1hcmtlcl9hNDBmNTQ4ODUxN2Y0YzIyOGE3N2RlMWE1NWE3N2UyMiA9IEwubWFya2VyKAogICAgICAgICAgICAgICAgWzQ3LjYxOTcyLCAtMTE3LjUzMzldLAogICAgICAgICAgICAgICAge30KICAgICAgICAgICAgKS5hZGRUbyhtYXBfZmRmY2FkZDNhYWZjNDAzZDlkYTBmMDcyMzU0MTczMjMpOwogICAgICAgIAogICAgCiAgICAgICAgICAgIHZhciBpY29uX2MzYWQ0YWFmY2IwMTRkYTRiZTI4NGE4NmU2N2ZjN2M0ID0gTC5Bd2Vzb21lTWFya2Vycy5pY29uKAogICAgICAgICAgICAgICAgeyJleHRyYUNsYXNzZXMiOiAiZmEtcm90YXRlLTAiLCAiaWNvbiI6ICJpbmZvLXNpZ24iLCAiaWNvbkNvbG9yIjogIndoaXRlIiwgIm1hcmtlckNvbG9yIjogImJsdWUiLCAicHJlZml4IjogImdseXBoaWNvbiJ9CiAgICAgICAgICAgICk7CiAgICAgICAgICAgIG1hcmtlcl9hNDBmNTQ4ODUxN2Y0YzIyOGE3N2RlMWE1NWE3N2UyMi5zZXRJY29uKGljb25fYzNhZDRhYWZjYjAxNGRhNGJlMjg0YTg2ZTY3ZmM3YzQpOwogICAgICAgIAogICAgCiAgICAgICAgdmFyIHBvcHVwX2ZkZTQ4NmIwYWJiZDQxOTI4NmY2OWI3MGY2MWEzNWQyID0gTC5wb3B1cCh7Im1heFdpZHRoIjogIjEwMCUifSk7CgogICAgICAgIAogICAgICAgICAgICB2YXIgaHRtbF8wYzI3MWYzZDFhNDk0ZWU0ODhhY2I3ZTU0MWIxNWE2NSA9ICQoYDxkaXYgaWQ9Imh0bWxfMGMyNzFmM2QxYTQ5NGVlNDg4YWNiN2U1NDFiMTVhNjUiIHN0eWxlPSJ3aWR0aDogMTAwLjAlOyBoZWlnaHQ6IDEwMC4wJTsiPkFpcnBvcnQ8L2Rpdj5gKVswXTsKICAgICAgICAgICAgcG9wdXBfZmRlNDg2YjBhYmJkNDE5Mjg2ZjY5YjcwZjYxYTM1ZDIuc2V0Q29udGVudChodG1sXzBjMjcxZjNkMWE0OTRlZTQ4OGFjYjdlNTQxYjE1YTY1KTsKICAgICAgICAKCiAgICAgICAgbWFya2VyX2E0MGY1NDg4NTE3ZjRjMjI4YTc3ZGUxYTU1YTc3ZTIyLmJpbmRQb3B1cChwb3B1cF9mZGU0ODZiMGFiYmQ0MTkyODZmNjliNzBmNjFhMzVkMikKICAgICAgICA7CgogICAgICAgIAogICAgCiAgICAKICAgICAgICAgICAgdmFyIG1hcmtlcl9iNWQ4ZTEwZWZlMTA0YWUwOWM5ODQxODc4MTZjMDRlMSA9IEwubWFya2VyKAogICAgICAgICAgICAgICAgWy0zMy45NDYxMSwgMTUxLjE3NzJdLAogICAgICAgICAgICAgICAge30KICAgICAgICAgICAgKS5hZGRUbyhtYXBfZmRmY2FkZDNhYWZjNDAzZDlkYTBmMDcyMzU0MTczMjMpOwogICAgICAgIAogICAgCiAgICAgICAgICAgIHZhciBpY29uXzJjYzFiMWM5MWRjYTRkMjg5NTIyZThiN2EyZTJhYzQ2ID0gTC5Bd2Vzb21lTWFya2Vycy5pY29uKAogICAgICAgICAgICAgICAgeyJleHRyYUNsYXNzZXMiOiAiZmEtcm90YXRlLTAiLCAiaWNvbiI6ICJpbmZvLXNpZ24iLCAiaWNvbkNvbG9yIjogIndoaXRlIiwgIm1hcmtlckNvbG9yIjogImJsdWUiLCAicHJlZml4IjogImdseXBoaWNvbiJ9CiAgICAgICAgICAgICk7CiAgICAgICAgICAgIG1hcmtlcl9iNWQ4ZTEwZWZlMTA0YWUwOWM5ODQxODc4MTZjMDRlMS5zZXRJY29uKGljb25fMmNjMWIxYzkxZGNhNGQyODk1MjJlOGI3YTJlMmFjNDYpOwogICAgICAgIAogICAgCiAgICAgICAgdmFyIHBvcHVwXzlmZTk2ODcyYTg1NTRhNGU5MDNmZTUyYmE5ZmE1MmY2ID0gTC5wb3B1cCh7Im1heFdpZHRoIjogIjEwMCUifSk7CgogICAgICAgIAogICAgICAgICAgICB2YXIgaHRtbF8zYzdjMzE4NjA0YzM0YzFiODlmNDlhZDhiMjAwMTk5ZiA9ICQoYDxkaXYgaWQ9Imh0bWxfM2M3YzMxODYwNGMzNGMxYjg5ZjQ5YWQ4YjIwMDE5OWYiIHN0eWxlPSJ3aWR0aDogMTAwLjAlOyBoZWlnaHQ6IDEwMC4wJTsiPkFpcnBvcnQ8L2Rpdj5gKVswXTsKICAgICAgICAgICAgcG9wdXBfOWZlOTY4NzJhODU1NGE0ZTkwM2ZlNTJiYTlmYTUyZjYuc2V0Q29udGVudChodG1sXzNjN2MzMTg2MDRjMzRjMWI4OWY0OWFkOGIyMDAxOTlmKTsKICAgICAgICAKCiAgICAgICAgbWFya2VyX2I1ZDhlMTBlZmUxMDRhZTA5Yzk4NDE4NzgxNmMwNGUxLmJpbmRQb3B1cChwb3B1cF85ZmU5Njg3MmE4NTU0YTRlOTAzZmU1MmJhOWZhNTJmNikKICAgICAgICA7CgogICAgICAgIAogICAgCiAgICAKICAgICAgICAgICAgdmFyIG1hcmtlcl85MTM2NTI1NmNlZWQ0ZDczOTFlMGQ2NTQ0NDFjMjY4ZCA9IEwubWFya2VyKAogICAgICAgICAgICAgICAgWzQ5LjE5Mzg5LCAtMTIzLjE4MzNdLAogICAgICAgICAgICAgICAge30KICAgICAgICAgICAgKS5hZGRUbyhtYXBfZmRmY2FkZDNhYWZjNDAzZDlkYTBmMDcyMzU0MTczMjMpOwogICAgICAgIAogICAgCiAgICAgICAgICAgIHZhciBpY29uXzBjODI0NDlhYjljMjQ0NTY4MzRjOWIyYTQzYmIwZmViID0gTC5Bd2Vzb21lTWFya2Vycy5pY29uKAogICAgICAgICAgICAgICAgeyJleHRyYUNsYXNzZXMiOiAiZmEtcm90YXRlLTAiLCAiaWNvbiI6ICJpbmZvLXNpZ24iLCAiaWNvbkNvbG9yIjogIndoaXRlIiwgIm1hcmtlckNvbG9yIjogImJsdWUiLCAicHJlZml4IjogImdseXBoaWNvbiJ9CiAgICAgICAgICAgICk7CiAgICAgICAgICAgIG1hcmtlcl85MTM2NTI1NmNlZWQ0ZDczOTFlMGQ2NTQ0NDFjMjY4ZC5zZXRJY29uKGljb25fMGM4MjQ0OWFiOWMyNDQ1NjgzNGM5YjJhNDNiYjBmZWIpOwogICAgICAgIAogICAgCiAgICAgICAgdmFyIHBvcHVwXzU4NzgxNGM2YmY5ODRlZmI5MzJjZWQyYzRhNDIxZjA2ID0gTC5wb3B1cCh7Im1heFdpZHRoIjogIjEwMCUifSk7CgogICAgICAgIAogICAgICAgICAgICB2YXIgaHRtbF9kM2ZhNTlhYjY1ZGQ0YTJkYTNiYmI4NWE1ODg4Mjk2MCA9ICQoYDxkaXYgaWQ9Imh0bWxfZDNmYTU5YWI2NWRkNGEyZGEzYmJiODVhNTg4ODI5NjAiIHN0eWxlPSJ3aWR0aDogMTAwLjAlOyBoZWlnaHQ6IDEwMC4wJTsiPkFpcnBvcnQ8L2Rpdj5gKVswXTsKICAgICAgICAgICAgcG9wdXBfNTg3ODE0YzZiZjk4NGVmYjkzMmNlZDJjNGE0MjFmMDYuc2V0Q29udGVudChodG1sX2QzZmE1OWFiNjVkZDRhMmRhM2JiYjg1YTU4ODgyOTYwKTsKICAgICAgICAKCiAgICAgICAgbWFya2VyXzkxMzY1MjU2Y2VlZDRkNzM5MWUwZDY1NDQ0MWMyNjhkLmJpbmRQb3B1cChwb3B1cF81ODc4MTRjNmJmOTg0ZWZiOTMyY2VkMmM0YTQyMWYwNikKICAgICAgICA7CgogICAgICAgIAogICAgCiAgICAKICAgICAgICAgICAgdmFyIG1hcmtlcl9iNzIxMTMwMWFiZjE0ZmMzYmIxMDhlZWQ2YjEzYWNhYyA9IEwubWFya2VyKAogICAgICAgICAgICAgICAgWzQzLjYyNzUsIC03OS4zOTYxMV0sCiAgICAgICAgICAgICAgICB7fQogICAgICAgICAgICApLmFkZFRvKG1hcF9mZGZjYWRkM2FhZmM0MDNkOWRhMGYwNzIzNTQxNzMyMyk7CiAgICAgICAgCiAgICAKICAgICAgICAgICAgdmFyIGljb25fOWU5MzViMzJkNWFjNGJiMzk2OWUzYmU0Nzc1NTAwMjUgPSBMLkF3ZXNvbWVNYXJrZXJzLmljb24oCiAgICAgICAgICAgICAgICB7ImV4dHJhQ2xhc3NlcyI6ICJmYS1yb3RhdGUtMCIsICJpY29uIjogImluZm8tc2lnbiIsICJpY29uQ29sb3IiOiAid2hpdGUiLCAibWFya2VyQ29sb3IiOiAiYmx1ZSIsICJwcmVmaXgiOiAiZ2x5cGhpY29uIn0KICAgICAgICAgICAgKTsKICAgICAgICAgICAgbWFya2VyX2I3MjExMzAxYWJmMTRmYzNiYjEwOGVlZDZiMTNhY2FjLnNldEljb24oaWNvbl85ZTkzNWIzMmQ1YWM0YmIzOTY5ZTNiZTQ3NzU1MDAyNSk7CiAgICAgICAgCiAgICAKICAgICAgICB2YXIgcG9wdXBfODQxOGJmNDY0ZTAwNDkwNGE0ZThmOWJhYzQyZjVjYzMgPSBMLnBvcHVwKHsibWF4V2lkdGgiOiAiMTAwJSJ9KTsKCiAgICAgICAgCiAgICAgICAgICAgIHZhciBodG1sXzVkYmM2ZjA5ZDJlODRkYTFhZDFlYmFiYTU0NDk3YjRiID0gJChgPGRpdiBpZD0iaHRtbF81ZGJjNmYwOWQyZTg0ZGExYWQxZWJhYmE1NDQ5N2I0YiIgc3R5bGU9IndpZHRoOiAxMDAuMCU7IGhlaWdodDogMTAwLjAlOyI+QWlycG9ydDwvZGl2PmApWzBdOwogICAgICAgICAgICBwb3B1cF84NDE4YmY0NjRlMDA0OTA0YTRlOGY5YmFjNDJmNWNjMy5zZXRDb250ZW50KGh0bWxfNWRiYzZmMDlkMmU4NGRhMWFkMWViYWJhNTQ0OTdiNGIpOwogICAgICAgIAoKICAgICAgICBtYXJrZXJfYjcyMTEzMDFhYmYxNGZjM2JiMTA4ZWVkNmIxM2FjYWMuYmluZFBvcHVwKHBvcHVwXzg0MThiZjQ2NGUwMDQ5MDRhNGU4ZjliYWM0MmY1Y2MzKQogICAgICAgIDsKCiAgICAgICAgCiAgICAKICAgIAogICAgICAgICAgICB2YXIgbWFya2VyX2ExYzY4ZDM2MjJjNjQwMjNhOGQ1NjRlMjlkNThhZmY5ID0gTC5tYXJrZXIoCiAgICAgICAgICAgICAgICBbNDMuNjc3MjIsIC03OS42MzA1NV0sCiAgICAgICAgICAgICAgICB7fQogICAgICAgICAgICApLmFkZFRvKG1hcF9mZGZjYWRkM2FhZmM0MDNkOWRhMGYwNzIzNTQxNzMyMyk7CiAgICAgICAgCiAgICAKICAgICAgICAgICAgdmFyIGljb25fYzkwNzI5YjRiMGI3NDgyYWFhM2JiMDVmZjZhNWY1MWEgPSBMLkF3ZXNvbWVNYXJrZXJzLmljb24oCiAgICAgICAgICAgICAgICB7ImV4dHJhQ2xhc3NlcyI6ICJmYS1yb3RhdGUtMCIsICJpY29uIjogImluZm8tc2lnbiIsICJpY29uQ29sb3IiOiAid2hpdGUiLCAibWFya2VyQ29sb3IiOiAiYmx1ZSIsICJwcmVmaXgiOiAiZ2x5cGhpY29uIn0KICAgICAgICAgICAgKTsKICAgICAgICAgICAgbWFya2VyX2ExYzY4ZDM2MjJjNjQwMjNhOGQ1NjRlMjlkNThhZmY5LnNldEljb24oaWNvbl9jOTA3MjliNGIwYjc0ODJhYWEzYmIwNWZmNmE1ZjUxYSk7CiAgICAgICAgCiAgICAKICAgICAgICB2YXIgcG9wdXBfZTk2Mjc1YjMxMGY3NDdjMDkyNzIwMGUyMTUyNThkZWQgPSBMLnBvcHVwKHsibWF4V2lkdGgiOiAiMTAwJSJ9KTsKCiAgICAgICAgCiAgICAgICAgICAgIHZhciBodG1sXzNhMDczYTM4ZWNiNjQxMTc4MzdjOTcxNGUzZDYxYWZkID0gJChgPGRpdiBpZD0iaHRtbF8zYTA3M2EzOGVjYjY0MTE3ODM3Yzk3MTRlM2Q2MWFmZCIgc3R5bGU9IndpZHRoOiAxMDAuMCU7IGhlaWdodDogMTAwLjAlOyI+QWlycG9ydDwvZGl2PmApWzBdOwogICAgICAgICAgICBwb3B1cF9lOTYyNzViMzEwZjc0N2MwOTI3MjAwZTIxNTI1OGRlZC5zZXRDb250ZW50KGh0bWxfM2EwNzNhMzhlY2I2NDExNzgzN2M5NzE0ZTNkNjFhZmQpOwogICAgICAgIAoKICAgICAgICBtYXJrZXJfYTFjNjhkMzYyMmM2NDAyM2E4ZDU2NGUyOWQ1OGFmZjkuYmluZFBvcHVwKHBvcHVwX2U5NjI3NWIzMTBmNzQ3YzA5MjcyMDBlMjE1MjU4ZGVkKQogICAgICAgIDsKCiAgICAgICAgCiAgICAKICAgIAogICAgICAgICAgICB2YXIgbWFya2VyXzAzYTU2NjNmNzBhZDQ2NWQ4ZTg3Njc3Nzg5NTE5MTBjID0gTC5tYXJrZXIoCiAgICAgICAgICAgICAgICBbLTI2LjEzOTE3LCAyOC4yNDYxMDk5OTk5OTk5OThdLAogICAgICAgICAgICAgICAge30KICAgICAgICAgICAgKS5hZGRUbyhtYXBfZmRmY2FkZDNhYWZjNDAzZDlkYTBmMDcyMzU0MTczMjMpOwogICAgICAgIAogICAgCiAgICAgICAgICAgIHZhciBpY29uX2MyNTdiY2JlZmU0ZTRiOTViZTk1MGRhNzE1NDkyMTI4ID0gTC5Bd2Vzb21lTWFya2Vycy5pY29uKAogICAgICAgICAgICAgICAgeyJleHRyYUNsYXNzZXMiOiAiZmEtcm90YXRlLTAiLCAiaWNvbiI6ICJpbmZvLXNpZ24iLCAiaWNvbkNvbG9yIjogIndoaXRlIiwgIm1hcmtlckNvbG9yIjogImJsdWUiLCAicHJlZml4IjogImdseXBoaWNvbiJ9CiAgICAgICAgICAgICk7CiAgICAgICAgICAgIG1hcmtlcl8wM2E1NjYzZjcwYWQ0NjVkOGU4NzY3Nzc4OTUxOTEwYy5zZXRJY29uKGljb25fYzI1N2JjYmVmZTRlNGI5NWJlOTUwZGE3MTU0OTIxMjgpOwogICAgICAgIAogICAgCiAgICAgICAgdmFyIHBvcHVwXzgzNzljZTIzNDU4ZTRhN2RiZDE5ZjAxNzdkNmM3YTUwID0gTC5wb3B1cCh7Im1heFdpZHRoIjogIjEwMCUifSk7CgogICAgICAgIAogICAgICAgICAgICB2YXIgaHRtbF9hMGVlNDczNTliNjg0MzExODQ5ZGZjZWU3ZDBmNzhmOCA9ICQoYDxkaXYgaWQ9Imh0bWxfYTBlZTQ3MzU5YjY4NDMxMTg0OWRmY2VlN2QwZjc4ZjgiIHN0eWxlPSJ3aWR0aDogMTAwLjAlOyBoZWlnaHQ6IDEwMC4wJTsiPkFpcnBvcnQ8L2Rpdj5gKVswXTsKICAgICAgICAgICAgcG9wdXBfODM3OWNlMjM0NThlNGE3ZGJkMTlmMDE3N2Q2YzdhNTAuc2V0Q29udGVudChodG1sX2EwZWU0NzM1OWI2ODQzMTE4NDlkZmNlZTdkMGY3OGY4KTsKICAgICAgICAKCiAgICAgICAgbWFya2VyXzAzYTU2NjNmNzBhZDQ2NWQ4ZTg3Njc3Nzg5NTE5MTBjLmJpbmRQb3B1cChwb3B1cF84Mzc5Y2UyMzQ1OGU0YTdkYmQxOWYwMTc3ZDZjN2E1MCkKICAgICAgICA7CgogICAgICAgIAogICAgCiAgICAKICAgICAgICAgICAgdmFyIG1hcmtlcl9iNGNlMjAzMTQ2MjM0NmEwOTllZDYxN2MzZWJiZmQ3MiA9IEwubWFya2VyKAogICAgICAgICAgICAgICAgWzQyLjgsIDE0MS42NjY3XSwKICAgICAgICAgICAgICAgIHt9CiAgICAgICAgICAgICkuYWRkVG8obWFwX2ZkZmNhZGQzYWFmYzQwM2Q5ZGEwZjA3MjM1NDE3MzIzKTsKICAgICAgICAKICAgIAogICAgICAgICAgICB2YXIgaWNvbl9kZTc0MjIzZjA2Mjk0N2VhYjc0OWE5YTcwNjcwZmUwZCA9IEwuQXdlc29tZU1hcmtlcnMuaWNvbigKICAgICAgICAgICAgICAgIHsiZXh0cmFDbGFzc2VzIjogImZhLXJvdGF0ZS0wIiwgImljb24iOiAiaW5mby1zaWduIiwgImljb25Db2xvciI6ICJ3aGl0ZSIsICJtYXJrZXJDb2xvciI6ICJibHVlIiwgInByZWZpeCI6ICJnbHlwaGljb24ifQogICAgICAgICAgICApOwogICAgICAgICAgICBtYXJrZXJfYjRjZTIwMzE0NjIzNDZhMDk5ZWQ2MTdjM2ViYmZkNzIuc2V0SWNvbihpY29uX2RlNzQyMjNmMDYyOTQ3ZWFiNzQ5YTlhNzA2NzBmZTBkKTsKICAgICAgICAKICAgIAogICAgICAgIHZhciBwb3B1cF83YTA3YWNmMjkxNzI0MmMyOGMzZGZmZTc2NGE3YWM3ZiA9IEwucG9wdXAoeyJtYXhXaWR0aCI6ICIxMDAlIn0pOwoKICAgICAgICAKICAgICAgICAgICAgdmFyIGh0bWxfOWM4MzUwY2U4NzE1NDczYWFhOTM5ZWM2ZGM1ZDI5YWYgPSAkKGA8ZGl2IGlkPSJodG1sXzljODM1MGNlODcxNTQ3M2FhYTkzOWVjNmRjNWQyOWFmIiBzdHlsZT0id2lkdGg6IDEwMC4wJTsgaGVpZ2h0OiAxMDAuMCU7Ij5BaXJwb3J0PC9kaXY+YClbMF07CiAgICAgICAgICAgIHBvcHVwXzdhMDdhY2YyOTE3MjQyYzI4YzNkZmZlNzY0YTdhYzdmLnNldENvbnRlbnQoaHRtbF85YzgzNTBjZTg3MTU0NzNhYWE5MzllYzZkYzVkMjlhZik7CiAgICAgICAgCgogICAgICAgIG1hcmtlcl9iNGNlMjAzMTQ2MjM0NmEwOTllZDYxN2MzZWJiZmQ3Mi5iaW5kUG9wdXAocG9wdXBfN2EwN2FjZjI5MTcyNDJjMjhjM2RmZmU3NjRhN2FjN2YpCiAgICAgICAgOwoKICAgICAgICAKICAgIAogICAgCiAgICAgICAgICAgIHZhciBtYXJrZXJfNWNlZDEwM2YyMzMwNDg3NWJhZTYyZWFkM2ZiZDE2MjcgPSBMLm1hcmtlcigKICAgICAgICAgICAgICAgIFsxOS43Mzg4ODk5OTk5OTk5OTgsIC0xNTYuMDQ1Nl0sCiAgICAgICAgICAgICAgICB7fQogICAgICAgICAgICApLmFkZFRvKG1hcF9mZGZjYWRkM2FhZmM0MDNkOWRhMGYwNzIzNTQxNzMyMyk7CiAgICAgICAgCiAgICAKICAgICAgICAgICAgdmFyIGljb25fZjFjODZmZmY0OTRhNDkzYWIyYmU1NzgzZjNhNzY4MzYgPSBMLkF3ZXNvbWVNYXJrZXJzLmljb24oCiAgICAgICAgICAgICAgICB7ImV4dHJhQ2xhc3NlcyI6ICJmYS1yb3RhdGUtMCIsICJpY29uIjogImluZm8tc2lnbiIsICJpY29uQ29sb3IiOiAid2hpdGUiLCAibWFya2VyQ29sb3IiOiAiYmx1ZSIsICJwcmVmaXgiOiAiZ2x5cGhpY29uIn0KICAgICAgICAgICAgKTsKICAgICAgICAgICAgbWFya2VyXzVjZWQxMDNmMjMzMDQ4NzViYWU2MmVhZDNmYmQxNjI3LnNldEljb24oaWNvbl9mMWM4NmZmZjQ5NGE0OTNhYjJiZTU3ODNmM2E3NjgzNik7CiAgICAgICAgCiAgICAKICAgICAgICB2YXIgcG9wdXBfNjFkYWE0MzRkZDU1NDg3MzkzYzY0ZWMzZGRiZGNlZjcgPSBMLnBvcHVwKHsibWF4V2lkdGgiOiAiMTAwJSJ9KTsKCiAgICAgICAgCiAgICAgICAgICAgIHZhciBodG1sX2RjMWE3YmI4MTQzYTQ1OTc4OTgwYmIxNjk4Mjc1OWI4ID0gJChgPGRpdiBpZD0iaHRtbF9kYzFhN2JiODE0M2E0NTk3ODk4MGJiMTY5ODI3NTliOCIgc3R5bGU9IndpZHRoOiAxMDAuMCU7IGhlaWdodDogMTAwLjAlOyI+QWlycG9ydDwvZGl2PmApWzBdOwogICAgICAgICAgICBwb3B1cF82MWRhYTQzNGRkNTU0ODczOTNjNjRlYzNkZGJkY2VmNy5zZXRDb250ZW50KGh0bWxfZGMxYTdiYjgxNDNhNDU5Nzg5ODBiYjE2OTgyNzU5YjgpOwogICAgICAgIAoKICAgICAgICBtYXJrZXJfNWNlZDEwM2YyMzMwNDg3NWJhZTYyZWFkM2ZiZDE2MjcuYmluZFBvcHVwKHBvcHVwXzYxZGFhNDM0ZGQ1NTQ4NzM5M2M2NGVjM2RkYmRjZWY3KQogICAgICAgIDsKCiAgICAgICAgCiAgICAKICAgIAogICAgICAgICAgICB2YXIgbWFya2VyXzUwMjQwZjc0ZTE3MDRhZmE5ZmVlMDZhNmRkODAyNDViID0gTC5tYXJrZXIoCiAgICAgICAgICAgICAgICBbMjUuMDY5NzIsIDEyMS41NTI1XSwKICAgICAgICAgICAgICAgIHt9CiAgICAgICAgICAgICkuYWRkVG8obWFwX2ZkZmNhZGQzYWFmYzQwM2Q5ZGEwZjA3MjM1NDE3MzIzKTsKICAgICAgICAKICAgIAogICAgICAgICAgICB2YXIgaWNvbl85YWM0MjYwNjNlMmI0ZWMxODM4NGZkMWI5MWQzY2JmNCA9IEwuQXdlc29tZU1hcmtlcnMuaWNvbigKICAgICAgICAgICAgICAgIHsiZXh0cmFDbGFzc2VzIjogImZhLXJvdGF0ZS0wIiwgImljb24iOiAiaW5mby1zaWduIiwgImljb25Db2xvciI6ICJ3aGl0ZSIsICJtYXJrZXJDb2xvciI6ICJibHVlIiwgInByZWZpeCI6ICJnbHlwaGljb24ifQogICAgICAgICAgICApOwogICAgICAgICAgICBtYXJrZXJfNTAyNDBmNzRlMTcwNGFmYTlmZWUwNmE2ZGQ4MDI0NWIuc2V0SWNvbihpY29uXzlhYzQyNjA2M2UyYjRlYzE4Mzg0ZmQxYjkxZDNjYmY0KTsKICAgICAgICAKICAgIAogICAgICAgIHZhciBwb3B1cF9hMTI0MjRjYjkxOWE0OTM2OGVhYTI0MDM3ZGJiZmNiMyA9IEwucG9wdXAoeyJtYXhXaWR0aCI6ICIxMDAlIn0pOwoKICAgICAgICAKICAgICAgICAgICAgdmFyIGh0bWxfOWI3OGE4NDJhZGI3NGRmZWEyZjM3YzkyZDZiMGI0M2QgPSAkKGA8ZGl2IGlkPSJodG1sXzliNzhhODQyYWRiNzRkZmVhMmYzN2M5MmQ2YjBiNDNkIiBzdHlsZT0id2lkdGg6IDEwMC4wJTsgaGVpZ2h0OiAxMDAuMCU7Ij5BaXJwb3J0PC9kaXY+YClbMF07CiAgICAgICAgICAgIHBvcHVwX2ExMjQyNGNiOTE5YTQ5MzY4ZWFhMjQwMzdkYmJmY2IzLnNldENvbnRlbnQoaHRtbF85Yjc4YTg0MmFkYjc0ZGZlYTJmMzdjOTJkNmIwYjQzZCk7CiAgICAgICAgCgogICAgICAgIG1hcmtlcl81MDI0MGY3NGUxNzA0YWZhOWZlZTA2YTZkZDgwMjQ1Yi5iaW5kUG9wdXAocG9wdXBfYTEyNDI0Y2I5MTlhNDkzNjhlYWEyNDAzN2RiYmZjYjMpCiAgICAgICAgOwoKICAgICAgICAKICAgIAogICAgCiAgICAgICAgICAgIHZhciBtYXJrZXJfYjRmZjFkY2I2NzJkNDg4ZDhhNTM4NTY5YTI0Y2M2YmMgPSBMLm1hcmtlcigKICAgICAgICAgICAgICAgIFs0Mi4zNjMwNiwgLTcxLjBdLAogICAgICAgICAgICAgICAge30KICAgICAgICAgICAgKS5hZGRUbyhtYXBfZmRmY2FkZDNhYWZjNDAzZDlkYTBmMDcyMzU0MTczMjMpOwogICAgICAgIAogICAgCiAgICAgICAgICAgIHZhciBpY29uX2ZmNjU5NTFkODhlZjRiZmM5NDBiMjA1NjhkNDc2YWQ2ID0gTC5Bd2Vzb21lTWFya2Vycy5pY29uKAogICAgICAgICAgICAgICAgeyJleHRyYUNsYXNzZXMiOiAiZmEtcm90YXRlLTAiLCAiaWNvbiI6ICJpbmZvLXNpZ24iLCAiaWNvbkNvbG9yIjogIndoaXRlIiwgIm1hcmtlckNvbG9yIjogImJsdWUiLCAicHJlZml4IjogImdseXBoaWNvbiJ9CiAgICAgICAgICAgICk7CiAgICAgICAgICAgIG1hcmtlcl9iNGZmMWRjYjY3MmQ0ODhkOGE1Mzg1NjlhMjRjYzZiYy5zZXRJY29uKGljb25fZmY2NTk1MWQ4OGVmNGJmYzk0MGIyMDU2OGQ0NzZhZDYpOwogICAgICAgIAogICAgCiAgICAgICAgdmFyIHBvcHVwXzA1MmFhYTE0ZWMwMDQzOTFhNWJjZjYzMzZkYjE3YzE1ID0gTC5wb3B1cCh7Im1heFdpZHRoIjogIjEwMCUifSk7CgogICAgICAgIAogICAgICAgICAgICB2YXIgaHRtbF9jZWJhNWIzZTI4NzI0NWI0OTUxNmEzZDAzNWQxYTE0YSA9ICQoYDxkaXYgaWQ9Imh0bWxfY2ViYTViM2UyODcyNDViNDk1MTZhM2QwMzVkMWExNGEiIHN0eWxlPSJ3aWR0aDogMTAwLjAlOyBoZWlnaHQ6IDEwMC4wJTsiPkFpcnBvcnQ8L2Rpdj5gKVswXTsKICAgICAgICAgICAgcG9wdXBfMDUyYWFhMTRlYzAwNDM5MWE1YmNmNjMzNmRiMTdjMTUuc2V0Q29udGVudChodG1sX2NlYmE1YjNlMjg3MjQ1YjQ5NTE2YTNkMDM1ZDFhMTRhKTsKICAgICAgICAKCiAgICAgICAgbWFya2VyX2I0ZmYxZGNiNjcyZDQ4OGQ4YTUzODU2OWEyNGNjNmJjLmJpbmRQb3B1cChwb3B1cF8wNTJhYWExNGVjMDA0MzkxYTViY2Y2MzM2ZGIxN2MxNSkKICAgICAgICA7CgogICAgICAgIAogICAgCiAgICAKICAgICAgICAgICAgdmFyIG1hcmtlcl9kMDk3MjAyOGI5Yjc0YmUxODI0MTc1YjUxNWI2ODQ1YSA9IEwubWFya2VyKAogICAgICAgICAgICAgICAgWzQwLjA2MzMzLCAxMTYuNTg0NF0sCiAgICAgICAgICAgICAgICB7fQogICAgICAgICAgICApLmFkZFRvKG1hcF9mZGZjYWRkM2FhZmM0MDNkOWRhMGYwNzIzNTQxNzMyMyk7CiAgICAgICAgCiAgICAKICAgICAgICAgICAgdmFyIGljb25fM2I3Yzc4ODU1NDhlNDc1ZjkwYTQ1NzgxMDczNjkxNDggPSBMLkF3ZXNvbWVNYXJrZXJzLmljb24oCiAgICAgICAgICAgICAgICB7ImV4dHJhQ2xhc3NlcyI6ICJmYS1yb3RhdGUtMCIsICJpY29uIjogImluZm8tc2lnbiIsICJpY29uQ29sb3IiOiAid2hpdGUiLCAibWFya2VyQ29sb3IiOiAiYmx1ZSIsICJwcmVmaXgiOiAiZ2x5cGhpY29uIn0KICAgICAgICAgICAgKTsKICAgICAgICAgICAgbWFya2VyX2QwOTcyMDI4YjliNzRiZTE4MjQxNzViNTE1YjY4NDVhLnNldEljb24oaWNvbl8zYjdjNzg4NTU0OGU0NzVmOTBhNDU3ODEwNzM2OTE0OCk7CiAgICAgICAgCiAgICAKICAgICAgICB2YXIgcG9wdXBfZDcyY2QwZDUwNDVkNGFlODg3ZmY5ZDIyN2JjMTQ3ZjkgPSBMLnBvcHVwKHsibWF4V2lkdGgiOiAiMTAwJSJ9KTsKCiAgICAgICAgCiAgICAgICAgICAgIHZhciBodG1sX2ZhMmYwNzI3MWRjNTQyZTViMDIyYTRiYjI4YjRjMmZjID0gJChgPGRpdiBpZD0iaHRtbF9mYTJmMDcyNzFkYzU0MmU1YjAyMmE0YmIyOGI0YzJmYyIgc3R5bGU9IndpZHRoOiAxMDAuMCU7IGhlaWdodDogMTAwLjAlOyI+QWlycG9ydDwvZGl2PmApWzBdOwogICAgICAgICAgICBwb3B1cF9kNzJjZDBkNTA0NWQ0YWU4ODdmZjlkMjI3YmMxNDdmOS5zZXRDb250ZW50KGh0bWxfZmEyZjA3MjcxZGM1NDJlNWIwMjJhNGJiMjhiNGMyZmMpOwogICAgICAgIAoKICAgICAgICBtYXJrZXJfZDA5NzIwMjhiOWI3NGJlMTgyNDE3NWI1MTViNjg0NWEuYmluZFBvcHVwKHBvcHVwX2Q3MmNkMGQ1MDQ1ZDRhZTg4N2ZmOWQyMjdiYzE0N2Y5KQogICAgICAgIDsKCiAgICAgICAgCiAgICAKICAgIAogICAgICAgICAgICB2YXIgbWFya2VyXzFmNTIwMTc5ZGIxMzRhOTRiYmE5YjFkNTQ1YjM2ZWRhID0gTC5tYXJrZXIoCiAgICAgICAgICAgICAgICBbMzIuNTQxMTA5OTk5OTk5OTk2LCAtMTE2Ljk3MDNdLAogICAgICAgICAgICAgICAge30KICAgICAgICAgICAgKS5hZGRUbyhtYXBfZmRmY2FkZDNhYWZjNDAzZDlkYTBmMDcyMzU0MTczMjMpOwogICAgICAgIAogICAgCiAgICAgICAgICAgIHZhciBpY29uXzA5NjIzMzY1ZGYwZTQ3NWJhNTk4ZmZmNzg5N2ZjNzNkID0gTC5Bd2Vzb21lTWFya2Vycy5pY29uKAogICAgICAgICAgICAgICAgeyJleHRyYUNsYXNzZXMiOiAiZmEtcm90YXRlLTAiLCAiaWNvbiI6ICJpbmZvLXNpZ24iLCAiaWNvbkNvbG9yIjogIndoaXRlIiwgIm1hcmtlckNvbG9yIjogImJsdWUiLCAicHJlZml4IjogImdseXBoaWNvbiJ9CiAgICAgICAgICAgICk7CiAgICAgICAgICAgIG1hcmtlcl8xZjUyMDE3OWRiMTM0YTk0YmJhOWIxZDU0NWIzNmVkYS5zZXRJY29uKGljb25fMDk2MjMzNjVkZjBlNDc1YmE1OThmZmY3ODk3ZmM3M2QpOwogICAgICAgIAogICAgCiAgICAgICAgdmFyIHBvcHVwX2MzOTcyNjNhMjkwNzRkZTdiZGNhNzFjYWQ4YjhlMTgwID0gTC5wb3B1cCh7Im1heFdpZHRoIjogIjEwMCUifSk7CgogICAgICAgIAogICAgICAgICAgICB2YXIgaHRtbF8xN2RmYjNkZjkwMTQ0NTIzOGZmMGJkZjcwMTRhMDA0YiA9ICQoYDxkaXYgaWQ9Imh0bWxfMTdkZmIzZGY5MDE0NDUyMzhmZjBiZGY3MDE0YTAwNGIiIHN0eWxlPSJ3aWR0aDogMTAwLjAlOyBoZWlnaHQ6IDEwMC4wJTsiPkFpcnBvcnQ8L2Rpdj5gKVswXTsKICAgICAgICAgICAgcG9wdXBfYzM5NzI2M2EyOTA3NGRlN2JkY2E3MWNhZDhiOGUxODAuc2V0Q29udGVudChodG1sXzE3ZGZiM2RmOTAxNDQ1MjM4ZmYwYmRmNzAxNGEwMDRiKTsKICAgICAgICAKCiAgICAgICAgbWFya2VyXzFmNTIwMTc5ZGIxMzRhOTRiYmE5YjFkNTQ1YjM2ZWRhLmJpbmRQb3B1cChwb3B1cF9jMzk3MjYzYTI5MDc0ZGU3YmRjYTcxY2FkOGI4ZTE4MCkKICAgICAgICA7CgogICAgICAgIAogICAgCiAgICAKICAgICAgICAgICAgdmFyIG1hcmtlcl8zMGZhNzUyMGQwMjA0NmQ3YWFkODY0ZWRmMjk1OTJmNiA9IEwubWFya2VyKAogICAgICAgICAgICAgICAgWzI1LjA3Nzc3OTk5OTk5OTk5NywgMTIxLjIyMzldLAogICAgICAgICAgICAgICAge30KICAgICAgICAgICAgKS5hZGRUbyhtYXBfZmRmY2FkZDNhYWZjNDAzZDlkYTBmMDcyMzU0MTczMjMpOwogICAgICAgIAogICAgCiAgICAgICAgICAgIHZhciBpY29uXzVjZGM0MjJiMGEwZjRjNWI5ZjRlZjM1ZmY2ZjQ2NDljID0gTC5Bd2Vzb21lTWFya2Vycy5pY29uKAogICAgICAgICAgICAgICAgeyJleHRyYUNsYXNzZXMiOiAiZmEtcm90YXRlLTAiLCAiaWNvbiI6ICJpbmZvLXNpZ24iLCAiaWNvbkNvbG9yIjogIndoaXRlIiwgIm1hcmtlckNvbG9yIjogImJsdWUiLCAicHJlZml4IjogImdseXBoaWNvbiJ9CiAgICAgICAgICAgICk7CiAgICAgICAgICAgIG1hcmtlcl8zMGZhNzUyMGQwMjA0NmQ3YWFkODY0ZWRmMjk1OTJmNi5zZXRJY29uKGljb25fNWNkYzQyMmIwYTBmNGM1YjlmNGVmMzVmZjZmNDY0OWMpOwogICAgICAgIAogICAgCiAgICAgICAgdmFyIHBvcHVwXzc2ZjFjMjVmZTIyYzQ5YTViNTdmZTk3NzM0MDc5MDhmID0gTC5wb3B1cCh7Im1heFdpZHRoIjogIjEwMCUifSk7CgogICAgICAgIAogICAgICAgICAgICB2YXIgaHRtbF84MWU4NDQ0N2EyYTk0NzUxOWE4NWQ1YjZjYzJmMGE3NCA9ICQoYDxkaXYgaWQ9Imh0bWxfODFlODQ0NDdhMmE5NDc1MTlhODVkNWI2Y2MyZjBhNzQiIHN0eWxlPSJ3aWR0aDogMTAwLjAlOyBoZWlnaHQ6IDEwMC4wJTsiPkFpcnBvcnQ8L2Rpdj5gKVswXTsKICAgICAgICAgICAgcG9wdXBfNzZmMWMyNWZlMjJjNDlhNWI1N2ZlOTc3MzQwNzkwOGYuc2V0Q29udGVudChodG1sXzgxZTg0NDQ3YTJhOTQ3NTE5YTg1ZDViNmNjMmYwYTc0KTsKICAgICAgICAKCiAgICAgICAgbWFya2VyXzMwZmE3NTIwZDAyMDQ2ZDdhYWQ4NjRlZGYyOTU5MmY2LmJpbmRQb3B1cChwb3B1cF83NmYxYzI1ZmUyMmM0OWE1YjU3ZmU5NzczNDA3OTA4ZikKICAgICAgICA7CgogICAgICAgIAogICAgCiAgICAKICAgICAgICAgICAgdmFyIG1hcmtlcl9jZTZlOTkwNGU1ZTM0YTJjODBlZDg0YzU2MmEyZTNjNCA9IEwubWFya2VyKAogICAgICAgICAgICAgICAgWy0yLjE1NzUsIC03OS44ODM2MV0sCiAgICAgICAgICAgICAgICB7fQogICAgICAgICAgICApLmFkZFRvKG1hcF9mZGZjYWRkM2FhZmM0MDNkOWRhMGYwNzIzNTQxNzMyMyk7CiAgICAgICAgCiAgICAKICAgICAgICAgICAgdmFyIGljb25fN2MyZTJiYzAwZmY0NDFhNDkzODRkMjdhMWZiYjdmNzIgPSBMLkF3ZXNvbWVNYXJrZXJzLmljb24oCiAgICAgICAgICAgICAgICB7ImV4dHJhQ2xhc3NlcyI6ICJmYS1yb3RhdGUtMCIsICJpY29uIjogImluZm8tc2lnbiIsICJpY29uQ29sb3IiOiAid2hpdGUiLCAibWFya2VyQ29sb3IiOiAiYmx1ZSIsICJwcmVmaXgiOiAiZ2x5cGhpY29uIn0KICAgICAgICAgICAgKTsKICAgICAgICAgICAgbWFya2VyX2NlNmU5OTA0ZTVlMzRhMmM4MGVkODRjNTYyYTJlM2M0LnNldEljb24oaWNvbl83YzJlMmJjMDBmZjQ0MWE0OTM4NGQyN2ExZmJiN2Y3Mik7CiAgICAgICAgCiAgICAKICAgICAgICB2YXIgcG9wdXBfZjg5MzUzNTE1YWJiNGZkMjkwZjkyYzY5YjJjMjI0MWUgPSBMLnBvcHVwKHsibWF4V2lkdGgiOiAiMTAwJSJ9KTsKCiAgICAgICAgCiAgICAgICAgICAgIHZhciBodG1sX2QxYjZlZTBkNWNkODRhYTQ4N2ZiNTlhZjBjNTVjMGFjID0gJChgPGRpdiBpZD0iaHRtbF9kMWI2ZWUwZDVjZDg0YWE0ODdmYjU5YWYwYzU1YzBhYyIgc3R5bGU9IndpZHRoOiAxMDAuMCU7IGhlaWdodDogMTAwLjAlOyI+QWlycG9ydDwvZGl2PmApWzBdOwogICAgICAgICAgICBwb3B1cF9mODkzNTM1MTVhYmI0ZmQyOTBmOTJjNjliMmMyMjQxZS5zZXRDb250ZW50KGh0bWxfZDFiNmVlMGQ1Y2Q4NGFhNDg3ZmI1OWFmMGM1NWMwYWMpOwogICAgICAgIAoKICAgICAgICBtYXJrZXJfY2U2ZTk5MDRlNWUzNGEyYzgwZWQ4NGM1NjJhMmUzYzQuYmluZFBvcHVwKHBvcHVwX2Y4OTM1MzUxNWFiYjRmZDI5MGY5MmM2OWIyYzIyNDFlKQogICAgICAgIDsKCiAgICAgICAgCiAgICAKICAgIAogICAgICAgICAgICB2YXIgbWFya2VyXzgwODdiOGJiNGMwMTRlMzBhYTc3MWFjNWU3Mzk5ZWIyID0gTC5tYXJrZXIoCiAgICAgICAgICAgICAgICBbNDAuNDY2NjcsIC0zLjU2NjY2N10sCiAgICAgICAgICAgICAgICB7fQogICAgICAgICAgICApLmFkZFRvKG1hcF9mZGZjYWRkM2FhZmM0MDNkOWRhMGYwNzIzNTQxNzMyMyk7CiAgICAgICAgCiAgICAKICAgICAgICAgICAgdmFyIGljb25fNGVjY2Y1ZjY5MTY3NDUyOGE4MTY1ZTZmNTI5ZmJjYWIgPSBMLkF3ZXNvbWVNYXJrZXJzLmljb24oCiAgICAgICAgICAgICAgICB7ImV4dHJhQ2xhc3NlcyI6ICJmYS1yb3RhdGUtMCIsICJpY29uIjogImluZm8tc2lnbiIsICJpY29uQ29sb3IiOiAid2hpdGUiLCAibWFya2VyQ29sb3IiOiAiYmx1ZSIsICJwcmVmaXgiOiAiZ2x5cGhpY29uIn0KICAgICAgICAgICAgKTsKICAgICAgICAgICAgbWFya2VyXzgwODdiOGJiNGMwMTRlMzBhYTc3MWFjNWU3Mzk5ZWIyLnNldEljb24oaWNvbl80ZWNjZjVmNjkxNjc0NTI4YTgxNjVlNmY1MjlmYmNhYik7CiAgICAgICAgCiAgICAKICAgICAgICB2YXIgcG9wdXBfZWRjYWYwMjFiYjE2NDEzOGE4MzdkNTJhOGJkNGFkMGYgPSBMLnBvcHVwKHsibWF4V2lkdGgiOiAiMTAwJSJ9KTsKCiAgICAgICAgCiAgICAgICAgICAgIHZhciBodG1sX2M0NmY5MjZkNTUyNTQzNzk4YmQ1YjIzZDQxMTE5Mzc3ID0gJChgPGRpdiBpZD0iaHRtbF9jNDZmOTI2ZDU1MjU0Mzc5OGJkNWIyM2Q0MTExOTM3NyIgc3R5bGU9IndpZHRoOiAxMDAuMCU7IGhlaWdodDogMTAwLjAlOyI+QWlycG9ydDwvZGl2PmApWzBdOwogICAgICAgICAgICBwb3B1cF9lZGNhZjAyMWJiMTY0MTM4YTgzN2Q1MmE4YmQ0YWQwZi5zZXRDb250ZW50KGh0bWxfYzQ2ZjkyNmQ1NTI1NDM3OThiZDViMjNkNDExMTkzNzcpOwogICAgICAgIAoKICAgICAgICBtYXJrZXJfODA4N2I4YmI0YzAxNGUzMGFhNzcxYWM1ZTczOTllYjIuYmluZFBvcHVwKHBvcHVwX2VkY2FmMDIxYmIxNjQxMzhhODM3ZDUyYThiZDRhZDBmKQogICAgICAgIDsKCiAgICAgICAgCiAgICAKICAgIAogICAgICAgICAgICB2YXIgbWFya2VyXzJlMWI0YzA1NDMxZjRkMmQ5OGM0NzA4MjBlZmMxMTVjID0gTC5tYXJrZXIoCiAgICAgICAgICAgICAgICBbMzEuODAzMzMsIDEzMC43MTk0XSwKICAgICAgICAgICAgICAgIHt9CiAgICAgICAgICAgICkuYWRkVG8obWFwX2ZkZmNhZGQzYWFmYzQwM2Q5ZGEwZjA3MjM1NDE3MzIzKTsKICAgICAgICAKICAgIAogICAgICAgICAgICB2YXIgaWNvbl8xZTNkNjU4YzEyOTM0MGNjYjYwZTBhZDUxMzY4ZGE4YSA9IEwuQXdlc29tZU1hcmtlcnMuaWNvbigKICAgICAgICAgICAgICAgIHsiZXh0cmFDbGFzc2VzIjogImZhLXJvdGF0ZS0wIiwgImljb24iOiAiaW5mby1zaWduIiwgImljb25Db2xvciI6ICJ3aGl0ZSIsICJtYXJrZXJDb2xvciI6ICJibHVlIiwgInByZWZpeCI6ICJnbHlwaGljb24ifQogICAgICAgICAgICApOwogICAgICAgICAgICBtYXJrZXJfMmUxYjRjMDU0MzFmNGQyZDk4YzQ3MDgyMGVmYzExNWMuc2V0SWNvbihpY29uXzFlM2Q2NThjMTI5MzQwY2NiNjBlMGFkNTEzNjhkYThhKTsKICAgICAgICAKICAgIAogICAgICAgIHZhciBwb3B1cF9mYmQ5MjYyYjE1NDA0MzFhODQ0NDRhNzY1YzQ1MTczNSA9IEwucG9wdXAoeyJtYXhXaWR0aCI6ICIxMDAlIn0pOwoKICAgICAgICAKICAgICAgICAgICAgdmFyIGh0bWxfMjk3YjYyZTIwOGUxNDBjOGI2NWRlNmI0NzE1MWFjM2IgPSAkKGA8ZGl2IGlkPSJodG1sXzI5N2I2MmUyMDhlMTQwYzhiNjVkZTZiNDcxNTFhYzNiIiBzdHlsZT0id2lkdGg6IDEwMC4wJTsgaGVpZ2h0OiAxMDAuMCU7Ij5BaXJwb3J0PC9kaXY+YClbMF07CiAgICAgICAgICAgIHBvcHVwX2ZiZDkyNjJiMTU0MDQzMWE4NDQ0NGE3NjVjNDUxNzM1LnNldENvbnRlbnQoaHRtbF8yOTdiNjJlMjA4ZTE0MGM4YjY1ZGU2YjQ3MTUxYWMzYik7CiAgICAgICAgCgogICAgICAgIG1hcmtlcl8yZTFiNGMwNTQzMWY0ZDJkOThjNDcwODIwZWZjMTE1Yy5iaW5kUG9wdXAocG9wdXBfZmJkOTI2MmIxNTQwNDMxYTg0NDQ0YTc2NWM0NTE3MzUpCiAgICAgICAgOwoKICAgICAgICAKICAgIAogICAgCiAgICAgICAgICAgIHZhciBtYXJrZXJfOThhZThkNTRlZjcyNDIwY2IxYTBhZThkMDlkMTAxNDcgPSBMLm1hcmtlcigKICAgICAgICAgICAgICAgIFs2MC4zMTcyMTk5OTk5OTk5OSwgMjQuOTYzMzNdLAogICAgICAgICAgICAgICAge30KICAgICAgICAgICAgKS5hZGRUbyhtYXBfZmRmY2FkZDNhYWZjNDAzZDlkYTBmMDcyMzU0MTczMjMpOwogICAgICAgIAogICAgCiAgICAgICAgICAgIHZhciBpY29uXzUyNDk4NzQ5NmQ4MzQxZjU4ZmU5NzE3ZTlhMjNlYzgwID0gTC5Bd2Vzb21lTWFya2Vycy5pY29uKAogICAgICAgICAgICAgICAgeyJleHRyYUNsYXNzZXMiOiAiZmEtcm90YXRlLTAiLCAiaWNvbiI6ICJpbmZvLXNpZ24iLCAiaWNvbkNvbG9yIjogIndoaXRlIiwgIm1hcmtlckNvbG9yIjogImJsdWUiLCAicHJlZml4IjogImdseXBoaWNvbiJ9CiAgICAgICAgICAgICk7CiAgICAgICAgICAgIG1hcmtlcl85OGFlOGQ1NGVmNzI0MjBjYjFhMGFlOGQwOWQxMDE0Ny5zZXRJY29uKGljb25fNTI0OTg3NDk2ZDgzNDFmNThmZTk3MTdlOWEyM2VjODApOwogICAgICAgIAogICAgCiAgICAgICAgdmFyIHBvcHVwX2VkZTI4NTE3ZTEwODQ3YWQ5YTJiZTg1MTViZmNlNWY3ID0gTC5wb3B1cCh7Im1heFdpZHRoIjogIjEwMCUifSk7CgogICAgICAgIAogICAgICAgICAgICB2YXIgaHRtbF9lMGY3N2MyZjFmYmI0YmExYTEyZjA1OWE4NmU5ZDNiYiA9ICQoYDxkaXYgaWQ9Imh0bWxfZTBmNzdjMmYxZmJiNGJhMWExMmYwNTlhODZlOWQzYmIiIHN0eWxlPSJ3aWR0aDogMTAwLjAlOyBoZWlnaHQ6IDEwMC4wJTsiPkFpcnBvcnQ8L2Rpdj5gKVswXTsKICAgICAgICAgICAgcG9wdXBfZWRlMjg1MTdlMTA4NDdhZDlhMmJlODUxNWJmY2U1Zjcuc2V0Q29udGVudChodG1sX2UwZjc3YzJmMWZiYjRiYTFhMTJmMDU5YTg2ZTlkM2JiKTsKICAgICAgICAKCiAgICAgICAgbWFya2VyXzk4YWU4ZDU0ZWY3MjQyMGNiMWEwYWU4ZDA5ZDEwMTQ3LmJpbmRQb3B1cChwb3B1cF9lZGUyODUxN2UxMDg0N2FkOWEyYmU4NTE1YmZjZTVmNykKICAgICAgICA7CgogICAgICAgIAogICAgCiAgICAKICAgICAgICBmdW5jdGlvbiBnZW9fanNvbl8yZmE3ZThjYjZmNDA0YTliYTU1ODFiNjg4OTViMjhlN19vbkVhY2hGZWF0dXJlKGZlYXR1cmUsIGxheWVyKSB7CiAgICAgICAgICAgIGxheWVyLm9uKHsKICAgICAgICAgICAgICAgIGNsaWNrOiBmdW5jdGlvbihlKSB7CiAgICAgICAgICAgICAgICAgICAgbWFwX2ZkZmNhZGQzYWFmYzQwM2Q5ZGEwZjA3MjM1NDE3MzIzLmZpdEJvdW5kcyhlLnRhcmdldC5nZXRCb3VuZHMoKSk7CiAgICAgICAgICAgICAgICB9CiAgICAgICAgICAgIH0pOwogICAgICAgIH07CiAgICAgICAgdmFyIGdlb19qc29uXzJmYTdlOGNiNmY0MDRhOWJhNTU4MWI2ODg5NWIyOGU3ID0gTC5nZW9Kc29uKG51bGwsIHsKICAgICAgICAgICAgICAgIG9uRWFjaEZlYXR1cmU6IGdlb19qc29uXzJmYTdlOGNiNmY0MDRhOWJhNTU4MWI2ODg5NWIyOGU3X29uRWFjaEZlYXR1cmUsCiAgICAgICAgICAgIAogICAgICAgIH0pLmFkZFRvKG1hcF9mZGZjYWRkM2FhZmM0MDNkOWRhMGYwNzIzNTQxNzMyMyk7CiAgICAgICAgICAgIGdlb19qc29uXzJmYTdlOGNiNmY0MDRhOWJhNTU4MWI2ODg5NWIyOGU3LmFkZERhdGEoeyJjb29yZGluYXRlcyI6IFtbWzExMy45MTQ3LCAyMi4zMDg4ODk5OTk5OTk5OThdLCBbMTIxLjAxNjcsIDE0LjUxNjY3MDAwMDAwMDAwMV1dLCBbWzIyLjEyMTk0LCA2NS41NDM4OV0sIFsxNy45MTg2MSwgNTkuNjUxOTRdXSwgW1stODEuMzA4ODksIDI4LjQyOTQ0MDAwMDAwMDAwM10sIFstNzMuNzgzMzMsIDQwLjYzMzMzXV0sIFtbLTczLjg2NjY3LCA0MC43NjY2N10sIFstODAuMjY2NjY5OTk5OTk5OTksIDI1Ljc4MzMzXV0sIFtbLTczLjc4MzMzLCA0MC42MzMzM10sIFstNzEuMCwgNDIuMzYzMDZdXSwgW1sxMjEuNTM4NiwgMzguOTY1NTU5OTk5OTk5OTk2XSwgWzEyMS44MDUzLCAzMS4xNDMzM11dLCBbWy04MC4yNjY2Njk5OTk5OTk5OSwgMjUuNzgzMzNdLCBbLTg0LjQyODA1LCAzMy42MzY2N11dLCBbWzYuNzY2NjY3LCA1MS4yODk0NF0sIFsxMS43ODMzMywgNDguMzVdXSwgW1stOS4xMzU4MzMsIDM4Ljc4MTM5XSwgWy0zLjU2NjY2NywgNDAuNDY2NjddXSwgW1stNDYuNDY5NDQwMDAwMDAwMDA2LCAtMjMuNDMxOTRdLCBbLTM0LjkyMzg5LCAtOC4xMjU4MzNdXSwgW1s4OC40MzMzMywgMjIuNjMzMzI5OTk5OTk5OTk3XSwgWzcyLjg2ODA2LCAxOS4wODg2MV1dLCBbWzEzOS43Nzk3LCAzNS41NTIyMl0sIFsxMzIuOTE5NCwgMzQuNDM2MTFdXSwgW1sxMi42NTU4MywgNTUuNjE4MDZdLCBbOS44NSwgNTcuMV1dLCBbWzExNS45NjY5LCAtMzEuOTQwMjc5OTk5OTk5OTk4XSwgWzExNi43NjY3LCAtMjAuNzE2NjddXSwgW1stMTIzLjE4MzMsIDQ5LjE5Mzg5XSwgWy0xMTMuNTc5NywgNTMuMzA5NzJdXSwgW1sxMDMuOTk0NCwgMS4zNTAyNzhdLCBbMTE1LjE2NzIsIC04Ljc0ODA1Nl1dLCBbWzcyLjg2ODA2LCAxOS4wODg2MV0sIFs1NS4zMzMzMzAwMDAwMDAwMDQsIDI1LjI1XV0sIFtbMTIxLjIyMzksIDI1LjA3Nzc3OTk5OTk5OTk5N10sIFsxNDAuMzkxNywgMzUuNzYzODldXSwgW1syLjA4MzMzMywgNDEuM10sIFsyLjczMzMzMywgMzkuNTVdXSwgW1stMTU3LjkzMzMsIDIxLjMzMzMzXSwgWy0xMTguNDA3MiwgMzMuOTQyNV1dLCBbWy04Ny45MDQ3MiwgNDEuOTc4NjA5OTk5OTk5OTk2XSwgWy03MS4wLCA0Mi4zNjMwNl1dLCBbWy0xMjIuMzA5NCwgNDcuNDQ4ODkwMDAwMDAwMDA2XSwgWy0xMTcuNTMzOSwgNDcuNjE5NzJdXSwgW1stODQuNDI4MDUsIDMzLjYzNjY3XSwgWy04MS42MzMzMywgMzAuNDE2NjddXSwgW1stMy41NjY2NjcsIDQwLjQ2NjY3XSwgWy05LjEzNTgzMywgMzguNzgxMzldXSwgW1stMTU3LjkzMzMsIDIxLjMzMzMzXSwgWy0xNTYuMDQ1NiwgMTkuNzM4ODg5OTk5OTk5OTk4XV0sIFtbNzguNDY3NSwgMTcuNDUzMDZdLCBbNzIuODY4MDYsIDE5LjA4ODYxXV0sIFtbMTIxLjgwNTMsIDMxLjE0MzMzXSwgWzE0MC4zOTE3LCAzNS43NjM4OV1dLCBbWzEwOC43NTE3LCAzNC40NDcyMl0sIFsxMjAuMjgzMywgMzAuM11dLCBbWzE0NC44NDMzLCAtMzcuNjczMzNdLCBbMTUzLjUsIC0yOC4xODExMDk5OTk5OTk5OTddXSwgW1sxMTMuMjk4OSwgMjMuMzkyNV0sIFsxMDYuNjQxNywgMjkuNzE5MTcwMDAwMDAwMDAyXV0sIFtbNzcuMTE4MDYsIDI4LjU2OTQ0MDAwMDAwMDAwNF0sIFs3OC40Njc1LCAxNy40NTMwNl1dLCBbWy04NC40MjgwNSwgMzMuNjM2NjddLCBbLTc0LjE2ODYxLCA0MC42OTI1XV0sIFtbMTUuMDY2NjcwMDAwMDAwMDAyLCAzNy40NjY2N10sIFsxMi4yNTA4MywgNDEuODA0NDRdXSwgW1sxMy4yODk0Mzk5OTk5OTk5OTksIDUyLjU2MTExXSwgWzkuMiwgNDguNjgzMzNdXSwgW1stODcuOTA0NzIsIDQxLjk3ODYwOTk5OTk5OTk5Nl0sIFstOTAuMzcsIDM4Ljc0ODYxXV0sIFtbLTc0LjEzODM0LCA0LjcwMzA1Nl0sIFstNzMuMTUsIDcuMV1dLCBbWzQuNzYzODg5LCA1Mi4zMDg2MDk5OTk5OTk5OTRdLCBbLTAuNDUxMzg5MDAwMDAwMDAwMDQsIDUxLjQ2OTcyXV0sIFtbMTA2LjY1NTgsIC02LjEyNTU1Nl0sIFsxMDAuMjgwNiwgLTAuNzg2OTQ0XV0sIFtbMTAzLjk0NzIsIDMwLjU3ODYwOTk5OTk5OTk5OF0sIFsxMTMuOTE2NywgMjIuNTVdXSwgW1stMTEyLjAzMzMsIDMzLjQzMzMzXSwgWy0xMjIuMzA5NCwgNDcuNDQ4ODkwMDAwMDAwMDA2XV0sIFtbMTEzLjkxNDcsIDIyLjMwODg4OTk5OTk5OTk5OF0sIFsxMTYuNTg0NCwgNDAuMDYzMzNdXSwgW1sxMTMuOTE2NywgMjIuNTVdLCBbMTIwLjI4MzMsIDMwLjNdXSwgW1stOTcuMDM4MDYsIDMyLjg5Njk0XSwgWy0xMjIuMzc1LCAzNy42MTg4OV1dLCBbWzEyNi41ODMzLCA0Ni4wMTY2N10sIFsxMjEuODA1MywgMzEuMTQzMzNdXSwgW1stOTcuMDM4MDYsIDMyLjg5Njk0XSwgWy05NS4zNDEzOSwgMjkuOTg0NDQwMDAwMDAwMDAzXV0sIFtbLTczLjc0MDgzLCA0NS40NzA1NV0sIFstNzkuMzk2MTEsIDQzLjYyNzVdXSwgW1sxNDkuMTk1LCAtMzUuMzA2OTVdLCBbMTQ0Ljg0MzMsIC0zNy42NzMzM11dLCBbWy04MS4zMDg4OSwgMjguNDI5NDQwMDAwMDAwMDAzXSwgWy03NC4xNjg2MSwgNDAuNjkyNV1dLCBbWzczLjg0MTY3LCAxNS41XSwgWzcyLjg2ODA2LCAxOS4wODg2MV1dLCBbWy0xMDQuNjczMSwgMzkuODYxNjcwMDAwMDAwMDA0XSwgWy04Ny45MDQ3MiwgNDEuOTc4NjA5OTk5OTk5OTk2XV0sIFtbLTEyMi4zNzUsIDM3LjYxODg5XSwgWy0xMTcuMTgzMywgMzIuNzMzMzNdXSwgW1sxMTUuMTY3MiwgLTguNzQ4MDU2XSwgWzEwMy45OTQ0LCAxLjM1MDI3OF1dLCBbWy04NC40MjgwNSwgMzMuNjM2NjddLCBbLTc2LjY2ODMzMDAwMDAwMDAxLCAzOS4xNzUyOF1dLCBbWzc3LjExODA2LCAyOC41Njk0NDAwMDAwMDAwMDRdLCBbODAuMTc1MjgsIDEyLjk5NDcyXV0sIFtbMTM1LjI0MzksIDM0LjQyNzIyXSwgWzEyMS4yMjM5LCAyNS4wNzc3Nzk5OTk5OTk5OTddXSwgW1sxMDAuNjA2NywgMTMuOTEyNV0sIFsxMDIuNzg4MywgMTcuMzg2MzldXSwgW1sxMzkuNzc5NywgMzUuNTUyMjJdLCBbMTI3LjgzMzMsIDI2LjMzMzMzXV0sIFtbLTEyMi4zMDk0LCA0Ny40NDg4OTAwMDAwMDAwMDZdLCBbLTExNS4xNjY3LCAzNi4wODMzM11dLCBbWzguNTQzMDU2LCA1MC4wMjYzOV0sIFs5Ljk4MzMzMywgNTMuNjMzMzMwMDAwMDAwMDFdXSwgW1stMTEyLjAzMzMsIDMzLjQzMzMzXSwgWy0xMTcuMTgzMywgMzIuNzMzMzNdXSwgW1sxNDQuODQzMywgLTM3LjY3MzMzXSwgWzE0Ny41MTAzLCAtNDIuODM2MTFdXSwgW1stNzQuMTY4NjEsIDQwLjY5MjVdLCBbLTEyMi4zNzUsIDM3LjYxODg5XV0sIFtbLTg0LjQyODA1LCAzMy42MzY2N10sIFstMTA0LjY3MzEsIDM5Ljg2MTY3MDAwMDAwMDAwNF1dLCBbWzM1LjI4MDI4LCAzNi45ODIyMl0sIFsyOC44MjExMDk5OTk5OTk5OTcsIDQwLjk3Njk0XV0sIFtbMTA2LjY0MTcsIDI5LjcxOTE3MDAwMDAwMDAwMl0sIFsxMTYuNTg0NCwgNDAuMDYzMzNdXSwgW1sxNDAuMzkxNywgMzUuNzYzODldLCBbMTIxLjIyMzksIDI1LjA3Nzc3OTk5OTk5OTk5N11dLCBbWy04MC4xNTI3OCwgMjYuMDcyNV0sIFstNzQuMTY4NjEsIDQwLjY5MjVdXSwgW1stODcuOSwgNDIuOTVdLCBbLTg3LjkwNDcyLCA0MS45Nzg2MDk5OTk5OTk5OTZdXSwgW1sxMDYuNjU1OCwgLTYuMTI1NTU2XSwgWzExNi45LCAtMS4yNjY2NjddXSwgW1stNzQuMTY4NjEsIDQwLjY5MjVdLCBbLTcxLjAsIDQyLjM2MzA2XV0sIFtbMTA4Ljc1MTcsIDM0LjQ0NzIyXSwgWzExNi41ODQ0LCA0MC4wNjMzM11dLCBbWy04MS42MzMzMywgMzAuNDE2NjddLCBbLTg0LjQyODA1LCAzMy42MzY2N11dLCBbWzEzMC43NjY3LCAzMi44XSwgWzEzOS43Nzk3LCAzNS41NTIyMl1dLCBbWzEwMy45OTQ0LCAxLjM1MDI3OF0sIFsxMDYuNjUxOSwgMTAuODE4ODldXSwgW1s1NS4zMzMzMzAwMDAwMDAwMDQsIDI1LjI1XSwgWzcyLjg2ODA2LCAxOS4wODg2MV1dLCBbWzEzMS40NSwgMzEuODY2NjcwMDAwMDAwMDAzXSwgWzEzOS43Nzk3LCAzNS41NTIyMl1dLCBbWy0xMTguNDA3MiwgMzMuOTQyNV0sIFstMTExLjk2NjcsIDQwLjc4ODMzXV0sIFtbLTExNy41MzM5LCA0Ny42MTk3Ml0sIFstMTIyLjMwOTQsIDQ3LjQ0ODg5MDAwMDAwMDAwNl1dLCBbWzEzOS43Nzk3LCAzNS41NTIyMl0sIFsxMzAuNzY2NywgMzIuOF1dLCBbWzcyLjg2ODA2LCAxOS4wODg2MV0sIFs3OC40Njc1LCAxNy40NTMwNl1dLCBbWy04MS4zMDg4OSwgMjguNDI5NDQwMDAwMDAwMDAzXSwgWy04Ny45MDQ3MiwgNDEuOTc4NjA5OTk5OTk5OTk2XV0sIFtbLTczLjc4MzMzLCA0MC42MzMzM10sIFstNjYuMDAxOTUsIDE4LjQzOTQ0XV0sIFtbLTc1LjI0MTEwOTk5OTk5OTk5LCAzOS44NzE5NF0sIFstODcuOTA0NzIsIDQxLjk3ODYwOTk5OTk5OTk5Nl1dLCBbWzExMi43ODY5LCAtNy4zNzk3MjJdLCBbMTE1LjE2NzIsIC04Ljc0ODA1Nl1dLCBbWy0xNTcuOTMzMywgMjEuMzMzMzNdLCBbLTE1OS4zNSwgMjEuOTgzMzNdXSwgW1s4MC4xNzUyOCwgMTIuOTk0NzJdLCBbNzIuODY4MDYsIDE5LjA4ODYxXV0sIFtbMTI2LjQ1MDYsIDM3LjQ2OTE3XSwgWzEyMS44MDUzLCAzMS4xNDMzM11dLCBbWzE0MC4zOTE3LCAzNS43NjM4OV0sIFsxMjEuODA1MywgMzEuMTQzMzNdXSwgW1sxMTYuNTg0NCwgNDAuMDYzMzNdLCBbMTIwLjMxNjcsIDM2LjFdXSwgW1s1LjYzNzc3OCwgNTguODc2NjddLCBbNS4yMTY2NjcsIDYwLjNdXSwgW1s4OC40MzMzMywgMjIuNjMzMzI5OTk5OTk5OTk3XSwgWzc3LjExODA2LCAyOC41Njk0NDAwMDAwMDAwMDRdXSwgW1stMy41NjY2NjcsIDQwLjQ2NjY3XSwgWy0xNS4zODY2NywgMjcuOTMxOTRdXSwgW1sxMTMuOTE2NywgMjIuNTVdLCBbMTAzLjk0NzIsIDMwLjU3ODYwOTk5OTk5OTk5OF1dLCBbWy0xMjIuMzc1LCAzNy42MTg4OV0sIFstMTEyLjAzMzMsIDMzLjQzMzMzXV0sIFtbMTIxLjgwNTMsIDMxLjE0MzMzXSwgWzEyMy40MzMzLCA0MS44NzE2N11dLCBbWzE1My4xMTY3LCAtMjcuMzgzMzI5OTk5OTk5OTk3XSwgWzE0NS43NSwgLTE2Ljg4MzMyOTk5OTk5OTk5N11dLCBbWzEwNi42NTU4LCAtNi4xMjU1NTZdLCBbMTA5LjM4MzMsIC0wLjA1XV0sIFtbLTEwNC42NzMxLCAzOS44NjE2NzAwMDAwMDAwMDRdLCBbLTg0LjQyODA1LCAzMy42MzY2N11dLCBbWzExLjc4MzMzLCA0OC4zNV0sIFsxMy4yODk0Mzk5OTk5OTk5OTksIDUyLjU2MTExXV0sIFtbNzMuMTMsIDUuMTVdLCBbNzMuNTI5MTcsIDQuMTkxOTQ0XV0sIFtbNS4yMTY2NjcsIDYwLjNdLCBbNS42Mzc3NzgsIDU4Ljg3NjY3XV0sIFtbLTgzLjM1MzMzLCA0Mi4yMTI1XSwgWy04NC40MjgwNSwgMzMuNjM2NjddXSwgW1syOC44MjExMDk5OTk5OTk5OTcsIDQwLjk3Njk0XSwgWzM1LjI4MDI4LCAzNi45ODIyMl1dLCBbWy0xMTcuMTgzMywgMzIuNzMzMzNdLCBbLTExOC40MDcyLCAzMy45NDI1XV0sIFtbLTc0LjE2ODYxLCA0MC42OTI1XSwgWy04MS4zMDg4OSwgMjguNDI5NDQwMDAwMDAwMDAzXV0sIFtbODAuMTc1MjgsIDEyLjk5NDcyXSwgWzc3LjExODA2LCAyOC41Njk0NDAwMDAwMDAwMDRdXSwgW1sxMTAuMzgzMywgLTYuOTgzMzMzXSwgWzEwNi42NTU4LCAtNi4xMjU1NTZdXSwgW1sxMjEuMDE2NywgMTQuNTE2NjcwMDAwMDAwMDAxXSwgWzExMy45MTQ3LCAyMi4zMDg4ODk5OTk5OTk5OThdXSwgW1stODQuNDI4MDUsIDMzLjYzNjY3XSwgWy04MC45MzMzMywgMzUuMjE2NjddXSwgW1sxMS43ODMzMywgNDguMzVdLCBbOS45ODMzMzMsIDUzLjYzMzMzMDAwMDAwMDAxXV0sIFtbMTIxLjAxNjcsIDE0LjUxNjY3MDAwMDAwMDAwMV0sIFsxMjIuNTQ1MywgMTAuNzEzMDZdXSwgW1stMC40NTEzODkwMDAwMDAwMDAwNCwgNTEuNDY5NzJdLCBbNC43NjM4ODksIDUyLjMwODYwOTk5OTk5OTk5NF1dLCBbWzE3LjkxODYxLCA1OS42NTE5NF0sIFsyNC45NjMzMywgNjAuMzE3MjE5OTk5OTk5OTldXSwgW1stNzQuMTY4NjEsIDQwLjY5MjVdLCBbLTg3LjkwNDcyLCA0MS45Nzg2MDk5OTk5OTk5OTZdXSwgW1stMy41NjY2NjcsIDQwLjQ2NjY3XSwgWzIuNzMzMzMzLCAzOS41NV1dLCBbWy04MC4xNTI3OCwgMjYuMDcyNV0sIFstNzMuNzgzMzMsIDQwLjYzMzMzXV0sIFtbLTgwLjE1Mjc4LCAyNi4wNzI1XSwgWy03My44NjY2NywgNDAuNzY2NjddXSwgW1sxMDYuNjQxNywgMjkuNzE5MTcwMDAwMDAwMDAyXSwgWzExMy4yOTg5LCAyMy4zOTI1XV0sIFtbLTcxLjM5MzMzLCA0Ni43OTExMDk5OTk5OTk5OTZdLCBbLTczLjc0MDgzLCA0NS40NzA1NV1dLCBbWy03OS4zOTYxMSwgNDMuNjI3NV0sIFstNzUuNjY5MTcsIDQ1LjMyMjVdXSwgW1stODQuNDI4MDUsIDMzLjYzNjY3XSwgWy04MC4xNTI3OCwgMjYuMDcyNV1dLCBbWy03NC4xNjg2MSwgNDAuNjkyNV0sIFstODQuNDI4MDUsIDMzLjYzNjY3XV0sIFtbLTcxLjAsIDQyLjM2MzA2XSwgWy03My43ODMzMywgNDAuNjMzMzNdXSwgW1s5OS43Mjg2MSwgNi4zMjk3MjJdLCBbMTAxLjcxLCAyLjc0NTU1Nl1dLCBbWzE3LjkxODYxLCA1OS42NTE5NF0sIFsxMy4zNjY2NzAwMDAwMDAwMDEsIDU1LjU1XV0sIFtbMTEzLjkxNjcsIDIyLjU1XSwgWzEwNi42NDE3LCAyOS43MTkxNzAwMDAwMDAwMDJdXSwgW1stODQuNDI4MDUsIDMzLjYzNjY3XSwgWy03Ny4wMzc3OCwgMzguODUxOTRdXSwgW1sxMDkuMzgzMywgLTAuMDVdLCBbMTA2LjY1NTgsIC02LjEyNTU1Nl1dLCBbWy0xMjMuMTgzMywgNDkuMTkzODldLCBbLTc5LjYzMDU1LCA0My42NzcyMl1dLCBbWzEzLjI4OTQzOTk5OTk5OTk5OSwgNTIuNTYxMTFdLCBbMTEuNzgzMzMsIDQ4LjM1XV0sIFtbMC4wNTUyNzc5OTk5OTk5OTk5OTQsIDUxLjUwNTI4XSwgWzQuNzYzODg5LCA1Mi4zMDg2MDk5OTk5OTk5OTRdXSwgW1sxMTYuOSwgLTEuMjY2NjY3XSwgWzEwNi42NTU4LCAtNi4xMjU1NTZdXSwgW1stNzMuODY2NjcsIDQwLjc2NjY3XSwgWy04MC45MzMzMywgMzUuMjE2NjddXSwgW1szNy44ODU4MywgNTUuNDE5NDVdLCBbMzAuMDUsIDU5Ljk1XV0sIFtbMzcuNDE0NzIsIDU1Ljk3Mjc4MDAwMDAwMDAxXSwgWzMwLjA1LCA1OS45NV1dLCBbWzMwLjgsIDM2LjkxNjY3XSwgWzI5LjMwOTE3LCA0MC44OTg2MV1dLCBbWzExNi41ODQ0LCA0MC4wNjMzM10sIFsxMDIuNzQzNiwgMjQuOTkyNV1dLCBbWzI5LjMwOTE3LCA0MC44OTg2MV0sIFszMC44LCAzNi45MTY2N11dLCBbWzEwMi43NDM2LCAyNC45OTI1XSwgWzExNi41ODQ0LCA0MC4wNjMzM11dLCBbWy05NS4zNDEzOSwgMjkuOTg0NDQwMDAwMDAwMDAzXSwgWy05Ny4wMzgwNiwgMzIuODk2OTRdXSwgW1sxMDYuNjU1OCwgLTYuMTI1NTU2XSwgWzExMC4zODMzLCAtNi45ODMzMzNdXSwgW1stODQuNDI4MDUsIDMzLjYzNjY3XSwgWy04MS4zMDg4OSwgMjguNDI5NDQwMDAwMDAwMDAzXV0sIFtbMTE4LjM0NDQsIDI0LjQyMDU2MDAwMDAwMDAwMl0sIFsxMjEuNTUyNSwgMjUuMDY5NzJdXSwgW1syLjczMzMzMywgMzkuNTVdLCBbLTMuNTY2NjY3LCA0MC40NjY2N11dLCBbWzI5LjMwOTE3LCA0MC44OTg2MV0sIFszMy4wLCA0MC4xMzMzM11dLCBbWzMwLjA1LCA1OS45NV0sIFszNy44ODU4MywgNTUuNDE5NDVdXSwgW1szMC4wNSwgNTkuOTVdLCBbMzcuNDE0NzIsIDU1Ljk3Mjc4MDAwMDAwMDAxXV0sIFtbLTkwLjM3LCAzOC43NDg2MV0sIFstODcuOTA0NzIsIDQxLjk3ODYwOTk5OTk5OTk5Nl1dLCBbWy0xNTkuMzUsIDIxLjk4MzMzXSwgWy0xNTcuOTMzMywgMjEuMzMzMzNdXSwgW1stNzMuMTUsIDcuMV0sIFstNzQuMTM4MzQsIDQuNzAzMDU2XV0sIFtbMi43MzMzMzMsIDM5LjU1XSwgWzIuMDgzMzMzLCA0MS4zXV0sIFtbLTgxLjg1LCA0MS40MTY2N10sIFstODcuOTA0NzIsIDQxLjk3ODYwOTk5OTk5OTk5Nl1dLCBbWzI5LjMwOTE3LCA0MC44OTg2MV0sIFsyNy4xNTY5NDAwMDAwMDAwMDIsIDM4LjI5MjVdXSwgW1stODAuOTMzMzMsIDM1LjIxNjY3XSwgWy03My44NjY2NywgNDAuNzY2NjddXSwgW1stMTIyLjMwOTQsIDQ3LjQ0ODg5MDAwMDAwMDAwNl0sIFstMTEyLjAzMzMsIDMzLjQzMzMzXV0sIFtbMTMuMDkxMTEsIDM4LjE3NTgzXSwgWzEyLjI1MDgzLCA0MS44MDQ0NF1dLCBbWzE0OS4xOTUsIC0zNS4zMDY5NV0sIFsxNTEuMTc3MiwgLTMzLjk0NjExXV0sIFtbOS45ODMzMzMsIDUzLjYzMzMzMDAwMDAwMDAxXSwgWzExLjc4MzMzLCA0OC4zNV1dLCBbWzEwMy45NDcyLCAzMC41Nzg2MDk5OTk5OTk5OThdLCBbMTIxLjgwNTMsIDMxLjE0MzMzXV0sIFtbMTAxLjcxLCAyLjc0NTU1Nl0sIFs5OS43Mjg2MSwgNi4zMjk3MjJdXSwgW1stMTE3LjE4MzMsIDMyLjczMzMzXSwgWy0xMjIuMzc1LCAzNy42MTg4OV1dLCBbWzEyNy44MzMzLCAyNi4zMzMzM10sIFsxMzkuNzc5NywgMzUuNTUyMjJdXSwgW1swLjA1NTI3Nzk5OTk5OTk5OTk5NCwgNTEuNTA1MjhdLCBbLTMuMzUsIDU1Ljk1XV0sIFtbMTQ3LjUxMDMsIC00Mi44MzYxMV0sIFsxNDQuODQzMywgLTM3LjY3MzMzXV0sIFtbNzcuMTE4MDYsIDI4LjU2OTQ0MDAwMDAwMDAwNF0sIFs4OC40MzMzMywgMjIuNjMzMzI5OTk5OTk5OTk3XV0sIFtbMTMxLjAzNSwgMzMuODQ1NTVdLCBbMTM5Ljc3OTcsIDM1LjU1MjIyXV0sIFtbMTQ1Ljc1LCAtMTYuODgzMzI5OTk5OTk5OTk3XSwgWzE1My4xMTY3LCAtMjcuMzgzMzI5OTk5OTk5OTk3XV0sIFtbMTUxLjE3NzIsIC0zMy45NDYxMV0sIFsxNDkuMTk1LCAtMzUuMzA2OTVdXSwgW1sxMjAuMzE2NywgMzYuMV0sIFsxMTYuNTg0NCwgNDAuMDYzMzNdXSwgW1s4LjU0MzA1NiwgNTAuMDI2MzldLCBbLTAuNDUxMzg5MDAwMDAwMDAwMDQsIDUxLjQ2OTcyXV0sIFtbMjcuMTU2OTQwMDAwMDAwMDAyLCAzOC4yOTI1XSwgWzI5LjMwOTE3LCA0MC44OTg2MV1dLCBbWy0xMDQuNjczMSwgMzkuODYxNjcwMDAwMDAwMDA0XSwgWy0xMjIuMzc1LCAzNy42MTg4OV1dLCBbWzEwOC43NTE3LCAzNC40NDcyMl0sIFsxMjEuODA1MywgMzEuMTQzMzNdXSwgW1stNzEuOTY2NjcsIC0xMy41MzMzM10sIFstNzcuMTE0NDQsIC0xMi4wMjE5Mzk5OTk5OTk5OTldXSwgW1s5LjIsIDQ4LjY4MzMzXSwgWzEzLjI4OTQzOTk5OTk5OTk5OSwgNTIuNTYxMTFdXSwgW1stNzEuMCwgNDIuMzYzMDZdLCBbLTg0LjQyODA1LCAzMy42MzY2N11dLCBbWzQ5Ljc5Nzc3OTk5OTk5OTk5NiwgMjYuNDcxMTA5OTk5OTk5OTk2XSwgWzM5LjE1NjY3LCAyMS42Nzk0NF1dLCBbWzEyMC4yODMzLCAzMC4zXSwgWzEwOC43NTE3LCAzNC40NDcyMl1dLCBbWzEzOS43Nzk3LCAzNS41NTIyMl0sIFsxNDEuNjY2NywgNDIuOF1dLCBbWy0xMTguNDA3MiwgMzMuOTQyNV0sIFstMTIyLjIxNjcsIDM3LjcxNjY3XV0sIFtbLTE0OS45OTY0LCA2MS4xNzQ0NDAwMDAwMDAwMDRdLCBbLTEyMi4zMDk0LCA0Ny40NDg4OTAwMDAwMDAwMDZdXSwgW1stNDYuNDY5NDQwMDAwMDAwMDA2LCAtMjMuNDMxOTRdLCBbLTM4LjMzMDk5OTk5OTk5OTk5NiwgLTEyLjkxMDldXSwgW1stNzEuMCwgNDIuMzYzMDZdLCBbLTc0LjE2ODYxLCA0MC42OTI1XV0sIFtbMjIuOTcwODMsIDQwLjUxOTcyXSwgWzIzLjk0NDQ0LCAzNy45MzYzOV1dLCBbWy0wLjQ1MTM4OTAwMDAwMDAwMDA0LCA1MS40Njk3Ml0sIFstMy4zNSwgNTUuOTVdXSwgW1sxNy45MTg2MSwgNTkuNjUxOTRdLCBbMTIuNjU1ODMsIDU1LjYxODA2XV0sIFtbLTcwLjcsIC0zMy41NTk3Ml0sIFstNjguOTE2NjYsIC0yMi40ODMzM11dLCBbWy0xMTIuMDMzMywgMzMuNDMzMzNdLCBbLTExMS45NjY3LCA0MC43ODgzM11dLCBbWzEwMy45OTQ0LCAxLjM1MDI3OF0sIFsxMjEuMDE2NywgMTQuNTE2NjcwMDAwMDAwMDAxXV0sIFtbMTE2LjU4NDQsIDQwLjA2MzMzXSwgWzEwNi42NDE3LCAyOS43MTkxNzAwMDAwMDAwMDJdXSwgW1sxMjEuNTUyNSwgMjUuMDY5NzJdLCBbMTE4LjM0NDQsIDI0LjQyMDU2MDAwMDAwMDAwMl1dLCBbWy0xMTguNDA3MiwgMzMuOTQyNV0sIFstMTE3LjE4MzMsIDMyLjczMzMzXV0sIFtbLTkwLjI1ODA2LCAyOS45OTMzM10sIFstODQuNDI4MDUsIDMzLjYzNjY3XV0sIFtbMTIxLjgwNTMsIDMxLjE0MzMzXSwgWzEzNS4yNDM5LCAzNC40MjcyMl1dLCBbWy05Ny42NywgMzAuMTk0NDQwMDAwMDAwMDA0XSwgWy05Ny4wMzgwNiwgMzIuODk2OTRdXSwgW1sxMTYuNTg0NCwgNDAuMDYzMzNdLCBbMTEyLjk1ODMsIDI4LjA3MTEwOTk5OTk5OTk5N11dLCBbWzEzLjM2NjY3MDAwMDAwMDAwMSwgNTUuNTVdLCBbMTcuOTE4NjEsIDU5LjY1MTk0XV0sIFtbLTg3LjkwNDcyLCA0MS45Nzg2MDk5OTk5OTk5OTZdLCBbLTgwLjkzMzMzLCAzNS4yMTY2N11dLCBbWy03My44NjY2NywgNDAuNzY2NjddLCBbLTgwLjE1Mjc4LCAyNi4wNzI1XV0sIFtbLTczLjc4MzMzLCA0MC42MzMzM10sIFstODAuMTUyNzgsIDI2LjA3MjVdXSwgW1sxMjIuNTQ1MywgMTAuNzEzMDZdLCBbMTIxLjAxNjcsIDE0LjUxNjY3MDAwMDAwMDAwMV1dLCBbWy00My4yNDM2MSwgLTIyLjgwODg4OTk5OTk5OTk5OF0sIFstNDYuNDY5NDQwMDAwMDAwMDA2LCAtMjMuNDMxOTRdXSwgW1stNzMuNzQwODMsIDQ1LjQ3MDU1XSwgWy03MS4zOTMzMywgNDYuNzkxMTA5OTk5OTk5OTk2XV0sIFtbMTI2LjQ5MzEsIDMzLjUwNDcyXSwgWzEyOC45MzgzLCAzNS4xNzk0NF1dLCBbWy03NS42NjkxNywgNDUuMzIyNV0sIFstNzkuMzk2MTEsIDQzLjYyNzVdXSwgW1sxMTMuMjk4OSwgMjMuMzkyNV0sIFsxMTguODYxOSwgMzEuNzQxOTQwMDAwMDAwMDAzXV0sIFtbMTAxLjcxLCAyLjc0NTU1Nl0sIFsxMDYuNjU1OCwgLTYuMTI1NTU2XV0sIFtbMTA0LjcsIC0yLjldLCBbMTA2LjY1NTgsIC02LjEyNTU1Nl1dLCBbWy05NS4zNDEzOSwgMjkuOTg0NDQwMDAwMDAwMDAzXSwgWy04NC40MjgwNSwgMzMuNjM2NjddXSwgW1sxMjEuODA1MywgMzEuMTQzMzNdLCBbMTI2LjQ1MDYsIDM3LjQ2OTE3XV0sIFtbLTEyMi4yMTY3LCAzNy43MTY2N10sIFstMTE4LjQwNzIsIDMzLjk0MjVdXSwgW1s3Mi44NjgwNiwgMTkuMDg4NjFdLCBbODAuMTc1MjgsIDEyLjk5NDcyXV0sIFtbLTkzLjIxNjk0MDAwMDAwMDAxLCA0NC44ODMzM10sIFstMTA0LjY3MzEsIDM5Ljg2MTY3MDAwMDAwMDAwNF1dLCBbWzEyMC4zMTY3LCAzNi4xXSwgWzEyNi40NTA2LCAzNy40NjkxN11dLCBbWy00Ni42NTUyOCwgLTIzLjYyNjY3XSwgWy00My45Njg4OSwgLTE5LjYzMzYxXV0sIFtbMTA2LjY0MTcsIDI5LjcxOTE3MDAwMDAwMDAwMl0sIFsxMTMuOTE2NywgMjIuNTVdXSwgW1s5OC4zMTY5NCwgOC4xMTMzMzNdLCBbMTAwLjc0NzIsIDEzLjY4MTExXV0sIFtbNzIuODY4MDYsIDE5LjA4ODYxXSwgWzcyLjYzNDcyLCAyMy4wNzcyMl1dLCBbWy0xMDQuNjczMSwgMzkuODYxNjcwMDAwMDAwMDA0XSwgWy05My4yMTY5NDAwMDAwMDAwMSwgNDQuODgzMzNdXSwgW1sxMTYuNTg0NCwgNDAuMDYzMzNdLCBbMTEzLjkxNDcsIDIyLjMwODg4OTk5OTk5OTk5OF1dLCBbWzEyMS4zNDExLCAzMS4yXSwgWzEyMC4zMTY3LCAzNi4xXV0sIFtbLTMuMzUsIDU1Ljk1XSwgWzAuMDU1Mjc3OTk5OTk5OTk5OTk0LCA1MS41MDUyOF1dLCBbWy0xMDQuNjczMSwgMzkuODYxNjcwMDAwMDAwMDA0XSwgWy0xMTguNDA3MiwgMzMuOTQyNV1dLCBbWzEwNi42NTE5LCAxMC44MTg4OV0sIFsxMDMuOTk0NCwgMS4zNTAyNzhdXSwgW1sxNy45MTg2MSwgNTkuNjUxOTRdLCBbMjIuMTIxOTQsIDY1LjU0Mzg5XV0sIFtbLTc5LjYzMDU1LCA0My42NzcyMl0sIFstMTIzLjE4MzMsIDQ5LjE5Mzg5XV0sIFtbLTk3LjAzODA2LCAzMi44OTY5NF0sIFstMTA0LjY3MzEsIDM5Ljg2MTY3MDAwMDAwMDAwNF1dLCBbWzEyMS44MDUzLCAzMS4xNDMzM10sIFsxMDMuOTQ3MiwgMzAuNTc4NjA5OTk5OTk5OTk4XV0sIFtbMTE2LjU4NDQsIDQwLjA2MzMzXSwgWzEwOC43NTE3LCAzNC40NDcyMl1dLCBbWzEzOS43Nzk3LCAzNS41NTIyMl0sIFsxMzEuMDM1LCAzMy44NDU1NV1dLCBbWzMzLjAsIDQwLjEzMzMzXSwgWzI5LjMwOTE3LCA0MC44OTg2MV1dLCBbWzEyOC45MzgzLCAzNS4xNzk0NF0sIFsxMjYuNDkzMSwgMzMuNTA0NzJdXSwgW1s1MC41LCAyNi4wXSwgWzU1LjMzMzMzMDAwMDAwMDAwNCwgMjUuMjVdXSwgW1stNzkuMzk2MTEsIDQzLjYyNzVdLCBbLTczLjc0MDgzLCA0NS40NzA1NV1dLCBbWy0xMTYuOTcwMywgMzIuNTQxMTA5OTk5OTk5OTk2XSwgWy05OS4wNzIyMiwgMTkuNDM2MzldXSwgW1stMTE4LjQwNzIsIDMzLjk0MjVdLCBbLTc0LjE2ODYxLCA0MC42OTI1XV0sIFtbOS45ODMzMzMsIDUzLjYzMzMzMDAwMDAwMDAxXSwgWzguNTQzMDU2LCA1MC4wMjYzOV1dLCBbWzEwNi42NTU4LCAtNi4xMjU1NTZdLCBbMTA0LjcsIC0yLjldXSwgW1sxMjYuNTgzMywgNDYuMDE2NjddLCBbMTE2LjU4NDQsIDQwLjA2MzMzXV0sIFtbLTExNC4wMjAzLCA1MS4xMTM4OTAwMDAwMDAwMDVdLCBbLTc5LjYzMDU1LCA0My42NzcyMl1dLCBbWy05Ny4wMzgwNiwgMzIuODk2OTRdLCBbLTk3LjY3LCAzMC4xOTQ0NDAwMDAwMDAwMDRdXSwgW1stODQuNDI4MDUsIDMzLjYzNjY3XSwgWy0xMTguNDA3MiwgMzMuOTQyNV1dLCBbWzcuMTUsIDUwLjg2NjY3XSwgWzExLjc4MzMzLCA0OC4zNV1dLCBbWzM5LjE1NjY3LCAyMS42Nzk0NF0sIFs0OS43OTc3Nzk5OTk5OTk5OTYsIDI2LjQ3MTEwOTk5OTk5OTk5Nl1dLCBbWzEyMy40MzMzLCA0MS44NzE2N10sIFsxMjEuODA1MywgMzEuMTQzMzNdXSwgW1stMTE4LjQwNzIsIDMzLjk0MjVdLCBbLTg0LjQyODA1LCAzMy42MzY2N11dLCBbWy04NC40MjgwNSwgMzMuNjM2NjddLCBbLTk1LjM0MTM5LCAyOS45ODQ0NDAwMDAwMDAwMDNdXSwgW1stODAuOTMzMzMsIDM1LjIxNjY3XSwgWy04Ny45MDQ3MiwgNDEuOTc4NjA5OTk5OTk5OTk2XV0sIFtbLTg0LjQyODA1LCAzMy42MzY2N10sIFstODAuMjY2NjY5OTk5OTk5OTksIDI1Ljc4MzMzXV0sIFtbLTc2LjY2ODMzMDAwMDAwMDAxLCAzOS4xNzUyOF0sIFstODQuNDI4MDUsIDMzLjYzNjY3XV0sIFtbLTQ3LjkxODYxLCAtMTUuODcxMTFdLCBbLTQzLjI1LCAtMjIuODMzMzNdXSwgW1sxMjEuMDE2NywgMTQuNTE2NjcwMDAwMDAwMDAxXSwgWzEwMy45OTQ0LCAxLjM1MDI3OF1dLCBbWy04Ny45MDQ3MiwgNDEuOTc4NjA5OTk5OTk5OTk2XSwgWy0xMDQuNjczMSwgMzkuODYxNjcwMDAwMDAwMDA0XV0sIFtbMTIxLjgwNTMsIDMxLjE0MzMzXSwgWzEyMS41Mzg2LCAzOC45NjU1NTk5OTk5OTk5OTZdXSwgW1stMzQuOTIzODksIC04LjEyNTgzM10sIFstNDYuNDY5NDQwMDAwMDAwMDA2LCAtMjMuNDMxOTRdXSwgW1stMTU2LjA0NTYsIDE5LjczODg4OTk5OTk5OTk5OF0sIFstMTU3LjkzMzMsIDIxLjMzMzMzXV0sIFtbNzIuODY4MDYsIDE5LjA4ODYxXSwgWzczLjg0MTY3LCAxNS41XV0sIFtbMTIuMjUwODMsIDQxLjgwNDQ0XSwgWzEzLjA5MTExLCAzOC4xNzU4M11dLCBbWy0zOC4zMzA5OTk5OTk5OTk5OTYsIC0xMi45MTA5XSwgWy00Ni40Njk0NDAwMDAwMDAwMDYsIC0yMy40MzE5NF1dLCBbWy03OS44ODM2MSwgLTIuMTU3NV0sIFstNzguNDgzMzMwMDAwMDAwMDEsIC0wLjEzMzMzMjk5OTk5OTk5OTk4XV0sIFtbLTAuNDUxMzg5MDAwMDAwMDAwMDQsIDUxLjQ2OTcyXSwgWzguNTQzMDU2LCA1MC4wMjYzOV1dLCBbWy0xMTEuOTY2NywgNDAuNzg4MzNdLCBbLTEwNC42NzMxLCAzOS44NjE2NzAwMDAwMDAwMDRdXSwgW1sxMzAuNzE5NCwgMzEuODAzMzNdLCBbMTM5Ljc3OTcsIDM1LjU1MjIyXV0sIFtbMTUzLjUsIC0yOC4xODExMDk5OTk5OTk5OTddLCBbMTQ0Ljg0MzMsIC0zNy42NzMzM11dLCBbWy03NC4xMzgzNCwgNC43MDMwNTZdLCBbLTgwLjI2NjY2OTk5OTk5OTk5LCAyNS43ODMzM11dLCBbWzExLjc4MzMzLCA0OC4zNV0sIFs2Ljc2NjY2NywgNTEuMjg5NDRdXSwgW1sxMzkuNzc5NywgMzUuNTUyMjJdLCBbMTMwLjcxOTQsIDMxLjgwMzMzXV0sIFtbMTAzLjk0NzIsIDMwLjU3ODYwOTk5OTk5OTk5OF0sIFsxMTMuMjk4OSwgMjMuMzkyNV1dLCBbWzE0NC44NDMzLCAtMzcuNjczMzNdLCBbMTE1Ljk2NjksIC0zMS45NDAyNzk5OTk5OTk5OThdXSwgW1sxMy4yODk0Mzk5OTk5OTk5OTksIDUyLjU2MTExXSwgWzguNTQzMDU2LCA1MC4wMjYzOV1dLCBbWy04MC4yNjY2Njk5OTk5OTk5OSwgMjUuNzgzMzNdLCBbLTczLjg2NjY3LCA0MC43NjY2N11dLCBbWy05OC40NjY2NywgMjkuNTMzMzNdLCBbLTk3LjAzODA2LCAzMi44OTY5NF1dLCBbWzEwNi42NTU4LCAtNi4xMjU1NTZdLCBbMTAxLjQ0NDQsIDAuNDYwODMzXV0sIFtbLTEyMi4zNzUsIDM3LjYxODg5XSwgWy03NC4xNjg2MSwgNDAuNjkyNV1dLCBbWy04NC40MjgwNSwgMzMuNjM2NjddLCBbLTgzLjM1MzMzLCA0Mi4yMTI1XV0sIFtbLTExMy41Nzk3LCA1My4zMDk3Ml0sIFstMTIzLjE4MzMsIDQ5LjE5Mzg5XV0sIFtbLTg5Ljk2NjY3LCAzNS4wNjY2N10sIFstODQuNDI4MDUsIDMzLjYzNjY3XV0sIFtbMTAwLjc0NzIsIDEzLjY4MTExXSwgWzk4LjMxNjk0LCA4LjExMzMzM11dLCBbWzM5LjcxNjY3LCAyNC41MzMzM10sIFszOS4xNTY2NywgMjEuNjc5NDRdXSwgW1stMTE1LjE2NjcsIDM2LjA4MzMzXSwgWy0xMjIuMzA5NCwgNDcuNDQ4ODkwMDAwMDAwMDA2XV0sIFtbMjQuOTYzMzMsIDYwLjMxNzIxOTk5OTk5OTk5XSwgWzE3LjkxODYxLCA1OS42NTE5NF1dLCBbWy0zLjM1LCA1NS45NV0sIFstMC40NTEzODkwMDAwMDAwMDAwNCwgNTEuNDY5NzJdXSwgW1sxMjYuNDUwNiwgMzcuNDY5MTddLCBbMTIwLjMxNjcsIDM2LjFdXSwgW1sxMjAuMjgzMywgMzAuM10sIFsxMTMuOTE2NywgMjIuNTVdXSwgW1stMTA0LjY3MzEsIDM5Ljg2MTY3MDAwMDAwMDAwNF0sIFstOTcuMDM4MDYsIDMyLjg5Njk0XV0sIFtbLTExMi4wMzMzLCAzMy40MzMzM10sIFstODcuOTA0NzIsIDQxLjk3ODYwOTk5OTk5OTk5Nl1dLCBbWzMzLjAsIDQwLjEzMzMzXSwgWzI4LjgyMTEwOTk5OTk5OTk5NywgNDAuOTc2OTRdXSwgW1s5Ljg1LCA1Ny4xXSwgWzEyLjY1NTgzLCA1NS42MTgwNl1dLCBbWy0xMTEuOTY2NywgNDAuNzg4MzNdLCBbLTExMi4wMzMzLCAzMy40MzMzM11dLCBbWzguNTQzMDU2LCA1MC4wMjYzOV0sIFsxMy4yODk0Mzk5OTk5OTk5OTksIDUyLjU2MTExXV0sIFtbLTE1Ny45MzMzLCAyMS4zMzMzM10sIFstMTU1LjA1LCAxOS43MTY2N11dLCBbWy02Ni4wMDE5NSwgMTguNDM5NDRdLCBbLTczLjc4MzMzLCA0MC42MzMzM11dLCBbWzEyMS44MDUzLCAzMS4xNDMzM10sIFsxMjYuNTgzMywgNDYuMDE2NjddXSwgW1sxMzUuMjQzOSwgMzQuNDI3MjJdLCBbMTEzLjkxNDcsIDIyLjMwODg4OTk5OTk5OTk5OF1dLCBbWy0xNTUuMDUsIDE5LjcxNjY3XSwgWy0xNTcuOTMzMywgMjEuMzMzMzNdXSwgW1stNzQuMTY4NjEsIDQwLjY5MjVdLCBbLTgwLjE1Mjc4LCAyNi4wNzI1XV0sIFtbMTIxLjIyMzksIDI1LjA3Nzc3OTk5OTk5OTk5N10sIFsxMzUuMjQzOSwgMzQuNDI3MjJdXSwgW1stODQuNDI4MDUsIDMzLjYzNjY3XSwgWy05MC4yNTgwNiwgMjkuOTkzMzNdXSwgW1stNzkuNjMwNTUsIDQzLjY3NzIyXSwgWy0xMTQuMDIwMywgNTEuMTEzODkwMDAwMDAwMDA1XV0sIFtbLTExNS4xNjY3LCAzNi4wODMzM10sIFstMTEyLjAzMzMsIDMzLjQzMzMzXV0sIFtbMzAuOTUwNTYsIC0yOS45N10sIFsyOC4yNDYxMDk5OTk5OTk5OTgsIC0yNi4xMzkxN11dLCBbWy0xMTguNDA3MiwgMzMuOTQyNV0sIFstMTU3LjkzMzMsIDIxLjMzMzMzXV0sIFtbLTk3LjAzODA2LCAzMi44OTY5NF0sIFstOTguNDY2NjcsIDI5LjUzMzMzXV0sIFtbLTQ2LjQ2OTQ0MDAwMDAwMDAwNiwgLTIzLjQzMTk0XSwgWy00My4yNDM2MSwgLTIyLjgwODg4OTk5OTk5OTk5OF1dLCBbWzEwMi43ODgzLCAxNy4zODYzOV0sIFsxMDAuNjA2NywgMTMuOTEyNV1dLCBbWzE1MS4xNzcyLCAtMzMuOTQ2MTFdLCBbMTc0Ljc5MTcsIC0zNy4wMDgwNl1dLCBbWy02OC45MTY2NiwgLTIyLjQ4MzMzXSwgWy03MC43LCAtMzMuNTU5NzJdXSwgW1stNTEuMTcxMzksIC0yOS45ODQ0NDAwMDAwMDAwMDNdLCBbLTQ2LjY1NTI4LCAtMjMuNjI2NjddXSwgW1stNTEuMTcxMzksIC0yOS45ODQ0NDAwMDAwMDAwMDNdLCBbLTQ2LjQ2OTQ0MDAwMDAwMDAwNiwgLTIzLjQzMTk0XV0sIFtbMjguMjQ2MTA5OTk5OTk5OTk4LCAtMjYuMTM5MTddLCBbMzAuOTUwNTYsIC0yOS45N11dLCBbWy0xMTguNDA3MiwgMzMuOTQyNV0sIFstMTA0LjY3MzEsIDM5Ljg2MTY3MDAwMDAwMDAwNF1dLCBbWzExMy45MTQ3LCAyMi4zMDg4ODk5OTk5OTk5OThdLCBbMTM1LjI0MzksIDM0LjQyNzIyXV0sIFtbLTg3LjkwNDcyLCA0MS45Nzg2MDk5OTk5OTk5OTZdLCBbLTc1LjI0MTEwOTk5OTk5OTk5LCAzOS44NzE5NF1dLCBbWzEwMC4yODA2LCAtMC43ODY5NDRdLCBbMTA2LjY1NTgsIC02LjEyNTU1Nl1dLCBbWy04Mi41MzMwNTk5OTk5OTk5OSwgMjcuOTc1NTU5OTk5OTk5OTk4XSwgWy04NC40MjgwNSwgMzMuNjM2NjddXSwgW1sxMjAuMzE2NywgMzYuMV0sIFsxMjEuMzQxMSwgMzEuMl1dLCBbWy04Ny45MDQ3MiwgNDEuOTc4NjA5OTk5OTk5OTk2XSwgWy03NC4xNjg2MSwgNDAuNjkyNV1dXSwgInR5cGUiOiAiTXVsdGlMaW5lU3RyaW5nIn0pOwogICAgICAgIAo8L3NjcmlwdD4=\" style=\"position:absolute;width:100%;height:100%;left:0;top:0;border:none !important;\" allowfullscreen webkitallowfullscreen mozallowfullscreen></iframe></div></div>"
      ],
      "text/plain": [
       "<folium.folium.Map at 0x7f86f73c87b8>"
      ]
     },
     "execution_count": 81,
     "metadata": {},
     "output_type": "execute_result"
    }
   ],
   "source": [
    "map_osm"
   ]
  },
  {
   "cell_type": "code",
   "execution_count": null,
   "metadata": {
    "collapsed": true
   },
   "outputs": [],
   "source": []
  }
 ],
 "metadata": {
  "kernelspec": {
   "display_name": "Python 3",
   "language": "python",
   "name": "python3"
  },
  "language_info": {
   "codemirror_mode": {
    "name": "ipython",
    "version": 3
   },
   "file_extension": ".py",
   "mimetype": "text/x-python",
   "name": "python",
   "nbconvert_exporter": "python",
   "pygments_lexer": "ipython3",
   "version": "3.7.0"
  }
 },
 "nbformat": 4,
 "nbformat_minor": 2
}
